{
 "cells": [
  {
   "cell_type": "markdown",
   "metadata": {
    "toc": true
   },
   "source": [
    "<h1>Table of Contents<span class=\"tocSkip\"></span></h1>\n",
    "<div class=\"toc\"><ul class=\"toc-item\"></ul></div>"
   ]
  },
  {
   "cell_type": "markdown",
   "metadata": {},
   "source": [
    "# Chapter 3"
   ]
  },
  {
   "cell_type": "code",
   "execution_count": 68,
   "metadata": {
    "ExecuteTime": {
     "end_time": "2020-01-02T09:47:00.025912Z",
     "start_time": "2020-01-02T09:46:56.199761Z"
    }
   },
   "outputs": [],
   "source": [
    "import numpy as np\n",
    "import matplotlib.pyplot as plt\n",
    "import pandas as pd\n",
    "from urllib.request import urlretrieve\n",
    "from io import StringIO\n",
    "import geopandas as gpd\n",
    "from shapely.geometry import Point\n",
    "import folium"
   ]
  },
  {
   "cell_type": "code",
   "execution_count": 4,
   "metadata": {
    "ExecuteTime": {
     "end_time": "2020-01-02T08:52:21.020322Z",
     "start_time": "2020-01-02T08:52:19.389588Z"
    }
   },
   "outputs": [
    {
     "name": "stdout",
     "output_type": "stream",
     "text": [
      "<class 'geopandas.geodataframe.GeoDataFrame'>\n",
      "RangeIndex: 288 entries, 0 to 287\n",
      "Data columns (total 2 columns):\n",
      "name        288 non-null object\n",
      "geometry    288 non-null geometry\n",
      "dtypes: geometry(1), object(1)\n",
      "memory usage: 4.6+ KB\n"
     ]
    }
   ],
   "source": [
    "neighborhoods_path = 'https://assets.datacamp.com/production/repositories/2409/datasets/a534dea1e6a99373a5a8e9c2060ad8fb6b74e13c/neighborhoods.geojson' \n",
    "neighborhoods = gpd.read_file(neighborhoods_path)\n",
    "neighborhoods.info()"
   ]
  },
  {
   "cell_type": "code",
   "execution_count": 18,
   "metadata": {
    "ExecuteTime": {
     "end_time": "2020-01-02T08:59:20.356238Z",
     "start_time": "2020-01-02T08:59:20.341418Z"
    }
   },
   "outputs": [],
   "source": [
    "idx = neighborhoods.name.str.match('.*Urban.*')\n",
    "urban_polygon = neighborhoods[idx].set_index('name')"
   ]
  },
  {
   "cell_type": "code",
   "execution_count": 19,
   "metadata": {
    "ExecuteTime": {
     "end_time": "2020-01-02T08:59:21.252611Z",
     "start_time": "2020-01-02T08:59:21.072616Z"
    }
   },
   "outputs": [
    {
     "name": "stdout",
     "output_type": "stream",
     "text": [
      "                                                          geometry\n",
      "name                                                              \n",
      "Urban Residents  (POLYGON ((-86.78122053774267 36.1645653773768...\n",
      "                                                          geometry\n",
      "name                                                              \n",
      "Urban Residents  (POLYGON ((-9660441.280680289 4323289.00479539...\n",
      "The area of the Urban Residents neighborhood is  1.1289896057982676  km squared\n"
     ]
    }
   ],
   "source": [
    "# Print the head of the urban polygon \n",
    "print(urban_polygon.head())\n",
    "\n",
    "# Create a copy of the urban_polygon using EPSG:3857 and print the head\n",
    "urban_poly_3857 = urban_polygon.to_crs(epsg = 3857)\n",
    "print(urban_poly_3857.head())\n",
    "\n",
    "# Print the area of urban_poly_3857 in kilometers squared\n",
    "area = urban_poly_3857.geometry.area / 10**6\n",
    "print('The area of the Urban Residents neighborhood is ', area[0], ' km squared')"
   ]
  },
  {
   "cell_type": "code",
   "execution_count": 29,
   "metadata": {
    "ExecuteTime": {
     "end_time": "2020-01-02T09:11:53.424764Z",
     "start_time": "2020-01-02T09:11:53.411379Z"
    }
   },
   "outputs": [
    {
     "data": {
      "text/plain": [
       "geopandas.geoseries.GeoSeries"
      ]
     },
     "execution_count": 29,
     "metadata": {},
     "output_type": "execute_result"
    }
   ],
   "source": [
    "type(urban_poly_3857.geometry.centroid)"
   ]
  },
  {
   "cell_type": "code",
   "execution_count": 30,
   "metadata": {
    "ExecuteTime": {
     "end_time": "2020-01-02T09:12:37.486558Z",
     "start_time": "2020-01-02T09:12:36.861162Z"
    }
   },
   "outputs": [
    {
     "name": "stdout",
     "output_type": "stream",
     "text": [
      "<class 'geopandas.geoseries.GeoSeries'>\n"
     ]
    },
    {
     "data": {
      "image/png": "[encoded data removed]",
      "text/plain": [
       "<Figure size 432x288 with 1 Axes>"
      ]
     },
     "metadata": {
      "needs_background": "light"
     },
     "output_type": "display_data"
    }
   ],
   "source": [
    "# Create downtown_center from urban_poly_3857\n",
    "downtown_center = urban_poly_3857.geometry.centroid\n",
    "\n",
    "# Print the type of downtown_center \n",
    "print(type(downtown_center))\n",
    "\n",
    "# Plot the urban_poly_3857 as ax and add the center point\n",
    "ax = urban_poly_3857.plot(color = 'lightgreen')\n",
    "downtown_center.plot(ax = ax, color = 'black')\n",
    "plt.xticks(rotation = 45)\n",
    "\n",
    "# Show the plot\n",
    "plt.show()"
   ]
  },
  {
   "cell_type": "code",
   "execution_count": 35,
   "metadata": {
    "ExecuteTime": {
     "end_time": "2020-01-02T09:18:36.897940Z",
     "start_time": "2020-01-02T09:18:36.349759Z"
    }
   },
   "outputs": [
    {
     "name": "stdout",
     "output_type": "stream",
     "text": [
      "<class 'pandas.core.frame.DataFrame'>\n",
      "RangeIndex: 132 entries, 0 to 131\n",
      "Data columns (total 11 columns):\n",
      "title         132 non-null object\n",
      "last_name     132 non-null object\n",
      "first_name    122 non-null object\n",
      "address       131 non-null object\n",
      "medium        128 non-null object\n",
      "type          132 non-null object\n",
      "desc          87 non-null object\n",
      "lat           132 non-null float64\n",
      "lng           132 non-null float64\n",
      "loc           132 non-null object\n",
      "geometry      132 non-null object\n",
      "dtypes: float64(2), object(9)\n",
      "memory usage: 11.4+ KB\n"
     ]
    }
   ],
   "source": [
    "art_path = 'https://assets.datacamp.com/production/repositories/2409/datasets/284dd5ef16418d161af519d30ecc8471a23210ea/public_art.csv'\n",
    "art = pd.read_csv(art_path)\n",
    "art.columns = ['title', 'last_name', 'first_name', 'address', 'medium', 'type', 'desc', 'lat', 'lng', 'loc']\n",
    "art['geometry'] = art.apply(lambda x: Point((x.lng, x.lat)), axis=1)\n",
    "art.info()"
   ]
  },
  {
   "cell_type": "code",
   "execution_count": 49,
   "metadata": {
    "ExecuteTime": {
     "end_time": "2020-01-02T09:24:05.252832Z",
     "start_time": "2020-01-02T09:24:05.246999Z"
    }
   },
   "outputs": [],
   "source": [
    "center_point = downtown_center['Urban Residents']"
   ]
  },
  {
   "cell_type": "code",
   "execution_count": 50,
   "metadata": {
    "ExecuteTime": {
     "end_time": "2020-01-02T09:24:34.010220Z",
     "start_time": "2020-01-02T09:24:33.780044Z"
    }
   },
   "outputs": [
    {
     "name": "stdout",
     "output_type": "stream",
     "text": [
      "                             title last_name first_name  \\\n",
      "0          [Cross Country Runners]     Frost      Miley   \n",
      "1  [Fourth and Commerce Sculpture]    Walker        Lin   \n",
      "\n",
      "                             address  medium       type desc       lat  \\\n",
      "0     4001 Harding Rd., Nashville TN  Bronze  Sculpture  NaN  36.12856   \n",
      "1  333 Commerce Street, Nashville TN     NaN  Sculpture  NaN  36.16234   \n",
      "\n",
      "        lng                    loc                             geometry  \n",
      "0 -86.83660   (36.12856, -86.8366)            POINT (-86.8366 36.12856)  \n",
      "1 -86.77774  (36.16234, -86.77774)  POINT (-86.77774000000001 36.16234)  \n",
      "                             title last_name first_name  \\\n",
      "0          [Cross Country Runners]     Frost      Miley   \n",
      "1  [Fourth and Commerce Sculpture]    Walker        Lin   \n",
      "\n",
      "                             address  medium       type desc       lat  \\\n",
      "0     4001 Harding Rd., Nashville TN  Bronze  Sculpture  NaN  36.12856   \n",
      "1  333 Commerce Street, Nashville TN     NaN  Sculpture  NaN  36.16234   \n",
      "\n",
      "        lng                    loc  \\\n",
      "0 -86.83660   (36.12856, -86.8366)   \n",
      "1 -86.77774  (36.16234, -86.77774)   \n",
      "\n",
      "                                       geometry  \n",
      "0   POINT (-9666606.09421918 4318325.479300268)  \n",
      "1  POINT (-9660053.828991087 4322982.159062029)  \n"
     ]
    }
   ],
   "source": [
    "# Import packages\n",
    "from shapely.geometry import Point\n",
    "import geopandas as gpd\n",
    "import pandas as pd\n",
    "\n",
    "# Create art_dist_meters using art and the geometry from art\n",
    "art_dist_meters = gpd.GeoDataFrame(art, geometry = art.geometry, crs = {'init': 'epsg:4326'})\n",
    "print(art_dist_meters.head(2))\n",
    "\n",
    "# Set the crs of art_dist_meters to use EPSG:3857\n",
    "art_dist_meters.geometry = art_dist_meters.geometry.to_crs(epsg = 3857)\n",
    "print(art_dist_meters.head(2))\n",
    "\n",
    "# Add a column to art_meters, center\n",
    "art_dist_meters['center'] = center_point"
   ]
  },
  {
   "cell_type": "code",
   "execution_count": 53,
   "metadata": {
    "ExecuteTime": {
     "end_time": "2020-01-02T09:29:22.116064Z",
     "start_time": "2020-01-02T09:29:22.034698Z"
    }
   },
   "outputs": [
    {
     "name": "stdout",
     "output_type": "stream",
     "text": [
      "{'12th & Porter Mural': 1269.150287911304,\n",
      " 'A Splash of Color': 2471.774738456058,\n",
      " 'A Story of Nashville': 513.5632030476819,\n",
      " 'Aerial Innovations Mural': 4516.755210409467,\n",
      " 'Airport Sun Project': 12797.594229782726,\n",
      " 'Andrew Jackson': 948.9812821666546,\n",
      " 'Angel': 10202.565989737886,\n",
      " 'Anticipation': 688.8349105300488,\n",
      " 'April Baby': 4779.394424948614,\n",
      " 'Arial Triangle [from the Gravity Series]': 4315.322141144408,\n",
      " 'Ariel': 4380.9277739551535,\n",
      " 'Athena Parthenos': 4294.778095688652,\n",
      " 'Benedictio': 5313.6242142909305,\n",
      " 'Bicycle Bus-Green Fleet': 468.0828635562599,\n",
      " 'Blowing Bubbles': 10202.565989737886,\n",
      " 'Breaking Bread': 1279.2562933073418,\n",
      " 'Building a Positive Community': 2253.4179974184162,\n",
      " 'Can-Do': 5648.086322079543,\n",
      " 'Chet Atkins': 604.4489448122729,\n",
      " \"Children's Chairs For The Seasons\": 513.5632030476819,\n",
      " 'Confederate Memorial': 5313.6242142909305,\n",
      " 'Confederate Private Monument': 4316.459103418228,\n",
      " 'Confluence': 2918.5244121040123,\n",
      " 'Cool Fences': 6491.846030114518,\n",
      " 'Dancing on Air': 12740.992598287772,\n",
      " 'Demonbreun Hill Mural': 1836.7455415569827,\n",
      " 'Dragon Wall Mural': 4202.685636640457,\n",
      " 'Eastside Mural': 3844.041903570087,\n",
      " 'Ed and Bernice Johnson and Mary': 4386.085951502452,\n",
      " 'Edward Ward Carmack': 887.5850208679934,\n",
      " 'Flights of Fantasy': 12774.657736779893,\n",
      " 'Foliated Scroll': 513.5632030476819,\n",
      " 'Founding Fathers Cenotaph': 3106.062795906691,\n",
      " 'Founding of Nashville': 524.6437333072762,\n",
      " 'Furman Monument': 5313.6242142909305,\n",
      " 'Gold Star Monument to World War I Veterans': 4357.379534875835,\n",
      " 'Gone Fishing': 530.6161882463074,\n",
      " 'Happy Times at The Arcade': 569.4912044254033,\n",
      " 'Headstones': 2096.751007939881,\n",
      " 'Hillsboro Village Mural': 3866.5643774094156,\n",
      " 'History in Stained Glass': 3106.062795906691,\n",
      " 'I BELIEVE IN NASHVILLE 12 South': 5441.609262188391,\n",
      " 'I BELIEVE IN NASHVILLE East Nashville': 8331.604019729753,\n",
      " 'I BELIEVE IN NASHVILLE North Nashville': 2244.8376787609695,\n",
      " 'In Concert': 11872.744952002562,\n",
      " 'Industry - The TVA Group': 3656.412714579569,\n",
      " 'Industry, Agriculture, Commerce, Statesmanship': 873.7828608607142,\n",
      " 'Isabella': 854.171816064972,\n",
      " 'Isabelle and Calvin': 2371.213193450958,\n",
      " 'John L. Nolen Monument': 5313.6242142909305,\n",
      " 'John W. Thomas': 4357.379534875835,\n",
      " 'Johnny Cash Mural': 502.91164121917944,\n",
      " 'La Storia della Terra': 513.5632030476819,\n",
      " 'Lane Motor Museum': 5605.468565677018,\n",
      " 'Les Paul Guitar Mural': 333.5369487984304,\n",
      " 'Library Doors': 513.5632030476819,\n",
      " 'Lightning Wire Fountain': 153.94805946040594,\n",
      " 'M&M Furniture-Riverside Village': 8405.315599596674,\n",
      " 'Major General William Bate Monument': 5313.6242142909305,\n",
      " 'Maybelle Carter': 1449.4929582004697,\n",
      " 'Migration': 5499.186846245136,\n",
      " 'Music City Center - Art Collection': 621.0235475280612,\n",
      " 'Nashville, A History through Maps and Aerial Views': 513.5632030476819,\n",
      " 'Oh, Roy': 73.56377211491781,\n",
      " 'Orpheus and Eurydice': 253.3046306538998,\n",
      " 'Our Past, Your Future': 5897.465650991883,\n",
      " 'Owen Bradley': 2053.095133332822,\n",
      " 'Paint Waterfalls': 3004.7099763356696,\n",
      " 'Parthenon East Pediment': 4244.824359400502,\n",
      " 'Parthenon West Pediment': 4334.959058292594,\n",
      " 'Phillips Monument': 5313.6242142909305,\n",
      " 'Phillips Toy Mart': 13065.826512552008,\n",
      " 'Phoenix': 4386.085951502452,\n",
      " 'Piecing It All Together': 522.7121179970488,\n",
      " 'Pioneer Family - The Mountain Group': 976.2784909557037,\n",
      " 'Polarbears with Snowballs': 2771.446344838217,\n",
      " 'President Andrew Johnson': 874.1410051795453,\n",
      " 'Raccoons and the Magic Horseshoes': 10483.431746972783,\n",
      " 'Rolf and Daughters Mural': 2820.0250532131067,\n",
      " 'Rolling Hills': 18155.93345480594,\n",
      " 'Rose on 65th Street': 854.171816064972,\n",
      " 'Roy Orbison Tribute Statue': 2311.007529785948,\n",
      " 'Safe Haven Family Shelter Mural': 2836.084807275282,\n",
      " 'Sam Davis': 7970.643430837719,\n",
      " 'Sam Davis of Tennessee': 913.6890525953299,\n",
      " 'Samaritan': 10202.565989737886,\n",
      " 'Sea Serpent': 4633.847427014083,\n",
      " 'Sergeant Alvin C. York': 829.6197273628281,\n",
      " 'Servant or Master': 4223.17329846267,\n",
      " 'Sir Draco Star (a.k.a Eli)': 1386.19923403893,\n",
      " 'Soldier and Farmer - The Equestrian Group': 1026.196554772308,\n",
      " 'Something in the Air': 4008.9647617829596,\n",
      " 'St. George and the Maiden': 10202.565989737886,\n",
      " 'St. Vincent de Paul': 3399.951163441487,\n",
      " 'Statue of Dr. W. E. B. Dubois': 3131.6307094018703,\n",
      " 'Stay Tuned': 2536.216308259983,\n",
      " 'Teacher and Student': 7970.643430837719,\n",
      " \"Tennessee Confederate Women's Memorial\": 747.6388184116021,\n",
      " 'Tennessee Falls': 723.1715247358953,\n",
      " 'Tennessee Korean War Memorial': 712.1168144815305,\n",
      " \"Tennessee Vietnam Veteran's Memorial\": 735.2390623405063,\n",
      " 'Tennessee WWII Memorial': 1927.145379716527,\n",
      " 'The Birth of Apollo': 246.5511901441939,\n",
      " 'The Flutist': 292.6207753940372,\n",
      " 'The Peace Monument': 6634.100930793534,\n",
      " 'The Prince': 513.5632030476819,\n",
      " 'The Readers': 7902.4295411920975,\n",
      " 'The Recording Angel': 353.1957582058507,\n",
      " 'The Three Graces': 1073.7183646581948,\n",
      " 'The Waterfall Mural': 3141.6428548254353,\n",
      " 'Thomas Gleen Ryman': 53.09549558701262,\n",
      " 'Threshold': 714.6470564975938,\n",
      " 'Timeless': 195.45154728844403,\n",
      " 'Timothy Demonbreun': 739.7424895039196,\n",
      " 'Tomatoes': 5712.321996392126,\n",
      " 'Tommy Owen': 7970.643430837719,\n",
      " 'Two Musicians': 3844.041903570087,\n",
      " 'Untitled': 9605.27221898693,\n",
      " 'Vanderbilt University - Public Collection': 3580.042166501059,\n",
      " 'Various': 2603.628494735187,\n",
      " 'Victory': 811.941918435662,\n",
      " 'Voices Gathering': 3573.019493480506,\n",
      " 'Volume': 3369.1201015786637,\n",
      " 'Warner Monument': 5313.6242142909305,\n",
      " 'Waveform: Pan American Blues': 12715.668863372164,\n",
      " 'We Are Our Stories': 4997.655053540111,\n",
      " 'Welcome to Flatrock': 10831.864322892332,\n",
      " 'Wind Reeds': 12760.076942280702,\n",
      " 'Women Suffrage Memorial': 887.5850208679934,\n",
      " 'Youth Opportunity Center-STARS Nashville - Peace Jam mural': 2407.485070259231,\n",
      " '[Cross Country Runners]': 7970.643430837719,\n",
      " '[Fourth and Commerce Sculpture]': 147.67163378820229}\n"
     ]
    }
   ],
   "source": [
    "# Import package for pretty printing\n",
    "import pprint\n",
    "\n",
    "# Build a dictionary of titles and distances for Urban Residents art\n",
    "art_distances = {}\n",
    "for row in art_dist_meters.iterrows():\n",
    "    vals = row[1]\n",
    "    key = vals['title']\n",
    "    ctr = vals['center']\n",
    "    art_distances[key] = vals['geometry'].distance(ctr)\n",
    "\n",
    "# Pretty print the art_distances\n",
    "pprint.pprint(art_distances)"
   ]
  },
  {
   "cell_type": "code",
   "execution_count": 60,
   "metadata": {
    "ExecuteTime": {
     "end_time": "2020-01-02T09:42:19.036842Z",
     "start_time": "2020-01-02T09:42:19.026235Z"
    }
   },
   "outputs": [],
   "source": [
    "urban_polygon['center'] = urban_polygon['geometry'].centroid"
   ]
  },
  {
   "cell_type": "code",
   "execution_count": 66,
   "metadata": {
    "ExecuteTime": {
     "end_time": "2020-01-02T09:45:27.947792Z",
     "start_time": "2020-01-02T09:45:27.926453Z"
    }
   },
   "outputs": [
    {
     "name": "stdout",
     "output_type": "stream",
     "text": [
      "                                                          geometry  \\\n",
      "name                                                                 \n",
      "Urban Residents  (POLYGON ((-86.78122053774267 36.1645653773768...   \n",
      "\n",
      "                                                       center  \n",
      "name                                                           \n",
      "Urban Residents  POINT (-86.77756457127047 36.16127820928791)  \n",
      "POINT (-86.77756457127047 36.16127820928791)\n",
      "[36.161278209287914, -86.77756457127047]\n"
     ]
    }
   ],
   "source": [
    "# Print the head of the urban_polygon\n",
    "print(urban_polygon.head())\n",
    "\n",
    "# Create urban_center from the urban_polygon center\n",
    "urban_center = urban_polygon.center[0]\n",
    "\n",
    "# Print urban_center\n",
    "print(urban_center)\n",
    "\n",
    "# Create array for folium called urban_location\n",
    "urban_location = [urban_center.y, urban_center.x]\n",
    "\n",
    "# Print urban_location\n",
    "print(urban_location)"
   ]
  },
  {
   "cell_type": "code",
   "execution_count": 69,
   "metadata": {
    "ExecuteTime": {
     "end_time": "2020-01-02T09:47:04.709449Z",
     "start_time": "2020-01-02T09:47:04.630746Z"
    }
   },
   "outputs": [
    {
     "data": {
      "text/html": [
       "<div style=\"width:100%;\"><div style=\"position:relative;width:100%;height:0;padding-bottom:60%;\"><iframe src=\"data:text/html;charset=utf-8;base64,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\" style=\"position:absolute;width:100%;height:100%;left:0;top:0;border:none !important;\" allowfullscreen webkitallowfullscreen mozallowfullscreen></iframe></div></div>"
      ],
      "text/plain": [
       "<folium.folium.Map at 0x1260fde80>"
      ]
     },
     "metadata": {},
     "output_type": "display_data"
    }
   ],
   "source": [
    "# Construct a folium map with urban_location\n",
    "downtown_map = folium.Map(location = urban_location, zoom_start = 15)\n",
    "\n",
    "# Display the map\n",
    "display(downtown_map)"
   ]
  },
  {
   "cell_type": "code",
   "execution_count": 70,
   "metadata": {
    "ExecuteTime": {
     "end_time": "2020-01-02T09:48:55.112109Z",
     "start_time": "2020-01-02T09:48:55.019342Z"
    }
   },
   "outputs": [
    {
     "data": {
      "text/html": [
       "<div style=\"width:100%;\"><div style=\"position:relative;width:100%;height:0;padding-bottom:60%;\"><iframe src=\"data:text/html;charset=utf-8;base64,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\" style=\"position:absolute;width:100%;height:100%;left:0;top:0;border:none !important;\" allowfullscreen webkitallowfullscreen mozallowfullscreen></iframe></div></div>"
      ],
      "text/plain": [
       "<folium.folium.Map at 0x1268e00f0>"
      ]
     },
     "metadata": {},
     "output_type": "display_data"
    }
   ],
   "source": [
    "# Create array for called folium_loc from the urban_polygon center point\n",
    "point = urban_polygon.center[0]\n",
    "folium_loc = [point.y, point.x]\n",
    "\n",
    "# Construct a map from folium_loc: downtown_map\n",
    "downtown_map = folium.Map(location = folium_loc, zoom_start = 15)\n",
    "\n",
    "# Draw our neighborhood: Urban Residents\n",
    "folium.GeoJson(urban_polygon.geometry).add_to(downtown_map)\n",
    "\n",
    "# Display the map\n",
    "display(downtown_map)"
   ]
  },
  {
   "cell_type": "code",
   "execution_count": 77,
   "metadata": {
    "ExecuteTime": {
     "end_time": "2020-01-02T10:11:31.667185Z",
     "start_time": "2020-01-02T10:11:31.550163Z"
    }
   },
   "outputs": [],
   "source": [
    "# Create a geometry column from lng & lat\n",
    "art['geometry'] = art.apply(lambda x: Point(float(x.lng), float(x.lat)), axis=1)\n",
    "\n",
    "# Create a GeoDataFrame from art and verify the type\n",
    "art_geo = gpd.GeoDataFrame(art, crs = neighborhoods.crs, geometry = art.geometry)\n",
    "\n",
    "# Spatially join neighborhoods with art_geo\n",
    "neighborhood_art = gpd.sjoin(art_geo, neighborhoods, op = \"within\")\n",
    "\n",
    "# Create urban_art from neighborhood_art where the neighborhood name is Urban Residents\n",
    "urban_art = neighborhood_art.loc[neighborhood_art.name == 'Urban Residents']"
   ]
  },
  {
   "cell_type": "code",
   "execution_count": 80,
   "metadata": {
    "ExecuteTime": {
     "end_time": "2020-01-02T10:13:43.361045Z",
     "start_time": "2020-01-02T10:13:43.239451Z"
    }
   },
   "outputs": [
    {
     "name": "stdout",
     "output_type": "stream",
     "text": [
      "first part:  1\n",
      "second part:  title                       [Fourth and Commerce Sculpture]\n",
      "last_name                                            Walker\n",
      "first_name                                              Lin\n",
      "address                   333 Commerce Street, Nashville TN\n",
      "medium                                                  NaN\n",
      "type                                              Sculpture\n",
      "desc                                                    NaN\n",
      "lat                                                 36.1623\n",
      "lng                                                -86.7777\n",
      "loc                                   (36.16234, -86.77774)\n",
      "geometry                POINT (-86.77774000000001 36.16234)\n",
      "center         POINT (-9660034.312198792 4322835.782813122)\n",
      "index_right                                              41\n",
      "name                                        Urban Residents\n",
      "Name: 1, dtype: object\n",
      "first part:  4\n",
      "second part:  title                                       A Story of Nashville\n",
      "last_name                                                 Ridley\n",
      "first_name                                                  Greg\n",
      "address                          615 Church Street, Nashville TN\n",
      "medium                                  Hammered copper repousse\n",
      "type                                                      Frieze\n",
      "desc           Inside the Grand Reading Room, this is a serie...\n",
      "lat                                                      36.1621\n",
      "lng                                                      -86.782\n",
      "loc                                        (36.16215, -86.78205)\n",
      "geometry                              POINT (-86.78205 36.16215)\n",
      "center              POINT (-9660034.312198792 4322835.782813122)\n",
      "index_right                                                   41\n",
      "name                                             Urban Residents\n",
      "Name: 4, dtype: object\n",
      "first part:  21\n",
      "second part:  title                                                Chet Atkins\n",
      "last_name                                                  Faxon\n",
      "first_name                                               Russell\n",
      "address        Corner of Fifth Avenue North and Union Street,...\n",
      "medium               Bronze stool and guitar on a granite plynth\n",
      "type                                                   Sculpture\n",
      "desc           A sculpture of a young Chet Atkins seated on a...\n",
      "lat                                                      36.1647\n",
      "lng                                                      -86.781\n",
      "loc                                        (36.16466, -86.78102)\n",
      "geometry                              POINT (-86.78102 36.16466)\n",
      "center              POINT (-9660034.312198792 4322835.782813122)\n",
      "index_right                                                   41\n",
      "name                                             Urban Residents\n",
      "Name: 21, dtype: object\n",
      "first part:  22\n",
      "second part:  title                     Children's Chairs For The Seasons\n",
      "last_name                                            McGraw\n",
      "first_name                                           Deloss\n",
      "address                     615 Church Street, Nashville TN\n",
      "medium                         Mixed Media - wood and paint\n",
      "type                                              Furniture\n",
      "desc                      chairs depicting the four seasons\n",
      "lat                                                 36.1621\n",
      "lng                                                 -86.782\n",
      "loc                                   (36.16215, -86.78205)\n",
      "geometry                         POINT (-86.78205 36.16215)\n",
      "center         POINT (-9660034.312198792 4322835.782813122)\n",
      "index_right                                              41\n",
      "name                                        Urban Residents\n",
      "Name: 22, dtype: object\n",
      "first part:  34\n",
      "second part:  title                                            Foliated Scroll\n",
      "last_name                                                Bloomer\n",
      "first_name                                                  Kent\n",
      "address                          615 Church Street, Nashville TN\n",
      "medium                                                  Aluminum\n",
      "type                                                      Frieze\n",
      "desc           a contemporary adaptation of a classical folia...\n",
      "lat                                                      36.1621\n",
      "lng                                                      -86.782\n",
      "loc                                        (36.16215, -86.78205)\n",
      "geometry                              POINT (-86.78205 36.16215)\n",
      "center              POINT (-9660034.312198792 4322835.782813122)\n",
      "index_right                                                   41\n",
      "name                                             Urban Residents\n",
      "Name: 34, dtype: object\n",
      "first part:  39\n",
      "second part:  title                                               Gone Fishing\n",
      "last_name                                                 Cooper\n",
      "first_name                                               Michael\n",
      "address                                       Church Street Park\n",
      "medium                                          Acrylic on Brick\n",
      "type                                                       Mural\n",
      "desc           Just having some fun with Trompe L'oeil balconies\n",
      "lat                                                       36.163\n",
      "lng                                                     -86.7818\n",
      "loc                                        (36.16298, -86.78184)\n",
      "geometry                              POINT (-86.78184 36.16298)\n",
      "center              POINT (-9660034.312198792 4322835.782813122)\n",
      "index_right                                                   41\n",
      "name                                             Urban Residents\n",
      "Name: 39, dtype: object\n",
      "first part:  40\n",
      "second part:  title                              Happy Times at The Arcade\n",
      "last_name                                             Cooper\n",
      "first_name                                           Michael\n",
      "address        In the Alley between 4th and 5th off of Union\n",
      "medium            Silicate paint on brick and concrete block\n",
      "type                                                   Mural\n",
      "desc            Trompe L'oeil artwork celebrating The Arcade\n",
      "lat                                                  36.1647\n",
      "lng                                                 -86.7804\n",
      "loc                                     (36.1647, -86.78043)\n",
      "geometry                  POINT (-86.78043000000001 36.1647)\n",
      "center          POINT (-9660034.312198792 4322835.782813122)\n",
      "index_right                                               41\n",
      "name                                         Urban Residents\n",
      "Name: 40, dtype: object\n",
      "first part:  54\n",
      "second part:  title                                          Johnny Cash Mural\n",
      "last_name                 Bryan Deese, Audie Adams, Ryan Shrader\n",
      "first_name                                                   NaN\n",
      "address                                           300 4th Avenue\n",
      "medium                               Latex paint and spray paint\n",
      "type                                                       Mural\n",
      "desc           Classic street art by Thoughts Manifested crew...\n",
      "lat                                                      36.1583\n",
      "lng                                                      -86.775\n",
      "loc                                      (36.158301, -86.774955)\n",
      "geometry                    POINT (-86.77495500000001 36.158301)\n",
      "center              POINT (-9660034.312198792 4322835.782813122)\n",
      "index_right                                                   41\n",
      "name                                             Urban Residents\n",
      "Name: 54, dtype: object\n",
      "first part:  55\n",
      "second part:  title                                      La Storia della Terra\n",
      "last_name                              The Kubach - Wilmsen Team\n",
      "first_name                             The Kubach - Wilmsen Team\n",
      "address                       Church St & 7th Ave N Nashville TN\n",
      "medium                                                     Stone\n",
      "type                                                   Sculpture\n",
      "desc           A 20 foot tower of stone books. There are 26 b...\n",
      "lat                                                      36.1621\n",
      "lng                                                      -86.782\n",
      "loc                                        (36.16215, -86.78205)\n",
      "geometry                              POINT (-86.78205 36.16215)\n",
      "center              POINT (-9660034.312198792 4322835.782813122)\n",
      "index_right                                                   41\n",
      "name                                             Urban Residents\n",
      "Name: 55, dtype: object\n",
      "first part:  57\n",
      "second part:  title                                 Les Paul Guitar Mural\n",
      "last_name                                            Hughes\n",
      "first_name                                           Milree\n",
      "address                    100 Broadway, Nashville TN 37201\n",
      "medium                                             Painting\n",
      "type                                                  Mural\n",
      "desc                                                    NaN\n",
      "lat                                                 36.1624\n",
      "lng                                                -86.7749\n",
      "loc                                    (36.1624, -86.77491)\n",
      "geometry                 POINT (-86.77490999999999 36.1624)\n",
      "center         POINT (-9660034.312198792 4322835.782813122)\n",
      "index_right                                              41\n",
      "name                                        Urban Residents\n",
      "Name: 57, dtype: object\n",
      "first part:  59\n",
      "second part:  title                                              Library Doors\n",
      "last_name                                                LeQuire\n",
      "first_name                                                  Alan\n",
      "address                          615 Church Street, Nashville TN\n",
      "medium                                                    Bronze\n",
      "type                                                     Bronzes\n",
      "desc           images of local people as well as Tennessee an...\n",
      "lat                                                      36.1621\n",
      "lng                                                      -86.782\n",
      "loc                                        (36.16215, -86.78205)\n",
      "geometry                              POINT (-86.78205 36.16215)\n",
      "center              POINT (-9660034.312198792 4322835.782813122)\n",
      "index_right                                                   41\n",
      "name                                             Urban Residents\n",
      "Name: 59, dtype: object\n",
      "first part:  60\n",
      "second part:  title                               Lightning Wire Fountain\n",
      "last_name                                            Walker\n",
      "first_name                                              Lin\n",
      "address                   333 Commerce Street, Nashville TN\n",
      "medium                                                  NaN\n",
      "type                                     Sculpture/Fountain\n",
      "desc                                                    NaN\n",
      "lat                                                 36.1623\n",
      "lng                                                -86.7771\n",
      "loc                                    (36.16233, -86.7771)\n",
      "geometry                          POINT (-86.7771 36.16233)\n",
      "center         POINT (-9660034.312198792 4322835.782813122)\n",
      "index_right                                              41\n",
      "name                                        Urban Residents\n",
      "Name: 60, dtype: object\n",
      "first part:  66\n",
      "second part:  title          Nashville, A History through Maps and Aerial V...\n",
      "last_name                                                   Haas\n",
      "first_name                                               Richard\n",
      "address                          615 Church Street, Nashville TN\n",
      "medium                                             Oil on Canvas\n",
      "type                                                       Mural\n",
      "desc           Eight scenes showing the development of Nashvi...\n",
      "lat                                                      36.1621\n",
      "lng                                                      -86.782\n",
      "loc                                        (36.16215, -86.78205)\n",
      "geometry                              POINT (-86.78205 36.16215)\n",
      "center              POINT (-9660034.312198792 4322835.782813122)\n",
      "index_right                                                   41\n",
      "name                                             Urban Residents\n",
      "Name: 66, dtype: object\n",
      "first part:  67\n",
      "second part:  title                                                    Oh, Roy\n",
      "last_name                                                  Faxon\n",
      "first_name                                               Russell\n",
      "address                              116 5th Ave N, Nashville TN\n",
      "medium                                                    Bronze\n",
      "type                                                   Sculpture\n",
      "desc           Minnie Pearl and Roy Acuff seated on a bench i...\n",
      "lat                                                      36.1615\n",
      "lng                                                     -86.7782\n",
      "loc                                        (36.16151, -86.77816)\n",
      "geometry                              POINT (-86.77816 36.16151)\n",
      "center              POINT (-9660034.312198792 4322835.782813122)\n",
      "index_right                                                   41\n",
      "name                                             Urban Residents\n",
      "Name: 67, dtype: object\n",
      "first part:  68\n",
      "second part:  title                                       Orpheus and Eurydice\n",
      "last_name                                                 Kaskey\n",
      "first_name                                                   Ray\n",
      "address                           1 Symphony Place, Nashville TN\n",
      "medium                                                 Limestone\n",
      "type                                                   Sculpture\n",
      "desc           Relief sculpture above main entrance of Scherm...\n",
      "lat                                                      36.1602\n",
      "lng                                                     -86.7758\n",
      "loc                                        (36.16017, -86.77575)\n",
      "geometry                              POINT (-86.77575 36.16017)\n",
      "center              POINT (-9660034.312198792 4322835.782813122)\n",
      "index_right                                                   41\n",
      "name                                             Urban Residents\n",
      "Name: 68, dtype: object\n",
      "first part:  75\n",
      "second part:  title                               Piecing It All Together\n",
      "last_name                                            Cooper\n",
      "first_name                                          Michael\n",
      "address                     600 Church Street, Nashville TN\n",
      "medium                                    Painting on Stone\n",
      "type                                                  Mural\n",
      "desc                                                    NaN\n",
      "lat                                                 36.1628\n",
      "lng                                                -86.7819\n",
      "loc                                   (36.16281, -86.78186)\n",
      "geometry                POINT (-86.78185999999999 36.16281)\n",
      "center         POINT (-9660034.312198792 4322835.782813122)\n",
      "index_right                                              41\n",
      "name                                        Urban Residents\n",
      "Name: 75, dtype: object\n",
      "first part:  104\n",
      "second part:  title                                        The Birth of Apollo\n",
      "last_name                                               Eskridge\n",
      "first_name                                                 Casey\n",
      "address                           1 Symphony Place, Nashville TN\n",
      "medium               Bronze sculpture as centerpiece of fountain\n",
      "type                                                   Sculpture\n",
      "desc           Two figures topping a fountain, one with a lyr...\n",
      "lat                                                      36.1599\n",
      "lng                                                     -86.7761\n",
      "loc                                        (36.15993, -86.77611)\n",
      "geometry                              POINT (-86.77611 36.15993)\n",
      "center              POINT (-9660034.312198792 4322835.782813122)\n",
      "index_right                                                   41\n",
      "name                                             Urban Residents\n",
      "Name: 104, dtype: object\n",
      "first part:  105\n",
      "second part:  title                                                The Flutist\n",
      "last_name                                                   Varo\n",
      "first_name                                                Marton\n",
      "address                           1 Symphony Place, Nashville TN\n",
      "medium                                                    Marble\n",
      "type                                                   Sculpture\n",
      "desc           Statue commemorating Kenneth D Schermerhorn, M...\n",
      "lat                                                      36.1596\n",
      "lng                                                     -86.7759\n",
      "loc                                        (36.15961, -86.77594)\n",
      "geometry                     POINT (-86.77594000000001 36.15961)\n",
      "center              POINT (-9660034.312198792 4322835.782813122)\n",
      "index_right                                                   41\n",
      "name                                             Urban Residents\n",
      "Name: 105, dtype: object\n",
      "first part:  107\n",
      "second part:  title                                                 The Prince\n",
      "last_name                                                 Outlaw\n",
      "first_name                                              Adrienne\n",
      "address                          615 Church Street, Nashville TN\n",
      "medium         Mixed Media Use of heavy guage aluminum wire a...\n",
      "type                                                      Mobile\n",
      "desc           The Little Prince\\nOutlaw hung a whimsical mob...\n",
      "lat                                                      36.1621\n",
      "lng                                                      -86.782\n",
      "loc                                        (36.16215, -86.78205)\n",
      "geometry                              POINT (-86.78205 36.16215)\n",
      "center              POINT (-9660034.312198792 4322835.782813122)\n",
      "index_right                                                   41\n",
      "name                                             Urban Residents\n",
      "Name: 107, dtype: object\n",
      "first part:  109\n",
      "second part:  title                                     The Recording Angel\n",
      "last_name                                               Flack\n",
      "first_name                                             Audrey\n",
      "address                        1 Symphony Place, Nashville TN\n",
      "medium                                                 Bronze\n",
      "type                                                Sculpture\n",
      "desc           Bronze angel holding a fountain pen and tablet\n",
      "lat                                                   36.1592\n",
      "lng                                                  -86.7757\n",
      "loc                                      (36.1592, -86.77571)\n",
      "geometry                            POINT (-86.77571 36.1592)\n",
      "center           POINT (-9660034.312198792 4322835.782813122)\n",
      "index_right                                                41\n",
      "name                                          Urban Residents\n",
      "Name: 109, dtype: object\n",
      "first part:  112\n",
      "second part:  title                                         Thomas Gleen Ryman\n",
      "last_name                                                Shields\n",
      "first_name                                                 Steve\n",
      "address                              116 5th Ave N, Nashville TN\n",
      "medium                          Bronze sculpture with brick base\n",
      "type                                                   Sculpture\n",
      "desc           Full-length standing figure of Ryman, holding ...\n",
      "lat                                                      36.1616\n",
      "lng                                                     -86.7779\n",
      "loc                                        (36.16156, -86.77789)\n",
      "geometry                     POINT (-86.77789 36.16155999999999)\n",
      "center              POINT (-9660034.312198792 4322835.782813122)\n",
      "index_right                                                   41\n",
      "name                                             Urban Residents\n",
      "Name: 112, dtype: object\n",
      "first part:  114\n",
      "second part:  title                                                   Timeless\n",
      "last_name                                                  Sorci\n",
      "first_name                                                   Joe\n",
      "address           3rd Avenue North between Commerce and Broadway\n",
      "medium                           Steel and Civil War cannonballs\n",
      "type                                                   Sculpture\n",
      "desc           Two nearly interlinked hemicycles with cannonb...\n",
      "lat                                                      36.1623\n",
      "lng                                                     -86.7763\n",
      "loc                                        (36.16227, -86.77631)\n",
      "geometry                              POINT (-86.77631 36.16227)\n",
      "center              POINT (-9660034.312198792 4322835.782813122)\n",
      "index_right                                                   41\n",
      "name                                             Urban Residents\n",
      "Name: 114, dtype: object\n"
     ]
    },
    {
     "data": {
      "text/html": [
       "<div style=\"width:100%;\"><div style=\"position:relative;width:100%;height:0;padding-bottom:60%;\"><iframe src=\"data:text/html;charset=utf-8;base64,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\" style=\"position:absolute;width:100%;height:100%;left:0;top:0;border:none !important;\" allowfullscreen webkitallowfullscreen mozallowfullscreen></iframe></div></div>"
      ],
      "text/plain": [
       "<folium.folium.Map at 0x1268e00f0>"
      ]
     },
     "metadata": {},
     "output_type": "display_data"
    }
   ],
   "source": [
    "# Iterate through the urban_art and print each part of tuple returned\n",
    "for row in urban_art.iterrows():\n",
    "  print('first part: ', row[0])\n",
    "  print('second part: ', row[1])\n",
    "\n",
    "# Create a location and marker with each iteration for the downtown_map\n",
    "for row in urban_art.iterrows():\n",
    "    row_values = row[1] \n",
    "    location = [row_values['lat'], row_values['lng']]\n",
    "    marker = folium.Marker(location = location)\n",
    "    marker.add_to(downtown_map)\n",
    "\n",
    "# Display the map\n",
    "display(downtown_map)"
   ]
  },
  {
   "cell_type": "code",
   "execution_count": 82,
   "metadata": {
    "ExecuteTime": {
     "end_time": "2020-01-02T10:15:22.835600Z",
     "start_time": "2020-01-02T10:15:21.916092Z"
    },
    "scrolled": true
   },
   "outputs": [
    {
     "name": "stdout",
     "output_type": "stream",
     "text": [
      "1                        [Fourth and Commerce Sculpture]\n",
      "4                                   A Story of Nashville\n",
      "21                                           Chet Atkins\n",
      "22                     Children's Chairs For The Seasons\n",
      "34                                       Foliated Scroll\n",
      "39                                          Gone Fishing\n",
      "40                             Happy Times at The Arcade\n",
      "54                                     Johnny Cash Mural\n",
      "55                                 La Storia della Terra\n",
      "57                                 Les Paul Guitar Mural\n",
      "59                                         Library Doors\n",
      "60                               Lightning Wire Fountain\n",
      "66     Nashville, A History through Maps and Aerial V...\n",
      "67                                               Oh, Roy\n",
      "68                                  Orpheus and Eurydice\n",
      "75                               Piecing It All Together\n",
      "104                                  The Birth of Apollo\n",
      "105                                          The Flutist\n",
      "107                                           The Prince\n",
      "109                                  The Recording Angel\n",
      "112                                   Thomas Gleen Ryman\n",
      "114                                             Timeless\n",
      "Name: title, dtype: object\n",
      "1                                                    NaN\n",
      "4      Inside the Grand Reading Room, this is a serie...\n",
      "21     A sculpture of a young Chet Atkins seated on a...\n",
      "22                     chairs depicting the four seasons\n",
      "34     a contemporary adaptation of a classical folia...\n",
      "39     Just having some fun with Trompe L'oeil balconies\n",
      "40          Trompe L'oeil artwork celebrating The Arcade\n",
      "54     Classic street art by Thoughts Manifested crew...\n",
      "55     A 20 foot tower of stone books. There are 26 b...\n",
      "57                                                   NaN\n",
      "59     images of local people as well as Tennessee an...\n",
      "60                                                   NaN\n",
      "66     Eight scenes showing the development of Nashvi...\n",
      "67     Minnie Pearl and Roy Acuff seated on a bench i...\n",
      "68     Relief sculpture above main entrance of Scherm...\n",
      "75                                                   NaN\n",
      "104    Two figures topping a fountain, one with a lyr...\n",
      "105    Statue commemorating Kenneth D Schermerhorn, M...\n",
      "107    The Little Prince\\nOutlaw hung a whimsical mob...\n",
      "109       Bronze angel holding a fountain pen and tablet\n",
      "112    Full-length standing figure of Ryman, holding ...\n",
      "114    Two nearly interlinked hemicycles with cannonb...\n",
      "Name: desc, dtype: object\n",
      "1                                                       \n",
      "4      Inside the Grand Reading Room, this is a serie...\n",
      "21     A sculpture of a young Chet Atkins seated on a...\n",
      "22                     chairs depicting the four seasons\n",
      "34     a contemporary adaptation of a classical folia...\n",
      "39     Just having some fun with Trompe L`oeil balconies\n",
      "40          Trompe L`oeil artwork celebrating The Arcade\n",
      "54     Classic street art by Thoughts Manifested crew...\n",
      "55     A 20 foot tower of stone books. There are 26 b...\n",
      "57                                                      \n",
      "59     images of local people as well as Tennessee an...\n",
      "60                                                      \n",
      "66     Eight scenes showing the development of Nashvi...\n",
      "67     Minnie Pearl and Roy Acuff seated on a bench i...\n",
      "68     Relief sculpture above main entrance of Scherm...\n",
      "75                                                      \n",
      "104    Two figures topping a fountain, one with a lyr...\n",
      "105    Statue commemorating Kenneth D Schermerhorn, M...\n",
      "107    The Little Prince\\nOutlaw hung a whimsical mob...\n",
      "109       Bronze angel holding a fountain pen and tablet\n",
      "112    Full-length standing figure of Ryman, holding ...\n",
      "114    Two nearly interlinked hemicycles with cannonb...\n",
      "Name: desc, dtype: object\n"
     ]
    },
    {
     "name": "stderr",
     "output_type": "stream",
     "text": [
      "/Users/Brian/anaconda3/envs/datacamp/lib/python3.6/site-packages/pandas/core/generic.py:5434: SettingWithCopyWarning: \n",
      "A value is trying to be set on a copy of a slice from a DataFrame\n",
      "\n",
      "See the caveats in the documentation: http://pandas.pydata.org/pandas-docs/stable/indexing.html#indexing-view-versus-copy\n",
      "  self._update_inplace(new_data)\n",
      "/Users/Brian/anaconda3/envs/datacamp/lib/python3.6/site-packages/pandas/core/generic.py:4405: SettingWithCopyWarning: \n",
      "A value is trying to be set on a copy of a slice from a DataFrame.\n",
      "Try using .loc[row_indexer,col_indexer] = value instead\n",
      "\n",
      "See the caveats in the documentation: http://pandas.pydata.org/pandas-docs/stable/indexing.html#indexing-view-versus-copy\n",
      "  self[name] = value\n"
     ]
    }
   ],
   "source": [
    "# Print the urban_art titles\n",
    "print(urban_art.title)\n",
    "\n",
    "#Print the urban_art descriptions\n",
    "print(urban_art.desc)\n",
    "\n",
    "# Replace Nan and ' values in description\n",
    "urban_art.desc.fillna('', inplace = True)\n",
    "urban_art.desc = urban_art.desc.str.replace(\"'\", \"`\")\n",
    "\n",
    "#Print the urban_art descriptions again\n",
    "print(urban_art.desc)"
   ]
  },
  {
   "cell_type": "code",
   "execution_count": 124,
   "metadata": {
    "ExecuteTime": {
     "end_time": "2020-01-02T10:35:00.241625Z",
     "start_time": "2020-01-02T10:34:59.670941Z"
    }
   },
   "outputs": [
    {
     "name": "stderr",
     "output_type": "stream",
     "text": [
      "/Users/Brian/anaconda3/envs/datacamp/lib/python3.6/site-packages/pandas/core/generic.py:4405: SettingWithCopyWarning: \n",
      "A value is trying to be set on a copy of a slice from a DataFrame.\n",
      "Try using .loc[row_indexer,col_indexer] = value instead\n",
      "\n",
      "See the caveats in the documentation: http://pandas.pydata.org/pandas-docs/stable/indexing.html#indexing-view-versus-copy\n",
      "  self[name] = value\n"
     ]
    }
   ],
   "source": [
    "urban_art.desc = urban_art.desc.str.replace(\"`\", \"'\")\n",
    "\n",
    "# Get just the Urban Residents neighborhood polygon and save it as urban_polygon\n",
    "urban_polygon = neighborhoods.loc[neighborhoods.name == \"Urban Residents\"]\n",
    "\n",
    "nashville = [36.16127820928791, -86.77756457127047]"
   ]
  },
  {
   "cell_type": "code",
   "execution_count": 126,
   "metadata": {
    "ExecuteTime": {
     "end_time": "2020-01-02T10:35:16.869142Z",
     "start_time": "2020-01-02T10:35:16.756313Z"
    },
    "scrolled": true
   },
   "outputs": [
    {
     "data": {
      "text/html": [
       "<div style=\"width:100%;\"><div style=\"position:relative;width:100%;height:0;padding-bottom:60%;\"><iframe src=\"data:text/html;charset=utf-8;base64,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\" style=\"position:absolute;width:100%;height:100%;left:0;top:0;border:none !important;\" allowfullscreen webkitallowfullscreen mozallowfullscreen></iframe></div></div>"
      ],
      "text/plain": [
       "<folium.folium.Map at 0x1237ddf98>"
      ]
     },
     "metadata": {},
     "output_type": "display_data"
    }
   ],
   "source": [
    "# Construct downtown map\n",
    "downtown_map = folium.Map(location = nashville, zoom_start = 15)\n",
    "folium.GeoJson(urban_polygon).add_to(downtown_map)\n",
    "\n",
    "# Create popups inside the loop you built to create the markers\n",
    "for row in urban_art.iterrows():\n",
    "    row_values = row[1] \n",
    "    location = [row_values['lat'], row_values['lng']]\n",
    "    popup = (str(row_values['title'])\n",
    "             + ': ' + str(row_values['desc'])).replace(\"'\", \"\")\n",
    "    marker = folium.Marker(location = location, popup = popup)\n",
    "    marker.add_to(downtown_map)\n",
    "\n",
    "# Display the map.\n",
    "display(downtown_map)"
   ]
  },
  {
   "cell_type": "code",
   "execution_count": null,
   "metadata": {},
   "outputs": [],
   "source": []
  }
 ],
 "metadata": {
  "kernelspec": {
   "display_name": "Python 3",
   "language": "python",
   "name": "python3"
  },
  "language_info": {
   "codemirror_mode": {
    "name": "ipython",
    "version": 3
   },
   "file_extension": ".py",
   "mimetype": "text/x-python",
   "name": "python",
   "nbconvert_exporter": "python",
   "pygments_lexer": "ipython3",
   "version": "3.6.9"
  },
  "toc": {
   "base_numbering": 1,
   "nav_menu": {},
   "number_sections": true,
   "sideBar": true,
   "skip_h1_title": true,
   "title_cell": "Table of Contents",
   "title_sidebar": "Contents",
   "toc_cell": true,
   "toc_position": {},
   "toc_section_display": true,
   "toc_window_display": false
  },
  "varInspector": {
   "cols": {
    "lenName": 16,
    "lenType": 16,
    "lenVar": 40
   },
   "kernels_config": {
    "python": {
     "delete_cmd_postfix": "",
     "delete_cmd_prefix": "del ",
     "library": "var_list.py",
     "varRefreshCmd": "print(var_dic_list())"
    },
    "r": {
     "delete_cmd_postfix": ") ",
     "delete_cmd_prefix": "rm(",
     "library": "var_list.r",
     "varRefreshCmd": "cat(var_dic_list()) "
    }
   },
   "types_to_exclude": [
    "module",
    "function",
    "builtin_function_or_method",
    "instance",
    "_Feature"
   ],
   "window_display": false
  }
 },
 "nbformat": 4,
 "nbformat_minor": 2
}
