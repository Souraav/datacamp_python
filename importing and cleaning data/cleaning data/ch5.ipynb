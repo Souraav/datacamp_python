{
 "cells": [
  {
   "cell_type": "markdown",
   "metadata": {},
   "source": [
    "# Chapter 5"
   ]
  },
  {
   "cell_type": "code",
   "execution_count": 64,
   "metadata": {},
   "outputs": [
    {
     "name": "stdout",
     "output_type": "stream",
     "text": [
      "   Unnamed: 0  1800  1801  1802  1803  1804  1805  1806  1807  1808  \\\n",
      "0           0   NaN   NaN   NaN   NaN   NaN   NaN   NaN   NaN   NaN   \n",
      "\n",
      "        ...         2008  2009  2010  2011  2012  2013  2014  2015  2016  \\\n",
      "0       ...          NaN   NaN   NaN   NaN   NaN   NaN   NaN   NaN   NaN   \n",
      "\n",
      "   Life expectancy  \n",
      "0         Abkhazia  \n",
      "\n",
      "[1 rows x 219 columns]\n",
      "     Unnamed: 0  1800  1801  1802  1803  1804  1805  1806  1807  1808  \\\n",
      "258         258   NaN   NaN   NaN   NaN   NaN   NaN   NaN   NaN   NaN   \n",
      "\n",
      "          ...         2008  2009  2010  2011  2012  2013  2014  2015  2016  \\\n",
      "258       ...          NaN   NaN   NaN   NaN   NaN   NaN   NaN   NaN   NaN   \n",
      "\n",
      "     Life expectancy  \n",
      "258            Åland  \n",
      "\n",
      "[1 rows x 219 columns]\n",
      "     Unnamed: 0  1800  1801  1802  1803  1804  1805  1806  1807  1808  \\\n",
      "518         258   NaN   NaN   NaN   NaN   NaN   NaN   NaN   NaN   NaN   \n",
      "\n",
      "          ...         2008  2009  2010  2011  2012  2013  2014  2015  2016  \\\n",
      "518       ...          NaN   NaN   NaN   NaN   NaN   NaN   NaN   NaN   NaN   \n",
      "\n",
      "     Life expectancy  \n",
      "518            Åland  \n",
      "\n",
      "[1 rows x 219 columns]\n"
     ]
    }
   ],
   "source": [
    "# Data prep\n",
    "import pandas as pd\n",
    "from urllib.request import urlretrieve\n",
    "url = 'https://assets.datacamp.com/production/course_2023/datasets/gapminder.csv'\n",
    "urlretrieve(url, 'gapminder.csv')\n",
    "gapminder = pd.read_csv('gapminder.csv')\n",
    "g1800s = gapminder.iloc[0:258,:]\n",
    "print(g1800s.iloc[0:1,:])\n",
    "g1900s = gapminder.iloc[258:518,:]\n",
    "print(g1900s.iloc[0:1,:])\n",
    "g2000s = gapminder.iloc[518:,:]\n",
    "print(g2000s.iloc[0:1,:])"
   ]
  },
  {
   "cell_type": "code",
   "execution_count": 65,
   "metadata": {},
   "outputs": [
    {
     "data": {
      "image/png": "[encoded data removed]",
      "text/plain": [
       "<matplotlib.figure.Figure at 0x101601dd8>"
      ]
     },
     "metadata": {},
     "output_type": "display_data"
    }
   ],
   "source": [
    "# Import matplotlib.pyplot\n",
    "import matplotlib.pyplot as plt\n",
    "\n",
    "# Create the scatter plot\n",
    "g1800s.plot(kind='scatter', x='1800', y='1899')\n",
    "\n",
    "# Specify axis labels\n",
    "plt.xlabel('Life Expectancy by Country in 1800')\n",
    "plt.ylabel('Life Expectancy by Country in 1899')\n",
    "\n",
    "# Specify axis limits\n",
    "plt.xlim(20, 55)\n",
    "plt.ylim(20, 55)\n",
    "\n",
    "# Display the plot\n",
    "plt.show()"
   ]
  },
  {
   "cell_type": "code",
   "execution_count": 66,
   "metadata": {},
   "outputs": [
    {
     "name": "stdout",
     "output_type": "stream",
     "text": [
      "              Life expectancy   1800   1801   1802   1803   1804   1805  \\\n",
      "0                    Abkhazia    NaN    NaN    NaN    NaN    NaN    NaN   \n",
      "1                 Afghanistan  28.21  28.20  28.19  28.18  28.17  28.16   \n",
      "2       Akrotiri and Dhekelia    NaN    NaN    NaN    NaN    NaN    NaN   \n",
      "3                     Albania  35.40  35.40  35.40  35.40  35.40  35.40   \n",
      "4                     Algeria  28.82  28.82  28.82  28.82  28.82  28.82   \n",
      "5              American Samoa    NaN    NaN    NaN    NaN    NaN    NaN   \n",
      "6                     Andorra    NaN    NaN    NaN    NaN    NaN    NaN   \n",
      "7                      Angola  26.98  26.98  26.98  26.98  26.98  26.98   \n",
      "8                    Anguilla    NaN    NaN    NaN    NaN    NaN    NaN   \n",
      "9         Antigua and Barbuda  33.54  33.54  33.54  33.54  33.54  33.54   \n",
      "10                  Argentina  33.20  33.20  33.20  33.20  33.20  33.20   \n",
      "11                    Armenia  34.00  34.00  34.00  34.00  34.00  34.00   \n",
      "12                      Aruba  34.42  34.42  34.42  34.42  34.42  34.42   \n",
      "13                  Australia  34.05  34.05  34.05  34.05  34.05  34.05   \n",
      "14                    Austria  34.40  34.40  34.40  34.40  34.40  34.40   \n",
      "15                 Azerbaijan  29.17  29.17  29.17  29.17  29.17  29.17   \n",
      "16                    Bahamas  35.18  35.18  35.18  35.18  35.18  35.18   \n",
      "17                    Bahrain  30.30  30.30  30.30  30.30  30.30  30.30   \n",
      "18                 Bangladesh  25.50  25.50  25.50  25.50  25.50  25.50   \n",
      "19                   Barbados  32.12  32.12  32.12  32.12  32.12  32.12   \n",
      "20                    Belarus  36.20  36.20  36.20  36.20  36.20  36.20   \n",
      "21                    Belgium  40.00  40.01  40.02  40.02  40.03  40.04   \n",
      "22                     Belize  26.50  26.50  26.50  26.50  26.50  26.50   \n",
      "23                      Benin  31.00  31.00  31.00  31.00  31.00  31.00   \n",
      "24                    Bermuda    NaN    NaN    NaN    NaN    NaN    NaN   \n",
      "25                     Bhutan  28.80  28.80  28.80  28.80  28.80  28.80   \n",
      "26                    Bolivia  33.00  33.00  33.00  33.00  33.00  33.00   \n",
      "27     Bosnia and Herzegovina  35.10  35.10  35.10  35.10  35.10  35.10   \n",
      "28                   Botswana  33.60  33.60  33.60  33.60  33.60  33.60   \n",
      "29                     Brazil  32.00  32.00  32.00  32.00  32.00  32.00   \n",
      "..                        ...    ...    ...    ...    ...    ...    ...   \n",
      "228                     Tonga  28.20  28.20  28.20  28.20  28.20  28.20   \n",
      "229              Transnistria    NaN    NaN    NaN    NaN    NaN    NaN   \n",
      "230       Trinidad and Tobago  32.90  32.90  32.90  32.90  32.90  32.90   \n",
      "231                   Tunisia  28.80  28.80  28.80  28.80  28.80  28.80   \n",
      "232                    Turkey  35.00  35.00  35.00  35.00  35.00  35.00   \n",
      "233              Turkmenistan  24.00  24.00  24.00  24.00  24.00  24.00   \n",
      "234  Turks and Caicos Islands    NaN    NaN    NaN    NaN    NaN    NaN   \n",
      "235                    Tuvalu    NaN    NaN    NaN    NaN    NaN    NaN   \n",
      "236                    Uganda  25.30  25.30  25.30  25.30  25.30  25.30   \n",
      "237                   Ukraine  36.60  36.60  36.60  36.60  36.60  36.60   \n",
      "238      United Arab Emirates  30.70  30.70  30.70  30.70  30.70  30.70   \n",
      "239            United Kingdom  38.65  37.35  38.62  37.32  41.44  42.32   \n",
      "240             United States  39.41  39.41  39.41  39.41  39.41  39.41   \n",
      "241                   Uruguay  32.90  32.90  32.90  32.90  32.90  32.90   \n",
      "242                      USSR    NaN    NaN    NaN    NaN    NaN    NaN   \n",
      "243                Uzbekistan  26.93  26.93  26.93  26.93  26.93  26.93   \n",
      "244          Wallis et Futuna    NaN    NaN    NaN    NaN    NaN    NaN   \n",
      "245                   Vanuatu  24.30  24.30  24.30  24.30  24.30  24.30   \n",
      "246                 Venezuela  32.20  32.20  32.20  32.20  32.20  32.20   \n",
      "247        West Bank and Gaza  32.10  32.10  32.10  32.10  32.10  32.10   \n",
      "248              West Germany    NaN    NaN    NaN    NaN    NaN    NaN   \n",
      "249            Western Sahara  34.75  34.75  34.75  34.75  34.75  34.75   \n",
      "250                   Vietnam  32.00  32.00  32.00  32.00  32.00  32.00   \n",
      "251     Virgin Islands (U.S.)  33.40  33.40  33.40  33.40  33.40  33.40   \n",
      "252      North Yemen (former)    NaN    NaN    NaN    NaN    NaN    NaN   \n",
      "253      South Yemen (former)    NaN    NaN    NaN    NaN    NaN    NaN   \n",
      "254                     Yemen  23.39  23.39  23.39  23.39  23.39  23.39   \n",
      "255                Yugoslavia    NaN    NaN    NaN    NaN    NaN    NaN   \n",
      "256                    Zambia  32.60  32.60  32.60  32.60  32.60  32.60   \n",
      "257                  Zimbabwe  33.70  33.70  33.70  33.70  33.70  33.70   \n",
      "\n",
      "      1806   1807   1808  ...   2006  2007  2008  2009  2010  2011  2012  \\\n",
      "0      NaN    NaN    NaN  ...    NaN   NaN   NaN   NaN   NaN   NaN   NaN   \n",
      "1    28.15  28.14  28.13  ...    NaN   NaN   NaN   NaN   NaN   NaN   NaN   \n",
      "2      NaN    NaN    NaN  ...    NaN   NaN   NaN   NaN   NaN   NaN   NaN   \n",
      "3    35.40  35.40  35.40  ...    NaN   NaN   NaN   NaN   NaN   NaN   NaN   \n",
      "4    28.82  28.82  28.82  ...    NaN   NaN   NaN   NaN   NaN   NaN   NaN   \n",
      "5      NaN    NaN    NaN  ...    NaN   NaN   NaN   NaN   NaN   NaN   NaN   \n",
      "6      NaN    NaN    NaN  ...    NaN   NaN   NaN   NaN   NaN   NaN   NaN   \n",
      "7    26.98  26.98  26.98  ...    NaN   NaN   NaN   NaN   NaN   NaN   NaN   \n",
      "8      NaN    NaN    NaN  ...    NaN   NaN   NaN   NaN   NaN   NaN   NaN   \n",
      "9    33.54  33.54  33.54  ...    NaN   NaN   NaN   NaN   NaN   NaN   NaN   \n",
      "10   33.20  33.20  33.20  ...    NaN   NaN   NaN   NaN   NaN   NaN   NaN   \n",
      "11   34.00  34.00  34.00  ...    NaN   NaN   NaN   NaN   NaN   NaN   NaN   \n",
      "12   34.42  34.42  34.42  ...    NaN   NaN   NaN   NaN   NaN   NaN   NaN   \n",
      "13   34.05  34.05  34.05  ...    NaN   NaN   NaN   NaN   NaN   NaN   NaN   \n",
      "14   34.40  34.40  34.40  ...    NaN   NaN   NaN   NaN   NaN   NaN   NaN   \n",
      "15   29.17  29.17  29.17  ...    NaN   NaN   NaN   NaN   NaN   NaN   NaN   \n",
      "16   35.18  35.18  35.18  ...    NaN   NaN   NaN   NaN   NaN   NaN   NaN   \n",
      "17   30.30  30.30  30.30  ...    NaN   NaN   NaN   NaN   NaN   NaN   NaN   \n",
      "18   25.50  25.50  25.50  ...    NaN   NaN   NaN   NaN   NaN   NaN   NaN   \n",
      "19   32.12  32.12  32.12  ...    NaN   NaN   NaN   NaN   NaN   NaN   NaN   \n",
      "20   36.20  36.20  36.20  ...    NaN   NaN   NaN   NaN   NaN   NaN   NaN   \n",
      "21   40.05  40.06  40.06  ...    NaN   NaN   NaN   NaN   NaN   NaN   NaN   \n",
      "22   26.50  26.50  26.50  ...    NaN   NaN   NaN   NaN   NaN   NaN   NaN   \n",
      "23   31.00  31.00  31.00  ...    NaN   NaN   NaN   NaN   NaN   NaN   NaN   \n",
      "24     NaN    NaN    NaN  ...    NaN   NaN   NaN   NaN   NaN   NaN   NaN   \n",
      "25   28.80  28.80  28.80  ...    NaN   NaN   NaN   NaN   NaN   NaN   NaN   \n",
      "26   33.00  33.00  33.00  ...    NaN   NaN   NaN   NaN   NaN   NaN   NaN   \n",
      "27   35.10  35.10  35.10  ...    NaN   NaN   NaN   NaN   NaN   NaN   NaN   \n",
      "28   33.60  33.60  33.60  ...    NaN   NaN   NaN   NaN   NaN   NaN   NaN   \n",
      "29   32.00  32.00  32.00  ...    NaN   NaN   NaN   NaN   NaN   NaN   NaN   \n",
      "..     ...    ...    ...  ...    ...   ...   ...   ...   ...   ...   ...   \n",
      "228  28.20  28.20  28.20  ...    NaN   NaN   NaN   NaN   NaN   NaN   NaN   \n",
      "229    NaN    NaN    NaN  ...    NaN   NaN   NaN   NaN   NaN   NaN   NaN   \n",
      "230  32.90  32.90  32.90  ...    NaN   NaN   NaN   NaN   NaN   NaN   NaN   \n",
      "231  28.80  28.80  28.80  ...    NaN   NaN   NaN   NaN   NaN   NaN   NaN   \n",
      "232  35.00  35.00  35.00  ...    NaN   NaN   NaN   NaN   NaN   NaN   NaN   \n",
      "233  24.00  24.00  24.00  ...    NaN   NaN   NaN   NaN   NaN   NaN   NaN   \n",
      "234    NaN    NaN    NaN  ...    NaN   NaN   NaN   NaN   NaN   NaN   NaN   \n",
      "235    NaN    NaN    NaN  ...    NaN   NaN   NaN   NaN   NaN   NaN   NaN   \n",
      "236  25.30  25.30  25.30  ...    NaN   NaN   NaN   NaN   NaN   NaN   NaN   \n",
      "237  36.60  36.60  36.60  ...    NaN   NaN   NaN   NaN   NaN   NaN   NaN   \n",
      "238  30.70  30.70  30.70  ...    NaN   NaN   NaN   NaN   NaN   NaN   NaN   \n",
      "239  43.22  40.05  40.35  ...    NaN   NaN   NaN   NaN   NaN   NaN   NaN   \n",
      "240  39.41  39.41  39.41  ...    NaN   NaN   NaN   NaN   NaN   NaN   NaN   \n",
      "241  32.90  32.90  32.90  ...    NaN   NaN   NaN   NaN   NaN   NaN   NaN   \n",
      "242    NaN    NaN    NaN  ...    NaN   NaN   NaN   NaN   NaN   NaN   NaN   \n",
      "243  26.93  26.93  26.93  ...    NaN   NaN   NaN   NaN   NaN   NaN   NaN   \n",
      "244    NaN    NaN    NaN  ...    NaN   NaN   NaN   NaN   NaN   NaN   NaN   \n",
      "245  24.30  24.30  24.30  ...    NaN   NaN   NaN   NaN   NaN   NaN   NaN   \n",
      "246  32.20  32.20  32.20  ...    NaN   NaN   NaN   NaN   NaN   NaN   NaN   \n",
      "247  32.10  32.10  32.10  ...    NaN   NaN   NaN   NaN   NaN   NaN   NaN   \n",
      "248    NaN    NaN    NaN  ...    NaN   NaN   NaN   NaN   NaN   NaN   NaN   \n",
      "249  34.75  34.75  34.75  ...    NaN   NaN   NaN   NaN   NaN   NaN   NaN   \n",
      "250  32.00  32.00  32.00  ...    NaN   NaN   NaN   NaN   NaN   NaN   NaN   \n",
      "251  33.40  33.40  33.40  ...    NaN   NaN   NaN   NaN   NaN   NaN   NaN   \n",
      "252    NaN    NaN    NaN  ...    NaN   NaN   NaN   NaN   NaN   NaN   NaN   \n",
      "253    NaN    NaN    NaN  ...    NaN   NaN   NaN   NaN   NaN   NaN   NaN   \n",
      "254  23.39  23.39  23.39  ...    NaN   NaN   NaN   NaN   NaN   NaN   NaN   \n",
      "255    NaN    NaN    NaN  ...    NaN   NaN   NaN   NaN   NaN   NaN   NaN   \n",
      "256  32.60  32.60  32.60  ...    NaN   NaN   NaN   NaN   NaN   NaN   NaN   \n",
      "257  33.70  33.70  33.70  ...    NaN   NaN   NaN   NaN   NaN   NaN   NaN   \n",
      "\n",
      "     2013  2014  2015  \n",
      "0     NaN   NaN   NaN  \n",
      "1     NaN   NaN   NaN  \n",
      "2     NaN   NaN   NaN  \n",
      "3     NaN   NaN   NaN  \n",
      "4     NaN   NaN   NaN  \n",
      "5     NaN   NaN   NaN  \n",
      "6     NaN   NaN   NaN  \n",
      "7     NaN   NaN   NaN  \n",
      "8     NaN   NaN   NaN  \n",
      "9     NaN   NaN   NaN  \n",
      "10    NaN   NaN   NaN  \n",
      "11    NaN   NaN   NaN  \n",
      "12    NaN   NaN   NaN  \n",
      "13    NaN   NaN   NaN  \n",
      "14    NaN   NaN   NaN  \n",
      "15    NaN   NaN   NaN  \n",
      "16    NaN   NaN   NaN  \n",
      "17    NaN   NaN   NaN  \n",
      "18    NaN   NaN   NaN  \n",
      "19    NaN   NaN   NaN  \n",
      "20    NaN   NaN   NaN  \n",
      "21    NaN   NaN   NaN  \n",
      "22    NaN   NaN   NaN  \n",
      "23    NaN   NaN   NaN  \n",
      "24    NaN   NaN   NaN  \n",
      "25    NaN   NaN   NaN  \n",
      "26    NaN   NaN   NaN  \n",
      "27    NaN   NaN   NaN  \n",
      "28    NaN   NaN   NaN  \n",
      "29    NaN   NaN   NaN  \n",
      "..    ...   ...   ...  \n",
      "228   NaN   NaN   NaN  \n",
      "229   NaN   NaN   NaN  \n",
      "230   NaN   NaN   NaN  \n",
      "231   NaN   NaN   NaN  \n",
      "232   NaN   NaN   NaN  \n",
      "233   NaN   NaN   NaN  \n",
      "234   NaN   NaN   NaN  \n",
      "235   NaN   NaN   NaN  \n",
      "236   NaN   NaN   NaN  \n",
      "237   NaN   NaN   NaN  \n",
      "238   NaN   NaN   NaN  \n",
      "239   NaN   NaN   NaN  \n",
      "240   NaN   NaN   NaN  \n",
      "241   NaN   NaN   NaN  \n",
      "242   NaN   NaN   NaN  \n",
      "243   NaN   NaN   NaN  \n",
      "244   NaN   NaN   NaN  \n",
      "245   NaN   NaN   NaN  \n",
      "246   NaN   NaN   NaN  \n",
      "247   NaN   NaN   NaN  \n",
      "248   NaN   NaN   NaN  \n",
      "249   NaN   NaN   NaN  \n",
      "250   NaN   NaN   NaN  \n",
      "251   NaN   NaN   NaN  \n",
      "252   NaN   NaN   NaN  \n",
      "253   NaN   NaN   NaN  \n",
      "254   NaN   NaN   NaN  \n",
      "255   NaN   NaN   NaN  \n",
      "256   NaN   NaN   NaN  \n",
      "257   NaN   NaN   NaN  \n",
      "\n",
      "[258 rows x 217 columns]\n",
      "Life expectancy\n"
     ]
    },
    {
     "name": "stderr",
     "output_type": "stream",
     "text": [
      "/Users/Brian/anaconda3/lib/python3.6/site-packages/pandas/core/indexing.py:537: SettingWithCopyWarning: \n",
      "A value is trying to be set on a copy of a slice from a DataFrame.\n",
      "Try using .loc[row_indexer,col_indexer] = value instead\n",
      "\n",
      "See the caveats in the documentation: http://pandas.pydata.org/pandas-docs/stable/indexing.html#indexing-view-versus-copy\n",
      "  self.obj[item] = s\n"
     ]
    }
   ],
   "source": [
    "# data prep\n",
    "g1800s.iloc[:,0] = g1800s.iloc[:,-1]\n",
    "g1800s = g1800s.iloc[:,:-2]\n",
    "g1800s.columns.values[0] = 'Life expectancy'\n",
    "print(g1800s)\n",
    "print(g1800s.columns[0])"
   ]
  },
  {
   "cell_type": "code",
   "execution_count": 67,
   "metadata": {
    "collapsed": true
   },
   "outputs": [],
   "source": [
    "def check_null_or_valid(row_data):\n",
    "    \"\"\"Function that takes a row of data,\n",
    "    drops all missing values,\n",
    "    and checks if all remaining values are greater than or equal to 0\n",
    "    \"\"\"\n",
    "    no_na = row_data.dropna()[1:-1]\n",
    "    numeric = pd.to_numeric(no_na)\n",
    "    ge0 = numeric >= 0\n",
    "    return ge0\n",
    "\n",
    "# Check whether the first column is 'Life expectancy'\n",
    "assert g1800s.columns[0] == 'Life expectancy'\n",
    "\n",
    "# Check whether the values in the row are valid\n",
    "assert g1800s.iloc[:, 1:].apply(check_null_or_valid, axis=1).all().all()\n",
    "\n",
    "# Check that there is only one instance of each country\n",
    "assert g1800s['Life expectancy'].value_counts()[0] == 1\n"
   ]
  },
  {
   "cell_type": "code",
   "execution_count": 50,
   "metadata": {},
   "outputs": [
    {
     "data": {
      "text/plain": [
       "1"
      ]
     },
     "execution_count": 50,
     "metadata": {},
     "output_type": "execute_result"
    }
   ],
   "source": [
    "g1800s['Life expectancy'].value_counts()[0]"
   ]
  },
  {
   "cell_type": "code",
   "execution_count": 68,
   "metadata": {},
   "outputs": [
    {
     "name": "stdout",
     "output_type": "stream",
     "text": [
      "(780, 218)\n",
      "    1800   1801   1802   1803   1804   1805   1806   1807   1808   1809  \\\n",
      "0    NaN    NaN    NaN    NaN    NaN    NaN    NaN    NaN    NaN    NaN   \n",
      "1  28.21  28.20  28.19  28.18  28.17  28.16  28.15  28.14  28.13  28.12   \n",
      "2    NaN    NaN    NaN    NaN    NaN    NaN    NaN    NaN    NaN    NaN   \n",
      "3  35.40  35.40  35.40  35.40  35.40  35.40  35.40  35.40  35.40  35.40   \n",
      "4  28.82  28.82  28.82  28.82  28.82  28.82  28.82  28.82  28.82  28.82   \n",
      "\n",
      "           ...            2008  2009  2010  2011  2012  2013  2014  2015  \\\n",
      "0          ...             NaN   NaN   NaN   NaN   NaN   NaN   NaN   NaN   \n",
      "1          ...             NaN   NaN   NaN   NaN   NaN   NaN   NaN   NaN   \n",
      "2          ...             NaN   NaN   NaN   NaN   NaN   NaN   NaN   NaN   \n",
      "3          ...             NaN   NaN   NaN   NaN   NaN   NaN   NaN   NaN   \n",
      "4          ...             NaN   NaN   NaN   NaN   NaN   NaN   NaN   NaN   \n",
      "\n",
      "   2016        Life expectancy  \n",
      "0   NaN               Abkhazia  \n",
      "1   NaN            Afghanistan  \n",
      "2   NaN  Akrotiri and Dhekelia  \n",
      "3   NaN                Albania  \n",
      "4   NaN                Algeria  \n",
      "\n",
      "[5 rows x 218 columns]\n"
     ]
    }
   ],
   "source": [
    "# Concatenate the DataFrames row-wise\n",
    "gapminder = pd.concat([g1800s, g1900s, g2000s])\n",
    "\n",
    "# Print the shape of gapminder\n",
    "print(gapminder.shape)\n",
    "\n",
    "# Print the head of gapminder\n",
    "print(gapminder.head())\n"
   ]
  },
  {
   "cell_type": "code",
   "execution_count": 53,
   "metadata": {},
   "outputs": [
    {
     "data": {
      "text/plain": [
       "(780, 218)"
      ]
     },
     "execution_count": 53,
     "metadata": {},
     "output_type": "execute_result"
    }
   ],
   "source": [
    "gapminder.shape"
   ]
  },
  {
   "cell_type": "code",
   "execution_count": 69,
   "metadata": {},
   "outputs": [
    {
     "name": "stdout",
     "output_type": "stream",
     "text": [
      "                 country  year  life_expectancy\n",
      "0               Abkhazia  1800              NaN\n",
      "1            Afghanistan  1800            28.21\n",
      "2  Akrotiri and Dhekelia  1800              NaN\n",
      "3                Albania  1800            35.40\n",
      "4                Algeria  1800            28.82\n"
     ]
    }
   ],
   "source": [
    "# Melt gapminder: gapminder_melt\n",
    "gapminder_melt = pd.melt(gapminder, id_vars = 'Life expectancy')\n",
    "\n",
    "# Rename the columns\n",
    "gapminder_melt.columns = ['country', 'year', 'life_expectancy']\n",
    "\n",
    "# Print the head of gapminder_melt\n",
    "print(gapminder_melt.head())"
   ]
  },
  {
   "cell_type": "code",
   "execution_count": 70,
   "metadata": {},
   "outputs": [],
   "source": [
    "# prep\n",
    "import numpy as np\n",
    "gapminder_old = gapminder\n",
    "gapminder = gapminder_melt\n",
    "\n",
    "# Convert the year column to numeric\n",
    "gapminder.year = pd.to_numeric(gapminder.year)\n",
    "\n",
    "# Test if country is of type object\n",
    "assert gapminder.country.dtypes == np.object\n",
    "\n",
    "# Test if year is of type int64\n",
    "assert gapminder.year.dtypes == np.int64\n",
    "\n",
    "# Test if life_expectancy is of type float64\n",
    "assert gapminder.life_expectancy.dtypes == np.float64"
   ]
  },
  {
   "cell_type": "code",
   "execution_count": 71,
   "metadata": {},
   "outputs": [
    {
     "name": "stdout",
     "output_type": "stream",
     "text": [
      "<class 'pandas.core.frame.DataFrame'>\n",
      "RangeIndex: 169260 entries, 0 to 169259\n",
      "Data columns (total 3 columns):\n",
      "country            169260 non-null object\n",
      "year               169260 non-null int64\n",
      "life_expectancy    43857 non-null float64\n",
      "dtypes: float64(1), int64(1), object(1)\n",
      "memory usage: 3.9+ MB\n"
     ]
    }
   ],
   "source": [
    "gapminder.info()"
   ]
  },
  {
   "cell_type": "code",
   "execution_count": 72,
   "metadata": {},
   "outputs": [
    {
     "name": "stdout",
     "output_type": "stream",
     "text": [
      "49            Congo, Dem. Rep.\n",
      "50                 Congo, Rep.\n",
      "53               Cote d'Ivoire\n",
      "73      Falkland Is (Malvinas)\n",
      "93               Guinea-Bissau\n",
      "98            Hong Kong, China\n",
      "118    United Korea (former)\\n\n",
      "131               Macao, China\n",
      "132             Macedonia, FYR\n",
      "145      Micronesia, Fed. Sts.\n",
      "161            Ngorno-Karabakh\n",
      "187             St. Barthélemy\n",
      "193     St.-Pierre-et-Miquelon\n",
      "225                Timor-Leste\n",
      "251      Virgin Islands (U.S.)\n",
      "252       North Yemen (former)\n",
      "253       South Yemen (former)\n",
      "258                      Åland\n",
      "Name: country, dtype: object\n"
     ]
    }
   ],
   "source": [
    "# Create the series of countries: countries\n",
    "countries = gapminder.country\n",
    "\n",
    "# Drop all the duplicates from countries\n",
    "countries = countries.drop_duplicates()\n",
    "\n",
    "# Write the regular expression: pattern\n",
    "pattern = '^[A-Za-z\\.\\s]*$'\n",
    "\n",
    "# Create the Boolean vector: mask\n",
    "mask = countries.str.contains(pattern)\n",
    "\n",
    "# Invert the mask: mask_inverse\n",
    "mask_inverse = ~mask\n",
    "\n",
    "# Subset countries using mask_inverse: invalid_countries\n",
    "invalid_countries = countries[mask_inverse]\n",
    "\n",
    "# Print invalid_countries\n",
    "print(invalid_countries)\n"
   ]
  },
  {
   "cell_type": "code",
   "execution_count": 73,
   "metadata": {},
   "outputs": [
    {
     "name": "stdout",
     "output_type": "stream",
     "text": [
      "(43857, 3)\n"
     ]
    }
   ],
   "source": [
    "# Assert that country does not contain any missing values\n",
    "assert pd.notnull(gapminder.country).all()\n",
    "\n",
    "# Assert that year does not contain any missing values\n",
    "assert pd.notnull(gapminder.year).all()\n",
    "\n",
    "# Drop the missing values\n",
    "gapminder = gapminder.dropna()\n",
    "\n",
    "# Print the shape of gapminder\n",
    "print(gapminder.shape)\n"
   ]
  },
  {
   "cell_type": "code",
   "execution_count": 75,
   "metadata": {},
   "outputs": [
    {
     "name": "stderr",
     "output_type": "stream",
     "text": [
      "/Users/Brian/anaconda3/lib/python3.6/site-packages/matplotlib/cbook/deprecation.py:106: MatplotlibDeprecationWarning: Adding an axes using the same arguments as a previous axes currently reuses the earlier instance.  In a future version, a new instance will always be created and returned.  Meanwhile, this warning can be suppressed, and the future behavior ensured, by passing a unique label to each axes instance.\n",
      "  warnings.warn(message, mplDeprecation, stacklevel=1)\n"
     ]
    },
    {
     "name": "stdout",
     "output_type": "stream",
     "text": [
      "year\n",
      "1800    31.486020\n",
      "1801    31.448905\n",
      "1802    31.463483\n",
      "1803    31.377413\n",
      "1804    31.446318\n",
      "Name: life_expectancy, dtype: float64\n",
      "year\n",
      "2012    71.663077\n",
      "2013    71.916106\n",
      "2014    72.088125\n",
      "2015    72.321010\n",
      "2016    72.556635\n",
      "Name: life_expectancy, dtype: float64\n"
     ]
    },
    {
     "data": {
      "image/png": "[encoded data removed]",
      "text/plain": [
       "<matplotlib.figure.Figure at 0x1098b94e0>"
      ]
     },
     "metadata": {},
     "output_type": "display_data"
    }
   ],
   "source": [
    "# Add first subplot\n",
    "plt.subplot(2, 1, 1) \n",
    "\n",
    "# Create a histogram of life_expectancy\n",
    "gapminder.life_expectancy.plot(kind='hist')\n",
    "\n",
    "# Group gapminder: gapminder_agg\n",
    "gapminder_agg = gapminder.groupby('year')['life_expectancy'].mean()\n",
    "\n",
    "# Print the head of gapminder_agg\n",
    "print(gapminder_agg.head())\n",
    "\n",
    "# Print the tail of gapminder_agg\n",
    "print(gapminder_agg.tail())\n",
    "\n",
    "# Add second subplot\n",
    "plt.subplot(2, 1, 2)\n",
    "\n",
    "# Create a line plot of life expectancy per year\n",
    "gapminder_agg.plot()\n",
    "\n",
    "# Add title and specify axis labels\n",
    "plt.title('Life expectancy over the years')\n",
    "plt.ylabel('Life expectancy')\n",
    "plt.xlabel('Year')\n",
    "\n",
    "# Display the plots\n",
    "plt.tight_layout()\n",
    "plt.show()\n",
    "\n",
    "# Save both DataFrames to csv files\n",
    "gapminder.to_csv('gapminder_clean.csv')\n",
    "gapminder_agg.to_csv('gapminder_agg.csv')\n"
   ]
  },
  {
   "cell_type": "code",
   "execution_count": null,
   "metadata": {
    "collapsed": true
   },
   "outputs": [],
   "source": []
  }
 ],
 "metadata": {
  "kernelspec": {
   "display_name": "Python 3",
   "language": "python",
   "name": "python3"
  },
  "language_info": {
   "codemirror_mode": {
    "name": "ipython",
    "version": 3
   },
   "file_extension": ".py",
   "mimetype": "text/x-python",
   "name": "python",
   "nbconvert_exporter": "python",
   "pygments_lexer": "ipython3",
   "version": "3.6.3"
  }
 },
 "nbformat": 4,
 "nbformat_minor": 2
}
