{
 "cells": [
  {
   "cell_type": "code",
   "execution_count": 3,
   "metadata": {
    "collapsed": true
   },
   "outputs": [],
   "source": [
    "# data prep\n",
    "from urllib.request import urlretrieve\n",
    "import pandas as pd\n",
    "url = 'https://assets.datacamp.com/production/course_2023/datasets/nyc_uber_2014.csv'\n",
    "urlretrieve(url, 'nyc_uber_2014.csv')\n",
    "uber_all = pd.read_csv('nyc_uber_2014.csv')"
   ]
  },
  {
   "cell_type": "code",
   "execution_count": 4,
   "metadata": {},
   "outputs": [
    {
     "name": "stdout",
     "output_type": "stream",
     "text": [
      "   Unnamed: 0         Date/Time      Lat      Lon    Base\n",
      "0           0  4/1/2014 0:11:00  40.7690 -73.9549  B02512\n",
      "1           1  4/1/2014 0:17:00  40.7267 -74.0345  B02512\n",
      "2           2  4/1/2014 0:21:00  40.7316 -73.9873  B02512\n",
      "3           3  4/1/2014 0:28:00  40.7588 -73.9776  B02512\n",
      "4           4  4/1/2014 0:33:00  40.7594 -73.9722  B02512\n",
      "(297, 5)\n"
     ]
    }
   ],
   "source": [
    "print(uber_all.head())\n",
    "print(uber_all.shape)\n",
    "uber1 = uber_all.iloc[:99, 1:5]\n",
    "uber2 = uber_all.iloc[99:198, 1:5]\n",
    "uber3 = uber_all.iloc[198:, 1:5]"
   ]
  },
  {
   "cell_type": "code",
   "execution_count": 5,
   "metadata": {},
   "outputs": [
    {
     "name": "stdout",
     "output_type": "stream",
     "text": [
      "(99, 4)\n",
      "(99, 4)\n",
      "(99, 4)\n"
     ]
    }
   ],
   "source": [
    "print(uber1.shape)\n",
    "print(uber2.shape)\n",
    "print(uber3.shape)"
   ]
  },
  {
   "cell_type": "code",
   "execution_count": 6,
   "metadata": {},
   "outputs": [
    {
     "name": "stdout",
     "output_type": "stream",
     "text": [
      "(297, 4)\n",
      "          Date/Time      Lat      Lon    Base\n",
      "0  4/1/2014 0:11:00  40.7690 -73.9549  B02512\n",
      "1  4/1/2014 0:17:00  40.7267 -74.0345  B02512\n",
      "2  4/1/2014 0:21:00  40.7316 -73.9873  B02512\n",
      "3  4/1/2014 0:28:00  40.7588 -73.9776  B02512\n",
      "4  4/1/2014 0:33:00  40.7594 -73.9722  B02512\n"
     ]
    }
   ],
   "source": [
    "# Concatenate uber1, uber2, and uber3: row_concat\n",
    "row_concat = pd.concat([uber1, uber2, uber3])\n",
    "\n",
    "# Print the shape of row_concat\n",
    "print(row_concat.shape)\n",
    "\n",
    "# Print the head of row_concat\n",
    "print(row_concat.head())"
   ]
  },
  {
   "cell_type": "code",
   "execution_count": 7,
   "metadata": {},
   "outputs": [
    {
     "name": "stdout",
     "output_type": "stream",
     "text": [
      "            Date  Day  type_country  counts        str_split    type country\n",
      "0       1/5/2015  289  Cases_Guinea  2776.0  [Cases, Guinea]   Cases  Guinea\n",
      "1       1/4/2015  288  Cases_Guinea  2775.0  [Cases, Guinea]   Cases  Guinea\n",
      "2       1/3/2015  287  Cases_Guinea  2769.0  [Cases, Guinea]   Cases  Guinea\n",
      "3       1/2/2015  286  Cases_Guinea     NaN  [Cases, Guinea]   Cases  Guinea\n",
      "4     12/31/2014  284  Cases_Guinea  2730.0  [Cases, Guinea]   Cases  Guinea\n",
      "5     12/28/2014  281  Cases_Guinea  2706.0  [Cases, Guinea]   Cases  Guinea\n",
      "6     12/27/2014  280  Cases_Guinea  2695.0  [Cases, Guinea]   Cases  Guinea\n",
      "7     12/24/2014  277  Cases_Guinea  2630.0  [Cases, Guinea]   Cases  Guinea\n",
      "8     12/21/2014  273  Cases_Guinea  2597.0  [Cases, Guinea]   Cases  Guinea\n",
      "9     12/20/2014  272  Cases_Guinea  2571.0  [Cases, Guinea]   Cases  Guinea\n",
      "10    12/18/2014  271  Cases_Guinea     NaN  [Cases, Guinea]   Cases  Guinea\n",
      "11    12/14/2014  267  Cases_Guinea  2416.0  [Cases, Guinea]   Cases  Guinea\n",
      "12     12/9/2014  262  Cases_Guinea     NaN  [Cases, Guinea]   Cases  Guinea\n",
      "13     12/7/2014  260  Cases_Guinea  2292.0  [Cases, Guinea]   Cases  Guinea\n",
      "14     12/3/2014  256  Cases_Guinea     NaN  [Cases, Guinea]   Cases  Guinea\n",
      "15    11/30/2014  253  Cases_Guinea  2164.0  [Cases, Guinea]   Cases  Guinea\n",
      "16    11/28/2014  251  Cases_Guinea     NaN  [Cases, Guinea]   Cases  Guinea\n",
      "17    11/23/2014  246  Cases_Guinea  2134.0  [Cases, Guinea]   Cases  Guinea\n",
      "18    11/22/2014  245  Cases_Guinea     NaN  [Cases, Guinea]   Cases  Guinea\n",
      "19    11/18/2014  241  Cases_Guinea  2047.0  [Cases, Guinea]   Cases  Guinea\n",
      "20    11/16/2014  239  Cases_Guinea  1971.0  [Cases, Guinea]   Cases  Guinea\n",
      "21    11/15/2014  238  Cases_Guinea     NaN  [Cases, Guinea]   Cases  Guinea\n",
      "22    11/11/2014  234  Cases_Guinea  1919.0  [Cases, Guinea]   Cases  Guinea\n",
      "23    11/10/2014  233  Cases_Guinea     NaN  [Cases, Guinea]   Cases  Guinea\n",
      "24     11/9/2014  232  Cases_Guinea  1878.0  [Cases, Guinea]   Cases  Guinea\n",
      "25     11/8/2014  231  Cases_Guinea     NaN  [Cases, Guinea]   Cases  Guinea\n",
      "26     11/4/2014  227  Cases_Guinea     NaN  [Cases, Guinea]   Cases  Guinea\n",
      "27     11/3/2014  226  Cases_Guinea  1760.0  [Cases, Guinea]   Cases  Guinea\n",
      "28     11/2/2014  225  Cases_Guinea  1731.0  [Cases, Guinea]   Cases  Guinea\n",
      "29    10/31/2014  222  Cases_Guinea     NaN  [Cases, Guinea]   Cases  Guinea\n",
      "...          ...  ...           ...     ...              ...     ...     ...\n",
      "1922   5/23/2014   62   Deaths_Mali     NaN   [Deaths, Mali]  Deaths    Mali\n",
      "1923   5/12/2014   51   Deaths_Mali     NaN   [Deaths, Mali]  Deaths    Mali\n",
      "1924   5/10/2014   49   Deaths_Mali     NaN   [Deaths, Mali]  Deaths    Mali\n",
      "1925    5/7/2014   46   Deaths_Mali     NaN   [Deaths, Mali]  Deaths    Mali\n",
      "1926    5/5/2014   44   Deaths_Mali     NaN   [Deaths, Mali]  Deaths    Mali\n",
      "1927    5/3/2014   42   Deaths_Mali     NaN   [Deaths, Mali]  Deaths    Mali\n",
      "1928    5/1/2014   40   Deaths_Mali     NaN   [Deaths, Mali]  Deaths    Mali\n",
      "1929   4/26/2014   35   Deaths_Mali     NaN   [Deaths, Mali]  Deaths    Mali\n",
      "1930   4/24/2014   33   Deaths_Mali     NaN   [Deaths, Mali]  Deaths    Mali\n",
      "1931   4/23/2014   32   Deaths_Mali     NaN   [Deaths, Mali]  Deaths    Mali\n",
      "1932   4/22/2014   31   Deaths_Mali     NaN   [Deaths, Mali]  Deaths    Mali\n",
      "1933   4/21/2014   30   Deaths_Mali     NaN   [Deaths, Mali]  Deaths    Mali\n",
      "1934   4/20/2014   29   Deaths_Mali     NaN   [Deaths, Mali]  Deaths    Mali\n",
      "1935   4/17/2014   26   Deaths_Mali     NaN   [Deaths, Mali]  Deaths    Mali\n",
      "1936   4/16/2014   25   Deaths_Mali     NaN   [Deaths, Mali]  Deaths    Mali\n",
      "1937   4/15/2014   24   Deaths_Mali     NaN   [Deaths, Mali]  Deaths    Mali\n",
      "1938   4/14/2014   23   Deaths_Mali     NaN   [Deaths, Mali]  Deaths    Mali\n",
      "1939   4/11/2014   20   Deaths_Mali     NaN   [Deaths, Mali]  Deaths    Mali\n",
      "1940    4/9/2014   18   Deaths_Mali     NaN   [Deaths, Mali]  Deaths    Mali\n",
      "1941    4/7/2014   16   Deaths_Mali     NaN   [Deaths, Mali]  Deaths    Mali\n",
      "1942    4/4/2014   13   Deaths_Mali     NaN   [Deaths, Mali]  Deaths    Mali\n",
      "1943    4/1/2014   10   Deaths_Mali     NaN   [Deaths, Mali]  Deaths    Mali\n",
      "1944   3/31/2014    9   Deaths_Mali     NaN   [Deaths, Mali]  Deaths    Mali\n",
      "1945   3/29/2014    7   Deaths_Mali     NaN   [Deaths, Mali]  Deaths    Mali\n",
      "1946   3/28/2014    6   Deaths_Mali     NaN   [Deaths, Mali]  Deaths    Mali\n",
      "1947   3/27/2014    5   Deaths_Mali     NaN   [Deaths, Mali]  Deaths    Mali\n",
      "1948   3/26/2014    4   Deaths_Mali     NaN   [Deaths, Mali]  Deaths    Mali\n",
      "1949   3/25/2014    3   Deaths_Mali     NaN   [Deaths, Mali]  Deaths    Mali\n",
      "1950   3/24/2014    2   Deaths_Mali     NaN   [Deaths, Mali]  Deaths    Mali\n",
      "1951   3/22/2014    0   Deaths_Mali     NaN   [Deaths, Mali]  Deaths    Mali\n",
      "\n",
      "[1952 rows x 7 columns]\n"
     ]
    }
   ],
   "source": [
    "# data prep\n",
    "from urllib.request import urlretrieve\n",
    "url = 'https://assets.datacamp.com/production/course_2023/datasets/ebola.csv'\n",
    "urlretrieve(url, 'ebola.csv')\n",
    "ebola = pd.read_csv('ebola.csv')\n",
    "\n",
    "# Melt ebola: ebola_melt\n",
    "ebola_melt = pd.melt(ebola, id_vars=['Date', 'Day'], var_name='type_country', value_name='counts')\n",
    "\n",
    "# Create the 'str_split' column\n",
    "ebola_melt['str_split'] = ebola_melt['type_country'].str.split('_')\n",
    "\n",
    "# Create the 'type' column\n",
    "ebola_melt['type'] = ebola_melt['str_split'].str.get(0)\n",
    "\n",
    "# Create the 'country' column\n",
    "ebola_melt['country'] = ebola_melt['str_split'].str.get(1)\n",
    "\n",
    "print(ebola_melt)"
   ]
  },
  {
   "cell_type": "code",
   "execution_count": 8,
   "metadata": {
    "collapsed": true
   },
   "outputs": [],
   "source": [
    "# Data prep\n",
    "old_ebola_melt = ebola_melt"
   ]
  },
  {
   "cell_type": "code",
   "execution_count": 9,
   "metadata": {},
   "outputs": [
    {
     "name": "stdout",
     "output_type": "stream",
     "text": [
      "            Date  Day  type_country  counts\n",
      "0       1/5/2015  289  Cases_Guinea  2776.0\n",
      "1       1/4/2015  288  Cases_Guinea  2775.0\n",
      "2       1/3/2015  287  Cases_Guinea  2769.0\n",
      "3       1/2/2015  286  Cases_Guinea     NaN\n",
      "4     12/31/2014  284  Cases_Guinea  2730.0\n",
      "5     12/28/2014  281  Cases_Guinea  2706.0\n",
      "6     12/27/2014  280  Cases_Guinea  2695.0\n",
      "7     12/24/2014  277  Cases_Guinea  2630.0\n",
      "8     12/21/2014  273  Cases_Guinea  2597.0\n",
      "9     12/20/2014  272  Cases_Guinea  2571.0\n",
      "10    12/18/2014  271  Cases_Guinea     NaN\n",
      "11    12/14/2014  267  Cases_Guinea  2416.0\n",
      "12     12/9/2014  262  Cases_Guinea     NaN\n",
      "13     12/7/2014  260  Cases_Guinea  2292.0\n",
      "14     12/3/2014  256  Cases_Guinea     NaN\n",
      "15    11/30/2014  253  Cases_Guinea  2164.0\n",
      "16    11/28/2014  251  Cases_Guinea     NaN\n",
      "17    11/23/2014  246  Cases_Guinea  2134.0\n",
      "18    11/22/2014  245  Cases_Guinea     NaN\n",
      "19    11/18/2014  241  Cases_Guinea  2047.0\n",
      "20    11/16/2014  239  Cases_Guinea  1971.0\n",
      "21    11/15/2014  238  Cases_Guinea     NaN\n",
      "22    11/11/2014  234  Cases_Guinea  1919.0\n",
      "23    11/10/2014  233  Cases_Guinea     NaN\n",
      "24     11/9/2014  232  Cases_Guinea  1878.0\n",
      "25     11/8/2014  231  Cases_Guinea     NaN\n",
      "26     11/4/2014  227  Cases_Guinea     NaN\n",
      "27     11/3/2014  226  Cases_Guinea  1760.0\n",
      "28     11/2/2014  225  Cases_Guinea  1731.0\n",
      "29    10/31/2014  222  Cases_Guinea     NaN\n",
      "...          ...  ...           ...     ...\n",
      "1922   5/23/2014   62   Deaths_Mali     NaN\n",
      "1923   5/12/2014   51   Deaths_Mali     NaN\n",
      "1924   5/10/2014   49   Deaths_Mali     NaN\n",
      "1925    5/7/2014   46   Deaths_Mali     NaN\n",
      "1926    5/5/2014   44   Deaths_Mali     NaN\n",
      "1927    5/3/2014   42   Deaths_Mali     NaN\n",
      "1928    5/1/2014   40   Deaths_Mali     NaN\n",
      "1929   4/26/2014   35   Deaths_Mali     NaN\n",
      "1930   4/24/2014   33   Deaths_Mali     NaN\n",
      "1931   4/23/2014   32   Deaths_Mali     NaN\n",
      "1932   4/22/2014   31   Deaths_Mali     NaN\n",
      "1933   4/21/2014   30   Deaths_Mali     NaN\n",
      "1934   4/20/2014   29   Deaths_Mali     NaN\n",
      "1935   4/17/2014   26   Deaths_Mali     NaN\n",
      "1936   4/16/2014   25   Deaths_Mali     NaN\n",
      "1937   4/15/2014   24   Deaths_Mali     NaN\n",
      "1938   4/14/2014   23   Deaths_Mali     NaN\n",
      "1939   4/11/2014   20   Deaths_Mali     NaN\n",
      "1940    4/9/2014   18   Deaths_Mali     NaN\n",
      "1941    4/7/2014   16   Deaths_Mali     NaN\n",
      "1942    4/4/2014   13   Deaths_Mali     NaN\n",
      "1943    4/1/2014   10   Deaths_Mali     NaN\n",
      "1944   3/31/2014    9   Deaths_Mali     NaN\n",
      "1945   3/29/2014    7   Deaths_Mali     NaN\n",
      "1946   3/28/2014    6   Deaths_Mali     NaN\n",
      "1947   3/27/2014    5   Deaths_Mali     NaN\n",
      "1948   3/26/2014    4   Deaths_Mali     NaN\n",
      "1949   3/25/2014    3   Deaths_Mali     NaN\n",
      "1950   3/24/2014    2   Deaths_Mali     NaN\n",
      "1951   3/22/2014    0   Deaths_Mali     NaN\n",
      "\n",
      "[1952 rows x 4 columns]\n",
      "        type country\n",
      "0      Cases  Guinea\n",
      "1      Cases  Guinea\n",
      "2      Cases  Guinea\n",
      "3      Cases  Guinea\n",
      "4      Cases  Guinea\n",
      "5      Cases  Guinea\n",
      "6      Cases  Guinea\n",
      "7      Cases  Guinea\n",
      "8      Cases  Guinea\n",
      "9      Cases  Guinea\n",
      "10     Cases  Guinea\n",
      "11     Cases  Guinea\n",
      "12     Cases  Guinea\n",
      "13     Cases  Guinea\n",
      "14     Cases  Guinea\n",
      "15     Cases  Guinea\n",
      "16     Cases  Guinea\n",
      "17     Cases  Guinea\n",
      "18     Cases  Guinea\n",
      "19     Cases  Guinea\n",
      "20     Cases  Guinea\n",
      "21     Cases  Guinea\n",
      "22     Cases  Guinea\n",
      "23     Cases  Guinea\n",
      "24     Cases  Guinea\n",
      "25     Cases  Guinea\n",
      "26     Cases  Guinea\n",
      "27     Cases  Guinea\n",
      "28     Cases  Guinea\n",
      "29     Cases  Guinea\n",
      "...      ...     ...\n",
      "1922  Deaths    Mali\n",
      "1923  Deaths    Mali\n",
      "1924  Deaths    Mali\n",
      "1925  Deaths    Mali\n",
      "1926  Deaths    Mali\n",
      "1927  Deaths    Mali\n",
      "1928  Deaths    Mali\n",
      "1929  Deaths    Mali\n",
      "1930  Deaths    Mali\n",
      "1931  Deaths    Mali\n",
      "1932  Deaths    Mali\n",
      "1933  Deaths    Mali\n",
      "1934  Deaths    Mali\n",
      "1935  Deaths    Mali\n",
      "1936  Deaths    Mali\n",
      "1937  Deaths    Mali\n",
      "1938  Deaths    Mali\n",
      "1939  Deaths    Mali\n",
      "1940  Deaths    Mali\n",
      "1941  Deaths    Mali\n",
      "1942  Deaths    Mali\n",
      "1943  Deaths    Mali\n",
      "1944  Deaths    Mali\n",
      "1945  Deaths    Mali\n",
      "1946  Deaths    Mali\n",
      "1947  Deaths    Mali\n",
      "1948  Deaths    Mali\n",
      "1949  Deaths    Mali\n",
      "1950  Deaths    Mali\n",
      "1951  Deaths    Mali\n",
      "\n",
      "[1952 rows x 2 columns]\n"
     ]
    }
   ],
   "source": [
    "# data prep\n",
    "ebola_melt     = old_ebola_melt.iloc[:, :4]\n",
    "status_country = old_ebola_melt.iloc[:, 5:7]\n",
    "\n",
    "print(ebola_melt)\n",
    "print(status_country)"
   ]
  },
  {
   "cell_type": "code",
   "execution_count": 10,
   "metadata": {},
   "outputs": [
    {
     "name": "stdout",
     "output_type": "stream",
     "text": [
      "(1952, 6)\n",
      "         Date  Day  type_country  counts   type country\n",
      "0    1/5/2015  289  Cases_Guinea  2776.0  Cases  Guinea\n",
      "1    1/4/2015  288  Cases_Guinea  2775.0  Cases  Guinea\n",
      "2    1/3/2015  287  Cases_Guinea  2769.0  Cases  Guinea\n",
      "3    1/2/2015  286  Cases_Guinea     NaN  Cases  Guinea\n",
      "4  12/31/2014  284  Cases_Guinea  2730.0  Cases  Guinea\n"
     ]
    }
   ],
   "source": [
    "# Concatenate ebola_melt and status_country column-wise: ebola_tidy\n",
    "ebola_tidy = pd.concat([ebola_melt, status_country],\n",
    "                      axis=1)\n",
    "\n",
    "# Print the shape of ebola_tidy\n",
    "print(ebola_tidy.shape)\n",
    "\n",
    "# Print the head of ebola_tidy\n",
    "print(ebola_tidy.head())"
   ]
  },
  {
   "cell_type": "code",
   "execution_count": 11,
   "metadata": {
    "collapsed": true
   },
   "outputs": [],
   "source": [
    "# data prep - save the uber files into csv files\n",
    "uber1.to_csv('uber-raw-data-2014_04.csv')\n",
    "uber2.to_csv('uber-raw-data-2014_05.csv')\n",
    "uber3.to_csv('uber-raw-data-2014_06.csv')"
   ]
  },
  {
   "cell_type": "code",
   "execution_count": 14,
   "metadata": {},
   "outputs": [
    {
     "name": "stdout",
     "output_type": "stream",
     "text": [
      "['uber-raw-data-2014_04.csv', 'uber-raw-data-2014_05.csv', 'uber-raw-data-2014_06.csv']\n",
      "   Unnamed: 0         Date/Time      Lat      Lon    Base\n",
      "0          99  5/1/2014 0:02:00  40.7521 -73.9914  B02512\n",
      "1         100  5/1/2014 0:06:00  40.6965 -73.9715  B02512\n",
      "2         101  5/1/2014 0:15:00  40.7464 -73.9838  B02512\n",
      "3         102  5/1/2014 0:17:00  40.7463 -74.0011  B02512\n",
      "4         103  5/1/2014 0:17:00  40.7594 -73.9734  B02512\n"
     ]
    }
   ],
   "source": [
    "# Import necessary modules\n",
    "import glob\n",
    "import pandas as pd\n",
    "\n",
    "# Write the pattern: pattern\n",
    "pattern = 'uber*.csv'\n",
    "\n",
    "# Save all file matches: csv_files\n",
    "csv_files = glob.glob(pattern)\n",
    "\n",
    "# Print the file names\n",
    "print(csv_files)\n",
    "\n",
    "# Load the second file into a DataFrame: csv2\n",
    "csv2 = pd.read_csv(csv_files[1])\n",
    "\n",
    "# Print the head of csv2\n",
    "print(csv2.head())"
   ]
  },
  {
   "cell_type": "code",
   "execution_count": 16,
   "metadata": {},
   "outputs": [
    {
     "name": "stdout",
     "output_type": "stream",
     "text": [
      "(297, 5)\n",
      "   Unnamed: 0         Date/Time      Lat      Lon    Base\n",
      "0           0  4/1/2014 0:11:00  40.7690 -73.9549  B02512\n",
      "1           1  4/1/2014 0:17:00  40.7267 -74.0345  B02512\n",
      "2           2  4/1/2014 0:21:00  40.7316 -73.9873  B02512\n",
      "3           3  4/1/2014 0:28:00  40.7588 -73.9776  B02512\n",
      "4           4  4/1/2014 0:33:00  40.7594 -73.9722  B02512\n"
     ]
    }
   ],
   "source": [
    "# Create an empty list: frames\n",
    "frames = []\n",
    "\n",
    "#  Iterate over csv_files\n",
    "for csv in csv_files:\n",
    "\n",
    "    #  Read csv into a DataFrame: df\n",
    "    df = pd.read_csv(csv)\n",
    "    \n",
    "    # Append df to frames\n",
    "    frames.append(df)\n",
    "\n",
    "# Concatenate frames into a single DataFrame: uber\n",
    "uber = pd.concat(frames)\n",
    "\n",
    "# Print the shape of uber\n",
    "print(uber.shape)\n",
    "\n",
    "# Print the head of uber\n",
    "print(uber.head())"
   ]
  },
  {
   "cell_type": "code",
   "execution_count": 5,
   "metadata": {},
   "outputs": [
    {
     "name": "stdout",
     "output_type": "stream",
     "text": [
      "    name    lat    long\n",
      "0   DR-1 -49.85 -128.57\n",
      "1   DR-3 -47.15 -126.72\n",
      "2  MSK-4 -48.87 -123.40\n",
      "   ident   site       dated\n",
      "0    619   DR-1  1927-02-08\n",
      "1    734   DR-3  1939-01-07\n",
      "2    837  MSK-4  1932-01-14\n"
     ]
    }
   ],
   "source": [
    "# data prep\n",
    "import pandas as pd\n",
    "site = pd.read_csv('site.csv')\n",
    "visited = pd.read_csv('visited_partial.csv')\n",
    "\n",
    "print(site)\n",
    "print(visited)"
   ]
  },
  {
   "cell_type": "code",
   "execution_count": 4,
   "metadata": {},
   "outputs": [
    {
     "name": "stdout",
     "output_type": "stream",
     "text": [
      "    name    lat    long  ident   site       dated\n",
      "0   DR-1 -49.85 -128.57    619   DR-1  1927-02-08\n",
      "1   DR-3 -47.15 -126.72    734   DR-3  1939-01-07\n",
      "2  MSK-4 -48.87 -123.40    837  MSK-4  1932-01-14\n"
     ]
    }
   ],
   "source": [
    "# Merge the DataFrames: o2o\n",
    "o2o = pd.merge(left=site, right=visited, left_on='name', right_on='site')\n",
    "\n",
    "# Print o2o\n",
    "print(o2o)"
   ]
  },
  {
   "cell_type": "code",
   "execution_count": 8,
   "metadata": {},
   "outputs": [
    {
     "name": "stdout",
     "output_type": "stream",
     "text": [
      "   ident   site       dated\n",
      "0    619   DR-1  1927-02-08\n",
      "1    622   DR-1  1927-02-10\n",
      "2    734   DR-3  1939-01-07\n",
      "3    735   DR-3  1930-01-12\n",
      "4    751   DR-3  1930-02-26\n",
      "5    752   DR-3         NaN\n",
      "6    837  MSK-4  1932-01-14\n",
      "7    844   DR-1  1932-03-22\n"
     ]
    }
   ],
   "source": [
    "# data prep\n",
    "visited = pd.read_csv('visited.csv')\n",
    "print(visited)"
   ]
  },
  {
   "cell_type": "code",
   "execution_count": 9,
   "metadata": {},
   "outputs": [
    {
     "name": "stdout",
     "output_type": "stream",
     "text": [
      "    name    lat    long  ident   site       dated\n",
      "0   DR-1 -49.85 -128.57    619   DR-1  1927-02-08\n",
      "1   DR-1 -49.85 -128.57    622   DR-1  1927-02-10\n",
      "2   DR-1 -49.85 -128.57    844   DR-1  1932-03-22\n",
      "3   DR-3 -47.15 -126.72    734   DR-3  1939-01-07\n",
      "4   DR-3 -47.15 -126.72    735   DR-3  1930-01-12\n",
      "5   DR-3 -47.15 -126.72    751   DR-3  1930-02-26\n",
      "6   DR-3 -47.15 -126.72    752   DR-3         NaN\n",
      "7  MSK-4 -48.87 -123.40    837  MSK-4  1932-01-14\n"
     ]
    }
   ],
   "source": [
    "# Merge the DataFrames: m2o\n",
    "m2o = pd.merge(left=site, right=visited, left_on='name', right_on='site')\n",
    "\n",
    "# Print m2o\n",
    "print(m2o)"
   ]
  },
  {
   "cell_type": "code",
   "execution_count": 10,
   "metadata": {},
   "outputs": [
    {
     "name": "stdout",
     "output_type": "stream",
     "text": [
      "    taken person quant  reading\n",
      "0     619   dyer   rad     9.82\n",
      "1     619   dyer   sal     0.13\n",
      "2     622   dyer   rad     7.80\n",
      "3     622   dyer   sal     0.09\n",
      "4     734     pb   rad     8.41\n",
      "5     734   lake   sal     0.05\n",
      "6     734     pb  temp   -21.50\n",
      "7     735     pb   rad     7.22\n",
      "8     735    NaN   sal     0.06\n",
      "9     735    NaN  temp   -26.00\n",
      "10    751     pb   rad     4.35\n",
      "11    751     pb  temp   -18.50\n",
      "12    751   lake   sal     0.10\n",
      "13    752   lake   rad     2.19\n",
      "14    752   lake   sal     0.09\n",
      "15    752   lake  temp   -16.00\n",
      "16    752    roe   sal    41.60\n",
      "17    837   lake   rad     1.46\n",
      "18    837   lake   sal     0.21\n",
      "19    837    roe   sal    22.50\n",
      "20    844    roe   rad    11.25\n"
     ]
    }
   ],
   "source": [
    "# data prep\n",
    "survey = pd.read_csv('survey.csv')\n",
    "print(survey)"
   ]
  },
  {
   "cell_type": "code",
   "execution_count": null,
   "metadata": {
    "collapsed": true
   },
   "outputs": [],
   "source": [
    "# Merge site and visited: m2m\n",
    "m2m = pd.merge(left=site, right=visited, left_on=name, right_on=ident)\n",
    "\n",
    "# Merge m2m and survey: m2m\n",
    "m2m = pd.merge(left=m2m, right=survey, left_on=____, right_on=____)\n",
    "\n",
    "# Print the first 20 lines of m2m\n",
    "print(m2m.head(20))\n"
   ]
  }
 ],
 "metadata": {
  "kernelspec": {
   "display_name": "Python 3",
   "language": "python",
   "name": "python3"
  },
  "language_info": {
   "codemirror_mode": {
    "name": "ipython",
    "version": 3
   },
   "file_extension": ".py",
   "mimetype": "text/x-python",
   "name": "python",
   "nbconvert_exporter": "python",
   "pygments_lexer": "ipython3",
   "version": "3.6.3"
  }
 },
 "nbformat": 4,
 "nbformat_minor": 2
}
