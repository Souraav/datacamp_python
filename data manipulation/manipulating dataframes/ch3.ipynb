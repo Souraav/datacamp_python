{
 "cells": [
  {
   "cell_type": "markdown",
   "metadata": {},
   "source": [
    "# Chapter 3"
   ]
  },
  {
   "cell_type": "code",
   "execution_count": 2,
   "metadata": {},
   "outputs": [
    {
     "data": {
      "text/html": [
       "<div>\n",
       "<style scoped>\n",
       "    .dataframe tbody tr th:only-of-type {\n",
       "        vertical-align: middle;\n",
       "    }\n",
       "\n",
       "    .dataframe tbody tr th {\n",
       "        vertical-align: top;\n",
       "    }\n",
       "\n",
       "    .dataframe thead th {\n",
       "        text-align: right;\n",
       "    }\n",
       "</style>\n",
       "<table border=\"1\" class=\"dataframe\">\n",
       "  <thead>\n",
       "    <tr style=\"text-align: right;\">\n",
       "      <th></th>\n",
       "      <th>city</th>\n",
       "      <th>signups</th>\n",
       "      <th>visitors</th>\n",
       "      <th>weekday</th>\n",
       "    </tr>\n",
       "  </thead>\n",
       "  <tbody>\n",
       "    <tr>\n",
       "      <th>0</th>\n",
       "      <td>Austin</td>\n",
       "      <td>7</td>\n",
       "      <td>139</td>\n",
       "      <td>Sun</td>\n",
       "    </tr>\n",
       "    <tr>\n",
       "      <th>1</th>\n",
       "      <td>Dallas</td>\n",
       "      <td>12</td>\n",
       "      <td>237</td>\n",
       "      <td>Sun</td>\n",
       "    </tr>\n",
       "    <tr>\n",
       "      <th>2</th>\n",
       "      <td>Austin</td>\n",
       "      <td>3</td>\n",
       "      <td>326</td>\n",
       "      <td>Mon</td>\n",
       "    </tr>\n",
       "    <tr>\n",
       "      <th>3</th>\n",
       "      <td>Dallas</td>\n",
       "      <td>5</td>\n",
       "      <td>456</td>\n",
       "      <td>Mon</td>\n",
       "    </tr>\n",
       "  </tbody>\n",
       "</table>\n",
       "</div>"
      ],
      "text/plain": [
       "     city  signups  visitors weekday\n",
       "0  Austin        7       139     Sun\n",
       "1  Dallas       12       237     Sun\n",
       "2  Austin        3       326     Mon\n",
       "3  Dallas        5       456     Mon"
      ]
     },
     "execution_count": 2,
     "metadata": {},
     "output_type": "execute_result"
    }
   ],
   "source": [
    "# data prep\n",
    "import pandas as pd\n",
    "users = pd.DataFrame({\n",
    "    'weekday': ['Sun', 'Sun', 'Mon', 'Mon'],\n",
    "    'city': ['Austin', 'Dallas', 'Austin', 'Dallas'],\n",
    "    'visitors': [139, 237, 326, 456],\n",
    "    'signups': [7, 12, 3, 5]\n",
    "})\n",
    "users"
   ]
  },
  {
   "cell_type": "code",
   "execution_count": 11,
   "metadata": {},
   "outputs": [
    {
     "name": "stdout",
     "output_type": "stream",
     "text": [
      "city     Austin  Dallas\n",
      "weekday                \n",
      "Mon         326     456\n",
      "Sun         139     237\n"
     ]
    }
   ],
   "source": [
    "# Pivot the users DataFrame: visitors_pivot\n",
    "visitors_pivot = users.pivot(index='weekday',\n",
    "                             columns='city',\n",
    "                             values='visitors')\n",
    "\n",
    "# Print the pivoted DataFrame\n",
    "print(visitors_pivot)"
   ]
  },
  {
   "cell_type": "code",
   "execution_count": 12,
   "metadata": {},
   "outputs": [
    {
     "name": "stdout",
     "output_type": "stream",
     "text": [
      "city     Austin  Dallas\n",
      "weekday                \n",
      "Mon           3       5\n",
      "Sun           7      12\n",
      "        signups        visitors       \n",
      "city     Austin Dallas   Austin Dallas\n",
      "weekday                               \n",
      "Mon           3      5      326    456\n",
      "Sun           7     12      139    237\n"
     ]
    }
   ],
   "source": [
    "# Pivot users with signups indexed by weekday and city: signups_pivot\n",
    "signups_pivot = users.pivot(index='weekday', columns='city', values='signups')\n",
    "\n",
    "# Print signups_pivot\n",
    "print(signups_pivot)\n",
    "\n",
    "# Pivot users pivoted by both signups and visitors: pivot\n",
    "pivot = users.pivot(index='weekday', columns='city')\n",
    "\n",
    "# Print the pivoted DataFrame\n",
    "print(pivot)\n"
   ]
  },
  {
   "cell_type": "code",
   "execution_count": 18,
   "metadata": {},
   "outputs": [
    {
     "name": "stdout",
     "output_type": "stream",
     "text": [
      "<class 'pandas.core.frame.DataFrame'>\n",
      "MultiIndex: 4 entries, (Austin, Mon) to (Dallas, Sun)\n",
      "Data columns (total 2 columns):\n",
      "signups     4 non-null int64\n",
      "visitors    4 non-null int64\n",
      "dtypes: int64(2)\n",
      "memory usage: 233.0+ bytes\n",
      "None\n",
      "                signups  visitors\n",
      "city   weekday                   \n",
      "Austin Mon            3       326\n",
      "       Sun            7       139\n",
      "Dallas Mon            5       456\n",
      "       Sun           12       237\n"
     ]
    }
   ],
   "source": [
    "# Data prep\n",
    "users = pd.DataFrame({\n",
    "    'weekday': ['Sun', 'Sun', 'Mon', 'Mon'],\n",
    "    'city': ['Austin', 'Dallas', 'Austin', 'Dallas'],\n",
    "    'visitors': [139, 237, 326, 456],\n",
    "    'signups': [7, 12, 3, 5]\n",
    "})\n",
    "users = users.set_index(['city', 'weekday'])\n",
    "users = users.sort_index()\n",
    "print(users.info())\n",
    "print(users)"
   ]
  },
  {
   "cell_type": "code",
   "execution_count": 21,
   "metadata": {},
   "outputs": [
    {
     "name": "stdout",
     "output_type": "stream",
     "text": [
      "        signups     visitors     \n",
      "weekday     Mon Sun      Mon  Sun\n",
      "city                             \n",
      "Austin        3   7      326  139\n",
      "Dallas        5  12      456  237\n",
      "                signups  visitors\n",
      "city   weekday                   \n",
      "Austin Mon            3       326\n",
      "       Sun            7       139\n",
      "Dallas Mon            5       456\n",
      "       Sun           12       237\n"
     ]
    }
   ],
   "source": [
    "# Unstack users by 'weekday': byweekday\n",
    "byweekday = users.unstack('weekday')\n",
    "\n",
    "# Print the byweekday DataFrame\n",
    "print(byweekday)\n",
    "\n",
    "# Stack byweekday by 'weekday' and print it\n",
    "print(byweekday.stack(level='weekday'))"
   ]
  },
  {
   "cell_type": "code",
   "execution_count": 22,
   "metadata": {},
   "outputs": [
    {
     "name": "stdout",
     "output_type": "stream",
     "text": [
      "        signups        visitors       \n",
      "city     Austin Dallas   Austin Dallas\n",
      "weekday                               \n",
      "Mon           3      5      326    456\n",
      "Sun           7     12      139    237\n",
      "                signups  visitors\n",
      "weekday city                     \n",
      "Mon     Austin        3       326\n",
      "        Dallas        5       456\n",
      "Sun     Austin        7       139\n",
      "        Dallas       12       237\n"
     ]
    }
   ],
   "source": [
    "# Unstack users by 'city': bycity\n",
    "bycity = users.unstack(level='city')\n",
    "\n",
    "# Print the bycity DataFrame\n",
    "print(bycity)\n",
    "\n",
    "# Stack bycity by 'city' and print it\n",
    "print(bycity.stack(level='city'))\n"
   ]
  },
  {
   "cell_type": "code",
   "execution_count": 27,
   "metadata": {},
   "outputs": [
    {
     "name": "stdout",
     "output_type": "stream",
     "text": [
      "                signups  visitors\n",
      "city   weekday                   \n",
      "Austin Mon            3       326\n",
      "       Sun            7       139\n",
      "Dallas Mon            5       456\n",
      "       Sun           12       237\n",
      "        signups        visitors       \n",
      "city     Austin Dallas   Austin Dallas\n",
      "weekday                               \n",
      "Mon           3      5      326    456\n",
      "Sun           7     12      139    237\n"
     ]
    }
   ],
   "source": [
    "print(users)\n",
    "print(bycity)"
   ]
  },
  {
   "cell_type": "code",
   "execution_count": 28,
   "metadata": {},
   "outputs": [
    {
     "name": "stdout",
     "output_type": "stream",
     "text": [
      "                signups  visitors\n",
      "weekday city                     \n",
      "Mon     Austin        3       326\n",
      "        Dallas        5       456\n",
      "Sun     Austin        7       139\n",
      "        Dallas       12       237\n",
      "                signups  visitors\n",
      "city   weekday                   \n",
      "Austin Mon            3       326\n",
      "Dallas Mon            5       456\n",
      "Austin Sun            7       139\n",
      "Dallas Sun           12       237\n",
      "                signups  visitors\n",
      "city   weekday                   \n",
      "Austin Mon            3       326\n",
      "       Sun            7       139\n",
      "Dallas Mon            5       456\n",
      "       Sun           12       237\n",
      "True\n"
     ]
    }
   ],
   "source": [
    "# Stack 'city' back into the index of bycity: newusers\n",
    "newusers = bycity.stack(level='city')\n",
    "print(newusers)\n",
    "\n",
    "# Swap the levels of the index of newusers: newusers\n",
    "newusers = newusers.swaplevel(0, 1)\n",
    "\n",
    "# Print newusers and verify that the index is not sorted\n",
    "print(newusers)\n",
    "\n",
    "# Sort the index of newusers: newusers\n",
    "newusers = newusers.sort_index()\n",
    "\n",
    "# Print newusers and verify that the index is now sorted\n",
    "print(newusers)\n",
    "\n",
    "# Verify that the new DataFrame is equal to the original\n",
    "print(newusers.equals(users))"
   ]
  },
  {
   "cell_type": "code",
   "execution_count": 35,
   "metadata": {},
   "outputs": [
    {
     "name": "stdout",
     "output_type": "stream",
     "text": [
      "city     Austin  Dallas\n",
      "weekday                \n",
      "Mon         326     456\n",
      "Sun         139     237\n",
      "<class 'pandas.core.frame.DataFrame'>\n",
      "Index: 2 entries, Mon to Sun\n",
      "Data columns (total 2 columns):\n",
      "Austin    2 non-null int64\n",
      "Dallas    2 non-null int64\n",
      "dtypes: int64(2)\n",
      "memory usage: 48.0+ bytes\n",
      "None\n"
     ]
    }
   ],
   "source": [
    "# data prep\n",
    "users = pd.DataFrame({\n",
    "    'weekday': ['Sun', 'Sun', 'Mon', 'Mon'],\n",
    "    'city': ['Austin', 'Dallas', 'Austin', 'Dallas'],\n",
    "    'visitors': [139, 237, 326, 456],\n",
    "    'signups': [7, 12, 3, 5]\n",
    "})\n",
    "visitors_by_city_weekday = users.pivot(index='weekday',\n",
    "                                       columns='city',\n",
    "                                       values='visitors')\n",
    "visitors_by_city_weekday = visitors_by_city_weekday.sort_index()\n",
    "print(visitors_by_city_weekday)\n",
    "print(visitors_by_city_weekday.info())"
   ]
  },
  {
   "cell_type": "code",
   "execution_count": 36,
   "metadata": {},
   "outputs": [
    {
     "name": "stdout",
     "output_type": "stream",
     "text": [
      "city weekday  Austin  Dallas\n",
      "0        Mon     326     456\n",
      "1        Sun     139     237\n",
      "  weekday    city  visitors\n",
      "0     Mon  Austin       326\n",
      "1     Sun  Austin       139\n",
      "2     Mon  Dallas       456\n",
      "3     Sun  Dallas       237\n"
     ]
    }
   ],
   "source": [
    "# Reset the index: visitors_by_city_weekday\n",
    "visitors_by_city_weekday = visitors_by_city_weekday.reset_index() \n",
    "\n",
    "# Print visitors_by_city_weekday\n",
    "print(visitors_by_city_weekday)\n",
    "\n",
    "# Melt visitors_by_city_weekday: visitors\n",
    "visitors = pd.melt(visitors_by_city_weekday,\n",
    "                   id_vars='weekday',\n",
    "                   value_name='visitors')\n",
    "\n",
    "# Print visitors\n",
    "print(visitors)"
   ]
  },
  {
   "cell_type": "code",
   "execution_count": 39,
   "metadata": {},
   "outputs": [
    {
     "name": "stdout",
     "output_type": "stream",
     "text": [
      "  weekday    city  variable  value\n",
      "0     Sun  Austin   signups      7\n",
      "1     Sun  Dallas   signups     12\n",
      "2     Mon  Austin   signups      3\n",
      "3     Mon  Dallas   signups      5\n",
      "4     Sun  Austin  visitors    139\n",
      "5     Sun  Dallas  visitors    237\n",
      "6     Mon  Austin  visitors    326\n",
      "7     Mon  Dallas  visitors    456\n"
     ]
    }
   ],
   "source": [
    "# Melt users: skinny\n",
    "skinny = pd.melt(users,\n",
    "                id_vars=['weekday', 'city'])\n",
    "\n",
    "# Print skinny\n",
    "print(skinny)\n"
   ]
  },
  {
   "cell_type": "code",
   "execution_count": 41,
   "metadata": {},
   "outputs": [
    {
     "name": "stdout",
     "output_type": "stream",
     "text": [
      "                signups  visitors\n",
      "city   weekday                   \n",
      "Austin Sun            7       139\n",
      "Dallas Sun           12       237\n",
      "Austin Mon            3       326\n",
      "Dallas Mon            5       456\n",
      "   variable  value\n",
      "0   signups      7\n",
      "1   signups     12\n",
      "2   signups      3\n",
      "3   signups      5\n",
      "4  visitors    139\n",
      "5  visitors    237\n",
      "6  visitors    326\n",
      "7  visitors    456\n"
     ]
    }
   ],
   "source": [
    "# Set the new index: users_idx\n",
    "users_idx = users.set_index(['city', 'weekday'])\n",
    "\n",
    "# Print the users_idx DataFrame\n",
    "print(users_idx)\n",
    "\n",
    "# Obtain the key-value pairs: kv_pairs\n",
    "kv_pairs = pd.melt(users_idx, col_level=0)\n",
    "\n",
    "# Print the key-value pairs\n",
    "print(kv_pairs)\n"
   ]
  },
  {
   "cell_type": "code",
   "execution_count": 42,
   "metadata": {},
   "outputs": [
    {
     "name": "stdout",
     "output_type": "stream",
     "text": [
      "        signups        visitors       \n",
      "city     Austin Dallas   Austin Dallas\n",
      "weekday                               \n",
      "Mon           3      5      326    456\n",
      "Sun           7     12      139    237\n"
     ]
    }
   ],
   "source": [
    "# Create the DataFrame with the appropriate pivot table: by_city_day\n",
    "by_city_day = users.pivot_table(index='weekday',\n",
    "                               columns='city')\n",
    "\n",
    "# Print by_city_day\n",
    "print(by_city_day)\n"
   ]
  },
  {
   "cell_type": "code",
   "execution_count": 45,
   "metadata": {},
   "outputs": [
    {
     "name": "stdout",
     "output_type": "stream",
     "text": [
      "<class 'pandas.core.frame.DataFrame'>\n",
      "RangeIndex: 4 entries, 0 to 3\n",
      "Data columns (total 4 columns):\n",
      "city        4 non-null object\n",
      "signups     4 non-null int64\n",
      "visitors    4 non-null int64\n",
      "weekday     4 non-null object\n",
      "dtypes: int64(2), object(2)\n",
      "memory usage: 208.0+ bytes\n",
      "None\n",
      "         city  signups  visitors\n",
      "weekday                         \n",
      "Mon         2        2         2\n",
      "Sun         2        2         2\n",
      "==========================================\n",
      "True\n"
     ]
    }
   ],
   "source": [
    "print(users.info())\n",
    "\n",
    "# Use a pivot table to display the count of each column: count_by_weekday1\n",
    "count_by_weekday1 = users.pivot_table(index='weekday',\n",
    "                                     aggfunc='count')\n",
    "\n",
    "# Print count_by_weekday\n",
    "print(count_by_weekday1)\n",
    "\n",
    "# Replace 'aggfunc='count'' with 'aggfunc=len': count_by_weekday2\n",
    "count_by_weekday2 = users.pivot_table(index='weekday',\n",
    "                                     aggfunc=len)\n",
    "\n",
    "# Verify that the same result is obtained\n",
    "print('==========================================')\n",
    "print(count_by_weekday1.equals(count_by_weekday2))\n"
   ]
  },
  {
   "cell_type": "code",
   "execution_count": 46,
   "metadata": {},
   "outputs": [
    {
     "name": "stdout",
     "output_type": "stream",
     "text": [
      "         signups  visitors\n",
      "weekday                   \n",
      "Mon            8       782\n",
      "Sun           19       376\n",
      "         signups  visitors\n",
      "weekday                   \n",
      "Mon            8       782\n",
      "Sun           19       376\n",
      "All           27      1158\n"
     ]
    }
   ],
   "source": [
    "# Create the DataFrame with the appropriate pivot table: signups_and_visitors\n",
    "signups_and_visitors = users.pivot_table(index='weekday',\n",
    "                                        aggfunc=sum)\n",
    "\n",
    "# Print signups_and_visitors\n",
    "print(signups_and_visitors)\n",
    "\n",
    "# Add in the margins: signups_and_visitors_total \n",
    "signups_and_visitors_total = users.pivot_table(index='weekday',\n",
    "                                        aggfunc=sum,\n",
    "                                        margins=True)\n",
    "\n",
    "# Print signups_and_visitors_total\n",
    "print(signups_and_visitors_total)\n"
   ]
  },
  {
   "cell_type": "code",
   "execution_count": null,
   "metadata": {},
   "outputs": [],
   "source": []
  }
 ],
 "metadata": {
  "kernelspec": {
   "display_name": "Python 3",
   "language": "python",
   "name": "python3"
  },
  "language_info": {
   "codemirror_mode": {
    "name": "ipython",
    "version": 3
   },
   "file_extension": ".py",
   "mimetype": "text/x-python",
   "name": "python",
   "nbconvert_exporter": "python",
   "pygments_lexer": "ipython3",
   "version": "3.6.4"
  }
 },
 "nbformat": 4,
 "nbformat_minor": 2
}
