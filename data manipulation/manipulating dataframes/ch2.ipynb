{
 "cells": [
  {
   "cell_type": "markdown",
   "metadata": {},
   "source": [
    "# Chapter 2\n",
    "The index column is unmutable and homogenious. You can change it - but only all at once. i.e. you cannot change slices or individual index values - but you can replace an entire index Series, with another of the same length."
   ]
  },
  {
   "cell_type": "code",
   "execution_count": 6,
   "metadata": {},
   "outputs": [
    {
     "name": "stdout",
     "output_type": "stream",
     "text": [
      "       eggs salt  spam\n",
      "month                 \n",
      "Jan      47   12    17\n",
      "Feb     110   50    31\n",
      "Mar     221   89    72\n",
      "Apr      77   87    20\n",
      "May     132  NaN    52\n",
      "Jun     205   60    55\n"
     ]
    }
   ],
   "source": [
    "# data prep\n",
    "import pandas as pd\n",
    "ind = ['Jan', 'Feb', 'Mar', 'Apr', 'May', 'Jun']\n",
    "eggs = [47, 110, 221, 77, 132, 205]\n",
    "salt = [12.0, 50.0, 89.0, 87.0, 'NaN', 60.0]\n",
    "spam =  [17, 31, 72, 20, 52, 55]\n",
    "sales = pd.DataFrame({'eggs':eggs, 'salt':salt, 'spam':spam}, index=ind)\n",
    "sales.index.name = 'month'\n",
    "print(sales)"
   ]
  },
  {
   "cell_type": "code",
   "execution_count": 7,
   "metadata": {},
   "outputs": [
    {
     "name": "stdout",
     "output_type": "stream",
     "text": [
      "     eggs salt  spam\n",
      "JAN    47   12    17\n",
      "FEB   110   50    31\n",
      "MAR   221   89    72\n",
      "APR    77   87    20\n",
      "MAY   132  NaN    52\n",
      "JUN   205   60    55\n"
     ]
    }
   ],
   "source": [
    "# Create the list of new indexes: new_idx\n",
    "new_idx = [month.upper() for month in sales.index]\n",
    "\n",
    "# Assign new_idx to sales.index\n",
    "sales.index = new_idx\n",
    "\n",
    "# Print the sales DataFrame\n",
    "print(sales)\n"
   ]
  },
  {
   "cell_type": "code",
   "execution_count": 8,
   "metadata": {},
   "outputs": [
    {
     "name": "stdout",
     "output_type": "stream",
     "text": [
      "        eggs salt  spam\n",
      "MONTHS                 \n",
      "JAN       47   12    17\n",
      "FEB      110   50    31\n",
      "MAR      221   89    72\n",
      "APR       77   87    20\n",
      "MAY      132  NaN    52\n",
      "JUN      205   60    55\n",
      "PRODUCTS  eggs salt  spam\n",
      "MONTHS                   \n",
      "JAN         47   12    17\n",
      "FEB        110   50    31\n",
      "MAR        221   89    72\n",
      "APR         77   87    20\n",
      "MAY        132  NaN    52\n",
      "JUN        205   60    55\n"
     ]
    }
   ],
   "source": [
    "# Assign the string 'MONTHS' to sales.index.name\n",
    "sales.index.name = 'MONTHS'\n",
    "\n",
    "# Print the sales DataFrame\n",
    "print(sales)\n",
    "\n",
    "# Assign the string 'PRODUCTS' to sales.columns.name \n",
    "sales.columns.name = 'PRODUCTS'\n",
    "\n",
    "# Print the sales dataframe again\n",
    "print(sales)\n"
   ]
  },
  {
   "cell_type": "code",
   "execution_count": 11,
   "metadata": {},
   "outputs": [
    {
     "name": "stdout",
     "output_type": "stream",
     "text": [
      "PRODUCTS  eggs salt  spam\n",
      "0           47   12    17\n",
      "1          110   50    31\n",
      "2          221   89    72\n",
      "3           77   87    20\n",
      "4          132  NaN    52\n",
      "5          205   60    55\n",
      "PRODUCTS  eggs salt  spam\n",
      "Jan         47   12    17\n",
      "Feb        110   50    31\n",
      "Mar        221   89    72\n",
      "Apr         77   87    20\n",
      "May        132  NaN    52\n",
      "Jun        205   60    55\n"
     ]
    }
   ],
   "source": [
    "old_sales = sales\n",
    "sales.index = list(range(len(sales)))\n",
    "print(sales)\n",
    "\n",
    "# Generate the list of months: months\n",
    "months = ['Jan', 'Feb', 'Mar', 'Apr', 'May', 'Jun']\n",
    "\n",
    "# Assign months to sales.index\n",
    "sales.index = months\n",
    "\n",
    "# Print the modified sales DataFrame\n",
    "print(sales)\n"
   ]
  },
  {
   "cell_type": "markdown",
   "metadata": {},
   "source": [
    "## Multi Indexes\n",
    "You can create indexes of multiple columns, which will be organised heirarchically. For instance, with stock data you could create the index ('stock', 'date'). You would add this complexity for speed - index selection or slicing, is much quicker than column filtering on very large DataFrames.\n",
    "\n",
    "The syntax for slicing multi-indexes is different to that used when slicing columns. "
   ]
  },
  {
   "cell_type": "code",
   "execution_count": 26,
   "metadata": {},
   "outputs": [
    {
     "name": "stdout",
     "output_type": "stream",
     "text": [
      "      eggs salt  spam\n",
      "CA 1    47   12    17\n",
      "   2   110   50    31\n",
      "NY 1   221   89    72\n",
      "   2    77   87    20\n",
      "TX 1   132  NaN    52\n",
      "   2   205   60    55\n"
     ]
    }
   ],
   "source": [
    "# data prep\n",
    "state = ['CA', 'CA', 'NY', 'NY', 'TX', 'TX']\n",
    "month = [1,2,1,2,1,2]\n",
    "eggs= [47, 110, 221, 77, 132, 205]\n",
    "salt =  [12.0, 50.0, 89.0, 87.0, 'NaN', 60.0]\n",
    "spam = [17, 31, 72, 20, 52, 55]\n",
    "\n",
    "sales = pd.DataFrame({'state':state, 'month':month, 'eggs':eggs, 'salt':salt, 'spam':spam})\n",
    "full_sales = sales\n",
    "sales = sales.set_index([state, month])\n",
    "del sales['state']\n",
    "del sales['month']\n",
    "print(sales)"
   ]
  },
  {
   "cell_type": "code",
   "execution_count": 23,
   "metadata": {},
   "outputs": [
    {
     "name": "stdout",
     "output_type": "stream",
     "text": [
      "      eggs salt  spam\n",
      "CA 1    47   12    17\n",
      "   2   110   50    31\n",
      "TX 1   132  NaN    52\n",
      "   2   205   60    55\n",
      "      eggs salt  spam\n",
      "CA 1    47   12    17\n",
      "   2   110   50    31\n",
      "NY 1   221   89    72\n",
      "   2    77   87    20\n",
      "TX 1   132  NaN    52\n",
      "   2   205   60    55\n"
     ]
    }
   ],
   "source": [
    "# Print sales.loc[['CA', 'TX']]\n",
    "print(sales.loc[['CA', 'TX']])\n",
    "\n",
    "# Print sales['CA':'TX']\n",
    "print(sales['CA':'TX'])"
   ]
  },
  {
   "cell_type": "code",
   "execution_count": 27,
   "metadata": {},
   "outputs": [
    {
     "name": "stdout",
     "output_type": "stream",
     "text": [
      "             eggs salt  spam\n",
      "state month                 \n",
      "CA    1        47   12    17\n",
      "      2       110   50    31\n",
      "NY    1       221   89    72\n",
      "      2        77   87    20\n",
      "TX    1       132  NaN    52\n",
      "      2       205   60    55\n"
     ]
    }
   ],
   "source": [
    "# data prep\n",
    "sales = full_sales\n",
    "\n",
    "# Set the index to be the columns ['state', 'month']: sales\n",
    "sales = sales.set_index(['state', 'month'])\n",
    "\n",
    "# Sort the MultiIndex: sales\n",
    "sales = sales.sort_index()\n",
    "\n",
    "# Print the sales DataFrame\n",
    "print(sales)\n"
   ]
  },
  {
   "cell_type": "code",
   "execution_count": 29,
   "metadata": {},
   "outputs": [
    {
     "name": "stdout",
     "output_type": "stream",
     "text": [
      "       eggs  month salt  spam\n",
      "state                        \n",
      "CA       47      1   12    17\n",
      "CA      110      2   50    31\n",
      "NY      221      1   89    72\n",
      "NY       77      2   87    20\n",
      "TX      132      1  NaN    52\n",
      "TX      205      2   60    55\n",
      "       eggs  month salt  spam\n",
      "state                        \n",
      "NY      221      1   89    72\n",
      "NY       77      2   87    20\n"
     ]
    }
   ],
   "source": [
    "# Data prep\n",
    "sales = full_sales\n",
    "\n",
    "# Set the index to the column 'state': sales\n",
    "sales = sales.set_index('state')\n",
    "\n",
    "# Print the sales DataFrame\n",
    "print(sales)\n",
    "\n",
    "# Access the data from 'NY'\n",
    "print(sales.loc['NY'])\n"
   ]
  },
  {
   "cell_type": "code",
   "execution_count": 43,
   "metadata": {},
   "outputs": [
    {
     "name": "stdout",
     "output_type": "stream",
     "text": [
      "eggs    221\n",
      "salt     89\n",
      "spam     72\n",
      "Name: (NY, 1), dtype: object\n",
      "             eggs salt  spam\n",
      "state month                 \n",
      "CA    2       110   50    31\n",
      "NY    2        77   87    20\n",
      "TX    2       205   60    55\n",
      "             eggs salt  spam\n",
      "state month                 \n",
      "CA    2       110   50    31\n",
      "NY    2        77   87    20\n",
      "TX    2       205   60    55\n"
     ]
    }
   ],
   "source": [
    "# Data prep\n",
    "sales = full_sales.set_index(['state', 'month'])\n",
    "\n",
    "# Look up data for NY in month 1: NY_month1\n",
    "NY_month1 = sales.loc[('NY', 1),:]\n",
    "\n",
    "# Look up data for CA and TX in month 2: CA_TX_month2\n",
    "CA_TX_month2 = sales.loc[(slice('CA', 'TX'), 2),:]\n",
    "\n",
    "# Look up data for all states in month 2: all_month2\n",
    "all_month2 = sales.loc[(slice(None), 2),:]\n",
    "\n",
    "print(NY_month1)\n",
    "print(CA_TX_month2)\n",
    "print(all_month2)"
   ]
  },
  {
   "cell_type": "code",
   "execution_count": null,
   "metadata": {},
   "outputs": [],
   "source": []
  }
 ],
 "metadata": {
  "kernelspec": {
   "display_name": "Python 3",
   "language": "python",
   "name": "python3"
  },
  "language_info": {
   "codemirror_mode": {
    "name": "ipython",
    "version": 3
   },
   "file_extension": ".py",
   "mimetype": "text/x-python",
   "name": "python",
   "nbconvert_exporter": "python",
   "pygments_lexer": "ipython3",
   "version": "3.6.4"
  }
 },
 "nbformat": 4,
 "nbformat_minor": 2
}
