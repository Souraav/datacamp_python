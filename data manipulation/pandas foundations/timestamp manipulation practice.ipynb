{
 "cells": [
  {
   "cell_type": "markdown",
   "metadata": {},
   "source": [
    "# Extra Practice\n",
    "The slicing will need regular practice - it still isn't fluent. However I have another notebook dedicated to that. This notebook is about time series manipulation. There is a timeseries course - which is what this subject needs. It's subtle."
   ]
  },
  {
   "cell_type": "code",
   "execution_count": 1,
   "metadata": {},
   "outputs": [],
   "source": [
    "import numpy as np\n",
    "import pandas as pd\n",
    "import matplotlib.pyplot as plt"
   ]
  },
  {
   "cell_type": "code",
   "execution_count": 3,
   "metadata": {},
   "outputs": [
    {
     "name": "stdout",
     "output_type": "stream",
     "text": [
      "date     object\n",
      "value     int64\n",
      "dtype: object\n"
     ]
    }
   ],
   "source": [
    "# Turning String to Datestamp\n",
    "dates = ['2018-01-02', '2018-01-02', '2018-01-03', '2018-01-04', '2018-01-05']\n",
    "vals = list(range(len(dates)))\n",
    "test_df = pd.DataFrame({'value': vals, 'date': dates})\n",
    "\n",
    "# Notice how date is an object - which is how pandas treats non numeric/logical data.\n",
    "print(test_df.dtypes)"
   ]
  },
  {
   "cell_type": "code",
   "execution_count": 7,
   "metadata": {},
   "outputs": [
    {
     "name": "stdout",
     "output_type": "stream",
     "text": [
      "date                 object\n",
      "value                 int64\n",
      "datestamp    datetime64[ns]\n",
      "dtype: object\n"
     ]
    }
   ],
   "source": [
    "\n",
    "# turn it to datestamp\n",
    "test_df['datestamp'] = pd.to_datetime(test_df['date'], format = '%Y-%m-%d')\n",
    "\n",
    "# now we have a datetime object (nanoseconds!)\n",
    "print(test_df.dtypes)"
   ]
  },
  {
   "cell_type": "code",
   "execution_count": null,
   "metadata": {},
   "outputs": [],
   "source": []
  }
 ],
 "metadata": {
  "kernelspec": {
   "display_name": "Python 3",
   "language": "python",
   "name": "python3"
  },
  "language_info": {
   "codemirror_mode": {
    "name": "ipython",
    "version": 3
   },
   "file_extension": ".py",
   "mimetype": "text/x-python",
   "name": "python",
   "nbconvert_exporter": "python",
   "pygments_lexer": "ipython3",
   "version": "3.6.4"
  }
 },
 "nbformat": 4,
 "nbformat_minor": 2
}
