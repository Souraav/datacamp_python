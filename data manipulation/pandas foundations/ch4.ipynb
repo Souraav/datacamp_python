{
 "cells": [
  {
   "cell_type": "markdown",
   "metadata": {},
   "source": [
    "# Chapter 4"
   ]
  },
  {
   "cell_type": "code",
   "execution_count": 3,
   "metadata": {},
   "outputs": [
    {
     "data": {
      "text/plain": [
       "('NOAA_QCLCD_2011_hourly_13904.txt', <http.client.HTTPMessage at 0x10d4941d0>)"
      ]
     },
     "execution_count": 3,
     "metadata": {},
     "output_type": "execute_result"
    }
   ],
   "source": [
    "import pandas as pd\n",
    "import matplotlib.pyplot as plt\n",
    "import numpy as np\n",
    "\n",
    "# data prep\n",
    "from urllib.request import urlretrieve\n",
    "file = 'NOAA_QCLCD_2011_hourly_13904.txt'\n",
    "url = 'https://assets.datacamp.com/production/course_1639/datasets/' + file\n",
    "urlretrieve(url, file)"
   ]
  },
  {
   "cell_type": "code",
   "execution_count": 4,
   "metadata": {},
   "outputs": [
    {
     "name": "stdout",
     "output_type": "stream",
     "text": [
      "   13904  20110101  0053  12  OVC045     10.00  .1  .2  .3 ...   .18  .19  \\\n",
      "0  13904  20110101   153  12  OVC049     10.00             ...              \n",
      "1  13904  20110101   253  12  OVC060     10.00             ...   030        \n",
      "2  13904  20110101   353  12  OVC065     10.00             ...              \n",
      "3  13904  20110101   453  12  BKN070     10.00             ...              \n",
      "4  13904  20110101   553  12  BKN065     10.00             ...   015        \n",
      "\n",
      "   29.95  .20  AA  .21  .22  .23 29.95.1  .24  \n",
      "0  30.01       AA                  30.02       \n",
      "1  30.01       AA                  30.02       \n",
      "2  30.03       AA                  30.04       \n",
      "3  30.04       AA                  30.04       \n",
      "4  30.06       AA                  30.06       \n",
      "\n",
      "[5 rows x 44 columns]\n",
      "      0         1    2   3       4  5      6  7  8  9  ...   34 35     36 37  \\\n",
      "0  13904  20110101   53  12  OVC045     10.00          ...          29.95      \n",
      "1  13904  20110101  153  12  OVC049     10.00          ...          30.01      \n",
      "2  13904  20110101  253  12  OVC060     10.00          ...  030     30.01      \n",
      "3  13904  20110101  353  12  OVC065     10.00          ...          30.03      \n",
      "4  13904  20110101  453  12  BKN070     10.00          ...          30.04      \n",
      "\n",
      "   38 39 40 41     42 43  \n",
      "0  AA           29.95     \n",
      "1  AA           30.02     \n",
      "2  AA           30.02     \n",
      "3  AA           30.04     \n",
      "4  AA           30.04     \n",
      "\n",
      "[5 rows x 44 columns]\n"
     ]
    }
   ],
   "source": [
    "# Import pandas\n",
    "import pandas as pd\n",
    "\n",
    "# Read in the data file: df\n",
    "df = pd.read_csv(file)\n",
    "\n",
    "# Print the output of df.head()\n",
    "print(df.head())\n",
    "\n",
    "# Read in the data file with header=None: df_headers\n",
    "df_headers = pd.read_csv(file, header=None)\n",
    "\n",
    "# Print the output of df_headers.head()\n",
    "print(df_headers.head())\n"
   ]
  },
  {
   "cell_type": "code",
   "execution_count": 5,
   "metadata": {},
   "outputs": [],
   "source": [
    "# data prep\n",
    "column_labels = 'Wban,date,Time,StationType,sky_condition,sky_conditionFlag,visibility,visibilityFlag,wx_and_obst_to_vision,wx_and_obst_to_visionFlag,dry_bulb_faren,dry_bulb_farenFlag,dry_bulb_cel,dry_bulb_celFlag,wet_bulb_faren,wet_bulb_farenFlag,wet_bulb_cel,wet_bulb_celFlag,dew_point_faren,dew_point_farenFlag,dew_point_cel,dew_point_celFlag,relative_humidity,relative_humidityFlag,wind_speed,wind_speedFlag,wind_direction,wind_directionFlag,value_for_wind_character,value_for_wind_characterFlag,station_pressure,station_pressureFlag,pressure_tendency,pressure_tendencyFlag,presschange,presschangeFlag,sea_level_pressure,sea_level_pressureFlag,record_type,hourly_precip,hourly_precipFlag,altimeter,altimeterFlag,junk'\n",
    "list_to_drop = ['sky_conditionFlag',\n",
    " 'visibilityFlag',\n",
    " 'wx_and_obst_to_vision',\n",
    " 'wx_and_obst_to_visionFlag',\n",
    " 'dry_bulb_farenFlag',\n",
    " 'dry_bulb_celFlag',\n",
    " 'wet_bulb_farenFlag',\n",
    " 'wet_bulb_celFlag',\n",
    " 'dew_point_farenFlag',\n",
    " 'dew_point_celFlag',\n",
    " 'relative_humidityFlag',\n",
    " 'wind_speedFlag',\n",
    " 'wind_directionFlag',\n",
    " 'value_for_wind_character',\n",
    " 'value_for_wind_characterFlag',\n",
    " 'station_pressureFlag',\n",
    " 'pressure_tendencyFlag',\n",
    " 'pressure_tendency',\n",
    " 'presschange',\n",
    " 'presschangeFlag',\n",
    " 'sea_level_pressureFlag',\n",
    " 'hourly_precip',\n",
    " 'hourly_precipFlag',\n",
    " 'altimeter',\n",
    " 'record_type',\n",
    " 'altimeterFlag',\n",
    " 'junk']"
   ]
  },
  {
   "cell_type": "code",
   "execution_count": 9,
   "metadata": {},
   "outputs": [
    {
     "name": "stdout",
     "output_type": "stream",
     "text": [
      "    Wban      date  Time  StationType sky_condition visibility dry_bulb_faren  \\\n",
      "0  13904  20110101   153           12        OVC049      10.00             51   \n",
      "1  13904  20110101   253           12        OVC060      10.00             51   \n",
      "2  13904  20110101   353           12        OVC065      10.00             50   \n",
      "3  13904  20110101   453           12        BKN070      10.00             50   \n",
      "4  13904  20110101   553           12        BKN065      10.00             49   \n",
      "\n",
      "  dry_bulb_cel wet_bulb_faren wet_bulb_cel dew_point_faren dew_point_cel  \\\n",
      "0         10.6             37          3.0              14         -10.0   \n",
      "1         10.6             37          2.9              13         -10.6   \n",
      "2         10.0             38          3.1              17          -8.3   \n",
      "3         10.0             37          2.8              15          -9.4   \n",
      "4          9.4             37          2.8              17          -8.3   \n",
      "\n",
      "  relative_humidity wind_speed wind_direction station_pressure  \\\n",
      "0                23         10            340            29.49   \n",
      "1                22         15            010            29.49   \n",
      "2                27          7            350            29.51   \n",
      "3                25         11            020            29.51   \n",
      "4                28          6            010            29.53   \n",
      "\n",
      "  sea_level_pressure  \n",
      "0              30.01  \n",
      "1              30.01  \n",
      "2              30.03  \n",
      "3              30.04  \n",
      "4              30.06  \n"
     ]
    }
   ],
   "source": [
    "# Split on the comma to create a list: column_labels_list\n",
    "column_labels_list = column_labels.split(',')\n",
    "\n",
    "# Assign the new column labels to the DataFrame: df.columns\n",
    "df.columns = column_labels_list\n",
    "\n",
    "# Remove the appropriate columns: df_dropped\n",
    "df_dropped = df.drop(list_to_drop, axis='columns')\n",
    "\n",
    "# Print the output of df_dropped.head()\n",
    "print(df_dropped.head())\n"
   ]
  },
  {
   "cell_type": "code",
   "execution_count": 13,
   "metadata": {},
   "outputs": [
    {
     "name": "stdout",
     "output_type": "stream",
     "text": [
      "                      Wban      date  Time  StationType sky_condition  \\\n",
      "2011-01-01 01:53:00  13904  20110101  0153           12        OVC049   \n",
      "2011-01-01 02:53:00  13904  20110101  0253           12        OVC060   \n",
      "2011-01-01 03:53:00  13904  20110101  0353           12        OVC065   \n",
      "2011-01-01 04:53:00  13904  20110101  0453           12        BKN070   \n",
      "2011-01-01 05:53:00  13904  20110101  0553           12        BKN065   \n",
      "\n",
      "                    visibility dry_bulb_faren dry_bulb_cel wet_bulb_faren  \\\n",
      "2011-01-01 01:53:00      10.00             51         10.6             37   \n",
      "2011-01-01 02:53:00      10.00             51         10.6             37   \n",
      "2011-01-01 03:53:00      10.00             50         10.0             38   \n",
      "2011-01-01 04:53:00      10.00             50         10.0             37   \n",
      "2011-01-01 05:53:00      10.00             49          9.4             37   \n",
      "\n",
      "                    wet_bulb_cel dew_point_faren dew_point_cel  \\\n",
      "2011-01-01 01:53:00          3.0              14         -10.0   \n",
      "2011-01-01 02:53:00          2.9              13         -10.6   \n",
      "2011-01-01 03:53:00          3.1              17          -8.3   \n",
      "2011-01-01 04:53:00          2.8              15          -9.4   \n",
      "2011-01-01 05:53:00          2.8              17          -8.3   \n",
      "\n",
      "                    relative_humidity wind_speed wind_direction  \\\n",
      "2011-01-01 01:53:00                23         10            340   \n",
      "2011-01-01 02:53:00                22         15            010   \n",
      "2011-01-01 03:53:00                27          7            350   \n",
      "2011-01-01 04:53:00                25         11            020   \n",
      "2011-01-01 05:53:00                28          6            010   \n",
      "\n",
      "                    station_pressure sea_level_pressure  \n",
      "2011-01-01 01:53:00            29.49              30.01  \n",
      "2011-01-01 02:53:00            29.49              30.01  \n",
      "2011-01-01 03:53:00            29.51              30.03  \n",
      "2011-01-01 04:53:00            29.51              30.04  \n",
      "2011-01-01 05:53:00            29.53              30.06  \n"
     ]
    }
   ],
   "source": [
    "# Convert the date column to string: df_dropped['date']\n",
    "df_dropped['date'] = df_dropped.date.astype(str)\n",
    "\n",
    "# Pad leading zeros to the Time column: df_dropped['Time']\n",
    "# '{:}' is an advanced format string, PEP 3101\n",
    "df_dropped['Time'] = df_dropped['Time'].apply(lambda x:'{:0>4}'.format(x))\n",
    "\n",
    "# Concatenate the new date and Time columns: date_string\n",
    "date_string = df_dropped['date'] + df_dropped['Time']\n",
    "\n",
    "# Convert the date_string Series to datetime: date_times\n",
    "date_times = pd.to_datetime(date_string, format='%Y%m%d%H%M')\n",
    "\n",
    "# Set the index to be the new date_times container: df_clean\n",
    "df_clean = df_dropped.set_index(date_times)\n",
    "\n",
    "# Print the output of df_clean.head()\n",
    "print(df_clean.head())"
   ]
  },
  {
   "cell_type": "code",
   "execution_count": 23,
   "metadata": {},
   "outputs": [
    {
     "name": "stdout",
     "output_type": "stream",
     "text": [
      "2011-06-20 08:27:00     NaN\n",
      "2011-06-20 08:28:00     NaN\n",
      "2011-06-20 08:29:00     NaN\n",
      "2011-06-20 08:30:00     NaN\n",
      "2011-06-20 08:31:00     NaN\n",
      "2011-06-20 08:32:00     NaN\n",
      "2011-06-20 08:33:00     NaN\n",
      "2011-06-20 08:34:00     NaN\n",
      "2011-06-20 08:35:00     NaN\n",
      "2011-06-20 08:53:00    83.0\n",
      "Name: dry_bulb_faren, dtype: float64\n"
     ]
    }
   ],
   "source": [
    "# Print the dry_bulb_faren temperature between 8 AM and 9 AM on June 20, 2011\n",
    "print(df_clean.loc['2011-Jun-20 8am':'2011-Jun-20 8am', 'dry_bulb_faren'])"
   ]
  },
  {
   "cell_type": "code",
   "execution_count": 24,
   "metadata": {},
   "outputs": [
    {
     "name": "stdout",
     "output_type": "stream",
     "text": [
      "2011-06-20 08:27:00     NaN\n",
      "2011-06-20 08:28:00     NaN\n",
      "2011-06-20 08:29:00     NaN\n",
      "2011-06-20 08:30:00     NaN\n",
      "2011-06-20 08:31:00     NaN\n",
      "2011-06-20 08:32:00     NaN\n",
      "2011-06-20 08:33:00     NaN\n",
      "2011-06-20 08:34:00     NaN\n",
      "2011-06-20 08:35:00     NaN\n",
      "2011-06-20 08:53:00    83.0\n",
      "Name: dry_bulb_faren, dtype: float64\n"
     ]
    }
   ],
   "source": [
    "# Convert the dry_bulb_faren column to numeric values: df_clean['dry_bulb_faren']\n",
    "df_clean['dry_bulb_faren'] = pd.to_numeric(df_clean['dry_bulb_faren'], errors='coerce')\n",
    "\n",
    "# Print the transformed dry_bulb_faren temperature between 8 AM and 9 AM on June 20, 2011\n",
    "print(df_clean.loc['2011-Jun-20 8am':'2011-Jun-20 8am', 'dry_bulb_faren'])"
   ]
  },
  {
   "cell_type": "code",
   "execution_count": 25,
   "metadata": {},
   "outputs": [],
   "source": [
    "# Convert the wind_speed and dew_point_faren columns to numeric values\n",
    "df_clean['wind_speed'] = pd.to_numeric(df_clean['wind_speed'], errors='coerce')\n",
    "df_clean['dew_point_faren'] = pd.to_numeric(df_clean['dew_point_faren'], errors='coerce')"
   ]
  },
  {
   "cell_type": "code",
   "execution_count": 26,
   "metadata": {},
   "outputs": [
    {
     "name": "stdout",
     "output_type": "stream",
     "text": [
      "2011-06-20 08:27:00     NaN\n",
      "2011-06-20 08:28:00     NaN\n",
      "2011-06-20 08:29:00     NaN\n",
      "2011-06-20 08:30:00     NaN\n",
      "2011-06-20 08:31:00     NaN\n",
      "2011-06-20 08:32:00     NaN\n",
      "2011-06-20 08:33:00     NaN\n",
      "2011-06-20 08:34:00     NaN\n",
      "2011-06-20 08:35:00     NaN\n",
      "2011-06-20 08:53:00    83.0\n",
      "Name: dry_bulb_faren, dtype: float64\n",
      "2011-06-20 08:27:00     NaN\n",
      "2011-06-20 08:28:00     NaN\n",
      "2011-06-20 08:29:00     NaN\n",
      "2011-06-20 08:30:00     NaN\n",
      "2011-06-20 08:31:00     NaN\n",
      "2011-06-20 08:32:00     NaN\n",
      "2011-06-20 08:33:00     NaN\n",
      "2011-06-20 08:34:00     NaN\n",
      "2011-06-20 08:35:00     NaN\n",
      "2011-06-20 08:53:00    83.0\n",
      "Name: dry_bulb_faren, dtype: float64\n"
     ]
    }
   ],
   "source": [
    "# Print the dry_bulb_faren temperature between 8 AM and 9 AM on June 20, 2011\n",
    "print(df_clean.loc['June 20, 2011 8 AM':'June 20, 2011 8 AM', 'dry_bulb_faren'])\n",
    "\n",
    "# Convert the dry_bulb_faren column to numeric values: df_clean['dry_bulb_faren']\n",
    "df_clean['dry_bulb_faren'] = pd.to_numeric(df_clean['dry_bulb_faren'], errors='coerce')\n",
    "\n",
    "# Print the transformed dry_bulb_faren temperature between 8 AM and 9 AM on June 20, 2011\n",
    "print(df_clean.loc['2011-Jun-20 8am':'2011-Jun-20 8am', 'dry_bulb_faren'])\n",
    "\n",
    "# Convert the wind_speed and dew_point_faren columns to numeric values\n",
    "df_clean['wind_speed'] = pd.to_numeric(df_clean['wind_speed'], errors='coerce')\n",
    "df_clean['dew_point_faren'] = pd.to_numeric(df_clean['dew_point_faren'], errors='coerce')"
   ]
  },
  {
   "cell_type": "markdown",
   "metadata": {},
   "source": [
    "## Statistical Exploratory Data Analysis"
   ]
  },
  {
   "cell_type": "code",
   "execution_count": 29,
   "metadata": {},
   "outputs": [
    {
     "name": "stdout",
     "output_type": "stream",
     "text": [
      "72.0\n",
      "78.0\n",
      "48.0\n"
     ]
    }
   ],
   "source": [
    "# Print the median of the dry_bulb_faren column\n",
    "print(df_clean.dry_bulb_faren.median())\n",
    "\n",
    "# Print the median of the dry_bulb_faren column for the time range '2011-Apr':'2011-Jun'\n",
    "print(df_clean.loc['2011-Apr':'2011-Jun', 'dry_bulb_faren'].median())\n",
    "\n",
    "# Print the median of the dry_bulb_faren column for the month of January\n",
    "print(df_clean.loc['2011-Jan':'2011-Jan', 'dry_bulb_faren'].median())"
   ]
  },
  {
   "cell_type": "code",
   "execution_count": 35,
   "metadata": {},
   "outputs": [
    {
     "name": "stdout",
     "output_type": "stream",
     "text": [
      "50.130434782608695\n",
      "count    23.000000\n",
      "mean     50.130435\n",
      "std       6.510860\n",
      "min      38.000000\n",
      "25%      47.500000\n",
      "50%      50.000000\n",
      "75%      55.500000\n",
      "max      59.000000\n",
      "Name: dry_bulb_faren, dtype: float64\n"
     ]
    }
   ],
   "source": [
    "# Downsample df_clean by day and aggregate by mean: daily_mean_2011\n",
    "daily_mean_2011 = df_clean.resample('D').mean()\n",
    "print(daily_mean_2011.loc['2011-01-01', 'dry_bulb_faren'])\n",
    "print(df_clean.loc['2011-01-01', 'dry_bulb_faren'].describe())"
   ]
  },
  {
   "cell_type": "code",
   "execution_count": 38,
   "metadata": {},
   "outputs": [
    {
     "name": "stdout",
     "output_type": "stream",
     "text": [
      "(8759, 3)\n"
     ]
    }
   ],
   "source": [
    "# Data prep\n",
    "from urllib.request import urlretrieve\n",
    "file = 'weather_data_austin_2010.csv'\n",
    "url = 'https://assets.datacamp.com/production/course_1639/datasets/' + file\n",
    "urlretrieve(url, file)\n",
    "\n",
    "# Load file, but use date string to create a time series\n",
    "df_austin = pd.read_csv(file, parse_dates=True, index_col = 'Date')\n",
    "df_climate = df_austin\n",
    "print(df_climate.shape)"
   ]
  },
  {
   "cell_type": "code",
   "execution_count": 42,
   "metadata": {},
   "outputs": [
    {
     "name": "stdout",
     "output_type": "stream",
     "text": [
      "0    49.337500\n",
      "1    49.795833\n",
      "2    49.900000\n",
      "3    49.729167\n",
      "4    49.841667\n",
      "5    49.679167\n",
      "6    49.491667\n",
      "7    49.366667\n",
      "8    49.354167\n",
      "9    49.354167\n",
      "Name: Temperature, dtype: float64\n"
     ]
    }
   ],
   "source": [
    "# Downsample df_climate by day and aggregate by mean: daily_climate\n",
    "daily_climate = df_climate.resample('D').mean()\n",
    "\n",
    "# Extract the Temperature column from daily_climate using .reset_index(): daily_temp_climate\n",
    "daily_temp_climate = daily_climate.reset_index().loc[:, 'Temperature']\n",
    "\n",
    "print(daily_temp_climate.head(10))"
   ]
  },
  {
   "cell_type": "code",
   "execution_count": 43,
   "metadata": {},
   "outputs": [
    {
     "name": "stdout",
     "output_type": "stream",
     "text": [
      "1.330083921569873\n"
     ]
    }
   ],
   "source": [
    "# Downsample df_clean by day and aggregate by mean: daily_mean_2011\n",
    "daily_mean_2011 = df_clean.resample('D').mean()\n",
    "\n",
    "# Extract the dry_bulb_faren column from daily_mean_2011 using .values: daily_temp_2011\n",
    "daily_temp_2011 = daily_mean_2011.dry_bulb_faren.values\n",
    "\n",
    "# Downsample df_climate by day and aggregate by mean: daily_climate\n",
    "daily_climate = df_climate.resample('D').mean()\n",
    "\n",
    "# Extract the Temperature column from daily_climate using .reset_index(): daily_temp_climate\n",
    "daily_temp_climate = daily_climate.reset_index().loc[:, 'Temperature']\n",
    "\n",
    "# Compute the difference between the two arrays and print the mean difference\n",
    "difference = daily_temp_2011 - daily_temp_climate\n",
    "print(difference.mean())\n"
   ]
  },
  {
   "cell_type": "code",
   "execution_count": 55,
   "metadata": {},
   "outputs": [
    {
     "name": "stdout",
     "output_type": "stream",
     "text": [
      "          Wban  StationType  dry_bulb_faren  dew_point_faren   wind_speed\n",
      "count   2349.0       2349.0     2349.000000      2349.000000  2346.000000\n",
      "mean   13904.0         12.0       64.084291        47.097063     6.705030\n",
      "std        0.0          0.0       18.894188        16.823488     5.805882\n",
      "min    13904.0         12.0       18.000000         8.000000     0.000000\n",
      "25%    13904.0         12.0       50.000000        34.000000     0.000000\n",
      "50%    13904.0         12.0       66.000000        46.000000     6.000000\n",
      "75%    13904.0         12.0       80.000000        63.000000    10.000000\n",
      "max    13904.0         12.0      104.000000        75.000000    28.000000\n",
      "          Wban  StationType  dry_bulb_faren  dew_point_faren   wind_speed\n",
      "count   2757.0       2757.0     2755.000000      2753.000000  2757.000000\n",
      "mean   13904.0         12.0       60.612704        54.460952     9.943779\n",
      "std        0.0          0.0       13.749705        14.384919     5.446677\n",
      "min    13904.0         12.0       19.000000         6.000000     0.000000\n",
      "25%    13904.0         12.0       50.000000        45.000000     6.000000\n",
      "50%    13904.0         12.0       63.000000        59.000000    10.000000\n",
      "75%    13904.0         12.0       71.000000        66.000000    14.000000\n",
      "max    13904.0         12.0       95.000000        76.000000    29.000000\n"
     ]
    }
   ],
   "source": [
    "# Select days that are sunny: sunny\n",
    "sunny = df_clean.loc[df_clean['sky_condition'] == 'CLR']\n",
    "print(sunny.describe())\n",
    "\n",
    "# Select days that are overcast: overcast\n",
    "overcast = df_clean.loc[df_clean['sky_condition'].str.contains('OVC')]\n",
    "print(overcast.describe())"
   ]
  },
  {
   "cell_type": "code",
   "execution_count": 56,
   "metadata": {},
   "outputs": [
    {
     "name": "stdout",
     "output_type": "stream",
     "text": [
      "Wban               0.000000\n",
      "StationType        0.000000\n",
      "dry_bulb_faren     6.504304\n",
      "dew_point_faren   -4.339286\n",
      "wind_speed        -3.246062\n",
      "dtype: float64\n"
     ]
    }
   ],
   "source": [
    "# Select days that are sunny: sunny\n",
    "sunny = df_clean.loc[df_clean['sky_condition'] == 'CLR']\n",
    "\n",
    "# Select days that are overcast: overcast\n",
    "overcast = df_clean.loc[df_clean['sky_condition'].str.contains('OVC')]\n",
    "\n",
    "# Resample sunny and overcast, aggregating by maximum daily temperature\n",
    "sunny_daily_max = sunny.resample('D').max()\n",
    "overcast_daily_max = overcast.resample('D').max()\n",
    "\n",
    "# Print the difference between the mean of sunny_daily_max and overcast_daily_max\n",
    "print(sunny_daily_max.mean() - overcast_daily_max.mean())\n"
   ]
  },
  {
   "cell_type": "markdown",
   "metadata": {},
   "source": [
    "## Visual Exploratory Data Analysis"
   ]
  },
  {
   "cell_type": "code",
   "execution_count": 71,
   "metadata": {},
   "outputs": [
    {
     "data": {
      "text/html": [
       "<div>\n",
       "<style scoped>\n",
       "    .dataframe tbody tr th:only-of-type {\n",
       "        vertical-align: middle;\n",
       "    }\n",
       "\n",
       "    .dataframe tbody tr th {\n",
       "        vertical-align: top;\n",
       "    }\n",
       "\n",
       "    .dataframe thead th {\n",
       "        text-align: right;\n",
       "    }\n",
       "</style>\n",
       "<table border=\"1\" class=\"dataframe\">\n",
       "  <thead>\n",
       "    <tr style=\"text-align: right;\">\n",
       "      <th></th>\n",
       "      <th>visibility</th>\n",
       "      <th>dry_bulb_faren</th>\n",
       "    </tr>\n",
       "  </thead>\n",
       "  <tbody>\n",
       "    <tr>\n",
       "      <th>2011-01-02</th>\n",
       "      <td>10.000000</td>\n",
       "      <td>44.659574</td>\n",
       "    </tr>\n",
       "    <tr>\n",
       "      <th>2011-01-09</th>\n",
       "      <td>8.275785</td>\n",
       "      <td>50.246637</td>\n",
       "    </tr>\n",
       "    <tr>\n",
       "      <th>2011-01-16</th>\n",
       "      <td>6.451651</td>\n",
       "      <td>41.103774</td>\n",
       "    </tr>\n",
       "    <tr>\n",
       "      <th>2011-01-23</th>\n",
       "      <td>8.370853</td>\n",
       "      <td>47.194313</td>\n",
       "    </tr>\n",
       "    <tr>\n",
       "      <th>2011-01-30</th>\n",
       "      <td>9.966851</td>\n",
       "      <td>53.486188</td>\n",
       "    </tr>\n",
       "    <tr>\n",
       "      <th>2011-02-06</th>\n",
       "      <td>9.242647</td>\n",
       "      <td>38.235294</td>\n",
       "    </tr>\n",
       "    <tr>\n",
       "      <th>2011-02-13</th>\n",
       "      <td>9.281768</td>\n",
       "      <td>40.082873</td>\n",
       "    </tr>\n",
       "    <tr>\n",
       "      <th>2011-02-20</th>\n",
       "      <td>8.711134</td>\n",
       "      <td>65.100840</td>\n",
       "    </tr>\n",
       "    <tr>\n",
       "      <th>2011-02-27</th>\n",
       "      <td>8.154206</td>\n",
       "      <td>64.976636</td>\n",
       "    </tr>\n",
       "    <tr>\n",
       "      <th>2011-03-06</th>\n",
       "      <td>9.795580</td>\n",
       "      <td>57.707182</td>\n",
       "    </tr>\n",
       "    <tr>\n",
       "      <th>2011-03-13</th>\n",
       "      <td>9.633166</td>\n",
       "      <td>62.180905</td>\n",
       "    </tr>\n",
       "    <tr>\n",
       "      <th>2011-03-20</th>\n",
       "      <td>9.687204</td>\n",
       "      <td>67.933649</td>\n",
       "    </tr>\n",
       "    <tr>\n",
       "      <th>2011-03-27</th>\n",
       "      <td>9.684466</td>\n",
       "      <td>70.941748</td>\n",
       "    </tr>\n",
       "    <tr>\n",
       "      <th>2011-04-03</th>\n",
       "      <td>7.510664</td>\n",
       "      <td>65.336493</td>\n",
       "    </tr>\n",
       "    <tr>\n",
       "      <th>2011-04-10</th>\n",
       "      <td>9.069767</td>\n",
       "      <td>71.209302</td>\n",
       "    </tr>\n",
       "    <tr>\n",
       "      <th>2011-04-17</th>\n",
       "      <td>9.623656</td>\n",
       "      <td>68.881720</td>\n",
       "    </tr>\n",
       "    <tr>\n",
       "      <th>2011-04-24</th>\n",
       "      <td>8.831731</td>\n",
       "      <td>79.418269</td>\n",
       "    </tr>\n",
       "    <tr>\n",
       "      <th>2011-05-01</th>\n",
       "      <td>8.962500</td>\n",
       "      <td>75.705000</td>\n",
       "    </tr>\n",
       "    <tr>\n",
       "      <th>2011-05-08</th>\n",
       "      <td>9.668394</td>\n",
       "      <td>66.689119</td>\n",
       "    </tr>\n",
       "    <tr>\n",
       "      <th>2011-05-15</th>\n",
       "      <td>8.618357</td>\n",
       "      <td>73.801932</td>\n",
       "    </tr>\n",
       "    <tr>\n",
       "      <th>2011-05-22</th>\n",
       "      <td>8.214932</td>\n",
       "      <td>77.208145</td>\n",
       "    </tr>\n",
       "    <tr>\n",
       "      <th>2011-05-29</th>\n",
       "      <td>8.969251</td>\n",
       "      <td>82.556150</td>\n",
       "    </tr>\n",
       "    <tr>\n",
       "      <th>2011-06-05</th>\n",
       "      <td>9.653846</td>\n",
       "      <td>82.143541</td>\n",
       "    </tr>\n",
       "    <tr>\n",
       "      <th>2011-06-12</th>\n",
       "      <td>9.591837</td>\n",
       "      <td>83.316327</td>\n",
       "    </tr>\n",
       "    <tr>\n",
       "      <th>2011-06-19</th>\n",
       "      <td>9.959184</td>\n",
       "      <td>86.619289</td>\n",
       "    </tr>\n",
       "    <tr>\n",
       "      <th>2011-06-26</th>\n",
       "      <td>9.695755</td>\n",
       "      <td>83.222749</td>\n",
       "    </tr>\n",
       "    <tr>\n",
       "      <th>2011-07-03</th>\n",
       "      <td>9.940299</td>\n",
       "      <td>84.990050</td>\n",
       "    </tr>\n",
       "    <tr>\n",
       "      <th>2011-07-10</th>\n",
       "      <td>10.000000</td>\n",
       "      <td>85.209945</td>\n",
       "    </tr>\n",
       "    <tr>\n",
       "      <th>2011-07-17</th>\n",
       "      <td>10.000000</td>\n",
       "      <td>85.983784</td>\n",
       "    </tr>\n",
       "    <tr>\n",
       "      <th>2011-07-24</th>\n",
       "      <td>9.902062</td>\n",
       "      <td>85.175258</td>\n",
       "    </tr>\n",
       "    <tr>\n",
       "      <th>2011-07-31</th>\n",
       "      <td>9.936508</td>\n",
       "      <td>86.804233</td>\n",
       "    </tr>\n",
       "    <tr>\n",
       "      <th>2011-08-07</th>\n",
       "      <td>10.000000</td>\n",
       "      <td>89.124294</td>\n",
       "    </tr>\n",
       "    <tr>\n",
       "      <th>2011-08-14</th>\n",
       "      <td>9.880597</td>\n",
       "      <td>87.592040</td>\n",
       "    </tr>\n",
       "    <tr>\n",
       "      <th>2011-08-21</th>\n",
       "      <td>9.994286</td>\n",
       "      <td>88.611429</td>\n",
       "    </tr>\n",
       "    <tr>\n",
       "      <th>2011-08-28</th>\n",
       "      <td>10.000000</td>\n",
       "      <td>88.512346</td>\n",
       "    </tr>\n",
       "    <tr>\n",
       "      <th>2011-09-04</th>\n",
       "      <td>9.875000</td>\n",
       "      <td>88.452381</td>\n",
       "    </tr>\n",
       "    <tr>\n",
       "      <th>2011-09-11</th>\n",
       "      <td>9.858824</td>\n",
       "      <td>76.335294</td>\n",
       "    </tr>\n",
       "    <tr>\n",
       "      <th>2011-09-18</th>\n",
       "      <td>9.249282</td>\n",
       "      <td>81.307692</td>\n",
       "    </tr>\n",
       "    <tr>\n",
       "      <th>2011-09-25</th>\n",
       "      <td>9.977011</td>\n",
       "      <td>79.206897</td>\n",
       "    </tr>\n",
       "    <tr>\n",
       "      <th>2011-10-02</th>\n",
       "      <td>10.000000</td>\n",
       "      <td>78.264045</td>\n",
       "    </tr>\n",
       "    <tr>\n",
       "      <th>2011-10-09</th>\n",
       "      <td>9.477053</td>\n",
       "      <td>73.111111</td>\n",
       "    </tr>\n",
       "    <tr>\n",
       "      <th>2011-10-16</th>\n",
       "      <td>9.657609</td>\n",
       "      <td>70.527174</td>\n",
       "    </tr>\n",
       "    <tr>\n",
       "      <th>2011-10-23</th>\n",
       "      <td>9.551724</td>\n",
       "      <td>66.982759</td>\n",
       "    </tr>\n",
       "    <tr>\n",
       "      <th>2011-10-30</th>\n",
       "      <td>8.784146</td>\n",
       "      <td>63.409756</td>\n",
       "    </tr>\n",
       "    <tr>\n",
       "      <th>2011-11-06</th>\n",
       "      <td>9.972376</td>\n",
       "      <td>61.434066</td>\n",
       "    </tr>\n",
       "    <tr>\n",
       "      <th>2011-11-13</th>\n",
       "      <td>9.861702</td>\n",
       "      <td>63.537234</td>\n",
       "    </tr>\n",
       "    <tr>\n",
       "      <th>2011-11-20</th>\n",
       "      <td>9.325792</td>\n",
       "      <td>67.823529</td>\n",
       "    </tr>\n",
       "    <tr>\n",
       "      <th>2011-11-27</th>\n",
       "      <td>8.442837</td>\n",
       "      <td>60.995192</td>\n",
       "    </tr>\n",
       "    <tr>\n",
       "      <th>2011-12-04</th>\n",
       "      <td>6.989712</td>\n",
       "      <td>53.646091</td>\n",
       "    </tr>\n",
       "    <tr>\n",
       "      <th>2011-12-11</th>\n",
       "      <td>8.580808</td>\n",
       "      <td>43.070707</td>\n",
       "    </tr>\n",
       "    <tr>\n",
       "      <th>2011-12-18</th>\n",
       "      <td>7.414959</td>\n",
       "      <td>58.885246</td>\n",
       "    </tr>\n",
       "    <tr>\n",
       "      <th>2011-12-25</th>\n",
       "      <td>7.713636</td>\n",
       "      <td>50.127273</td>\n",
       "    </tr>\n",
       "    <tr>\n",
       "      <th>2012-01-01</th>\n",
       "      <td>9.947368</td>\n",
       "      <td>49.098684</td>\n",
       "    </tr>\n",
       "  </tbody>\n",
       "</table>\n",
       "</div>"
      ],
      "text/plain": [
       "            visibility  dry_bulb_faren\n",
       "2011-01-02   10.000000       44.659574\n",
       "2011-01-09    8.275785       50.246637\n",
       "2011-01-16    6.451651       41.103774\n",
       "2011-01-23    8.370853       47.194313\n",
       "2011-01-30    9.966851       53.486188\n",
       "2011-02-06    9.242647       38.235294\n",
       "2011-02-13    9.281768       40.082873\n",
       "2011-02-20    8.711134       65.100840\n",
       "2011-02-27    8.154206       64.976636\n",
       "2011-03-06    9.795580       57.707182\n",
       "2011-03-13    9.633166       62.180905\n",
       "2011-03-20    9.687204       67.933649\n",
       "2011-03-27    9.684466       70.941748\n",
       "2011-04-03    7.510664       65.336493\n",
       "2011-04-10    9.069767       71.209302\n",
       "2011-04-17    9.623656       68.881720\n",
       "2011-04-24    8.831731       79.418269\n",
       "2011-05-01    8.962500       75.705000\n",
       "2011-05-08    9.668394       66.689119\n",
       "2011-05-15    8.618357       73.801932\n",
       "2011-05-22    8.214932       77.208145\n",
       "2011-05-29    8.969251       82.556150\n",
       "2011-06-05    9.653846       82.143541\n",
       "2011-06-12    9.591837       83.316327\n",
       "2011-06-19    9.959184       86.619289\n",
       "2011-06-26    9.695755       83.222749\n",
       "2011-07-03    9.940299       84.990050\n",
       "2011-07-10   10.000000       85.209945\n",
       "2011-07-17   10.000000       85.983784\n",
       "2011-07-24    9.902062       85.175258\n",
       "2011-07-31    9.936508       86.804233\n",
       "2011-08-07   10.000000       89.124294\n",
       "2011-08-14    9.880597       87.592040\n",
       "2011-08-21    9.994286       88.611429\n",
       "2011-08-28   10.000000       88.512346\n",
       "2011-09-04    9.875000       88.452381\n",
       "2011-09-11    9.858824       76.335294\n",
       "2011-09-18    9.249282       81.307692\n",
       "2011-09-25    9.977011       79.206897\n",
       "2011-10-02   10.000000       78.264045\n",
       "2011-10-09    9.477053       73.111111\n",
       "2011-10-16    9.657609       70.527174\n",
       "2011-10-23    9.551724       66.982759\n",
       "2011-10-30    8.784146       63.409756\n",
       "2011-11-06    9.972376       61.434066\n",
       "2011-11-13    9.861702       63.537234\n",
       "2011-11-20    9.325792       67.823529\n",
       "2011-11-27    8.442837       60.995192\n",
       "2011-12-04    6.989712       53.646091\n",
       "2011-12-11    8.580808       43.070707\n",
       "2011-12-18    7.414959       58.885246\n",
       "2011-12-25    7.713636       50.127273\n",
       "2012-01-01    9.947368       49.098684"
      ]
     },
     "execution_count": 71,
     "metadata": {},
     "output_type": "execute_result"
    }
   ],
   "source": [
    "# data prep\n",
    "# Turn our visibility column into a numeric from a string\n",
    "df_clean.visibility = pd.to_numeric(df_clean.visibility, errors='coerce')\n",
    "\n",
    "# Select the visibility and dry_bulb_faren columns and resample them: weekly_mean\n",
    "weekly_mean = df_clean.loc[:,['visibility', 'dry_bulb_faren']].resample('W').mean()\n",
    "weekly_mean"
   ]
  },
  {
   "cell_type": "code",
   "execution_count": 72,
   "metadata": {},
   "outputs": [
    {
     "name": "stdout",
     "output_type": "stream",
     "text": [
      "                visibility  dry_bulb_faren\n",
      "visibility         1.00000         0.49004\n",
      "dry_bulb_faren     0.49004         1.00000\n"
     ]
    },
    {
     "data": {
      "image/png": "[encoded data removed]",
      "text/plain": [
       "<matplotlib.figure.Figure at 0x108b63f60>"
      ]
     },
     "metadata": {},
     "output_type": "display_data"
    }
   ],
   "source": [
    "# Import matplotlib.pyplot as plt\n",
    "import matplotlib.pyplot as plt\n",
    "\n",
    "# Select the visibility and dry_bulb_faren columns and resample them: weekly_mean\n",
    "weekly_mean = df_clean.loc[:, ['visibility', 'dry_bulb_faren']].resample('W').mean()\n",
    "\n",
    "# Print the output of weekly_mean.corr()\n",
    "print(weekly_mean.corr())\n",
    "\n",
    "# Plot weekly_mean with subplots=True\n",
    "weekly_mean.plot(subplots = True)\n",
    "plt.show()\n"
   ]
  },
  {
   "cell_type": "code",
   "execution_count": 63,
   "metadata": {},
   "outputs": [
    {
     "data": {
      "text/plain": [
       "2011-01-01 01:53:00    10.00\n",
       "2011-01-01 02:53:00    10.00\n",
       "2011-01-01 03:53:00    10.00\n",
       "2011-01-01 04:53:00    10.00\n",
       "2011-01-01 05:53:00    10.00\n",
       "2011-01-01 06:53:00    10.00\n",
       "2011-01-01 07:53:00    10.00\n",
       "2011-01-01 08:53:00    10.00\n",
       "2011-01-01 09:53:00    10.00\n",
       "2011-01-01 10:53:00    10.00\n",
       "2011-01-01 11:53:00    10.00\n",
       "2011-01-01 12:53:00    10.00\n",
       "2011-01-01 13:53:00    10.00\n",
       "2011-01-01 14:53:00    10.00\n",
       "2011-01-01 15:53:00    10.00\n",
       "2011-01-01 16:53:00    10.00\n",
       "2011-01-01 17:53:00    10.00\n",
       "2011-01-01 18:53:00    10.00\n",
       "2011-01-01 19:53:00    10.00\n",
       "2011-01-01 20:53:00    10.00\n",
       "2011-01-01 21:53:00    10.00\n",
       "2011-01-01 22:53:00    10.00\n",
       "2011-01-01 23:53:00    10.00\n",
       "2011-01-02 00:53:00    10.00\n",
       "2011-01-02 01:53:00    10.00\n",
       "2011-01-02 02:53:00    10.00\n",
       "2011-01-02 03:53:00    10.00\n",
       "2011-01-02 04:53:00    10.00\n",
       "2011-01-02 05:53:00    10.00\n",
       "2011-01-02 06:53:00    10.00\n",
       "                       ...  \n",
       "2011-12-30 18:53:00    10.00\n",
       "2011-12-30 19:53:00    10.00\n",
       "2011-12-30 20:53:00    10.00\n",
       "2011-12-30 21:53:00    10.00\n",
       "2011-12-30 22:53:00    10.00\n",
       "2011-12-30 23:53:00    10.00\n",
       "2011-12-31 00:53:00    10.00\n",
       "2011-12-31 01:53:00    10.00\n",
       "2011-12-31 02:53:00    10.00\n",
       "2011-12-31 03:53:00    10.00\n",
       "2011-12-31 04:53:00    10.00\n",
       "2011-12-31 05:53:00    10.00\n",
       "2011-12-31 06:53:00    10.00\n",
       "2011-12-31 07:53:00    10.00\n",
       "2011-12-31 08:53:00    10.00\n",
       "2011-12-31 09:53:00    10.00\n",
       "2011-12-31 10:53:00    10.00\n",
       "2011-12-31 11:53:00    10.00\n",
       "2011-12-31 12:53:00    10.00\n",
       "2011-12-31 13:53:00    10.00\n",
       "2011-12-31 14:53:00    10.00\n",
       "2011-12-31 15:53:00    10.00\n",
       "2011-12-31 16:53:00    10.00\n",
       "2011-12-31 17:53:00    10.00\n",
       "2011-12-31 18:53:00    10.00\n",
       "2011-12-31 19:53:00    10.00\n",
       "2011-12-31 20:53:00    10.00\n",
       "2011-12-31 21:53:00    10.00\n",
       "2011-12-31 22:53:00    10.00\n",
       "2011-12-31 23:53:00    10.00\n",
       "Name: visibility, Length: 10336, dtype: object"
      ]
     },
     "execution_count": 63,
     "metadata": {},
     "output_type": "execute_result"
    }
   ],
   "source": [
    "df_clean['visibility']"
   ]
  },
  {
   "cell_type": "code",
   "execution_count": 73,
   "metadata": {},
   "outputs": [
    {
     "data": {
      "image/png": "[encoded data removed]",
      "text/plain": [
       "<matplotlib.figure.Figure at 0x10fa6f898>"
      ]
     },
     "metadata": {},
     "output_type": "display_data"
    }
   ],
   "source": [
    "# Create a Boolean Series for sunny days: sunny\n",
    "sunny = df_clean['sky_condition'] == 'CLR'\n",
    "\n",
    "# Resample the Boolean Series by day and compute the sum: sunny_hours\n",
    "sunny_hours = sunny.resample('D').sum()\n",
    "\n",
    "# Resample the Boolean Series by day and compute the count: total_hours\n",
    "total_hours = sunny.resample('D').count()\n",
    "\n",
    "# Divide sunny_hours by total_hours: sunny_fraction\n",
    "sunny_fraction = sunny_hours / total_hours\n",
    "\n",
    "# Make a box plot of sunny_fraction\n",
    "sunny_fraction.plot(kind='box')\n",
    "plt.show()"
   ]
  },
  {
   "cell_type": "code",
   "execution_count": 74,
   "metadata": {},
   "outputs": [
    {
     "data": {
      "image/png": "[encoded data removed]",
      "text/plain": [
       "<matplotlib.figure.Figure at 0x119bd6c88>"
      ]
     },
     "metadata": {},
     "output_type": "display_data"
    }
   ],
   "source": [
    "# Resample dew_point_faren and dry_bulb_faren by Month, aggregating the maximum values: monthly_max\n",
    "monthly_max = df_clean.loc[:, ['dew_point_faren', 'dry_bulb_faren']].resample('M').max()\n",
    "\n",
    "# Generate a histogram with bins=8, alpha=0.5, subplots=True\n",
    "monthly_max.plot(kind='hist', bins=8, alpha=0.5, subplots=True)\n",
    "\n",
    "# Show the plot\n",
    "plt.show()"
   ]
  },
  {
   "cell_type": "code",
   "execution_count": 86,
   "metadata": {},
   "outputs": [
    {
     "name": "stdout",
     "output_type": "stream",
     "text": [
      "92.7\n"
     ]
    }
   ],
   "source": [
    "# Extract the maximum temperature in August 2010 from df_climate: august_max\n",
    "august_max = df_climate.loc['2010-09', 'Temperature'].max()\n",
    "print(august_max)"
   ]
  },
  {
   "cell_type": "code",
   "execution_count": 113,
   "metadata": {},
   "outputs": [
    {
     "name": "stdout",
     "output_type": "stream",
     "text": [
      "2011-09-01     99.0\n",
      "2011-09-02    101.0\n",
      "2011-09-03    102.0\n",
      "2011-09-04    101.0\n",
      "2011-09-05     90.0\n",
      "2011-09-06     92.0\n",
      "2011-09-07     95.0\n",
      "2011-09-08     93.0\n",
      "2011-09-09     96.0\n",
      "2011-09-10     98.0\n",
      "2011-09-11    101.0\n",
      "2011-09-12    102.0\n",
      "2011-09-13    102.0\n",
      "2011-09-14    100.0\n",
      "2011-09-15     94.0\n",
      "2011-09-16     89.0\n",
      "2011-09-17     90.0\n",
      "2011-09-18     94.0\n",
      "2011-09-19     94.0\n",
      "2011-09-20     94.0\n",
      "2011-09-21     95.0\n",
      "2011-09-22     93.0\n",
      "2011-09-23     89.0\n",
      "2011-09-24     97.0\n",
      "2011-09-25    102.0\n",
      "2011-09-26    102.0\n",
      "2011-09-27     95.0\n",
      "2011-09-28     99.0\n",
      "2011-09-29     98.0\n",
      "2011-09-30     90.0\n",
      "Freq: D, Name: dry_bulb_faren, dtype: float64\n",
      "float64\n",
      "(30,)\n",
      "2011-09-01    False\n",
      "2011-09-02    False\n",
      "2011-09-03    False\n",
      "2011-09-04    False\n",
      "2011-09-05     True\n",
      "2011-09-06     True\n",
      "2011-09-07     True\n",
      "2011-09-08     True\n",
      "2011-09-09    False\n",
      "2011-09-10    False\n",
      "2011-09-11    False\n",
      "2011-09-12    False\n",
      "2011-09-13    False\n",
      "2011-09-14    False\n",
      "2011-09-15     True\n",
      "2011-09-16     True\n",
      "2011-09-17     True\n",
      "2011-09-18     True\n",
      "2011-09-19     True\n",
      "2011-09-20     True\n",
      "2011-09-21     True\n",
      "2011-09-22     True\n",
      "2011-09-23     True\n",
      "2011-09-24    False\n",
      "2011-09-25    False\n",
      "2011-09-26    False\n",
      "2011-09-27     True\n",
      "2011-09-28    False\n",
      "2011-09-29    False\n",
      "2011-09-30     True\n",
      "Freq: D, Name: dry_bulb_faren, dtype: bool\n",
      "2011-09-05    90.0\n",
      "2011-09-06    92.0\n",
      "2011-09-07    95.0\n",
      "2011-09-08    93.0\n",
      "2011-09-15    94.0\n",
      "2011-09-16    89.0\n",
      "2011-09-17    90.0\n",
      "2011-09-18    94.0\n",
      "2011-09-19    94.0\n",
      "2011-09-20    94.0\n",
      "2011-09-21    95.0\n",
      "2011-09-22    93.0\n",
      "2011-09-23    89.0\n",
      "2011-09-27    95.0\n",
      "2011-09-30    90.0\n",
      "Name: dry_bulb_faren, dtype: float64\n"
     ]
    }
   ],
   "source": [
    "# Resample the August 2011 temperatures in df_clean by day and aggregate the maximum value: august_2011\n",
    "august_2011 = df_clean.loc['2011-09', 'dry_bulb_faren'].resample('D').max()\n",
    "\n",
    "print(august_2011)\n",
    "print(august_2011.dtypes)\n",
    "print(august_2011.shape)\n",
    "print(august_2011 <= august_max)\n",
    "print(august_2011[august_2011 <= august_max])"
   ]
  },
  {
   "cell_type": "code",
   "execution_count": 110,
   "metadata": {},
   "outputs": [
    {
     "name": "stdout",
     "output_type": "stream",
     "text": [
      "2011-09-01    False\n",
      "2011-09-02    False\n",
      "2011-09-03    False\n",
      "2011-09-04    False\n",
      "2011-09-05     True\n",
      "2011-09-06     True\n",
      "2011-09-07    False\n",
      "2011-09-08    False\n",
      "2011-09-09    False\n",
      "2011-09-10    False\n",
      "2011-09-11    False\n",
      "2011-09-12    False\n",
      "2011-09-13    False\n",
      "2011-09-14    False\n",
      "2011-09-15    False\n",
      "2011-09-16     True\n",
      "2011-09-17     True\n",
      "2011-09-18    False\n",
      "2011-09-19    False\n",
      "2011-09-20    False\n",
      "2011-09-21    False\n",
      "2011-09-22    False\n",
      "2011-09-23     True\n",
      "2011-09-24    False\n",
      "2011-09-25    False\n",
      "2011-09-26    False\n",
      "2011-09-27    False\n",
      "2011-09-28    False\n",
      "2011-09-29    False\n",
      "2011-09-30     True\n",
      "Freq: D, Name: dry_bulb_faren, dtype: bool\n"
     ]
    }
   ],
   "source": [
    "# Filter out days in august_2011 where the value exceeded august_max: august_2011_high\n",
    "print(august_2011 <= august_max)\n",
    "\n",
    "august_2011_high = august_2011[august_2011 <= august_max]"
   ]
  },
  {
   "cell_type": "code",
   "execution_count": 120,
   "metadata": {},
   "outputs": [
    {
     "name": "stdout",
     "output_type": "stream",
     "text": [
      "95.3\n"
     ]
    },
    {
     "data": {
      "image/png": "[encoded data removed]",
      "text/plain": [
       "<matplotlib.figure.Figure at 0x119b28710>"
      ]
     },
     "metadata": {},
     "output_type": "display_data"
    }
   ],
   "source": [
    "# Extract the maximum temperature in August 2010 from df_climate: august_max\n",
    "august_max = df_climate.loc['2010-Aug', 'Temperature'].max()\n",
    "print(august_max)\n",
    "\n",
    "# Resample the August 2011 temperatures in df_clean by day and aggregate the maximum value: august_2011\n",
    "august_2011 = df_clean.loc['2011-Aug', 'dry_bulb_faren'].resample('D').max()\n",
    "\n",
    "# Filter out days in august_2011 where the value exceeded august_max: august_2011_high\n",
    "# Strange wording - I would say select the days exceeding: Filter out means remove!\n",
    "august_2011_high = august_2011[august_2011 > august_max]\n",
    "\n",
    "# Construct a CDF of august_2011_high\n",
    "august_2011_high.plot(kind='hist', bins=25, normed=True, cumulative=True)\n",
    "\n",
    "# Display the plot\n",
    "plt.show()\n"
   ]
  },
  {
   "cell_type": "code",
   "execution_count": 117,
   "metadata": {},
   "outputs": [
    {
     "data": {
      "text/plain": [
       "95.3"
      ]
     },
     "execution_count": 117,
     "metadata": {},
     "output_type": "execute_result"
    }
   ],
   "source": [
    "df_climate.loc['2010-Aug', 'Temperature'].max()"
   ]
  },
  {
   "cell_type": "code",
   "execution_count": 118,
   "metadata": {},
   "outputs": [
    {
     "data": {
      "image/png": "[encoded data removed]",
      "text/plain": [
       "<matplotlib.figure.Figure at 0x10e689e48>"
      ]
     },
     "metadata": {},
     "output_type": "display_data"
    }
   ],
   "source": [
    "df_clean.loc['2011-Aug', 'dry_bulb_faren'].plot()\n",
    "plt.show()"
   ]
  },
  {
   "cell_type": "code",
   "execution_count": 119,
   "metadata": {},
   "outputs": [
    {
     "data": {
      "image/png": "[encoded data removed]",
      "text/plain": [
       "<matplotlib.figure.Figure at 0x10f9dee80>"
      ]
     },
     "metadata": {},
     "output_type": "display_data"
    }
   ],
   "source": [
    "df_climate.loc['2010-Aug', 'Temperature'].plot()\n",
    "plt.show()"
   ]
  },
  {
   "cell_type": "code",
   "execution_count": null,
   "metadata": {},
   "outputs": [],
   "source": []
  }
 ],
 "metadata": {
  "kernelspec": {
   "display_name": "Python 3",
   "language": "python",
   "name": "python3"
  },
  "language_info": {
   "codemirror_mode": {
    "name": "ipython",
    "version": 3
   },
   "file_extension": ".py",
   "mimetype": "text/x-python",
   "name": "python",
   "nbconvert_exporter": "python",
   "pygments_lexer": "ipython3",
   "version": "3.6.4"
  }
 },
 "nbformat": 4,
 "nbformat_minor": 2
}
