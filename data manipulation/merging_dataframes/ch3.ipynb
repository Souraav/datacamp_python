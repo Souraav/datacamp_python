{
 "cells": [
  {
   "cell_type": "markdown",
   "metadata": {},
   "source": [
    "# Chapter 3"
   ]
  },
  {
   "cell_type": "code",
   "execution_count": 1,
   "metadata": {},
   "outputs": [],
   "source": [
    "## Merging dataframs\n",
    "import pandas as pd\n",
    "import numpy as np\n",
    "import matplotlib.pyplot as plt"
   ]
  },
  {
   "cell_type": "code",
   "execution_count": 4,
   "metadata": {},
   "outputs": [],
   "source": [
    "# data prep\n",
    "dr = {'branch_id': [10, 20, 30, 47],\n",
    "      'city': ['Austin', 'Denver', 'Springfield', 'Mendocino'],\n",
    "      'revenue': [100, 83, 4, 200]}\n",
    "revenue = pd.DataFrame(dr)\n",
    "\n",
    "dm = {'branch_id': [10, 20, 47, 31],\n",
    "      'city': ['Austin', 'Denver', 'Mendocino', 'Springfield'],\n",
    "      'manager': ['Charles', 'Joel', 'Brett', 'Sally']}\n",
    "managers = pd.DataFrame(dm)"
   ]
  },
  {
   "cell_type": "code",
   "execution_count": 8,
   "metadata": {},
   "outputs": [
    {
     "name": "stdout",
     "output_type": "stream",
     "text": [
      "   branch_id_x         city  revenue  branch_id_y  manager\n",
      "0           10       Austin      100           10  Charles\n",
      "1           20       Denver       83           20     Joel\n",
      "2           30  Springfield        4           31    Sally\n",
      "3           47    Mendocino      200           47    Brett\n",
      "   branch_id     city_x  revenue     city_y  manager\n",
      "0         10     Austin      100     Austin  Charles\n",
      "1         20     Denver       83     Denver     Joel\n",
      "2         47  Mendocino      200  Mendocino    Brett\n"
     ]
    }
   ],
   "source": [
    "# Merge revenue with managers on 'city': merge_by_city\n",
    "merge_by_city = pd.merge(revenue, managers, on='city')\n",
    "\n",
    "# Print merge_by_city\n",
    "print(merge_by_city)\n",
    "\n",
    "# Merge revenue with managers on 'branch_id': merge_by_id\n",
    "merge_by_id = pd.merge(revenue, managers, on='branch_id')\n",
    "\n",
    "# Print merge_by_id\n",
    "print(merge_by_id)"
   ]
  },
  {
   "cell_type": "code",
   "execution_count": 9,
   "metadata": {},
   "outputs": [],
   "source": [
    "# data prep\n",
    "dr = {'branch_id': [10, 20, 30, 47],\n",
    "      'city': ['Austin', 'Denver', 'Springfield', 'Mendocino'],\n",
    "      'revenue': [100, 83, 4, 200],\n",
    "      'state': ['TX', 'CO', 'IL', 'CA']}\n",
    "revenue = pd.DataFrame(dr)\n",
    "\n",
    "dm = {'branch': ['Austin', 'Denver', 'Mendocino', 'Springfield'], \n",
    "      'branch_id': [10, 20, 47, 31],\n",
    "      'manager': ['Charles', 'Joel', 'Brett', 'Sally'],\n",
    "      'state': ['TX', 'CO', 'CA', 'MO']}\n",
    "managers = pd.DataFrame(dm)"
   ]
  },
  {
   "cell_type": "code",
   "execution_count": 11,
   "metadata": {},
   "outputs": [
    {
     "name": "stdout",
     "output_type": "stream",
     "text": [
      "   branch_id_x         city  revenue state_x       branch  branch_id_y  \\\n",
      "0           10       Austin      100      TX       Austin           10   \n",
      "1           20       Denver       83      CO       Denver           20   \n",
      "2           30  Springfield        4      IL  Springfield           31   \n",
      "3           47    Mendocino      200      CA    Mendocino           47   \n",
      "\n",
      "   manager state_y  \n",
      "0  Charles      TX  \n",
      "1     Joel      CO  \n",
      "2    Sally      MO  \n",
      "3    Brett      CA  \n"
     ]
    }
   ],
   "source": [
    "# Merge revenue & managers on 'city' & 'branch': combined\n",
    "combined = pd.merge(revenue, managers, left_on='city', right_on='branch')\n",
    "\n",
    "# Print combined\n",
    "print(combined)"
   ]
  },
  {
   "cell_type": "code",
   "execution_count": 12,
   "metadata": {},
   "outputs": [
    {
     "name": "stdout",
     "output_type": "stream",
     "text": [
      "   branch_id       city  revenue state_x     branch  manager state_y\n",
      "0         10     Austin      100      TX     Austin  Charles      TX\n",
      "1         20     Denver       83      CO     Denver     Joel      CO\n",
      "2         47  Mendocino      200      CA  Mendocino    Brett      CA\n"
     ]
    }
   ],
   "source": [
    "# ...or combine on branch_id\n",
    "combined = pd.merge(revenue, managers, on='branch_id')\n",
    "\n",
    "# Print combined\n",
    "print(combined)"
   ]
  },
  {
   "cell_type": "code",
   "execution_count": 14,
   "metadata": {},
   "outputs": [],
   "source": [
    "# data prep\n",
    "dr = {'branch_id': [10, 20, 30, 47],\n",
    "      'city': ['Austin', 'Denver', 'Springfield', 'Mendocino'],\n",
    "      'revenue': [100, 83, 4, 200]}\n",
    "revenue = pd.DataFrame(dr)\n",
    "\n",
    "dm = {'branch_id': [10, 20, 47, 31],\n",
    "      'city': ['Austin', 'Denver', 'Mendocino', 'Springfield'],\n",
    "      'manager': ['Charles', 'Joel', 'Brett', 'Sally']}\n",
    "managers = pd.DataFrame(dm)"
   ]
  },
  {
   "cell_type": "code",
   "execution_count": 15,
   "metadata": {},
   "outputs": [
    {
     "name": "stdout",
     "output_type": "stream",
     "text": [
      "   branch_id       city  revenue state  manager\n",
      "0         10     Austin      100    TX  Charles\n",
      "1         20     Denver       83    CO     Joel\n",
      "2         47  Mendocino      200    CA    Brett\n"
     ]
    }
   ],
   "source": [
    "# Add 'state' column to revenue: revenue['state']\n",
    "revenue['state'] = ['TX','CO','IL','CA']\n",
    "\n",
    "# Add 'state' column to managers: managers['state']\n",
    "managers['state'] = ['TX','CO','CA','MO']\n",
    "\n",
    "# Merge revenue & managers on 'branch_id', 'city', & 'state': combined\n",
    "combined = pd.merge(revenue, managers, on=['branch_id', 'city', 'state'])\n",
    "\n",
    "# Print combined\n",
    "print(combined)"
   ]
  },
  {
   "cell_type": "markdown",
   "metadata": {},
   "source": [
    "## Joining Dataframes"
   ]
  },
  {
   "cell_type": "code",
   "execution_count": 21,
   "metadata": {},
   "outputs": [],
   "source": [
    "# data prep\n",
    "dr = {'branch_id': [10, 20, 30, 47],\n",
    "      'city': ['Austin', 'Denver', 'Springfield', 'Mendocino'],\n",
    "      'revenue': [100, 83, 4, 200],\n",
    "      'state': ['TX','CO','IL','CA']}\n",
    "revenue = pd.DataFrame(dr)\n",
    "\n",
    "dm = {'branch': ['Austin', 'Denver', 'Mendocino', 'Springfield'],\n",
    "      'branch_id': [10, 20, 47, 31], \n",
    "      'manager': ['Charles', 'Joel', 'Brett', 'Sally'],\n",
    "      'state': ['TX','CO','CA','MO']}\n",
    "managers = pd.DataFrame(dm)\n",
    "\n",
    "ds = {'city': ['Mendocino', 'Denver', 'Austin', 'Springfield', 'Springfield'],\n",
    "      'state': ['CA', 'CO', 'TX', 'MO', 'IL'],\n",
    "      'units': [1, 4, 2, 5, 1]}\n",
    "sales = pd.DataFrame(ds)"
   ]
  },
  {
   "cell_type": "code",
   "execution_count": 22,
   "metadata": {},
   "outputs": [
    {
     "name": "stdout",
     "output_type": "stream",
     "text": [
      "   branch_id         city  revenue state  units\n",
      "0       10.0       Austin    100.0    TX      2\n",
      "1       20.0       Denver     83.0    CO      4\n",
      "2       30.0  Springfield      4.0    IL      1\n",
      "3       47.0    Mendocino    200.0    CA      1\n",
      "4        NaN  Springfield      NaN    MO      5\n",
      "          city state  units       branch  branch_id  manager\n",
      "0    Mendocino    CA      1    Mendocino       47.0    Brett\n",
      "1       Denver    CO      4       Denver       20.0     Joel\n",
      "2       Austin    TX      2       Austin       10.0  Charles\n",
      "3  Springfield    MO      5  Springfield       31.0    Sally\n",
      "4  Springfield    IL      1          NaN        NaN      NaN\n"
     ]
    }
   ],
   "source": [
    "# Merge revenue and sales: revenue_and_sales\n",
    "revenue_and_sales = pd.merge(revenue, sales, how='right', on=['city', 'state'])\n",
    "\n",
    "# Print revenue_and_sales\n",
    "print(revenue_and_sales)\n",
    "\n",
    "# Merge sales and managers: sales_and_managers\n",
    "sales_and_managers = pd.merge(sales, managers,\n",
    "                              how='left',\n",
    "                              left_on=['city', 'state'],\n",
    "                              right_on=['branch', 'state'])\n",
    "\n",
    "# Print sales_and_managers\n",
    "print(sales_and_managers)"
   ]
  },
  {
   "cell_type": "code",
   "execution_count": 28,
   "metadata": {},
   "outputs": [
    {
     "name": "stdout",
     "output_type": "stream",
     "text": [
      "        city state  units     branch  branch_id  manager  revenue\n",
      "0  Mendocino    CA      1  Mendocino       47.0    Brett    200.0\n",
      "1     Denver    CO      4     Denver       20.0     Joel     83.0\n",
      "2     Austin    TX      2     Austin       10.0  Charles    100.0\n",
      "          city state  units       branch  branch_id  manager  revenue\n",
      "0    Mendocino    CA      1    Mendocino       47.0    Brett    200.0\n",
      "1       Denver    CO      4       Denver       20.0     Joel     83.0\n",
      "2       Austin    TX      2       Austin       10.0  Charles    100.0\n",
      "3  Springfield    MO      5  Springfield       31.0    Sally      NaN\n",
      "4  Springfield    IL      1          NaN        NaN      NaN      NaN\n",
      "5  Springfield    IL      1          NaN       30.0      NaN      4.0\n",
      "6  Springfield    MO      5          NaN        NaN      NaN      NaN\n",
      "          city state  units_x       branch  branch_id_x  manager  branch_id_y  \\\n",
      "0    Mendocino    CA        1    Mendocino         47.0    Brett         47.0   \n",
      "1       Denver    CO        4       Denver         20.0     Joel         20.0   \n",
      "2       Austin    TX        2       Austin         10.0  Charles         10.0   \n",
      "3  Springfield    MO        5  Springfield         31.0    Sally          NaN   \n",
      "4  Springfield    IL        1          NaN          NaN      NaN         30.0   \n",
      "\n",
      "   revenue  units_y  \n",
      "0    200.0        1  \n",
      "1     83.0        4  \n",
      "2    100.0        2  \n",
      "3      NaN        5  \n",
      "4      4.0        1  \n"
     ]
    }
   ],
   "source": [
    "# Perform the first merge: merge_default\n",
    "merge_default = pd.merge(sales_and_managers, revenue_and_sales)\n",
    "\n",
    "# Print merge_default\n",
    "print(merge_default)\n",
    "\n",
    "# Perform the second merge: merge_outer\n",
    "merge_outer = pd.merge(sales_and_managers, revenue_and_sales, how='outer')\n",
    "\n",
    "# Print merge_outer\n",
    "print(merge_outer)\n",
    "\n",
    "# Perform the third merge: merge_outer_on\n",
    "merge_outer_on = pd.merge(sales_and_managers, revenue_and_sales,\n",
    "                          how='outer',\n",
    "                          on=['city', 'state'])\n",
    "\n",
    "# Print merge_outer_on\n",
    "print(merge_outer_on)"
   ]
  },
  {
   "cell_type": "markdown",
   "metadata": {},
   "source": [
    "## Ordered Merges"
   ]
  },
  {
   "cell_type": "code",
   "execution_count": 32,
   "metadata": {},
   "outputs": [],
   "source": [
    "# data prep\n",
    "da = {'date': [pd.Timestamp('2016-01-01 00:00:00'),\n",
    "               pd.Timestamp('2016-02-08 00:00:00'),\n",
    "               pd.Timestamp('2016-01-17 00:00:00')],\n",
    "      'ratings': ['Cloudy', 'Cloudy', 'Sunny']}\n",
    "austin = pd.DataFrame(da)\n",
    "\n",
    "dh = {'date': [pd.Timestamp('2016-01-04 00:00:00'),\n",
    "               pd.Timestamp('2016-01-01 00:00:00'),\n",
    "               pd.Timestamp('2016-03-01 00:00:00')],\n",
    "      'ratings': ['Rainy', 'Cloudy', 'Sunny']}\n",
    "houston = pd.DataFrame(dh)"
   ]
  },
  {
   "cell_type": "code",
   "execution_count": 35,
   "metadata": {},
   "outputs": [
    {
     "name": "stdout",
     "output_type": "stream",
     "text": [
      "<class 'pandas.core.frame.DataFrame'>\n",
      "RangeIndex: 3 entries, 0 to 2\n",
      "Data columns (total 2 columns):\n",
      "date       3 non-null datetime64[ns]\n",
      "ratings    3 non-null object\n",
      "dtypes: datetime64[ns](1), object(1)\n",
      "memory usage: 128.0+ bytes\n"
     ]
    }
   ],
   "source": [
    "austin.info()"
   ]
  },
  {
   "cell_type": "code",
   "execution_count": 38,
   "metadata": {},
   "outputs": [
    {
     "name": "stdout",
     "output_type": "stream",
     "text": [
      "        date ratings\n",
      "0 2016-01-01  Cloudy\n",
      "1 2016-01-04   Rainy\n",
      "2 2016-01-17   Sunny\n",
      "3 2016-02-08  Cloudy\n",
      "4 2016-03-01   Sunny\n",
      "        date ratings_aus ratings_hus\n",
      "0 2016-01-01      Cloudy      Cloudy\n",
      "1 2016-01-04         NaN       Rainy\n",
      "2 2016-01-17       Sunny         NaN\n",
      "3 2016-02-08      Cloudy         NaN\n",
      "4 2016-03-01         NaN       Sunny\n",
      "        date ratings_aus ratings_hus\n",
      "0 2016-01-01      Cloudy      Cloudy\n",
      "1 2016-01-04      Cloudy       Rainy\n",
      "2 2016-01-17       Sunny       Rainy\n",
      "3 2016-02-08      Cloudy       Rainy\n",
      "4 2016-03-01      Cloudy       Sunny\n"
     ]
    }
   ],
   "source": [
    "# Perform the first ordered merge: tx_weather\n",
    "tx_weather = pd.merge_ordered(austin, houston)\n",
    "\n",
    "# Print tx_weather\n",
    "print(tx_weather)\n",
    "\n",
    "# Perform the second ordered merge: tx_weather_suff\n",
    "tx_weather_suff = pd.merge_ordered(austin, houston, on='date', suffixes=['_aus', '_hus'])\n",
    "\n",
    "# Print tx_weather_suff\n",
    "print(tx_weather_suff)\n",
    "\n",
    "# Perform the third ordered merge: tx_weather_ffill\n",
    "tx_weather_ffill = pd.merge_ordered(austin, houston,\n",
    "                                    on='date',\n",
    "                                    suffixes=['_aus', '_hus'],\n",
    "                                    fill_method='ffill')\n",
    "\n",
    "# Print tx_weather_ffill\n",
    "print(tx_weather_ffill)"
   ]
  },
  {
   "cell_type": "code",
   "execution_count": 48,
   "metadata": {},
   "outputs": [],
   "source": [
    "# data prep\n",
    "from urllib.request import urlretrieve\n",
    "\n",
    "file = 'oil_price.csv'\n",
    "url = 'https://assets.datacamp.com/production/course_1681/datasets/' + file\n",
    "urlretrieve(url, file)\n",
    "oil = pd.read_csv(file, parse_dates=['Date'])\n",
    "\n",
    "file = 'automobiles.csv'\n",
    "url = 'https://assets.datacamp.com/production/course_1681/datasets/' + file\n",
    "urlretrieve(url, file)\n",
    "auto = pd.read_csv(file, parse_dates=['yr'])"
   ]
  },
  {
   "cell_type": "code",
   "execution_count": 49,
   "metadata": {},
   "outputs": [
    {
     "name": "stdout",
     "output_type": "stream",
     "text": [
      "<class 'pandas.core.frame.DataFrame'>\n",
      "RangeIndex: 156 entries, 0 to 155\n",
      "Data columns (total 2 columns):\n",
      "Date     156 non-null datetime64[ns]\n",
      "Price    156 non-null float64\n",
      "dtypes: datetime64[ns](1), float64(1)\n",
      "memory usage: 2.5 KB\n"
     ]
    }
   ],
   "source": [
    "oil.info()"
   ]
  },
  {
   "cell_type": "code",
   "execution_count": 51,
   "metadata": {},
   "outputs": [
    {
     "name": "stdout",
     "output_type": "stream",
     "text": [
      "      mpg  cyl  displ  hp  weight  accel         yr  origin             name  \\\n",
      "387  27.0    4  140.0  86    2790   15.6 1982-01-01      US  ford mustang gl   \n",
      "388  44.0    4   97.0  52    2130   24.6 1982-01-01  Europe        vw pickup   \n",
      "389  32.0    4  135.0  84    2295   11.6 1982-01-01      US    dodge rampage   \n",
      "390  28.0    4  120.0  79    2625   18.6 1982-01-01      US      ford ranger   \n",
      "391  31.0    4  119.0  82    2720   19.4 1982-01-01      US       chevy s-10   \n",
      "\n",
      "          Date  Price  \n",
      "387 1982-01-01  33.85  \n",
      "388 1982-01-01  33.85  \n",
      "389 1982-01-01  33.85  \n",
      "390 1982-01-01  33.85  \n",
      "391 1982-01-01  33.85  \n",
      "                  mpg  Price\n",
      "Date                        \n",
      "1970-12-31  17.689655   3.35\n",
      "1971-12-31  21.111111   3.56\n",
      "1972-12-31  18.714286   3.56\n",
      "1973-12-31  17.100000   3.56\n",
      "1974-12-31  22.769231  10.11\n",
      "1975-12-31  20.266667  11.16\n",
      "1976-12-31  21.573529  11.16\n",
      "1977-12-31  23.375000  13.90\n",
      "1978-12-31  24.061111  14.85\n",
      "1979-12-31  25.093103  14.85\n",
      "1980-12-31  33.803704  32.50\n",
      "1981-12-31  30.185714  38.00\n",
      "1982-12-31  32.000000  33.85\n",
      "            mpg     Price\n",
      "mpg    1.000000  0.948677\n",
      "Price  0.948677  1.000000\n"
     ]
    }
   ],
   "source": [
    "# Merge auto and oil: merged\n",
    "merged = pd.merge_asof(auto, oil,\n",
    "                      left_on='yr',\n",
    "                      right_on='Date')\n",
    "\n",
    "# Print the tail of merged\n",
    "print(merged.tail())\n",
    "\n",
    "# Resample merged: yearly\n",
    "yearly = merged.resample('A', on='Date')[['mpg', 'Price']].mean()\n",
    "\n",
    "# Print yearly\n",
    "print(yearly)\n",
    "\n",
    "# print yearly.corr()\n",
    "print(yearly.corr())"
   ]
  },
  {
   "cell_type": "code",
   "execution_count": null,
   "metadata": {},
   "outputs": [],
   "source": []
  }
 ],
 "metadata": {
  "kernelspec": {
   "display_name": "Python 3",
   "language": "python",
   "name": "python3"
  },
  "language_info": {
   "codemirror_mode": {
    "name": "ipython",
    "version": 3
   },
   "file_extension": ".py",
   "mimetype": "text/x-python",
   "name": "python",
   "nbconvert_exporter": "python",
   "pygments_lexer": "ipython3",
   "version": "3.6.4"
  }
 },
 "nbformat": 4,
 "nbformat_minor": 2
}
