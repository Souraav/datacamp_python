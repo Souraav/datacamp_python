{
 "cells": [
  {
   "cell_type": "markdown",
   "metadata": {
    "toc": true
   },
   "source": [
    "<h1>Table of Contents<span class=\"tocSkip\"></span></h1>\n",
    "<div class=\"toc\"><ul class=\"toc-item\"></ul></div>"
   ]
  },
  {
   "cell_type": "code",
   "execution_count": 19,
   "metadata": {},
   "outputs": [],
   "source": [
    "import numpy as np\n",
    "import matplotlib.pyplot as plt\n",
    "\n",
    "times = np.array([0., 1., 2., 3., 4., 5., 6.])\n",
    "distances = np.array([0., 44.04512153, 107.16353484, 148.43674052, 196.39705633, 254.4358147,  300.])"
   ]
  },
  {
   "cell_type": "code",
   "execution_count": 5,
   "metadata": {},
   "outputs": [
    {
     "name": "stdout",
     "output_type": "stream",
     "text": [
      "The distance traveled is 125.0\n"
     ]
    }
   ],
   "source": [
    "# Compute the total change in distance and change in time\n",
    "total_distance = distances[-1] - distances[0]\n",
    "total_time = times[-1] - times[0]\n",
    "\n",
    "# Estimate the slope of the data from the ratio of the changes\n",
    "average_speed = total_distance / total_time\n",
    "\n",
    "# Predict the distance traveled for a time not measured\n",
    "elapse_time = 2.5\n",
    "distance_traveled = average_speed * elapse_time\n",
    "print(\"The distance traveled is {}\".format(distance_traveled))"
   ]
  },
  {
   "cell_type": "code",
   "execution_count": 6,
   "metadata": {},
   "outputs": [],
   "source": [
    "def model(time, a0=0, a1=50):\n",
    "    \"\"\"\n",
    "    Purpose: \n",
    "        For a given value of time, compute the model value for distance\n",
    "    Args:\n",
    "        time (float, np.ndarray): elapse time in units of hours\n",
    "        a0 (float): default=0, coefficient for the Zeroth order term in the model, i.e. a0 + a1*x\n",
    "        a1 (float): default=50, coefficient for the 1st order term in the model, i.e. a0 + a1*x\n",
    "    Returns:\n",
    "        distance (float, np.ndarray): model values corresponding to input time array, with the same length/size.\n",
    "    \"\"\"\n",
    "    distance = a0 + (a1*time)\n",
    "    return distance"
   ]
  },
  {
   "cell_type": "code",
   "execution_count": 7,
   "metadata": {
    "scrolled": true
   },
   "outputs": [
    {
     "name": "stdout",
     "output_type": "stream",
     "text": [
      "400\n",
      "True\n"
     ]
    }
   ],
   "source": [
    "# Select a time not measured.\n",
    "time = 8\n",
    "\n",
    "# Use the model to compute a predicted distance for that time.\n",
    "distance = model(time=8)\n",
    "\n",
    "# Inspect the value of the predicted distance traveled.\n",
    "print(distance)\n",
    "\n",
    "# Determine if you will make it without refueling.\n",
    "answer = (distance <= 400)\n",
    "print(answer)"
   ]
  },
  {
   "cell_type": "code",
   "execution_count": 8,
   "metadata": {},
   "outputs": [],
   "source": [
    "car1 = {'gallons': np.array([  0.        ,   1.66666667,   3.33333333,   5.        ,\n",
    "          6.66666667,   8.33333333,  10.        ,  11.66666667,\n",
    "         13.33333333,  15.        ,  16.66666667]),\n",
    " 'miles': np.array([   0.,   50.,  100.,  150.,  200.,  250.,  300.,  350.,  400.,\n",
    "         450.,  500.])}\n",
    "\n",
    "car2 = {'gallons': np.array([  0.,   1.,   2.,   3.,   4.,   5.,   6.,   7.,   8.,   9.,  10.]),\n",
    " 'miles': np.array([   0.,   50.,  100.,  150.,  200.,  250.,  300.,  350.,  400.,\n",
    "         450.,  500.])}\n"
   ]
  },
  {
   "cell_type": "code",
   "execution_count": 15,
   "metadata": {},
   "outputs": [
    {
     "name": "stdout",
     "output_type": "stream",
     "text": [
      "car2 is the best\n"
     ]
    },
    {
     "name": "stderr",
     "output_type": "stream",
     "text": [
      "/Users/Brian/anaconda3/envs/dc-stats/lib/python3.7/site-packages/ipykernel_launcher.py:3: RuntimeWarning: invalid value encountered in true_divide\n",
      "  This is separate from the ipykernel package so we can avoid doing imports until\n"
     ]
    }
   ],
   "source": [
    "# Complete the function to model the efficiency.\n",
    "def efficiency_model(miles, gallons):\n",
    "   return np.nanmean( miles / gallons )\n",
    "\n",
    "# Use the function to estimate the efficiency for each car.\n",
    "car1['mpg'] = efficiency_model( car1['miles'] , car1['gallons'] )\n",
    "car2['mpg'] = efficiency_model( car2['miles'] , car2['gallons'] )\n",
    "\n",
    "# Finish the logic statement to compare the car efficiencies.\n",
    "if car1['mpg'] > car2['mpg'] :\n",
    "    print('car1 is the best')\n",
    "elif car1['mpg'] < car2['mpg'] :\n",
    "    print('car2 is the best')\n",
    "else:\n",
    "    print('the cars have the same efficiency')"
   ]
  },
  {
   "cell_type": "code",
   "execution_count": 20,
   "metadata": {},
   "outputs": [],
   "source": [
    "times = np.array([  0.,   1.,   2.,   3.,   4.,   5.,   6.,   7.,   8.,   9.,  10.])\n",
    "distances = np.array([ 0.24835708,  0.93086785,  2.32384427,  3.76151493,  3.88292331,\n",
    "        4.88293152,  6.78960641,  7.38371736,  7.76526281,  9.27128002,\n",
    "        9.76829115])"
   ]
  },
  {
   "cell_type": "code",
   "execution_count": 21,
   "metadata": {},
   "outputs": [
    {
     "data": {
      "image/png": "[encoded data removed]",
      "text/plain": [
       "<Figure size 432x288 with 1 Axes>"
      ]
     },
     "metadata": {
      "needs_background": "light"
     },
     "output_type": "display_data"
    }
   ],
   "source": [
    "# Create figure and axis objects using subplots()\n",
    "fig, axis = plt.subplots()\n",
    "\n",
    "# Plot line using the axis.plot() method\n",
    "line = axis.plot(times , distances , linestyle=\" \", marker=\"o\", color=\"red\")\n",
    "\n",
    "# Use the plt.show() method to display the figure\n",
    "plt.show()"
   ]
  },
  {
   "cell_type": "code",
   "execution_count": 23,
   "metadata": {},
   "outputs": [],
   "source": [
    "times = np.array([  0.,   1.,   2.,   3.,   4.,   5.,   6.,   7.,   8.,   9.,  10.])\n",
    "measured_distances = np.array([ 0.24835708,  0.93086785,  2.32384427,  3.76151493,  3.88292331,\n",
    "        4.88293152,  6.78960641,  7.38371736,  7.76526281,  9.27128002,\n",
    "        9.76829115])\n",
    "\n",
    "def model(x, y, a0=0, a1=1):\n",
    "    \"\"\"\n",
    "    Purpose: \n",
    "        For a given data set, input as two arrays, x and y, \n",
    "        compute the model value for all modeled values 'ym'\n",
    "    Args:\n",
    "        x (float, np.ndarray):\n",
    "        y (float, np.ndarray): \n",
    "        a0 (float): default=0, coefficient for the Zeroth order term in the model, i.e. a0 + a1*x\n",
    "        a1 (float): default=50, coefficient for the 1st order term in the model, i.e. a0 + a1*x\n",
    "    Returns:\n",
    "        ym (float, np.ndarray): model values corresponding to input x array, with the same length/size.\n",
    "    \"\"\"\n",
    "    # Note to datacamp editors: the interface is intentionally like this for pedagogical reasons\n",
    "    # we don't want the student believing that our model is just hard-coded ;-)\n",
    "    # the student will call this function as \"ym = model(x,y)\" which will make more \n",
    "    # sense to them than \"ym = model(x)\"; they won't see the a0, a1, but we know \n",
    "    # they are their and it makes things more flexible for the teachers :)\n",
    "    ym = a0 + (a1*x)\n",
    "    return ym"
   ]
  },
  {
   "cell_type": "code",
   "execution_count": 26,
   "metadata": {},
   "outputs": [
    {
     "data": {
      "image/png": "[encoded data removed]",
      "text/plain": [
       "<Figure size 432x288 with 1 Axes>"
      ]
     },
     "metadata": {
      "needs_background": "light"
     },
     "output_type": "display_data"
    }
   ],
   "source": [
    "# Pass times and measured distances into model\n",
    "model_distances = model(times, measured_distances)\n",
    "\n",
    "# Create figure and axis objects and call axis.plot() twice to plot data and model distances versus times\n",
    "fig, axis = plt.subplots()\n",
    "axis.plot(times, measured_distances, linestyle=\" \", marker=\"o\", color=\"black\", label=\"Measured\")\n",
    "axis.plot(times, model_distances, linestyle=\"-\", marker=None, color=\"red\", label=\"Modeled\")\n",
    "\n",
    "# Add grid lines and a legend to your plot, and then show to display\n",
    "axis.grid(True)\n",
    "axis.legend(loc=\"best\")\n",
    "plt.show()"
   ]
  },
  {
   "cell_type": "code",
   "execution_count": 31,
   "metadata": {},
   "outputs": [],
   "source": [
    "from matplotlib.ticker import MultipleLocator\n",
    "\n",
    "xd = np.array([ 2. ,  2.5,  3. ,  3.5,  4. ,  4.5,  5. ,  5.5,  6. ,  6.5,  7. ])\n",
    "\n",
    "yd = np.array([ 4.24835708,  4.43086785,  5.32384427,  6.26151493,  5.88292331,\n",
    "        6.38293152,  7.78960641,  7.88371736,  7.76526281,  8.77128002,\n",
    "        8.76829115])\n",
    "\n",
    "\n",
    "def model(a0=2, a1=1):\n",
    "    \"\"\"\n",
    "    Purpose: \n",
    "        For a given data set, input as two arrays, x and y, \n",
    "        compute the model value for all modeled values 'ym'\n",
    "    Args:\n",
    "        trial_intercept (float): default=0, coefficient for the Zeroth order term in the model, i.e. a0 + a1*x\n",
    "        trial_slope (float): default=50, coefficient for the 1st order term in the model, i.e. a0 + a1*x\n",
    "    Returns:\n",
    "        xm (float, np.ndarray): model values for independent variable\n",
    "        ym (float, np.ndarray): model values of depedent variable, with the same length/size as xm.\n",
    "    \"\"\"\n",
    "    xm = np.linspace(-5, 15, 41)\n",
    "    ym = a0 + (a1*xm)\n",
    "    return xm, ym\n",
    "\n",
    "\n",
    "def plot_data_and_model(xd, yd, xm, ym):\n",
    "    \"\"\"\n",
    "    Purpose:\n",
    "        Plot both the measured data and the model o the same figure.\n",
    "        Measured data will be black point markers with no line\n",
    "        Modeled data will be a solid red line with no point markers\n",
    "    Args:\n",
    "        xd (np.ndarray): numpy array of indendent variable, measured data\n",
    "        yd (np.ndarray): numpy array of dendent variable, measured data\n",
    "        xm (np.ndarray): numpy array of indendent variable, model data\n",
    "        ym (np.ndarray): numpy array of dendent variable, model data\n",
    "    Returns:\n",
    "        fig (plt.figure): matplotlib figure object\n",
    "    \"\"\"\n",
    "    fig, axis = plt.subplots()\n",
    "    axis.plot(xd, yd, color=\"black\", linestyle=\" \", marker=\"o\", label=\"Measured\")\n",
    "    axis.plot(xm, ym, color=\"red\", linestyle=\"-\", marker=None, label=\"Modeled\")\n",
    "    axis.axvline(0, color='black')\n",
    "    axis.axhline(0, color='black')\n",
    "    axis.xaxis.set_major_locator(MultipleLocator(5.0))\n",
    "    axis.xaxis.set_minor_locator(MultipleLocator(1.0))\n",
    "    axis.yaxis.set_major_locator(MultipleLocator(5.0))\n",
    "    axis.yaxis.set_minor_locator(MultipleLocator(1.0))\n",
    "    axis.set_xlim([-11, 11])\n",
    "    axis.set_ylim([-11, 11])\n",
    "    axis.grid(True, which=\"both\")\n",
    "    axis.legend(loc=2)\n",
    "    return fig"
   ]
  },
  {
   "cell_type": "code",
   "execution_count": 34,
   "metadata": {},
   "outputs": [
    {
     "data": {
      "image/png": "[encoded data removed]",
      "text/plain": [
       "<Figure size 432x288 with 1 Axes>"
      ]
     },
     "metadata": {
      "needs_background": "light"
     },
     "output_type": "display_data"
    }
   ],
   "source": [
    "# Look at the plot data and guess initial trial values\n",
    "trial_slope = 1\n",
    "trial_intercept = 2\n",
    "\n",
    "# input thoses guesses into the model function to compute the model values.\n",
    "xm, ym = model(trial_intercept, trial_slope)\n",
    "\n",
    "# Compare your your model to the data with the plot function\n",
    "fig = plot_data_and_model(xd, yd, xm, ym)\n",
    "plt.show()\n",
    "\n",
    "# Repeat the steps above until your slope and intercept guess makes the model line up with the data.\n",
    "final_slope = 1\n",
    "final_intercept = 2"
   ]
  },
  {
   "cell_type": "code",
   "execution_count": 38,
   "metadata": {},
   "outputs": [],
   "source": [
    "x = np.array([ 3.20141089,  3.57332076,  4.2284669 ,  4.27233051,  4.49370529,\n",
    "        4.5713193 ,  4.74611933,  4.9143694 ,  5.06416613,  5.12046366,\n",
    "        5.1332596 ,  5.1382451 ,  5.19463348,  5.30012277,  5.32111385,\n",
    "        5.361098  ,  5.3622485 ,  5.42139975,  5.55601804,  5.56564872,\n",
    "        5.57108737,  5.60910021,  5.74438063,  5.82636432,  5.85993128,\n",
    "        5.90529103,  5.98816951,  6.00284592,  6.2829785 ,  6.28362732,\n",
    "        6.33858905,  6.3861864 ,  6.41291216,  6.57380586,  6.68822271,\n",
    "        6.73736858,  6.9071052 ,  6.92746243,  6.97873601,  6.99734545,\n",
    "        7.0040539 ,  7.17582904,  7.26593626,  7.49073203,  7.49138963,\n",
    "        7.65143654,  8.18678609,  8.20593008,  8.23814334,  8.39236527])\n",
    "\n",
    "y = np.array([ 146.48264883,  167.75876162,  229.73232314,  205.23686657,\n",
    "        224.99693822,  239.79378267,  246.65838372,  264.14477475,\n",
    "        268.91257002,  267.25180588,  248.54953839,  265.25831322,\n",
    "        263.03153004,  251.08035094,  280.93733241,  276.53088378,\n",
    "        268.59007072,  268.62252076,  265.21874   ,  280.37743899,\n",
    "        283.47297931,  271.72788298,  299.42217399,  279.79758387,\n",
    "        270.70401032,  306.18168601,  295.17313188,  298.81898515,\n",
    "        305.35499931,  297.3187572 ,  330.10944498,  312.07619563,\n",
    "        338.08560914,  337.16702908,  331.10617501,  325.46645358,\n",
    "        337.66440893,  333.64162871,  370.85149057,  351.59390525,\n",
    "        362.27985309,  345.48425572,  365.1976818 ,  386.90415177,\n",
    "        371.05186831,  393.39852867,  397.95134137,  395.98005292,\n",
    "        415.89087335,  415.63691073])\n",
    "\n",
    "def plot_cdfs(dx, dy, zx, xy):\n",
    "    array_index = list(range(len(x)))\n",
    "    fig, axes = plt.subplots(nrows=2, ncols=1)\n",
    "    axes[0].plot(array_index, dx, color=\"blue\")\n",
    "    axes[0].plot(array_index, dy, color=\"red\")\n",
    "    axes[0].set_ylabel(\"Deviations of X and Y\")\n",
    "    axes[1].plot(array_index, zx, color=\"blue\")\n",
    "    axes[1].plot(array_index, zy, color=\"red\")\n",
    "    axes[1].set_ylabel(\"Normalized Deviations of X and Y\")\n",
    "    axes[1].set_xlabel(\"Array Index\")\n",
    "    plt.tight_layout()\n",
    "    plt.show()"
   ]
  },
  {
   "cell_type": "code",
   "execution_count": 39,
   "metadata": {},
   "outputs": [
    {
     "data": {
      "image/png": "[encoded data removed]",
      "text/plain": [
       "<Figure size 432x288 with 2 Axes>"
      ]
     },
     "metadata": {
      "needs_background": "light"
     },
     "output_type": "display_data"
    }
   ],
   "source": [
    "# Compute the deviations by subtracting the mean offset\n",
    "dx = x - np.mean(x)\n",
    "dy = y - np.mean(y)\n",
    "\n",
    "# Normalize the data by dividing the deviations by the standard deviation\n",
    "zx = dx / np.std(x)\n",
    "zy = dy / np.std(y)\n",
    "\n",
    "# Plot comparisons of the raw data and the normalized data\n",
    "fig = plot_cdfs(dx, dy, zx, zy)"
   ]
  },
  {
   "cell_type": "code",
   "execution_count": 45,
   "metadata": {},
   "outputs": [],
   "source": [
    "def plot_normalized_deviations(zx, zy):\n",
    "    fig, axis = plt.subplots()\n",
    "    lines = axis.plot(zx * zy, color=\"purple\")\n",
    "    axis.axhline(0, color=\"black\", linestyle=\"--\")\n",
    "    axis.set_ylabel(\"Product of Normalized Deviations\")\n",
    "    axis.set_xlabel(\"Array Index\")\n",
    "    axis.set_title(\"Correlation = np.mean(zx*zy) = {:0.2f}\".format(correlation))\n",
    "    plt.tight_layout()\n",
    "    plt.show()\n",
    "    return fig"
   ]
  },
  {
   "cell_type": "code",
   "execution_count": 46,
   "metadata": {},
   "outputs": [
    {
     "name": "stdout",
     "output_type": "stream",
     "text": [
      "Covariance:  69.67981827138166\n",
      "Correlation:  0.9824333697735637\n"
     ]
    },
    {
     "data": {
      "image/png": "[encoded data removed]",
      "text/plain": [
       "<Figure size 432x288 with 1 Axes>"
      ]
     },
     "metadata": {
      "needs_background": "light"
     },
     "output_type": "display_data"
    }
   ],
   "source": [
    "# Compute the covariance from the deviations.\n",
    "dx = x - np.mean(x)\n",
    "dy = y - np.mean(y)\n",
    "covariance = np.mean(dx * dy)\n",
    "print(\"Covariance: \", covariance)\n",
    "\n",
    "# Compute the correlation from the normalized deviations.\n",
    "zx = dx / np.std(x)\n",
    "zy = dy / np.std(y)\n",
    "correlation = np.mean(zx * zy)\n",
    "print(\"Correlation: \", correlation)\n",
    "\n",
    "# Plot the normalized deviations for visual inspection. \n",
    "fig = plot_normalized_deviations(zx, zy)"
   ]
  },
  {
   "cell_type": "code",
   "execution_count": 50,
   "metadata": {},
   "outputs": [
    {
     "data": {
      "text/plain": [
       "0.9824333697735637"
      ]
     },
     "execution_count": 50,
     "metadata": {},
     "output_type": "execute_result"
    }
   ],
   "source": [
    "np.mean(zx * zy)"
   ]
  },
  {
   "cell_type": "code",
   "execution_count": 52,
   "metadata": {},
   "outputs": [],
   "source": [
    "data_sets = {'A': {'correlation': np.nan,\n",
    "  'x': np.array([ 2.55041235,  2.60839969,  2.79619981,  2.84385271,  3.15184751,\n",
    "          3.21906477,  3.23462037,  3.33976744,  3.47394544,  3.56125803,\n",
    "          3.67786134,  3.7339611 ,  3.86496991,  4.10019474,  4.24786673,\n",
    "          4.24920164,  4.29714059,  4.31952159,  4.41315702,  4.41783781,\n",
    "          4.42072788,  4.42420154,  4.62362038,  4.63538281,  4.70730828,\n",
    "          4.7073288 ,  4.71777962,  4.82716962,  4.85543965,  4.98312847,\n",
    "          5.08441026,  5.13865324,  5.21421035,  5.24607654,  5.26107949,\n",
    "          5.30245284,  5.39280917,  5.42952286,  5.46962252,  5.62089269,\n",
    "          5.67820005,  5.80961067,  5.92308322,  5.95929341,  6.02818114,\n",
    "          6.32140278,  6.83206096,  6.90378732,  6.97401602,  7.31534773]),\n",
    "  'y': np.array([  5.18184568,   5.12052882,   5.42316911,   5.84062449,\n",
    "           6.5614449 ,   6.67094956,   6.25943637,   6.60223178,\n",
    "           7.03070673,   7.36640234,   7.23592912,   7.42150745,\n",
    "           7.45335607,   7.90133782,   8.69886493,   8.83746328,\n",
    "           8.57627865,   8.88992641,   8.91672304,   8.67439568,\n",
    "           8.93180467,   9.23291221,   9.23828425,   9.66192654,\n",
    "           8.75968029,   9.62013323,   9.45732102,   9.57958741,\n",
    "           9.73381949,   9.46936471,  10.11390254,  10.36658462,\n",
    "          10.79789421,  10.36258554,  10.32003559,  10.47946642,\n",
    "          11.01446886,  10.9412335 ,  10.80680499,  11.37010224,\n",
    "          11.3806695 ,  11.86138259,  11.67065318,  11.83667129,\n",
    "          11.95833524,  12.27692683,  13.73815199,  13.87283846,\n",
    "          13.9493104 ,  14.57204868])},\n",
    " 'B': {'correlation': np.nan,\n",
    "  'x': np.array([ 2.19664381,  2.406278  ,  2.47343147,  2.72871597,  3.06636806,\n",
    "          3.51128038,  3.87855402,  4.09926408,  4.18003832,  4.20434562,\n",
    "          4.29194259,  4.41336839,  4.50269971,  4.58240329,  4.59650649,\n",
    "          4.60918513,  4.74669209,  4.77111432,  4.82900646,  4.84738553,\n",
    "          5.00264796,  5.01962047,  5.02286149,  5.04517742,  5.09524948,\n",
    "          5.15589119,  5.24177672,  5.26908573,  5.30974025,  5.36136493,\n",
    "          5.42179707,  5.50681676,  5.58929395,  5.69179864,  5.84444261,\n",
    "          5.94426748,  6.05209339,  6.07448552,  6.07964661,  6.10895368,\n",
    "          6.19165516,  6.23993253,  6.30742282,  6.30947322,  6.32371148,\n",
    "          6.43754466,  6.64768944,  6.65144774,  6.79088371,  7.98870064]),\n",
    "  'y': np.array([  7.75732279,  -0.97068431,  -0.66103018,   5.05375913,\n",
    "           3.93976632,   6.44408273,   9.17318937,   8.05647607,\n",
    "          10.62302986,  14.59132646,   4.68693984,   8.54535728,\n",
    "          10.23727485,   8.33081153,  13.32821592,  -0.38344428,\n",
    "          17.61579867,   4.97170349,  10.50554646,  12.51365356,\n",
    "           6.86355506,  11.88747988,  12.86263588,  12.18438671,\n",
    "           6.48548172,  18.34315419,  11.39140361,   5.92753502,\n",
    "          13.14739828,  10.8807806 ,  12.70116343,  -3.24043311,\n",
    "          16.46301037,  11.99411949,  12.34700338,  10.16815219,\n",
    "          15.17366173,  16.0886504 ,  13.24263662,  17.78585212,\n",
    "          12.70267957,  10.88000673,   8.5034434 ,  10.28007359,\n",
    "          15.91379868,  12.5473011 ,  11.91631483,  15.41604806,\n",
    "           9.30581229,  13.92987605])},\n",
    " 'C': {'correlation': np.nan,\n",
    "  'x': np.array([ 1.50176362,  1.96665095,  2.78558362,  2.84041313,  3.11713161,\n",
    "          3.21414912,  3.43264917,  3.64296175,  3.83020766,  3.90057957,\n",
    "          3.9165745 ,  3.92280638,  3.99329185,  4.12515346,  4.15139231,\n",
    "          4.2013725 ,  4.20281062,  4.27674969,  4.44502255,  4.45706091,\n",
    "          4.46385921,  4.51137526,  4.68047579,  4.7829554 ,  4.8249141 ,\n",
    "          4.88161379,  4.98521188,  5.00355739,  5.35372312,  5.35453415,\n",
    "          5.42323631,  5.482733  ,  5.5161402 ,  5.71725733,  5.86027839,\n",
    "          5.92171072,  6.13388149,  6.15932804,  6.22342001,  6.24668181,\n",
    "          6.25506737,  6.46978631,  6.58242032,  6.86341504,  6.86423703,\n",
    "          7.06429567,  7.73348261,  7.7574126 ,  7.79767917,  7.99045658]),\n",
    "  'y': np.array([-17.70183793, -12.68730947,  33.47056284,  -7.0881775 ,\n",
    "           6.7091949 ,  23.53735376,  21.11660059,  35.3641024 ,\n",
    "          31.59072152,  24.91144186,  -4.53019043,  20.56341545,\n",
    "          13.01493562, -12.96994045,  30.97956936,  21.31852956,\n",
    "           9.13346253,   4.82402639, -10.28277321,  12.10650699,\n",
    "          16.42274434,  -4.27572923,  27.95621636,  -7.98933795,\n",
    "         -24.3197774 ,  26.39886103,   3.51656715,   7.99064142,\n",
    "          -2.69282132, -14.98633586,  30.93027062,  -0.05643774,\n",
    "          37.60752021,  24.35144564,   6.68442643,  -5.53101698,\n",
    "           0.5483712 ,  -7.08171402,  45.84065377,  15.1244233 ,\n",
    "          30.91342343,  -7.33806017,  16.06140272,  32.57262109,\n",
    "           8.36830187,  30.62642269,  -1.88612137,  -6.30071951,\n",
    "          21.66576814,   9.91409021])}}"
   ]
  },
  {
   "cell_type": "code",
   "execution_count": 57,
   "metadata": {},
   "outputs": [
    {
     "name": "stdout",
     "output_type": "stream",
     "text": [
      "data set A has correlation 1.00\n",
      "data set B has correlation 0.54\n",
      "data set C has correlation 0.09\n"
     ]
    }
   ],
   "source": [
    "# Complete the function that will compute correlation.\n",
    "def correlation(x,y):\n",
    "    x_dev = x - np.mean(x)\n",
    "    y_dev = y - np.mean(y)\n",
    "    x_norm = x_dev / np.std(x)\n",
    "    y_norm = y_dev / np.std(y)\n",
    "    return np.mean(x_norm * y_norm)\n",
    "\n",
    "# Compute and store the correlation for each data set in the list.\n",
    "for name, data in data_sets.items():\n",
    "    data['correlation'] = correlation(data['x'], data['y'])\n",
    "    print('data set {} has correlation {:.2f}'.format(name, data['correlation']))\n",
    "\n",
    "# Assign the data set with the best correlation.\n",
    "best_data = data_sets['A']"
   ]
  },
  {
   "cell_type": "code",
   "execution_count": null,
   "metadata": {},
   "outputs": [],
   "source": []
  }
 ],
 "metadata": {
  "kernelspec": {
   "display_name": "Python 3",
   "language": "python",
   "name": "python3"
  },
  "language_info": {
   "codemirror_mode": {
    "name": "ipython",
    "version": 3
   },
   "file_extension": ".py",
   "mimetype": "text/x-python",
   "name": "python",
   "nbconvert_exporter": "python",
   "pygments_lexer": "ipython3",
   "version": "3.7.3"
  },
  "toc": {
   "base_numbering": 1,
   "nav_menu": {},
   "number_sections": true,
   "sideBar": true,
   "skip_h1_title": true,
   "title_cell": "Table of Contents",
   "title_sidebar": "Contents",
   "toc_cell": true,
   "toc_position": {},
   "toc_section_display": true,
   "toc_window_display": false
  },
  "varInspector": {
   "cols": {
    "lenName": 16,
    "lenType": 16,
    "lenVar": 40
   },
   "kernels_config": {
    "python": {
     "delete_cmd_postfix": "",
     "delete_cmd_prefix": "del ",
     "library": "var_list.py",
     "varRefreshCmd": "print(var_dic_list())"
    },
    "r": {
     "delete_cmd_postfix": ") ",
     "delete_cmd_prefix": "rm(",
     "library": "var_list.r",
     "varRefreshCmd": "cat(var_dic_list()) "
    }
   },
   "types_to_exclude": [
    "module",
    "function",
    "builtin_function_or_method",
    "instance",
    "_Feature"
   ],
   "window_display": false
  }
 },
 "nbformat": 4,
 "nbformat_minor": 2
}
