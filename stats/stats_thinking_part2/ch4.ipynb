{
 "cells": [
  {
   "cell_type": "markdown",
   "metadata": {
    "toc": true
   },
   "source": [
    "<h1>Table of Contents<span class=\"tocSkip\"></span></h1>\n",
    "<div class=\"toc\"><ul class=\"toc-item\"></ul></div>"
   ]
  },
  {
   "cell_type": "markdown",
   "metadata": {},
   "source": [
    "# Chapter 4"
   ]
  },
  {
   "cell_type": "code",
   "execution_count": 1,
   "metadata": {},
   "outputs": [],
   "source": [
    "import numpy as np\n",
    "import pandas as pd\n",
    "import matplotlib.pyplot as plt\n",
    "import seaborn as sns\n",
    "sns.set()"
   ]
  },
  {
   "cell_type": "code",
   "execution_count": 43,
   "metadata": {},
   "outputs": [],
   "source": [
    "def permutation_sample(data1, data2):\n",
    "    \"\"\"Generate a permutation sample from two data sets.\"\"\"\n",
    "\n",
    "    # Concatenate the data sets: data\n",
    "    data = np.concatenate((data1, data2))\n",
    "\n",
    "    # Permute the concatenated array: permuted_data\n",
    "    permuted_data = np.random.permutation(data)\n",
    "\n",
    "    # Split the permuted array into two: perm_sample_1, perm_sample_2\n",
    "    perm_sample_1 = permuted_data[:len(data1)]\n",
    "    perm_sample_2 = permuted_data[len(data1):]\n",
    "\n",
    "    return perm_sample_1, perm_sample_2\n",
    "\n",
    "\n",
    "def ecdf(data):\n",
    "    return np.sort(data), np.arange(1, len(data)+1) / len(data)\n",
    "\n",
    "\n",
    "def draw_perm_reps(data_1, data_2, func, size=1):\n",
    "    \"\"\"Generate multiple permutation replicates.\"\"\"\n",
    "\n",
    "    # Initialize array of replicates: perm_replicates\n",
    "    perm_replicates = np.empty(size)\n",
    "\n",
    "    for i in range(size):\n",
    "        # Generate permutation sample\n",
    "        perm_sample_1, perm_sample_2 = permutation_sample(data_1, data_2)\n",
    "\n",
    "        # Compute the test statistic\n",
    "        perm_replicates[i] = func(perm_sample_1, perm_sample_2)\n",
    "\n",
    "    return perm_replicates\n",
    "\n",
    "\n",
    "def diff_of_means(data_1, data_2):\n",
    "    \"\"\"Difference in means of two arrays.\"\"\"\n",
    "    return np.mean(data_1) - np.mean(data_2)\n"
   ]
  },
  {
   "cell_type": "code",
   "execution_count": 44,
   "metadata": {},
   "outputs": [
    {
     "name": "stdout",
     "output_type": "stream",
     "text": [
      "p-value = 0.0003\n"
     ]
    }
   ],
   "source": [
    "# Construct arrays of data: dems, reps\n",
    "dems = np.array([True] * 153 + [False] * 91)\n",
    "reps = np.array([True] * 136 + [False] * 35)\n",
    "\n",
    "def frac_yea_dems(dems, reps):\n",
    "    \"\"\"Compute fraction of Democrat yea votes.\"\"\"\n",
    "    frac = np.sum(dems) / len(dems)\n",
    "    return frac\n",
    "\n",
    "# Acquire permutation samples: perm_replicates\n",
    "perm_replicates = draw_perm_reps(dems, reps, frac_yea_dems, 10000)\n",
    "\n",
    "# Compute and print p-value: p\n",
    "p = np.sum(perm_replicates <= 153/244) / len(perm_replicates)\n",
    "print('p-value =', p)"
   ]
  },
  {
   "cell_type": "code",
   "execution_count": 52,
   "metadata": {},
   "outputs": [
    {
     "data": {
      "image/png": "[encoded data removed]",
      "text/plain": [
       "<Figure size 432x288 with 1 Axes>"
      ]
     },
     "metadata": {
      "needs_background": "light"
     },
     "output_type": "display_data"
    }
   ],
   "source": [
    "nht_dead= np.array([  -1,  894,   10,  130,    1,  934,   29,    6,  485,  254,  372,\n",
    "         81,  191,  355,  180,  286,   47,  269,  361,  173,  246,  492,\n",
    "        462, 1319,   58,  297,   31, 2970,  640,  237,  434,  570,   77,\n",
    "        271,  563, 3365,   89,    0,  379,  221,  479,  367,  628,  843,\n",
    "       1613, 1101,  215,  684,  814,  278,  324,  161,  219,  545,  715,\n",
    "        966,  624,   29,  450,  107,   20,   91, 1325,  124, 1468,  104,\n",
    "       1309,  429,   62, 1878, 1104,  123,  251,   93,  188,  983,  166,\n",
    "         96,  702,   23,  524,   26,  299,   59,   39,   12,    2,  308,\n",
    "       1114,  813,  887])\n",
    "\n",
    "nht_live = np.array([ 645, 2088,   42, 2090,   11,  886, 1665, 1084, 2900, 2432,  750,\n",
    "       4021, 1070, 1765, 1322,   26,  548, 1525,   77, 2181, 2752,  127,\n",
    "       2147,  211,   41, 1575,  151,  479,  697,  557, 2267,  542,  392,\n",
    "         73,  603,  233,  255,  528,  397, 1529, 1023, 1194,  462,  583,\n",
    "         37,  943,  996,  480, 1497,  717,  224,  219, 1531,  498,   44,\n",
    "        288,  267,  600,   52,  269, 1086,  386,  176, 2199,  216,   54,\n",
    "        675, 1243,  463,  650,  171,  327,  110,  774,  509,    8,  197,\n",
    "        136,   12, 1124,   64,  380,  811,  232,  192,  731,  715,  226,\n",
    "        605,  539, 1491,  323,  240,  179,  702,  156,   82, 1397,  354,\n",
    "        778,  603, 1001,  385,  986,  203,  149,  576,  445,  180, 1403,\n",
    "        252,  675, 1351, 2983, 1568,   45,  899, 3260, 1025,   31,  100,\n",
    "       2055, 4043,   79,  238, 3931, 2351,  595,  110,  215,    0,  563,\n",
    "        206,  660,  242,  577,  179,  157,  192,  192, 1848,  792, 1693,\n",
    "         55,  388,  225, 1134, 1172, 1555,   31, 1582, 1044,  378, 1687,\n",
    "       2915,  280,  765, 2819,  511, 1521,  745, 2491,  580, 2072, 6450,\n",
    "        578,  745, 1075, 1103, 1549, 1520,  138, 1202,  296,  277,  351,\n",
    "        391,  950,  459,   62, 1056, 1128,  139,  420,   87,   71,  814,\n",
    "        603, 1349,  162, 1027,  783,  326,  101,  876,  381,  905,  156,\n",
    "        419,  239,  119,  129,  467])\n",
    "\n",
    "x,y = ecdf(nht_dead)\n",
    "plt.plot(x,y, marker='.', linestyle='none')\n",
    "x,y = ecdf(nht_live)\n",
    "plt.plot(x,y, marker='.', linestyle='none')\n",
    "plt.show()"
   ]
  },
  {
   "cell_type": "code",
   "execution_count": 51,
   "metadata": {},
   "outputs": [
    {
     "name": "stdout",
     "output_type": "stream",
     "text": [
      "p-val = 0.0001\n"
     ]
    }
   ],
   "source": [
    "# Compute the observed difference in mean inter-no-hitter times: nht_diff_obs\n",
    "nht_diff_obs = diff_of_means(nht_dead, nht_live)\n",
    "\n",
    "# Acquire 10,000 permutation replicates of difference in mean no-hitter time: perm_replicates\n",
    "perm_replicates = draw_perm_reps(nht_dead, nht_live, diff_of_means, 10000)\n",
    "\n",
    "# Compute and print the p-value: p\n",
    "p = np.sum(perm_replicates <= nht_diff_obs)/ len(perm_replicates)\n",
    "print('p-val =', p)"
   ]
  },
  {
   "cell_type": "code",
   "execution_count": 53,
   "metadata": {},
   "outputs": [],
   "source": [
    "# data prep\n",
    "illiteracy = np.array([  9.5,  49.2,   1. ,  11.2,   9.8,  60. ,  50.2,  51.2,   0.6,\n",
    "         1. ,   8.5,   6.1,   9.8,   1. ,  42.2,  77.2,  18.7,  22.8,\n",
    "         8.5,  43.9,   1. ,   1. ,   1.5,  10.8,  11.9,   3.4,   0.4,\n",
    "         3.1,   6.6,  33.7,  40.4,   2.3,  17.2,   0.7,  36.1,   1. ,\n",
    "        33.2,  55.9,  30.8,  87.4,  15.4,  54.6,   5.1,   1.1,  10.2,\n",
    "        19.8,   0. ,  40.7,  57.2,  59.9,   3.1,  55.7,  22.8,  10.9,\n",
    "        34.7,  32.2,  43. ,   1.3,   1. ,   0.5,  78.4,  34.2,  84.9,\n",
    "        29.1,  31.3,  18.3,  81.8,  39. ,  11.2,  67. ,   4.1,   0.2,\n",
    "        78.1,   1. ,   7.1,   1. ,  29. ,   1.1,  11.7,  73.6,  33.9,\n",
    "        14. ,   0.3,   1. ,   0.8,  71.9,  40.1,   1. ,   2.1,   3.8,\n",
    "        16.5,   4.1,   0.5,  44.4,  46.3,  18.7,   6.5,  36.8,  18.6,\n",
    "        11.1,  22.1,  71.1,   1. ,   0. ,   0.9,   0.7,  45.5,   8.4,\n",
    "         0. ,   3.8,   8.5,   2. ,   1. ,  58.9,   0.3,   1. ,  14. ,\n",
    "        47. ,   4.1,   2.2,   7.2,   0.3,   1.5,  50.5,   1.3,   0.6,\n",
    "        19.1,   6.9,   9.2,   2.2,   0.2,  12.3,   4.9,   4.6,   0.3,\n",
    "        16.5,  65.7,  63.5,  16.8,   0.2,   1.8,   9.6,  15.2,  14.4,\n",
    "         3.3,  10.6,  61.3,  10.9,  32.2,   9.3,  11.6,  20.7,   6.5,\n",
    "         6.7,   3.5,   1. ,   1.6,  20.5,   1.5,  16.7,   2. ,   0.9])\n",
    "\n",
    "fertility = np.array([ 1.769,  2.682,  2.077,  2.132,  1.827,  3.872,  2.288,  5.173,\n",
    "        1.393,  1.262,  2.156,  3.026,  2.033,  1.324,  2.816,  5.211,\n",
    "        2.1  ,  1.781,  1.822,  5.908,  1.881,  1.852,  1.39 ,  2.281,\n",
    "        2.505,  1.224,  1.361,  1.468,  2.404,  5.52 ,  4.058,  2.223,\n",
    "        4.859,  1.267,  2.342,  1.579,  6.254,  2.334,  3.961,  6.505,\n",
    "        2.53 ,  2.823,  2.498,  2.248,  2.508,  3.04 ,  1.854,  4.22 ,\n",
    "        5.1  ,  4.967,  1.325,  4.514,  3.173,  2.308,  4.62 ,  4.541,\n",
    "        5.637,  1.926,  1.747,  2.294,  5.841,  5.455,  7.069,  2.859,\n",
    "        4.018,  2.513,  5.405,  5.737,  3.363,  4.89 ,  1.385,  1.505,\n",
    "        6.081,  1.784,  1.378,  1.45 ,  1.841,  1.37 ,  2.612,  5.329,\n",
    "        5.33 ,  3.371,  1.281,  1.871,  2.153,  5.378,  4.45 ,  1.46 ,\n",
    "        1.436,  1.612,  3.19 ,  2.752,  3.35 ,  4.01 ,  4.166,  2.642,\n",
    "        2.977,  3.415,  2.295,  3.019,  2.683,  5.165,  1.849,  1.836,\n",
    "        2.518,  2.43 ,  4.528,  1.263,  1.885,  1.943,  1.899,  1.442,\n",
    "        1.953,  4.697,  1.582,  2.025,  1.841,  5.011,  1.212,  1.502,\n",
    "        2.516,  1.367,  2.089,  4.388,  1.854,  1.748,  2.978,  2.152,\n",
    "        2.362,  1.988,  1.426,  3.29 ,  3.264,  1.436,  1.393,  2.822,\n",
    "        4.969,  5.659,  3.24 ,  1.693,  1.647,  2.36 ,  1.792,  3.45 ,\n",
    "        1.516,  2.233,  2.563,  5.283,  3.885,  0.966,  2.373,  2.663,\n",
    "        1.251,  2.052,  3.371,  2.093,  2.   ,  3.883,  3.852,  3.718,\n",
    "        1.732,  3.928])\n",
    "\n",
    "\n",
    "def pearson_r(data_1, data_2):\n",
    "    return np.corrcoef(data_1, data_2)[0,1]"
   ]
  },
  {
   "cell_type": "code",
   "execution_count": 62,
   "metadata": {},
   "outputs": [
    {
     "name": "stdout",
     "output_type": "stream",
     "text": [
      "p-val = 0.0\n"
     ]
    }
   ],
   "source": [
    "# Compute observed correlation: r_obs\n",
    "r_obs = pearson_r(illiteracy, fertility)\n",
    "\n",
    "# Initialize permutation replicates: perm_replicates\n",
    "perm_replicates = np.empty(100000)\n",
    "\n",
    "# Draw replicates\n",
    "for i in range(100000):\n",
    "    # Permute illiteracy measurments: illiteracy_permuted\n",
    "    illiteracy_permuted = np.random.permutation(illiteracy)\n",
    "\n",
    "    # Compute Pearson correlation\n",
    "    perm_replicates[i] = pearson_r(illiteracy_permuted, fertility)\n",
    "\n",
    "# Compute p-value: p\n",
    "p = np.sum(perm_replicates >= r_obs) / len(perm_replicates)\n",
    "print('p-val =', p)"
   ]
  },
  {
   "cell_type": "code",
   "execution_count": 65,
   "metadata": {},
   "outputs": [
    {
     "data": {
      "image/png": "[encoded data removed]",
      "text/plain": [
       "<Figure size 432x288 with 1 Axes>"
      ]
     },
     "metadata": {
      "needs_background": "light"
     },
     "output_type": "display_data"
    }
   ],
   "source": [
    "plt.hist(perm_replicates, bins=1000, histtype='step')\n",
    "plt.axvline(r_obs)\n",
    "plt.show()"
   ]
  },
  {
   "cell_type": "code",
   "execution_count": 66,
   "metadata": {},
   "outputs": [],
   "source": [
    "# data prep\n",
    "control = np.array([  4.159234,   4.408002,   0.172812,   3.498278,   3.104912,\n",
    "         5.164174,   6.615262,   4.633066,   0.170408,   2.65    ,\n",
    "         0.0875  ,   1.997148,   6.92668 ,   4.574932,   3.896466,\n",
    "         5.209814,   3.70625 ,   0.      ,   4.62545 ,   3.01444 ,\n",
    "         0.732652,   0.4     ,   6.518382,   5.225   ,   6.218742,\n",
    "         6.840358,   1.211308,   0.368252,   3.59937 ,   4.212158,\n",
    "         6.052364,   2.115532,   6.60413 ,   5.26074 ,   6.05695 ,\n",
    "         6.481172,   3.171522,   3.057228,   0.218808,   5.215112,\n",
    "         4.465168,   2.28909 ,   3.732572,   2.17087 ,   1.834326,\n",
    "         6.074862,   5.841978,   8.524892,   4.698492,   2.965624,\n",
    "         2.324206,   3.409412,   4.830726,   0.1     ,   0.      ,\n",
    "         4.101432,   3.478162,   1.009688,   4.999296,   4.32196 ,\n",
    "         0.299592,   3.606032,   7.54026 ,   4.284024,   0.057494,\n",
    "         6.036668,   2.924084,   4.150144,   1.256926,   4.666502,\n",
    "         4.806594,   2.52478 ,   2.027654,   2.52283 ,   4.735598,\n",
    "         2.033236,   0.      ,   6.177294,   2.601834,   3.544408,\n",
    "         3.6045  ,   5.520346,   4.80698 ,   3.002478,   3.559816,\n",
    "         7.075844,  10.      ,   0.139772,   6.17171 ,   3.201232,\n",
    "         8.459546,   0.17857 ,   7.088276,   5.496662,   5.415086,\n",
    "         1.932282,   3.02838 ,   7.47996 ,   1.86259 ,   7.838498,\n",
    "         2.242718,   3.292958,   6.363644,   4.386898,   8.47533 ,\n",
    "         4.156304,   1.463956,   4.533628,   5.573922,   1.29454 ,\n",
    "         7.547504,   3.92466 ,   5.820258,   4.118522,   4.125   ,\n",
    "         2.286698,   0.591882,   1.273124,   0.      ,   0.      ,\n",
    "         0.      ,  12.22502 ,   7.601604,   5.56798 ,   1.679914,\n",
    "         8.77096 ,   5.823942,   0.258374,   0.      ,   5.899236,\n",
    "         5.486354,   2.053148,   3.25541 ,   2.72564 ,   3.364066,\n",
    "         2.43427 ,   5.282548,   3.963666,   0.24851 ,   0.347916,\n",
    "         4.046862,   5.461436,   4.066104,   0.      ,   0.065   ])\n",
    "\n",
    "treated = np.array([ 1.342686,  1.058476,  3.793784,  0.40428 ,  4.528388,  2.142966,\n",
    "        3.937742,  0.1375  ,  6.919164,  0.      ,  3.597812,  5.196538,\n",
    "        2.78955 ,  2.3229  ,  1.090636,  5.323916,  1.021618,  0.931836,\n",
    "        2.78    ,  0.412202,  1.180934,  2.8674  ,  0.      ,  0.064354,\n",
    "        3.008348,  0.876634,  0.      ,  4.971712,  7.280658,  4.79732 ,\n",
    "        2.084956,  3.251514,  1.9405  ,  1.566192,  0.58894 ,  5.219658,\n",
    "        0.977976,  3.124584,  1.297564,  1.433328,  4.24337 ,  0.880964,\n",
    "        2.376566,  3.763658,  1.918426,  3.74    ,  3.841726,  4.69964 ,\n",
    "        4.386876,  0.      ,  1.127432,  1.845452,  0.690314,  4.185602,\n",
    "        2.284732,  7.237594,  2.185148,  2.799124,  3.43218 ,  0.63354 ,\n",
    "        1.142496,  0.586   ,  2.372858,  1.80032 ,  3.329306,  4.028804,\n",
    "        3.474156,  7.508752,  2.032824,  1.336556,  1.906496,  1.396046,\n",
    "        2.488104,  4.759114,  1.07853 ,  3.19927 ,  3.814252,  4.275962,\n",
    "        2.817056,  0.552198,  3.27194 ,  5.11525 ,  2.064628,  0.      ,\n",
    "        3.34101 ,  6.177322,  0.      ,  3.66415 ,  2.352582,  1.531696])"
   ]
  },
  {
   "cell_type": "code",
   "execution_count": 67,
   "metadata": {},
   "outputs": [
    {
     "data": {
      "image/png": "[encoded data removed]",
      "text/plain": [
       "<Figure size 432x288 with 1 Axes>"
      ]
     },
     "metadata": {
      "needs_background": "light"
     },
     "output_type": "display_data"
    }
   ],
   "source": [
    "# Compute x,y values for ECDFs\n",
    "x_control, y_control = ecdf(control)\n",
    "x_treated, y_treated = ecdf(treated)\n",
    "\n",
    "# Plot the ECDFs\n",
    "plt.plot(x_control, y_control, marker='.', linestyle='none')\n",
    "plt.plot(x_treated, y_treated, marker='.', linestyle='none')\n",
    "\n",
    "# Set the margins\n",
    "plt.margins(0.02)\n",
    "\n",
    "# Add a legend\n",
    "plt.legend(('control', 'treated'), loc='lower right')\n",
    "\n",
    "# Label axes and show plot\n",
    "plt.xlabel('millions of alive sperm per mL')\n",
    "plt.ylabel('ECDF')\n",
    "plt.show()\n"
   ]
  },
  {
   "cell_type": "code",
   "execution_count": 70,
   "metadata": {},
   "outputs": [
    {
     "name": "stdout",
     "output_type": "stream",
     "text": [
      "p-value = 0.0\n"
     ]
    }
   ],
   "source": [
    "# data prep\n",
    "def bootstrap_replicate_1d(data, func):\n",
    "    return func(np.random.choice(data, size=len(data)))\n",
    "\n",
    "\n",
    "def draw_bs_reps(data, func, size=1):\n",
    "    return np.array([bootstrap_replicate_1d(data, func) for _ in range(size)])\n",
    "\n",
    "\n",
    "# Compute the difference in mean sperm count: diff_means\n",
    "diff_means = np.mean(control) - np.mean(treated)\n",
    "\n",
    "# Compute mean of pooled data: mean_count\n",
    "mean_count = np.mean(np.concatenate((control, treated)))\n",
    "\n",
    "# Generate shifted data sets\n",
    "control_shifted = control - np.mean(control) + mean_count\n",
    "treated_shifted = treated - np.mean(treated) + mean_count\n",
    "\n",
    "# Generate bootstrap replicates\n",
    "bs_reps_control = draw_bs_reps(control_shifted,\n",
    "                               np.mean, size=10000)\n",
    "bs_reps_treated = draw_bs_reps(treated_shifted,\n",
    "                               np.mean, size=10000)\n",
    "\n",
    "# Get replicates of difference of means: bs_replicates\n",
    "bs_replicates = bs_reps_control - bs_reps_treated\n",
    "\n",
    "# Compute and print p-value: p\n",
    "p = np.sum(bs_replicates >= np.mean(control) - np.mean(treated)) \\\n",
    "            / len(bs_replicates)\n",
    "print('p-value =', p)\n"
   ]
  },
  {
   "cell_type": "code",
   "execution_count": 75,
   "metadata": {},
   "outputs": [
    {
     "data": {
      "image/png": "[encoded data removed]",
      "text/plain": [
       "<Figure size 432x288 with 1 Axes>"
      ]
     },
     "metadata": {
      "needs_background": "light"
     },
     "output_type": "display_data"
    }
   ],
   "source": [
    "plt.hist(bs_replicates, bins=int(10000**0.5), histtype='step')\n",
    "plt.axvline(diff_means)\n",
    "plt.show()"
   ]
  },
  {
   "cell_type": "code",
   "execution_count": null,
   "metadata": {},
   "outputs": [],
   "source": []
  }
 ],
 "metadata": {
  "kernelspec": {
   "display_name": "Python 3",
   "language": "python",
   "name": "python3"
  },
  "language_info": {
   "codemirror_mode": {
    "name": "ipython",
    "version": 3
   },
   "file_extension": ".py",
   "mimetype": "text/x-python",
   "name": "python",
   "nbconvert_exporter": "python",
   "pygments_lexer": "ipython3",
   "version": "3.6.6"
  },
  "toc": {
   "base_numbering": 1,
   "nav_menu": {},
   "number_sections": true,
   "sideBar": true,
   "skip_h1_title": true,
   "title_cell": "Table of Contents",
   "title_sidebar": "Contents",
   "toc_cell": true,
   "toc_position": {},
   "toc_section_display": true,
   "toc_window_display": false
  },
  "varInspector": {
   "cols": {
    "lenName": 16,
    "lenType": 16,
    "lenVar": 40
   },
   "kernels_config": {
    "python": {
     "delete_cmd_postfix": "",
     "delete_cmd_prefix": "del ",
     "library": "var_list.py",
     "varRefreshCmd": "print(var_dic_list())"
    },
    "r": {
     "delete_cmd_postfix": ") ",
     "delete_cmd_prefix": "rm(",
     "library": "var_list.r",
     "varRefreshCmd": "cat(var_dic_list()) "
    }
   },
   "types_to_exclude": [
    "module",
    "function",
    "builtin_function_or_method",
    "instance",
    "_Feature"
   ],
   "window_display": false
  }
 },
 "nbformat": 4,
 "nbformat_minor": 2
}
