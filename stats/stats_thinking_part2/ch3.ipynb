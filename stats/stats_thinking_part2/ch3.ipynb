{
 "cells": [
  {
   "cell_type": "markdown",
   "metadata": {
    "toc": true
   },
   "source": [
    "<h1>Table of Contents<span class=\"tocSkip\"></span></h1>\n",
    "<div class=\"toc\"><ul class=\"toc-item\"></ul></div>"
   ]
  },
  {
   "cell_type": "markdown",
   "metadata": {},
   "source": [
    "# Chapter 3"
   ]
  },
  {
   "cell_type": "code",
   "execution_count": 6,
   "metadata": {},
   "outputs": [],
   "source": [
    "import numpy as np\n",
    "import pandas as pd\n",
    "import matplotlib.pyplot as plt\n",
    "import seaborn as sns\n",
    "sns.set()"
   ]
  },
  {
   "cell_type": "code",
   "execution_count": 7,
   "metadata": {},
   "outputs": [],
   "source": [
    "def permutation_sample(data1, data2):\n",
    "    \"\"\"Generate a permutation sample from two data sets.\"\"\"\n",
    "\n",
    "    # Concatenate the data sets: data\n",
    "    data = np.concatenate((data1, data2))\n",
    "\n",
    "    # Permute the concatenated array: permuted_data\n",
    "    permuted_data = np.random.permutation(data)\n",
    "\n",
    "    # Split the permuted array into two: perm_sample_1, perm_sample_2\n",
    "    perm_sample_1 = permuted_data[:len(data1)]\n",
    "    perm_sample_2 = permuted_data[len(data1):]\n",
    "\n",
    "    return perm_sample_1, perm_sample_2"
   ]
  },
  {
   "cell_type": "code",
   "execution_count": 8,
   "metadata": {},
   "outputs": [],
   "source": [
    "# data prep\n",
    "def ecdf(data):\n",
    "    return np.sort(data), np.arange(1, len(data)+1) / len(data)\n",
    "\n",
    "rain_june = np.array([  66.2,   39.7,   76.4,   26.5,   11.2,   61.8,    6.1,   48.4,\n",
    "         89.2,  104. ,   34. ,   60.6,   57.1,   79.1,   90.9,   32.3,\n",
    "         63.8,   78.2,   27.5,   43.4,   30.1,   17.3,   77.5,   44.9,\n",
    "         92.2,   39.6,   79.4,   66.1,   53.5,   98.5,   20.8,   55.5,\n",
    "         39.6,   56. ,   65.1,   14.8,   13.2,   88.1,    8.4,   32.1,\n",
    "         19.6,   40.4,    2.2,   77.5,  105.4,   77.2,   38. ,   27.1,\n",
    "        111.8,   17.2,   26.7,   23.3,   77.2,   87.2,   27.7,   50.6,\n",
    "         60.3,   15.1,    6. ,   29.4,   39.3,   56.3,   80.4,   85.3,\n",
    "         68.4,   72.5,   13.3,   28.4,   14.7,   37.4,   49.5,   57.2,\n",
    "         85.9,   82.1,   31.8,  126.6,   30.7,   41.4,   33.9,   13.5,\n",
    "         99.1,   70.2,   91.8,   61.3,   13.7,   54.9,   62.5,   24.2,\n",
    "         69.4,   83.1,   44. ,   48.5,   11.9,   16.6,   66.4,   90. ,\n",
    "         34.9,  132.8,   33.4,  225. ,    7.6,   40.9,   76.5,   48. ,\n",
    "        140. ,   55.9,   54.1,   46.4,   68.6,   52.2,  108.3,   14.6,\n",
    "         11.3,   29.8,  130.9,  152.4,   61. ,   46.6,   43.9,   30.9,\n",
    "        111.1,   68.5,   42.2,    9.8,  285.6,   56.7,  168.2,   41.2,\n",
    "         47.8,  166.6,   37.8,   45.4,   43.2])\n",
    "\n",
    "rain_november = np.array([  83.6,   30.9,   62.2,   37. ,   41. ,  160.2,   18.2,  122.4,\n",
    "         71.3,   44.2,   49.1,   37.6,  114.5,   28.8,   82.5,   71.9,\n",
    "         50.7,   67.7,  112. ,   63.6,   42.8,   57.2,   99.1,   86.4,\n",
    "         84.4,   38.1,   17.7,  102.2,  101.3,   58. ,   82. ,  101.4,\n",
    "         81.4,  100.1,   54.6,   39.6,   57.5,   29.2,   48.8,   37.3,\n",
    "        115.4,   55.6,   62. ,   95. ,   84.2,  118.1,  153.2,   83.4,\n",
    "        104.7,   59. ,   46.4,   50. ,  147.6,   76.8,   59.9,  101.8,\n",
    "        136.6,  173. ,   92.5,   37. ,   59.8,  142.1,    9.9,  158.2,\n",
    "         72.6,   28. ,  112.9,  119.3,  199.2,   50.7,   44. ,  170.7,\n",
    "         67.2,   21.4,   61.3,   15.6,  106. ,  116.2,   42.3,   38.5,\n",
    "        132.5,   40.8,  147.5,   93.9,   71.4,   87.3,  163.7,  141.4,\n",
    "         62.6,   84.9,   28.8,  121.1,   28.6,   32.4,  112. ,   50. ,\n",
    "         96.9,   81.8,   70.4,  117.5,   41.2,  124.9,   78.2,   93. ,\n",
    "         53.5,   50.5,   42.6,   47.9,   73.1,  129.1,   56.9,  103.3,\n",
    "         60.5,  134.3,   93.1,   49.5,   48.2,  167.9,   27. ,  111.1,\n",
    "         55.4,   36.2,   57.4,   66.8,   58.3,   60. ,  161.6,  112.7,\n",
    "         37.4,  110.6,   56.6,   95.8,  126.8])"
   ]
  },
  {
   "cell_type": "code",
   "execution_count": 9,
   "metadata": {},
   "outputs": [
    {
     "data": {
      "image/png": "[encoded data removed]",
      "text/plain": [
       "<Figure size 432x288 with 1 Axes>"
      ]
     },
     "metadata": {
      "needs_background": "light"
     },
     "output_type": "display_data"
    }
   ],
   "source": [
    "for _ in range(50):\n",
    "    # Generate permutation samples\n",
    "    perm_sample_1, perm_sample_2 = permutation_sample(rain_june, rain_november)\n",
    "\n",
    "    # Compute ECDFs\n",
    "    x_1, y_1 = ecdf(perm_sample_1)\n",
    "    x_2, y_2 = ecdf(perm_sample_2)\n",
    "\n",
    "    # Plot ECDFs of permutation sample\n",
    "    _ = plt.plot(x_1, y_1, marker='.', linestyle='none',\n",
    "                 color='red', alpha=0.02)\n",
    "    _ = plt.plot(x_2, y_2, marker='.', linestyle='none',\n",
    "                 color='blue', alpha=0.02)\n",
    "\n",
    "# Create and plot ECDFs from original data\n",
    "x_1, y_1 = ecdf(rain_june)\n",
    "x_2, y_2 = ecdf(rain_november)\n",
    "_ = plt.plot(x_1, y_1, marker='.', linestyle='none', color='red')\n",
    "_ = plt.plot(x_2, y_2, marker='.', linestyle='none', color='blue')\n",
    "\n",
    "# Label axes, set margin, and show plot\n",
    "plt.margins(0.02)\n",
    "_ = plt.xlabel('monthly rainfall (mm)')\n",
    "_ = plt.ylabel('ECDF')\n",
    "plt.show()"
   ]
  },
  {
   "cell_type": "code",
   "execution_count": 30,
   "metadata": {},
   "outputs": [],
   "source": [
    "def draw_perm_reps(data_1, data_2, func, size=1):\n",
    "    \"\"\"Generate multiple permutation replicates.\"\"\"\n",
    "\n",
    "    # Initialize array of replicates: perm_replicates\n",
    "    perm_replicates = np.empty(size)\n",
    "\n",
    "    for i in range(size):\n",
    "        # Generate permutation sample\n",
    "        perm_sample_1, perm_sample_2 = permutation_sample(data_1, data_2)\n",
    "\n",
    "        # Compute the test statistic\n",
    "        perm_replicates[i] = func(perm_sample_1, perm_sample_2)\n",
    "\n",
    "    return perm_replicates"
   ]
  },
  {
   "cell_type": "code",
   "execution_count": 31,
   "metadata": {},
   "outputs": [
    {
     "data": {
      "text/plain": [
       "array([ 8.16691729e+00, -4.91428571e+00, -2.40601504e+00,  3.76842105e+00,\n",
       "       -6.84962406e+00, -3.62406015e+00,  6.77443609e+00,  3.67067669e+00,\n",
       "       -6.42556391e+00, -4.76691729e-01,  3.14887218e+00,  8.76992481e+00,\n",
       "       -4.90977444e+00, -1.15639098e+00,  3.23909774e+00,  3.94586466e+00,\n",
       "       -7.95338346e+00,  2.75187970e-01, -6.33383459e+00, -9.86466165e+00,\n",
       "        6.01503759e-03,  1.86766917e+00, -1.06315789e+00,  5.65563910e+00,\n",
       "        5.17443609e+00,  4.36240602e+00,  9.67368421e+00,  2.32481203e+00,\n",
       "        6.88721805e+00, -7.27819549e-01,  1.53082707e+00, -5.95338346e+00,\n",
       "       -1.13082707e+00, -1.24661654e+00, -8.21203008e+00, -6.75187970e-01,\n",
       "        6.47669173e+00, -1.07428571e+01, -4.07218045e+00, -4.40751880e+00,\n",
       "        3.28721805e+00, -2.64962406e+00,  1.22255639e+00,  1.86917293e+00,\n",
       "       -6.78496241e+00,  7.96992481e-02, -1.73233083e+00,  4.75789474e+00,\n",
       "        6.24360902e+00, -2.83458647e+00,  2.74586466e+00, -1.93684211e+00,\n",
       "       -5.86315789e+00, -3.32030075e+00,  3.81654135e+00,  1.80000000e+00,\n",
       "        2.98045113e+00, -4.70676692e-01,  1.78947368e+00, -1.19097744e+00,\n",
       "       -5.35187970e+00, -6.90676692e+00, -1.13383459e+00, -1.15939850e+00,\n",
       "        6.31729323e+00, -3.54736842e+00,  6.54135338e-01,  5.56390977e-01,\n",
       "        3.13834586e+00,  6.00000000e-01, -4.42255639e+00,  7.89624060e+00,\n",
       "       -3.69473684e+00, -7.00751880e-01, -1.35338346e-01, -2.15639098e+00,\n",
       "       -6.08270677e+00,  1.21804511e-01,  2.19548872e-01,  8.69172932e-01,\n",
       "        7.01654135e+00, -1.26165414e+00, -6.25563910e-01,  6.35037594e+00,\n",
       "        6.58045113e+00,  2.72932331e+00, -8.52631579e-01,  1.37142857e+00,\n",
       "       -5.06917293e+00, -4.12030075e-01,  5.51729323e+00,  6.09022556e-01,\n",
       "        2.24511278e+00, -9.64060150e+00,  3.70827068e+00, -2.03007519e+00,\n",
       "       -3.37293233e+00, -6.55789474e+00,  3.00751880e-03,  2.56842105e+00,\n",
       "       -3.85413534e+00, -6.51578947e+00, -1.50375940e-01, -7.26616541e+00,\n",
       "        1.02120301e+01,  4.20751880e+00, -1.01714286e+01, -2.43759398e+00,\n",
       "        7.21804511e-02, -1.93684211e+00, -4.92781955e+00,  2.56240602e+00,\n",
       "        2.76240602e+00,  3.42255639e+00,  9.45864662e-01, -6.10075188e+00,\n",
       "       -7.19548872e+00,  4.14436090e+00, -5.22706767e+00, -5.36691729e+00,\n",
       "       -4.00601504e+00, -3.59398496e+00, -1.53082707e+00, -1.23157895e+00,\n",
       "       -1.09714286e+01,  3.39248120e+00,  3.36541353e+00,  4.93383459e+00,\n",
       "       -5.35488722e+00, -1.19398496e+00,  3.87368421e+00, -5.91578947e+00,\n",
       "        8.79699248e-01, -8.84210526e-01,  2.63909774e+00, -3.76090226e+00,\n",
       "       -3.01052632e+00, -9.50375940e-01,  6.56240602e+00,  4.87218045e+00,\n",
       "        2.55789474e+00, -3.81503759e+00, -8.08872180e+00,  1.54887218e-01,\n",
       "       -6.83609023e+00,  6.61052632e+00,  7.27518797e+00,  5.13984962e+00,\n",
       "        4.90375940e+00,  5.02255639e+00,  4.39097744e-01,  2.83157895e+00,\n",
       "       -1.98646617e+00,  4.91729323e-01,  7.71278195e+00,  4.26315789e+00,\n",
       "        3.13684211e+00, -5.09172932e+00, -7.05714286e+00, -2.50977444e+00,\n",
       "        4.62857143e+00, -1.04661654e+00, -3.15789474e-02, -2.51879699e+00,\n",
       "       -1.17203008e+01, -2.94736842e+00,  6.54887218e+00,  2.76691729e+00,\n",
       "        7.22556391e+00, -1.81654135e+00, -1.72030075e+00, -7.45413534e+00,\n",
       "       -1.07639098e+01, -5.53684211e+00, -1.14736842e+00, -1.22556391e+00,\n",
       "       -1.41804511e+00,  3.64060150e+00, -9.71428571e-01,  3.03909774e+00,\n",
       "        5.24360902e+00, -2.60902256e+00,  1.74045113e+01,  2.68571429e+00,\n",
       "        7.78947368e-01, -3.27518797e+00,  4.66165414e-01,  5.04511278e+00,\n",
       "        2.76691729e-01, -2.06165414e+00, -9.85864662e+00,  2.35488722e+00,\n",
       "       -9.20751880e+00, -1.58496241e+00, -4.60902256e+00,  4.07067669e+00,\n",
       "       -9.46616541e+00, -3.12481203e+00, -3.32330827e+00, -4.82105263e+00,\n",
       "       -1.25097744e+01, -1.90977444e+00,  7.46315789e+00,  9.44812030e+00,\n",
       "       -2.89774436e+00, -7.75939850e+00,  5.87518797e+00, -2.07518797e+00,\n",
       "        6.30977444e+00, -8.68270677e+00,  6.01503759e-01, -3.49323308e+00,\n",
       "        3.77894737e+00, -7.51879699e-02,  3.71578947e+00,  8.24210526e+00,\n",
       "       -1.98195489e+00, -3.26766917e+00, -1.35639098e+00,  1.19413534e+01,\n",
       "       -6.55939850e+00,  1.19548872e+00,  9.27819549e-01, -8.19248120e+00,\n",
       "        6.91729323e-01, -1.23007519e+01, -2.36240602e+00,  5.44210526e+00,\n",
       "       -6.47518797e+00, -7.61654135e+00, -2.21052632e+00,  5.50075188e+00,\n",
       "        1.33097744e+01,  2.51278195e+00, -2.12631579e+00, -1.01654135e+00,\n",
       "       -5.00902256e+00, -2.16090226e+00, -8.51428571e+00, -6.92631579e+00,\n",
       "       -2.11578947e+00, -3.80451128e-01,  1.01458647e+01, -6.35789474e+00,\n",
       "        2.21353383e+00,  7.41804511e+00, -1.36691729e+00,  3.65864662e+00,\n",
       "        3.61203008e+00, -3.40902256e+00, -9.64511278e+00,  4.03007519e-01,\n",
       "        5.91428571e+00, -5.50225564e+00,  6.79699248e-01, -9.62406015e-01,\n",
       "       -9.85263158e+00,  8.01954887e+00, -6.40601504e-01, -1.49172932e+00,\n",
       "       -6.00601504e+00,  4.85864662e+00, -3.51278195e+00, -7.25864662e+00,\n",
       "       -2.94736842e-01,  9.49022556e+00,  9.60300752e+00, -3.24661654e+00,\n",
       "       -1.33142857e+01, -1.66917293e-01,  7.39398496e+00,  6.82255639e+00,\n",
       "       -9.83308271e+00,  2.16541353e-01,  2.42406015e+00, -1.15939850e+01,\n",
       "        3.46015038e+00,  3.18796992e+00, -2.39097744e-01, -2.40601504e-01,\n",
       "        2.31578947e-01,  6.38195489e+00,  2.01503759e-01,  3.44511278e+00,\n",
       "        3.59548872e+00,  1.03849624e+01, -6.38947368e+00,  3.24661654e+00,\n",
       "        4.80902256e+00, -3.33834586e+00, -6.79398496e+00, -6.77894737e+00,\n",
       "        4.07518797e-01,  1.89924812e+00,  3.85413534e+00, -1.10676692e+00,\n",
       "       -1.72992481e+01, -7.32330827e+00,  6.97744361e+00,  2.62255639e+00,\n",
       "        1.25368421e+01, -5.72932331e-01, -1.72481203e+00,  8.41804511e+00,\n",
       "        6.71428571e+00,  1.60902256e-01, -1.37593985e+00, -1.68872180e+00,\n",
       "       -1.37293233e+00,  1.10375940e+00,  7.06315789e+00, -1.06616541e+00,\n",
       "       -9.05263158e-01,  1.83909774e+00, -8.13533835e+00, -5.13082707e+00,\n",
       "       -2.83157895e+00,  2.76691729e+00, -1.37142857e+00, -1.18796992e+00,\n",
       "       -1.01203008e+00, -6.45714286e+00,  3.77293233e+00,  7.49774436e+00,\n",
       "       -4.75488722e+00,  1.59548872e+00,  6.93533835e+00, -4.79849624e+00,\n",
       "        1.59849624e+00, -1.93383459e+00, -2.47969925e+00,  5.08872180e+00,\n",
       "        1.11729323e+00,  1.14466165e+01,  3.89172932e+00, -5.98195489e+00,\n",
       "        1.90827068e+00,  8.41654135e+00, -1.72932331e-01, -6.47669173e+00,\n",
       "        3.72781955e+00,  3.62556391e+00,  1.29774436e+00, -5.41503759e+00,\n",
       "        3.48872180e-01, -1.96541353e+00, -6.52631579e-01,  5.31127820e+00,\n",
       "        3.96541353e+00, -3.86766917e+00,  1.19398496e+00,  2.11729323e+00,\n",
       "       -6.46766917e+00,  1.37894737e+00,  3.49022556e+00,  5.39849624e+00,\n",
       "       -1.06015038e+00,  5.01954887e+00,  2.75037594e+00, -1.19172932e+01,\n",
       "       -8.13684211e+00,  5.26165414e+00,  8.34887218e+00, -8.91879699e+00,\n",
       "        4.93684211e+00, -1.46015038e+00,  4.41654135e+00,  2.45112782e-01,\n",
       "       -5.05263158e+00, -6.37593985e+00, -3.75488722e+00, -5.87969925e-01,\n",
       "       -8.66466165e+00, -4.40000000e+00,  6.27969925e+00, -6.93984962e+00,\n",
       "       -2.48120301e+00,  3.43759398e+00,  7.40902256e+00, -9.70375940e+00,\n",
       "        5.73383459e+00,  6.00902256e+00,  3.40751880e+00, -6.12030075e-01,\n",
       "        7.78496241e+00,  6.20300752e+00, -1.09127820e+01,  9.16842105e+00,\n",
       "        1.12481203e+00,  4.48120301e-01,  8.08120301e+00,  1.20300752e-01,\n",
       "       -1.22120301e+01,  5.51729323e+00, -5.14285714e-01, -3.04812030e+00,\n",
       "        2.13383459e+00,  3.26015038e+00, -7.16842105e+00,  4.04511278e+00,\n",
       "        7.13383459e+00,  3.67218045e+00,  6.34586466e-01,  9.57443609e+00,\n",
       "        3.09774436e+00, -5.07969925e+00,  6.30375940e+00, -1.38345865e+00,\n",
       "       -5.88872180e+00,  1.74436090e+00, -3.95488722e-01,  7.29323308e-01,\n",
       "       -3.23157895e+00, -1.93082707e+00, -6.91729323e-02, -4.88721805e-01,\n",
       "        2.71278195e+00,  7.03909774e+00,  4.39548872e+00, -4.90225564e+00,\n",
       "        7.94736842e+00,  1.65563910e+00,  4.18646617e+00,  5.46616541e+00,\n",
       "       -1.17142857e+00, -2.19398496e+00,  1.51428571e+00, -4.63308271e+00,\n",
       "       -6.48571429e+00,  2.21503759e+00,  1.13669173e+01,  1.16842105e+00,\n",
       "       -1.20451128e+00,  1.18947368e+01, -2.13383459e+00,  1.53684211e+00,\n",
       "       -5.18345865e+00,  7.05112782e+00,  7.34285714e+00, -5.09473684e+00,\n",
       "        5.61654135e+00, -4.74736842e+00,  7.38496241e+00,  3.63458647e+00,\n",
       "        5.52030075e+00,  3.87969925e+00, -1.40601504e+00,  5.37593985e+00,\n",
       "        3.95338346e+00,  2.38496241e+00, -5.82105263e+00,  3.12330827e+00,\n",
       "        4.88721805e+00, -3.47368421e+00,  4.26766917e+00,  2.72781955e+00,\n",
       "        9.50075188e+00,  4.43609023e-01,  5.63909774e-01,  9.33383459e+00,\n",
       "       -2.59248120e+00, -3.06015038e+00,  3.61804511e+00,  1.38345865e+00,\n",
       "        9.89473684e-01, -5.06766917e-01, -4.41954887e+00, -1.53684211e+00,\n",
       "       -1.27894737e+01,  1.01503759e+01,  3.02406015e+00, -6.13834586e+00,\n",
       "        5.60300752e+00,  3.49774436e+00,  5.62706767e+00, -2.74736842e+00,\n",
       "        5.86165414e+00, -4.53684211e+00,  1.72932331e-01,  5.70977444e+00,\n",
       "       -1.58661654e+01,  4.44962406e+00, -3.74436090e-01, -7.08421053e+00,\n",
       "        4.39548872e+00,  3.06466165e+00, -1.23308271e-01, -3.55939850e+00,\n",
       "        8.99248120e-01,  4.09924812e+00, -6.56691729e+00, -7.47067669e+00,\n",
       "        1.68872180e+00, -9.50375940e-01,  8.46616541e-01, -4.27067669e-01,\n",
       "       -2.15338346e+00, -1.38466165e+01,  5.29924812e+00,  6.54586466e+00,\n",
       "        1.52481203e+00,  1.73383459e+00, -3.13834586e+00,  6.03759398e+00,\n",
       "        1.24812030e-01,  5.91278195e+00,  1.19338346e+01,  1.25112782e+00,\n",
       "        5.66466165e+00,  4.46466165e+00, -5.54135338e+00,  1.15669173e+01,\n",
       "        2.24210526e+00,  2.20902256e+00, -1.60601504e+00, -4.56691729e+00,\n",
       "        9.26315789e-01, -1.36616541e+01,  4.61804511e+00, -1.12330827e+00,\n",
       "        4.46165414e+00,  9.26315789e-01,  4.05864662e+00,  1.24887218e+01,\n",
       "       -5.86466165e-02,  6.50676692e+00,  2.34436090e+00, -5.43609023e+00,\n",
       "        2.17894737e+00,  6.42406015e+00,  5.47368421e+00, -5.69323308e+00,\n",
       "        1.18045113e+00,  3.11127820e+00,  1.05789474e+01,  1.47954887e+01,\n",
       "        7.24812030e-01, -6.95488722e+00,  9.51578947e+00, -8.27067669e-02,\n",
       "       -9.48872180e-01,  5.95789474e+00,  6.60150376e+00, -3.83909774e+00,\n",
       "       -2.15789474e+00, -9.55187970e+00, -2.49172932e+00, -1.77293233e+00,\n",
       "       -2.91278195e+00, -2.37593985e+00, -1.00300752e+00,  1.32180451e+00,\n",
       "        8.11578947e+00,  2.14135338e+00,  3.60902256e-02, -6.04511278e+00,\n",
       "        4.04360902e+00,  4.68270677e+00,  1.89924812e+00,  3.46917293e+00,\n",
       "       -1.06601504e+01, -3.34887218e+00, -2.64360902e+00,  3.87067669e+00,\n",
       "        3.43759398e+00,  1.31383459e+01,  6.85864662e+00, -6.43609023e+00,\n",
       "        5.71428571e-01,  2.41654135e+00, -2.87518797e+00, -3.13082707e+00,\n",
       "       -5.96992481e-01, -3.80150376e+00, -8.42105263e-02,  3.44812030e+00,\n",
       "       -1.34586466e+00,  5.46015038e+00,  9.09624060e+00,  9.81954887e-01,\n",
       "        4.70526316e+00, -5.31879699e+00,  1.11428571e+00, -1.31278195e+00,\n",
       "        3.44360902e-01, -3.20300752e-01,  1.90225564e+00,  1.21879699e+01,\n",
       "       -2.69924812e+00, -7.54887218e-01,  4.20751880e+00,  1.21503759e+00,\n",
       "        3.27819549e-01,  3.64060150e+00, -5.69924812e-01, -3.31729323e+00,\n",
       "        7.75939850e+00, -1.76691729e+00,  6.75939850e+00,  7.60601504e+00,\n",
       "       -2.64210526e+00,  1.04360902e+00, -5.68120301e+00, -1.88421053e+00,\n",
       "       -7.36541353e+00, -1.15789474e+00, -3.80451128e-01, -1.04902256e+01,\n",
       "        2.34135338e+00,  1.48872180e+00,  2.73082707e+00,  5.04360902e+00,\n",
       "        1.44360902e+00, -2.20300752e+00,  1.43157895e+00,  6.63458647e+00,\n",
       "        7.81954887e-01, -7.29323308e-01,  7.26315789e-01, -2.39699248e+00,\n",
       "       -8.05413534e+00,  7.42255639e+00, -2.92330827e+00, -2.32481203e+00,\n",
       "       -9.22105263e+00, -4.62255639e+00,  7.13082707e+00,  4.63458647e+00,\n",
       "       -1.88421053e+00, -1.32330827e+00, -2.60902256e+00,  4.19548872e-01,\n",
       "       -4.96240602e-02, -3.41954887e+00, -7.06466165e+00,  1.72330827e+00,\n",
       "        7.18496241e+00,  5.82556391e+00, -5.22706767e+00,  2.16691729e+00,\n",
       "       -6.51879699e+00, -8.28571429e-01, -8.59548872e+00,  5.27969925e+00,\n",
       "       -1.13383459e+00,  6.50225564e+00, -3.77443609e+00,  1.19097744e+00,\n",
       "        1.99398496e+00,  2.30676692e+00, -9.23308271e+00, -2.84661654e+00,\n",
       "        4.96240602e-01,  3.63458647e+00, -1.20255639e+01, -3.15789474e-01,\n",
       "       -1.09473684e+00, -1.29774436e+00, -9.62406015e-02,  5.11278195e-01,\n",
       "       -6.28721805e+00, -4.18045113e-01, -7.71729323e+00,  3.16691729e+00,\n",
       "       -6.54887218e+00,  1.29924812e+00, -6.30075188e-01, -9.23308271e-01,\n",
       "       -6.55639098e-01,  5.63007519e+00, -6.27669173e+00, -1.56090226e+00,\n",
       "       -1.16962406e+01,  6.75488722e+00,  3.67969925e+00, -4.44210526e+00,\n",
       "       -2.21052632e+00, -1.69473684e+00, -7.71278195e+00,  2.58045113e+00,\n",
       "        7.74135338e+00,  9.32330827e-01,  6.85413534e+00, -4.95939850e+00,\n",
       "       -6.83759398e+00, -6.92631579e+00,  3.46015038e+00,  3.16842105e+00,\n",
       "        3.92481203e-01,  6.85413534e+00, -1.49624060e+00,  6.54135338e-01,\n",
       "        2.47669173e+00,  2.04511278e+00, -3.24812030e-01, -3.60451128e+00,\n",
       "       -6.86165414e+00,  5.42857143e+00, -1.46616541e+00,  2.57744361e+00,\n",
       "        1.16390977e+00,  1.55037594e+00,  1.18526316e+01,  1.60902256e-01,\n",
       "       -3.03007519e+00, -9.52631579e+00,  7.80451128e+00,  4.06466165e+00,\n",
       "        5.59398496e-01, -1.12045113e+01, -1.71578947e+00,  2.76541353e+00,\n",
       "        6.04661654e+00, -3.89774436e+00,  3.17443609e+00, -1.90977444e+00,\n",
       "        3.41203008e+00, -1.12932331e+00,  4.22406015e+00,  3.06466165e+00,\n",
       "       -2.57744361e+00, -9.73383459e+00,  1.86015038e+00,  7.54887218e-01,\n",
       "        1.64360902e+00,  1.72180451e+00,  3.64511278e+00, -3.57744361e+00,\n",
       "       -3.33834586e-01, -1.30676692e+00,  2.03909774e+00, -9.15789474e-01,\n",
       "       -4.26315789e+00,  4.18045113e-01,  2.04210526e+00,  8.58195489e+00,\n",
       "       -3.22105263e+00,  1.63909774e-01, -1.97894737e+00, -2.43909774e+00,\n",
       "       -3.43308271e+00,  7.47969925e+00, -3.47368421e+00,  7.23308271e-01,\n",
       "       -7.67969925e+00,  1.47368421e+00,  6.65413534e+00,  2.06015038e+00,\n",
       "        1.99699248e+00,  1.88872180e+00, -4.59548872e+00,  5.67969925e+00,\n",
       "       -2.57142857e+00,  1.83308271e+00, -2.10075188e+00,  2.35037594e+00,\n",
       "       -1.20751880e+00,  2.08270677e+00,  3.95639098e+00,  2.11428571e+00,\n",
       "       -1.95789474e+00, -3.97443609e+00,  9.58796992e+00, -4.52030075e+00,\n",
       "        3.41052632e+00, -1.18345865e+00, -7.35488722e+00,  3.94586466e+00,\n",
       "       -6.16240602e+00, -9.36992481e+00,  1.06796992e+01, -6.12180451e+00,\n",
       "       -4.50827068e+00,  2.33082707e-01, -2.28270677e+00, -1.84210526e+00,\n",
       "       -2.25413534e+00,  7.76240602e+00, -2.11578947e+00,  4.08270677e+00,\n",
       "        3.65714286e+00, -1.12556391e+01,  4.87218045e-01, -1.12586466e+01,\n",
       "        7.66917293e-02,  3.69924812e+00, -1.30676692e+00, -6.37443609e+00,\n",
       "        5.54586466e+00, -3.25263158e+00,  4.18947368e+00, -6.69172932e-01,\n",
       "        1.41654135e+00, -7.44511278e+00,  3.90075188e+00, -4.99248120e-01,\n",
       "        2.34586466e+00,  2.78646617e+00,  1.42857143e-01, -2.15037594e-01,\n",
       "       -2.71729323e+00, -3.84962406e-01,  5.06466165e+00, -8.69172932e-01,\n",
       "       -7.00902256e+00,  3.83157895e+00,  3.02556391e+00,  1.55639098e+00,\n",
       "       -3.16992481e+00,  2.52631579e-01,  4.14586466e+00, -3.72631579e+00,\n",
       "       -5.55789474e+00,  7.76842105e+00,  7.64661654e+00, -4.19548872e-01,\n",
       "        1.50225564e+01, -1.56390977e-01, -1.81954887e-01,  1.26315789e+00,\n",
       "        3.08270677e+00,  6.44360902e+00,  7.09774436e-01, -4.35488722e+00,\n",
       "       -2.87819549e+00, -1.86466165e-01,  4.52781955e+00, -1.30827068e+00,\n",
       "        6.61654135e-02,  3.33684211e+00,  5.41353383e+00, -2.59248120e+00,\n",
       "        4.09624060e+00, -8.46015038e+00,  9.15187970e+00, -5.58796992e+00,\n",
       "        5.61503759e+00,  1.14586466e+00, -8.82406015e+00, -3.08872180e+00,\n",
       "       -8.39548872e+00,  8.86315789e+00, -7.61654135e+00,  2.93233083e-01,\n",
       "       -6.43609023e-01,  6.46766917e+00, -9.48872180e-01,  4.86165414e+00,\n",
       "       -3.49473684e+00,  2.96691729e+00,  7.57443609e+00, -9.17293233e-02,\n",
       "        2.10526316e-01, -5.63759398e+00,  1.67368421e+00,  6.50375940e+00,\n",
       "        9.06766917e-01,  8.30075188e-01, -2.53533835e+00, -3.60902256e-02,\n",
       "       -1.13368421e+01,  1.09398496e+01,  2.29323308e+00,  2.66165414e+00,\n",
       "        2.97744361e+00, -9.66917293e+00,  1.27669173e+00, -1.03609023e+00,\n",
       "        1.56541353e+00, -3.91127820e+00,  1.61203008e+00,  4.87819549e+00,\n",
       "        1.07067669e+00,  2.90225564e-01,  7.18947368e+00, -6.84962406e+00,\n",
       "        8.57744361e+00, -3.38345865e+00, -5.62406015e+00, -2.26165414e+00,\n",
       "       -1.83458647e-01, -6.40601504e-01, -2.01804511e+00, -8.88120301e+00,\n",
       "       -7.53834586e+00,  3.38345865e-01, -3.00300752e+00,  2.75187970e-01,\n",
       "        6.50225564e+00,  9.79699248e+00, -1.08330827e+01,  9.60902256e-01,\n",
       "       -4.12631579e+00,  7.66616541e+00,  3.53984962e+00,  4.19248120e+00,\n",
       "       -6.37894737e+00, -3.05112782e+00, -8.33984962e+00,  1.18661654e+01,\n",
       "       -1.00436090e+01, -3.81052632e+00, -2.53533835e+00, -5.17142857e+00,\n",
       "       -4.58045113e+00, -5.39849624e-01,  4.47969925e+00,  1.89473684e+00,\n",
       "        1.84661654e+00,  5.36541353e+00, -1.00812030e+01,  5.95338346e+00,\n",
       "       -3.98796992e+00, -2.39548872e+00,  6.13684211e+00, -3.70375940e+00,\n",
       "        1.04827068e+01,  2.95037594e+00,  3.44511278e+00,  5.50526316e+00,\n",
       "        6.25263158e+00,  5.22105263e+00,  3.67969925e+00,  4.94736842e-01,\n",
       "        7.35639098e+00, -1.64105263e+01, -6.59699248e+00, -1.52481203e+00,\n",
       "       -2.98345865e+00,  3.32330827e+00,  8.19398496e+00,  3.09172932e+00,\n",
       "       -6.86616541e+00, -5.62406015e+00, -1.82857143e+00, -1.00225564e+01,\n",
       "        6.44060150e+00,  4.35338346e+00,  1.01804511e+00, -2.46165414e+00,\n",
       "        1.38345865e+00, -2.19097744e+00,  2.08872180e+00, -6.82857143e+00,\n",
       "        8.48120301e+00,  1.01203008e+00,  3.75187970e+00,  1.03563910e+01,\n",
       "        4.22406015e+00, -7.39699248e+00, -3.42406015e+00,  3.48421053e+00,\n",
       "        3.78947368e-01,  1.47669173e+00, -2.05413534e+00,  1.49022556e+00,\n",
       "       -4.20902256e+00,  3.50375940e-01,  1.98646617e+00, -5.92481203e+00,\n",
       "       -1.53984962e+00, -2.91729323e-01, -2.58045113e+00,  1.35939850e+00,\n",
       "       -2.40601504e-02,  5.24360902e+00,  1.15037594e+00,  8.69323308e+00,\n",
       "        4.64360902e+00, -2.07518797e+00, -3.64060150e+00, -1.51879699e-01,\n",
       "        3.15037594e+00, -2.53082707e+00, -3.85563910e+00,  6.20150376e+00,\n",
       "       -4.13383459e+00, -9.47368421e-01, -1.74285714e+00,  3.80601504e+00,\n",
       "        4.36240602e+00,  2.00601504e+00,  3.59398496e+00, -1.65293233e+01,\n",
       "       -4.94887218e+00, -4.84060150e+00, -6.29022556e+00, -7.21353383e+00,\n",
       "        4.89624060e+00,  6.49624060e-01, -2.77894737e+00, -4.99248120e-01,\n",
       "       -5.23609023e+00, -2.29774436e+00,  2.00300752e+00, -2.87518797e+00,\n",
       "       -3.26315789e-01,  8.29924812e+00,  3.11278195e-01,  3.74135338e+00])"
      ]
     },
     "execution_count": 31,
     "metadata": {},
     "output_type": "execute_result"
    }
   ],
   "source": [
    "def mean_diff(data1,data2):\n",
    "    return np.mean(data1) - np.mean(data2)\n",
    "\n",
    "draw_perm_reps(rain_june, rain_november, mean_diff, 1000)"
   ]
  },
  {
   "cell_type": "code",
   "execution_count": 85,
   "metadata": {},
   "outputs": [
    {
     "name": "stdout",
     "output_type": "stream",
     "text": [
      "<class 'pandas.core.frame.DataFrame'>\n",
      "Int64Index: 40 entries, 20 to 79\n",
      "Data columns (total 2 columns):\n",
      "ID              40 non-null object\n",
      "impact_force    40 non-null float64\n",
      "dtypes: float64(1), object(1)\n",
      "memory usage: 960.0+ bytes\n"
     ]
    }
   ],
   "source": [
    "# data prep\n",
    "from io import StringIO\n",
    "df_str = ',ID,impact_force\\n20,A,1.612\\n21,A,0.605\\n22,A,0.327\\n23,A,0.946\\n24,A,0.541\\n25,A,1.539\\n26,A,0.529\\n27,A,0.628\\n28,A,1.453\\n29,A,0.297\\n30,A,0.703\\n31,A,0.269\\n32,A,0.751\\n33,A,0.245\\n34,A,1.182\\n35,A,0.515\\n36,A,0.435\\n37,A,0.383\\n38,A,0.457\\n39,A,0.73\\n60,B,0.172\\n61,B,0.142\\n62,B,0.037\\n63,B,0.453\\n64,B,0.355\\n65,B,0.022\\n66,B,0.502\\n67,B,0.273\\n68,B,0.72\\n69,B,0.582\\n70,B,0.198\\n71,B,0.198\\n72,B,0.597\\n73,B,0.516\\n74,B,0.815\\n75,B,0.402\\n76,B,0.605\\n77,B,0.711\\n78,B,0.614\\n79,B,0.468\\n'\n",
    "str_io = StringIO(df_str)\n",
    "df = pd.read_csv(str_io, index_col=0)\n",
    "df.info()\n",
    "\n",
    "force_a = df.loc[df['ID']=='A', 'impact_force'].values\n",
    "force_b = df.loc[df['ID']=='B', 'impact_force'].values"
   ]
  },
  {
   "cell_type": "code",
   "execution_count": 86,
   "metadata": {},
   "outputs": [
    {
     "data": {
      "image/png": "[encoded data removed]",
      "text/plain": [
       "<Figure size 432x288 with 1 Axes>"
      ]
     },
     "metadata": {
      "needs_background": "light"
     },
     "output_type": "display_data"
    }
   ],
   "source": [
    "# Make bee swarm plot\n",
    "_ = sns.swarmplot('ID', 'impact_force', data=df)\n",
    "\n",
    "# Label axes\n",
    "_ = plt.xlabel('frog')\n",
    "_ = plt.ylabel('impact force (N)')\n",
    "\n",
    "# Show the plot\n",
    "plt.show()\n"
   ]
  },
  {
   "cell_type": "code",
   "execution_count": 87,
   "metadata": {},
   "outputs": [
    {
     "name": "stdout",
     "output_type": "stream",
     "text": [
      "p-value = 0.0054\n"
     ]
    }
   ],
   "source": [
    "def diff_of_means(data_1, data_2):\n",
    "    \"\"\"Difference in means of two arrays.\"\"\"\n",
    "\n",
    "    # The difference of means of data_1, data_2: diff\n",
    "    diff = np.mean(data_1) - np.mean(data_2)\n",
    "\n",
    "    return diff\n",
    "\n",
    "# Compute difference of mean impact force from experiment: empirical_diff_means\n",
    "empirical_diff_means = diff_of_means(force_a, force_b)\n",
    "\n",
    "# Draw 10,000 permutation replicates: perm_replicates\n",
    "perm_replicates = draw_perm_reps(force_a, force_b,\n",
    "                                 diff_of_means, size=10000)\n",
    "\n",
    "# Compute p-value: p\n",
    "p = np.sum(perm_replicates >= empirical_diff_means) / len(perm_replicates)\n",
    "\n",
    "# Print the result\n",
    "print('p-value =', p)"
   ]
  },
  {
   "cell_type": "code",
   "execution_count": 88,
   "metadata": {},
   "outputs": [],
   "source": [
    "def bootstrap_replicate_1d(data, func):\n",
    "    return func(np.random.choice(data, size=len(data)))\n",
    "\n",
    "def draw_bs_reps(data, func, size=1):\n",
    "    \"\"\"Draw bootstrap replicates.\"\"\"\n",
    "\n",
    "    # Initialize array of replicates: bs_replicates\n",
    "    bs_replicates = np.empty(size)\n",
    "\n",
    "    # Generate replicates\n",
    "    for i in range(size):\n",
    "        bs_replicates[i] = bootstrap_replicate_1d(data, func)\n",
    "\n",
    "    return bs_replicates"
   ]
  },
  {
   "cell_type": "code",
   "execution_count": 89,
   "metadata": {},
   "outputs": [
    {
     "name": "stdout",
     "output_type": "stream",
     "text": [
      "p =  0.0054\n"
     ]
    }
   ],
   "source": [
    "# Make an array of translated impact forces: translated_force_b\n",
    "translated_force_b = force_b + 0.55 - np.mean(force_b)\n",
    "\n",
    "# Take bootstrap replicates of Frog B's translated impact forces: bs_replicates\n",
    "bs_replicates = draw_bs_reps(translated_force_b, np.mean, 10000)\n",
    "\n",
    "# Compute fraction of replicates that are less than the observed Frog B force: p\n",
    "p = np.sum(bs_replicates <= np.mean(force_b)) / 10000\n",
    "\n",
    "# Print the p-value\n",
    "print('p = ', p)\n"
   ]
  },
  {
   "cell_type": "code",
   "execution_count": 135,
   "metadata": {},
   "outputs": [
    {
     "name": "stdout",
     "output_type": "stream",
     "text": [
      "p-value = 0.0052\n"
     ]
    }
   ],
   "source": [
    "# data prep\n",
    "forces_concat = np.concatenate((force_a, force_b))\n",
    "empirical_diff_means = np.mean(force_a) - np.mean(force_b)\n",
    "\n",
    "# Compute mean of all forces: mean_force\n",
    "mean_force = np.mean(forces_concat)\n",
    "\n",
    "# Generate shifted arrays\n",
    "force_a_shifted = force_a - np.mean(force_a) + mean_force\n",
    "force_b_shifted = force_b - np.mean(force_b) + mean_force \n",
    "\n",
    "# Compute 10,000 bootstrap replicates from shifted arrays\n",
    "bs_replicates_a = draw_bs_reps(force_a_shifted, np.mean, 10000)\n",
    "bs_replicates_b = draw_bs_reps(force_b_shifted, np.mean, 10000)\n",
    "\n",
    "# Get replicates of difference of means: bs_replicates\n",
    "bs_replicates = bs_replicates_a - bs_replicates_b\n",
    "\n",
    "# Compute and print p-value: p\n",
    "p = np.sum(bs_replicates > empirical_diff_means) / 10000\n",
    "print('p-value =', p)"
   ]
  },
  {
   "cell_type": "code",
   "execution_count": 137,
   "metadata": {},
   "outputs": [
    {
     "data": {
      "image/png": "[encoded data removed]",
      "text/plain": [
       "<Figure size 432x288 with 1 Axes>"
      ]
     },
     "metadata": {
      "needs_background": "light"
     },
     "output_type": "display_data"
    }
   ],
   "source": [
    "plt.hist(bs_replicates_a, histtype='step')\n",
    "plt.hist(bs_replicates_b, histtype='step')\n",
    "plt.hist(bs_replicates, histtype='step')\n",
    "plt.axvline(empirical_diff_means)\n",
    "plt.show()"
   ]
  },
  {
   "cell_type": "code",
   "execution_count": null,
   "metadata": {},
   "outputs": [],
   "source": []
  }
 ],
 "metadata": {
  "kernelspec": {
   "display_name": "Python 3",
   "language": "python",
   "name": "python3"
  },
  "language_info": {
   "codemirror_mode": {
    "name": "ipython",
    "version": 3
   },
   "file_extension": ".py",
   "mimetype": "text/x-python",
   "name": "python",
   "nbconvert_exporter": "python",
   "pygments_lexer": "ipython3",
   "version": "3.6.6"
  },
  "toc": {
   "base_numbering": 1,
   "nav_menu": {},
   "number_sections": true,
   "sideBar": true,
   "skip_h1_title": true,
   "title_cell": "Table of Contents",
   "title_sidebar": "Contents",
   "toc_cell": true,
   "toc_position": {},
   "toc_section_display": true,
   "toc_window_display": false
  },
  "varInspector": {
   "cols": {
    "lenName": 16,
    "lenType": 16,
    "lenVar": 40
   },
   "kernels_config": {
    "python": {
     "delete_cmd_postfix": "",
     "delete_cmd_prefix": "del ",
     "library": "var_list.py",
     "varRefreshCmd": "print(var_dic_list())"
    },
    "r": {
     "delete_cmd_postfix": ") ",
     "delete_cmd_prefix": "rm(",
     "library": "var_list.r",
     "varRefreshCmd": "cat(var_dic_list()) "
    }
   },
   "types_to_exclude": [
    "module",
    "function",
    "builtin_function_or_method",
    "instance",
    "_Feature"
   ],
   "window_display": false
  }
 },
 "nbformat": 4,
 "nbformat_minor": 2
}
