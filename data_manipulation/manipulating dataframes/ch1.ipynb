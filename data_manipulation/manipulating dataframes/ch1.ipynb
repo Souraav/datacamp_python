{
 "cells": [
  {
   "cell_type": "markdown",
   "metadata": {},
   "source": [
    "# Chapter 1"
   ]
  },
  {
   "cell_type": "code",
   "execution_count": 1,
   "metadata": {},
   "outputs": [
    {
     "name": "stdout",
     "output_type": "stream",
     "text": [
      "               state   total      Obama     Romney  winner   voters  \\\n",
      "county                                                                \n",
      "Adams             PA   41973  35.482334  63.112001  Romney    61156   \n",
      "Allegheny         PA  614671  56.640219  42.185820   Obama   924351   \n",
      "Armstrong         PA   28322  30.696985  67.901278  Romney    42147   \n",
      "Beaver            PA   80015  46.032619  52.637630  Romney   115157   \n",
      "Bedford           PA   21444  22.057452  76.986570  Romney    32189   \n",
      "Berks             PA  163253  48.939376  49.528646  Romney   250356   \n",
      "Blair             PA   47631  32.575424  66.133401  Romney    85328   \n",
      "Bradford          PA   22501  36.847251  61.450602  Romney    40490   \n",
      "Bucks             PA  319407  49.966970  48.801686   Obama   435606   \n",
      "Butler            PA   88924  31.920516  66.816607  Romney   122762   \n",
      "Cambria           PA   57718  40.162514  57.978447  Romney    86988   \n",
      "Cameron           PA    1967  34.417895  64.260295  Romney     3651   \n",
      "Carbon            PA   24232  45.559591  52.451304  Romney    39017   \n",
      "Centre            PA   68801  48.948416  48.977486  Romney   112949   \n",
      "Chester           PA  248295  49.228539  49.650617  Romney   337822   \n",
      "Clarion           PA   15227  31.069810  67.170158  Romney    24120   \n",
      "Clearfield        PA   31894  34.780837  63.657741  Romney    51174   \n",
      "Clinton           PA   12663  43.457317  54.813235  Romney    22969   \n",
      "Columbia          PA   24305  42.888295  55.317836  Romney    39888   \n",
      "Crawford          PA   33089  39.360513  58.922905  Romney    54711   \n",
      "Cumberland        PA  109964  39.997636  58.532793  Romney   158194   \n",
      "Dauphin           PA  122625  52.362080  46.351070   Obama   178924   \n",
      "Delaware          PA  272853  60.400655  38.581214   Obama   397338   \n",
      "Elk               PA   12425  41.400402  57.134809  Romney    20302   \n",
      "Erie              PA  112732  57.779512  40.895221   Obama   176851   \n",
      "Fayette           PA   48196  45.317039  53.624782  Romney    91681   \n",
      "Forest            PA    2308  38.734835  59.835355  Romney     3232   \n",
      "Franklin          PA   62802  30.110506  68.583803  Romney    87406   \n",
      "Fulton            PA    6148  21.096291  77.748861  Romney     9344   \n",
      "Greene            PA   13726  40.536209  58.174268  Romney    22663   \n",
      "...              ...     ...        ...        ...     ...      ...   \n",
      "Lebanon           PA   53771  35.288538  63.249707  Romney    81476   \n",
      "Lehigh            PA  144922  53.152040  45.604532   Obama   226453   \n",
      "Luzerne           PA  123741  51.699922  46.847043   Obama   194137   \n",
      "Lycoming          PA   46214  32.682737  65.975678  Romney    68064   \n",
      "McKean            PA   15014  35.033968  63.234315  Romney    25861   \n",
      "Mercer            PA   48065  48.022470  50.564860  Romney    75238   \n",
      "Mifflin           PA   16311  26.111213  72.913984  Romney    24445   \n",
      "Monroe            PA   59312  56.364648  42.318586   Obama   108879   \n",
      "Montgomery        PA  401787  56.637223  42.286834   Obama   551105   \n",
      "Montour           PA    7787  38.859638  59.535123  Romney    13518   \n",
      "Northampton       PA  125883  51.646370  47.061160   Obama   209414   \n",
      "Northumberland    PA   31512  39.324702  58.758568  Romney    54978   \n",
      "Perry             PA   18240  29.769737  68.591009  Romney    27245   \n",
      "Philadelphia      PA  653598  85.224251  14.051451   Obama  1099197   \n",
      "Pike              PA   23164  43.904334  54.882576  Romney    41840   \n",
      "Potter            PA    7205  26.259542  72.158223  Romney    10913   \n",
      "Schuylkill        PA   57505  42.523259  55.918616  Romney    86316   \n",
      "Snyder            PA   14962  31.225772  67.170164  Romney    21573   \n",
      "Somerset          PA   33875  27.808118  70.656827  Romney    51860   \n",
      "Sullivan          PA    2934  35.037491  63.360600  Romney     4242   \n",
      "Susquehanna       PA   17930  38.432794  59.871723  Romney    26163   \n",
      "Tioga             PA   15943  31.694160  66.480587  Romney    26001   \n",
      "Union             PA   16187  37.455983  60.931612  Romney    23950   \n",
      "Venango           PA   20775  35.951865  62.228640  Romney    32773   \n",
      "Warren            PA   16462  41.112866  57.192322  Romney    29111   \n",
      "Washington        PA   90078  42.744066  56.012567  Romney   142331   \n",
      "Wayne             PA   20966  38.815225  59.768196  Romney    32577   \n",
      "Westmoreland      PA  168709  37.567646  61.306154  Romney   238006   \n",
      "Wyoming           PA   11214  42.910647  55.189941  Romney    17255   \n",
      "York              PA  186394  38.695452  59.860296  Romney   280280   \n",
      "\n",
      "                  turnout     margin  \n",
      "county                                \n",
      "Adams           68.632677  27.629667  \n",
      "Allegheny       66.497575  14.454399  \n",
      "Armstrong       67.198140  37.204293  \n",
      "Beaver          69.483401   6.605012  \n",
      "Bedford         66.619031  54.929118  \n",
      "Berks           65.208343   0.589269  \n",
      "Blair           55.821067  33.557977  \n",
      "Bradford        55.571746  24.603351  \n",
      "Bucks           73.324748   1.165284  \n",
      "Butler          72.436096  34.896091  \n",
      "Cambria         66.351681  17.815933  \n",
      "Cameron         53.875651  29.842400  \n",
      "Carbon          62.106261   6.891713  \n",
      "Centre          60.913333   0.029069  \n",
      "Chester         73.498766   0.422079  \n",
      "Clarion         63.130182  36.100348  \n",
      "Clearfield      62.324618  28.876905  \n",
      "Clinton         55.130829  11.355919  \n",
      "Columbia        60.933113  12.429541  \n",
      "Crawford        60.479611  19.562392  \n",
      "Cumberland      69.512118  18.535157  \n",
      "Dauphin         68.534685   6.011009  \n",
      "Delaware        68.670251  21.819441  \n",
      "Elk             61.200867  15.734406  \n",
      "Erie            63.744056  16.884292  \n",
      "Fayette         52.569235   8.307743  \n",
      "Forest          71.410891  21.100520  \n",
      "Franklin        71.850903  38.473297  \n",
      "Fulton          65.796233  56.652570  \n",
      "Greene          60.565680  17.638059  \n",
      "...                   ...        ...  \n",
      "Lebanon         65.996122  27.961169  \n",
      "Lehigh          63.996503   7.547508  \n",
      "Luzerne         63.739009   4.852878  \n",
      "Lycoming        67.897861  33.292942  \n",
      "McKean          58.056533  28.200346  \n",
      "Mercer          63.883942   2.542391  \n",
      "Mifflin         66.725302  46.802771  \n",
      "Monroe          54.475151  14.046062  \n",
      "Montgomery      72.905708  14.350390  \n",
      "Montour         57.604675  20.675485  \n",
      "Northampton     60.112027   4.585210  \n",
      "Northumberland  57.317472  19.433866  \n",
      "Perry           66.948064  38.821272  \n",
      "Philadelphia    59.461407  71.172800  \n",
      "Pike            55.363289  10.978242  \n",
      "Potter          66.022175  45.898681  \n",
      "Schuylkill      66.621484  13.395357  \n",
      "Snyder          69.355213  35.944392  \n",
      "Somerset        65.320093  42.848708  \n",
      "Sullivan        69.165488  28.323108  \n",
      "Susquehanna     68.531896  21.438929  \n",
      "Tioga           61.316872  34.786427  \n",
      "Union           67.586639  23.475629  \n",
      "Venango         63.390596  26.276775  \n",
      "Warren          56.549071  16.079456  \n",
      "Washington      63.287689  13.268501  \n",
      "Wayne           64.358290  20.952971  \n",
      "Westmoreland    70.884347  23.738508  \n",
      "Wyoming         64.989858  12.279294  \n",
      "York            66.502783  21.164844  \n",
      "\n",
      "[67 rows x 8 columns]\n"
     ]
    }
   ],
   "source": [
    "# data prep\n",
    "import pandas as pd\n",
    "import matplotlib.pyplot as plt\n",
    "import numpy as np\n",
    "\n",
    "# download and load data frame\n",
    "from urllib.request import urlretrieve\n",
    "file = 'pennsylvania2012_turnout.csv'\n",
    "url = 'https://assets.datacamp.com/production/course_1650/datasets/' + file\n",
    "urlretrieve(url, file)\n",
    "\n",
    "election = pd.read_csv(file, index_col='county')\n",
    "print(election)"
   ]
  },
  {
   "cell_type": "code",
   "execution_count": 2,
   "metadata": {},
   "outputs": [
    {
     "name": "stdout",
     "output_type": "stream",
     "text": [
      "True\n"
     ]
    }
   ],
   "source": [
    "# Assign the row position of election.loc['Bedford']: x\n",
    "x = 4\n",
    "\n",
    "# Assign the column position of election['winner']: y\n",
    "y = 4\n",
    "\n",
    "# Print the boolean equivalence\n",
    "print(election.iloc[x, y] == election.loc['Bedford', 'winner'])\n"
   ]
  },
  {
   "cell_type": "code",
   "execution_count": 3,
   "metadata": {},
   "outputs": [
    {
     "name": "stdout",
     "output_type": "stream",
     "text": [
      "           winner   total  voters\n",
      "county                           \n",
      "Adams      Romney   41973   61156\n",
      "Allegheny   Obama  614671  924351\n",
      "Armstrong  Romney   28322   42147\n",
      "Beaver     Romney   80015  115157\n",
      "Bedford    Romney   21444   32189\n"
     ]
    }
   ],
   "source": [
    "# Import pandas\n",
    "import pandas as pd\n",
    "\n",
    "# Read in filename and set the index: election\n",
    "election = pd.read_csv(file, index_col='county')\n",
    "\n",
    "# Create a separate dataframe with the columns ['winner', 'total', 'voters']: results\n",
    "results = election[['winner', 'total', 'voters']]\n",
    "\n",
    "# Print the output of results.head()\n",
    "print(results.head())"
   ]
  },
  {
   "cell_type": "code",
   "execution_count": 4,
   "metadata": {},
   "outputs": [
    {
     "name": "stdout",
     "output_type": "stream",
     "text": [
      "             state   total      Obama     Romney  winner   voters    turnout  \\\n",
      "county                                                                         \n",
      "Perry           PA   18240  29.769737  68.591009  Romney    27245  66.948064   \n",
      "Philadelphia    PA  653598  85.224251  14.051451   Obama  1099197  59.461407   \n",
      "Pike            PA   23164  43.904334  54.882576  Romney    41840  55.363289   \n",
      "Potter          PA    7205  26.259542  72.158223  Romney    10913  66.022175   \n",
      "\n",
      "                 margin  \n",
      "county                   \n",
      "Perry         38.821272  \n",
      "Philadelphia  71.172800  \n",
      "Pike          10.978242  \n",
      "Potter        45.898681  \n",
      "             state   total      Obama     Romney  winner   voters    turnout  \\\n",
      "county                                                                         \n",
      "Potter          PA    7205  26.259542  72.158223  Romney    10913  66.022175   \n",
      "Pike            PA   23164  43.904334  54.882576  Romney    41840  55.363289   \n",
      "Philadelphia    PA  653598  85.224251  14.051451   Obama  1099197  59.461407   \n",
      "Perry           PA   18240  29.769737  68.591009  Romney    27245  66.948064   \n",
      "\n",
      "                 margin  \n",
      "county                   \n",
      "Potter        45.898681  \n",
      "Pike          10.978242  \n",
      "Philadelphia  71.172800  \n",
      "Perry         38.821272  \n"
     ]
    }
   ],
   "source": [
    "# Slice the row labels 'Perry' to 'Potter': p_counties\n",
    "p_counties = election.loc['Perry':'Potter',:]\n",
    "\n",
    "# Print the p_counties DataFrame\n",
    "print(p_counties)\n",
    "\n",
    "# Slice the row labels 'Potter' to 'Perry' in reverse order: p_counties_rev\n",
    "p_counties_rev = election.loc['Potter':'Perry':-1,:]\n",
    "\n",
    "# Print the p_counties_rev DataFrame\n",
    "print(p_counties_rev)"
   ]
  },
  {
   "cell_type": "code",
   "execution_count": 5,
   "metadata": {},
   "outputs": [
    {
     "name": "stdout",
     "output_type": "stream",
     "text": [
      "          state   total      Obama\n",
      "county                            \n",
      "Adams        PA   41973  35.482334\n",
      "Allegheny    PA  614671  56.640219\n",
      "Armstrong    PA   28322  30.696985\n",
      "Beaver       PA   80015  46.032619\n",
      "Bedford      PA   21444  22.057452\n",
      "               Obama     Romney  winner\n",
      "county                                 \n",
      "Adams      35.482334  63.112001  Romney\n",
      "Allegheny  56.640219  42.185820   Obama\n",
      "Armstrong  30.696985  67.901278  Romney\n",
      "Beaver     46.032619  52.637630  Romney\n",
      "Bedford    22.057452  76.986570  Romney\n",
      "              Romney  winner  voters    turnout     margin\n",
      "county                                                    \n",
      "Adams      63.112001  Romney   61156  68.632677  27.629667\n",
      "Allegheny  42.185820   Obama  924351  66.497575  14.454399\n",
      "Armstrong  67.901278  Romney   42147  67.198140  37.204293\n",
      "Beaver     52.637630  Romney  115157  69.483401   6.605012\n",
      "Bedford    76.986570  Romney   32189  66.619031  54.929118\n"
     ]
    }
   ],
   "source": [
    "# the exercise didn't like the spaces in the slice desc! Once I removed them, it passed.\n",
    "\n",
    "# Slice the columns from the starting column to 'Obama': left_columns\n",
    "left_columns = election.loc[:,:'Obama']\n",
    "\n",
    "# Print the output of left_columns.head()\n",
    "print(left_columns.head())\n",
    "\n",
    "# Slice the columns from 'Obama' to 'winner': middle_columns\n",
    "middle_columns = left_columns = election.loc[:,'Obama':'winner']\n",
    "\n",
    "# Print the output of middle_columns.head()\n",
    "print(middle_columns.head())\n",
    "\n",
    "# Slice the columns from 'Romney' to the end: 'right_columns'\n",
    "right_columns = middle_columns = left_columns = election.loc[:,'Romney':]\n",
    "\n",
    "# Print the output of right_columns.head()\n",
    "print(right_columns.head())"
   ]
  },
  {
   "cell_type": "markdown",
   "metadata": {},
   "source": [
    "## Filtering DataFrames\n",
    "I need more practice here - I've found my current approach too clunky, compared to R->dplyr.\n",
    "\n",
    "* *.all()*: Do not show frames if they have all zeros, or NaN across all columns. This will show rows with some Nan or 0 values.\n",
    "* *.any()*: Do not show rows that have ANY zero or NaN columns. If a row has a single 0 or Nan - it will not be shown: This might be a bit extreme.\n",
    "* *.isnull()*: Show columns that have NaN (NaT too? test...)\n",
    "* *.notnull()*: Show columns that are not NaN\n",
    "* *.dropna(how='any')*: Drop rows that have have even just one 0 or NaN.\n",
    "* *.dropna(how='all')*: Drop rows that are entirely NaN or 0."
   ]
  },
  {
   "cell_type": "code",
   "execution_count": 8,
   "metadata": {},
   "outputs": [
    {
     "name": "stdout",
     "output_type": "stream",
     "text": [
      "             state   total      Obama     Romney  winner  voters    turnout  \\\n",
      "county                                                                        \n",
      "Bucks           PA  319407  49.966970  48.801686   Obama  435606  73.324748   \n",
      "Butler          PA   88924  31.920516  66.816607  Romney  122762  72.436096   \n",
      "Chester         PA  248295  49.228539  49.650617  Romney  337822  73.498766   \n",
      "Forest          PA    2308  38.734835  59.835355  Romney    3232  71.410891   \n",
      "Franklin        PA   62802  30.110506  68.583803  Romney   87406  71.850903   \n",
      "Montgomery      PA  401787  56.637223  42.286834   Obama  551105  72.905708   \n",
      "Westmoreland    PA  168709  37.567646  61.306154  Romney  238006  70.884347   \n",
      "\n",
      "                 margin  \n",
      "county                   \n",
      "Bucks          1.165284  \n",
      "Butler        34.896091  \n",
      "Chester        0.422079  \n",
      "Forest        21.100520  \n",
      "Franklin      38.473297  \n",
      "Montgomery    14.350390  \n",
      "Westmoreland  23.738508  \n"
     ]
    }
   ],
   "source": [
    "# Create the boolean array: high_turnout\n",
    "high_turnout = election.turnout > 70\n",
    "\n",
    "# Filter the election DataFrame with the high_turnout array: high_turnout_df\n",
    "high_turnout_df = election[high_turnout]\n",
    "\n",
    "# Print the high_turnout_results DataFrame\n",
    "print(high_turnout_df)"
   ]
  },
  {
   "cell_type": "code",
   "execution_count": 10,
   "metadata": {},
   "outputs": [
    {
     "name": "stdout",
     "output_type": "stream",
     "text": [
      "<class 'pandas.core.frame.DataFrame'>\n",
      "Index: 67 entries, Adams to York\n",
      "Data columns (total 8 columns):\n",
      "state      67 non-null object\n",
      "total      67 non-null int64\n",
      "Obama      67 non-null float64\n",
      "Romney     67 non-null float64\n",
      "winner     64 non-null object\n",
      "voters     67 non-null int64\n",
      "turnout    67 non-null float64\n",
      "margin     67 non-null float64\n",
      "dtypes: float64(4), int64(2), object(2)\n",
      "memory usage: 7.2+ KB\n",
      "None\n"
     ]
    }
   ],
   "source": [
    "old_election = election\n",
    "\n",
    "# Import numpy\n",
    "import numpy as np\n",
    "\n",
    "# Create the boolean array: too_close\n",
    "too_close = election.margin < 1\n",
    "\n",
    "# Assign np.nan to the 'winner' column where the results were too close to call\n",
    "election.loc[too_close, 'winner'] = np.nan\n",
    "\n",
    "# Print the output of election.info()\n",
    "print(election.info())\n",
    "\n",
    "election = old_election"
   ]
  },
  {
   "cell_type": "code",
   "execution_count": 13,
   "metadata": {},
   "outputs": [
    {
     "name": "stdout",
     "output_type": "stream",
     "text": [
      "<class 'pandas.core.frame.DataFrame'>\n",
      "RangeIndex: 1309 entries, 0 to 1308\n",
      "Data columns (total 14 columns):\n",
      "pclass       1309 non-null int64\n",
      "survived     1309 non-null int64\n",
      "name         1309 non-null object\n",
      "sex          1309 non-null object\n",
      "age          1046 non-null float64\n",
      "sibsp        1309 non-null int64\n",
      "parch        1309 non-null int64\n",
      "ticket       1309 non-null object\n",
      "fare         1308 non-null float64\n",
      "cabin        295 non-null object\n",
      "embarked     1307 non-null object\n",
      "boat         486 non-null object\n",
      "body         121 non-null float64\n",
      "home.dest    745 non-null object\n",
      "dtypes: float64(3), int64(4), object(7)\n",
      "memory usage: 143.2+ KB\n",
      "None\n"
     ]
    }
   ],
   "source": [
    "# data prep - titanic\n",
    "file = 'titanic.csv'\n",
    "url = 'https://assets.datacamp.com/production/course_1650/datasets/' + file\n",
    "urlretrieve(url, file)\n",
    "\n",
    "titanic = pd.read_csv(file)\n",
    "print(titanic.info())"
   ]
  },
  {
   "cell_type": "code",
   "execution_count": 16,
   "metadata": {},
   "outputs": [
    {
     "name": "stdout",
     "output_type": "stream",
     "text": [
      "(1309, 2)\n",
      "(272, 2)\n",
      "(1069, 2)\n",
      "<class 'pandas.core.frame.DataFrame'>\n",
      "RangeIndex: 1309 entries, 0 to 1308\n",
      "Data columns (total 10 columns):\n",
      "pclass      1309 non-null int64\n",
      "survived    1309 non-null int64\n",
      "name        1309 non-null object\n",
      "sex         1309 non-null object\n",
      "age         1046 non-null float64\n",
      "sibsp       1309 non-null int64\n",
      "parch       1309 non-null int64\n",
      "ticket      1309 non-null object\n",
      "fare        1308 non-null float64\n",
      "embarked    1307 non-null object\n",
      "dtypes: float64(2), int64(4), object(4)\n",
      "memory usage: 102.3+ KB\n",
      "None\n"
     ]
    }
   ],
   "source": [
    "# Select the 'age' and 'cabin' columns: df\n",
    "df = titanic.loc[:, ['age','cabin']]\n",
    "\n",
    "# Print the shape of df\n",
    "print(df.shape)\n",
    "\n",
    "# Drop rows in df with how='any' and print the shape\n",
    "print(df.dropna(how='any').shape)\n",
    "\n",
    "# Drop rows in df with how='all' and print the shape\n",
    "print(df.dropna(how='all').shape)\n",
    "\n",
    "# Call .dropna() with thresh=1000 and axis='columns' and print the output of .info() from titanic\n",
    "print(titanic.dropna(thresh=1000, axis='columns').info())"
   ]
  },
  {
   "cell_type": "code",
   "execution_count": 17,
   "metadata": {},
   "outputs": [
    {
     "name": "stdout",
     "output_type": "stream",
     "text": [
      "<class 'pandas.core.frame.DataFrame'>\n",
      "RangeIndex: 365 entries, 0 to 364\n",
      "Data columns (total 23 columns):\n",
      "Date                         365 non-null object\n",
      "Max TemperatureF             365 non-null int64\n",
      "Mean TemperatureF            365 non-null int64\n",
      "Min TemperatureF             365 non-null int64\n",
      "Max Dew PointF               365 non-null int64\n",
      "Mean Dew PointF              365 non-null int64\n",
      "Min DewpointF                365 non-null int64\n",
      "Max Humidity                 365 non-null int64\n",
      "Mean Humidity                365 non-null int64\n",
      "Min Humidity                 365 non-null int64\n",
      "Max Sea Level PressureIn     365 non-null float64\n",
      "Mean Sea Level PressureIn    365 non-null float64\n",
      "Min Sea Level PressureIn     365 non-null float64\n",
      "Max VisibilityMiles          365 non-null int64\n",
      "Mean VisibilityMiles         365 non-null int64\n",
      "Min VisibilityMiles          365 non-null int64\n",
      "Max Wind SpeedMPH            365 non-null int64\n",
      "Mean Wind SpeedMPH           365 non-null int64\n",
      "Max Gust SpeedMPH            244 non-null float64\n",
      "PrecipitationIn              365 non-null float64\n",
      " CloudCover                  365 non-null int64\n",
      "Events                       207 non-null object\n",
      "WindDirDegrees               365 non-null int64\n",
      "dtypes: float64(5), int64(16), object(2)\n",
      "memory usage: 65.7+ KB\n",
      "None\n"
     ]
    }
   ],
   "source": [
    "# data prep\n",
    "file = 'pittsburgh2013.csv'\n",
    "url = 'https://assets.datacamp.com/production/course_1650/datasets/' + file\n",
    "urlretrieve(url, file)\n",
    "\n",
    "weather = pd.read_csv(file)\n",
    "print(weather.info())"
   ]
  },
  {
   "cell_type": "code",
   "execution_count": 18,
   "metadata": {},
   "outputs": [
    {
     "name": "stdout",
     "output_type": "stream",
     "text": [
      "   Mean TemperatureC  Mean Dew PointC\n",
      "0          -2.222222        -2.777778\n",
      "1          -6.111111       -11.111111\n",
      "2          -4.444444        -9.444444\n",
      "3          -2.222222        -7.222222\n",
      "4          -1.111111        -6.666667\n"
     ]
    }
   ],
   "source": [
    "# Write a function to convert degrees Fahrenheit to degrees Celsius: to_celsius\n",
    "def to_celsius(F):\n",
    "    return 5/9*(F - 32)\n",
    "\n",
    "# Apply the function over 'Mean TemperatureF' and 'Mean Dew PointF': df_celsius\n",
    "df_celsius = weather.loc[:, ['Mean TemperatureF', 'Mean Dew PointF']].apply(to_celsius)\n",
    "\n",
    "# Reassign the columns df_celsius\n",
    "df_celsius.columns = ['Mean TemperatureC', 'Mean Dew PointC']\n",
    "\n",
    "# Print the output of df_celsius.head()\n",
    "print(df_celsius.head())\n"
   ]
  },
  {
   "cell_type": "code",
   "execution_count": 19,
   "metadata": {},
   "outputs": [
    {
     "name": "stdout",
     "output_type": "stream",
     "text": [
      "          state   total      Obama     Romney  winner  voters    turnout  \\\n",
      "county                                                                     \n",
      "Adams        PA   41973  35.482334  63.112001  Romney   61156  68.632677   \n",
      "Allegheny    PA  614671  56.640219  42.185820   Obama  924351  66.497575   \n",
      "Armstrong    PA   28322  30.696985  67.901278  Romney   42147  67.198140   \n",
      "Beaver       PA   80015  46.032619  52.637630  Romney  115157  69.483401   \n",
      "Bedford      PA   21444  22.057452  76.986570  Romney   32189  66.619031   \n",
      "\n",
      "              margin color  \n",
      "county                      \n",
      "Adams      27.629667   red  \n",
      "Allegheny  14.454399  blue  \n",
      "Armstrong  37.204293   red  \n",
      "Beaver      6.605012   red  \n",
      "Bedford    54.929118   red  \n"
     ]
    }
   ],
   "source": [
    "# Create the dictionary: red_vs_blue\n",
    "red_vs_blue = {'Obama':'blue', 'Romney':'red'}\n",
    "\n",
    "# Use the dictionary to map the 'winner' column to the new column: election['color']\n",
    "election['color'] = election.winner.map(red_vs_blue)\n",
    "\n",
    "# Print the output of election.head()\n",
    "print(election.head())\n"
   ]
  },
  {
   "cell_type": "code",
   "execution_count": 21,
   "metadata": {},
   "outputs": [
    {
     "name": "stdout",
     "output_type": "stream",
     "text": [
      "<class 'numpy.ndarray'>\n",
      "          state   total      Obama     Romney  winner  voters    turnout  \\\n",
      "county                                                                     \n",
      "Adams        PA   41973  35.482334  63.112001  Romney   61156  68.632677   \n",
      "Allegheny    PA  614671  56.640219  42.185820   Obama  924351  66.497575   \n",
      "Armstrong    PA   28322  30.696985  67.901278  Romney   42147  67.198140   \n",
      "Beaver       PA   80015  46.032619  52.637630  Romney  115157  69.483401   \n",
      "Bedford      PA   21444  22.057452  76.986570  Romney   32189  66.619031   \n",
      "\n",
      "              margin color  turnout_zscore  \n",
      "county                                      \n",
      "Adams      27.629667   red        0.853734  \n",
      "Allegheny  14.454399  blue        0.439846  \n",
      "Armstrong  37.204293   red        0.575650  \n",
      "Beaver      6.605012   red        1.018647  \n",
      "Bedford    54.929118   red        0.463391  \n"
     ]
    }
   ],
   "source": [
    "# Import zscore from scipy.stats\n",
    "from scipy.stats import zscore\n",
    "\n",
    "# Call zscore with election['turnout'] as input: turnout_zscore\n",
    "turnout_zscore = zscore(election['turnout'])\n",
    "\n",
    "# Print the type of turnout_zscore\n",
    "print(type(turnout_zscore))\n",
    "\n",
    "# Assign turnout_zscore to a new column: election['turnout_zscore']\n",
    "election['turnout_zscore'] = turnout_zscore\n",
    "\n",
    "# Print the output of election.head()\n",
    "print(election.head())\n"
   ]
  },
  {
   "cell_type": "code",
   "execution_count": 23,
   "metadata": {},
   "outputs": [
    {
     "data": {
      "text/plain": [
       "<matplotlib.axes._subplots.AxesSubplot at 0x10c6f3128>"
      ]
     },
     "execution_count": 23,
     "metadata": {},
     "output_type": "execute_result"
    },
    {
     "data": {
      "image/png": "[encoded data removed]",
      "text/plain": [
       "<matplotlib.figure.Figure at 0x10c6ef7b8>"
      ]
     },
     "metadata": {},
     "output_type": "display_data"
    }
   ],
   "source": [
    "election.turnout_zscore.plot(kind='hist')"
   ]
  },
  {
   "cell_type": "code",
   "execution_count": null,
   "metadata": {},
   "outputs": [],
   "source": []
  }
 ],
 "metadata": {
  "kernelspec": {
   "display_name": "Python 3",
   "language": "python",
   "name": "python3"
  },
  "language_info": {
   "codemirror_mode": {
    "name": "ipython",
    "version": 3
   },
   "file_extension": ".py",
   "mimetype": "text/x-python",
   "name": "python",
   "nbconvert_exporter": "python",
   "pygments_lexer": "ipython3",
   "version": "3.6.4"
  }
 },
 "nbformat": 4,
 "nbformat_minor": 2
}
