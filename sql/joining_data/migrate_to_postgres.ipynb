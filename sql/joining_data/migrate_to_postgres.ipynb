{
 "cells": [
  {
   "cell_type": "markdown",
   "metadata": {
    "toc": true
   },
   "source": [
    "<h1>Table of Contents<span class=\"tocSkip\"></span></h1>\n",
    "<div class=\"toc\"><ul class=\"toc-item\"><li><span><a href=\"#Overview\" data-toc-modified-id=\"Overview-1\"><span class=\"toc-item-num\">1&nbsp;&nbsp;</span>Overview</a></span><ul class=\"toc-item\"><li><span><a href=\"#Attempt-#1\" data-toc-modified-id=\"Attempt-#1-1.1\"><span class=\"toc-item-num\">1.1&nbsp;&nbsp;</span>Attempt #1</a></span></li><li><span><a href=\"#Attempt-#2\" data-toc-modified-id=\"Attempt-#2-1.2\"><span class=\"toc-item-num\">1.2&nbsp;&nbsp;</span>Attempt #2</a></span></li></ul></li></ul></div>"
   ]
  },
  {
   "cell_type": "markdown",
   "metadata": {},
   "source": [
    "## Overview\n",
    "I've been using sqlite so far on the course, which is light and easy: But the course was written for postgres, and in the exercises are starting to use statements sqlite does not understand. So let's take 2 hours to get postgres running, first as a vagrant machine, and check the exercises with the sql kernels work. If that is successfull, check the resource usage of docker: I'm assuming that uses a lot more, because although containers are tiny, on a Mac the linux emulation layer in core docker is enormous in both memory, disk and I suspect cpu too.\n",
    "\n",
    "### Attempt #1\n",
    "```\n",
    "git clone https://github.com/jackdb/pgjdbc-test-vm.git\n",
    "cd pgjdbc-test-vm\n",
    "rm -rf .git .gitignore\n",
    "vagrant up\n",
    "```\n",
    "This failed - with a problem reported a VM book in the network layer. UPDATE: This was because of virtualbox/vagrant out of date problem with mojave - I fixed that in attempt #2, but I also used a simpler vagrant file.\n",
    "\n",
    "### Attempt #2\n",
    "Build from vagrant scratch. This was a faff - and involved reinstalling virtualbox, vagrant and then repairing vagrant plugins. \n",
    "\n",
    "```\n",
    "git clone https://github.com/jackdb/pg-app-dev-vm.git\n",
    "cd pg-app-dev-vom\n",
    "rm -rf .git .gitignore\n",
    "# rename app to datacamp\n",
    "# update ubuntu to xenial 18 LTS\n",
    "# update postgres to v9.6 (newer versions fail)\n",
    "# install latest virtualbox\n",
    "# download latest vagrant\n",
    "vagrant plugin repair\n",
    "vagrant plugin expunge --reinstall\n",
    "vagrant plugin update\n",
    "brew install postgres\n",
    "PGUSER=datacamp PGPASSWORD=datacamp psql -h localhost -p 15432 datacamp\n",
    "```\n",
    "Perhaps docker would have been less effort after all <whistle>"
   ]
  },
  {
   "cell_type": "code",
   "execution_count": null,
   "metadata": {},
   "outputs": [],
   "source": []
  }
 ],
 "metadata": {
  "kernelspec": {
   "display_name": "Python 3",
   "language": "python",
   "name": "python3"
  },
  "language_info": {
   "codemirror_mode": {
    "name": "ipython",
    "version": 3
   },
   "file_extension": ".py",
   "mimetype": "text/x-python",
   "name": "python",
   "nbconvert_exporter": "python",
   "pygments_lexer": "ipython3",
   "version": "3.6.7"
  },
  "toc": {
   "base_numbering": 1,
   "nav_menu": {},
   "number_sections": true,
   "sideBar": true,
   "skip_h1_title": true,
   "title_cell": "Table of Contents",
   "title_sidebar": "Contents",
   "toc_cell": true,
   "toc_position": {},
   "toc_section_display": true,
   "toc_window_display": false
  },
  "varInspector": {
   "cols": {
    "lenName": 16,
    "lenType": 16,
    "lenVar": 40
   },
   "kernels_config": {
    "python": {
     "delete_cmd_postfix": "",
     "delete_cmd_prefix": "del ",
     "library": "var_list.py",
     "varRefreshCmd": "print(var_dic_list())"
    },
    "r": {
     "delete_cmd_postfix": ") ",
     "delete_cmd_prefix": "rm(",
     "library": "var_list.r",
     "varRefreshCmd": "cat(var_dic_list()) "
    }
   },
   "types_to_exclude": [
    "module",
    "function",
    "builtin_function_or_method",
    "instance",
    "_Feature"
   ],
   "window_display": false
  }
 },
 "nbformat": 4,
 "nbformat_minor": 2
}
