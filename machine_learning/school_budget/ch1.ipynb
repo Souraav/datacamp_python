{
 "cells": [
  {
   "cell_type": "markdown",
   "metadata": {},
   "source": [
    "# Chapter 1"
   ]
  },
  {
   "cell_type": "code",
   "execution_count": 5,
   "metadata": {},
   "outputs": [],
   "source": [
    "import numpy as np\n",
    "import matplotlib.pyplot as plt\n",
    "import pandas as pd\n",
    "from jupyterthemes import jtplot\n",
    "jtplot.reset()"
   ]
  },
  {
   "cell_type": "code",
   "execution_count": 3,
   "metadata": {},
   "outputs": [
    {
     "name": "stdout",
     "output_type": "stream",
     "text": [
      "<class 'pandas.core.frame.DataFrame'>\n",
      "RangeIndex: 400277 entries, 0 to 400276\n",
      "Data columns (total 26 columns):\n",
      "Unnamed: 0                400277 non-null int64\n",
      "Function                  400277 non-null object\n",
      "Use                       400277 non-null object\n",
      "Sharing                   400277 non-null object\n",
      "Reporting                 400277 non-null object\n",
      "Student_Type              400277 non-null object\n",
      "Position_Type             400277 non-null object\n",
      "Object_Type               400277 non-null object\n",
      "Pre_K                     400277 non-null object\n",
      "Operating_Status          400277 non-null object\n",
      "Object_Description        375493 non-null object\n",
      "Text_2                    88217 non-null object\n",
      "SubFund_Description       306855 non-null object\n",
      "Job_Title_Description     292743 non-null object\n",
      "Text_3                    109152 non-null object\n",
      "Text_4                    53746 non-null object\n",
      "Sub_Object_Description    91603 non-null object\n",
      "Location_Description      162054 non-null object\n",
      "FTE                       126071 non-null float64\n",
      "Function_Description      342195 non-null object\n",
      "Facility_or_Department    53886 non-null object\n",
      "Position_Extra            264764 non-null object\n",
      "Total                     395722 non-null float64\n",
      "Program_Description       304660 non-null object\n",
      "Fund_Description          202877 non-null object\n",
      "Text_1                    292285 non-null object\n",
      "dtypes: float64(2), int64(1), object(23)\n",
      "memory usage: 79.4+ MB\n"
     ]
    }
   ],
   "source": [
    "# I had to join drivendata to get the data\n",
    "df = pd.read_csv('TrainingData.csv')\n",
    "df.info()\n",
    "\n",
    "# that's a lot of data - the course usings 1560 rows..."
   ]
  },
  {
   "cell_type": "code",
   "execution_count": 8,
   "metadata": {},
   "outputs": [
    {
     "name": "stdout",
     "output_type": "stream",
     "text": [
      "          Unnamed: 0            FTE         Total\n",
      "count  400277.000000  126071.000000  3.957220e+05\n",
      "mean   225186.018537       0.426794  1.310586e+04\n",
      "std    130025.142718       0.573576  3.682254e+05\n",
      "min         2.000000      -0.087551 -8.746631e+07\n",
      "25%    112601.000000       0.000792  7.379770e+01\n",
      "50%    225243.000000       0.130927  4.612300e+02\n",
      "75%    337722.000000       1.000000  3.652662e+03\n",
      "max    450340.000000      46.800000  1.297000e+08\n"
     ]
    },
    {
     "data": {
      "image/png": "[encoded data removed]",
      "text/plain": [
       "<matplotlib.figure.Figure at 0x10a46a518>"
      ]
     },
     "metadata": {},
     "output_type": "display_data"
    }
   ],
   "source": [
    "# Print the summary statistics\n",
    "print(df.describe())\n",
    "\n",
    "# Import matplotlib.pyplot as plt\n",
    "import matplotlib.pyplot as plt\n",
    "\n",
    "# Create the histogram\n",
    "plt.hist(df.loc[df['FTE'] <= 1,'FTE'].dropna())\n",
    "\n",
    "# Add title and labels\n",
    "plt.title('Distribution of %full-time \\n employee works')\n",
    "plt.xlabel('% of full-time')\n",
    "plt.ylabel('num employees')\n",
    "\n",
    "# Display the histogram\n",
    "plt.show()"
   ]
  },
  {
   "cell_type": "code",
   "execution_count": 10,
   "metadata": {},
   "outputs": [
    {
     "data": {
      "text/html": [
       "<div>\n",
       "<style scoped>\n",
       "    .dataframe tbody tr th:only-of-type {\n",
       "        vertical-align: middle;\n",
       "    }\n",
       "\n",
       "    .dataframe tbody tr th {\n",
       "        vertical-align: top;\n",
       "    }\n",
       "\n",
       "    .dataframe thead th {\n",
       "        text-align: right;\n",
       "    }\n",
       "</style>\n",
       "<table border=\"1\" class=\"dataframe\">\n",
       "  <thead>\n",
       "    <tr style=\"text-align: right;\">\n",
       "      <th></th>\n",
       "      <th>Unnamed: 0</th>\n",
       "      <th>Function</th>\n",
       "      <th>Use</th>\n",
       "      <th>Sharing</th>\n",
       "      <th>Reporting</th>\n",
       "      <th>Student_Type</th>\n",
       "      <th>Position_Type</th>\n",
       "      <th>Object_Type</th>\n",
       "      <th>Pre_K</th>\n",
       "      <th>Operating_Status</th>\n",
       "      <th>...</th>\n",
       "      <th>Sub_Object_Description</th>\n",
       "      <th>Location_Description</th>\n",
       "      <th>FTE</th>\n",
       "      <th>Function_Description</th>\n",
       "      <th>Facility_or_Department</th>\n",
       "      <th>Position_Extra</th>\n",
       "      <th>Total</th>\n",
       "      <th>Program_Description</th>\n",
       "      <th>Fund_Description</th>\n",
       "      <th>Text_1</th>\n",
       "    </tr>\n",
       "  </thead>\n",
       "  <tbody>\n",
       "    <tr>\n",
       "      <th>37901</th>\n",
       "      <td>105857</td>\n",
       "      <td>Food Services</td>\n",
       "      <td>O&amp;M</td>\n",
       "      <td>Shared Services</td>\n",
       "      <td>School</td>\n",
       "      <td>Unspecified</td>\n",
       "      <td>Other</td>\n",
       "      <td>Base Salary/Compensation</td>\n",
       "      <td>Non PreK</td>\n",
       "      <td>PreK-12 Operating</td>\n",
       "      <td>...</td>\n",
       "      <td>NaN</td>\n",
       "      <td>NaN</td>\n",
       "      <td>40.2</td>\n",
       "      <td>NaN</td>\n",
       "      <td>NaN</td>\n",
       "      <td>NaN</td>\n",
       "      <td>580900.061569</td>\n",
       "      <td>Food Services</td>\n",
       "      <td>Central Cafeteria</td>\n",
       "      <td>NaN</td>\n",
       "    </tr>\n",
       "    <tr>\n",
       "      <th>188628</th>\n",
       "      <td>135371</td>\n",
       "      <td>Food Services</td>\n",
       "      <td>O&amp;M</td>\n",
       "      <td>Shared Services</td>\n",
       "      <td>School</td>\n",
       "      <td>Unspecified</td>\n",
       "      <td>Other</td>\n",
       "      <td>Base Salary/Compensation</td>\n",
       "      <td>Non PreK</td>\n",
       "      <td>PreK-12 Operating</td>\n",
       "      <td>...</td>\n",
       "      <td>NaN</td>\n",
       "      <td>NaN</td>\n",
       "      <td>46.8</td>\n",
       "      <td>NaN</td>\n",
       "      <td>NaN</td>\n",
       "      <td>NaN</td>\n",
       "      <td>528191.986943</td>\n",
       "      <td>Food Services</td>\n",
       "      <td>Central Cafeteria</td>\n",
       "      <td>NaN</td>\n",
       "    </tr>\n",
       "    <tr>\n",
       "      <th>350506</th>\n",
       "      <td>128399</td>\n",
       "      <td>Food Services</td>\n",
       "      <td>O&amp;M</td>\n",
       "      <td>Shared Services</td>\n",
       "      <td>School</td>\n",
       "      <td>Unspecified</td>\n",
       "      <td>Other</td>\n",
       "      <td>Base Salary/Compensation</td>\n",
       "      <td>Non PreK</td>\n",
       "      <td>PreK-12 Operating</td>\n",
       "      <td>...</td>\n",
       "      <td>NaN</td>\n",
       "      <td>NaN</td>\n",
       "      <td>45.6</td>\n",
       "      <td>NaN</td>\n",
       "      <td>NaN</td>\n",
       "      <td>NaN</td>\n",
       "      <td>478476.893739</td>\n",
       "      <td>Food Services</td>\n",
       "      <td>Central Cafeteria</td>\n",
       "      <td>NaN</td>\n",
       "    </tr>\n",
       "  </tbody>\n",
       "</table>\n",
       "<p>3 rows × 26 columns</p>\n",
       "</div>"
      ],
      "text/plain": [
       "        Unnamed: 0       Function  Use          Sharing Reporting  \\\n",
       "37901       105857  Food Services  O&M  Shared Services    School   \n",
       "188628      135371  Food Services  O&M  Shared Services    School   \n",
       "350506      128399  Food Services  O&M  Shared Services    School   \n",
       "\n",
       "       Student_Type Position_Type               Object_Type     Pre_K  \\\n",
       "37901   Unspecified         Other  Base Salary/Compensation  Non PreK   \n",
       "188628  Unspecified         Other  Base Salary/Compensation  Non PreK   \n",
       "350506  Unspecified         Other  Base Salary/Compensation  Non PreK   \n",
       "\n",
       "         Operating_Status  ...   Sub_Object_Description Location_Description  \\\n",
       "37901   PreK-12 Operating  ...                      NaN                  NaN   \n",
       "188628  PreK-12 Operating  ...                      NaN                  NaN   \n",
       "350506  PreK-12 Operating  ...                      NaN                  NaN   \n",
       "\n",
       "         FTE Function_Description Facility_or_Department Position_Extra  \\\n",
       "37901   40.2                  NaN                    NaN            NaN   \n",
       "188628  46.8                  NaN                    NaN            NaN   \n",
       "350506  45.6                  NaN                    NaN            NaN   \n",
       "\n",
       "                Total Program_Description   Fund_Description Text_1  \n",
       "37901   580900.061569       Food Services  Central Cafeteria    NaN  \n",
       "188628  528191.986943       Food Services  Central Cafeteria    NaN  \n",
       "350506  478476.893739       Food Services  Central Cafeteria    NaN  \n",
       "\n",
       "[3 rows x 26 columns]"
      ]
     },
     "execution_count": 10,
     "metadata": {},
     "output_type": "execute_result"
    }
   ],
   "source": [
    "df[df['FTE']>40]"
   ]
  },
  {
   "cell_type": "code",
   "execution_count": 12,
   "metadata": {},
   "outputs": [
    {
     "name": "stdout",
     "output_type": "stream",
     "text": [
      "<class 'pandas.core.frame.DataFrame'>\n",
      "RangeIndex: 400277 entries, 0 to 400276\n",
      "Data columns (total 26 columns):\n",
      "Unnamed: 0                400277 non-null int64\n",
      "Function                  400277 non-null object\n",
      "Use                       400277 non-null object\n",
      "Sharing                   400277 non-null object\n",
      "Reporting                 400277 non-null object\n",
      "Student_Type              400277 non-null object\n",
      "Position_Type             400277 non-null object\n",
      "Object_Type               400277 non-null object\n",
      "Pre_K                     400277 non-null object\n",
      "Operating_Status          400277 non-null object\n",
      "Object_Description        375493 non-null object\n",
      "Text_2                    88217 non-null object\n",
      "SubFund_Description       306855 non-null object\n",
      "Job_Title_Description     292743 non-null object\n",
      "Text_3                    109152 non-null object\n",
      "Text_4                    53746 non-null object\n",
      "Sub_Object_Description    91603 non-null object\n",
      "Location_Description      162054 non-null object\n",
      "FTE                       126071 non-null float64\n",
      "Function_Description      342195 non-null object\n",
      "Facility_or_Department    53886 non-null object\n",
      "Position_Extra            264764 non-null object\n",
      "Total                     395722 non-null float64\n",
      "Program_Description       304660 non-null object\n",
      "Fund_Description          202877 non-null object\n",
      "Text_1                    292285 non-null object\n",
      "dtypes: float64(2), int64(1), object(23)\n",
      "memory usage: 79.4+ MB\n"
     ]
    }
   ],
   "source": [
    "df.info()"
   ]
  },
  {
   "cell_type": "code",
   "execution_count": 16,
   "metadata": {},
   "outputs": [
    {
     "data": {
      "text/plain": [
       "REGULAR INSTRUCTION                         64896\n",
       "EMPLOYEE BENEFITS                           32669\n",
       "INSTRUCTIONAL STAFF                         30592\n",
       "REGULAR PAY                                 18609\n",
       "SPECIAL EDUCATION                            9778\n",
       "OPERATION AND MAINT OF PLANT                 9161\n",
       "FOOD SERVICES OPERATIONS                     5857\n",
       "SCHOOL ADMINISTRATION                        5575\n",
       "STUDENTS                                     4864\n",
       "CENTRAL                                      4858\n",
       "MISCELLANEOUS                                4674\n",
       "SCHOOL BASED MANAGEMENT                      4277\n",
       "STUDENT TRANSPORTATION                       4040\n",
       "EXTENDED DAYS                                3452\n",
       "OVERTIME                                     2881\n",
       "ADDL REGULAR PAY-NOT SMOOTHED                2713\n",
       "TEACHER LEAD                                 2450\n",
       "ESEA TITLE I                                 2434\n",
       "SCHOOL RECOGNITION                           2075\n",
       "EXTENDED YEAR                                2072\n",
       "COCURRICULAR ED/ACTIVITIES                   2033\n",
       "COMMUNITY SERVICES OPERATION                 1896\n",
       "TITLE I                                      1824\n",
       "INDIVIDUALS WITH DISABILITIES ACT PART B     1654\n",
       "CRITICAL NEEDS SUPPLEMENT                    1531\n",
       "SCHOOL OPERATING ACCOUNT                     1434\n",
       "TITLE I SCHOOLWIDE                           1344\n",
       "EDUCATION FOR ADULTS                         1330\n",
       "ESEA TITLE I DISADVANTAGED                   1249\n",
       "SCHOOLWIDE-AAPS                              1220\n",
       "                                            ...  \n",
       "MEMORIAL FUND                                   1\n",
       "ITEME - ITEMF                                   1\n",
       "FAM & COMM EMPOWER CONF                         1\n",
       "ITEMD - HEALTH TEACHERS                         1\n",
       "CDB Grnt-DRGP-SpgCrk-Generator                  1\n",
       "Green Schools Program                           1\n",
       "NATIONWIDE HOMES, INC.                          1\n",
       "ITEMC ARTS/CULTURE                              1\n",
       " STATE UNIV - NCTA                              1\n",
       "CREATE EFFECTIVE CITIZENS                       1\n",
       "ITEMR  SUM BRDG                                 1\n",
       "NCAA - MIDDLE SCH MADNESS                       1\n",
       "ITEMK - CEO SEARCH                              1\n",
       "LSTA LIBRARY SERV FOR PER                       1\n",
       "ITEMN - ART PROJECT                             1\n",
       "LITERACY QZAB                                   1\n",
       "CHARTER SCHOOL CORP-ATTORNEY                    1\n",
       "ITEMAE VOC ED GRANT                             1\n",
       "FND-CLOS ACHIEV GAP                             1\n",
       "LOSS NOT COVERED-LIGHTNING                      1\n",
       "MINUTE MEN                                      1\n",
       "Supplemental Instructional Initiative           1\n",
       " SAVINGS BANK                                   1\n",
       "POSTSECONDARY ASSISTANCE GRANT                  1\n",
       "ARTS ACADEMY                                    1\n",
       "Arts Comm Ticket Subsidy                        1\n",
       "ITEMC CTY BD OF HEALTH-RSB                      1\n",
       "WirelessContvty-Host                            1\n",
       "CLASS                                           1\n",
       "FICA EMPLOYER EXPENSE                           1\n",
       "Name: Text_1, Length: 1423, dtype: int64"
      ]
     },
     "execution_count": 16,
     "metadata": {},
     "output_type": "execute_result"
    }
   ],
   "source": [
    "df['Text_1'].value_counts()\n"
   ]
  },
  {
   "cell_type": "code",
   "execution_count": 17,
   "metadata": {},
   "outputs": [
    {
     "data": {
      "text/plain": [
       "TEACHER SUBS                      16599\n",
       "FOOD SERVICES                      5871\n",
       "GENERAL EDUCATION                  4251\n",
       "TRANSPORTATION                     3945\n",
       "CUSTODIAL-SCHOOLS                  3860\n",
       "TEACHER LEARNING & LEADERSHIP      2878\n",
       "TEACHER                            2710\n",
       "SEVERE DISABILITIES                2610\n",
       "MAINTENANCE                        2483\n",
       "AFTERSCHOOL PROGRAMS               2264\n",
       "ADULT VOC ED OPPORTUNITY           2170\n",
       "MATH/SCIENCE                       1919\n",
       "ATHLETICS                          1669\n",
       "UNASSIGNED PERS/PAID LEAVES        1560\n",
       "EARLY EDUCATION                    1485\n",
       "HUMANITIES                         1337\n",
       "SPECIAL EDUCATION INSTRUCTION      1208\n",
       "BOND EXPENDITURES                  1170\n",
       "GRANTS MANAGEMENT                  1016\n",
       "EXT DAY TUITION PAID KINDERGAR      800\n",
       "EARLY CHILDHOOD EDUCATION           795\n",
       "CUSTODIAL SERVICES                  794\n",
       "SAFETY AND SECURITY                 771\n",
       "TIF GRANT                           733\n",
       "TEACHER EFFECTIVENESS               727\n",
       "SUPPLIES & MATERIALS                724\n",
       "MILD MODERATE                       716\n",
       "INSTRUCTIONAL PROFESSIONAL DEV      666\n",
       "ASSESSMENT AND RESEARCH             613\n",
       "INSTRUCTIONAL SUPPORT TEAMS         609\n",
       "                                  ...  \n",
       "DISTRICTWIDE SPECIAL PROJECTS         1\n",
       "GENERAL SUPPLIES                      1\n",
       "Reading Materials                     1\n",
       "Purchasing Department                 1\n",
       "TELECOM-REIMBURSEMENT                 1\n",
       "Other Operating Costs                 1\n",
       "\"Multilingual Department, Elem        1\n",
       "capital outlay                        1\n",
       "Salary                                1\n",
       "Ninth Grade Center                    1\n",
       "BOND REDEMPTION TRANSFER              1\n",
       "Warehousing                           1\n",
       "SUPP MTRLS                            1\n",
       "Secondary Social Studies              1\n",
       "Misc Operating Costs                  1\n",
       "Contractual                           1\n",
       "Salaries                              1\n",
       "Admin Other Operating                 1\n",
       "Supp- Mtrls                           1\n",
       "EDUCATIONAL TRUST FUNDS               1\n",
       "DISTRICT WIDE COPIER LEASE            1\n",
       "Elementary                            1\n",
       "Area Superintentents  -               1\n",
       "LEASE ADMINISTRATION                  1\n",
       "Supp &Materials                       1\n",
       "Materials & Supplies                  1\n",
       "STAFF DEVELOPMENT                     1\n",
       "ELECTION                              1\n",
       "Supp.- Materials                      1\n",
       "SUPPLIES & MATRLS                     1\n",
       "Name: Text_2, Length: 301, dtype: int64"
      ]
     },
     "execution_count": 17,
     "metadata": {},
     "output_type": "execute_result"
    }
   ],
   "source": [
    "df['Text_2'].value_counts()\n"
   ]
  },
  {
   "cell_type": "code",
   "execution_count": 18,
   "metadata": {},
   "outputs": [
    {
     "data": {
      "text/plain": [
       "Regular                                    94462\n",
       "Turnaround                                  7755\n",
       "Alternative                                 5299\n",
       "Charter                                      664\n",
       "New/Closed Schl                              623\n",
       "Other Materials and Supplies                  60\n",
       "Supplies for Instruction                      42\n",
       "Employee Travel                               41\n",
       "Staff Development                             39\n",
       "Professional and Contract Services            36\n",
       "Equipment for Operations                      27\n",
       "Other Services                                26\n",
       "Communication and IT Related                  22\n",
       "Allocations to Schools                        10\n",
       "Indirect Costs                                 8\n",
       "Equipment for Instruction                      7\n",
       "Insurance Related Expenses                     5\n",
       "Textbooks                                      4\n",
       "Transportation                                 3\n",
       "Rent                                           3\n",
       "Debt Transfers                                 2\n",
       "Other                                          2\n",
       "Voyager Expanded Learning                      1\n",
       "Trustee's Commissions                          1\n",
       "Dues / Memberships Not in Registrations        1\n",
       "Workers Compensation Charges                   1\n",
       "Other Services Misc                            1\n",
       "Periodicals, Office supplies Etc               1\n",
       "Compass Learning                               1\n",
       "ITEMFH                                         1\n",
       "Liability Charges                              1\n",
       "Project GRAD ofITEMFC                          1\n",
       "Distinguished Professionals of ITEMFC          1\n",
       "Autism Partnership                             1\n",
       "Name: Text_3, dtype: int64"
      ]
     },
     "execution_count": 18,
     "metadata": {},
     "output_type": "execute_result"
    }
   ],
   "source": [
    "df['Text_3'].value_counts()\n"
   ]
  },
  {
   "cell_type": "code",
   "execution_count": 19,
   "metadata": {},
   "outputs": [
    {
     "data": {
      "text/plain": [
       "Regular Instruction                                             10762\n",
       "Basic Educational Services - District Objective                  9481\n",
       "Undistributed                                                    7106\n",
       "Special Education Instruction                                    2892\n",
       "Regular Salary                                                   2157\n",
       "Regular Instructional Support                                    1899\n",
       "transportation - Second Runs                                     1852\n",
       "Transportation - Bus Drivers                                     1257\n",
       "Office of Principal                                              1072\n",
       "IDEA Part B                                                      1063\n",
       "Title I - Teachers                                                827\n",
       "Career & Technical Instruction                                    779\n",
       "Operation of Plant                                                648\n",
       "Race to the Top                                                   565\n",
       "Education Jobs Program                                            527\n",
       "Extra Duty                                                        454\n",
       "Teacher Advancement Program (TAP)                                 358\n",
       "IDEA Part B                                                       320\n",
       "Teacher Induction                                                 315\n",
       "Extra Duty Salary                                                 299\n",
       "Other Student Support                                             270\n",
       "Custodial - Substitutes                                           259\n",
       "Game Workers                                                      256\n",
       "Supp and Materials that do not require specific approval          255\n",
       "Special Education Support                                         232\n",
       "Alternative Schools Instruction                                   227\n",
       "transportation - aides, special ed.                               227\n",
       "Science Extended Day                                              218\n",
       "IDEA Part B ARRA                                                  188\n",
       "Parent Involvement                                                187\n",
       "                                                                ...  \n",
       "Title II D ARRA                                                     2\n",
       "COMMUNITIES IN SCHOOL                                               2\n",
       "Family Resource Center                                              2\n",
       "Report                                                              2\n",
       "Summer Bridge Middle                                                2\n",
       "COUNTY YOUTH SERVICES                                               2\n",
       "Assistive listening devices for students in hearing instruct        1\n",
       "Consultants to work with teachers                                   1\n",
       "Materials for EII Books, references, ideas, strategies              1\n",
       "Printers for diags and sp.ed counselors                             1\n",
       "Plato Program                                                       1\n",
       "Software scoring programs to score assessments                      1\n",
       "Surrogate Parents                                                   1\n",
       "RTTP Focus Schools                                                  1\n",
       "Visual Impairment Services                                          1\n",
       "CEIS Maintenance agreement w/ tech support for reading/math         1\n",
       "significant behavior                                                1\n",
       "Land Purchase                                                       1\n",
       "Title I Technology                                                  1\n",
       "Sufficient Size, Scope, and Quality                                 1\n",
       "Officials                                                           1\n",
       "Generic                                                             1\n",
       "School Coupon Books                                                 1\n",
       "STOCK                                                               1\n",
       "Consultants to work with diagnosticians and LSSP's                  1\n",
       "Student Management System for Special Education Students            1\n",
       "piano                                                               1\n",
       "RVAS                                                                1\n",
       "Cooperating Teacher Stipend                                         1\n",
       "Special Ed Transportation                                           1\n",
       "Name: Text_4, Length: 244, dtype: int64"
      ]
     },
     "execution_count": 19,
     "metadata": {},
     "output_type": "execute_result"
    }
   ],
   "source": [
    "df['Text_4'].value_counts()\n"
   ]
  },
  {
   "cell_type": "code",
   "execution_count": 22,
   "metadata": {},
   "outputs": [
    {
     "data": {
      "text/plain": [
       "Unnamed: 0                  int64\n",
       "Function                   object\n",
       "Use                        object\n",
       "Sharing                    object\n",
       "Reporting                  object\n",
       "Student_Type               object\n",
       "Position_Type              object\n",
       "Object_Type                object\n",
       "Pre_K                      object\n",
       "Operating_Status           object\n",
       "Object_Description         object\n",
       "Text_2                     object\n",
       "SubFund_Description        object\n",
       "Job_Title_Description      object\n",
       "Text_3                     object\n",
       "Text_4                     object\n",
       "Sub_Object_Description     object\n",
       "Location_Description       object\n",
       "FTE                       float64\n",
       "Function_Description       object\n",
       "Facility_or_Department     object\n",
       "Position_Extra             object\n",
       "Total                     float64\n",
       "Program_Description        object\n",
       "Fund_Description           object\n",
       "Text_1                     object\n",
       "dtype: object"
      ]
     },
     "execution_count": 22,
     "metadata": {},
     "output_type": "execute_result"
    }
   ],
   "source": [
    "# data prep\n",
    "LABELS = ['Function',\n",
    " 'Use',\n",
    " 'Sharing',\n",
    " 'Reporting',\n",
    " 'Student_Type',\n",
    " 'Position_Type',\n",
    " 'Object_Type',\n",
    " 'Pre_K',\n",
    " 'Operating_Status']\n",
    "\n",
    "df.dtypes"
   ]
  },
  {
   "cell_type": "code",
   "execution_count": 24,
   "metadata": {
    "scrolled": true
   },
   "outputs": [
    {
     "name": "stdout",
     "output_type": "stream",
     "text": [
      "Function            category\n",
      "Use                 category\n",
      "Sharing             category\n",
      "Reporting           category\n",
      "Student_Type        category\n",
      "Position_Type       category\n",
      "Object_Type         category\n",
      "Pre_K               category\n",
      "Operating_Status    category\n",
      "dtype: object\n"
     ]
    }
   ],
   "source": [
    "# Define the lambda function: categorize_label\n",
    "categorize_label = lambda x: x.astype('category')\n",
    "\n",
    "# Convert df[LABELS] to a categorical type\n",
    "df[LABELS] = df[LABELS].apply(categorize_label)\n",
    "\n",
    "# Print the converted dtypes\n",
    "print(df[LABELS].dtypes)"
   ]
  },
  {
   "cell_type": "code",
   "execution_count": 29,
   "metadata": {},
   "outputs": [
    {
     "data": {
      "image/png": "[encoded data removed]",
      "text/plain": [
       "<matplotlib.figure.Figure at 0x1250af8d0>"
      ]
     },
     "metadata": {},
     "output_type": "display_data"
    }
   ],
   "source": [
    "# Import matplotlib.pyplot\n",
    "import matplotlib.pyplot as plt\n",
    "\n",
    "# Calculate number of unique values for each label: num_unique_labels\n",
    "num_unique_labels = df[LABELS].apply(pd.Series.nunique)\n",
    "\n",
    "# Plot number of unique values for each label\n",
    "num_unique_labels.plot(kind='bar')\n",
    "\n",
    "# Label the axes\n",
    "plt.xlabel('Labels')\n",
    "plt.ylabel('Number of unique values')\n",
    "\n",
    "# Display the plot\n",
    "plt.show()"
   ]
  },
  {
   "cell_type": "code",
   "execution_count": 33,
   "metadata": {},
   "outputs": [],
   "source": [
    "import numpy as np\n",
    "\n",
    "def compute_log_loss(predicted, actual, eps=1e-14):\n",
    "    \"\"\" Computes the logarithmic loss between predicted and\n",
    "    actual when these are 1D arrays.\n",
    "\n",
    "    :param predicted: The predicted probabilities as floats between 0-1\n",
    "    :param actual: The actual binary labels. Either 0 or 1.\n",
    "    :param eps (optional): log(0) is inf, so we need to offset our\n",
    "    predicted values slightly by eps from 0 or 1.\n",
    "    \"\"\"\n",
    "    predicted = np.clip(predicted, eps, 1 - eps)\n",
    "    loss = -1 * np.mean(actual * np.log(predicted)\n",
    "                     + (1 - actual)\n",
    "                     * np.log(1 - predicted))\n",
    "    return loss"
   ]
  },
  {
   "cell_type": "code",
   "execution_count": 36,
   "metadata": {},
   "outputs": [],
   "source": [
    "correct_confident = np.asarray([ 0.95,  0.95,  0.95,  0.95,  0.95,  0.05,  0.05,  0.05,  0.05,  0.05])\n",
    "correct_not_confident = np.asarray([ 0.65,  0.65,  0.65,  0.65,  0.65,  0.35,  0.35,  0.35,  0.35,  0.35])\n",
    "wrong_not_confident = np.asarray([ 0.35,  0.35,  0.35,  0.35,  0.35,  0.65,  0.65,  0.65,  0.65,  0.65])\n",
    "wrong_confident = np.asarray([ 0.05,  0.05,  0.05,  0.05,  0.05,  0.95,  0.95,  0.95,  0.95,  0.95])\n",
    "actual_labels = np.asarray([ 1.,  1.,  1.,  1.,  1.,  0.,  0.,  0.,  0.,  0.])"
   ]
  },
  {
   "cell_type": "code",
   "execution_count": 37,
   "metadata": {},
   "outputs": [
    {
     "name": "stdout",
     "output_type": "stream",
     "text": [
      "Log loss, correct and confident: 0.05129329438755058\n",
      "Log loss, correct and not confident: 0.4307829160924542\n",
      "Log loss, wrong and not confident: 1.049822124498678\n",
      "Log loss, wrong and confident: 2.9957322735539904\n",
      "Log loss, actual labels: 9.99200722162646e-15\n"
     ]
    }
   ],
   "source": [
    "# Compute and print log loss for 1st case\n",
    "correct_confident = compute_log_loss(correct_confident, actual_labels)\n",
    "print(\"Log loss, correct and confident: {}\".format(correct_confident)) \n",
    "\n",
    "# Compute log loss for 2nd case\n",
    "correct_not_confident = compute_log_loss(correct_not_confident, actual_labels)\n",
    "print(\"Log loss, correct and not confident: {}\".format(correct_not_confident)) \n",
    "\n",
    "# Compute and print log loss for 3rd case\n",
    "wrong_not_confident = compute_log_loss(wrong_not_confident, actual_labels)\n",
    "print(\"Log loss, wrong and not confident: {}\".format(wrong_not_confident)) \n",
    "\n",
    "# Compute and print log loss for 4th case\n",
    "wrong_confident = compute_log_loss(wrong_confident, actual_labels)\n",
    "print(\"Log loss, wrong and confident: {}\".format(wrong_confident)) \n",
    "\n",
    "# Compute and print log loss for actual labels\n",
    "actual_labels = compute_log_loss(actual_labels, actual_labels)\n",
    "print(\"Log loss, actual labels: {}\".format(actual_labels)) \n"
   ]
  },
  {
   "cell_type": "code",
   "execution_count": null,
   "metadata": {},
   "outputs": [],
   "source": []
  }
 ],
 "metadata": {
  "kernelspec": {
   "display_name": "Python 3",
   "language": "python",
   "name": "python3"
  },
  "language_info": {
   "codemirror_mode": {
    "name": "ipython",
    "version": 3
   },
   "file_extension": ".py",
   "mimetype": "text/x-python",
   "name": "python",
   "nbconvert_exporter": "python",
   "pygments_lexer": "ipython3",
   "version": "3.6.4"
  }
 },
 "nbformat": 4,
 "nbformat_minor": 2
}
