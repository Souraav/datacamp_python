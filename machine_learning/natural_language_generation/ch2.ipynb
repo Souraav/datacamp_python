{
 "cells": [
  {
   "cell_type": "markdown",
   "id": "a0a5724e",
   "metadata": {},
   "source": [
    "# Chapter 2\n",
    "One disadvantage of the neural network courses is they run from very old versions. So following along in a local notebook is a painful experience of errors, followed by downgrade detective work. This doesn't work with tensorflow 2.\n",
    "\n",
    "Instead I create a new conda env called tensorflow v1 and python 3.6:\n",
    "<pre>\n",
    "conda create -n tensorflow\n",
    "conda activate tensorflow\n",
    "conda install py=3.6\n",
    "conda install tensorflow=1\n",
    "conda install jupyter ipykernel pandas keras matplotlib\n",
    "</pre>\n",
    "\n",
    "You then need to create a new kernel that uses this environment:\n",
    "<pre>\n",
    "conda activate tensorflow\n",
    "python -m ipykernel install --user --name tensorflow --display-name tensorflow\n",
    "</pre>\n",
    "\n",
    "Then you can pick or change the kernel in Jupyter by reloading the page."
   ]
  },
  {
   "cell_type": "code",
   "execution_count": 1,
   "id": "8063fc70",
   "metadata": {},
   "outputs": [
    {
     "name": "stderr",
     "output_type": "stream",
     "text": [
      "Using TensorFlow backend.\n"
     ]
    }
   ],
   "source": [
    "from keras.models import Sequential\n",
    "from keras.layers import Dense\n",
    "from keras.layers import LSTM\n",
    "import tensorflow as backend\n",
    "\n",
    "import numpy as np\n",
    "import pandas as pd\n",
    "import matplotlib.pyplot as plt"
   ]
  },
  {
   "cell_type": "code",
   "execution_count": 2,
   "id": "926faf6d",
   "metadata": {},
   "outputs": [
    {
     "name": "stdout",
     "output_type": "stream",
     "text": [
      "WARNING:tensorflow:From /home/bosullivan/miniconda3/envs/tensorflow/lib/python3.6/site-packages/tensorflow_core/python/ops/resource_variable_ops.py:1630: calling BaseResourceVariable.__init__ (from tensorflow.python.ops.resource_variable_ops) with constraint is deprecated and will be removed in a future version.\n",
      "Instructions for updating:\n",
      "If using Keras pass *_constraint arguments to layers.\n"
     ]
    },
    {
     "name": "stderr",
     "output_type": "stream",
     "text": [
      "/home/bosullivan/miniconda3/envs/tensorflow/lib/python3.6/site-packages/ipykernel_launcher.py:7: UserWarning: Update your `Dense` call to the Keras 2 API: `Dense(12, input_dim=8, activation=\"relu\", kernel_initializer=\"uniform\")`\n",
      "  import sys\n",
      "/home/bosullivan/miniconda3/envs/tensorflow/lib/python3.6/site-packages/ipykernel_launcher.py:10: UserWarning: Update your `Dense` call to the Keras 2 API: `Dense(8, activation=\"relu\", kernel_initializer=\"uniform\")`\n",
      "  # Remove the CWD from sys.path while we load stuff.\n"
     ]
    }
   ],
   "source": [
    "## I had to remove init as this is no longer a paramter.\n",
    "\n",
    "# Create a sequential model\n",
    "model = Sequential()\n",
    "\n",
    "# Create a dense layer of 12 units\n",
    "model.add(Dense(12, input_dim=8, init='uniform', activation='relu'))\n",
    "\n",
    "# Create a dense layer of 8 units\n",
    "model.add(Dense(8, init='uniform', activation='relu'))"
   ]
  },
  {
   "cell_type": "code",
   "execution_count": 3,
   "id": "34dfe774",
   "metadata": {},
   "outputs": [
    {
     "name": "stdout",
     "output_type": "stream",
     "text": [
      "WARNING:tensorflow:From /home/bosullivan/miniconda3/envs/tensorflow/lib/python3.6/site-packages/tensorflow_core/python/ops/nn_impl.py:183: where (from tensorflow.python.ops.array_ops) is deprecated and will be removed in a future version.\n",
      "Instructions for updating:\n",
      "Use tf.where in 2.0, which has the same broadcast rule as np.where\n"
     ]
    },
    {
     "name": "stderr",
     "output_type": "stream",
     "text": [
      "/home/bosullivan/miniconda3/envs/tensorflow/lib/python3.6/site-packages/ipykernel_launcher.py:4: UserWarning: Update your `Dense` call to the Keras 2 API: `Dense(1, activation=\"sigmoid\", kernel_initializer=\"uniform\")`\n",
      "  after removing the cwd from sys.path.\n"
     ]
    }
   ],
   "source": [
    "# I had to replace backend.gradients with tf.GradientTape\n",
    "\n",
    "# Create a dense layer of 1 unit\n",
    "model.add(Dense(1, init='uniform', activation='sigmoid'))\n",
    "\n",
    "# Compile the model and get gradients\n",
    "model.compile(loss='binary_crossentropy', optimizer='adam')\n",
    "gradients = backend.gradients(model.output, model.trainable_weights)"
   ]
  },
  {
   "cell_type": "code",
   "execution_count": 5,
   "id": "fc92e679",
   "metadata": {},
   "outputs": [],
   "source": [
    "import tensorflow as tf\n",
    "\n",
    "# Create a dummy input vector\n",
    "input_vector = np.random.random((1,8))\n",
    "\n",
    "# Create a tensorflow session to run the network\n",
    "sess = tf.InteractiveSession()\n",
    "\n",
    "# Initialize all the variables\n",
    "sess.run(tf.global_variables_initializer())"
   ]
  },
  {
   "cell_type": "code",
   "execution_count": 6,
   "id": "64d56f98",
   "metadata": {},
   "outputs": [
    {
     "name": "stdout",
     "output_type": "stream",
     "text": [
      "[[3.6240563e-05]\n",
      " [4.6048790e-05]\n",
      " [0.0000000e+00]\n",
      " [1.3552972e-03]\n",
      " [5.4670061e-04]\n",
      " [0.0000000e+00]\n",
      " [2.5332368e-03]\n",
      " [4.0216104e-04]]\n",
      "[ 0. -0. -0.  0. -0. -0.  0. -0.]\n"
     ]
    }
   ],
   "source": [
    "# Evaluate the gradients using the training examples\n",
    "evaluated_gradients = sess.run(gradients,feed_dict={model.input:input_vector})\n",
    "\n",
    "# Print gradient values from third layer and two nodes of the second layer\n",
    "print(evaluated_gradients[4])\n",
    "print(evaluated_gradients[2][4])"
   ]
  },
  {
   "cell_type": "code",
   "execution_count": 163,
   "id": "f1896702",
   "metadata": {},
   "outputs": [],
   "source": [
    "text = \"that, poor contempt, or claim'd thou slept so faithful,\\ni may contrive our father; and, in their defeated queen,\\nher flesh broke me and puttance of expedition house,\\nand in that same that ever i lament this stomach,\\nand he, nor butly and my fury, knowing everything\\ngrew daily ever, his great strength and thought\\nthe bright buds of mine own.\\n\\nbiondello:\\nmarry, that it may not pray their patience.'\\n\\nking lear:\\nthe instant common maid, as we may less be\\na brave gentleman and joiner: he that finds us with wax\\nand owe so full of presence and our fooder at our\\nstaves. it is remorsed the bridal's man his grace\\nfor every business in my tongue, but i was thinking\\nthat he contends, he hath respected thee.\\n\\nbiron:\\nshe left thee on, i'll die to blessed and most reasonable\\nnature in this honour, and her bosom is safe, some\\nothers from his speedy-birth, a bill and as\\nforestem with richard in your heart\\nbe question'd on, nor that i was enough:\\nwhich of a partier forth the obsers d'punish'd the hate\\nto my restraints would not then be got as i partly.\\n\\nautolycus:\\nhath sat her love within this man, that was foul prayers\\nwhich are much thus from them with thee; i am not ever thought\\nto make that with a wise exclaim, as i am sure;\\nto say well like a dotage on the fixed cease,\\nand let mine eyes may straight sole sword conveyard,\\nthat dust-confounded by a land to their command\\nthen puissant with a grief's: it should be so and dead,\\ntill he shall fail his sister; and in true and good,\\nto see me for the other, hath not heard a midwife\\nloud from my service and thy sweetly daughter got\\nthe single strange words pent is all his steed:\\nstay from us in, as he hath we brought me into the milthiness.\\n\\nguiderius:\\nwhy, my lord,\\nshall not part well: but it shall have my hands;\\nlet us be taken that, thou weights return,\\nto mine ring ere i should be dangerous with a good way\\nto swear it: for the bears now he was kin to him,\\nbut then his own island's sister's all speech would deny\\nand force i grant it.\\n\\nabhorson:\\nthou art a very earth. villain, reserves my keeping.\\n\\ntalbot:\\n\\nking henry viii:\\nnow\\nto have lead for me;--\\n\\nkent:\\nbut yet ease yourself truly in the numbers,\\nif he be no talk at my death in the name of hot\\nyears. then that had not so far good general\\nto make with buried vacus arrest them.\\n\\ntimon:\\nstay, and the sere hath dangerous,\\ntoo grace: a sail, the breath of knees, broke deeds\\nwould do thy husband and alack to speak,\\nand pluck their men at thy abroad doth go.\\n\\ncassius:\\nand in desire,\\nand call'd me ballant cassius.\\n\\nbardolph:\\ntost in it, what then take your madder?\\n\\nduke of york:\\nshe would be ready, this advice, say you a chaste.\\n\\nsecond neris:\\nnow, blessed france, and with thy speech can know?\\n\\nantipholus of ephesus:\\nnot i: outlive, lady! philosophy, gentlemen;\\nupon our wrongs despised, i will not sit to thee\\nfrom duke of gloucester's name:\\nlook thee, and thee but wear my noblemans.\\n'bandible pardon of a thousand embure hath contemn'd\\nin uneven day and bend unkind of post.\\n\\najax:\\no mattle! these strict cuttances cut\\nit down; for i had slept my fellow, to said 'i\\nhave found your lordship hope.\\n\\nmark antony:\\nhow! i have done them to you; i would\\nto sose a minute that way is, the ingrateful brook.\\n\\nmarcellus:\\ntell us to break it, for i hear not every shore.\\ndeny thee, sir; i must bear him to run; i'll put him\\nfrom dangerous and happy judgments for't, they wretch\\ntheir qualities with death together, and take not his sword.\\n\\ndemetrius:\\ncome, go thy wreck; for now, aumerle, do i know but\\nthe valiant world before i fear; and make no cause\\nin bristing sorry and behold your friend;\\nbut, with my deed, i do not threw you boy.\\n\\nking idar willoughby:\\no, then wouldst thou speak with me.\\n\\ngower:\\npoor queen, leave them along at.\\n\\ncapulet:\\nno, good sir,\\nand make a pen and meeding down, trouble me\\nhere provide it: your breast of any other use\\nwearing behind the old looks of a man begin:\\nbut, for your city, as the cases of the art\\ni have held to go to you.\\n\\nvalentine:\\nsir, in state, then tell me which are never fall'n.\\n\\ncaesar:\\n\\nsecond murderer:\\nmy lord, if virtuous scotland! is good chamber to\\nthe shepherd.\\n\\nsecond murderer:\\nhe is like to let her go.\\n\\nnorfolk:\\nwe'll come by thy sweet brother.\\n\\nhelena:\\ndid you be more: he, that is entreatable,\\nfrom rutland's island,' to him, it is not of beauty:\\nif they your heart's a fixed, sea-good wife,\\nsince one had robb'd himself here in this ready bull\\nfrom which be done to-night: there shall his wife\\nguards conistering on their faction.\\n\\nbassanio:\\nhe did not come to hope a friar, and is the farewell: then\\ni knew we are bloody:\\nthereof must not undo a wrong of thee, they pluck\\ntheir sighs and down an empty love.\\n\\nsecond gentleman:\\nfor france and thersitania would kill our solemnity\\nthat know not, i beseech you, but, as i will fear to\\nplease two will i cannot hear, sir.\\n\\ncountess:\\nwhat, my master may be potent; and in this ancient face i\\nowed! here came not what i should love myself so and\\nset, to a brook-gast that thyself will eat an excellent time.\\n\\nmalvolio:\\nsay, good sir john, when i was fair again,--\\n\\nemilia:\\nbut here is dead.\\n\\nmalvolio:\\nnow she was still e'er 'good, if no bloody difference:\\nand be it like to have thee fought: and line my master,\\nthou bear'st an honour there by ten, you do go, sweet god,\\nthis we do not be proud to us; wemper i do not.\\n\\nglendower:\\ni'll see thine eyes: my best, though not construct\\nthe saying with a friend, i will have my\\nabout my heart with thee, lord talbot, and so reason\\ni would not bear their swiftness for the world.\\n\\nking john:\\ntrue mother, and all and a woman's house,\\nif my true amen is full of gold, i shall be peerled\\nfrom my husband.\\n\\nlucius:\\n'tis the loyal soul but a free demural youth,\\nit is the chain that slew that vision.\\n\\ncleopatra:\\no the fight of hope, madam!\\n\\nfalstaff:\\nthen she's but fall of no dullar's fault,\\nlet them ask from the guilty place: master ford.\\no, confess you i would not chid myself out of fame in the deliberate,\\nno more men, it is all together.\\n\\najax:\\ni know not what.\\n\\nhost:\\nper me, 'tis babble. here be not as he was bed:\\nunrunish and had stormed upon me here by that:\\nso i should so slire their own, or two youth's seems,\\nfor england would rest in paris!\\n\\ncassio:\\n\\ncelia:\\n'tis an effect since you must find you, there is some\\nmaster alike.\\n\\ngloucester:\\nopen them for thy heart, back again. are you\\nhope to use? prithee, let him go, brutus. so much it is;\\ncount was of day, and i must raise a layful peace.\\n\\ncoriolanus:\\nlet us would see our ripe.\\n\\nmark antony:\\ni might have stay'd, and i met your triumphant cousin;\\nand in the world,\\nwhose parties, that it were two bodies, to discharge\\na glumber to a perfect tower.\\n\\noctavius caesar:\\na part to the tame.\\n\\nbalthasar:\\nas i have all the very line, that gave me your highness,\\nwhere you will hear the single spirit of my business,\\nplant down flives on your son, and even\\nand open with their own conusteries; and thinking\\nyour grave ship should ne'er break humphrey's eyes,\\ni am poor dear party to make his chamber\\nand hospish shameless frozen pride. here name,\\nand light in plot legely in whom i said,\\nglimmed by an argument of it sweet fears your other mouth,\\nsuch a great estimation would be run as this,\\n'tis fit for them, 'tis talk before yourselves.\\n\\nking henry v:\\nand i must not see her, but go'st with unhappy woe.\\n\\nking john:\\nby paris, it was fair.\\n\\nduchess:\\nnay, i'll ever throw his honour.\\n\\nothello:\\ngood morrow, amen.\\n\\ncressida:\\nto stop the great streets follow your grace which i shall not,\\nand scruple him thou art a sit and still so straight.\\n\\nking lear:\\none loyal of my love, the wedding-body touchest thee: i pray,\\nhenceforwards, and submiss the truth! though my throne\\nlives as mock'd my pardon with some untold\\nattore sack lop and shrum' them up:\\nbut be preserved with spirits, so brimfibed again!\\nmy voices were so early, i was enough.\\n\\nmacbeth:\\nthen let him withdraw them debour to branch ere any any\\nday, but to prevail'd be penny of a merry tongue\\nwhich the exploits of fools look with their veins.\\n\\nking lear:\\nthat bell beseems my wife at all, and i canst thou\\nsee. how! lend me your part.\\n\\nbanquo:\\ndoth a wonderful maletration with mine torch,\\nthe bloody kingdom rogue as his condemn'd\\nmay dares respect it not? let you have bound quite straight;\\nwhich is a child should buy, whose noble occasion\\nhath so impudent, or without his life,\\nare then she will be married with my words,\\nand he that keeps some suitors in the cases,\\nand in their heart shall break thy bloody load with over\\nas every man is much between a sign\\nshould show angerous brother o' the tower; whilst we present\\nby our continual gates, the justice' enemy.\\n\\nsicinius:\\no, be no more;\\nthen french all letters indeed be bound from our fair:\\nif not, she says the fair and left highest branch, a gentleman,\\nso praised are unvile without their eye by other\\nbut on that ground i know the likey.\\n\\nqueen elizabeth:\\nwhy, each man shall, as i am choked to see it,\\nwhiles nature between fanny they are a little of the fault\\nand lightly read them thus; and her well-met,\\nwhiles we have been upon his son blind damned on thy bonds.\\n\\nsecond citizen:\\nno.\\n\\nfirst lord:\\nremoved, i cannot speak no host;\\nbut to be loath amazed,--go parted hands, i know not,\\nmarshally, are vile haste in the noble hand,\\nso used as one and naked husband, the stars, not one cassius,\\nand in thy offer'd bone in silent trifles,\\nwho should unquiet, to me shall do me commanded\\nfor his rise in the present peace. but know'st thou\\nbring me my love? were all these sleep command.\\nwhat had thy hand your wit and conceit's bed?\\ndoth it not find, so they are too dangerous,\\nwhen diomed had he choked low nor with your daughter than hecuba?\\n\\nsecond lord:\\nis all his oaths? he that seems children that take\\ntheir defendant; she his name,\\nthou shouldst eat theirs to speak to day, indeed:\\nby my troth, lord, i know, have drunk my welcome,\\nunless that seemeth of the table, cousin hubert,\\nwith present obedience claughter'd with her,\\nof\""
   ]
  },
  {
   "cell_type": "code",
   "execution_count": 309,
   "id": "696ae755",
   "metadata": {},
   "outputs": [],
   "source": [
    "from urllib.request import urlretrieve\n",
    "import re\n",
    "\n",
    "url = 'https://assets.datacamp.com/production/repositories/5286/datasets/2b130693c9bd45c528b60fa9efbf5148a3ff14e5/shakespear.txt'\n",
    "file = 'shakespear.txt'\n",
    "\n",
    "urlretrieve(url, file)\n",
    "\n",
    "text = ''\n",
    "with open(file, 'r') as f:\n",
    "    text = f.read()\n",
    "    text = text.lower()\n",
    "    #text = re.sub('\\n\\n','\\n', text)\n",
    "    #text = re.sub('\\n', ' ', text)"
   ]
  },
  {
   "cell_type": "code",
   "execution_count": 310,
   "id": "a43d03ee",
   "metadata": {},
   "outputs": [
    {
     "data": {
      "text/plain": [
       "\"that, poor contempt, or claim'd thou slept so faithful,\\ni may contrive our father; and, in their defeated queen,\\nher flesh broke me and puttance of expedition house,\\nand in that same that ever i lament this stomach,\\nand he, nor butly and my fury, knowing everything\\ngrew daily ever, his great strength and thought\\nthe bright buds of mine own.\\n\\nbiondello:\\nmarry, that it may not pray their patience.'\\n\\nking lear:\\nthe instant common maid, as we may less be\\na brave gentleman and joiner: he that finds us with wax\\nand owe so full of presence and our fooder at our\\nstaves. it is remorsed the bridal's man his grace\\nfor every business in my tongue, but i was thinking\\nthat he contends, he hath respected thee.\\n\\nbiron:\\nshe left thee on, i'll die to blessed and most reasonable\\nnature in this honour, and her bosom is safe, some\\nothers from his speedy-birth, a bill and as\\nforestem with richard in your heart\\nbe question'd on, nor that i was enough:\\nwhich of a partier forth the obsers d'punish'd the hate\\nto my restraints would not then be got as i partly.\\n\\nautolycus:\\nhath sat her love within this man, that was foul prayers\\nwhich are much thus from them with thee; i am not ever thought\\nto make that with a wise exclaim, as i am sure;\\nto say well like a dotage on the fixed cease,\\nand let mine eyes may straight sole sword conveyard,\\nthat dust-confounded by a land to their command\\nthen puissant with a grief's: it should be so and dead,\\ntill he shall fail his sister; and in true and good,\\nto see me for the other, hath not heard a midwife\\nloud from my service and thy sweetly daughter got\\nthe single strange words pent is all his steed:\\nstay from us in, as he hath we brought me into the milthiness.\\n\\nguiderius:\\nwhy, my lord,\\nshall not part well: but it shall have my hands;\\nlet us be taken that, thou weights return,\\nto mine ring ere i should be dangerous with a good way\\nto swear it: for the bears now he was kin to him,\\nbut then his own island's sister's all speech would deny\\nand force i grant it.\\n\\nabhorson:\\nthou art a very earth. villain, reserves my keeping.\\n\\ntalbot:\\n\\nking henry viii:\\nnow\\nto have lead for me;--\\n\\nkent:\\nbut yet ease yourself truly in the numbers,\\nif he be no talk at my death in the name of hot\\nyears. then that had not so far good general\\nto make with buried vacus arrest them.\\n\\ntimon:\\nstay, and the sere hath dangerous,\\ntoo grace: a sail, the breath of knees, broke deeds\\nwould do thy husband and alack to speak,\\nand pluck their men at thy abroad doth go.\\n\\ncassius:\\nand in desire,\\nand call'd me ballant cassius.\\n\\nbardolph:\\ntost in it, what then take your madder?\\n\\nduke of york:\\nshe would be ready, this advice, say you a chaste.\\n\\nsecond neris:\\nnow, blessed france, and with thy speech can know?\\n\\nantipholus of ephesus:\\nnot i: outlive, lady! philosophy, gentlemen;\\nupon our wrongs despised, i will not sit to thee\\nfrom duke of gloucester's name:\\nlook thee, and thee but wear my noblemans.\\n'bandible pardon of a thousand embure hath contemn'd\\nin uneven day and bend unkind of post.\\n\\najax:\\no mattle! these strict cuttances cut\\nit down; for i had slept my fellow, to said 'i\\nhave found your lordship hope.\\n\\nmark antony:\\nhow! i have done them to you; i would\\nto sose a minute that way is, the ingrateful brook.\\n\\nmarcellus:\\ntell us to break it, for i hear not every shore.\\ndeny thee, sir; i must bear him to run; i'll put him\\nfrom dangerous and happy judgments for't, they wretch\\ntheir qualities with death together, and take not his sword.\\n\\ndemetrius:\\ncome, go thy wreck; for now, aumerle, do i know but\\nthe valiant world before i fear; and make no cause\\nin bristing sorry and behold your friend;\\nbut, with my deed, i do not threw you boy.\\n\\nking idar willoughby:\\no, then wouldst thou speak with me.\\n\\ngower:\\npoor queen, leave them along at.\\n\\ncapulet:\\nno, good sir,\\nand make a pen and meeding down, trouble me\\nhere provide it: your breast of any other use\\nwearing behind the old looks of a man begin:\\nbut, for your city, as the cases of the art\\ni have held to go to you.\\n\\nvalentine:\\nsir, in state, then tell me which are never fall'n.\\n\\ncaesar:\\n\\nsecond murderer:\\nmy lord, if virtuous scotland! is good chamber to\\nthe shepherd.\\n\\nsecond murderer:\\nhe is like to let her go.\\n\\nnorfolk:\\nwe'll come by thy sweet brother.\\n\\nhelena:\\ndid you be more: he, that is entreatable,\\nfrom rutland's island,' to him, it is not of beauty:\\nif they your heart's a fixed, sea-good wife,\\nsince one had robb'd himself here in this ready bull\\nfrom which be done to-night: there shall his wife\\nguards conistering on their faction.\\n\\nbassanio:\\nhe did not come to hope a friar, and is the farewell: then\\ni knew we are bloody:\\nthereof must not undo a wrong of thee, they pluck\\ntheir sighs and down an empty love.\\n\\nsecond gentleman:\\nfor france and thersitania would kill our solemnity\\nthat know not, i beseech you, but, as i will fear to\\nplease two will i cannot hear, sir.\\n\\ncountess:\\nwhat, my master may be potent; and in this ancient face i\\nowed! here came not what i should love myself so and\\nset, to a brook-gast that thyself will eat an excellent time.\\n\\nmalvolio:\\nsay, good sir john, when i was fair again,--\\n\\nemilia:\\nbut here is dead.\\n\\nmalvolio:\\nnow she was still e'er 'good, if no bloody difference:\\nand be it like to have thee fought: and line my master,\\nthou bear'st an honour there by ten, you do go, sweet god,\\nthis we do not be proud to us; wemper i do not.\\n\\nglendower:\\ni'll see thine eyes: my best, though not construct\\nthe saying with a friend, i will have my\\nabout my heart with thee, lord talbot, and so reason\\ni would not bear their swiftness for the world.\\n\\nking john:\\ntrue mother, and all and a woman's house,\\nif my true amen is full of gold, i shall be peerled\\nfrom my husband.\\n\\nlucius:\\n'tis the loyal soul but a free demural youth,\\nit is the chain that slew that vision.\\n\\ncleopatra:\\no the fight of hope, madam!\\n\\nfalstaff:\\nthen she's but fall of no dullar's fault,\\nlet them ask from the guilty place: master ford.\\no, confess you i would not chid myself out of fame in the deliberate,\\nno more men, it is all together.\\n\\najax:\\ni know not what.\\n\\nhost:\\nper me, 'tis babble. here be not as he was bed:\\nunrunish and had stormed upon me here by that:\\nso i should so slire their own, or two youth's seems,\\nfor england would rest in paris!\\n\\ncassio:\\n\\ncelia:\\n'tis an effect since you must find you, there is some\\nmaster alike.\\n\\ngloucester:\\nopen them for thy heart, back again. are you\\nhope to use? prithee, let him go, brutus. so much it is;\\ncount was of day, and i must raise a layful peace.\\n\\ncoriolanus:\\nlet us would see our ripe.\\n\\nmark antony:\\ni might have stay'd, and i met your triumphant cousin;\\nand in the world,\\nwhose parties, that it were two bodies, to discharge\\na glumber to a perfect tower.\\n\\noctavius caesar:\\na part to the tame.\\n\\nbalthasar:\\nas i have all the very line, that gave me your highness,\\nwhere you will hear the single spirit of my business,\\nplant down flives on your son, and even\\nand open with their own conusteries; and thinking\\nyour grave ship should ne'er break humphrey's eyes,\\ni am poor dear party to make his chamber\\nand hospish shameless frozen pride. here name,\\nand light in plot legely in whom i said,\\nglimmed by an argument of it sweet fears your other mouth,\\nsuch a great estimation would be run as this,\\n'tis fit for them, 'tis talk before yourselves.\\n\\nking henry v:\\nand i must not see her, but go'st with unhappy woe.\\n\\nking john:\\nby paris, it was fair.\\n\\nduchess:\\nnay, i'll ever throw his honour.\\n\\nothello:\\ngood morrow, amen.\\n\\ncressida:\\nto stop the great streets follow your grace which i shall not,\\nand scruple him thou art a sit and still so straight.\\n\\nking lear:\\none loyal of my love, the wedding-body touchest thee: i pray,\\nhenceforwards, and submiss the truth! though my throne\\nlives as mock'd my pardon with some untold\\nattore sack lop and shrum' them up:\\nbut be preserved with spirits, so brimfibed again!\\nmy voices were so early, i was enough.\\n\\nmacbeth:\\nthen let him withdraw them debour to branch ere any any\\nday, but to prevail'd be penny of a merry tongue\\nwhich the exploits of fools look with their veins.\\n\\nking lear:\\nthat bell beseems my wife at all, and i canst thou\\nsee. how! lend me your part.\\n\\nbanquo:\\ndoth a wonderful maletration with mine torch,\\nthe bloody kingdom rogue as his condemn'd\\nmay dares respect it not? let you have bound quite straight;\\nwhich is a child should buy, whose noble occasion\\nhath so impudent, or without his life,\\nare then she will be married with my words,\\nand he that keeps some suitors in the cases,\\nand in their heart shall break thy bloody load with over\\nas every man is much between a sign\\nshould show angerous brother o' the tower; whilst we present\\nby our continual gates, the justice' enemy.\\n\\nsicinius:\\no, be no more;\\nthen french all letters indeed be bound from our fair:\\nif not, she says the fair and left highest branch, a gentleman,\\nso praised are unvile without their eye by other\\nbut on that ground i know the likey.\\n\\nqueen elizabeth:\\nwhy, each man shall, as i am choked to see it,\\nwhiles nature between fanny they are a little of the fault\\nand lightly read them thus; and her well-met,\\nwhiles we have been upon his son blind damned on thy bonds.\\n\\nsecond citizen:\\nno.\\n\\nfirst lord:\\nremoved, i cannot speak no host;\\nbut to be loath amazed,--go parted hands, i know not,\\nmarshally, are vile haste in the noble hand,\\nso used as one and naked husband, the stars, not one cassius,\\nand in thy offer'd bone in silent trifles,\\nwho should unquiet, to me shall do me commanded\\nfor his rise in the present peace. but know'st thou\\nbring me my love? were all these sleep command.\\nwhat had thy hand your wit and conceit's bed?\\ndoth it not find, so they are too dangerous,\\nwhen diomed had he choked low nor with your daughter than hecuba?\\n\\nsecond lord:\\nis all his oaths? he that seems children that take\\ntheir defendant; she his name,\\nthou shouldst eat theirs to speak to day, indeed:\\nby my troth, lord, i know, have drunk my welcome,\\nunless that seemeth of the table, cousin hubert,\\nwith present obedience claughter'd with her,\\nof when the time upon their safety,\\nwhom my reporter's faces, he hath told me,\\nwhen he had come not distracting all prospero.\\n\\naeneas:\\no thou man, a traitor for myself and hector's hatch!\\nfit happy life in civil stone, and were a wonder'd point,\\nto make news et this dolour here, my liege, and wise\\nhigh run with princes: some content, run cold to be\\nthe measure of the manage of a glorious charge.\\nsir, i'll asleep.\\n\\nmercutio:\\ni would not regreet but your tribunes suffoce you?\\n\\nthird gentleman:\\nyour cousin sir john northumberland that loves me well,\\nand it comes royal and most inservant.\\n\\nemilia:\\npardon me, madam;\\nin best take it not to the sun as soonman's stomach\\nthat why he says this as he famished the nurse\\nto beat purpose to make the passage of their sweetest knights:\\npluck not a huntred feebleness, subdued his title,\\ni'll walk my hands, my heart thou swear'st from thee.\\n\\nduke vincentio:\\nrust not all trazards, that thou hast he not glad me\\nand so shine and two of our book, sir: i saw 'em\\nin what is pipe of smock, perform'd,\\nmust join'd to the unto the noving bear;\\nfrom bringing winged one is recreantly,\\nin peace, to make a field\\nthat i have wounded what shall have with other head.\\ngive me thy recompense are out of death,\\nor else resolved too ground.\\n\\nlieutenant:\\nhow fares thee to command? do it so.\\n\\npistol:\\nstrumpet from my name, unto't, philomelius, lay the garland.\\ngood caesar, sweet good stocks, and marry with her words in thy\\nproud people, if he want all unhappy sights. revenge\\nto be so means to you and honour for my flesh.\\n\\najax:\\nfair woes, i'll never play the further kind;\\nbut who's the prey by thy shoulder, and only\\nmore such gold of such a point of soldier and the got?\\n\\nking philip:\\npeace, you had not the subjects laughman's\\ncrown! o, sir, i am the house. be here in the king.\\n\\nsecond lord:\\nthat thinkest a showledge, you will make him a\\nmonth better than you are causes again he's a dog\\nthat i may say: you are every beached and courtier.\\n\\nbrutus:\\nno, cail so privy of her face, and that he may\\ncharge any thing i' the leader here about his offers;\\nto stoop upon good hands waits and dispite out of our mother\\nand now, had offer of themselves; indifferents,\\nwhy dost thou sting the noble house in thy household shepherd,\\nbolder'd in coveration, whose offence were peer\\nbeseeming in that packet speakings more than are to-night;\\nor gives the minds with lawyers, greatness, o,\\nmy son, i would have flatter'd and with thee\\nand mine enemy, but now the noblest hope will never read,\\nsend daggers of their government,\\nthat ever passion doth on portent should have feed\\nto try the soldiers, lords, quick lets, we wish their palms:\\nand leave thee, and another than should have her cause\\nthree taking circumstance.\\n\\nimogen:\\nby romeo, i will strike without state.\\n\\niago:\\nsir, you are put a mirror.\\n\\noctavius caesar:\\ncome, fellow, call my lips before the law of arms,\\nwhilst we may wherefore take thy judgment out of nature,\\nand do you, ere come in heaven, lord bohemia!\\n\\nantonio:\\nhere comes capulet.\\n\\ncassius:\\ni cannot please you to my lord; you lose earthly days,\\nbut in thine own rather, be not but a army of my reputation.\\n\\nsir toby belch:\\ntrue, sirrah; let us blame it too: i can do as good a paish\\nthat adders as you are, comes hither.\\n\\nduke of york:\\nmost prince, i do not dare my lord;\\nnor not by leave again, sir.\\n\\nlady macbeth:\\nit is not to be so.\\n\\nrosalind:\\nstay, gentle judgment, he was seen a state\\nis worthy patience: execute them,\\nand i prithee, gentlemen: it came command by mercutio,\\nbut on that king hath heard us fall, who knows to pieces\\nby angry vassals.\\n\\ncrimon:\\no ho! he's a four and terrible breath, good night,\\non my man went a father as his language,\\nshe hath thy noble plucking and believed powers\\nunder the mind thereof, unless thou means to-night,\\nand feed it by a man's reports, the debtor shall\\nbe stroked from the hunter with this frower,\\nwhen one is not yesterday as falsely disclose in feast\\nof this no more than as thou shouldst not bear.\\nif she were never made by thee,\\nthe ensue of london of lusty island even to the point,\\nthe rax of rome?\\n\\nwarwick:\\nyare greatness of good man; for for expension that\\nis right that he beguiled this toil,\\ncontempt before your sacred soul, it is more devil to\\nbe possess'd, this like himself i full before\\na moderate ship's fantasy to be unto your honour.\\n\\ntranio:\\ntherefore thou art wife no mean nor convenient kingdom\\nand did himself said now:\\nbut father night hath been a joy with gallant by--\\no, with my infant, by the seas of kind of norfolk,\\nhath firm and wind that physic pantion us\\nranged the realm of each dug of the earth!\\nbe therefore you repent me with the state subdue\\nand swears my sister up again! thy heart\\nthey will bear thanks; for now abated with thee,\\nthe malice and tongue guilty of it owed by thee\\nthat teaching the heavier fates of death of grace\\nas i chid the poor hair to kiss our field;\\nmeat thou before the seven blow with letters out,\\nand turn my virtues are ourselves; there are ye dead;\\nand melted legs contracted in such ones,\\nsome beer whose aim must be supposed both blind.\\n\\nisabella:\\na warrior of the sway.\\n\\nsir hugh evans:\\nfor all things thou hast eating, as helen is call'd hermia and\\nlife for well-discretion o'er the way.\\n\\nsicinius:\\nnever to discredit you, my master.\\n\\ndon adriano de armado:\\nnow, what's the matter?\\n\\ntheseus:\\nwe may washed her: there's\\nmost conduct but a spirit of horns.\\n\\nhostess:\\ncome, my lord;\\nhow does the proper country's wife? to the cure of saint,\\nby beggars again with this, i have a fellow too, that which\\noaths besides himself in kissed body too.\\n\\ntranio:\\ni hear excellent words for you that the 'gainst\\nthe whoreson fair saturnine. bark, i fear,\\ni am a tew, he throws me what to you;\\nthis is not titus.\\n\\nqueen margaret:\\n\\ncoriolanus:\\nthat we'll not look you now,\\nleave none rough things to do.\\n\\nsecond pirator:\\nthe thoughts are true, sir, a most rich above, that's your picture;\\nthe mood or policy we please yourself,\\nwhere thou wert glad hale deadly to too business; and\\nas shallow i am deliver'd in a king\\nthat i lamented this before they said the moon:\\nlet not my noble fortune to him with an arm?'\\n\\nmessenger:\\nay, sir, the seas of this same true\\nthe base circumstance and a swain doth give his daughter\\nto wedded me to be as he.\\n\\nemilia:\\nwhere is the loss, is his guilty eyes?\\n\\nduke vincentio:\\nwhat is this?\\n\\nsecond murderer:\\nthe realm of norfolk calls up votenarding man,\\nand bear you throne at lodging nor your wit?\\n\\nclown:\\nan one, sir, cannot have my title in a little clock:\\nyet, patch to hope, you will unlove,\\nto our two schoolmaster and your brutish and\\nthat evers hast thou: hear me, poor a hope,\\nwe nought conceive, i cannot have thee custom go.\\n\\ntitus andronicus:\\nshe doth to coriolanus.\\npoor french 'gainst my foot fear me no enough,\\nbut yet it peers from strings in dip in antony:\\nthe secret son, i would they know my buds,\\nsame murmured over?\\n\\nvalentine:\\nthe duke she will put on with their fallings;\\nhe's that the canopy of discovery and faithful friend.\\ndidst thou be your dear lord, with grief? o, let us call\\nmy wife, the earth! good morrow: for i'll see\\nremuneration.\\n\\nhamlet:\\nhe's the man.\\n\\ncaesar:\\ni am sure in every strange-day we meant a pound: i have\\nnot follow'd a tomb to this: why doth the face see?\\n\\nthird servant:\\nwhen a hurt loved i cannot show him hence,\\neven in any thing of crimes, though invitely it was a bare\\nspecial husband, who were\\nas fresh, such sweetly towers and night, which you\\ndo came in the right fable-service, will i lock.\\n\\naufidius:\\nthose that he's not, but i love him well best:\\nonce great, my lord! i ever lay downlight\\nthe inct of all my fellow, but the mother shall\\nconfused your peace to you and to the help.\\nwill, when i should have any words your child awhile\\nto men of heaven and thee, you let my scorn is fled:\\ni must not be again, but and as good as be her chin!\\n\\nathallot:\\ni will vessel it, 'tis unwell kept with you;\\nif i do better see, i would not begin, and in enfraction 's captive\\nand to die, villain, an exhibition not so habit. but i will\\nwear you are jealously, and i am a mouth of christenders.\\n\\nbaptista:\\nit was a great bond broke, and brought him to excuse.\\n\\nking philip:\\nand, if you know it, if he remember.\\n\\ncassius:\\nmistress a fellow, here in natural commoner, will you title?\\n\\nanne page:\\nthou need'st no supplied with me to rest him by him,\\nfor fortune not from loves too son to see the time\\nthat all the queen's commission into thy better;\\nthere's good that fought upon my sweet queen as the king\\nmay let her, wished with my bounties, soothsay\\nas i will ferring you. come, you are fear.\\n\\nhoratio:\\nsir, his shippus yuts so fast as vile as est.\\n\\nclown:\\nthou fortune twice will put for blood my father\\nbut talbot's death, an excellent and fepher's letter\\nlose panish and a second, and all to blood,\\nand blessing his pretty cause.\\n\\nbrutus:\\nwe do not take it, nurse.\\n\\nbedford:\\nmarry, see my porrest, good grecian; i'll not do\\nfrom my song till service you must outsage my daughter\\nof titanus' goodly interpretation together,\\nbehind them not.\\n\\nleonato:\\nwould you, for keeping they are even to control my comfort,\\nyours see the like an audient varlet.\\n\\ncressida:\\nfarewell, brutus, disordered neither by the world;\\nwould she was senting of his bosom, purpose!\\n\\nbrutus:\\neven to my sharp and goodly care by me that milan would\\nnot know some lists on our masters, and eat\\nthat glory should i show them cost my slave,\\nto raffed one another, they have weep'd by death.\\n\\nexeter:\\nnow macbeth shows a most high-dangerous monster;\\nthere i women should be might 'scaped them.\\n\\ncelia:\\nif you will mine, though i may presently be so.\\n\\nseepant:\\ni know our worthy care,\\nunless the boys themselves i hold upon it should\\nfrom varrons, sights cry them for sir john,\\ncould her son dare renish.\\nthou hast not made a several judgment and part,\\nand, call upon my mother's shadow's affairs;\\nthe which i'll write some lordship in my sword,\\nand drive be but my present cost,\\nor, by his eyeless toes, he's more proclamated for the world,\\nas i will take this rest between no man that himself\\nis trup some field.\\n\\ntalbot:\\nthou shalt put heavens bring out his patroclus.\\n\\nspeed:\\ni know not whither; for the most confidence\\nwas gaming merry weeping red, it and i am as dignity,\\nto slip it. good as familiars their remembrance\\nis crept, whose ancestor hath seen to my sword,'\\nwould queen is now, perdita's joy is a wall;\\nand, as a true, or break no friends a virtuous fortune,\\nour majesty's contemptuous armies.\\nwhat news?\\n\\nvalentine:\\nyes, my lord,\\n'twill not go word by banquet and as spirit, and altwinged\\nlike a strange princely honour, he should lose it here,\\nand tell them to to the clamorous tedious profession,\\nmany will not speak what the dissembling horrible assumes\\ndo golding well.\\n\\nmenenius:\\na very threatening mortal man,\\nand such a woman's loyal deserving name shoes it!\\n\\nsecond servant:\\nsailors hector; you shall not give life to make the delicate\\nmen here of my profit of motion.\\n\\nclaudio:\\nmadam, this same can kind my boy, master slender,\\nthat any man who has all dinner if every man\\nhad not expeditions from the audit, and\\ni will relieve your torchers; with the earth\\nhave with a speed that would not gain with took upon\\nthat maiden bondmaid mould, or i will pay\\nmamber of itself and fit, i was conspirable,\\nto ope a coward.\\n\\noctavius caesar:\\nif you cast those that rape and breathe me, sir.\\n\\ncleopatra:\\nhast thou vouchsafed with signior benedick, who comes,\\nsweet coronation, or our ships are up the carriage of\\nmodesty shall not be proud to sleep, and say 'though\\non him sir; and then, who's so amazed of a bosom which\\nyou in our noble kingdom is such wholesome father\\nin her conjecture of the gracious stars and self-behelding.\\n\\nking lear:\\no france, in evil so befall'n your worse,\\nthey chid her for our horsemen: honour to thy reason\\nwill soft us reverend in the right portial opinion;\\nor earl of wicked chimney had her love,\\nthan tell me, then, i'll light my way; whose seat\\nis but in me, that i of it was smoke could in my charge\\nsteeps in some time of him.\\n\\nmalvolio:\\nas i love them, since your hands we break some goodness.\\n\\nhenry bolingbroke:\\nhow should i, goodman wife? is there no cause?'\\none estate more than her distrust was sovereign;\\nand so was base as, to be banish'd by the day.\\n\\nwilliams:\\nmy lord, it were the motive lord antonio,\\nand for my mind did in a mountain grave\\nthat time may life your children to the ring of justice\\nand put them through their chairs and with thee, bully i\\nof twained orb and practises of melody\\nwas gilting compound things at me.\\n\\nthird gentleman:\\nshe hath done the door that desires for she\\nto-night. o, not to\\npray, and therefore i have been hang'd without many things.\\n\\nophelia:\\nthere's mine.\\n\\ntimon:\\nthat's my mischief, hath no pity yet bought to the good\\ndesire and ground to what thou wert in the sea,\\nso fair i do hear: i drunk for thee, and hear me not?\\n\\nangelo:\\nyet you'll come in?\\n\\nfirst senator:\\nnor after, i will, these are entertainment: the fellow of it seem'd\\nhe should be spoke with so he shall bring off.\\n\\ntroilus:\\nso peasantly, for the king's tent.\\n\\nduke vincentio:\\nsir, thy wife shall hurry my better; he is\\nmay with a ruudership as a napkin to them.\\n\\noberon:\\nthou know not. twenty loves, sir john,\\nand richard's head shall shake his head\\nand give a drop of jealousy, with vein importunite;\\nwhy, something but a king is angry. this blush'd monour\\nmakes us fair, et perdution; for i hear my daughter,\\nwhen we have drop on moon and fement to his extempority;\\nand shall he seem not in the sight of norfolk live such ground\\nmy tongue shall be brief in the fire that tend\\nparticular a due? mercy was your remain!\\n\\njohn of gaunt:\\nthen, if they shall not rid of thee! if he be hail'd,\\nthat would dispose two miles before thou hast not to make me\\nas he to worth compexaration with the city,\\nif i do now, that i shall, and fly, out of ferminence,\\nlies honourable, and the higher same chain;\\nand the king your request to charge me whither\\ndo you appear under goodly voice-his daughters,\\nthat shylock was anne page, or to leave\\nto bisk which drink with rome and purposes,\\nbeing in the king's nhambly fancy nor dimm'd,\\nas maidens the phoetician in the king,\\nand all in person, many ambassadors will in\\nfrance on, if there, as thou shalt break a rage\\ntill is the fire of world to sigh thee to their life,\\nthat i have granted her darest end to earnest:\\nnay, being aid there are as obsurding and open\\nas duty in the kingdom will propose\\ntheir milkings to their strength without discourse!\\nfie! i should ever bear the sleepy hand,\\na goodly master, wanton not for air:\\nbut i am like a walrer, bianca;\\nthough him be great in thine own opinion\\nwith embolling wars, while we found birth,\\nthat blinds was kind and hand, according in the advantage,\\nhoist and the gun's that drame every knave's offer\\nhath pray'd his husband drift and thinking.\\n\\nsebastian:\\nwith days,\\nmost talk of care it should be patient.\\n\\nmenenius:\\no, so. say you well, indeed,\\nhe shall not mine own peace gave you a stand.\\n\\nvarro's murderer:\\nwell, they say 'didst thou so? i must eat thee,\\ncome, queen; nor even as if you came to run,\\ncould not report for his chaft, as i shall bear against\\nthe grounds. i do beseech you, if you would hang.\\n\\nprovost:\\na proparable pitch could point prefer with you?\\n\\nduke of york:\\ni saw those tale of heaven that fled for thee.\\n\\nsurveyor:\\nbefore the deed, together, your face bear my throat\\nbut soldiers long is outscorn himself\\nto fashions of her icfortune up, the worst,\\nwho did consume me with the adversary-day,\\nwho cannot change, and be the writing, but not moulded\\nsome boy and oaks of wooer and bag that you would\\nher. but what's he like a misery? i swear behind\\nyou, because most ready i am so fraught up.\\n\\nbeatrice:\\nnow, by my troth, 'tis guilty on the ground.\\n\\ndostard caius:\\no man!\\n\\nanne page:\\nshall i cure me to give on our friends without great arm?\\n\\nnorfolk:\\nand tell me, provide her, good talbot.\\n i speak ere you will bring me thou go with me;\\ngo there with this.\\n\\nboatswain:\\na thousand penalty, madam, a extreme hip\\nwith your awoment of a coloured ingenious england,\\nrivers thus knowing this but horses, ceases riding,\\nto give my sad lady, and we show the fearful scourge\\nof do as singular in gageous poor suffer;\\nyour gentle lord hastings your strength\\nshall seethe it.\\n\\ntalbot:\\nalas, with him.\\n\\nmalvolio:\\nback not of all the practise of these trees\\nto three horrible city hungs in shrift,\\nthat romeo wear you in the court shall could restore\\nto come anon: therefore on this, we stand from any man's\\na future's dependance: of your own side\\nin ireland, i will prove between thee;\\nhath stolen for it on the poor innocent roman\\nthat turns the sisters to the soul of cretes under\\nand say it makes them tear and sit again.\\nthe sea fall into thy good brother\\nand would deliver such mine ears,\\nwith most nobles my master brought thee in his lives;\\nfor on the horse crown to the people's arms,\\nare best will take thy holy stroke in queen!\\ngood morrow, uncle margaret, gentlemen, let us have more\\nenglish to you.\\n\\ngloucester:\\nby your lordship,\\nwhen beauty hath descripted him: and then\\nhe hath not perpress'd our feeble english day to-morrow.\\n\\npage:\\nindeed, she's your will, and his profit.\\n\\ndesdemona:\\no god! so long i never draw,\\nthat every one were made his book, the wise of love!\\n\\nking henry viii:\\ncan you not?\\n\\nmacbeth:\\nbe not true. thy mistress of france hath my last love,\\nto have me as is your boy: you will watch you,--\\nand thus to fear,\\nthat is in every seized word ay, permit.\\n\\nchamberlain:\\nwhat never dare?\\n\\nbastard:\\nbeyond my foot of your own face, the volscian's\\nmother, her pursues were of your mother, since they are,\\ni am birm'd in my streets, that rich confers\\nwas not your new soeth going together:\\nat last, a voman, that he must outlive again,\\nto greatness and your friend to steal thee to.\\n\\npetruchio:\\ni think, come, that i was discretion, and they have seen\\ngo with me yet.\\n\\niago:\\nbut, i will make the marriage, sir.\\n\\nboyet:\\nay, sir john! and this was so many as the field\\nas i do my day's will be gone!\\n\\ntroilus:\\ni can no longer at thy hand:\\nthe weighty wind emity of a beard, the other help\\nthan you are jollofid all.\\n\\npistol:\\nbrother, let me make you the virtues tell you how\\nwere you the name of gloucester; by their men\\nflint honour confined, then i spake together,\\nand for the whole unhappy strains become thee: let\\nnot purpose cold before your knees do not;\\nand find a reasonable teeth, might be your answer: he\\nhath murder'd water and best bold to she was it.\\n\\nsecond servingman:\\n\\nhoratio:\\nthat's yet glad;\\nbut therefore never play hang back.\\n\\nedgar:\\nsound absence, lichard part!\\n\\nnurse:\\nay, if you do remain; and so you do.\\n\\ncinna:\\ni do not wish yourself, my lord; i knew the will:\\nmy friend is 'well; why shall your gait without this people?\\n\\nduke of york:\\n'tis cleft together!\\n\\nduchess of york:\\nand keep me fair that longest misbelieves any thing\\nart thou true.\\n\\nking john:\\nthe frond of strength i saw them wrongfully to arms.\\nsome pillows sing from you, for your very crimson and\\nlove for it.\\n\\nbeatrice:\\ni'll see your reason's fool, we will affright.\\n\\nlady macbeth:\\nhave you resolved?\\n\\nainel:\\nthat i did stay, if she might find to entertainment\\nthis number well as let them suffer her;\\nour doublet, if thou wouldst proceed again.\\n\\ndauphin:\\ntrue: o, i pray, away!\\n\\nnurse:\\npray you, do you will:\\nhenceforth high sweeter have done.\\n\\nearl of douglas:\\nfeed me by our exhibition? honour with thee,\\nfor 'tis so sweat, i saw thee strength.\\n\\nmistress quickly:\\nconquering the parliament of your army,\\nshe would not be your coming mad and come to know;\\nwe'll learn i lay the tune; but his brains of her day\\nas murder by your fair eyes, which his cause.\\n\\nclifford:\\nif these tedious happiness\\ncome in thy foot, with being short to drunk with her.\\n\\npage:\\nsir, it was a maid all; i pray you:\\nwith her disdain safe countrymen:\\nand therefore do i here but naples were too eed,\\nwe are won by.\\n\\nmarcus andronicus:\\ni will not withdraw, and to get thy brother's shame.\\n\\nking henry vi:\\ncome, my good lord.\\n\\nrosaline:\\nworse leawer, unless i play i do again to be behavior.\\n\\ntidings:\\nbut let me know not, but for your own face.\\n\\nyork:\\ni tell you, that's ild. come,\\ni have above these minding, that went peace,\\nbut as if i should go without proud truth, he reads had\\nbeen known to be thus named.\\n\\nkent:\\nand, he, lords, to fown your changes, but i hope\\ni was on me to-day,\\nbut if we now be she survived without his death,\\nor mine, and husband he was soon again:\\nhis sons be casted with the sadness of the guile:\\nwhen even thou art honourable and as bloody,\\nlook handled to their backs.\\n\\noswald:\\nfellow, thou art like wrong'd of man, and may i die.\\nunlove so but desire thee; phulish\\nand serve the show in language time a dream,\\nas they have here, or cur and late for you,\\nin grace of bruised vile, whose arm to-night\\nof most performance might be weigh'd about:\\nbut both appired i yield at clouds,\\nwas here as i should wall; come in this gentleman,\\nbut get no watch with me, first, to contrue of war;\\nwhich are disposition'd by wisdom to my end,\\nwhose very instrument o' the worst they claim,\\nand there was savage.\\n\\nduke of york:\\ni think what other lady shall we think the most as virtuous\\nwith some leman to thee deliver it?\\nha? he!\\n\\nking richard iii:\\nvaliant lady, i have heard the charging minister\\nof brains and address; and, precised his own times with his style;\\nand whether i was true, and dunghill so i would behold\\nmine elder grace to death.\\n\\nviola:\\nand i would grant thee, i'll not do him not.\\n\\ntroilus:\\ni must be so: and then your errand,\\ngive me a past, had them abused his choice;\\nwhich makes a prosperous cort of means choke\\nin deputy i deserved now to put alarum\\nto a slaver of my son, we are for death:\\nmarry, there was friend meet the next lord on his men.\\nsir, let him sigh through all thy soul, i ran to thee\\nthat must be my confined with an honesty upid,\\nwhich i am. chiron should not stir on faith.\\nthe coins are well eyes of this head.\\n\\nduchess of york:\\n\\nduke orsino:\\ncorrupt me to that army sword this point:\\na thousand are the stations fire, but 'an aim and\\ndiscourser of my void is drawn to you: but yet i\\nshall go since, and please your majesty.\\n\\nduke of york:\\ni'll poison friendship. i hope i was a truft or dost\\nhave made all good succeeding, and my praise i hope to love you:\\nbut here it could not, then.\\n\\nbrutus:\\nmore than the issue of bestowing stuff\\nas you would so be medicined.\\n\\ndiomedes:\\ngive me the deep:\\nif any part for gage; and, by deboth and pice, my lord,\\ndo you look you with your apparition, but your mother must say\\ni thought of noble happy spoils itself.\\n\\nfirst gentleman:\\ni prithee, bick away the parts of love:\\nif we are certain death to whom it smiles to tell me here,\\nthree hours meet like a fool that loved her; all,\\nof the conceit, and to these service rounded me.\\nyour bitter fortune, till you often are and toes that,\\nagainst the abject fit of safety with your coming.\\n\\nrosalind:\\nshe's publicly a fault, sir.\\n\\ncardinal:\\nip enamoused in his babe, he is but the stroke\\nof my true mettle.\\n\\nking of caesar:\\nlords, if a purpose were not very blind,\\nwere she not so much worth a hair: who doth tell him he hath\\nwith a hot for his grace to durish it on queen,\\nand send us for a word; and thus did you not\\nhave well obey'd him, but not helen's name.\\n\\nprovost:\\nthere are the heart of these you underneared:\\nlook to't!\\n\\npoet:\\nyou shall find it with message, you have brought me;\\nfor he to lay your blessings, i shall swear\\nhow many nobles might fall, tody call\\nthe bodies from the youth of men, and then,\\nperhaps and i perform his stirring, sometimes\\nis undergossed and induced: his nature\\nand hero's love was wlething of the walls.\\n\\nking john:\\nis it your ear shine?\\n\\nduchess:\\nsolons have no crown-hearted happier's heels.\\n\\nthird servingman:\\ndrunken with brutus, would he were a pride and spaces,\\nshrills even in with every little bad and king,\\nwhen beggar hath won the shadow which was none:\\nso were thou ranking, and will be the falcon but it;\\nand as thy german's grace is any woman must be.\\n\\ntimon:\\ndecrees, a sister: no less than i should clap on him.\\nif we protest not mine as nobly dead, like love it was\\never gloucester's thunder, he did dream\\nto be not for these leging of the mouths of wales.\\n\\nduke of aumerle:\\ncall me befall thee: what nuptial prince!\\n\\njoan la pucelle:\\ngood, sir, i say, and like a rank of mistress,\\nmy heart. give him thy womb,\\ngood sir, i would not for our daughter give:\\ntheir disable new marriage gives me thee,\\nhe does grace to the taper-board affected\\nchose money out of that time came along.\\ni cannot pluck with thee with the longest consliping gentleman.\\n\\nemilia:\\na man begot and take it away so the flight;\\nthere at the blessing of the judgment looks\\nthe old means where i see this linger:\\nthis drug from by disprezage and the rude\\nmoney mischance doth spleen our arms; but when i would\\nbear thy drum.\\n\\ncoriolanus:\\nwell, i am afreed at your majesty.\\n\\nproteus:\\nwhy beholding me, as in the enemy, then enraged\\nan argo of the poor labour in the place your deputy;\\nand breathe direct ground ere he all the widow,\\nto see run with all this, but swears to bear my heart.\\nyou have so confirmable disposition\\nthat will give you from many ambassadors, mighty labour\\nwill blow in all your fortunes in your king to-day,\\nand not an eslace.\\n\\nmalvolio:\\nsirrah, i will say whither.\\n\\nothello:\\ngive me the office in the head, my lord;\\nand know, the heavy catch are in it.\\n\\niago:\\na fresh philous,--\\n\\nfirst soldier:\\ntherefore, peace.\\n\\nclown:\\nand let thy wayward with him saw withal: we stay\\nyou all of your brave powerful vineyards,\\nwho you will hold me that you must, sir john.\\n\\nsir hugh evans:\\no marry, i'll raffet for death; this then a'd sport is\\nyour cambrake: the poor thrumble night at binnam\\ndoth snay the nether piece of heaven myself to see your\\nbear to condemn his company, without my heels,\\ni am sorry: and demand we are approach, or i have\\nfell a dream too, i warrant your way.\\n\\nthird lord:\\nwelcome, wilt thou be thus just, that too dangerously?\\n\\ntitus andronicus:\\nlet's have charge this as inkly for things to show\\nthat obey him. they say, i will.\\n\\nking henry v:\\nenough, one age, hope, be gone, sir, you must wear you\\nto jester to the duke of sunday ladies:\\ntheir face hath banished till execution of a shadow, and our beauty is not gone\\nin lamentance to all this entertainment.\\n\\nlovell:\\nis this within these things for a service.\\n\\nbawd:\\nthat way is not, i must be pitiful;\\nand, for the book; for i am thind, 'tis fled,\\nand yet the better threatens of the life brightly;\\nconsign together.\\n\\nalcibiades:\\nyes, sirrah, have i seldom living here;\\nand many of the gathers, though the streets i did,\\nwrought with a conquerer from my daughter, as your honour,\\ndrowsing the husband, more of lysander, the kingdom.\\n\\nnorfolk:\\nsir: would you do about his mother, take no light.\\n\\nportia:\\nmake that enneared in the loss of praise more disjack\\nas to say his fair grace so slow of thee.\\n'tis widow's ears and i'll seem flowering.\\n\\npisanio:\\n\\nspeed:\\n\\nhoratio:\\nhe wears no doubt for all this change of england.\\n\\nfirst gentleman:\\nhast thou gone very fair, courtier's\\nhigh kent, and make him swear like a husband.\\n\\nscrand:\\nand we conquer your grace of spirits with a knight,\\neven now a kingdom to your sake his house:\\nand where she needs break like a way,\\nlike ends and hills, use on my lord, seem it the longer\\nglove of rome to go his servants and unfold.\\n\\nporter:\\nyes, master robin gold, a schoolmaster beget:\\nif he be fence not to set on thine arm again,\\nthe footing unstay'd forlorn times we should\\nbe sacreds, countenance and one way that her coming\\nrevolt of all the morning ragged mutiny.\\n\\nsalanio:\\ndoth good abuse saint margaret yet speak love a foul\\nthat walked with people's order antony? come, thou\\nart manner or his staff, and they have been a man was\\nnot here; has we a husband, then, untid thy ever\\nstood together: i will have to tell her entertainment\\nwhen my gracious lord presently he shall swear.\\n\\nduke vincentio:\\nso farewell, or i will make him in one thing in the ear:\\nhere comes the shriety men again.\\n\\nlucio:\\n\\ndionyza:\\na harm ne'er did take me after one another,\\nthe messenger 'your hand is come to me.\\n\\nluciana:\\nhow now!\\n\\nsecond senator:\\nwell; and it is with her truth, her purposes be gone.\\n\\ncinna:\\nwere ye, sir, she'll hold him in;\\nto gold.\\nbut, thou!' for you are hers,\\nbut not your temples.\\n\\nanne page:\\nsweet widow, sit sweet sovereign,\\nfill from your tardy bloods, have brutus!\\nand to that daylight but it would not do you nor defend\\nthe dearest hand that kills your prince,\\nid's glad you call on you order, and your age\\nof love is to report herself an injury,\\nand no man stomach to my assurance,\\nis like to rue to wheats?\\n\\nsecond lord:\\ntherefore, i'll stain with my desires.\\nit is to bear our varlet, and not have been noised,\\nfor not disclose or laying from your draught a cheek;\\nbut now your grace was gambon in my death;\\nbut you two murders thoughts them knows to be,\\nthroice of my officers again.\\nthis we in a man sing, i would be a knave\\nthan do you go to you.\\n\\ncloten:\\ngood my lord, your knowledge leave you presently.\\n\\napemantus:\\ni think you shall be made; you shall make them appearance.\\n\\nking lear:\\ni am edward's life: we must deny the stem.\\n\\nfirst antonio:\\nnay, we banish us, sir, but this fool you are;\\nsir, so i was a kinder that thou never\\nkill'st to tremble: when he has the privilege creatures to\\nsee what is citizens a plain cur measure, with\\na goodness, that the gods from romery doe\\nhis breast-bold flatterers; to esemble\\nsun, condemn'd in his myill o'clock,\\nwhich thou but sensual being deep and easy welled\\nthat if he search the gloss of leaven.\\n\\nduke vincentio:\\nfollow,--o my issue friends up, and lady! you have silent all offences.\\n\\nclother:\\no, an i see, it would appear now!\\n\\nprince henry:\\ni pray your leisure, sir, she shall be resolute.\\n\\nwarwick:\\nshe will entreat me, and it begg'd upon this sea-day,\\nand maked us from me them. now, by my boy, and blame the last,\\nwhen i was but seen an undoublet 'is short and guilty,\\nthou liest, had wot to dinner to the king?\\nwhat, art thou faint?\\n\\ntroilus:\\nthe gods i did.\\n\\nofficer:\\nhow now, volume, which made the first device out of thy parents,\\ntakes up my way on thee! and fast'st thou in thy meaner name,\\nwhose words are in the place of this affair;\\nand in such obtainment shall never forswear\\nand the other give me brow o'er and hive called rust:\\nay, boy!\\ni do not call my father by her country's remedy,\\nby rome and the adverse occasions yet, our single sight,\\nand will command the day of all the hands.\\npray i, my lord; i will not speak.\\n\\nsecond lord:\\npresent we shall be habitable; and i think,\\n'being gone down such a seeming: i must appear yourself to friends.\\n\\nalbany:\\nno sir, and take him on.\\n\\npandarus:\\nso as you do?\\n\\nspeed:\\nmy lord art thou more than the day?\\n\\nimogen:\\nby my troth, i have his royal close's haste;\\nwherefore before he tells him this blessing why you did cry\\nso made a trumpet for no sword, and grow from thee;\\nand your most medry uncle milford's hand hath much undone,\\nand what a mighty peers are sold and thus,\\na man that open my good ranks, who thence,\\nwho moved those fierce withal hold vinegent of it;\\nand point their winks upon the time,\\nwhat drink, in his impeopleness an orderly entreat the well-black steed,\\nwhile no contemplation mocks to void them.\\n\\npandarus:\\ni'll prepare your chance.\\n\\nhastings:\\nwhy, this i am dead,\\nthe man of rome: there's at the emblace where i said\\nby eyes at accept, against the several earl of claudio be\\ngreat out and herble tritor then: turn for their hearts,\\nfrom the common tale as to thee shake;\\nwho is begun about his enemies and every feast\\nof whom we plot and colder knits the lines,\\nwhere it not was which now were enough,\\nbut study in this man: when i would proceed\\nonce perish'd between war, o' my breast like a man.\\n\\nmark antony:\\nwell, honourable under these two king here was\\nhope to no matter what ravenshead did i am.\\n\\nvolumnia:\\nthink others to this action, man,--\\n\\nfluellen:\\ni have as many hopes to be concluded, they have strain'd\\ni heard it beyond his ground, and let him go.\\n\\nprince henry:\\ni shall be at your hand, sir, to be sell'd by the hearing\\nof great deed.\\n\\nclaudio:\\nalas, commend me the part of my curse and none,\\ni'll none be brought, caius, shall please you sleap: i have\\ndiseased my bitter things, or shall you everthrow well,\\n'tis you shall so, bid the sight which might stand a leisure\\nbefore you should be melted as you have in language.\\n\\ncoriolanus:\\nwherefore, volscous?\\nhang you to-day? you cronk to say 'she's a most bloody use?\\ni had rather be made further; and they see were so up;\\ntherefore queen. i hear him to think he comes: i am consent,\\nbehind those all he's call'd, but we must directly. but when\\ndid he say this day lie and by. i heard, masters,\\ncomest thou our promise, therefore read it like\\nto steal thy favour with a tree, as who it writ\\nthe tuking or the cherubidling?\\n\\npistol:\\ngo satisfy thy thrifty promises.\\n\\nhenry bolingbroke:\\nto me:\\ni have a true extreme of his idol to nature,\\nthat whosore the hand shall prove, why, nor a writer,\\ni swear a baser's letter in our thorns, and woo'd\\narouse, as one of malvolio's death-lived minutes,\\ngo by a foolish envy to array'd,\\nand quickly come and trumpet all. thou shalt be,\\nit is great mistress; we will not constort thee all,\\nor triumph out therefore, which often stay'd my camp:\\nand let us make him coming; and we shall be appear\\nso long aboand, if not my head i hear: she will look consont\\nand make the steel and seem from ctedious angel,\\nand the compiction of their cut prate then:\\nsometimes the loves of barbarous good villain,\\nand, so between, we will all humours,\\nthat makes a foul and head: seem the arms for the your liberty,\\ntake thou no sight: what care i told, and make\\nan age he would embrace most city's shadow?\\n\\nseparator:\\nno more; if thou hast not been as he came.\\nthis heaged fiend and good time looks in sfellows\\nthe show of time-writ, of thy body fought,\\nher fall and men do it nothing at our determination ax this fish.\\n\\ngloucester:\\nthey are for our cold bald revenges a wind;\\nagainst our olland to her lustre nor annoy\\nto luens, and i am sure the third your sons.\\n\\nking philip:\\nmy lord.\\n\\ndoctor caius:\\nalack, and stand to the heavens and desired all\\nfor what with mountain blasting phrase or wonder\\nmakes lobes that stabb'd thy cousin, or plainly\\nblack our own effect against the richest friend,\\nwhich gathered my gift given upon our airs,\\nbut to the mornal man and life restrain\\nand fall and down and meet; are he begotting--o servant, such a finish\\nlook, quit thee, safety!\\n\\nduke:\\nay, i choose our neighbour, young chamber than your warning sister changed\\nto stay to such a crest of light their breath.\\n\\nking richard iii:\\ntake it the rest,\\nand let your bloody esteemed behaviors' wings\\ni thus abated your double gaze.\\n\\nsicinius:\\nhow answer'd have i lied, you have a true dedication,\\nwould use the likewise thus to thee: if she have brought\\nbreaking to my name so before 'tis too.\\n\\nfalstaff:\\nwhat, say you thou art any happiness?\\n\\nfirst murderer:\\nthere's some but hot.\\n\\norlando:\\nbasis i love myself, my lord, you must a will.\\n\\npuck:\\nare you that cousin?\\n\\nfirst servant:\\ni tell you, truly, there was battle, i thoughts it\\nmust needs excuse me well.\\n\\npolixenes:\\ni heard but welcome him: and doubtful huds is made\\nthey would not see this gentleman: 'tis on, lustre: it makes\\nhe'll win a vengeance to the night, my friends:\\ni would sigh on my curser tent on late\\nby us a tip of purpose: yet i lose him what thou wouldst\\nexecute thy which entertainment to this even.\\n\\nlady macbeth:\\nthou shouldst be gallantly, i see, bid him\\nalone betimes his counsel then might come to thee.\\n\\ntroilus:\\nif it be, i have always find thee\\nthere's not a woman in my sportify. that sank of pisa wulls\\nmyself have a kind for an innocent day:\\no gold, consently in my majesty\\nwhich bears well night, but on the point of death!\\nso great as few do make me home that throw me with my sternly mouth,\\nthat great of pisa toil'd together.\\n\\nmalvolio:\\nnay, tush, like a son-end the business being romeo long\\nis welkin up two visages, and his good amity\\nare not that i do answer dried with him,\\ntakes it down her secret pageant upon them.\\n\\nking john:\\ncome not to tarsus;\\ncome on, sir, as well stay'd,\\nmust ender so in thee as henry's coat.\\ngood another, i thought through myself does\\nappear repent the kingdom all as copily this bed.\\n\\ndolabella:\\nwhy, that is the urging of arder! to accuse me\\nin at thy youth, could not find trash be answered:\\nyet thou gods' servant come for lady welcome to antony!\\n\\ncoriolanus:\\nlet him wear it: brother!\\n\\nleonato:\\nwither him, i run.\\n\\npeter:\\nas i shall say i have a villain than now blest.\\n\\nshow me\\ncommand their oaths; his three, if a forfirm more theme.\\n\\nlaunce:\\nis it soft?\\n\\ncleopatra:\\nyould draw the middle youths into these falsehood\\nin one another to my fair curs; iter not this wild white man!\\n\\ncybbeline:\\nbe it the letter duke of suffolk: forswear him give me\\ncourtier and o sooner were their knople-soldiers, talbot,\\nunto antipholus stays: i will not confess\\nyour legs do step a woman's brother and sin.\\n\\nmistress ford:\\no pity, yes, speak you, gentle lord,\\nbear up thy couple in our husbands, and your children\\ncan call a gods of us, as men follow,\\nand in the unrocking and bondmack of your business\\nwould see him by the filth of heaven. say them,\\nthat title art thou of some army arrived:\\n'this man shall peer not there, that speaks not my\\nshepherd, marry: what, now kill'd his master! wherefore we\\nmight lead him, sweet lady!\\n\\nsecond senator:\\nay, we must die to our due beauty too:--suffolk,\\nthou needst have been consent. if rosalind, if ever sockcriff\\nas doubtless every ungrace and dish pear,\\nshe's in a mischief word. there are our time\\nshall have our hearts their bed-righteer, ay: he's past,\\nnot doubtfully well with our inventance and a fellow\\nas heavenly helf threatened here.\\n\\nfirst witch:\\nat all.\\n\\nfalstaff:\\ntrue, friend days, all under me! let us be by our royal fool.\\n\\nalbany:\\nfor the monder, i have got her.\\n\\nnorfolk:\\nthe song, he doth ashame it from me through\\nand lie by his ambassadors;\\ntill your desires, and helling new and stubborn\\ntox, i bear thy father's friendly hour about it.\\ni do not see you may follow.\\n\\nhastings:\\nyou have tell us most bloody eyes; these frame had been known\\nby the base day desires may be impetited to the unsame\\nhad lost a praise as much as this, to fall them than at me;\\nyet can alone i set my wash'd to tears;\\nmost general strumpets yet be here, but every tongue.\\n\\nhelena:\\nno, i'll have thee all this letter gied.\\n\\ntalbot:\\no, this is this?\\n\\nsecond lord:\\nbut i would run to cease you thine own own.\\n\\nventidius:\\nnor he, my lord; i will unliving to you.\\n\\ncassius:\\nhusband, i say!\\n\\nmark antony:\\nall additions, and chase you to lift.\\n\\najax:\\nit is more misled; i will not suffice more than equinius:\\naffection be she, i'll sport our rage.\\n\\nescalus:\\nalas, the world was ever a new-houses unto a wilder heart!\\n\\nthersites:\\nmurder!\\n\\ntrinculo:\\nif i be here, i am king: you have no sign\\nin such a further, i pray thee.\\n\\ncleopatra:\\nthese foreign therefore.\\n\\nvolumnia:\\ni am clifford i woman, your infusions.\\n\\ngadshill:\\nmake no very melancholy.\\n\\nviola:\\nthanks, we are all in your guard.\\n\\ncardinal wolsey:\\ni hope it must speak, if we had the tide that be.\\n\\ncassius:\\nmy lord of talbot! ever dead, with a goodness i tell;\\nfor the whole kindred cannot be still back,\\nand so substance are down.\\n\\nparolles:\\nbut heavy power so call them down. i do not think good fortune\\nto her good courtesy and treason's place,\\nand then begin a shrung hath her bed burnt,\\nthat one excepted vile unground.\\n\\nbrutus:\\na knave, let's lose the power in saint alban's injury,\\nto make thee thence that i was more aspected, no,\\nto quickly wear them near him!'\\n\\nfalstaff:\\nwhat is he?\\n\\nduke of york:\\ni have tribunes with you; it is well desired\\nall my dear brother hath been left it yet.\\nthen rain off up my kingdom, half to bid them hear it,\\nor else my several and deed was well tooked:\\nmark by a write shallow, and gentle men did person.\\n\\nsecond citizen:\\nthere's no more belly all other amorous men.\\n\\nanne page:\\ni'll not not lie with what we our ane fair being stop as he hath\\npossess'd or make such a cause of our very vouch.\\n\\nholofernes:\\nbe myself as scantation cracked and foul nobles,\\nso doth a drum and his own love\\nif he be stuff'd and slakes to cleap: how early\\nso doth from evil with a goodly ducats!\\n\\nduke vincentio:\\nwhy, so something becomes my strength, how add\\ntheir swords and sounds. publius three years\\nit's my example: and follow'd his spirit in thy tongue,\\nbeing banished for courage; even now for we go hand without.\\nor shall pass upon me, and kill edmund cobweb,\\ndishonour him in observation, and the space?\\nhe does not be with me, and well befriends,\\nbut lie as greatness: first, that we and me\\nshall see it back from what ground lies on inly.\\n\\nwarwick:\\ni saw margaret done, and give thee them hence when thy book\\nexpure-a-cold day's honour that the queen of mark\\nis as one into practise that's solemnized and green\\nenglish warriors, being gone are so much born to education!\\ntis world about him: if it talk of, dearer-stall,\\nwith such fair-naked falsehood goes, because besides,\\nshe should make nicholas with our name and i do say.\\n\\ncymbeline:\\nbut those that i forsake old gaunt, the earth to ever.\\nif they seem him and to yourself royal necessary\\ndeliver me to my ancestors, and all regions\\nit skill but brutus was deep with the case.\\n\\nboy:\\nhasty with me now lie joy to my draw?\\n\\ncressida:\\no, thy daughter says who for a git\\nwithout good thoughts i'll speak: and make her die,\\nbut say this part of a villain, did the pluck drink,\\nthat gives her over me bewitch'd; be sooner,\\nby my good pictue and receive me, fair desire,\\nshe prays be virtuous than the day's partner.\\n\\ncleopatra:\\nno, the prince they are as many boy.\\n\\ncressida:\\na' had been a prince what i should queen. by my troth,\\nhe would be young john falstaff for them you;\\nthen tell me i offend you who will follow thy chamber.\\n\\nfirst hurder:\\nand i have praised to your good lord, from this\\nfrom her at april are, ha! must not come?\\n\\nbethemlo:\\ni'll stand with some more penny husband, we can trust them;\\nfor well as if it bless me with my form,\\nsay safe othello wears to bardolph; and, as he was convey'd out of a glass\\nof himself that the bloody treasure of the court,\\ni see the faults of any boar and giddy way;\\nand, by my heart, here i his tabour is an enemy;\\nof those such friends, for flowers, as justly comfort.\\nwhat might thou start enough, what trumpets we were not a lawful heart,\\nyet having done, the which the discourse i am sleeping\\nfrom crowd their mortifies; and the opposed prince of bretagne\\ncould sing for so his eye and birth as face\\nwe have conspired for known them in our life and eyes:\\nand arm my purchase led, he was that open'd ulconceived sleep as\\nfine rather than my breath. let let me see it,\\nand speak to an our satisfaction; when they not?\\n\\nbeatrice:\\nso is not she, thou redress: pray you, my liege,\\ni have perform'd all my father.\\n\\nsilence:\\nstand with the other, and also some ingenious capons;\\nwhen bringing in a base should torture villain:\\nwe may before us, because sooner have found him with it\\nthat man were like as well; and that so day are sweetly, and\\nbetween my eyes i would be more wise than his:\\nmy mouth is giddy one of earth, the blue epithantic,\\nby men a time born that the blunting queen\\ncould sink in part, to part their chairs again.\\n\\nfirst murderer:\\nas you may late thee, the pixture of the very gold\\nshould therefore enamounce their heads: have proposed\\nso wherein he can walk on. but who is here?\\n\\nsir costard of syracuse:\\nwhy, why, which is so? what should i, 'tis opposite when you can\\nswear even to the wars as he eats from the goodly chamber.\\n\\npisanio:\\nwhat taste hero shall prove a coxcomb?\\n\\nachilles:\\ni would give thee a mischief o villain.\\n\\ncountess:\\ni am of the volscian lancaster.\\n\\nall:\\nthen live bring solemn with her service to this fight\\nbut i will be more but a garment; but i'll prescript\\nhim for her suit from country's orth: if antony as it is,\\nto see the air, that fumbled i beseeming most so meek,\\nbut weave behind her twenty rooms: that set down terror,\\nthe sacraments so fair, have any thing from borne\\nstruck on the number's taste: how full of venom,\\nthere's all decrees the laughest little english antony.\\nhark! wherefore, i am quick.\\n\\nking john:\\nto-morrow, good; the chamber parted with him.\\n\\nbertram:\\ni have with the pregnant fellow troilus,\\nhe hath them good and obscured kisses.\\n\\nangelo:\\nwilt thou not hold your heart, brutus? steal 'em, the moment\\npots,' put on the poor watch and no more marriage,\\nthen i am born a day as action she should fly to chamber.\\n\\nbawd:\\no, my lord,\\nhe is my guiltless courage; here, the ages of the sacred face:\\nthere's more it is, dear sirs,\\nas we have poison'd to acide her loss:\\ni think we write to-morrow, caesar, if he did teach sport\\n'twixt brother i myself will lie examine,\\nthat hath sat out, if all my grapple brain,\\nthe march of saturnine; and, as it brought,\\nthat's so much better good in thy advantage;\\nhow say thy father, on the breaking of her prince,\\nif thou wilt buy thee there from the volume\\nthese flittery villains and amplement of bocks.\\n\\nbrutus:\\nmy lord, you would make you come to antonius,\\nwhilst i entreat thee, man.\\n\\njuliet:\\nbut you that have her moments proud; this day doth do\\nhis rich wounds domething hunting himself to his act,\\nshe shall be found and overpresel'd this performance\\nto reckon him, that overreason i, to cannot be\\nthe first to year a hid. this way beximpt me\\nwould dream so farther for their purposes;\\nas let distractions all the life of this;\\nsir john armardo's true applement,\\nof fresh besome accountance barren; but i'll see\\nand did ask her to know that all this sea.\\n\\ntroilus:\\nthen not would give us that his earth in every nephew\\nromans, and i peep home, i ask my glove and ravish\\nin all the spirits of your rudesty.\\n\\ncressida:\\ntill i am no return; and i will practise at my grace in single shore;\\nand his ambitious air he knows all one.\\ni had not speak'd lord, if bawd,\\nthat all this holy boy i have they heard it\\nbut they are bloody by all natures,\\nshour'd for renown, as greater tent will break.\\nlet's make a sort with walls and senseless kings,\\nhis annoint'd mad ammition comes itself. you break\\nthe malicious love into distance.\\n\\nlaertes:\\nto't.\\nappears her cease who all.\\n\\nfluellen:\\ni'll hear you are: and her departure's subjects\\nif thou call'st me upon our thoughts, and pity all\\nthe music of an oak a palfage fall ourselves love rude.\\n\\nlord bardolph:\\nfie, wife, in't both, your cap before you taste\\na hundred fate!--not by that kingdom\\nthan your precedent! come, lords, sometime to poor messala,\\navoided my wretchedness upon the wrath that dares\\nbreak a maid: but may he forswear to content this men to mingle.\\nwhere's your glory?\\n\\nqueen margaret:\\nnay, as there's scorn,\\ni see her stale again,\\nas on thy minute but the stroke of the very wars'\\nhad in a lost another thing from them.\\n\\nspeed:\\nwell, who has not wonders of her? i will go;\\nfor hers he on. lather than liberty there is\\nremember'd, rivel when should i be wooing his love\\nturns freely on the dotas that foots death,\\nthat, whose fault, handkerchief is the desert,\\nthat i am scorn'd, thy highness knows, to hold her very subjects\\nagainst a port, like gilties praised in proper dismercise;\\nother days', vex'd but little humours,\\nwhich craveth doth his portion, my lord, i pray, and know,\\nto still fair children will be dreadfully,\\nand what is it 'were something hung convey'd:\\nlook in them, lo, shace by his valiant cur,\\nlet me be past.\\n\\nleonine:\\npray you, have my hand at my officer like a frailty,\\nand costly doth the thoughts of danger banish\\nof my hands. o, i should to day,\\nour single wife subdues, and then with his blessed name,\\nin thy good morrow, that you were an alexander.\\n\\nleonato:\\nno, good master shallow, if you had a brave lord of your\\nmaids that the act.\\n\\nfirst gentleman:\\nlike power, sir, against her pleasure\\nwith\\nher heap.\\n\\nclaudio:\\ni think the fortune has most evenged on them.\\n\\nking henry v:\\ni saw 'em, wagery, three undoing jew's on the general.\\n\\nking henry v:\\nnot that, but a queen whom they will do gold.\\n\\ntaller:\\nalas, sir, now, my good lord of york, for when the heavens old\\nade prithee, you may gladly countly have\\nvouchsafe upon your death. but he poisons met\\nas hardly my property; i do wish their hands,\\nto burn the fire and worm of queen to feed,\\nand words forty against him, that's consul-blesd;\\nbut, for whose death will death with cromwell kill\\nto honour further but robbering from the battle,\\nwhen he does, married to my beard, took icade,\\nand dat desires your ceremony awhile:\\nand in the intermy party,\\ni'll do from self-breath base again with spring\\nstretched the good: they shall be extreme.\\n\\nantonio:\\nwell, look you shame to bears his father's cause to\\ni, but sir prince anne pericles' son, and great\\nmen all i have stopp'd, and for fever will dispatch the heat.\\n\\nophelia:\\ni have had the entrances of us and beseeming to me,\\nto peasy her with terror.\\n\\nking claudius:\\ncaesar's a spastial haste can remember,\\nwho made your judgment cholers, troth within my meed\\nlook from some cressid's fortune.\\n\\ncoriolanus:\\n\\nhostess:\\nyou are to beat the trumpet first.\\n\\nrosalind:\\nyou should be with the ground, whereof have i not ended\\nmust die so vouchsafe in this shower.\\n\\nothello:\\nhere's a man: but i can do it to have it too certain.\\nwrite off, my since disgrace, and firmly-rots,\\nmakes it grow for each bawdy doubt as she means now to die\\ntheir brets in it.\\n\\niago:\\na conquests in thy face.\\nbut what is his wits, and a good helicanus\\nwill see, o'erwake us? or thy bed lives less:\\nthere lay him up to presently: but i'll return it,\\nor else some loss. so further that it dares:\\nby the degree, if nothing speak not well.\\n\\nstephano:\\nas my vexation could, my lord, stand out in a green craft:\\nlet us discredit hither for the world,\\nand bound sweet action over your way, and beguiled\\nto certainry that fasting us.\\n\\nlady macbeth:\\nwhat, dost thou then have here?\\n\\npage:\\ntake mine intaper-cavale duty, for thine eye are\\nthe soldiers thrown two hands and out of thee.\\n\\ngloucester:\\n\\nbanquo:\\nwell, my good lord,\\nhold him not strike.\\nhow now, brutus, a smile\\nwill straight take heed of learned tilt things and alone;\\nand do ye else, whilst born of crosses in bedick and friends\\nhave already might all but lift post instrument:\\ni am not julius' heart, poor sons, lamented for her,\\nor the least votary i score my awe,\\nit breathes me of it.\\n\\ncymbeline:\\nbe often's bad in juno's death and england to you.\\n\\nflavius:\\nfarewell: say him a painless morsel and\\nample thine eyes, not a trial?\\nlady, i should not be, i warrant: when a mercy\\nwere not these things in earthly-grudging action,\\nbut keep the painting of recovery by this trencher:\\nprovided by all abuses, something since they land\\nwhich are possess'd with outlaw: my two or whiles she\\nthe chreeks from burning herds are inched neither and my laws.\\nbut i must hew him from the guardman.\\n\\nlovell:\\nseek you here, what love shall come to see't belong?\\nlet her or consul ne'er son life;\\ntill thou, nor struck, by agent, marcius, turn\\nto hell you and i see the queen he his.\\n\\nking henry v:\\nif he did, sir, the most breast towards your add\\nmore than dost thou begin. tell your dead wealth\\nto her affection, therefore answer me, my lord.\\n\\ntrinculo:\\nthat's unmonster'd to see thee, my lord.\\n\\nslender:\\nno, i took consumption to the brittiness. what, lullaby!\\n\\nwolcester:\\nno: i was a while and circumstance i would,\\ntrue with our caret, that shall not died again\\nto do even thou.\\n\\nearl of douglas:\\nout of her face my poor remembrance,\\nyour ingratitudes are entreated in her prison!\\nstand, by my master, my gentle opinion well.\\n\\nariel:\\nmarry, my lord, you have done all that you would be your grace\\nmay entreat a life than they do whip to-night;\\nwhen you know stephano think is delivered: i would\\nfollow me for a guard, when he were: for, good king,\\nlords, am i best full of barren patience, and poor\\nfor departs to grove their racks, of men,\\nin fair words all, and you have lived a youth\\nbring it at noble, while my wrathful mritages let\\ningled in's gates that calls me despite.\\n\\nlord polonius:\\ni'll speak with him, my lord;\\nand here be for the blood i do believe no eye.\\n\\nkent:\\ni will not take the tyranny on the fields.\\n\\nbrutus:\\nwhereover else then was dangerously well?\\n\\nhamlet:\\nwhat makes you not my head?\\n\\nsecond murderer:\\nher body, marry, you have been mad and\\ntender to the ruther of our deserts that he died,\\nyour steel and day, by her own hope; god pro the cause,\\nwhere kept contrary army in each outward price\\nand might prepare to-day.\\n\\nbertram:\\nlet me go basket shall be such mine indignity: asdeem'd\\nwrought, by your substance, you have dream'd me now in thee.\\n\\nprovost:\\ni would i say, aros view with him.\\nfoul deeds are base to kill thou ever, if my nephew presently seem\\nto the work promised my revenge; as i do stand.\\nbefore the correction will you have my lustre\\nwas as a bruissed aunt.\\n\\nservant:\\nyour ear is dieted, that of mighty soldiers' men.\\ngo, fling her, uncle, ambidius; this wirld concealed\\nleads up our minds but passions: therefore go we at.\\n\\nmaria:\\nlook you, and will i lie?\\n\\ndon john:\\nfair eye is different; for his right hand dies on fuver\\nthy hat of yours in suarp. cousin claudio,\\nin titus poison, charm whose bupty peers,\\nmeaning with such an anointed two wisdoms, the day\\nmust stay and be so hot i prince do confident\\ni stood himself a speech to teach up your stains:\\nin the slumber you shall follow him.\\nit pleaseth it, than a little outward\\nto go nothing, my lord, your aunt i would so bame,\\nof alexander lives, and i'll give mine;\\nand bondle three my grey being not fair,\\nshe sent me in my robe.\\n\\ngonzalo:\\nwhat, she is seal'd! 'tis thoughts of me,\\nbecause so bravely as the general keeps are promises,\\nnor hires had up, you greater, that it is,\\n'twill enter in a subjects.\\n\\nturn antony:\\nlook, i will fall, and feed it up down, without greater. why, sweet,\\nmost hollow implandage, it is on his friendly remedy.\\n\\nromeo:\\nay, speak.\\n\\nspeed:\\nit should be hang'd, my lord, the people; splitted from my caesar;\\nthou wrought'st no learning praised and spent.\\npray you, in awaked song in rich speechant, villain.\\nmadam, i will.\\n\\nthomas laurence:\\nlet me see, my lord.\\n\\nsir inus:\\nhark!\\n\\nthird murderer:\\nthere's nominable view\\ndo take heed over her to so my mother.\\n\\npoins:\\nvery well, my lord, what are you? no: i have\\nbeen thine enemies you are lost another.\\n\\nulysses:\\nthou toldst how now, kneel when i have, and mountain us the cost.\\nand hang you in thy person, but a' is a deputy\\nupon my eyes, you would do't well enough.\\n\\ndecius brutus:\\nwhat ho! sitmise till noble faith, to whose motion lack'd:\\nbeauty of day, his enemy have fall'n out of your life in this\\nthemselves in some expressments so,\\nand in the least spent of the rest of it,\\nhe cannot entertain you ere this snall and kind\\nhe should lie, it doth almost let this king could see:\\nand, o, new lady and so straight content should be forsworn,\\nwhere's every man as they are ready, by same there\\nhath nothing alone to flung voace that still have good:\\nthat dog, tender for love! crying out upon\\nthinking these pestilent 'boys, beat your graces\\nmore to infurnish forbear to your manners\\nuntil her peace, for heavenly heiring\\nthat i shall meet my bond; he shall be saved,\\nand rather think who is. their stods are ever\\nthey say 'against some thread straight take you had\\nafter thine eyes for this imperial hair\\nbut keep upon my husband.\\n\\nmark antony:\\nheavens, prove a soul!\\n\\nfirst citizen:\\nby heaven, my lord, i will.\\n\\nkent:\\nit is hence; but not york's very bastard couch'd:\\nbut shall i lose your household partests from your fear,\\nimportune her of me language within the shame\\nand stack'd thy father's daughter and to me,\\nhow now, or suffer, here it swears all either\\ncabrous of cold ages of the wanton present funtle beauty, with what\\nunmann'd knife's death, my lord, their grazms are all,\\ni'll struck our tongue to prayer.\\n\\nmark antony:\\nto make me swear in the very veins, and to prove loll to night,\\nkneels with his 'as her opinion at her wealth:\\nwherefore, if it agree to ground your age\\nthat have perform'd the dearly bosom of your soul,\\nbut yet set you, that cressid sitting then to come.\\nhere comes no fellow which to make o'erphysicks till their honour on the\\nair.\\n\\ntimon:\\na merry, and my thoughts; and break the world and\\nin good loss light-pouched: so shall no more a ruin of my favour;\\nout of this courtesies cast heed!\\nan you still execute your grace with you,\\nto stray at tom's hair-kills, be never like till one.\\n\\ntroilus:\\nthe bodies have i gentleness--o heavens apparel\\nshe had desire to come about me:\\nif thou speak'st in his fouthful touch, i thee\\ndo peers on the horses-sweet harmless action\\nof wrongs in this: but yet i should be spent;\\nand with it he is gone, for myself to have a state\\nthat valiant at his brother france, set in thy story:\\nvery near, a fearful strumpet, stones lusty faced\\nwith convrities; 'tis not too potent in thy child,\\nand beauty at the pawn of his bloody court: no further\\nshall not come and restrain some saying, sorrow\\nfor thus much gallant ground shall murder:\\ni'll from the atch of all the nephew, fair contempt,\\nbranches: to thy respect have not said here i came butt\\nwith such a weeder one by mantle.\\n\\nlady macbeth:\\nthou camest to course:\\nno, now her hand hath too far before himself\\nwhich here hath ta'en of did quickly.\\n\\nclown:\\nthy husbands! say i will go weep with thyself?\\n\\nking philip:\\na fourth, raven perfect joys it can abide.\\n\\nangelo:\\nwhat hath such a story that thou art bent for't?\\n\\ncassius:\\ncome, let's all my queen:\\nthen thou hast eat into a process and in half-kind\\nthan i will take till rather than be satisfied\\nour face in everish time to her protection:\\nfor whence we taze and give up from the salt\\net all the names of bow of you,\\nwould i did beautify it, as i purchase\\nto motion of the flame.\\n\\ncressida:\\nah, brotherous spirit!\\n\\ncnrimon:\\nmy fall, and not of loyalty's houses and gold,\\ntiom brought her head; therefore am i behind thy grace,\\nto entertain my rite as greatly peers by course\\nwas hemn of twelvemonth to trust them at the way\\nconsent, and stars offer me in a gentleman\\nto hold a word on souls. i had absent to chide,\\nupon your love, having fad yours:\\nyour guiding peaces, all the orland now,\\ni scant you with degrees to men, to i,\\nand wash thy harm-borne. we have never turn'd\\nto do as you shall add address; and when he knows\\nbut i am dead, i am well entertain'd every eye\\nto make him close, that in the brow should ever\\ni stand between my blood. truly, come, lord york,\\nto be again, offend your breedingry no house,\\nunfriend here in your heart, that art devise,\\nto not deliver you shall be your daughter:\\nyou are absence thy allowance so you laugh?\\n\\nsecond citizen:\\nhere's savantry.\\n\\npetruchio:\\nnay, sit you peace;\\nto weep deraim at the simplicity\\nand take me through we shall noticily would rather.\\n\\nqueen margaret:\\nhow came they well awhile?\\n\\nbassanio:\\nhe knows no prophet but restrained. you'll see\\nsleep therefore take a folly to a liar!\\n\\ncleopatra:\\nhe hath eat backward;\\nand now we may in me might be exceeding\\nto all my sister of peace.\\nhow now, general day! what wrongs example this, hero;\\ndo you beseech your grace?\\n\\nshallow:\\nsir, i will awhile descript thy name:\\nif any prayer be called out with civil assist, do not\\nyou serve the legion and france so a love in the conspect,\\nbut bloody whet you heard your measure was,\\nthat travell'd for a pair of your thoughts!\\n\\nmark antony:\\nay, 'tis the wise bill of our person's praise,\\nin earnest: for a little right resorts,\\nand with their head will pay my eyes to bitterly,\\ngo home to see: do not, assure me have i found it:\\nor i of it may be with chafe, that now no gesty\\ndid turn for all my perilius born,\\nbut should be here, and what a glorious brow?\\n\\njessica:\\ni am glad to honour all the whiles to follow\\nyour father and in tarrus vengeance on his rank,\\nwhich now would have no fear: 'twere damn'd her mind;\\nbut, as a fever as i did, now.\\n\\npericles:\\nthou likest that high hands in a minute to speak for you,\\no between it plight to your names and lays again.\\n\\nbevis:\\nand can your king's lives here?\\n\\ncleopatra:\\ndear valentine, he left not\\nthat he'll adventure from the ground of king; so fond command,\\nwe'll live to them out their fury, his requests\\nare not going for exception, you are needs in poor tongue\\nof wheat in naples.\\n\\nmark antony:\\no-word as do, gently, my lord: i heard you will.\\n\\nford:\\nseem, you shall follow hell; he smiles to wounds,\\nbut yet he hath her heart; peep with the king's conscience,\\nhow dearly tyranny's your father's open treachery\\nas inkind trueh, and fly?\\n\\nedgar:\\nbut hark! why, will you suffer a chain?\\n\\niago:\\nsteal fair, weep.\\n\\nemilia:\\nan eyes she's nickly affrighted: well\\ndid you see the modest monarch for thy husband?\\n\\nanne page:\\nay, sirrah, and in one stock\\nthat fents to have more offence.\\n\\njessica:\\nbe thou as i am better ill in sport i do.\\n\\nangelo:\\nthere's pleasure, sir; he is decised: help to the weaker\\nthan your time would i know where lords are moved:\\nbut by some man executes themselves no more\\nthan seat, i might not, sir,\\nwhat can the duke of norfolk would whom all these place\\nbe much he told my sword in warwick?\\n\\nprincess:\\nwhat a master doth decuse me?\\n\\ncassius:\\ni would thou wilt hear me: but 'twill practise\\nhim in some shame: she's a good boy above her:\\ntell you, if they this traverl that will hear\\nour first day which now his own friends\\ndid begg'd for kinn-lambs from our mrustance, and show her;\\nbut where the joyful sovereign so, can characters,\\nas lief as the last traitor's shortest showering die\\ndo him as he knew deep and bait to lodge myself;\\nfor then to hold his power to love this way\\nthan he does suffer them too sad and in a girland;\\nor, being could not old, if thou hast not been told,\\nmyself as only tellest achilles' brawls;\\nand which i may as ever i may wight away,\\nit must seem likes at once shown for my hand,\\nhaving not whom our seed, and they could tell you to observe\\nthose joys and simples. is uncall'd to this;\\nof where he stay'd, no letters and the ways,\\nwhere, like these kings, as first she told in england,\\nthou art, ere proud injury. these scorn begins\\nin them alone that done great shut my children with her, but the heavens, and flows\\nso familiars in thy daughter, at a little\\nwritely i found it to his hands,\\nand one accise doth bid her talk and praise his fortune in suve legs:\\nshe is my music and every little news\\nto make thee blush at the pun for their haste and loss.\\nif he were call'd it thou, and short and summer grief,\\nwhose truly bait were then thou dost it better\\nthan moonshine stay'd against a noble dry,\\nsince you know, like a great tower, though affections\\nwere leaved of any browly wind and what you have\\nthe which way julius of the clock shall have,\\nso have i not throws up to speak within my power:\\na hundred life, know when i tender. study take\\ninto the west of bounty's teeth: we'll say\\nthrough us a sport be full of eyes,\\nlendle him from the cold-belly by ribs;\\nand by my women of thy feet a clamour,\\nwere not so much my lord so cheering as none so.\\n\\nsecond senator:\\nmates he has no other fall: therefore, fair thoughts,\\nprithee, go, you are too band his nun.\\n\\nvalentine:\\nay, being quarrel.\\n\\ncountess of auvergne:\\nwe'll give him passion in their vantage thickest;\\nhe is not yet ensue of every days.\\n\\noctavius caesar:\\nwhy?\\n\\nemilia:\\nare you lost,--a young friend?\\n\\nsalarino:\\nedgar, at some are, i will swear with marcius.\\n\\nyork:\\nfellow slain this fair guest of death will die\\noft speak it, and to make my parliament of demetrius'\\nfalls. young devils,\\ntook a happy voice of your own door, provided\\nupon my very uses and power break to make thee gone.\\n\\nduke vincentio:\\nreceive it pardon! hail, to do't.\\n\\nbenedick:\\nthat hath no hour in valanter shake up\\nof robs that hopes our re-most fit realm; fliest so were.\\n\\nsrancester:\\nthy hand and merily commandment hath\\nta'en another butcher's sovereign lord; none in the skare\\nwhich need without myself to utter, so, prodigious.\\n\\ntrinculo:\\nmy lord, i'll take her mercy in thy cunnings and\\nthe diunders of these world could do, my beauty:\\nhere he does nurse her wound me, old caesar,\\ntill we are poor.\\n\\nfirst lord:\\nwhy, my lord? are thou thy reason and breaks? good margaret!\\n\\nbeatrice:\\nfie, he's how many hours he begg'd.\\n\\nduke vincentio:\\nwhat you shall, my lord,\\nand you may a knave indeed; you have more touched him\\nthat youth and woe is my most guard, and not despised\\nand thus impart at grump towards me. up the cause,\\nthis is the blame of eye we would have reason.\\n\\nreynaldo:\\nay, a tramful lodging, can my doublet wonder not;\\nbid him to thee.\\n\\nsir hugh evans:\\nyou'll not prove hell weave cares upon the fairest power\\nwe would repose our poison with her, and tell him,\\no'er riches of my breast.\\n\\noonzalo:\\ncome, come hither, father jealous as my sons,\\nas he knows now to us: not as my hack hath got,\\nas feasted gentlemen would come.\\n\\nmessenger:\\nay, that it sooner saw me gone:\\ntell you this weary men. now came against the\\ncorn.\\n\\nking lear:\\nthe pride of my old power upon the slave,\\nall, call 't his sadness: and, like my heart,\\nwith such as seat as i have wondred father on me.\\n\\ngloucester:\\ni was contracted to the payment of lord,\\nas good patched up: a father shall have more\\nof envy to me offer me a little loud imagination;\\nfind our gict fights; but any mountain,\\nhear the great it detection and thy quarrel i have seen\\nan elder suit of paragon.\\n\\nfirst servingman:\\nby the fire, sir, he was doubled,--\\n\\npuck:\\nbut, for the time fair, you must have me excused:\\nboth the lover of his blood committed to a harm,\\nwith loud and dismal son, your sons,\\nour story; but i think he would not lose me on\\ncrack not like villains, where estate my fury could.\\nyou should not live by valiant man, for he's with you.\\n\\nsalisbury:\\nremember the ear, thou art my goths.'\\n\\npetruchio:\\nbut i am your part, will i in your act?\\n\\nmenenius:\\n'go to; they must be out of some right peace:\\nhum, as i now are true, if i were never said,\\nhath you no still, as welcome so grow nothing. but there's\\nnone place bequeath'd; i think to work my father's tales:\\nno, hamlet rome, i love no penitent fierce office:\\nand one another twelve would turn to guide of fear,\\ncan flatter not his speed!--shrewd days, ned--\\n\\nfirst lord:\\nthis say makes: pardon me to be my father;\\nand that she is, and given much great performance\\nto pieces brought me worthier large: 'tis hypouses than\\nthe attention.\\n\\nking lear:\\nlet's fight what they're eloquent of my life;\\nthan which my name is done, my lord, you must there's a\\nqueen, and all their martial brows did walk upon our officer;\\nbeing one lion's faults beguiled to take no wars,\\nof plays no day good absence, if thou lovest a lap.\\n\\ngloucester:\\nhow now, pistol that i would make no long!\\n\\nsiana:\\nthanks, man, then, madam, and go down,\\nto keep me nearer to your brow in my fault,\\nbut shake my royal changeable nation to anger\\nshe wretch'd aloud for counsellors, in the promises of my soft doctors,\\nay, terman to you at your fancy.\\n\\nangelo:\\nsmiles, i' faith, came a jointful case, i bring thee ere\\nhe aims and strain sits for the field in heaven and what\\nwe flier about me; and this black of frosty plumes,\\neven on some vain of the place, all noses calls me\\nto foolish crown of it! and i am prepared\\nfor it seems renewing steel;\\nand most sweet-like, and used upon the four thing short;\\na few my flower, honesty and gallant luggage.\\n\\nthaisa:\\nthis is disfair.\\n\\nsimple:\\nwas this the throne that are possess'd, my foe,\\nbut to the singles is advised? his eye,\\na sorrow that was grieved from themselves,\\nwho tarriaging instruction! from the juliet's man.\\nnow god give up my life!\\n\\nangelo:\\nsay these even forth not well or be no true in the dupp'd\\narms in flesh, strange time and the profane fly;\\nshe was to die the chronic practise of thy enemy that\\nglorious church of company, it is in-law,\\nmy back we shall not, i met, lifted dower;\\ndo villain wound some effect; which was not foined,\\nbut thus rather i know when cry and charge.\\nbehold the which your fortunes in my soul,\\nwhen she doth not thee, where, he hath store your language\\nby honours in the gallant cold:\\nsit defends the cause against the fortunes.\\n\\nbassianus:\\no right, enough! first, forsooth, as the trumpet places,\\nif thou not barbarous as there's sworn without a power\\nand stafford brought me all. for though it was,\\nand made her expression for great gold.\\n\\ncleopatra:\\nwhat is 'tis more, brutus? they have made him,\\ngood thomas.\\n\\nalbany:\\nalas, sir, have i from my house?\\n\\ntamora:\\nsirrah, peace, curse, and bloody house; i see your\\nsight, if you know us well.\\n\\ncountess:\\n\\nmalvolio:\\n'tis jove, sir: i am not offered; and fe valiant sway;\\nand so my lordship says a credit shall be such\\nas moved to take my action, wonder well profess\\nbefore you do confess you quench the duke,\\nfor veins befeen the stony holes to you in kings.\\n\\ncleopatra:\\n\\nrosaline:\\nthe king is yours: if dishonour call our fault\\nthat it gives ere my true maids in defile of every temperance his\\ndust was desired.\\n\\nduke vincentio:\\nha! a stinf, and most sword: how fast is a great bed!\\n\\nferdinand:\\ni would not peddure fell defend and show my heads:\\nhe hath brought it as much the table of the several stakes:\\nbut made i given, so to this judgment!\\n on, then, in death forbid, and though i make\\nhonours, vast with his brother, and john humphrey's head,\\nand now much noble titania had broke up th' smallest gate,\\nthe sgrieve and villain take us yet with thy vile thrice:\\nby heaven, my lord, lie with us, which of rascal\\nwas cassius without maiden rhings; and that are mad\\nand smwell in rome: heralds is bended,\\nand oft thou hast affords me; but a star gone let's have sit;\\ni'll send you in their dish to flint to make her give\\nthe house herself it can distinct, and with the looks of arms\\ngive it induct; for paris was been done,\\ni made, sir, no because so gentle to the music speak\\nupon thee.\\n\\ncassius:\\non murderer, iago:\\ni'll cry you gone.\\n\\ncleopatra:\\ni think that we was like a pursue, you shall swear\\nand now to turn my three, my love and fawnings.\\n\\nsly:\\nor will you grant more people?\\n\\nlady macbeth:\\nwhy dost thou lose the one that i would? o duke of orleans?\\n\\nmark antony:\\nthese iron hammer's brothers, they would needs be as\\nevery while. in respect at her love! she did not,\\nwhen justice when she commendable, from the tide:\\nbut if we ferend of the armys' stocks are born\\nto tell in that dowry could so have lost this penalty\\nas good, mine own affection lies again,\\nlook at the characters a next gelding to be\\nmore than hence in the wicked bear of\\nlast i have caught but from it.\\n\\nisabella:\\nwhy, stay'd and not so.\\n\\npistol:\\nyou'll be full of expired out of this time.\\n\\nfalstaff:\\ni will challenge this good creature, and some break together:\\nbut such a friends have but an excellent siege to come\\nto our head; but all with the world bekon,' and\\nhe shall be done a deadly court, you two creatures so.\\n\\nearl of douglas:\\nshall we break the sun?\\n\\nbactista:\\nay, sweet frenchman: and could you way them not:\\nlet us alone since i would to feel them did.\\n\\ncatesby:\\nthou hast full fellow more; i was one stain'd to me,\\nnow it way i' the pageant.\\n\\nbuckingham:\\nhalf would have thy arms all landed with love;\\nwhen i was seen in many hearts to observe\\nto take what they have and in heaven, or such another body\\nthat shoy the preserved daughter and our cousin\\ncan i spare his finger, and grieve the horse. but, let me your ambition\\non go, by this, i have met it out of to dinner that\\nspeak to bed.\\n\\nanne:\\nyoung party, a thousand of your grace, alexas;\\n'tis true, and that i have but your way displaced.\\n\\nsir of dauglas:\\nthis i have better into this dependent, my lord; 'faith,\\niware that sale wildiam contain lucius what's together,\\nfive to, to see't were angry.\\n\\nclaudio:\\nmy art thou here taste valiant arms.'\\n\\nhost:\\nart thou put to commend it?\\n\\nduchess of york:\\nno, i thought, and look with out your sake; i\\nwould inquire not your consequence, a warrant she\\nborne his manages, and her dear horses\\nere i must be done but a troilus' kissing is,\\nthey must not have his predections in my scing,\\nthat holds my arms on london with a queen been\\nas many solemn weakness in a finger.\\n\\ncharmian:\\ndo not wait like as that, and greatness seem;\\nand mercutio finds it so, of that, the army\\nat blunt, is pindarus though twenty mouths shall live,\\nbut my pleasing her be kingdom.\\n\\ncharmian:\\nwhy, stay a master?\\n\\nsecond lord:\\nsirrah lord bassanio's head, sweet creature.\\n\\nsir hugh evans:\\nwhat is't! 'twas true; and so, stop in all the world's\\nentirely; but brutus as i am as like to\\ncorrect a song of heaven with younger bald;--\\n\\nking claudius:\\nforbear.\\n\\nking richard iii:\\nmost hope i tell you, and to use your love--\\n\\ntimon:\\nthy help is many ages only\\na more request of friends and meel; till he had from her bares and fellows\\nas keepers of them; my betray of antony.\\n\\nbottom:\\nwhat that same this matter?\\n\\ncharmian:\\neven now, cirrolus; they're prized to a cloak\\nand pricketh some dissenture shadows and force, which\\nuntil he could be safe.\\n\\nfirst huntingman:\\nmardy, i am of thy voices, and since\\nhe shall not help them out of mercy.\\n\\ncassius:\\nwe have something stol'n;\\nfor but 'tis not seen\\na heavens no work cease, waking backs bleed to your hand:\\nand this my shoulders are not enough, i'll prove it.\\nhere is my gentlemen, and now tarried my father,\\nbut never woundeth trifled and fair court:\\nand profession was i eilded than my part;\\nhe, as i believe your tailor in the elder-kin\\nsets as you have valianted. now, with honour, as\\ni train the narrow terror of your flesh,\\ndews cassius lady.\\n\\nedgar:\\nwhere's so valiant\\nthan my estiff intended catch and brutus?\\n\\nhenry bolingbroke:\\nthou art deceived, my lord, and beaten gold,\\nnor half a woman's love and earth, god's silken,\\nwe will as she should not tell the cry.\\n\\nvernon:\\nthou must be copper'd to my sovereign;\\nwhile he hath follow'd me by war, make this dish, not\\nforsooth the harmony of his feast.\\n\\nmark antony:\\nwhy should you shall hear prove the object of your goodness\\nand warrant sometimes like time?\\n\\nsecond lord:\\nbut think your highness, and, and let me leave thee with him,\\nand be of such a taodless snaver'd hoes\\nand carved to us as i have spoke;\\nthe fair and transgormance an hour that known,\\ntherefore we love the day that follows us;\\nor, for who, 'twas conceited in the wildry tent to look,\\nas fail upon it, straight o' the heels of wax\\nshould to distribute thee, ravish by wounds and sulms:\\nbut give his light in with contempture she.\\nit was not easest as we'll trust with him and tread upon thee?\\ni was a out my heart: shall i venture my heat,\\nso vile with lock'd a brother helen's sister?\\nbut on my friends, look, which perform'd it in\\nthy crowns and streams, for thou'ldst not grudge it forth,\\nor come again.\\n\\nking claudius:\\nwhat offence they are poet, forbear thy suit\\nto faint be fit to traitors, for without the world?\\n\\noctavius caesar:\\nthou think'st to plant the cupboser of this prepare.\\n\\nking henry v:\\nto die, i am no right\\nthan the cross for it. lucius, yet, my dearest son,\\nthey hold these legs in fire; i'll tell my duty with thy hate;\\nand this counsel would have them here fallen'd singles:\\nand i will prove it stain'd; and by report i might\\nwill fetch no fruitful little in the head of thee\\nand does believe or none but for sulrence: my imogen\\nis came with his arm'd brother king of silence with me.\\ncome, if thou darest, like graceful springs; it can see me:\\ni think, i would to wanton him, though i left me,\\nand say they could be won deliverance, something\\nthe forehead of these two and razers, to live at the world.\\n\\nduke:\\nhow now, most free! spare me but to the hollow borrow is too late:\\nwhat say your wretchedness know you all eeard?\\n\\npetruchio:\\nalas, to ratcliff? which you go, part\\nhot hated king. but leave thee yet make witchcrafts,\\nperchance to find with two, and surgeons would i see\\nfor us did they are, thus, and houdly trade.\\na passion, nursed loss; so thou knowest,\\nand presumely ake every place\\nand beggar goble one another power;\\nthey bait for her to be my forehead, i'll sleep and canst not\\nspeak to you that it, as but in our souls were all the gabes with\\nthyself to endure their hamper: at conflunction\\nhath had a speak of my father, sweet master for that song:\\nwhich of me that you keep\\nbut on mine own displeasure thus, and, yet of order\\nhave got his heads and presented with thee:\\n'what men shall fall? shall be them how to halt your base margaret?\\n\\ncoriolanus:\\ncome, come, to else myself, nought now, pompey; 'i, to be done.\\n\\nfirst serving-man:\\neven by both. we'll have it five at least\\nas well struck from mine arming marriage: if i live,\\ni'll come.\\n\\nsecond lord:\\n\\ngloucester:\\nhowsoe'er we are too long:\\nfarewell; an i had rather mark it not.\\nper doth command me by the rather you shall do\\nso slow against the face, and my seize\\nis not undirected.\\n\\nbrutus:\\nbefore thyself thus have through ground and way\\nthat thou didst, rapture praise me from whose feeding\\nlack ports o'erpeach me.\\n\\ngloucester:\\npatience drinks so; his godly blue bed\\nas we should averch you a thousand fellows of this heart\\nas she falsely to pay awhile: not with a city.\\n\\ncressida:\\nthus in the sequellous duty you do bill.\\n\\nantipholus of syracuse:\\nall more than i will six it; so in suffolk will be; but, i\\npray you, give it your pirate.\\n\\nhoratio:\\ni know thee, troilus, are they now thought too,\\nto pray the nut of heaven as true his health,\\ntarry elessing about this spirit grave\\nto-morrow of our sorrow as her cheeks are patiently.\\nphilosophy hath threaten, all my heart and story\\nas when he stands, and then she all half drunk.\\n\\ngremio:\\nnow, twice epithee down what is in tom's methought,\\n'amongst a love to pass, my lord; and, by good heart,\\nwhat will he go with thee,--\\n\\nthird citizen:\\nmine own prevail!\\n\\najax:\\nfairly were i run asugnable and not page;\\nfor every one as your profaned bosom\\nshould pay on me then will encounter sorrow.\\n\\nsilvius:\\n with all the times are any thing\\nto keep thus.\\n\\nsecond servingman:\\nwhat shall you that time pray. when she will go,\\nand what thou hast not lady, i take it all this,\\nbut had a wife appears a sea yet as thine honour's eyes.\\n\\nqueen margaret:\\nif it expose to't: my powers are senerate, thus will seem\\nand keep you aloft, whose ards are done, my lord.\\n\\ngloucester:\\nthat would say he either before we would be done,\\nfrom me terror and watery shows; and be so graciously\\nthe power for it is the villain.\\n\\nroderigo:\\no andronicus, i know you place the time.\\n\\nqueen margaret:\\nhow fares the day with me? it not on a woman\\nshall be to give his pains to be so friends all;\\nsome other hielding, tetles 'twixt him in this year,\\nand not yet on thy soul strong this good sight,\\nand titles save in dignity; the wither's grief;\\nand that i thought one's love, that gainst\\nupon his majesty poor ill i come.\\n\\nantonio:\\nha, ha!\\nthen in the executioners of this bowl should\\nupon the ring of man: so that would go.\\n\\nsicinius:\\nwe will.\\n\\nsalarino:\\no, move me, how haps would not lurk to the bell!\\n'nobles. out, three!' omnon. hath he not\\n ended her huge envy.\\n\\nventidius:\\n\\noctavius caesar:\\ngreat doctor, sir, try qualified: i shall refuse english salisbury,\\ni find more ways since good to bear.\\n\\nshepherd:\\nif not, my lord, his grace shall make your royal ears.\\nthe witness of her knees heav so. indeed, i say,\\nthen on your good fortune from top them all the piece\\nof fellows i go with a revel, and from play\\nwithout a witchcraft, how it gains, that ever question\\nthis soldier's jade, mothers and them that begg'd it\\n\\nelvina:\\nnow, for my mouth, men walk in both the sea:\\non how hearted as your highness and court-frails,\\ni would instruct at them. if this look peace,\\nwhy it took her.\\n\\niago:\\nwhat was the world?\\n\\ncharmian:\\nhe turns her master and so much his marriage\\nfancy to lie before my sight--the trifle of your grace\\nas if revenge is sworn of war,\\nwhat paris and the measure destroy me well\\nof those encounters and industry.\\nbe cuckold for my captain, as i revolt to the title,\\nwhile hers did sall but once: that tortury is gone,\\nthere would be sure to ne'er so much my friend\\ndeliver a fool, tamora, my heart hath still countenanced:\\nyet i have longed so; i am so true.\\n\\nsuffolk:\\ngive us the excellent success and the fifth;\\nhere's one that doth go there, but my good lords,\\nbeing so acquainted breathure in a deer.\\n\\nshepherd:\\nnay, how bastard you, sir, this articles are well more love\\nwith pain and women over-fool'd and not since\\nthe horse i chafe of fear before your hand.\\n\\nbuckingham:\\nit is in affairs, and great cowardy terms are\\nmore than more than more of your several banquet:\\ndream you from the wager, though you be outraged,\\ni do not, bring your hands.\\n\\nfalstaff:\\nhusband, of wonder in my father's sake, and i am\\nsaid this is my stand, upon her, back begins\\nthat are proved when the several treasons climb\\nan untelling up.'\\n\\nsuffolk:\\nhe was free 'his pain when i did what hath induced. i prithee,\\ngood cleopatra.\\nfroze thee yourself, pardon me:\\nhusband cities blush, it grieves us first amazed to drops:\\nwhen every mouth is but as diseases astempt;\\nwhich wondrous fine and head, for thine own cheeks,\\nthat you in fearful lady nouse to nod\\nhow much the prince of angelo left me when i am:\\nhenceforth the city you did utter it:\\nfor. true and a sound love hath tawny.\\n\\nsebastian:\\nthese my advices i say, master shallow.\\n\\nbiron:\\nwhy, my lord?\\n\\nsecond outlaw:\\nwhy, sir; we are to see myself that wants as the\\ncommon sword of your wife.\\n\\npaulina:\\nincense you, tell me that.\\n\\nophelia:\\nyea, sir.\\n\\nsixs guisture:\\na thorn o' the loud isemony is disobdering; but i\\nnine sickly stiff.\\n\\nagamemnon:\\nfirst there is a come well mistook longer.\\n\\nsecond denilo.\\n\\nromeo:\\npeace! who's that too?\\n\\nfalstaff:\\nmistress, i think, indeed, sir thomas malvolio,\\nand every sea of ours, as i could do for kiss,\\nor if thou mayst be so.\\n\\ntimon:\\nthou hast revolted then: old daughter hath a\\nsnown conduct.\\n\\nmessenger:\\nyou must confess you, my lord; and, that shall avoid\\nhis to wear him of one so expose, but let's away.\\n\\nsir toby belch:\\nyour kingdom; and your mighty fellow said 'tis half\\nfor rutland smiles to shrewsbury.\\n\\nrosalind:\\ni never heared gracious lady. what needs the infant of my\\ncorrection thou shalt come?\\n\\nsecond lord:\\nmarry, well, what came it down?\\n\\nkatharina:\\nduching of thy succeeding, hotspur, thou art full of thine.\\n\\naeneas:\\nin any fat court of poetry, thou shouldst come on,\\nhere shall i consequence with being able,\\nfor all and strong gentle flesh 'gainst what hath used.\\n\\nbrutus:\\nso was, go to, go back the army.\\n\\nking philip:\\ni think what hears is almost meet?\\n\\nfirst lady:\\ncall him to the gallant flower,\\nand has, i say! what men then put it stand?\\nand though become them i'll prologue the temple of it,\\ni seek him basely like a fleety child.\\nthese are required to thee, but some set winds of hence,\\nand it is air to be born all their daughters' enemies.\\ntherefore he purged us at thy past.\\n\\npandarus:\\nnow, by saint sabbare, 'for a day takes this good old.\\n\\nduke of york:\\ni'll wape thee; your honour wrought out the child: damn'd\\n'painted spirit of a nation death, if my compare,\\nthere is no choice indeed, to her foolish leg,\\nso sooth make absolutes so famous of your lunacy,\\nwhere being destruction and bloody. this is a\\npresent brinding cotmusion, are well done.\\n\\ntranio:\\nyour gentlemen, a beggar. what,\\nwouldst thou comprevent her own suit permy? make a gallant fence to\\ncommand our treacherous edges of thy point!\\nthis stone of wines.\\n\\noswald:\\nmore than these woes are not with true stars? come, some loath.\\n\\nbelarius:\\nay, ay; and set upon our mortaly world:\\nthy answer cannot glass fair naughty assemble,\\nher son's sesnect between a new toad, i would wish\\nhe upright half-herbiting. true that do i die,\\nit was too pack the mood of thee, if shesons do\\ncall blabbing enterprise this people on the speaking;\\nand after this true seat i'll do thy name\\nthat ever young as him at adam fixed:\\nand is it known and object by the sight\\nof this infurnity of all the court?\\n\\nanmonio:\\ni saw him think them for a king enough,\\ni am the current city's household. i was about\\nthere fell; it uses this present air, that such a drop:\\nit was a purpose at that chamber as i love\\nas they please, though heart live, and his head doth get\\nbanish'd health to melt the swift boy: but it shall\\nnot have spurn'd,\\nwe could see thee, that pompey holds my edges.\\nour happy heavens say then,\\nwith passion sad, i am despised. this water, that down\\nis to discharge itself in't with my weakness.\\nshall i not tell you: save me i am gone?\\n\\nbertram:\\nthis is ours, and spake not with a box of sovereignty:\\nmadam, if your lordship shall be proud, or i am his pity,\\nthat you have conjured my inclination. who's there?\\n\\ndoctor caius:\\nand the chance of warwick thorough blood, the gods that\\ntell you what was he another in the belly chaste,\\nand it is provoked his corage?\\n\\nshallow:\\nif thou seenst from thy brows, and from my measure,\\nand grey him close from this posterity,\\nyour temples as a doting company as they eat;\\nthen what is nature to the athenian,\\nonly added my soul, who made not senators\\nthat in my good command makes thee for his bullset plays:\\nif thou dost go.\\n\\nvalentine:\\nbe called his chiefest hath deserved\\nthe fland in that almost effected suit,\\nhis unitanced colour cains again, love golden grass:\\nthe business must pursue the head\\nwhose man's basket, growthed all the body\\nthat slews too sight with very hill and party\\nto be revenged with men with her abhorr'd innocent in his face;\\nthat were her spirits and ere wilt to them up\\nand doing at the strange absent man and\\nfear with with mine hands: in pleasure and she means\\nwith doings i will lose the friends; then to whose state\\nis not my husband's land, and filthy men before\\nthis time i have made shadows, be he folly?\\no, what unweeping court as jolt, bosom? of thy leave,\\nit is so noble sport that wait in that corrupt\\nbetween that horse, and break these torns unto the gentleman,\\nand princely burgundy!\\n\\npompey:\\nwilt thou give a frosty euphin since. but why then\\nwe whom the beggar that you tame to speak,\\nand say i loved us to make proud hour blunt--\\nif your great needness be a boy, she is not half abated.\\n\\nlucius:\\nah, by my soul,\\ni should die nothing! would we have durst hear thee\\ncool, rather cannot see!\\n\\ngloucester:\\nsir, i gludge you in.\\n\\nmark antony:\\nthou dost digest you! if accident doth see,\\nwhat says old george and stafford and know me,\\neven yonder where he should prove struck in praise in it;\\ncould be received black scurvy sight?\\n\\nduke of york:\\nhold thee, ha! i will serve\\ncommand in the revenge of his joy.\\n\\nrosalind:\\nedward!\\nif she do say it is, the' are here, when boys, to be in his\\npoor breeding-women, and in eight prelate brought\\npast now they have conduct down, sir. why, then, caesar;\\nhast thou dead?\\n\\nescalus:\\nbut i have all hew some more luckless up.\\n\\nsecond soldier:\\nhe's false and so heavy for a breathing-gilded bed.\\n\\nsecond servingman:\\nwell, 'twere a word of every day to hear my grace,\\nfalse vows at thee? o leaden cause, or turn thy thoughts!\\nthy desdemona had himself beyond our ears,\\ngood tends your daughter and my father's son\\nof france and motion, thy advantage popening\\nthese holy youth was reasonable in unthankfulness\\na certain praise, i'll speak what heaven repose.\\n\\nrosalind:\\ntalk in the wind, i warrant you: it is a bird\\nwill go well, and speak with france, poor crown. peace, villain!\\nyour over-nend with grief and husband, about this.'\\n\\nnorfolk:\\nstir up the provost.\\n\\nmarcus andronicus:\\nwife kill'd: it is a dead man's errlight;\\nbut whiles i see the substance of his true beam\\nwith famous driving poor and groans, and incurable unspeaker,\\na petty mountain we take off an envious brabble free-book-boy:\\ntitus, my sister's virtue and the king\\nyet fair expires are patiently enforced!\\ni will make them bring my lands forth, or 'twas your fool.\\n\\nalbany:\\na plague of self-sweet queen, here did he swear to them!\\nshe will be but not like a modesty of three man;\\ni would not speak.\\n\\nking henry iv:\\nwhy, sir, i never till his wars i not have said\\nas i would, when he answers,\\nit may not be lief: he that has never served\\nand call'd for our side: and therefore did but be\\nthat didst have death to death to heaven to speak.\\n\\nanne page:\\nwelcome, prayers; i will fight by some other villain:\\nlook neither in speakful billows, i shall follow him.\\n\\nclown:\\ni'll do itself as day we did mine honour go\\na good; that fellows have full gentlemen by me.\\n\\nfirst murderer:\\nwhat of villain would not?\\n\\nlord anne:\\nhere yet he says my wife be dead; therefore i\\nset down midst eightingly. he's a foul deed of heavy house;\\nwe do beget your parts of life; which forbid\\nto tell by their good gold, we have in way in him:\\ni shall have my san causes shortly on.\\n\\nhoratio:\\nhear him, in this hour yield me whither: of whose souls\\ni'll warrant you.\\n\\nking john:\\ni will think her valiant john tybalt: thy with your pleasure were\\nnot hern behind the hours. i am protector\\neven as i say, obscure at both.\\n\\nlady:\\nthe way hast thou been lost with this day how defund\\na dozen arms shall determine.\\n\\ncassio:\\nnot i,\\nwhen we do see how yet, i love down for't;\\nto-day below defend a soul in such idleness.\\nboy lethus, cheerly bad; thy end,\\nor what made known me now a hundred fool\\nshould have been above by their head in mistress:\\nand i cannot go to thy stocks and wedge and stay\\nbefore thy soul that crown'd the fire and fought:\\nshe murders in a little foes, for ground, being great, he speeds,\\nthe party pants: and we'll have all the pren-swords, in either.\\n\\nduke senior:\\nmy lord, were but thy men, and custom in a trust you know\\nthat, where his giving and unroaring, being coated\\nyour father and his same weak several pride\\nthat she takes death to speak with benefits.\\n\\nbuckingham:\\nyou guess: i'll take my bloody back.\\n\\nbrutus\\n\""
      ]
     },
     "execution_count": 310,
     "metadata": {},
     "output_type": "execute_result"
    }
   ],
   "source": [
    "text"
   ]
  },
  {
   "cell_type": "code",
   "execution_count": 311,
   "id": "b76df96a",
   "metadata": {},
   "outputs": [
    {
     "name": "stdout",
     "output_type": "stream",
     "text": [
      "Vocabulary size: 36\n"
     ]
    }
   ],
   "source": [
    "# Find the vocabulary\n",
    "vocabulary = sorted(set(text))\n",
    "\n",
    "# Print the vocabulary size\n",
    "print('Vocabulary size:', len(vocabulary))"
   ]
  },
  {
   "cell_type": "code",
   "execution_count": 312,
   "id": "afff2c8a",
   "metadata": {},
   "outputs": [
    {
     "name": "stdout",
     "output_type": "stream",
     "text": [
      "{'\\n': 0, ' ': 1, '!': 2, \"'\": 3, ',': 4, '-': 5, '.': 6, ':': 7, ';': 8, '?': 9, 'a': 10, 'b': 11, 'c': 12, 'd': 13, 'e': 14, 'f': 15, 'g': 16, 'h': 17, 'i': 18, 'j': 19, 'k': 20, 'l': 21, 'm': 22, 'n': 23, 'o': 24, 'p': 25, 'q': 26, 'r': 27, 's': 28, 't': 29, 'u': 30, 'v': 31, 'w': 32, 'x': 33, 'y': 34, 'z': 35}\n",
      "{0: '\\n', 1: ' ', 2: '!', 3: \"'\", 4: ',', 5: '-', 6: '.', 7: ':', 8: ';', 9: '?', 10: 'a', 11: 'b', 12: 'c', 13: 'd', 14: 'e', 15: 'f', 16: 'g', 17: 'h', 18: 'i', 19: 'j', 20: 'k', 21: 'l', 22: 'm', 23: 'n', 24: 'o', 25: 'p', 26: 'q', 27: 'r', 28: 's', 29: 't', 30: 'u', 31: 'v', 32: 'w', 33: 'x', 34: 'y', 35: 'z'}\n"
     ]
    }
   ],
   "source": [
    "# Dictionary to save the mapping from char to integer\n",
    "char_to_idx = { char : idx for idx, char in enumerate(vocabulary) }\n",
    "\n",
    "# Dictionary to save the mapping from integer to char\n",
    "idx_to_char = { idx : char for idx, char in enumerate(vocabulary) }\n",
    "\n",
    "# Print char_to_idx and idx_to_char\n",
    "print(char_to_idx)\n",
    "print(idx_to_char)"
   ]
  },
  {
   "cell_type": "code",
   "execution_count": 313,
   "id": "a47303a0",
   "metadata": {},
   "outputs": [],
   "source": [
    "maxlen = 40"
   ]
  },
  {
   "cell_type": "code",
   "execution_count": 314,
   "id": "4cb18f17",
   "metadata": {},
   "outputs": [
    {
     "name": "stdout",
     "output_type": "stream",
     "text": [
      "No of Sequences: 99953\n"
     ]
    }
   ],
   "source": [
    "# Create empty lists for input and target dataset\n",
    "input_data = []\n",
    "target_data = []\n",
    "\n",
    "# Iterate to get all substrings of length maxlen\n",
    "for i in range(0, len(text) - maxlen):\n",
    "    # Find the sequence of length maxlen starting at i\n",
    "    input_data.append(text[i : i+maxlen])\n",
    "    \n",
    "    # Find the next char after this sequence \n",
    "    target_data.append(text[i+maxlen])\n",
    "\n",
    "# Print number of sequences in input data\n",
    "print('No of Sequences:', len(input_data))"
   ]
  },
  {
   "cell_type": "code",
   "execution_count": 315,
   "id": "1ca94299",
   "metadata": {},
   "outputs": [],
   "source": [
    "# Create a 3-D zero vector to contain the encoded input sequences\n",
    "x = np.zeros((len(input_data), maxlen, len(vocabulary)), dtype='float32')\n",
    "\n",
    "# Create a 2-D zero vector to contain the encoded target characters\n",
    "y = np.zeros((len(target_data), len(vocabulary)), dtype='float32')"
   ]
  },
  {
   "cell_type": "code",
   "execution_count": 316,
   "id": "f8da97e1",
   "metadata": {},
   "outputs": [],
   "source": [
    "# Iterate over the sequences\n",
    "for s_idx, sequence in enumerate(input_data):\n",
    "    # Iterate over all characters in the sequence\n",
    "    for idx, char in enumerate(sequence):\n",
    "        # Fill up vector x\n",
    "        x[s_idx, idx, char_to_idx[char]] = 1    \n",
    "    # Fill up vector y\n",
    "    y[s_idx, char_to_idx[target_data[s_idx]]] = 1"
   ]
  },
  {
   "cell_type": "code",
   "execution_count": 317,
   "id": "8b163514",
   "metadata": {},
   "outputs": [],
   "source": [
    "# Create Sequential model \n",
    "model = Sequential()\n",
    "\n",
    "# Add an LSTM layer of 128 units\n",
    "model.add(LSTM(128, input_shape=(maxlen, len(vocabulary))))\n",
    "\n",
    "# Add a Dense output layer\n",
    "model.add(Dense(len(vocabulary), activation='softmax'))"
   ]
  },
  {
   "cell_type": "code",
   "execution_count": 318,
   "id": "81b456a5",
   "metadata": {},
   "outputs": [
    {
     "name": "stdout",
     "output_type": "stream",
     "text": [
      "Model: \"sequential_28\"\n",
      "_________________________________________________________________\n",
      "Layer (type)                 Output Shape              Param #   \n",
      "=================================================================\n",
      "lstm_27 (LSTM)               (None, 128)               84480     \n",
      "_________________________________________________________________\n",
      "dense_29 (Dense)             (None, 36)                4644      \n",
      "=================================================================\n",
      "Total params: 89,124\n",
      "Trainable params: 89,124\n",
      "Non-trainable params: 0\n",
      "_________________________________________________________________\n"
     ]
    }
   ],
   "source": [
    "# Compile the model\n",
    "model.compile(loss=\"categorical_crossentropy\", optimizer=\"adam\")\n",
    "\n",
    "# Print model summary\n",
    "model.summary()"
   ]
  },
  {
   "cell_type": "code",
   "execution_count": 319,
   "id": "ee2fec01",
   "metadata": {},
   "outputs": [
    {
     "name": "stdout",
     "output_type": "stream",
     "text": [
      "Train on 79962 samples, validate on 19991 samples\n",
      "Epoch 1/1\n",
      "79962/79962 [==============================] - 96s 1ms/step - loss: 2.5727 - val_loss: 2.2887\n"
     ]
    },
    {
     "data": {
      "text/plain": [
       "<keras.callbacks.callbacks.History at 0x7febf4b59748>"
      ]
     },
     "execution_count": 319,
     "metadata": {},
     "output_type": "execute_result"
    }
   ],
   "source": [
    "# Create Sequential model \n",
    "model = Sequential()\n",
    "\n",
    "# Add an LSTM layer of 128 units\n",
    "model.add(LSTM(128, input_shape=(maxlen, len(vocabulary))))\n",
    "\n",
    "# Add a Dense output layer\n",
    "model.add(Dense(len(vocabulary), activation='softmax'))\n",
    "\n",
    "# Compile the model\n",
    "model.compile(loss='categorical_crossentropy', optimizer='adam')\n",
    "\n",
    "# Fit the model\n",
    "model.fit(x, y, batch_size=64, epochs=1, validation_split=0.2)"
   ]
  },
  {
   "cell_type": "code",
   "execution_count": 320,
   "id": "c0b22cdc",
   "metadata": {},
   "outputs": [],
   "source": [
    "# Input sequence\n",
    "sentence = \"that, poor contempt, or claim'd thou sle\"\n",
    "\n",
    "# Create a 3-D zero vector to contain the encoding of sentence.\n",
    "X_test = np.zeros((1, maxlen, len(vocabulary)))\n",
    "\n",
    "# Iterate over each character and convert them to one-hot encoded vector.\n",
    "for s_idx, char in enumerate(sentence):\n",
    "    X_test[0, s_idx, char_to_idx[char]] = 1\n",
    "    \n",
    "# Get the probability distribution using model predict\n",
    "preds = model.predict(X_test, verbose=0)\n",
    "\n",
    "# Get the probability distribution for the first character after the sequence\n",
    "preds_next_char = preds[0]"
   ]
  },
  {
   "cell_type": "code",
   "execution_count": 321,
   "id": "e2e23f95",
   "metadata": {},
   "outputs": [
    {
     "name": "stdout",
     "output_type": "stream",
     "text": [
      "r\n"
     ]
    }
   ],
   "source": [
    "# Get the probability distribution of next character\n",
    "preds = model.predict(X_test, verbose=0)[0]\n",
    "\n",
    "# Get the index of the most probable next character\n",
    "next_index = np.argmax(preds)\n",
    "\n",
    "# Map the index to the actual character and print it\n",
    "next_char = idx_to_char[next_index]\n",
    "\n",
    "# Print the next character\n",
    "print(next_char)"
   ]
  },
  {
   "cell_type": "code",
   "execution_count": 652,
   "id": "6b96beb1",
   "metadata": {},
   "outputs": [
    {
     "data": {
      "text/plain": [
       "True"
      ]
     },
     "execution_count": 652,
     "metadata": {},
     "output_type": "execute_result"
    }
   ],
   "source": [
    "def repeat(sentence):\n",
    "    res = False\n",
    "    \n",
    "    # Check last 3 words for 2 repeats or more\n",
    "    words = sentence.split(' ')\n",
    "    different = set(words[-3:])\n",
    "    if len(different) <= 2:\n",
    "        res = True\n",
    "\n",
    "    # Check for too few varied chars\n",
    "    chars = set(sentence)\n",
    "    if len(chars) < len(sentence)*.4:\n",
    "        res = True\n",
    "    \n",
    "    return res\n",
    "        \n",
    "repeat('fdhj sdfjkdfhss the the bbc')"
   ]
  },
  {
   "cell_type": "code",
   "execution_count": 653,
   "id": "09de017c",
   "metadata": {},
   "outputs": [
    {
     "data": {
      "text/plain": [
       "array([0, 1, 2, 3, 4, 5, 6, 7, 8, 9])"
      ]
     },
     "execution_count": 653,
     "metadata": {},
     "output_type": "execute_result"
    }
   ],
   "source": [
    "np.argsort(list(range(10)))"
   ]
  },
  {
   "cell_type": "code",
   "execution_count": 699,
   "id": "6c337d90",
   "metadata": {},
   "outputs": [],
   "source": [
    "def generate_text(sentence, no_chars):\n",
    "    maxlen = 40\n",
    "    for i in range(no_chars):\n",
    "        text = sentence[i:maxlen+i]\n",
    "        X_test = np.zeros((1, maxlen, len(vocabulary)))\n",
    "        for s_idx, char in enumerate(text):\n",
    "            X_test[0, s_idx, char_to_idx[char]] = 1\n",
    "        preds_next_char = model.predict(X_test)[0]\n",
    "        \n",
    "        # If the last two words repeat, inject randomness\n",
    "        if repeat(sentence[-20:]) or i % 30 == 0:\n",
    "            # argmax gives too much repetition.\n",
    "            # Randomly pick from the top n\n",
    "            n = -15\n",
    "            chars = np.argsort(preds_next_char)[n:]\n",
    "            choice = np.random.choice(chars)\n",
    "            next_char = idx_to_char[choice]\n",
    "        else:\n",
    "            next_char = idx_to_char[np.argmax(preds_next_char)]\n",
    "        sentence += next_char\n",
    "    return(sentence)"
   ]
  },
  {
   "cell_type": "code",
   "execution_count": 700,
   "id": "ee75ee61",
   "metadata": {},
   "outputs": [
    {
     "name": "stdout",
     "output_type": "stream",
     "text": [
      "that, poor contempt, or claim'd thou sle the thes and the theus and thus sher the thell theis and thle the ther thelgh me the thed; and the \n"
     ]
    }
   ],
   "source": [
    "# Input sequence and generate text\n",
    "sentence = \"that, poor contempt, or claim'd thou sle\"\n",
    "text = generate_text(sentence, 100)\n",
    "print(text)"
   ]
  },
  {
   "cell_type": "code",
   "execution_count": 696,
   "id": "8372cf6f",
   "metadata": {},
   "outputs": [
    {
     "data": {
      "text/plain": [
       "'but on that ground i know thee.i  r f  e eu  t s  a \\n  s ssl f sand  u \\n  s f  , '"
      ]
     },
     "execution_count": 696,
     "metadata": {},
     "output_type": "execute_result"
    }
   ],
   "source": [
    "sentence = \"but on that ground i know thee.\"\n",
    "generate_text(sentence, 50)"
   ]
  },
  {
   "cell_type": "code",
   "execution_count": 698,
   "id": "42db0075",
   "metadata": {},
   "outputs": [
    {
     "name": "stdout",
     "output_type": "stream",
     "text": [
      "thou slere the thece ther and the the patoddiimedor the thes and the tis and the theis and\n",
      "----------\n",
      "im'd thou slere the thece ther and the tare the, the tr,y thed the the gtmmndad,t\n",
      "os the t\n",
      "----------\n",
      "eccrtil l,dcnnrectfoac  u e  eo o  i f  odes s fsd\n",
      "----------\n",
      " and the the paatit, theus and the the ne,: hat she the theus aund thet the thee thhlurt, \n",
      "----------\n",
      "lnuseutfif ,,la,issu,frtnuf,fuldtar tf  a o  l d  \n",
      "----------\n",
      "re,urts,,sca ,lal  d l  u t  fd  r  lr fc  a u  n \n",
      "----------\n",
      "sfffioieien ntcde   acnoe,n,dlnnaedtfecfuou,ncuoa,\n",
      "----------\n",
      " the thece ther and the the paatit, theu, the the, ty,'s and the then cous and the thell t\n",
      "----------\n",
      " paatit, theus and the the nakytsi,t\n",
      "wano the theis and the thece therr thar.\n",
      "\n",
      "hat the the\n",
      "----------\n",
      " thou slere the thece ther and the the pr and the the iro,iin. \n",
      "hat thus sher the thell th\n",
      "----------\n"
     ]
    }
   ],
   "source": [
    "import numpy as np\n",
    "\n",
    "for _ in range(10):\n",
    "    pos = round(np.random.uniform()*len(text))-maxlen\n",
    "    sentence = text[pos:pos+maxlen]\n",
    "    print(generate_text(sentence, 50))\n",
    "    print('----------')"
   ]
  },
  {
   "cell_type": "code",
   "execution_count": null,
   "id": "dc57c9ec",
   "metadata": {},
   "outputs": [],
   "source": []
  }
 ],
 "metadata": {
  "kernelspec": {
   "display_name": "tensorflow",
   "language": "python",
   "name": "tensorflow"
  },
  "language_info": {
   "codemirror_mode": {
    "name": "ipython",
    "version": 3
   },
   "file_extension": ".py",
   "mimetype": "text/x-python",
   "name": "python",
   "nbconvert_exporter": "python",
   "pygments_lexer": "ipython3",
   "version": "3.6.13"
  }
 },
 "nbformat": 4,
 "nbformat_minor": 5
}
