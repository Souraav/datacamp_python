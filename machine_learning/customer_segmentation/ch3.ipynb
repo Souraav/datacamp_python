{
 "cells": [
  {
   "cell_type": "markdown",
   "metadata": {},
   "source": [
    "# Chapter 3"
   ]
  },
  {
   "cell_type": "code",
   "execution_count": 2,
   "metadata": {},
   "outputs": [],
   "source": [
    "import pandas as pd\n",
    "import numpy as np\n",
    "import matplotlib.pyplot as plt\n",
    "import seaborn as sns\n",
    "\n",
    "from urllib.request import urlretrieve\n",
    "import zipfile\n",
    "\n",
    "# Download and extra chapter 2 data zip files\n",
    "url = 'https://assets.datacamp.com/production/repositories/3202/datasets/cc496bdfda1d59a462bf7ff3e4117bcd34c76b35/chapter_3.zip'\n",
    "file = 'chapter_3.zip'\n",
    "urlretrieve(url, file)\n",
    "\n",
    "zip_ref = zipfile.ZipFile(file, 'r')\n",
    "zip_ref.extractall('./')\n",
    "zip_ref.close()"
   ]
  },
  {
   "cell_type": "code",
   "execution_count": 14,
   "metadata": {},
   "outputs": [
    {
     "name": "stdout",
     "output_type": "stream",
     "text": [
      "<class 'pandas.core.frame.DataFrame'>\n",
      "RangeIndex: 3643 entries, 0 to 3642\n",
      "Data columns (total 9 columns):\n",
      " #   Column         Non-Null Count  Dtype  \n",
      "---  ------         --------------  -----  \n",
      " 0   CustomerID     3643 non-null   int64  \n",
      " 1   Recency        3643 non-null   int64  \n",
      " 2   Frequency      3643 non-null   int64  \n",
      " 3   MonetaryValue  3643 non-null   float64\n",
      " 4   R              3643 non-null   int64  \n",
      " 5   F              3643 non-null   int64  \n",
      " 6   M              3643 non-null   int64  \n",
      " 7   RFM_Segment    3643 non-null   int64  \n",
      " 8   RFM_Score      3643 non-null   float64\n",
      "dtypes: float64(2), int64(7)\n",
      "memory usage: 256.3 KB\n"
     ]
    }
   ],
   "source": [
    "datamart_rfm = pd.read_csv('datamart_rfm_and_scores.csv')\n",
    "datamart_rfm.info()"
   ]
  },
  {
   "cell_type": "markdown",
   "metadata": {},
   "source": [
    "**K-Means Assumptions**\n",
    "* Symmetric distribution\n",
    "* Variables have same average value \n",
    "* Variables with the same variance"
   ]
  },
  {
   "cell_type": "code",
   "execution_count": 5,
   "metadata": {},
   "outputs": [
    {
     "data": {
      "text/html": [
       "<div>\n",
       "<style scoped>\n",
       "    .dataframe tbody tr th:only-of-type {\n",
       "        vertical-align: middle;\n",
       "    }\n",
       "\n",
       "    .dataframe tbody tr th {\n",
       "        vertical-align: top;\n",
       "    }\n",
       "\n",
       "    .dataframe thead th {\n",
       "        text-align: right;\n",
       "    }\n",
       "</style>\n",
       "<table border=\"1\" class=\"dataframe\">\n",
       "  <thead>\n",
       "    <tr style=\"text-align: right;\">\n",
       "      <th></th>\n",
       "      <th>var1</th>\n",
       "      <th>var2</th>\n",
       "      <th>var3</th>\n",
       "    </tr>\n",
       "  </thead>\n",
       "  <tbody>\n",
       "    <tr>\n",
       "      <th>0</th>\n",
       "      <td>137</td>\n",
       "      <td>1.840</td>\n",
       "      <td>2.898</td>\n",
       "    </tr>\n",
       "    <tr>\n",
       "      <th>1</th>\n",
       "      <td>335</td>\n",
       "      <td>0.910</td>\n",
       "      <td>0.687</td>\n",
       "    </tr>\n",
       "    <tr>\n",
       "      <th>2</th>\n",
       "      <td>172</td>\n",
       "      <td>4.104</td>\n",
       "      <td>8.326</td>\n",
       "    </tr>\n",
       "    <tr>\n",
       "      <th>3</th>\n",
       "      <td>355</td>\n",
       "      <td>6.661</td>\n",
       "      <td>1.582</td>\n",
       "    </tr>\n",
       "    <tr>\n",
       "      <th>4</th>\n",
       "      <td>303</td>\n",
       "      <td>15.285</td>\n",
       "      <td>110.750</td>\n",
       "    </tr>\n",
       "    <tr>\n",
       "      <th>...</th>\n",
       "      <td>...</td>\n",
       "      <td>...</td>\n",
       "      <td>...</td>\n",
       "    </tr>\n",
       "    <tr>\n",
       "      <th>95</th>\n",
       "      <td>252</td>\n",
       "      <td>0.247</td>\n",
       "      <td>0.271</td>\n",
       "    </tr>\n",
       "    <tr>\n",
       "      <th>96</th>\n",
       "      <td>302</td>\n",
       "      <td>0.525</td>\n",
       "      <td>1.256</td>\n",
       "    </tr>\n",
       "    <tr>\n",
       "      <th>97</th>\n",
       "      <td>248</td>\n",
       "      <td>0.288</td>\n",
       "      <td>0.038</td>\n",
       "    </tr>\n",
       "    <tr>\n",
       "      <th>98</th>\n",
       "      <td>240</td>\n",
       "      <td>1.364</td>\n",
       "      <td>5.520</td>\n",
       "    </tr>\n",
       "    <tr>\n",
       "      <th>99</th>\n",
       "      <td>293</td>\n",
       "      <td>0.691</td>\n",
       "      <td>0.447</td>\n",
       "    </tr>\n",
       "  </tbody>\n",
       "</table>\n",
       "<p>100 rows × 3 columns</p>\n",
       "</div>"
      ],
      "text/plain": [
       "    var1    var2     var3\n",
       "0    137   1.840    2.898\n",
       "1    335   0.910    0.687\n",
       "2    172   4.104    8.326\n",
       "3    355   6.661    1.582\n",
       "4    303  15.285  110.750\n",
       "..   ...     ...      ...\n",
       "95   252   0.247    0.271\n",
       "96   302   0.525    1.256\n",
       "97   248   0.288    0.038\n",
       "98   240   1.364    5.520\n",
       "99   293   0.691    0.447\n",
       "\n",
       "[100 rows x 3 columns]"
      ]
     },
     "execution_count": 5,
     "metadata": {},
     "output_type": "execute_result"
    }
   ],
   "source": [
    "data_str = ',var1,var2,var3\\n0,137,1.84,2.898\\n1,335,0.91,0.687\\n2,172,4.104,8.326\\n3,355,6.661,1.582\\n4,303,15.285,110.75\\n5,233,0.175,0.017\\n6,244,0.165,0.249\\n7,229,0.533,6.938\\n8,171,1.221,228.779\\n9,337,2.984,0.586\\n10,381,1.483,1.098\\n11,278,0.08,0.615\\n12,376,0.682,17.479\\n13,354,2.81,0.539\\n14,352,1.333,4.312\\n15,256,2.588,0.503\\n16,150,0.758,0.065\\n17,168,0.778,1.962\\n18,315,1.262,2.948\\n19,341,1.668,16.1\\n20,186,1.281,0.789\\n21,241,1.16,0.265\\n22,107,0.433,3.351\\n23,122,1.602,1.677\\n24,101,1.164,1.828\\n25,309,4.093,0.855\\n26,364,4.463,12.101\\n27,316,1.26,2.212\\n28,241,0.626,59.898\\n29,215,0.451,10.885\\n30,221,1.696,4.121\\n31,130,1.101,0.03\\n32,171,0.651,3.648\\n33,149,1.056,2.467\\n34,103,0.461,5.712\\n35,380,2.389,9.433\\n36,143,0.572,0.423\\n37,176,4.608,5.874\\n38,126,1.654,0.299\\n39,209,2.097,66.723\\n40,397,0.255,0.057\\n41,115,1.235,0.023\\n42,164,2.519,0.029\\n43,296,0.304,0.148\\n44,125,0.717,0.09\\n45,326,1.042,66.896\\n46,382,0.18,0.496\\n47,253,1.482,0.056\\n48,204,2.874,10.963\\n49,122,0.342,0.284\\n50,365,1.549,0.07\\n51,295,0.195,6.566\\n52,226,0.953,3.817\\n53,379,0.133,0.393\\n54,255,4.052,20.583\\n55,183,1.666,1.32\\n56,266,0.97,32.279\\n57,236,0.38,2.945\\n58,388,4.9,28.488\\n59,366,11.638,1.265\\n60,379,0.098,0.073\\n61,243,4.675,193.078\\n62,339,7.62,0.31\\n63,187,1.525,0.652\\n64,381,0.224,0.222\\n65,343,2.936,0.646\\n66,174,0.798,1.684\\n67,290,0.471,1.543\\n68,316,0.216,4.139\\n69,251,1.988,47.036\\n70,283,2.689,0.772\\n71,359,0.459,0.071\\n72,353,1.915,0.079\\n73,362,0.24,0.239\\n74,152,2.72,0.027\\n75,102,1.06,5.887\\n76,176,0.792,0.343\\n77,249,0.881,0.513\\n78,303,2.957,0.996\\n79,363,2.55,0.05\\n80,177,1.936,0.157\\n81,300,1.187,4.262\\n82,175,1.102,3.778\\n83,143,2.163,0.386\\n84,120,1.337,48.93\\n85,130,2.343,0.06\\n86,136,0.679,0.476\\n87,363,0.048,0.609\\n88,157,3.655,0.002\\n89,340,15.312,64.282\\n90,310,1.734,2.197\\n91,196,0.883,0.106\\n92,369,0.843,82.062\\n93,110,0.862,3.52\\n94,379,1.022,2.517\\n95,252,0.247,0.271\\n96,302,0.525,1.256\\n97,248,0.288,0.038\\n98,240,1.364,5.52\\n99,293,0.691,0.447\\n'\n",
    "from io import StringIO\n",
    "\n",
    "data = pd.read_csv(StringIO(data_str), index_col=0)\n",
    "data"
   ]
  },
  {
   "cell_type": "code",
   "execution_count": 6,
   "metadata": {},
   "outputs": [
    {
     "name": "stdout",
     "output_type": "stream",
     "text": [
      "var1    251.85000\n",
      "var2      1.92559\n",
      "var3     12.55028\n",
      "dtype: float64\n",
      "var1    90.993104\n",
      "var2     2.583730\n",
      "var3    34.516362\n",
      "dtype: float64\n",
      "             var1       var2        var3\n",
      "count  100.000000  100.00000  100.000000\n",
      "mean   251.850000    1.92559   12.550280\n",
      "std     90.993104    2.58373   34.516362\n",
      "min    101.000000    0.04800    0.002000\n",
      "25%    171.750000    0.61250    0.280750\n",
      "50%    250.000000    1.17550    1.260500\n",
      "75%    339.250000    2.20800    5.568000\n",
      "max    397.000000   15.31200  228.779000\n"
     ]
    }
   ],
   "source": [
    "# Print the average values of the variables in the dataset\n",
    "print(data.mean())\n",
    "\n",
    "# Print the standard deviation of the variables in the dataset\n",
    "print(data.std())\n",
    "\n",
    "# Get the key statistics of the dataset\n",
    "print(data.describe())"
   ]
  },
  {
   "cell_type": "code",
   "execution_count": 8,
   "metadata": {},
   "outputs": [
    {
     "data": {
      "image/png": "[encoded data removed]",
      "text/plain": [
       "<Figure size 432x288 with 3 Axes>"
      ]
     },
     "metadata": {
      "needs_background": "light"
     },
     "output_type": "display_data"
    }
   ],
   "source": [
    "# Plot distribution of var1\n",
    "plt.subplot(3, 1, 1); sns.distplot(data['var1'])\n",
    "\n",
    "# Plot distribution of var2\n",
    "plt.subplot(3, 1, 2); sns.distplot(data['var2'])\n",
    "\n",
    "# Plot distribution of var3\n",
    "plt.subplot(3, 1, 3); sns.distplot(data['var3'])\n",
    "\n",
    "# Show the plot\n",
    "plt.show()"
   ]
  },
  {
   "cell_type": "code",
   "execution_count": 9,
   "metadata": {},
   "outputs": [
    {
     "data": {
      "image/png": "[encoded data removed]",
      "text/plain": [
       "<Figure size 432x288 with 2 Axes>"
      ]
     },
     "metadata": {
      "needs_background": "light"
     },
     "output_type": "display_data"
    }
   ],
   "source": [
    "# Apply log transformation to var2\n",
    "data['var2_log'] = np.log(data['var2'])\n",
    "\n",
    "# Apply log transformation to var3\n",
    "data['var3_log'] = np.log(data['var3'])\n",
    "\n",
    "# Create a subplot of the distribution of var2_log\n",
    "plt.subplot(2, 1, 1); sns.distplot(data['var2_log'])\n",
    "\n",
    "# Create a subplot of the distribution of var3_log\n",
    "plt.subplot(2, 1, 2); sns.distplot(data['var3_log'])\n",
    "\n",
    "# Show the plot\n",
    "plt.show()"
   ]
  },
  {
   "cell_type": "markdown",
   "metadata": {},
   "source": [
    "## Centre and Scale Variables"
   ]
  },
  {
   "cell_type": "code",
   "execution_count": 10,
   "metadata": {},
   "outputs": [
    {
     "name": "stdout",
     "output_type": "stream",
     "text": [
      "         var1    var2    var3  var2_log  var3_log\n",
      "count  100.00  100.00  100.00    100.00    100.00\n",
      "mean     0.00   -0.00    0.00     -0.00     -0.00\n",
      "std      1.00    1.00    1.00      1.00      1.00\n",
      "min     -1.66   -0.73   -0.36     -2.83     -2.76\n",
      "25%     -0.88   -0.51   -0.36     -0.52     -0.64\n",
      "50%     -0.02   -0.29   -0.33      0.07      0.01\n",
      "75%      0.96    0.11   -0.20      0.64      0.64\n",
      "max      1.60    5.18    6.26      2.39      2.23\n"
     ]
    }
   ],
   "source": [
    "# Center the data by subtracting average values from each entry\n",
    "data_centered = data - data.mean()\n",
    "\n",
    "# Scale the data by dividing each entry by standard deviation\n",
    "data_scaled = data / data.std()\n",
    "\n",
    "# Normalize the data by applying both centering and scaling\n",
    "data_normalized = (data - data.mean()) / data.std()\n",
    "\n",
    "# Print summary statistics to make sure average is zero and standard deviation is one\n",
    "print(data_normalized.describe().round(2))"
   ]
  },
  {
   "cell_type": "code",
   "execution_count": 11,
   "metadata": {},
   "outputs": [],
   "source": [
    "from sklearn.preprocessing import StandardScaler"
   ]
  },
  {
   "cell_type": "code",
   "execution_count": 13,
   "metadata": {},
   "outputs": [
    {
     "name": "stdout",
     "output_type": "stream",
     "text": [
      "         var1    var2    var3  var2_log  var3_log\n",
      "count  100.00  100.00  100.00    100.00    100.00\n",
      "mean     0.00    0.00    0.00     -0.00     -0.00\n",
      "std      1.01    1.01    1.01      1.01      1.01\n",
      "min     -1.67   -0.73   -0.37     -2.85     -2.77\n",
      "25%     -0.88   -0.51   -0.36     -0.53     -0.64\n",
      "50%     -0.02   -0.29   -0.33      0.07      0.01\n",
      "75%      0.97    0.11   -0.20      0.64      0.65\n",
      "max      1.60    5.21    6.30      2.41      2.24\n"
     ]
    }
   ],
   "source": [
    "# Initialize a scaler\n",
    "scaler = StandardScaler()\n",
    "\n",
    "# Fit the scaler\n",
    "scaler.fit(data)\n",
    "\n",
    "# Scale and center the data\n",
    "data_normalized = scaler.transform(data)\n",
    "\n",
    "# Create a pandas DataFrame\n",
    "data_normalized = pd.DataFrame(data_normalized, index=data.index, columns=data.columns)\n",
    "\n",
    "# Print summary statistics\n",
    "print(data_normalized.describe().round(2))"
   ]
  },
  {
   "cell_type": "markdown",
   "metadata": {},
   "source": [
    "### Sequence\n",
    "1. Unskew the data\n",
    "2. Standardize to the same average\n",
    "3. Scale to the same standard deviation\n",
    "4. Store as a separate array"
   ]
  },
  {
   "cell_type": "code",
   "execution_count": 16,
   "metadata": {},
   "outputs": [
    {
     "data": {
      "image/png": "[encoded data removed]",
      "text/plain": [
       "<Figure size 432x288 with 3 Axes>"
      ]
     },
     "metadata": {
      "needs_background": "light"
     },
     "output_type": "display_data"
    }
   ],
   "source": [
    "# Plot recency distribution\n",
    "plt.subplot(3, 1, 1); sns.distplot(datamart_rfm['Recency'])\n",
    "\n",
    "# Plot frequency distribution\n",
    "plt.subplot(3, 1, 2); sns.distplot(datamart_rfm['Frequency'])\n",
    "\n",
    "# Plot monetary value distribution\n",
    "plt.subplot(3, 1, 3); sns.distplot(datamart_rfm['MonetaryValue'])\n",
    "\n",
    "# Show the plot\n",
    "plt.show()"
   ]
  },
  {
   "cell_type": "code",
   "execution_count": 18,
   "metadata": {},
   "outputs": [],
   "source": [
    "cols = ['Recency', 'Frequency', 'MonetaryValue']\n",
    "\n",
    "# Unskew the data\n",
    "datamart_log = np.log(datamart_rfm[cols])\n",
    "\n",
    "# Initialize a standard scaler and fit it\n",
    "scaler = StandardScaler()\n",
    "scaler.fit(datamart_log)\n",
    "\n",
    "# Scale and center the data\n",
    "datamart_normalized = scaler.transform(datamart_log)\n",
    "\n",
    "# Create a pandas DataFrame\n",
    "datamart_normalized = pd.DataFrame(data=datamart_normalized, index=datamart_rfm.index, columns=datamart_rfm[cols].columns)"
   ]
  },
  {
   "cell_type": "code",
   "execution_count": 19,
   "metadata": {},
   "outputs": [
    {
     "data": {
      "image/png": "[encoded data removed]",
      "text/plain": [
       "<Figure size 432x288 with 3 Axes>"
      ]
     },
     "metadata": {
      "needs_background": "light"
     },
     "output_type": "display_data"
    }
   ],
   "source": [
    "# Plot recency distribution\n",
    "plt.subplot(3, 1, 1); sns.distplot(datamart_normalized['Recency'])\n",
    "\n",
    "# Plot frequency distribution\n",
    "plt.subplot(3, 1, 2); sns.distplot(datamart_normalized['Frequency'])\n",
    "\n",
    "# Plot monetary value distribution\n",
    "plt.subplot(3, 1, 3); sns.distplot(datamart_normalized['MonetaryValue'])\n",
    "\n",
    "# Show the plot\n",
    "plt.show()"
   ]
  },
  {
   "cell_type": "code",
   "execution_count": null,
   "metadata": {},
   "outputs": [],
   "source": []
  }
 ],
 "metadata": {
  "kernelspec": {
   "display_name": "Python 3",
   "language": "python",
   "name": "python3"
  },
  "language_info": {
   "codemirror_mode": {
    "name": "ipython",
    "version": 3
   },
   "file_extension": ".py",
   "mimetype": "text/x-python",
   "name": "python",
   "nbconvert_exporter": "python",
   "pygments_lexer": "ipython3",
   "version": "3.8.3"
  }
 },
 "nbformat": 4,
 "nbformat_minor": 4
}
