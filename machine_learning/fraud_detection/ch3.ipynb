{
 "cells": [
  {
   "cell_type": "markdown",
   "metadata": {
    "toc": true
   },
   "source": [
    "<h1>Table of Contents<span class=\"tocSkip\"></span></h1>\n",
    "<div class=\"toc\"><ul class=\"toc-item\"></ul></div>"
   ]
  },
  {
   "cell_type": "markdown",
   "metadata": {},
   "source": [
    "# Chapter 3"
   ]
  },
  {
   "cell_type": "code",
   "execution_count": 49,
   "metadata": {},
   "outputs": [
    {
     "name": "stdout",
     "output_type": "stream",
     "text": [
      "<class 'pandas.core.frame.DataFrame'>\n",
      "Int64Index: 7200 entries, 171915 to 579286\n",
      "Data columns (total 5 columns):\n",
      "age         7200 non-null object\n",
      "gender      7200 non-null object\n",
      "category    7200 non-null object\n",
      "amount      7200 non-null float64\n",
      "fraud       7200 non-null int64\n",
      "dtypes: float64(1), int64(1), object(3)\n",
      "memory usage: 337.5+ KB\n"
     ]
    }
   ],
   "source": [
    "import pandas as pd\n",
    "import matplotlib.pyplot as plt\n",
    "\n",
    "df = pd.read_csv('banksim.csv', index_col=0)\n",
    "df.info()"
   ]
  },
  {
   "cell_type": "code",
   "execution_count": 50,
   "metadata": {},
   "outputs": [
    {
     "data": {
      "text/html": [
       "<div>\n",
       "<style scoped>\n",
       "    .dataframe tbody tr th:only-of-type {\n",
       "        vertical-align: middle;\n",
       "    }\n",
       "\n",
       "    .dataframe tbody tr th {\n",
       "        vertical-align: top;\n",
       "    }\n",
       "\n",
       "    .dataframe thead th {\n",
       "        text-align: right;\n",
       "    }\n",
       "</style>\n",
       "<table border=\"1\" class=\"dataframe\">\n",
       "  <thead>\n",
       "    <tr style=\"text-align: right;\">\n",
       "      <th></th>\n",
       "      <th>age</th>\n",
       "      <th>gender</th>\n",
       "      <th>category</th>\n",
       "      <th>amount</th>\n",
       "      <th>fraud</th>\n",
       "    </tr>\n",
       "  </thead>\n",
       "  <tbody>\n",
       "    <tr>\n",
       "      <th>171915</th>\n",
       "      <td>3</td>\n",
       "      <td>F</td>\n",
       "      <td>es_transportation</td>\n",
       "      <td>49.71</td>\n",
       "      <td>0</td>\n",
       "    </tr>\n",
       "    <tr>\n",
       "      <th>426989</th>\n",
       "      <td>4</td>\n",
       "      <td>F</td>\n",
       "      <td>es_health</td>\n",
       "      <td>39.29</td>\n",
       "      <td>0</td>\n",
       "    </tr>\n",
       "    <tr>\n",
       "      <th>310539</th>\n",
       "      <td>3</td>\n",
       "      <td>F</td>\n",
       "      <td>es_transportation</td>\n",
       "      <td>18.76</td>\n",
       "      <td>0</td>\n",
       "    </tr>\n",
       "    <tr>\n",
       "      <th>215216</th>\n",
       "      <td>4</td>\n",
       "      <td>M</td>\n",
       "      <td>es_transportation</td>\n",
       "      <td>13.95</td>\n",
       "      <td>0</td>\n",
       "    </tr>\n",
       "    <tr>\n",
       "      <th>569244</th>\n",
       "      <td>2</td>\n",
       "      <td>M</td>\n",
       "      <td>es_transportation</td>\n",
       "      <td>49.87</td>\n",
       "      <td>0</td>\n",
       "    </tr>\n",
       "  </tbody>\n",
       "</table>\n",
       "</div>"
      ],
      "text/plain": [
       "       age gender           category  amount  fraud\n",
       "171915   3      F  es_transportation   49.71      0\n",
       "426989   4      F          es_health   39.29      0\n",
       "310539   3      F  es_transportation   18.76      0\n",
       "215216   4      M  es_transportation   13.95      0\n",
       "569244   2      M  es_transportation   49.87      0"
      ]
     },
     "execution_count": 50,
     "metadata": {},
     "output_type": "execute_result"
    }
   ],
   "source": [
    "# Get the dataframe shape\n",
    "df.shape\n",
    "\n",
    "# Display the first 5 rows\n",
    "df.head()"
   ]
  },
  {
   "cell_type": "code",
   "execution_count": 51,
   "metadata": {},
   "outputs": [
    {
     "name": "stdout",
     "output_type": "stream",
     "text": [
      "                           amount     fraud\n",
      "category                                   \n",
      "es_barsandrestaurants   43.841793  0.022472\n",
      "es_contents             55.170000  0.000000\n",
      "es_fashion              59.780769  0.020619\n",
      "es_food                 35.216050  0.000000\n",
      "es_health              126.604704  0.242798\n",
      "es_home                120.688317  0.208333\n",
      "es_hotelservices       172.756245  0.548387\n",
      "es_hyper                46.788180  0.125000\n",
      "es_leisure             229.757600  1.000000\n",
      "es_otherservices       149.648960  0.600000\n",
      "es_sportsandtoys       157.251737  0.657895\n",
      "es_tech                132.852862  0.179487\n",
      "es_transportation       27.422014  0.000000\n",
      "es_travel              231.818656  0.944444\n",
      "es_wellnessandbeauty    66.167078  0.060606\n"
     ]
    }
   ],
   "source": [
    "# Groupby categories and take the mean\n",
    "print(df.groupby('category').mean())"
   ]
  },
  {
   "cell_type": "code",
   "execution_count": 7,
   "metadata": {},
   "outputs": [
    {
     "name": "stdout",
     "output_type": "stream",
     "text": [
      "        amount     fraud\n",
      "age                     \n",
      "0    49.468935  0.050000\n",
      "1    35.622829  0.026648\n",
      "2    37.228665  0.028718\n",
      "3    37.279338  0.023283\n",
      "4    36.197985  0.035966\n",
      "5    37.547521  0.023990\n",
      "6    36.700852  0.022293\n",
      "U    39.117000  0.000000\n"
     ]
    }
   ],
   "source": [
    "# Group by age groups and get the mean\n",
    "print(df.groupby('age').mean())"
   ]
  },
  {
   "cell_type": "code",
   "execution_count": 10,
   "metadata": {},
   "outputs": [
    {
     "data": {
      "image/png": "[encoded data removed]",
      "text/plain": [
       "<Figure size 432x288 with 1 Axes>"
      ]
     },
     "metadata": {
      "needs_background": "light"
     },
     "output_type": "display_data"
    }
   ],
   "source": [
    "# Create two dataframes with fraud and non-fraud data \n",
    "df_fraud = df.loc[df.fraud == 1] \n",
    "df_non_fraud = df.loc[df.fraud == 0]\n",
    "\n",
    "# Plot histograms of the amounts in fraud and non-fraud data \n",
    "plt.hist(df_fraud.amount, alpha=0.5, label='fraud')\n",
    "plt.hist(df_non_fraud.amount, alpha=0.5, label='nonfraud')\n",
    "plt.legend()\n",
    "plt.show()"
   ]
  },
  {
   "cell_type": "code",
   "execution_count": 52,
   "metadata": {},
   "outputs": [
    {
     "name": "stdout",
     "output_type": "stream",
     "text": [
      "<class 'pandas.core.frame.DataFrame'>\n",
      "Int64Index: 7189 entries, 0 to 7199\n",
      "Data columns (total 18 columns):\n",
      "age                      7189 non-null int64\n",
      "amount                   7189 non-null float64\n",
      "fraud                    7189 non-null int64\n",
      "M                        7189 non-null int64\n",
      "es_barsandrestaurants    7189 non-null int64\n",
      "es_contents              7189 non-null int64\n",
      "es_fashion               7189 non-null int64\n",
      "es_food                  7189 non-null int64\n",
      "es_health                7189 non-null int64\n",
      "es_home                  7189 non-null int64\n",
      "es_hotelservices         7189 non-null int64\n",
      "es_hyper                 7189 non-null int64\n",
      "es_leisure               7189 non-null int64\n",
      "es_otherservices         7189 non-null int64\n",
      "es_sportsandtoys         7189 non-null int64\n",
      "es_tech                  7189 non-null int64\n",
      "es_transportation        7189 non-null int64\n",
      "es_travel                7189 non-null int64\n",
      "dtypes: float64(1), int64(17)\n",
      "memory usage: 1.0 MB\n"
     ]
    }
   ],
   "source": [
    "df = pd.read_csv('banksim_adj.csv', index_col=0)\n",
    "df.info()"
   ]
  },
  {
   "cell_type": "code",
   "execution_count": 25,
   "metadata": {},
   "outputs": [
    {
     "name": "stdout",
     "output_type": "stream",
     "text": [
      "<class 'pandas.core.frame.DataFrame'>\n",
      "Int64Index: 7189 entries, 171915 to 579286\n",
      "Data columns (total 19 columns):\n",
      "age                               7189 non-null float64\n",
      "amount                            7189 non-null float64\n",
      "fraud                             7189 non-null int64\n",
      "category_es_barsandrestaurants    7189 non-null uint8\n",
      "category_es_contents              7189 non-null uint8\n",
      "category_es_fashion               7189 non-null uint8\n",
      "category_es_food                  7189 non-null uint8\n",
      "category_es_health                7189 non-null uint8\n",
      "category_es_home                  7189 non-null uint8\n",
      "category_es_hotelservices         7189 non-null uint8\n",
      "category_es_hyper                 7189 non-null uint8\n",
      "category_es_leisure               7189 non-null uint8\n",
      "category_es_otherservices         7189 non-null uint8\n",
      "category_es_sportsandtoys         7189 non-null uint8\n",
      "category_es_tech                  7189 non-null uint8\n",
      "category_es_transportation        7189 non-null uint8\n",
      "category_es_travel                7189 non-null uint8\n",
      "category_es_wellnessandbeauty     7189 non-null uint8\n",
      "M                                 7189 non-null int64\n",
      "dtypes: float64(2), int64(2), uint8(15)\n",
      "memory usage: 386.1 KB\n"
     ]
    }
   ],
   "source": [
    "# Don't need this - but good exercise to create!\n",
    "df = df[df['age'] != 'U']\n",
    "df['age'] = df['age'].astype('float')\n",
    "df = pd.get_dummies(df, columns=['category'])\n",
    "df['M'] = 0\n",
    "df.loc[df['gender'] == 'M', 'M'] = 1\n",
    "df = df.drop('gender', axis='columns')\n",
    "df.info()"
   ]
  },
  {
   "cell_type": "code",
   "execution_count": 53,
   "metadata": {},
   "outputs": [],
   "source": [
    "# Import the scaler\n",
    "from sklearn.preprocessing import MinMaxScaler\n",
    "\n",
    "# Transform df into a numpy array\n",
    "X = np.array(df).astype(np.float)\n",
    "\n",
    "# Define the scaler and apply to the data\n",
    "scaler = MinMaxScaler()\n",
    "X_scaled = scaler.fit_transform(X)"
   ]
  },
  {
   "cell_type": "code",
   "execution_count": 54,
   "metadata": {},
   "outputs": [
    {
     "data": {
      "text/plain": [
       "MiniBatchKMeans(batch_size=100, compute_labels=True, init='k-means++',\n",
       "        init_size=None, max_iter=100, max_no_improvement=10, n_clusters=8,\n",
       "        n_init=3, random_state=0, reassignment_ratio=0.01, tol=0.0,\n",
       "        verbose=0)"
      ]
     },
     "execution_count": 54,
     "metadata": {},
     "output_type": "execute_result"
    }
   ],
   "source": [
    "# Import MiniBatchKmeans \n",
    "from sklearn.cluster import MiniBatchKMeans\n",
    "\n",
    "# Define the model \n",
    "kmeans = MiniBatchKMeans(n_clusters=8, random_state=0)\n",
    "\n",
    "# Fit the model to the scaled data\n",
    "kmeans.fit(X_scaled)"
   ]
  },
  {
   "cell_type": "code",
   "execution_count": 55,
   "metadata": {},
   "outputs": [],
   "source": [
    "import matplotlib.pyplot as plt"
   ]
  },
  {
   "cell_type": "code",
   "execution_count": 56,
   "metadata": {},
   "outputs": [
    {
     "data": {
      "image/png": "[encoded data removed]",
      "text/plain": [
       "<Figure size 432x288 with 1 Axes>"
      ]
     },
     "metadata": {},
     "output_type": "display_data"
    }
   ],
   "source": [
    "# Define the range of clusters to try\n",
    "clustno = range(1, 10)\n",
    "\n",
    "# Run MiniBatch Kmeans over the number of clusters\n",
    "kmeans = [MiniBatchKMeans(n_clusters=i) for i in clustno]\n",
    "\n",
    "# Obtain the score for each model\n",
    "score = [kmeans[i].fit(X_scaled).score(X_scaled) for i in range(len(kmeans))]\n",
    "\n",
    "# Plot the models and their respective score \n",
    "plt.plot(clustno, score)\n",
    "plt.xlabel('Number of Clusters')\n",
    "plt.ylabel('Score')\n",
    "plt.title('Elbow Curve')\n",
    "plt.show()"
   ]
  },
  {
   "cell_type": "code",
   "execution_count": 57,
   "metadata": {},
   "outputs": [],
   "source": [
    "from sklearn.model_selection import train_test_split\n",
    "y = df['fraud']"
   ]
  },
  {
   "cell_type": "code",
   "execution_count": 58,
   "metadata": {},
   "outputs": [],
   "source": [
    "# Split the data into training and test set\n",
    "X_train, X_test, y_train, y_test = train_test_split(X_scaled, y, test_size=0.3, random_state=0)\n",
    "\n",
    "# Define K-means model \n",
    "kmeans = MiniBatchKMeans(n_clusters=3, random_state=42).fit(X_train)\n",
    "\n",
    "# Obtain predictions and calculate distance from cluster centroid\n",
    "X_test_clusters = kmeans.predict(X_test)\n",
    "X_test_clusters_centers = kmeans.cluster_centers_\n",
    "dist = [np.linalg.norm(x-y) for x, y in zip(X_test, X_test_clusters_centers[X_test_clusters])]\n",
    "\n",
    "# Create fraud predictions based on outliers on clusters \n",
    "km_y_pred = np.array(dist)\n",
    "km_y_pred[dist >= np.percentile(dist, 95)] = 1\n",
    "km_y_pred[dist < np.percentile(dist, 95)] = 0"
   ]
  },
  {
   "cell_type": "code",
   "execution_count": 59,
   "metadata": {},
   "outputs": [],
   "source": [
    "from sklearn.metrics import roc_auc_score, confusion_matrix\n",
    "import seaborn as sn\n",
    "\n",
    "def plot_confusion_matrix(km_cm):\n",
    "  df_cm = pd.DataFrame(km_cm, ['True Normal','True Fraud'],['Pred Normal','Pred Fraud'])\n",
    "  plt.figure(figsize = (8,4))\n",
    "  sn.set(font_scale=1.4) \n",
    "  sn.heatmap(df_cm, annot=True,annot_kws={\"size\": 16},fmt='g')\n",
    "  plt.show()"
   ]
  },
  {
   "cell_type": "code",
   "execution_count": 60,
   "metadata": {},
   "outputs": [
    {
     "name": "stdout",
     "output_type": "stream",
     "text": [
      "0.9703717698082832\n"
     ]
    },
    {
     "data": {
      "image/png": "[encoded data removed]",
      "text/plain": [
       "<Figure size 576x288 with 2 Axes>"
      ]
     },
     "metadata": {},
     "output_type": "display_data"
    }
   ],
   "source": [
    "# Obtain the ROC score\n",
    "print(roc_auc_score(y_test, km_y_pred))\n",
    "\n",
    "# Create a confusion matrix\n",
    "km_cm = confusion_matrix(y_test, km_y_pred)\n",
    "\n",
    "# Plot the confusion matrix in a figure to visualize results \n",
    "plot_confusion_matrix(km_cm)"
   ]
  },
  {
   "cell_type": "code",
   "execution_count": 66,
   "metadata": {},
   "outputs": [],
   "source": [
    "from sklearn.metrics import homogeneity_score, silhouette_score\n",
    "labels = y"
   ]
  },
  {
   "cell_type": "code",
   "execution_count": 67,
   "metadata": {},
   "outputs": [
    {
     "name": "stdout",
     "output_type": "stream",
     "text": [
      "Estimated number of clusters: 26\n",
      "Homogeneity: 0.922\n",
      "Silhouette Coefficient: 0.707\n"
     ]
    }
   ],
   "source": [
    "# Import DBSCAN\n",
    "from sklearn.cluster import DBSCAN\n",
    "\n",
    "# Initialize and fit the DBscan model\n",
    "db = DBSCAN(eps=0.9, min_samples=10, n_jobs=-1).fit(X_scaled)\n",
    "\n",
    "# Obtain the predicted labels and calculate number of clusters\n",
    "pred_labels = db.labels_\n",
    "n_clusters = len(set(pred_labels)) - (1 if -1 in labels else 0)\n",
    "\n",
    "# Print performance metrics for DBscan\n",
    "print('Estimated number of clusters: %d' % n_clusters)\n",
    "print(\"Homogeneity: %0.3f\" % homogeneity_score(labels, pred_labels))\n",
    "print(\"Silhouette Coefficient: %0.3f\" % silhouette_score(X_scaled, pred_labels))"
   ]
  },
  {
   "cell_type": "code",
   "execution_count": 71,
   "metadata": {},
   "outputs": [
    {
     "name": "stdout",
     "output_type": "stream",
     "text": [
      "The clusters are:\n",
      "[21 18 24]\n",
      "Their counts are:\n",
      "[10 10 11]\n"
     ]
    }
   ],
   "source": [
    "# Count observations in each cluster number\n",
    "counts = np.bincount(pred_labels[pred_labels>=0])\n",
    "\n",
    "# Sort the sample counts of the clusters and take the top 3 smallest clusters\n",
    "smallest_clusters = np.argsort(counts)[:3]\n",
    "\n",
    "# Print the counts of the smallest clusters only\n",
    "print(\"The clusters are:\")      \n",
    "print(smallest_clusters)\n",
    "\n",
    "# Print the counts of the smallest clusters only\n",
    "print(\"Their counts are:\")      \n",
    "print(counts[smallest_clusters])"
   ]
  },
  {
   "cell_type": "code",
   "execution_count": 74,
   "metadata": {},
   "outputs": [
    {
     "name": "stdout",
     "output_type": "stream",
     "text": [
      "Flagged Fraud     0   1\n",
      "Actual Fraud           \n",
      "0              6979  10\n",
      "1               179  21\n"
     ]
    }
   ],
   "source": [
    "# Create a dataframe of the predicted cluster numbers and fraud labels \n",
    "df = pd.DataFrame({'clusternr':pred_labels, 'fraud':labels})\n",
    "\n",
    "# Create a condition flagging fraud for the smallest clusters \n",
    "df['predicted_fraud'] = np.where((df['clusternr']==21)|(df['clusternr']==18)|(df['clusternr']==24),1 , 0)\n",
    "\n",
    "# Run a crosstab on the results \n",
    "print(pd.crosstab(df['fraud'],\n",
    "                  df['predicted_fraud'],\n",
    "                  rownames=['Actual Fraud'],\n",
    "                  colnames=['Flagged Fraud']))"
   ]
  },
  {
   "cell_type": "code",
   "execution_count": null,
   "metadata": {},
   "outputs": [],
   "source": []
  }
 ],
 "metadata": {
  "kernelspec": {
   "display_name": "Python 3",
   "language": "python",
   "name": "python3"
  },
  "language_info": {
   "codemirror_mode": {
    "name": "ipython",
    "version": 3
   },
   "file_extension": ".py",
   "mimetype": "text/x-python",
   "name": "python",
   "nbconvert_exporter": "python",
   "pygments_lexer": "ipython3",
   "version": "3.6.7"
  },
  "toc": {
   "base_numbering": 1,
   "nav_menu": {},
   "number_sections": true,
   "sideBar": true,
   "skip_h1_title": true,
   "title_cell": "Table of Contents",
   "title_sidebar": "Contents",
   "toc_cell": true,
   "toc_position": {},
   "toc_section_display": true,
   "toc_window_display": false
  },
  "varInspector": {
   "cols": {
    "lenName": 16,
    "lenType": 16,
    "lenVar": 40
   },
   "kernels_config": {
    "python": {
     "delete_cmd_postfix": "",
     "delete_cmd_prefix": "del ",
     "library": "var_list.py",
     "varRefreshCmd": "print(var_dic_list())"
    },
    "r": {
     "delete_cmd_postfix": ") ",
     "delete_cmd_prefix": "rm(",
     "library": "var_list.r",
     "varRefreshCmd": "cat(var_dic_list()) "
    }
   },
   "types_to_exclude": [
    "module",
    "function",
    "builtin_function_or_method",
    "instance",
    "_Feature"
   ],
   "window_display": false
  }
 },
 "nbformat": 4,
 "nbformat_minor": 2
}
