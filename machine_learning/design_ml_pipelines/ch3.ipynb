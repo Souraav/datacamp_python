{
 "cells": [
  {
   "cell_type": "markdown",
   "metadata": {
    "toc": true
   },
   "source": [
    "<h1>Table of Contents<span class=\"tocSkip\"></span></h1>\n",
    "<div class=\"toc\"><ul class=\"toc-item\"></ul></div>"
   ]
  },
  {
   "cell_type": "code",
   "execution_count": 1,
   "metadata": {
    "ExecuteTime": {
     "end_time": "2019-12-10T08:01:45.083445Z",
     "start_time": "2019-12-10T08:01:36.626149Z"
    }
   },
   "outputs": [],
   "source": [
    "import numpy as np\n",
    "import matplotlib.pyplot as plt\n",
    "import pandas as pd\n",
    "from urllib.request import urlretrieve\n",
    "from io import StringIO"
   ]
  },
  {
   "cell_type": "code",
   "execution_count": 19,
   "metadata": {
    "ExecuteTime": {
     "end_time": "2019-12-10T08:36:44.378513Z",
     "start_time": "2019-12-10T08:36:44.369273Z"
    }
   },
   "outputs": [],
   "source": [
    "from sklearn.pipeline import Pipeline\n",
    "from sklearn.feature_selection import f_classif, SelectKBest\n",
    "from sklearn.model_selection import train_test_split, GridSearchCV\n",
    "from sklearn.ensemble import RandomForestClassifier"
   ]
  },
  {
   "cell_type": "code",
   "execution_count": 14,
   "metadata": {
    "ExecuteTime": {
     "end_time": "2019-12-10T08:34:12.124641Z",
     "start_time": "2019-12-10T08:34:11.668597Z"
    }
   },
   "outputs": [
    {
     "name": "stdout",
     "output_type": "stream",
     "text": [
      "(339, 279)\n"
     ]
    }
   ],
   "source": [
    "file = 'arrh.csv'\n",
    "url = 'https://assets.datacamp.com/production/repositories/3554/datasets/eb59119dbc87d95d89b446b825cb38854a59411e/'\n",
    "urlretrieve(url+file, file)\n",
    "arrh = pd.read_csv(file)\n",
    "\n",
    "target = 'class'\n",
    "\n",
    "X = arrh.drop(target, axis=1)\n",
    "y = arrh[target]\n",
    "\n",
    "X_train, X_test, y_train, y_test = train_test_split(X, y, test_size=0.25)\n",
    "print(X_train.shape)"
   ]
  },
  {
   "cell_type": "code",
   "execution_count": 20,
   "metadata": {
    "ExecuteTime": {
     "end_time": "2019-12-10T08:36:48.778975Z",
     "start_time": "2019-12-10T08:36:48.417700Z"
    },
    "scrolled": true
   },
   "outputs": [
    {
     "name": "stderr",
     "output_type": "stream",
     "text": [
      "/Users/Brian/anaconda3/envs/datacamp/lib/python3.6/site-packages/sklearn/model_selection/_split.py:1978: FutureWarning: The default value of cv will change from 3 to 5 in version 0.22. Specify it explicitly to silence this warning.\n",
      "  warnings.warn(CV_WARNING, FutureWarning)\n",
      "/Users/Brian/anaconda3/envs/datacamp/lib/python3.6/site-packages/sklearn/feature_selection/univariate_selection.py:114: UserWarning: Features [ 18  19  21  35  47  59  60  67  69  72  73  83  84  86  93 103 129 131\n",
      " 132 133 139 141 143 144 145 151 153 154 155 156 157 163 164 204 234 264\n",
      " 274] are constant.\n",
      "  UserWarning)\n",
      "/Users/Brian/anaconda3/envs/datacamp/lib/python3.6/site-packages/sklearn/feature_selection/univariate_selection.py:115: RuntimeWarning: invalid value encountered in true_divide\n",
      "  f = msb / msw\n",
      "/Users/Brian/anaconda3/envs/datacamp/lib/python3.6/site-packages/sklearn/feature_selection/univariate_selection.py:114: UserWarning: Features [ 19  21  23  35  47  55  58  59  67  69  71  83  84  85 129 131 132 139\n",
      " 141 143 145 151 153 154 156 157 164 194 204 264 274] are constant.\n",
      "  UserWarning)\n",
      "/Users/Brian/anaconda3/envs/datacamp/lib/python3.6/site-packages/sklearn/feature_selection/univariate_selection.py:115: RuntimeWarning: invalid value encountered in true_divide\n",
      "  f = msb / msw\n",
      "/Users/Brian/anaconda3/envs/datacamp/lib/python3.6/site-packages/sklearn/feature_selection/univariate_selection.py:114: UserWarning: Features [ 19  21  31  35  37  45  47  59  61  67  69  74  83  84 115 121 129 130\n",
      " 131 132 139 141 143 145 150 151 153 154 156 157 164 174 204 244 264 273\n",
      " 274] are constant.\n",
      "  UserWarning)\n",
      "/Users/Brian/anaconda3/envs/datacamp/lib/python3.6/site-packages/sklearn/feature_selection/univariate_selection.py:115: RuntimeWarning: invalid value encountered in true_divide\n",
      "  f = msb / msw\n",
      "/Users/Brian/anaconda3/envs/datacamp/lib/python3.6/site-packages/sklearn/feature_selection/univariate_selection.py:114: UserWarning: Features [ 18  19  21  35  47  59  60  67  69  72  73  83  84  86  93 103 129 131\n",
      " 132 133 139 141 143 144 145 151 153 154 155 156 157 163 164 204 234 264\n",
      " 274] are constant.\n",
      "  UserWarning)\n",
      "/Users/Brian/anaconda3/envs/datacamp/lib/python3.6/site-packages/sklearn/feature_selection/univariate_selection.py:115: RuntimeWarning: invalid value encountered in true_divide\n",
      "  f = msb / msw\n",
      "/Users/Brian/anaconda3/envs/datacamp/lib/python3.6/site-packages/sklearn/feature_selection/univariate_selection.py:114: UserWarning: Features [ 19  21  23  35  47  55  58  59  67  69  71  83  84  85 129 131 132 139\n",
      " 141 143 145 151 153 154 156 157 164 194 204 264 274] are constant.\n",
      "  UserWarning)\n",
      "/Users/Brian/anaconda3/envs/datacamp/lib/python3.6/site-packages/sklearn/feature_selection/univariate_selection.py:115: RuntimeWarning: invalid value encountered in true_divide\n",
      "  f = msb / msw\n",
      "/Users/Brian/anaconda3/envs/datacamp/lib/python3.6/site-packages/sklearn/feature_selection/univariate_selection.py:114: UserWarning: Features [ 19  21  31  35  37  45  47  59  61  67  69  74  83  84 115 121 129 130\n",
      " 131 132 139 141 143 145 150 151 153 154 156 157 164 174 204 244 264 273\n",
      " 274] are constant.\n",
      "  UserWarning)\n",
      "/Users/Brian/anaconda3/envs/datacamp/lib/python3.6/site-packages/sklearn/feature_selection/univariate_selection.py:115: RuntimeWarning: invalid value encountered in true_divide\n",
      "  f = msb / msw\n",
      "/Users/Brian/anaconda3/envs/datacamp/lib/python3.6/site-packages/sklearn/feature_selection/univariate_selection.py:114: UserWarning: Features [ 18  19  21  35  47  59  60  67  69  72  73  83  84  86  93 103 129 131\n",
      " 132 133 139 141 143 144 145 151 153 154 155 156 157 163 164 204 234 264\n",
      " 274] are constant.\n",
      "  UserWarning)\n",
      "/Users/Brian/anaconda3/envs/datacamp/lib/python3.6/site-packages/sklearn/feature_selection/univariate_selection.py:115: RuntimeWarning: invalid value encountered in true_divide\n",
      "  f = msb / msw\n",
      "/Users/Brian/anaconda3/envs/datacamp/lib/python3.6/site-packages/sklearn/feature_selection/univariate_selection.py:114: UserWarning: Features [ 19  21  23  35  47  55  58  59  67  69  71  83  84  85 129 131 132 139\n",
      " 141 143 145 151 153 154 156 157 164 194 204 264 274] are constant.\n",
      "  UserWarning)\n",
      "/Users/Brian/anaconda3/envs/datacamp/lib/python3.6/site-packages/sklearn/feature_selection/univariate_selection.py:115: RuntimeWarning: invalid value encountered in true_divide\n",
      "  f = msb / msw\n",
      "/Users/Brian/anaconda3/envs/datacamp/lib/python3.6/site-packages/sklearn/feature_selection/univariate_selection.py:114: UserWarning: Features [ 19  21  31  35  37  45  47  59  61  67  69  74  83  84 115 121 129 130\n",
      " 131 132 139 141 143 145 150 151 153 154 156 157 164 174 204 244 264 273\n",
      " 274] are constant.\n",
      "  UserWarning)\n",
      "/Users/Brian/anaconda3/envs/datacamp/lib/python3.6/site-packages/sklearn/feature_selection/univariate_selection.py:115: RuntimeWarning: invalid value encountered in true_divide\n",
      "  f = msb / msw\n",
      "/Users/Brian/anaconda3/envs/datacamp/lib/python3.6/site-packages/sklearn/feature_selection/univariate_selection.py:114: UserWarning: Features [ 18  19  21  35  47  59  60  67  69  72  73  83  84  86  93 103 129 131\n",
      " 132 133 139 141 143 144 145 151 153 154 155 156 157 163 164 204 234 264\n",
      " 274] are constant.\n",
      "  UserWarning)\n",
      "/Users/Brian/anaconda3/envs/datacamp/lib/python3.6/site-packages/sklearn/feature_selection/univariate_selection.py:115: RuntimeWarning: invalid value encountered in true_divide\n",
      "  f = msb / msw\n"
     ]
    },
    {
     "name": "stdout",
     "output_type": "stream",
     "text": [
      "{'clf__n_estimators': 5, 'feature_selection__k': 20}\n"
     ]
    },
    {
     "name": "stderr",
     "output_type": "stream",
     "text": [
      "/Users/Brian/anaconda3/envs/datacamp/lib/python3.6/site-packages/sklearn/feature_selection/univariate_selection.py:114: UserWarning: Features [ 19  21  23  35  47  55  58  59  67  69  71  83  84  85 129 131 132 139\n",
      " 141 143 145 151 153 154 156 157 164 194 204 264 274] are constant.\n",
      "  UserWarning)\n",
      "/Users/Brian/anaconda3/envs/datacamp/lib/python3.6/site-packages/sklearn/feature_selection/univariate_selection.py:115: RuntimeWarning: invalid value encountered in true_divide\n",
      "  f = msb / msw\n",
      "/Users/Brian/anaconda3/envs/datacamp/lib/python3.6/site-packages/sklearn/feature_selection/univariate_selection.py:114: UserWarning: Features [ 19  21  31  35  37  45  47  59  61  67  69  74  83  84 115 121 129 130\n",
      " 131 132 139 141 143 145 150 151 153 154 156 157 164 174 204 244 264 273\n",
      " 274] are constant.\n",
      "  UserWarning)\n",
      "/Users/Brian/anaconda3/envs/datacamp/lib/python3.6/site-packages/sklearn/feature_selection/univariate_selection.py:115: RuntimeWarning: invalid value encountered in true_divide\n",
      "  f = msb / msw\n",
      "/Users/Brian/anaconda3/envs/datacamp/lib/python3.6/site-packages/sklearn/feature_selection/univariate_selection.py:114: UserWarning: Features [ 19  21  35  47  59  67  69  83  84 129 131 132 139 141 143 145 151 153\n",
      " 154 156 157 164 204 264 274] are constant.\n",
      "  UserWarning)\n",
      "/Users/Brian/anaconda3/envs/datacamp/lib/python3.6/site-packages/sklearn/feature_selection/univariate_selection.py:115: RuntimeWarning: invalid value encountered in true_divide\n",
      "  f = msb / msw\n"
     ]
    }
   ],
   "source": [
    "# Create pipeline with feature selector and classifier\n",
    "pipe = Pipeline([\n",
    "    ('feature_selection', SelectKBest(f_classif)),\n",
    "    ('clf', RandomForestClassifier(random_state=2))])\n",
    "\n",
    "# Create a parameter grid\n",
    "params = {\n",
    "   'feature_selection__k':[10, 20],\n",
    "   'clf__n_estimators':[2, 5]}\n",
    "\n",
    "# Initialize the grid search object\n",
    "grid_search = GridSearchCV(pipe, param_grid=params)\n",
    "\n",
    "# Fit it to the data and print the best value combination\n",
    "print(grid_search.fit(X_train, y_train).best_params_)"
   ]
  },
  {
   "cell_type": "code",
   "execution_count": 22,
   "metadata": {
    "ExecuteTime": {
     "end_time": "2019-12-10T08:38:27.995359Z",
     "start_time": "2019-12-10T08:38:27.983918Z"
    }
   },
   "outputs": [],
   "source": [
    "from sklearn.metrics import roc_auc_score, make_scorer, f1_score, confusion_matrix"
   ]
  },
  {
   "cell_type": "code",
   "execution_count": 23,
   "metadata": {
    "ExecuteTime": {
     "end_time": "2019-12-10T08:38:49.838168Z",
     "start_time": "2019-12-10T08:38:49.411301Z"
    },
    "scrolled": true
   },
   "outputs": [
    {
     "name": "stderr",
     "output_type": "stream",
     "text": [
      "/Users/Brian/anaconda3/envs/datacamp/lib/python3.6/site-packages/sklearn/model_selection/_split.py:1978: FutureWarning: The default value of cv will change from 3 to 5 in version 0.22. Specify it explicitly to silence this warning.\n",
      "  warnings.warn(CV_WARNING, FutureWarning)\n",
      "/Users/Brian/anaconda3/envs/datacamp/lib/python3.6/site-packages/sklearn/feature_selection/univariate_selection.py:114: UserWarning: Features [ 18  19  21  35  47  59  60  67  69  72  73  83  84  86  93 103 129 131\n",
      " 132 133 139 141 143 144 145 151 153 154 155 156 157 163 164 204 234 264\n",
      " 274] are constant.\n",
      "  UserWarning)\n",
      "/Users/Brian/anaconda3/envs/datacamp/lib/python3.6/site-packages/sklearn/feature_selection/univariate_selection.py:115: RuntimeWarning: invalid value encountered in true_divide\n",
      "  f = msb / msw\n",
      "/Users/Brian/anaconda3/envs/datacamp/lib/python3.6/site-packages/sklearn/feature_selection/univariate_selection.py:114: UserWarning: Features [ 19  21  23  35  47  55  58  59  67  69  71  83  84  85 129 131 132 139\n",
      " 141 143 145 151 153 154 156 157 164 194 204 264 274] are constant.\n",
      "  UserWarning)\n",
      "/Users/Brian/anaconda3/envs/datacamp/lib/python3.6/site-packages/sklearn/feature_selection/univariate_selection.py:115: RuntimeWarning: invalid value encountered in true_divide\n",
      "  f = msb / msw\n",
      "/Users/Brian/anaconda3/envs/datacamp/lib/python3.6/site-packages/sklearn/feature_selection/univariate_selection.py:114: UserWarning: Features [ 19  21  31  35  37  45  47  59  61  67  69  74  83  84 115 121 129 130\n",
      " 131 132 139 141 143 145 150 151 153 154 156 157 164 174 204 244 264 273\n",
      " 274] are constant.\n",
      "  UserWarning)\n",
      "/Users/Brian/anaconda3/envs/datacamp/lib/python3.6/site-packages/sklearn/feature_selection/univariate_selection.py:115: RuntimeWarning: invalid value encountered in true_divide\n",
      "  f = msb / msw\n",
      "/Users/Brian/anaconda3/envs/datacamp/lib/python3.6/site-packages/sklearn/feature_selection/univariate_selection.py:114: UserWarning: Features [ 18  19  21  35  47  59  60  67  69  72  73  83  84  86  93 103 129 131\n",
      " 132 133 139 141 143 144 145 151 153 154 155 156 157 163 164 204 234 264\n",
      " 274] are constant.\n",
      "  UserWarning)\n",
      "/Users/Brian/anaconda3/envs/datacamp/lib/python3.6/site-packages/sklearn/feature_selection/univariate_selection.py:115: RuntimeWarning: invalid value encountered in true_divide\n",
      "  f = msb / msw\n",
      "/Users/Brian/anaconda3/envs/datacamp/lib/python3.6/site-packages/sklearn/feature_selection/univariate_selection.py:114: UserWarning: Features [ 19  21  23  35  47  55  58  59  67  69  71  83  84  85 129 131 132 139\n",
      " 141 143 145 151 153 154 156 157 164 194 204 264 274] are constant.\n",
      "  UserWarning)\n",
      "/Users/Brian/anaconda3/envs/datacamp/lib/python3.6/site-packages/sklearn/feature_selection/univariate_selection.py:115: RuntimeWarning: invalid value encountered in true_divide\n",
      "  f = msb / msw\n",
      "/Users/Brian/anaconda3/envs/datacamp/lib/python3.6/site-packages/sklearn/feature_selection/univariate_selection.py:114: UserWarning: Features [ 19  21  31  35  37  45  47  59  61  67  69  74  83  84 115 121 129 130\n",
      " 131 132 139 141 143 145 150 151 153 154 156 157 164 174 204 244 264 273\n",
      " 274] are constant.\n",
      "  UserWarning)\n",
      "/Users/Brian/anaconda3/envs/datacamp/lib/python3.6/site-packages/sklearn/feature_selection/univariate_selection.py:115: RuntimeWarning: invalid value encountered in true_divide\n",
      "  f = msb / msw\n",
      "/Users/Brian/anaconda3/envs/datacamp/lib/python3.6/site-packages/sklearn/feature_selection/univariate_selection.py:114: UserWarning: Features [ 18  19  21  35  47  59  60  67  69  72  73  83  84  86  93 103 129 131\n",
      " 132 133 139 141 143 144 145 151 153 154 155 156 157 163 164 204 234 264\n",
      " 274] are constant.\n",
      "  UserWarning)\n",
      "/Users/Brian/anaconda3/envs/datacamp/lib/python3.6/site-packages/sklearn/feature_selection/univariate_selection.py:115: RuntimeWarning: invalid value encountered in true_divide\n",
      "  f = msb / msw\n",
      "/Users/Brian/anaconda3/envs/datacamp/lib/python3.6/site-packages/sklearn/feature_selection/univariate_selection.py:114: UserWarning: Features [ 19  21  23  35  47  55  58  59  67  69  71  83  84  85 129 131 132 139\n",
      " 141 143 145 151 153 154 156 157 164 194 204 264 274] are constant.\n",
      "  UserWarning)\n",
      "/Users/Brian/anaconda3/envs/datacamp/lib/python3.6/site-packages/sklearn/feature_selection/univariate_selection.py:115: RuntimeWarning: invalid value encountered in true_divide\n",
      "  f = msb / msw\n"
     ]
    },
    {
     "name": "stdout",
     "output_type": "stream",
     "text": [
      "{'clf__n_estimators': 5, 'feature_selection__k': 20}\n"
     ]
    },
    {
     "name": "stderr",
     "output_type": "stream",
     "text": [
      "/Users/Brian/anaconda3/envs/datacamp/lib/python3.6/site-packages/sklearn/feature_selection/univariate_selection.py:114: UserWarning: Features [ 19  21  31  35  37  45  47  59  61  67  69  74  83  84 115 121 129 130\n",
      " 131 132 139 141 143 145 150 151 153 154 156 157 164 174 204 244 264 273\n",
      " 274] are constant.\n",
      "  UserWarning)\n",
      "/Users/Brian/anaconda3/envs/datacamp/lib/python3.6/site-packages/sklearn/feature_selection/univariate_selection.py:115: RuntimeWarning: invalid value encountered in true_divide\n",
      "  f = msb / msw\n",
      "/Users/Brian/anaconda3/envs/datacamp/lib/python3.6/site-packages/sklearn/feature_selection/univariate_selection.py:114: UserWarning: Features [ 18  19  21  35  47  59  60  67  69  72  73  83  84  86  93 103 129 131\n",
      " 132 133 139 141 143 144 145 151 153 154 155 156 157 163 164 204 234 264\n",
      " 274] are constant.\n",
      "  UserWarning)\n",
      "/Users/Brian/anaconda3/envs/datacamp/lib/python3.6/site-packages/sklearn/feature_selection/univariate_selection.py:115: RuntimeWarning: invalid value encountered in true_divide\n",
      "  f = msb / msw\n",
      "/Users/Brian/anaconda3/envs/datacamp/lib/python3.6/site-packages/sklearn/feature_selection/univariate_selection.py:114: UserWarning: Features [ 19  21  23  35  47  55  58  59  67  69  71  83  84  85 129 131 132 139\n",
      " 141 143 145 151 153 154 156 157 164 194 204 264 274] are constant.\n",
      "  UserWarning)\n",
      "/Users/Brian/anaconda3/envs/datacamp/lib/python3.6/site-packages/sklearn/feature_selection/univariate_selection.py:115: RuntimeWarning: invalid value encountered in true_divide\n",
      "  f = msb / msw\n",
      "/Users/Brian/anaconda3/envs/datacamp/lib/python3.6/site-packages/sklearn/feature_selection/univariate_selection.py:114: UserWarning: Features [ 19  21  31  35  37  45  47  59  61  67  69  74  83  84 115 121 129 130\n",
      " 131 132 139 141 143 145 150 151 153 154 156 157 164 174 204 244 264 273\n",
      " 274] are constant.\n",
      "  UserWarning)\n",
      "/Users/Brian/anaconda3/envs/datacamp/lib/python3.6/site-packages/sklearn/feature_selection/univariate_selection.py:115: RuntimeWarning: invalid value encountered in true_divide\n",
      "  f = msb / msw\n",
      "/Users/Brian/anaconda3/envs/datacamp/lib/python3.6/site-packages/sklearn/feature_selection/univariate_selection.py:114: UserWarning: Features [ 19  21  35  47  59  67  69  83  84 129 131 132 139 141 143 145 151 153\n",
      " 154 156 157 164 204 264 274] are constant.\n",
      "  UserWarning)\n",
      "/Users/Brian/anaconda3/envs/datacamp/lib/python3.6/site-packages/sklearn/feature_selection/univariate_selection.py:115: RuntimeWarning: invalid value encountered in true_divide\n",
      "  f = msb / msw\n"
     ]
    }
   ],
   "source": [
    "# Create a custom scorer\n",
    "scorer = make_scorer(roc_auc_score)\n",
    "\n",
    "# Initialize the CV object\n",
    "gs = GridSearchCV(pipe, param_grid=params, scoring=scorer)\n",
    "\n",
    "# Fit it to the data and print the winning combination\n",
    "print(gs.fit(X_train, y_train).best_params_)"
   ]
  },
  {
   "cell_type": "code",
   "execution_count": 25,
   "metadata": {
    "ExecuteTime": {
     "end_time": "2019-12-10T08:39:49.055500Z",
     "start_time": "2019-12-10T08:39:48.585990Z"
    },
    "scrolled": true
   },
   "outputs": [
    {
     "name": "stderr",
     "output_type": "stream",
     "text": [
      "/Users/Brian/anaconda3/envs/datacamp/lib/python3.6/site-packages/sklearn/model_selection/_split.py:1978: FutureWarning: The default value of cv will change from 3 to 5 in version 0.22. Specify it explicitly to silence this warning.\n",
      "  warnings.warn(CV_WARNING, FutureWarning)\n",
      "/Users/Brian/anaconda3/envs/datacamp/lib/python3.6/site-packages/sklearn/feature_selection/univariate_selection.py:114: UserWarning: Features [ 18  19  21  35  47  59  60  67  69  72  73  83  84  86  93 103 129 131\n",
      " 132 133 139 141 143 144 145 151 153 154 155 156 157 163 164 204 234 264\n",
      " 274] are constant.\n",
      "  UserWarning)\n",
      "/Users/Brian/anaconda3/envs/datacamp/lib/python3.6/site-packages/sklearn/feature_selection/univariate_selection.py:115: RuntimeWarning: invalid value encountered in true_divide\n",
      "  f = msb / msw\n",
      "/Users/Brian/anaconda3/envs/datacamp/lib/python3.6/site-packages/sklearn/feature_selection/univariate_selection.py:114: UserWarning: Features [ 19  21  23  35  47  55  58  59  67  69  71  83  84  85 129 131 132 139\n",
      " 141 143 145 151 153 154 156 157 164 194 204 264 274] are constant.\n",
      "  UserWarning)\n",
      "/Users/Brian/anaconda3/envs/datacamp/lib/python3.6/site-packages/sklearn/feature_selection/univariate_selection.py:115: RuntimeWarning: invalid value encountered in true_divide\n",
      "  f = msb / msw\n",
      "/Users/Brian/anaconda3/envs/datacamp/lib/python3.6/site-packages/sklearn/feature_selection/univariate_selection.py:114: UserWarning: Features [ 19  21  31  35  37  45  47  59  61  67  69  74  83  84 115 121 129 130\n",
      " 131 132 139 141 143 145 150 151 153 154 156 157 164 174 204 244 264 273\n",
      " 274] are constant.\n",
      "  UserWarning)\n",
      "/Users/Brian/anaconda3/envs/datacamp/lib/python3.6/site-packages/sklearn/feature_selection/univariate_selection.py:115: RuntimeWarning: invalid value encountered in true_divide\n",
      "  f = msb / msw\n",
      "/Users/Brian/anaconda3/envs/datacamp/lib/python3.6/site-packages/sklearn/feature_selection/univariate_selection.py:114: UserWarning: Features [ 18  19  21  35  47  59  60  67  69  72  73  83  84  86  93 103 129 131\n",
      " 132 133 139 141 143 144 145 151 153 154 155 156 157 163 164 204 234 264\n",
      " 274] are constant.\n",
      "  UserWarning)\n",
      "/Users/Brian/anaconda3/envs/datacamp/lib/python3.6/site-packages/sklearn/feature_selection/univariate_selection.py:115: RuntimeWarning: invalid value encountered in true_divide\n",
      "  f = msb / msw\n",
      "/Users/Brian/anaconda3/envs/datacamp/lib/python3.6/site-packages/sklearn/feature_selection/univariate_selection.py:114: UserWarning: Features [ 19  21  23  35  47  55  58  59  67  69  71  83  84  85 129 131 132 139\n",
      " 141 143 145 151 153 154 156 157 164 194 204 264 274] are constant.\n",
      "  UserWarning)\n",
      "/Users/Brian/anaconda3/envs/datacamp/lib/python3.6/site-packages/sklearn/feature_selection/univariate_selection.py:115: RuntimeWarning: invalid value encountered in true_divide\n",
      "  f = msb / msw\n",
      "/Users/Brian/anaconda3/envs/datacamp/lib/python3.6/site-packages/sklearn/feature_selection/univariate_selection.py:114: UserWarning: Features [ 19  21  31  35  37  45  47  59  61  67  69  74  83  84 115 121 129 130\n",
      " 131 132 139 141 143 145 150 151 153 154 156 157 164 174 204 244 264 273\n",
      " 274] are constant.\n",
      "  UserWarning)\n",
      "/Users/Brian/anaconda3/envs/datacamp/lib/python3.6/site-packages/sklearn/feature_selection/univariate_selection.py:115: RuntimeWarning: invalid value encountered in true_divide\n",
      "  f = msb / msw\n",
      "/Users/Brian/anaconda3/envs/datacamp/lib/python3.6/site-packages/sklearn/feature_selection/univariate_selection.py:114: UserWarning: Features [ 18  19  21  35  47  59  60  67  69  72  73  83  84  86  93 103 129 131\n",
      " 132 133 139 141 143 144 145 151 153 154 155 156 157 163 164 204 234 264\n",
      " 274] are constant.\n",
      "  UserWarning)\n",
      "/Users/Brian/anaconda3/envs/datacamp/lib/python3.6/site-packages/sklearn/feature_selection/univariate_selection.py:115: RuntimeWarning: invalid value encountered in true_divide\n",
      "  f = msb / msw\n",
      "/Users/Brian/anaconda3/envs/datacamp/lib/python3.6/site-packages/sklearn/feature_selection/univariate_selection.py:114: UserWarning: Features [ 19  21  23  35  47  55  58  59  67  69  71  83  84  85 129 131 132 139\n",
      " 141 143 145 151 153 154 156 157 164 194 204 264 274] are constant.\n",
      "  UserWarning)\n",
      "/Users/Brian/anaconda3/envs/datacamp/lib/python3.6/site-packages/sklearn/feature_selection/univariate_selection.py:115: RuntimeWarning: invalid value encountered in true_divide\n",
      "  f = msb / msw\n"
     ]
    },
    {
     "name": "stdout",
     "output_type": "stream",
     "text": [
      "{'clf__n_estimators': 5, 'feature_selection__k': 20}\n"
     ]
    },
    {
     "name": "stderr",
     "output_type": "stream",
     "text": [
      "/Users/Brian/anaconda3/envs/datacamp/lib/python3.6/site-packages/sklearn/feature_selection/univariate_selection.py:114: UserWarning: Features [ 19  21  31  35  37  45  47  59  61  67  69  74  83  84 115 121 129 130\n",
      " 131 132 139 141 143 145 150 151 153 154 156 157 164 174 204 244 264 273\n",
      " 274] are constant.\n",
      "  UserWarning)\n",
      "/Users/Brian/anaconda3/envs/datacamp/lib/python3.6/site-packages/sklearn/feature_selection/univariate_selection.py:115: RuntimeWarning: invalid value encountered in true_divide\n",
      "  f = msb / msw\n",
      "/Users/Brian/anaconda3/envs/datacamp/lib/python3.6/site-packages/sklearn/feature_selection/univariate_selection.py:114: UserWarning: Features [ 18  19  21  35  47  59  60  67  69  72  73  83  84  86  93 103 129 131\n",
      " 132 133 139 141 143 144 145 151 153 154 155 156 157 163 164 204 234 264\n",
      " 274] are constant.\n",
      "  UserWarning)\n",
      "/Users/Brian/anaconda3/envs/datacamp/lib/python3.6/site-packages/sklearn/feature_selection/univariate_selection.py:115: RuntimeWarning: invalid value encountered in true_divide\n",
      "  f = msb / msw\n",
      "/Users/Brian/anaconda3/envs/datacamp/lib/python3.6/site-packages/sklearn/feature_selection/univariate_selection.py:114: UserWarning: Features [ 19  21  23  35  47  55  58  59  67  69  71  83  84  85 129 131 132 139\n",
      " 141 143 145 151 153 154 156 157 164 194 204 264 274] are constant.\n",
      "  UserWarning)\n",
      "/Users/Brian/anaconda3/envs/datacamp/lib/python3.6/site-packages/sklearn/feature_selection/univariate_selection.py:115: RuntimeWarning: invalid value encountered in true_divide\n",
      "  f = msb / msw\n",
      "/Users/Brian/anaconda3/envs/datacamp/lib/python3.6/site-packages/sklearn/feature_selection/univariate_selection.py:114: UserWarning: Features [ 19  21  31  35  37  45  47  59  61  67  69  74  83  84 115 121 129 130\n",
      " 131 132 139 141 143 145 150 151 153 154 156 157 164 174 204 244 264 273\n",
      " 274] are constant.\n",
      "  UserWarning)\n",
      "/Users/Brian/anaconda3/envs/datacamp/lib/python3.6/site-packages/sklearn/feature_selection/univariate_selection.py:115: RuntimeWarning: invalid value encountered in true_divide\n",
      "  f = msb / msw\n",
      "/Users/Brian/anaconda3/envs/datacamp/lib/python3.6/site-packages/sklearn/feature_selection/univariate_selection.py:114: UserWarning: Features [ 19  21  35  47  59  67  69  83  84 129 131 132 139 141 143 145 151 153\n",
      " 154 156 157 164 204 264 274] are constant.\n",
      "  UserWarning)\n",
      "/Users/Brian/anaconda3/envs/datacamp/lib/python3.6/site-packages/sklearn/feature_selection/univariate_selection.py:115: RuntimeWarning: invalid value encountered in true_divide\n",
      "  f = msb / msw\n"
     ]
    }
   ],
   "source": [
    "# Create a custom scorer\n",
    "scorer = make_scorer(f1_score)\n",
    "\n",
    "# Initialise the CV object\n",
    "gs = GridSearchCV(pipe, param_grid=params, scoring=scorer)\n",
    "\n",
    "# Fit it to the data and print the winning combination\n",
    "print(gs.fit(X_train, y_train).best_params_)"
   ]
  },
  {
   "cell_type": "code",
   "execution_count": 26,
   "metadata": {
    "ExecuteTime": {
     "end_time": "2019-12-10T08:40:18.797791Z",
     "start_time": "2019-12-10T08:40:18.776253Z"
    }
   },
   "outputs": [],
   "source": [
    "def my_metric(y_test, y_est, cost_fp=10.0, cost_fn=1.0):\n",
    "    tn, fp, fn, tp = confusion_matrix(y_test, y_est).ravel()\n",
    "    return cost_fp * fp + cost_fn * fn"
   ]
  },
  {
   "cell_type": "code",
   "execution_count": 27,
   "metadata": {
    "ExecuteTime": {
     "end_time": "2019-12-10T08:40:33.122808Z",
     "start_time": "2019-12-10T08:40:32.698186Z"
    },
    "scrolled": true
   },
   "outputs": [
    {
     "name": "stderr",
     "output_type": "stream",
     "text": [
      "/Users/Brian/anaconda3/envs/datacamp/lib/python3.6/site-packages/sklearn/model_selection/_split.py:1978: FutureWarning: The default value of cv will change from 3 to 5 in version 0.22. Specify it explicitly to silence this warning.\n",
      "  warnings.warn(CV_WARNING, FutureWarning)\n",
      "/Users/Brian/anaconda3/envs/datacamp/lib/python3.6/site-packages/sklearn/feature_selection/univariate_selection.py:114: UserWarning: Features [ 18  19  21  35  47  59  60  67  69  72  73  83  84  86  93 103 129 131\n",
      " 132 133 139 141 143 144 145 151 153 154 155 156 157 163 164 204 234 264\n",
      " 274] are constant.\n",
      "  UserWarning)\n",
      "/Users/Brian/anaconda3/envs/datacamp/lib/python3.6/site-packages/sklearn/feature_selection/univariate_selection.py:115: RuntimeWarning: invalid value encountered in true_divide\n",
      "  f = msb / msw\n",
      "/Users/Brian/anaconda3/envs/datacamp/lib/python3.6/site-packages/sklearn/feature_selection/univariate_selection.py:114: UserWarning: Features [ 19  21  23  35  47  55  58  59  67  69  71  83  84  85 129 131 132 139\n",
      " 141 143 145 151 153 154 156 157 164 194 204 264 274] are constant.\n",
      "  UserWarning)\n",
      "/Users/Brian/anaconda3/envs/datacamp/lib/python3.6/site-packages/sklearn/feature_selection/univariate_selection.py:115: RuntimeWarning: invalid value encountered in true_divide\n",
      "  f = msb / msw\n",
      "/Users/Brian/anaconda3/envs/datacamp/lib/python3.6/site-packages/sklearn/feature_selection/univariate_selection.py:114: UserWarning: Features [ 19  21  31  35  37  45  47  59  61  67  69  74  83  84 115 121 129 130\n",
      " 131 132 139 141 143 145 150 151 153 154 156 157 164 174 204 244 264 273\n",
      " 274] are constant.\n",
      "  UserWarning)\n",
      "/Users/Brian/anaconda3/envs/datacamp/lib/python3.6/site-packages/sklearn/feature_selection/univariate_selection.py:115: RuntimeWarning: invalid value encountered in true_divide\n",
      "  f = msb / msw\n",
      "/Users/Brian/anaconda3/envs/datacamp/lib/python3.6/site-packages/sklearn/feature_selection/univariate_selection.py:114: UserWarning: Features [ 18  19  21  35  47  59  60  67  69  72  73  83  84  86  93 103 129 131\n",
      " 132 133 139 141 143 144 145 151 153 154 155 156 157 163 164 204 234 264\n",
      " 274] are constant.\n",
      "  UserWarning)\n",
      "/Users/Brian/anaconda3/envs/datacamp/lib/python3.6/site-packages/sklearn/feature_selection/univariate_selection.py:115: RuntimeWarning: invalid value encountered in true_divide\n",
      "  f = msb / msw\n",
      "/Users/Brian/anaconda3/envs/datacamp/lib/python3.6/site-packages/sklearn/feature_selection/univariate_selection.py:114: UserWarning: Features [ 19  21  23  35  47  55  58  59  67  69  71  83  84  85 129 131 132 139\n",
      " 141 143 145 151 153 154 156 157 164 194 204 264 274] are constant.\n",
      "  UserWarning)\n",
      "/Users/Brian/anaconda3/envs/datacamp/lib/python3.6/site-packages/sklearn/feature_selection/univariate_selection.py:115: RuntimeWarning: invalid value encountered in true_divide\n",
      "  f = msb / msw\n",
      "/Users/Brian/anaconda3/envs/datacamp/lib/python3.6/site-packages/sklearn/feature_selection/univariate_selection.py:114: UserWarning: Features [ 19  21  31  35  37  45  47  59  61  67  69  74  83  84 115 121 129 130\n",
      " 131 132 139 141 143 145 150 151 153 154 156 157 164 174 204 244 264 273\n",
      " 274] are constant.\n",
      "  UserWarning)\n",
      "/Users/Brian/anaconda3/envs/datacamp/lib/python3.6/site-packages/sklearn/feature_selection/univariate_selection.py:115: RuntimeWarning: invalid value encountered in true_divide\n",
      "  f = msb / msw\n",
      "/Users/Brian/anaconda3/envs/datacamp/lib/python3.6/site-packages/sklearn/feature_selection/univariate_selection.py:114: UserWarning: Features [ 18  19  21  35  47  59  60  67  69  72  73  83  84  86  93 103 129 131\n",
      " 132 133 139 141 143 144 145 151 153 154 155 156 157 163 164 204 234 264\n",
      " 274] are constant.\n",
      "  UserWarning)\n",
      "/Users/Brian/anaconda3/envs/datacamp/lib/python3.6/site-packages/sklearn/feature_selection/univariate_selection.py:115: RuntimeWarning: invalid value encountered in true_divide\n",
      "  f = msb / msw\n",
      "/Users/Brian/anaconda3/envs/datacamp/lib/python3.6/site-packages/sklearn/feature_selection/univariate_selection.py:114: UserWarning: Features [ 19  21  23  35  47  55  58  59  67  69  71  83  84  85 129 131 132 139\n",
      " 141 143 145 151 153 154 156 157 164 194 204 264 274] are constant.\n",
      "  UserWarning)\n",
      "/Users/Brian/anaconda3/envs/datacamp/lib/python3.6/site-packages/sklearn/feature_selection/univariate_selection.py:115: RuntimeWarning: invalid value encountered in true_divide\n",
      "  f = msb / msw\n"
     ]
    },
    {
     "name": "stdout",
     "output_type": "stream",
     "text": [
      "{'clf__n_estimators': 5, 'feature_selection__k': 10}\n"
     ]
    },
    {
     "name": "stderr",
     "output_type": "stream",
     "text": [
      "/Users/Brian/anaconda3/envs/datacamp/lib/python3.6/site-packages/sklearn/feature_selection/univariate_selection.py:114: UserWarning: Features [ 19  21  31  35  37  45  47  59  61  67  69  74  83  84 115 121 129 130\n",
      " 131 132 139 141 143 145 150 151 153 154 156 157 164 174 204 244 264 273\n",
      " 274] are constant.\n",
      "  UserWarning)\n",
      "/Users/Brian/anaconda3/envs/datacamp/lib/python3.6/site-packages/sklearn/feature_selection/univariate_selection.py:115: RuntimeWarning: invalid value encountered in true_divide\n",
      "  f = msb / msw\n",
      "/Users/Brian/anaconda3/envs/datacamp/lib/python3.6/site-packages/sklearn/feature_selection/univariate_selection.py:114: UserWarning: Features [ 18  19  21  35  47  59  60  67  69  72  73  83  84  86  93 103 129 131\n",
      " 132 133 139 141 143 144 145 151 153 154 155 156 157 163 164 204 234 264\n",
      " 274] are constant.\n",
      "  UserWarning)\n",
      "/Users/Brian/anaconda3/envs/datacamp/lib/python3.6/site-packages/sklearn/feature_selection/univariate_selection.py:115: RuntimeWarning: invalid value encountered in true_divide\n",
      "  f = msb / msw\n",
      "/Users/Brian/anaconda3/envs/datacamp/lib/python3.6/site-packages/sklearn/feature_selection/univariate_selection.py:114: UserWarning: Features [ 19  21  23  35  47  55  58  59  67  69  71  83  84  85 129 131 132 139\n",
      " 141 143 145 151 153 154 156 157 164 194 204 264 274] are constant.\n",
      "  UserWarning)\n",
      "/Users/Brian/anaconda3/envs/datacamp/lib/python3.6/site-packages/sklearn/feature_selection/univariate_selection.py:115: RuntimeWarning: invalid value encountered in true_divide\n",
      "  f = msb / msw\n",
      "/Users/Brian/anaconda3/envs/datacamp/lib/python3.6/site-packages/sklearn/feature_selection/univariate_selection.py:114: UserWarning: Features [ 19  21  31  35  37  45  47  59  61  67  69  74  83  84 115 121 129 130\n",
      " 131 132 139 141 143 145 150 151 153 154 156 157 164 174 204 244 264 273\n",
      " 274] are constant.\n",
      "  UserWarning)\n",
      "/Users/Brian/anaconda3/envs/datacamp/lib/python3.6/site-packages/sklearn/feature_selection/univariate_selection.py:115: RuntimeWarning: invalid value encountered in true_divide\n",
      "  f = msb / msw\n",
      "/Users/Brian/anaconda3/envs/datacamp/lib/python3.6/site-packages/sklearn/feature_selection/univariate_selection.py:114: UserWarning: Features [ 19  21  35  47  59  67  69  83  84 129 131 132 139 141 143 145 151 153\n",
      " 154 156 157 164 204 264 274] are constant.\n",
      "  UserWarning)\n",
      "/Users/Brian/anaconda3/envs/datacamp/lib/python3.6/site-packages/sklearn/feature_selection/univariate_selection.py:115: RuntimeWarning: invalid value encountered in true_divide\n",
      "  f = msb / msw\n"
     ]
    }
   ],
   "source": [
    "# Create a custom scorer\n",
    "scorer = make_scorer(my_metric)\n",
    "\n",
    "# Initialise the CV object\n",
    "gs = GridSearchCV(pipe, param_grid=params, scoring=scorer)\n",
    "\n",
    "# Fit it to the data and print the winning combination\n",
    "print(gs.fit(X_train, y_train).best_params_)"
   ]
  },
  {
   "cell_type": "code",
   "execution_count": 29,
   "metadata": {
    "ExecuteTime": {
     "end_time": "2019-12-10T08:51:26.911446Z",
     "start_time": "2019-12-10T08:51:26.892011Z"
    }
   },
   "outputs": [],
   "source": [
    "# guideline - try and use a single object in your production pipeline.\n",
    "# the example given is a pickled object.\n",
    "import pickle"
   ]
  },
  {
   "cell_type": "code",
   "execution_count": 38,
   "metadata": {
    "ExecuteTime": {
     "end_time": "2019-12-10T09:36:17.734696Z",
     "start_time": "2019-12-10T09:36:17.654706Z"
    }
   },
   "outputs": [
    {
     "name": "stderr",
     "output_type": "stream",
     "text": [
      "/Users/Brian/anaconda3/envs/datacamp/lib/python3.6/site-packages/sklearn/ensemble/forest.py:245: FutureWarning: The default value of n_estimators will change from 10 in version 0.20 to 100 in 0.22.\n",
      "  \"10 in version 0.20 to 100 in 0.22.\", FutureWarning)\n"
     ]
    }
   ],
   "source": [
    "# Fit a random forest to the training set\n",
    "clf = RandomForestClassifier(random_state=42).fit(\n",
    "  X_train, y_train)\n",
    "\n",
    "# Save it to a file, to be pushed to production\n",
    "with open('model.pkl', 'wb') as file:\n",
    "    pickle.dump(clf, file=file)\n",
    "\n",
    "# Now load the model from file in the production environment\n",
    "with open('model.pkl', 'rb') as file:\n",
    "    clf_from_file = pickle.load(file)\n",
    "\n",
    "# Predict the labels of the test dataset\n",
    "preds = clf_from_file.predict(X_test)"
   ]
  },
  {
   "cell_type": "code",
   "execution_count": 32,
   "metadata": {
    "ExecuteTime": {
     "end_time": "2019-12-10T09:14:32.766419Z",
     "start_time": "2019-12-10T09:14:32.758309Z"
    }
   },
   "outputs": [],
   "source": [
    "from sklearn.preprocessing import FunctionTransformer"
   ]
  },
  {
   "cell_type": "code",
   "execution_count": 40,
   "metadata": {
    "ExecuteTime": {
     "end_time": "2019-12-10T09:37:30.737670Z",
     "start_time": "2019-12-10T09:37:30.716474Z"
    }
   },
   "outputs": [],
   "source": [
    "# Define a feature extractor to flag very large values\n",
    "def more_than_average(X, multiplier=1.0):\n",
    "  Z = X.copy()\n",
    "  Z[:,1] = Z[:,0] > multiplier*np.mean(Z[:,1])\n",
    "  return Z\n",
    "\n",
    "# Convert your function so that it can be used in a pipeline\n",
    "pipe = Pipeline([\n",
    "  ('ft', FunctionTransformer(more_than_average)),\n",
    "  ('clf', RandomForestClassifier(random_state=2))])\n",
    "\n",
    "# Optimize the parameter multiplier using GridSearchCV\n",
    "params = {'ft__multiplier': [1,2,3]}\n",
    "grid_search = GridSearchCV(pipe, param_grid=params)"
   ]
  },
  {
   "cell_type": "code",
   "execution_count": 34,
   "metadata": {
    "ExecuteTime": {
     "end_time": "2019-12-10T09:34:24.836102Z",
     "start_time": "2019-12-10T09:34:24.805951Z"
    }
   },
   "outputs": [],
   "source": [
    "from sklearn.naive_bayes import GaussianNB"
   ]
  },
  {
   "cell_type": "code",
   "execution_count": 39,
   "metadata": {
    "ExecuteTime": {
     "end_time": "2019-12-10T09:36:20.887202Z",
     "start_time": "2019-12-10T09:36:20.843149Z"
    }
   },
   "outputs": [
    {
     "name": "stdout",
     "output_type": "stream",
     "text": [
      "0.75\n",
      "0.7721518987341771\n"
     ]
    }
   ],
   "source": [
    "# Load the current model from disk\n",
    "champion = pickle.load(open('model.pkl', 'rb'))\n",
    "\n",
    "# Fit a Gaussian Naive Bayes to the training data\n",
    "challenger = GaussianNB().fit(X_train, y_train)\n",
    "\n",
    "# Print the F1 test scores of both champion and challenger\n",
    "print(f1_score(y_test, champion.predict(X_test)))\n",
    "print(f1_score(y_test, challenger.predict(X_test)))\n",
    "\n",
    "# Write back to disk the best-performing model\n",
    "with open('model.pkl', 'wb') as file:\n",
    "    pickle.dump(challenger, file=file)"
   ]
  },
  {
   "cell_type": "code",
   "execution_count": 47,
   "metadata": {
    "ExecuteTime": {
     "end_time": "2019-12-10T09:44:17.218603Z",
     "start_time": "2019-12-10T09:44:17.200899Z"
    }
   },
   "outputs": [],
   "source": [
    "# Create pipeline with feature selector and classifier\n",
    "pipe = Pipeline([\n",
    "    ('feature_selection', SelectKBest(f_classif)),\n",
    "    ('clf', RandomForestClassifier(random_state=2))])\n",
    "\n",
    "params = {'clf__n_estimators': [2, 5],\n",
    "          'feature_selection__k': [10, 20]}"
   ]
  },
  {
   "cell_type": "code",
   "execution_count": 48,
   "metadata": {
    "ExecuteTime": {
     "end_time": "2019-12-10T09:44:19.031541Z",
     "start_time": "2019-12-10T09:44:18.061175Z"
    },
    "scrolled": true
   },
   "outputs": [
    {
     "name": "stderr",
     "output_type": "stream",
     "text": [
      "/Users/Brian/anaconda3/envs/datacamp/lib/python3.6/site-packages/sklearn/feature_selection/univariate_selection.py:114: UserWarning: Features [ 18  19  21  35  47  59  60  67  69  72  73  83  84  86  93 103 129 131\n",
      " 132 133 139 141 143 144 145 151 153 154 155 156 157 163 164 204 234 264\n",
      " 274] are constant.\n",
      "  UserWarning)\n",
      "/Users/Brian/anaconda3/envs/datacamp/lib/python3.6/site-packages/sklearn/feature_selection/univariate_selection.py:115: RuntimeWarning: invalid value encountered in true_divide\n",
      "  f = msb / msw\n",
      "/Users/Brian/anaconda3/envs/datacamp/lib/python3.6/site-packages/sklearn/feature_selection/univariate_selection.py:114: UserWarning: Features [ 19  21  23  35  47  55  58  59  67  69  71  83  84  85 129 131 132 139\n",
      " 141 143 145 151 153 154 156 157 164 194 204 264 274] are constant.\n",
      "  UserWarning)\n",
      "/Users/Brian/anaconda3/envs/datacamp/lib/python3.6/site-packages/sklearn/feature_selection/univariate_selection.py:115: RuntimeWarning: invalid value encountered in true_divide\n",
      "  f = msb / msw\n",
      "/Users/Brian/anaconda3/envs/datacamp/lib/python3.6/site-packages/sklearn/feature_selection/univariate_selection.py:114: UserWarning: Features [ 19  21  31  35  37  45  47  59  61  67  69  74  83  84 115 121 129 130\n",
      " 131 132 139 141 143 145 150 151 153 154 156 157 164 174 204 244 264 273\n",
      " 274] are constant.\n",
      "  UserWarning)\n",
      "/Users/Brian/anaconda3/envs/datacamp/lib/python3.6/site-packages/sklearn/feature_selection/univariate_selection.py:115: RuntimeWarning: invalid value encountered in true_divide\n",
      "  f = msb / msw\n",
      "/Users/Brian/anaconda3/envs/datacamp/lib/python3.6/site-packages/sklearn/feature_selection/univariate_selection.py:114: UserWarning: Features [ 18  19  21  35  47  59  60  67  69  72  73  83  84  86  93 103 129 131\n",
      " 132 133 139 141 143 144 145 151 153 154 155 156 157 163 164 204 234 264\n",
      " 274] are constant.\n",
      "  UserWarning)\n",
      "/Users/Brian/anaconda3/envs/datacamp/lib/python3.6/site-packages/sklearn/feature_selection/univariate_selection.py:115: RuntimeWarning: invalid value encountered in true_divide\n",
      "  f = msb / msw\n",
      "/Users/Brian/anaconda3/envs/datacamp/lib/python3.6/site-packages/sklearn/feature_selection/univariate_selection.py:114: UserWarning: Features [ 19  21  23  35  47  55  58  59  67  69  71  83  84  85 129 131 132 139\n",
      " 141 143 145 151 153 154 156 157 164 194 204 264 274] are constant.\n",
      "  UserWarning)\n",
      "/Users/Brian/anaconda3/envs/datacamp/lib/python3.6/site-packages/sklearn/feature_selection/univariate_selection.py:115: RuntimeWarning: invalid value encountered in true_divide\n",
      "  f = msb / msw\n",
      "/Users/Brian/anaconda3/envs/datacamp/lib/python3.6/site-packages/sklearn/feature_selection/univariate_selection.py:114: UserWarning: Features [ 19  21  31  35  37  45  47  59  61  67  69  74  83  84 115 121 129 130\n",
      " 131 132 139 141 143 145 150 151 153 154 156 157 164 174 204 244 264 273\n",
      " 274] are constant.\n",
      "  UserWarning)\n",
      "/Users/Brian/anaconda3/envs/datacamp/lib/python3.6/site-packages/sklearn/feature_selection/univariate_selection.py:115: RuntimeWarning: invalid value encountered in true_divide\n",
      "  f = msb / msw\n",
      "/Users/Brian/anaconda3/envs/datacamp/lib/python3.6/site-packages/sklearn/feature_selection/univariate_selection.py:114: UserWarning: Features [ 18  19  21  35  47  59  60  67  69  72  73  83  84  86  93 103 129 131\n",
      " 132 133 139 141 143 144 145 151 153 154 155 156 157 163 164 204 234 264\n",
      " 274] are constant.\n",
      "  UserWarning)\n",
      "/Users/Brian/anaconda3/envs/datacamp/lib/python3.6/site-packages/sklearn/feature_selection/univariate_selection.py:115: RuntimeWarning: invalid value encountered in true_divide\n",
      "  f = msb / msw\n",
      "/Users/Brian/anaconda3/envs/datacamp/lib/python3.6/site-packages/sklearn/feature_selection/univariate_selection.py:114: UserWarning: Features [ 19  21  23  35  47  55  58  59  67  69  71  83  84  85 129 131 132 139\n",
      " 141 143 145 151 153 154 156 157 164 194 204 264 274] are constant.\n",
      "  UserWarning)\n",
      "/Users/Brian/anaconda3/envs/datacamp/lib/python3.6/site-packages/sklearn/feature_selection/univariate_selection.py:115: RuntimeWarning: invalid value encountered in true_divide\n",
      "  f = msb / msw\n",
      "/Users/Brian/anaconda3/envs/datacamp/lib/python3.6/site-packages/sklearn/feature_selection/univariate_selection.py:114: UserWarning: Features [ 19  21  31  35  37  45  47  59  61  67  69  74  83  84 115 121 129 130\n",
      " 131 132 139 141 143 145 150 151 153 154 156 157 164 174 204 244 264 273\n",
      " 274] are constant.\n",
      "  UserWarning)\n",
      "/Users/Brian/anaconda3/envs/datacamp/lib/python3.6/site-packages/sklearn/feature_selection/univariate_selection.py:115: RuntimeWarning: invalid value encountered in true_divide\n",
      "  f = msb / msw\n",
      "/Users/Brian/anaconda3/envs/datacamp/lib/python3.6/site-packages/sklearn/feature_selection/univariate_selection.py:114: UserWarning: Features [ 18  19  21  35  47  59  60  67  69  72  73  83  84  86  93 103 129 131\n",
      " 132 133 139 141 143 144 145 151 153 154 155 156 157 163 164 204 234 264\n",
      " 274] are constant.\n",
      "  UserWarning)\n",
      "/Users/Brian/anaconda3/envs/datacamp/lib/python3.6/site-packages/sklearn/feature_selection/univariate_selection.py:115: RuntimeWarning: invalid value encountered in true_divide\n",
      "  f = msb / msw\n",
      "/Users/Brian/anaconda3/envs/datacamp/lib/python3.6/site-packages/sklearn/feature_selection/univariate_selection.py:114: UserWarning: Features [ 19  21  23  35  47  55  58  59  67  69  71  83  84  85 129 131 132 139\n",
      " 141 143 145 151 153 154 156 157 164 194 204 264 274] are constant.\n",
      "  UserWarning)\n",
      "/Users/Brian/anaconda3/envs/datacamp/lib/python3.6/site-packages/sklearn/feature_selection/univariate_selection.py:115: RuntimeWarning: invalid value encountered in true_divide\n",
      "  f = msb / msw\n",
      "/Users/Brian/anaconda3/envs/datacamp/lib/python3.6/site-packages/sklearn/feature_selection/univariate_selection.py:114: UserWarning: Features [ 19  21  31  35  37  45  47  59  61  67  69  74  83  84 115 121 129 130\n",
      " 131 132 139 141 143 145 150 151 153 154 156 157 164 174 204 244 264 273\n",
      " 274] are constant.\n",
      "  UserWarning)\n",
      "/Users/Brian/anaconda3/envs/datacamp/lib/python3.6/site-packages/sklearn/feature_selection/univariate_selection.py:115: RuntimeWarning: invalid value encountered in true_divide\n",
      "  f = msb / msw\n",
      "/Users/Brian/anaconda3/envs/datacamp/lib/python3.6/site-packages/sklearn/feature_selection/univariate_selection.py:114: UserWarning: Features [ 19  21  35  47  59  67  69  83  84 129 131 132 139 141 143 145 151 153\n",
      " 154 156 157 164 204 264 274] are constant.\n",
      "  UserWarning)\n",
      "/Users/Brian/anaconda3/envs/datacamp/lib/python3.6/site-packages/sklearn/feature_selection/univariate_selection.py:115: RuntimeWarning: invalid value encountered in true_divide\n",
      "  f = msb / msw\n"
     ]
    },
    {
     "name": "stdout",
     "output_type": "stream",
     "text": [
      "0   -0.315634\n",
      "1   -0.264012\n",
      "2   -0.351032\n",
      "3   -0.275811\n",
      "dtype: float64\n"
     ]
    }
   ],
   "source": [
    "# Fit your pipeline using GridSearchCV with three folds\n",
    "grid_search = GridSearchCV(\n",
    "  pipe, params, cv=3, return_train_score=True)\n",
    "\n",
    "# Fit the grid search\n",
    "gs = grid_search.fit(X_train, y_train)\n",
    "\n",
    "# Store the results of CV into a pandas dataframe\n",
    "results = pd.DataFrame(gs.cv_results_)\n",
    "\n",
    "# Print the difference between mean test and training scores\n",
    "print(\n",
    "  results['mean_test_score']-results['mean_train_score'])"
   ]
  },
  {
   "cell_type": "code",
   "execution_count": 52,
   "metadata": {
    "ExecuteTime": {
     "end_time": "2019-12-10T09:56:54.746118Z",
     "start_time": "2019-12-10T09:56:54.739419Z"
    }
   },
   "outputs": [],
   "source": [
    "accuracies = []\n",
    "wrange = range(10, 100, 10)\n",
    "t_now = 400"
   ]
  },
  {
   "cell_type": "code",
   "execution_count": 56,
   "metadata": {
    "ExecuteTime": {
     "end_time": "2019-12-10T09:57:31.314268Z",
     "start_time": "2019-12-10T09:57:31.207870Z"
    }
   },
   "outputs": [],
   "source": [
    "# Loop over window sizes\n",
    "for w_size in wrange:\n",
    "\n",
    "    # Define sliding window\n",
    "    sliding = arrh.loc[\n",
    "        (t_now - w_size + 1):t_now]\n",
    "\n",
    "    # Extract X and y from the sliding window\n",
    "    X, y = sliding.drop('class', 1), sliding['class']\n",
    "    \n",
    "    # Fit the classifier and store the F1 score\n",
    "    preds = GaussianNB().fit(X, y).predict(X_test)\n",
    "    accuracies.append(f1_score(y_test, preds))\n",
    "\n",
    "# Estimate the best performing window size\n",
    "optimal_window = wrange[np.argmax(accuracies)]"
   ]
  },
  {
   "cell_type": "code",
   "execution_count": 64,
   "metadata": {
    "ExecuteTime": {
     "end_time": "2019-12-10T09:59:01.994122Z",
     "start_time": "2019-12-10T09:59:01.963873Z"
    }
   },
   "outputs": [
    {
     "data": {
      "text/plain": [
       "[(10, 0.5871559633027523),\n",
       " (20, 0.6055045871559633),\n",
       " (30, 0.8),\n",
       " (40, 0.7857142857142856),\n",
       " (50, 0.7681159420289856),\n",
       " (60, 0.7769784172661871),\n",
       " (70, 0.7785234899328859),\n",
       " (80, 0.7866666666666665),\n",
       " (90, 0.7948717948717949)]"
      ]
     },
     "execution_count": 64,
     "metadata": {},
     "output_type": "execute_result"
    }
   ],
   "source": [
    "list(zip(wrange, accuracies))"
   ]
  },
  {
   "cell_type": "code",
   "execution_count": 55,
   "metadata": {
    "ExecuteTime": {
     "end_time": "2019-12-10T09:57:18.501569Z",
     "start_time": "2019-12-10T09:57:18.467887Z"
    }
   },
   "outputs": [
    {
     "data": {
      "text/plain": [
       "[0.5871559633027523,\n",
       " 0.6055045871559633,\n",
       " 0.8,\n",
       " 0.7857142857142856,\n",
       " 0.7681159420289856,\n",
       " 0.7769784172661871,\n",
       " 0.7785234899328859,\n",
       " 0.7866666666666665,\n",
       " 0.7948717948717949]"
      ]
     },
     "execution_count": 55,
     "metadata": {},
     "output_type": "execute_result"
    }
   ],
   "source": [
    "accuracies"
   ]
  },
  {
   "cell_type": "code",
   "execution_count": 69,
   "metadata": {
    "ExecuteTime": {
     "end_time": "2019-12-10T10:14:46.011446Z",
     "start_time": "2019-12-10T10:14:45.235193Z"
    }
   },
   "outputs": [
    {
     "name": "stderr",
     "output_type": "stream",
     "text": [
      "/Users/Brian/anaconda3/envs/datacamp/lib/python3.6/site-packages/sklearn/model_selection/_split.py:1978: FutureWarning: The default value of cv will change from 3 to 5 in version 0.22. Specify it explicitly to silence this warning.\n",
      "  warnings.warn(CV_WARNING, FutureWarning)\n",
      "/Users/Brian/anaconda3/envs/datacamp/lib/python3.6/site-packages/sklearn/feature_selection/univariate_selection.py:114: UserWarning: Features [ 19  21  22  24  25  31  35  36  37  49  55  59  61  62  67  69  71  72\n",
      "  74  83  84  85  86 121 131 132 133 139 141 142 143 144 145 151 154 156\n",
      " 157 158 164 174 194 204 264 274] are constant.\n",
      "  UserWarning)\n",
      "/Users/Brian/anaconda3/envs/datacamp/lib/python3.6/site-packages/sklearn/feature_selection/univariate_selection.py:115: RuntimeWarning: invalid value encountered in true_divide\n",
      "  f = msb / msw\n",
      "/Users/Brian/anaconda3/envs/datacamp/lib/python3.6/site-packages/sklearn/ensemble/forest.py:245: FutureWarning: The default value of n_estimators will change from 10 in version 0.20 to 100 in 0.22.\n",
      "  \"10 in version 0.20 to 100 in 0.22.\", FutureWarning)\n",
      "/Users/Brian/anaconda3/envs/datacamp/lib/python3.6/site-packages/sklearn/feature_selection/univariate_selection.py:114: UserWarning: Features [ 19  21  22  24  25  26  35  37  55  60  62  67  69  71  72  83  85  86\n",
      " 105 118 121 131 132 139 141 142 143 144 145 151 154 156 157 164 194 204\n",
      " 264 274] are constant.\n",
      "  UserWarning)\n",
      "/Users/Brian/anaconda3/envs/datacamp/lib/python3.6/site-packages/sklearn/feature_selection/univariate_selection.py:115: RuntimeWarning: invalid value encountered in true_divide\n",
      "  f = msb / msw\n",
      "/Users/Brian/anaconda3/envs/datacamp/lib/python3.6/site-packages/sklearn/ensemble/forest.py:245: FutureWarning: The default value of n_estimators will change from 10 in version 0.20 to 100 in 0.22.\n",
      "  \"10 in version 0.20 to 100 in 0.22.\", FutureWarning)\n",
      "/Users/Brian/anaconda3/envs/datacamp/lib/python3.6/site-packages/sklearn/feature_selection/univariate_selection.py:114: UserWarning: Features [ 19  21  22  24  25  35  37  38  45  47  55  62  67  69  71  72  81  83\n",
      "  85  86 103 115 121 127 131 132 139 141 142 143 144 145 150 151 153 154\n",
      " 155 156 157 164 194 204 234 244 254 264 273 274] are constant.\n",
      "  UserWarning)\n",
      "/Users/Brian/anaconda3/envs/datacamp/lib/python3.6/site-packages/sklearn/feature_selection/univariate_selection.py:115: RuntimeWarning: invalid value encountered in true_divide\n",
      "  f = msb / msw\n",
      "/Users/Brian/anaconda3/envs/datacamp/lib/python3.6/site-packages/sklearn/ensemble/forest.py:245: FutureWarning: The default value of n_estimators will change from 10 in version 0.20 to 100 in 0.22.\n",
      "  \"10 in version 0.20 to 100 in 0.22.\", FutureWarning)\n",
      "/Users/Brian/anaconda3/envs/datacamp/lib/python3.6/site-packages/sklearn/feature_selection/univariate_selection.py:114: UserWarning: Features [ 19  21  22  24  25  31  35  36  37  49  55  59  61  62  67  69  71  72\n",
      "  74  83  84  85  86 121 131 132 133 139 141 142 143 144 145 151 154 156\n",
      " 157 158 164 174 194 204 264 274] are constant.\n",
      "  UserWarning)\n",
      "/Users/Brian/anaconda3/envs/datacamp/lib/python3.6/site-packages/sklearn/feature_selection/univariate_selection.py:115: RuntimeWarning: invalid value encountered in true_divide\n",
      "  f = msb / msw\n",
      "/Users/Brian/anaconda3/envs/datacamp/lib/python3.6/site-packages/sklearn/ensemble/forest.py:245: FutureWarning: The default value of n_estimators will change from 10 in version 0.20 to 100 in 0.22.\n",
      "  \"10 in version 0.20 to 100 in 0.22.\", FutureWarning)\n",
      "/Users/Brian/anaconda3/envs/datacamp/lib/python3.6/site-packages/sklearn/feature_selection/univariate_selection.py:114: UserWarning: Features [ 19  21  22  24  25  26  35  37  55  60  62  67  69  71  72  83  85  86\n",
      " 105 118 121 131 132 139 141 142 143 144 145 151 154 156 157 164 194 204\n",
      " 264 274] are constant.\n",
      "  UserWarning)\n",
      "/Users/Brian/anaconda3/envs/datacamp/lib/python3.6/site-packages/sklearn/feature_selection/univariate_selection.py:115: RuntimeWarning: invalid value encountered in true_divide\n",
      "  f = msb / msw\n",
      "/Users/Brian/anaconda3/envs/datacamp/lib/python3.6/site-packages/sklearn/ensemble/forest.py:245: FutureWarning: The default value of n_estimators will change from 10 in version 0.20 to 100 in 0.22.\n",
      "  \"10 in version 0.20 to 100 in 0.22.\", FutureWarning)\n",
      "/Users/Brian/anaconda3/envs/datacamp/lib/python3.6/site-packages/sklearn/feature_selection/univariate_selection.py:114: UserWarning: Features [ 19  21  22  24  25  35  37  38  45  47  55  62  67  69  71  72  81  83\n",
      "  85  86 103 115 121 127 131 132 139 141 142 143 144 145 150 151 153 154\n",
      " 155 156 157 164 194 204 234 244 254 264 273 274] are constant.\n",
      "  UserWarning)\n",
      "/Users/Brian/anaconda3/envs/datacamp/lib/python3.6/site-packages/sklearn/feature_selection/univariate_selection.py:115: RuntimeWarning: invalid value encountered in true_divide\n",
      "  f = msb / msw\n",
      "/Users/Brian/anaconda3/envs/datacamp/lib/python3.6/site-packages/sklearn/ensemble/forest.py:245: FutureWarning: The default value of n_estimators will change from 10 in version 0.20 to 100 in 0.22.\n",
      "  \"10 in version 0.20 to 100 in 0.22.\", FutureWarning)\n",
      "/Users/Brian/anaconda3/envs/datacamp/lib/python3.6/site-packages/sklearn/feature_selection/univariate_selection.py:114: UserWarning: Features [ 19  21  22  24  25  31  35  36  37  49  55  59  61  62  67  69  71  72\n",
      "  74  83  84  85  86 121 131 132 133 139 141 142 143 144 145 151 154 156\n",
      " 157 158 164 174 194 204 264 274] are constant.\n",
      "  UserWarning)\n",
      "/Users/Brian/anaconda3/envs/datacamp/lib/python3.6/site-packages/sklearn/feature_selection/univariate_selection.py:115: RuntimeWarning: invalid value encountered in true_divide\n",
      "  f = msb / msw\n",
      "/Users/Brian/anaconda3/envs/datacamp/lib/python3.6/site-packages/sklearn/ensemble/forest.py:245: FutureWarning: The default value of n_estimators will change from 10 in version 0.20 to 100 in 0.22.\n",
      "  \"10 in version 0.20 to 100 in 0.22.\", FutureWarning)\n",
      "/Users/Brian/anaconda3/envs/datacamp/lib/python3.6/site-packages/sklearn/feature_selection/univariate_selection.py:114: UserWarning: Features [ 19  21  22  24  25  26  35  37  55  60  62  67  69  71  72  83  85  86\n",
      " 105 118 121 131 132 139 141 142 143 144 145 151 154 156 157 164 194 204\n",
      " 264 274] are constant.\n",
      "  UserWarning)\n",
      "/Users/Brian/anaconda3/envs/datacamp/lib/python3.6/site-packages/sklearn/feature_selection/univariate_selection.py:115: RuntimeWarning: invalid value encountered in true_divide\n",
      "  f = msb / msw\n",
      "/Users/Brian/anaconda3/envs/datacamp/lib/python3.6/site-packages/sklearn/ensemble/forest.py:245: FutureWarning: The default value of n_estimators will change from 10 in version 0.20 to 100 in 0.22.\n",
      "  \"10 in version 0.20 to 100 in 0.22.\", FutureWarning)\n",
      "/Users/Brian/anaconda3/envs/datacamp/lib/python3.6/site-packages/sklearn/feature_selection/univariate_selection.py:114: UserWarning: Features [ 19  21  22  24  25  35  37  38  45  47  55  62  67  69  71  72  81  83\n",
      "  85  86 103 115 121 127 131 132 139 141 142 143 144 145 150 151 153 154\n",
      " 155 156 157 164 194 204 234 244 254 264 273 274] are constant.\n",
      "  UserWarning)\n",
      "/Users/Brian/anaconda3/envs/datacamp/lib/python3.6/site-packages/sklearn/feature_selection/univariate_selection.py:115: RuntimeWarning: invalid value encountered in true_divide\n",
      "  f = msb / msw\n",
      "/Users/Brian/anaconda3/envs/datacamp/lib/python3.6/site-packages/sklearn/ensemble/forest.py:245: FutureWarning: The default value of n_estimators will change from 10 in version 0.20 to 100 in 0.22.\n",
      "  \"10 in version 0.20 to 100 in 0.22.\", FutureWarning)\n",
      "/Users/Brian/anaconda3/envs/datacamp/lib/python3.6/site-packages/sklearn/feature_selection/univariate_selection.py:114: UserWarning: Features [ 19  21  22  24  25  31  35  36  37  49  55  59  61  62  67  69  71  72\n",
      "  74  83  84  85  86 121 131 132 133 139 141 142 143 144 145 151 154 156\n",
      " 157 158 164 174 194 204 264 274] are constant.\n",
      "  UserWarning)\n",
      "/Users/Brian/anaconda3/envs/datacamp/lib/python3.6/site-packages/sklearn/feature_selection/univariate_selection.py:115: RuntimeWarning: invalid value encountered in true_divide\n",
      "  f = msb / msw\n",
      "/Users/Brian/anaconda3/envs/datacamp/lib/python3.6/site-packages/sklearn/ensemble/forest.py:245: FutureWarning: The default value of n_estimators will change from 10 in version 0.20 to 100 in 0.22.\n",
      "  \"10 in version 0.20 to 100 in 0.22.\", FutureWarning)\n",
      "/Users/Brian/anaconda3/envs/datacamp/lib/python3.6/site-packages/sklearn/feature_selection/univariate_selection.py:114: UserWarning: Features [ 19  21  22  24  25  26  35  37  55  60  62  67  69  71  72  83  85  86\n",
      " 105 118 121 131 132 139 141 142 143 144 145 151 154 156 157 164 194 204\n",
      " 264 274] are constant.\n",
      "  UserWarning)\n",
      "/Users/Brian/anaconda3/envs/datacamp/lib/python3.6/site-packages/sklearn/feature_selection/univariate_selection.py:115: RuntimeWarning: invalid value encountered in true_divide\n",
      "  f = msb / msw\n",
      "/Users/Brian/anaconda3/envs/datacamp/lib/python3.6/site-packages/sklearn/ensemble/forest.py:245: FutureWarning: The default value of n_estimators will change from 10 in version 0.20 to 100 in 0.22.\n",
      "  \"10 in version 0.20 to 100 in 0.22.\", FutureWarning)\n",
      "/Users/Brian/anaconda3/envs/datacamp/lib/python3.6/site-packages/sklearn/feature_selection/univariate_selection.py:114: UserWarning: Features [ 19  21  22  24  25  35  37  38  45  47  55  62  67  69  71  72  81  83\n",
      "  85  86 103 115 121 127 131 132 139 141 142 143 144 145 150 151 153 154\n",
      " 155 156 157 164 194 204 234 244 254 264 273 274] are constant.\n",
      "  UserWarning)\n",
      "/Users/Brian/anaconda3/envs/datacamp/lib/python3.6/site-packages/sklearn/feature_selection/univariate_selection.py:115: RuntimeWarning: invalid value encountered in true_divide\n",
      "  f = msb / msw\n",
      "/Users/Brian/anaconda3/envs/datacamp/lib/python3.6/site-packages/sklearn/ensemble/forest.py:245: FutureWarning: The default value of n_estimators will change from 10 in version 0.20 to 100 in 0.22.\n",
      "  \"10 in version 0.20 to 100 in 0.22.\", FutureWarning)\n",
      "/Users/Brian/anaconda3/envs/datacamp/lib/python3.6/site-packages/sklearn/feature_selection/univariate_selection.py:114: UserWarning: Features [ 19  21  22  24  25  35  37  55  62  67  69  71  72  83  85  86 121 131\n",
      " 132 139 141 142 143 144 145 151 154 156 157 164 194 204 264 274] are constant.\n",
      "  UserWarning)\n",
      "/Users/Brian/anaconda3/envs/datacamp/lib/python3.6/site-packages/sklearn/feature_selection/univariate_selection.py:115: RuntimeWarning: invalid value encountered in true_divide\n",
      "  f = msb / msw\n",
      "/Users/Brian/anaconda3/envs/datacamp/lib/python3.6/site-packages/sklearn/ensemble/forest.py:245: FutureWarning: The default value of n_estimators will change from 10 in version 0.20 to 100 in 0.22.\n",
      "  \"10 in version 0.20 to 100 in 0.22.\", FutureWarning)\n"
     ]
    }
   ],
   "source": [
    "# Create a pipeline \n",
    "pipe = Pipeline([\n",
    "  ('ft', SelectKBest()), ('clf', RandomForestClassifier(random_state=2))])\n",
    "\n",
    "# Create a parameter grid\n",
    "grid = {'ft__k':[5, 10], 'clf__max_depth':[10, 20]}\n",
    "\n",
    "# Execute grid search CV on a dataset containing under 50s\n",
    "grid_search = GridSearchCV(pipe, param_grid=grid)\n",
    "arrh_50 = arrh[arrh['age'] < 50]\n",
    "grid_search.fit(arrh_50.drop('class', 1), arrh_50['class'])\n",
    "\n",
    "# Push the fitted pipeline to production\n",
    "with open('pipe.pkl', 'wb') as file:\n",
    "    pickle.dump(grid_search, file)"
   ]
  },
  {
   "cell_type": "code",
   "execution_count": null,
   "metadata": {},
   "outputs": [],
   "source": []
  }
 ],
 "metadata": {
  "kernelspec": {
   "display_name": "Python 3",
   "language": "python",
   "name": "python3"
  },
  "language_info": {
   "codemirror_mode": {
    "name": "ipython",
    "version": 3
   },
   "file_extension": ".py",
   "mimetype": "text/x-python",
   "name": "python",
   "nbconvert_exporter": "python",
   "pygments_lexer": "ipython3",
   "version": "3.6.9"
  },
  "toc": {
   "base_numbering": 1,
   "nav_menu": {},
   "number_sections": true,
   "sideBar": true,
   "skip_h1_title": true,
   "title_cell": "Table of Contents",
   "title_sidebar": "Contents",
   "toc_cell": true,
   "toc_position": {},
   "toc_section_display": true,
   "toc_window_display": false
  },
  "varInspector": {
   "cols": {
    "lenName": 16,
    "lenType": 16,
    "lenVar": 40
   },
   "kernels_config": {
    "python": {
     "delete_cmd_postfix": "",
     "delete_cmd_prefix": "del ",
     "library": "var_list.py",
     "varRefreshCmd": "print(var_dic_list())"
    },
    "r": {
     "delete_cmd_postfix": ") ",
     "delete_cmd_prefix": "rm(",
     "library": "var_list.r",
     "varRefreshCmd": "cat(var_dic_list()) "
    }
   },
   "types_to_exclude": [
    "module",
    "function",
    "builtin_function_or_method",
    "instance",
    "_Feature"
   ],
   "window_display": false
  }
 },
 "nbformat": 4,
 "nbformat_minor": 2
}
