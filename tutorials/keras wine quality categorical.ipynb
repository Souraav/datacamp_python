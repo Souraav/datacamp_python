{
 "cells": [
  {
   "cell_type": "markdown",
   "metadata": {},
   "source": [
    "# Overview\n",
    "This is my own attempt to predict wine quality, but using a categorical perceptron. I do this by having an output as wide as the input - and then use some helper functions to turn the quality metric into a integer bitmap, and back again."
   ]
  },
  {
   "cell_type": "code",
   "execution_count": 1,
   "metadata": {},
   "outputs": [
    {
     "name": "stderr",
     "output_type": "stream",
     "text": [
      "Using TensorFlow backend.\n"
     ]
    }
   ],
   "source": [
    "# Load our primary libraries\n",
    "import numpy as np\n",
    "import pandas as pd\n",
    "import matplotlib.pyplot as plt\n",
    "import keras"
   ]
  },
  {
   "cell_type": "code",
   "execution_count": 3,
   "metadata": {},
   "outputs": [
    {
     "name": "stdout",
     "output_type": "stream",
     "text": [
      "(1599, 12)\n",
      "(4898, 12)\n"
     ]
    }
   ],
   "source": [
    "# Load raw data\n",
    "red_file = 'winequality-red.csv'\n",
    "white_file = 'winequality-white.csv'\n",
    "\n",
    "# Read in white wine data \n",
    "white = pd.read_csv(white_file, sep=';')\n",
    "\n",
    "# Read in red wine data \n",
    "red = pd.read_csv(red_file, sep=';')\n",
    "\n",
    "print(red.shape)\n",
    "print(white.shape)\n",
    "\n",
    "# Let's build a single data set, with type distinguishing between red and white wine\n",
    "\n",
    "# Add `type` column to `red` with value 1\n",
    "red['type'] = 1\n",
    "\n",
    "# Add `type` column to `white` with value 0\n",
    "white['type'] = 0\n",
    "\n",
    "# Append `white` to `red`\n",
    "# We ignore the white index, and instead extend the red index\n",
    "wines = red.append(white, ignore_index=True)"
   ]
  },
  {
   "cell_type": "code",
   "execution_count": 9,
   "metadata": {},
   "outputs": [],
   "source": [
    "# Import `train_test_split` from `sklearn.model_selection`\n",
    "from sklearn.model_selection import train_test_split\n",
    "\n",
    "# That is a nifty function - I prefer tolist() for clarity\n",
    "y = wines['quality'].tolist()\n",
    "\n",
    "# Specify the data - nifty drop function\n",
    "X = wines.drop('quality', axis=1)\n",
    "\n",
    "# Split the data up in train and test sets\n",
    "X_train, X_test, y_train, y_test = train_test_split(X, y, test_size=0.33, random_state=42)"
   ]
  },
  {
   "cell_type": "code",
   "execution_count": 10,
   "metadata": {},
   "outputs": [
    {
     "data": {
      "image/png": "[encoded data removed]",
      "text/plain": [
       "<matplotlib.figure.Figure at 0x1a1ec346d8>"
      ]
     },
     "metadata": {},
     "output_type": "display_data"
    }
   ],
   "source": [
    "# Quickly check histogram\n",
    "plt.hist(y, bins=10)\n",
    "plt.show()"
   ]
  },
  {
   "cell_type": "code",
   "execution_count": 11,
   "metadata": {},
   "outputs": [],
   "source": [
    "# scale our test and train data\n",
    "# Import `StandardScaler` from `sklearn.preprocessing`\n",
    "from sklearn.preprocessing import StandardScaler\n",
    "\n",
    "X=StandardScaler().fit_transform(X)\n",
    "\n",
    "# We also need to make our y categorical\n",
    "from keras.utils import to_categorical\n",
    "y_test = to_categorical(y_test)\n",
    "y_train = to_categorical(y_train)"
   ]
  },
  {
   "cell_type": "code",
   "execution_count": 12,
   "metadata": {},
   "outputs": [],
   "source": [
    "# Import `Sequential` from `keras.models`\n",
    "from keras.models import Sequential\n",
    "\n",
    "# Import `Dense` from `keras.layers`\n",
    "from keras.layers import Dense\n",
    "\n",
    "# Initialize the constructor\n",
    "model = Sequential()\n",
    "\n",
    "# Add an input layer \n",
    "model.add(Dense(64, activation='relu', input_dim=12))\n",
    "\n",
    "# Add one hidden layer \n",
    "model.add(Dense(64, activation='relu'))\n",
    "\n",
    "# Add an output layer \n",
    "model.add(Dense(10, activation='sigmoid'))"
   ]
  },
  {
   "cell_type": "code",
   "execution_count": 13,
   "metadata": {},
   "outputs": [
    {
     "name": "stdout",
     "output_type": "stream",
     "text": [
      "Epoch 1/20\n",
      "4352/4352 [==============================] - 17s 4ms/step - loss: 1.6779 - acc: 0.2266\n",
      "Epoch 2/20\n",
      "4352/4352 [==============================] - 18s 4ms/step - loss: 1.4673 - acc: 0.4051\n",
      "Epoch 3/20\n",
      "4352/4352 [==============================] - 18s 4ms/step - loss: 1.2787 - acc: 0.4269\n",
      "Epoch 4/20\n",
      "4352/4352 [==============================] - 17s 4ms/step - loss: 1.2524 - acc: 0.4359\n",
      "Epoch 5/20\n",
      "4352/4352 [==============================] - 17s 4ms/step - loss: 1.2081 - acc: 0.4793\n",
      "Epoch 6/20\n",
      "4352/4352 [==============================] - 18s 4ms/step - loss: 1.1811 - acc: 0.4908\n",
      "Epoch 7/20\n",
      "4352/4352 [==============================] - 18s 4ms/step - loss: 1.1600 - acc: 0.5037\n",
      "Epoch 8/20\n",
      "4352/4352 [==============================] - 18s 4ms/step - loss: 1.1520 - acc: 0.4920\n",
      "Epoch 9/20\n",
      "4352/4352 [==============================] - 18s 4ms/step - loss: 1.1440 - acc: 0.5030\n",
      "Epoch 10/20\n",
      "4352/4352 [==============================] - 18s 4ms/step - loss: 1.1330 - acc: 0.5097\n",
      "Epoch 11/20\n",
      "4352/4352 [==============================] - 17s 4ms/step - loss: 1.1291 - acc: 0.5087\n",
      "Epoch 12/20\n",
      "4352/4352 [==============================] - 18s 4ms/step - loss: 1.1278 - acc: 0.5000\n",
      "Epoch 13/20\n",
      "4352/4352 [==============================] - 18s 4ms/step - loss: 1.1280 - acc: 0.5071\n",
      "Epoch 14/20\n",
      "4352/4352 [==============================] - 19s 4ms/step - loss: 1.1187 - acc: 0.5115\n",
      "Epoch 15/20\n",
      "4352/4352 [==============================] - 20s 5ms/step - loss: 1.1197 - acc: 0.5087\n",
      "Epoch 16/20\n",
      "4352/4352 [==============================] - 18s 4ms/step - loss: 1.1237 - acc: 0.5126\n",
      "Epoch 17/20\n",
      "4352/4352 [==============================] - 17s 4ms/step - loss: 1.1157 - acc: 0.5103\n",
      "Epoch 18/20\n",
      "4352/4352 [==============================] - 17s 4ms/step - loss: 1.1179 - acc: 0.5159: 0s - loss: 1.1176 - acc\n",
      "Epoch 19/20\n",
      "4352/4352 [==============================] - 17s 4ms/step - loss: 1.1087 - acc: 0.5163\n",
      "Epoch 20/20\n",
      "4352/4352 [==============================] - 17s 4ms/step - loss: 1.1086 - acc: 0.5165\n"
     ]
    },
    {
     "data": {
      "text/plain": [
       "<keras.callbacks.History at 0x1a1b2dca20>"
      ]
     },
     "execution_count": 13,
     "metadata": {},
     "output_type": "execute_result"
    }
   ],
   "source": [
    "# Whoop whoop - now lets model!\n",
    "model.compile(loss='categorical_crossentropy',\n",
    "              optimizer='adam',\n",
    "              metrics=['accuracy'])\n",
    "                   \n",
    "model.fit(X_train, y_train,epochs=20, batch_size=1, verbose=1)"
   ]
  },
  {
   "cell_type": "code",
   "execution_count": 14,
   "metadata": {},
   "outputs": [
    {
     "name": "stdout",
     "output_type": "stream",
     "text": [
      "2145/2145 [==============================] - 0s 51us/step\n",
      "[1.095790630954129, 0.52214452214452212]\n"
     ]
    }
   ],
   "source": [
    "y_pred = model.predict(X_test)\n",
    "y_pred_binary = y_pred.round()\n",
    "\n",
    "score = model.evaluate(X_test, y_test,verbose=1)\n",
    "print(score)"
   ]
  },
  {
   "cell_type": "code",
   "execution_count": 15,
   "metadata": {},
   "outputs": [
    {
     "name": "stdout",
     "output_type": "stream",
     "text": [
      "[1, 2, 3, 4, 1.5, 3.5]\n"
     ]
    }
   ],
   "source": [
    "# turn categorical logic array into an integer\n",
    "def cat_to_int(length, arr_of_arr):\n",
    "    result = []\n",
    "    for arr in arr_of_arr:\n",
    "        total = 0\n",
    "        count = 1\n",
    "        for i in range(length):\n",
    "            if arr[i] > 0:\n",
    "                if total > 0:\n",
    "                    count += 1\n",
    "                total += (i+1) * arr[i]\n",
    "        if count > 1:\n",
    "            # take average if more than one picked\n",
    "            total = total/count\n",
    "        result.append(total)\n",
    "    return result\n",
    "\n",
    "data = [[1,0,0,0],\n",
    "        [0,1,0,0],\n",
    "        [0,0,1,0],\n",
    "        [0,0,0,1],\n",
    "        [1,1,0,0],\n",
    "        [0,0,1,1]]\n",
    "\n",
    "print(cat_to_int(4, data))"
   ]
  },
  {
   "cell_type": "code",
   "execution_count": 16,
   "metadata": {},
   "outputs": [
    {
     "data": {
      "image/png": "[encoded data removed]",
      "text/plain": [
       "<matplotlib.figure.Figure at 0x1a1f185438>"
      ]
     },
     "metadata": {},
     "output_type": "display_data"
    },
    {
     "data": {
      "image/png": "[encoded data removed]",
      "text/plain": [
       "<matplotlib.figure.Figure at 0x1a1f0e2da0>"
      ]
     },
     "metadata": {},
     "output_type": "display_data"
    }
   ],
   "source": [
    "y_test_int = cat_to_int(10, y_test)\n",
    "plt.hist(y_test_int)\n",
    "plt.show()\n",
    "\n",
    "y_pred_int = cat_to_int(10, y_pred_binary)\n",
    "plt.hist(y_pred_int)\n",
    "plt.show()"
   ]
  },
  {
   "cell_type": "code",
   "execution_count": 17,
   "metadata": {},
   "outputs": [
    {
     "name": "stdout",
     "output_type": "stream",
     "text": [
      "quality    10.0\n",
      "dtype: float64\n",
      "quality    7.5\n",
      "dtype: float64\n",
      "quality    4.0\n",
      "dtype: float64\n",
      "quality    5.0\n",
      "dtype: float64\n"
     ]
    },
    {
     "data": {
      "text/plain": [
       "<matplotlib.axes._subplots.AxesSubplot at 0x1a1f0e7c50>"
      ]
     },
     "execution_count": 17,
     "metadata": {},
     "output_type": "execute_result"
    },
    {
     "data": {
      "image/png": "[encoded data removed]",
      "text/plain": [
       "<matplotlib.figure.Figure at 0x1a1f0ee4e0>"
      ]
     },
     "metadata": {},
     "output_type": "display_data"
    }
   ],
   "source": [
    "arr_test = pd.DataFrame({'quality': y_test_int})\n",
    "arr_pred = pd.DataFrame({'quality': y_pred_int})\n",
    "\n",
    "print(arr_test.max())\n",
    "print(arr_pred.max())\n",
    "\n",
    "print(arr_test.min())\n",
    "print(arr_pred.min())\n",
    "\n",
    "# measure per sample error\n",
    "differences = arr_test-arr_pred\n",
    "differences.plot(kind='hist')"
   ]
  },
  {
   "cell_type": "markdown",
   "metadata": {},
   "source": [
    "Still not great - but a slightly better spread of innaccuracies, rather than a massive amount of undecided 'all zeros'.\n",
    "\n",
    "This model is MUCH slower though - it makes more sense to see quality as a continious regression prediction. Then the perceptron is dealing with a single output, and it can use continuious functions throughout."
   ]
  },
  {
   "cell_type": "code",
   "execution_count": null,
   "metadata": {},
   "outputs": [],
   "source": []
  }
 ],
 "metadata": {
  "kernelspec": {
   "display_name": "Python 3",
   "language": "python",
   "name": "python3"
  },
  "language_info": {
   "codemirror_mode": {
    "name": "ipython",
    "version": 3
   },
   "file_extension": ".py",
   "mimetype": "text/x-python",
   "name": "python",
   "nbconvert_exporter": "python",
   "pygments_lexer": "ipython3",
   "version": "3.5.4"
  }
 },
 "nbformat": 4,
 "nbformat_minor": 2
}
