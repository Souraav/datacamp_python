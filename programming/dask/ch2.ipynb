{
 "cells": [
  {
   "cell_type": "markdown",
   "metadata": {
    "toc": true
   },
   "source": [
    "<h1>Table of Contents<span class=\"tocSkip\"></span></h1>\n",
    "<div class=\"toc\"><ul class=\"toc-item\"></ul></div>"
   ]
  },
  {
   "cell_type": "markdown",
   "metadata": {},
   "source": [
    "# Chapter 2"
   ]
  },
  {
   "cell_type": "code",
   "execution_count": 12,
   "metadata": {},
   "outputs": [],
   "source": [
    "import numpy as np\n",
    "import dask.array as da\n",
    "import h5py\n",
    "import matplotlib.pyplot as plt"
   ]
  },
  {
   "cell_type": "code",
   "execution_count": 22,
   "metadata": {},
   "outputs": [
    {
     "data": {
      "text/plain": [
       "array([5282.56, 5267.62, 5252.65, ..., 5136.65, 5138.3 , 5139.89])"
      ]
     },
     "execution_count": 22,
     "metadata": {},
     "output_type": "execute_result"
    }
   ],
   "source": [
    "data = h5py.File('./Texas/texas.2000.hdf5', 'r')\n",
    "list(data.keys())\n",
    "energy = np.array(data['load'])\n",
    "energy"
   ]
  },
  {
   "cell_type": "code",
   "execution_count": 23,
   "metadata": {},
   "outputs": [
    {
     "data": {
      "image/png": "[encoded data removed]",
      "text/plain": [
       "<Figure size 432x288 with 1 Axes>"
      ]
     },
     "metadata": {
      "needs_background": "light"
     },
     "output_type": "display_data"
    }
   ],
   "source": [
    "plt.hist(energy, bins=100)\n",
    "plt.show()"
   ]
  },
  {
   "cell_type": "code",
   "execution_count": 24,
   "metadata": {},
   "outputs": [
    {
     "name": "stdout",
     "output_type": "stream",
     "text": [
      "((8784, 8784, 8784, 8784),)\n",
      "6077.886444672131\n",
      "6077.886444672131\n"
     ]
    }
   ],
   "source": [
    "# Call da.from_array():  energy_dask\n",
    "energy_dask = da.from_array(energy, chunks=energy.shape[0]//4)\n",
    "\n",
    "# Print energy_dask.chunks\n",
    "print(energy_dask.chunks)\n",
    "\n",
    "# Print Dask array average and then NumPy array average\n",
    "print(energy_dask.mean().compute())\n",
    "print(energy.mean())"
   ]
  },
  {
   "cell_type": "code",
   "execution_count": 27,
   "metadata": {},
   "outputs": [
    {
     "name": "stdout",
     "output_type": "stream",
     "text": [
      "2.9838085174560547\n"
     ]
    }
   ],
   "source": [
    "# Import time\n",
    "import time\n",
    "\n",
    "# Call da.from_array() with arr: energy_dask4\n",
    "energy_dask4 = da.from_array(energy, chunks=energy.shape[0]//4)\n",
    "\n",
    "# Print the time to compute standard deviation\n",
    "t_start = time.time()\n",
    "std_4 = energy_dask4.std()\n",
    "t_end = time.time()\n",
    "print((t_end - t_start) * 1.0e3)"
   ]
  },
  {
   "cell_type": "code",
   "execution_count": 28,
   "metadata": {},
   "outputs": [
    {
     "name": "stdout",
     "output_type": "stream",
     "text": [
      "4.287004470825195\n"
     ]
    }
   ],
   "source": [
    "# Import time\n",
    "import time\n",
    "\n",
    "# Call da.from_array() with arr: energy_dask4\n",
    "energy_dask8 = da.from_array(energy, chunks=energy.shape[0]//8)\n",
    "\n",
    "# Print the time to compute standard deviation\n",
    "t_start = time.time()\n",
    "std_8 = energy_dask8.std()\n",
    "t_end = time.time()\n",
    "print((t_end - t_start) * 1.0e3)"
   ]
  },
  {
   "cell_type": "code",
   "execution_count": 42,
   "metadata": {},
   "outputs": [
    {
     "data": {
      "text/plain": [
       "(35040,)"
      ]
     },
     "execution_count": 42,
     "metadata": {},
     "output_type": "execute_result"
    }
   ],
   "source": [
    "data = h5py.File('./Texas/texas.2001.hdf5', 'r')\n",
    "list(data.keys())\n",
    "load_2001 = np.array(data['load'])\n",
    "load_2001.shape"
   ]
  },
  {
   "cell_type": "code",
   "execution_count": 46,
   "metadata": {},
   "outputs": [
    {
     "data": {
      "text/plain": [
       "(105120,)"
      ]
     },
     "execution_count": 46,
     "metadata": {},
     "output_type": "execute_result"
    }
   ],
   "source": [
    "arrs = []\n",
    "\n",
    "for year in range(2013, 2016):\n",
    "    data = h5py.File(f'./Texas/texas.{year}.hdf5', 'r')\n",
    "    arrs.append(np.array(data['load']))\n",
    "\n",
    "load_recent = np.concatenate(arrs)\n",
    "load_recent.shape"
   ]
  },
  {
   "cell_type": "code",
   "execution_count": 47,
   "metadata": {},
   "outputs": [
    {
     "name": "stdout",
     "output_type": "stream",
     "text": [
      "[-1153.309    22.598   -17.925]\n"
     ]
    }
   ],
   "source": [
    "# Reshape load_recent to three dimensions: load_recent_3d\n",
    "load_recent_3d = load_recent.reshape((3,365,96))\n",
    "\n",
    "# Reshape load_2001 to three dimensions: load_2001_3d\n",
    "load_2001_3d = load_2001.reshape((1,365,96))\n",
    "\n",
    "# Subtract the load in 2001 from the load in 2013 - 2015: diff_3d\n",
    "diff_3d = load_recent_3d - load_2001_3d\n",
    "\n",
    "# Print the difference each year on March 2 at noon\n",
    "print(diff_3d[:, 61, 48])"
   ]
  },
  {
   "cell_type": "code",
   "execution_count": 69,
   "metadata": {},
   "outputs": [
    {
     "name": "stdout",
     "output_type": "stream",
     "text": [
      "5240.84666194825\n",
      "[6335.42  6336.159 6344.077]\n",
      "470184.43899999995\n"
     ]
    }
   ],
   "source": [
    "# Print mean value of load_recent_3d\n",
    "print(load_recent_3d.mean())\n",
    "\n",
    "# Print maximum of load_recent_3d across 2nd & 3rd dimensions\n",
    "print(load_recent_3d.max(axis=(1,2)))\n",
    "\n",
    "# Compute sum along last dimension of load_recent_3d: daily_consumption\n",
    "daily_consumption = load_recent_3d.sum(axis=-1)\n",
    "\n",
    "# Print mean of 62nd row of daily_consumption\n",
    "print(daily_consumption[:,61].mean())"
   ]
  },
  {
   "cell_type": "code",
   "execution_count": 71,
   "metadata": {},
   "outputs": [
    {
     "name": "stdout",
     "output_type": "stream",
     "text": [
      "['./Texas/texas.2013.hdf5', './Texas/texas.2015.hdf5', './Texas/texas.2014.hdf5', './Texas/texas.2001.hdf5', './Texas/texas.2000.hdf5']\n"
     ]
    }
   ],
   "source": [
    "from glob import glob\n",
    "\n",
    "filenames = glob('./Texas/*')\n",
    "print(filenames)"
   ]
  },
  {
   "cell_type": "code",
   "execution_count": 140,
   "metadata": {},
   "outputs": [
    {
     "name": "stdout",
     "output_type": "stream",
     "text": [
      "[dask.array<array, shape=(365, 96), dtype=float64, chunksize=(365, 96)>, dask.array<array, shape=(365, 96), dtype=float64, chunksize=(365, 96)>, dask.array<array, shape=(365, 96), dtype=float64, chunksize=(365, 96)>, dask.array<array, shape=(365, 96), dtype=float64, chunksize=(365, 96)>]\n"
     ]
    }
   ],
   "source": [
    "# This is very different to exercise, could not find source data\n",
    "# notice you must reshape the data if it is flat, before you\n",
    "# can chunk it into a different shape - da.from_array will not \n",
    "# do that automatically\n",
    "\n",
    "# Import h5py and dask.array\n",
    "import dask.array as da\n",
    "import h5py\n",
    "\n",
    "# List comprehension to read each file: dsets\n",
    "dsets = [h5py.File(f, 'r')['load'] for f in filenames[:-1:]]\n",
    "\n",
    "# concat arrays\n",
    "arrs = [np.array(d).reshape(365,96) for d in dsets]\n",
    "\n",
    "# List comprehension to make dask arrays: monthly\n",
    "monthly = [da.from_array(arr, chunks=(365,96)) for arr in arrs]\n",
    "print(monthly)"
   ]
  },
  {
   "cell_type": "code",
   "execution_count": 142,
   "metadata": {},
   "outputs": [
    {
     "name": "stdout",
     "output_type": "stream",
     "text": [
      "(4, 365, 96)\n"
     ]
    },
    {
     "ename": "KeyError",
     "evalue": "\"Unable to open object (object 'tmax' doesn't exist)\"",
     "output_type": "error",
     "traceback": [
      "\u001b[0;31m---------------------------------------------------------------------------\u001b[0m",
      "\u001b[0;31mKeyError\u001b[0m                                  Traceback (most recent call last)",
      "\u001b[0;32m<ipython-input-142-67e961a02506>\u001b[0m in \u001b[0;36m<module>\u001b[0;34m()\u001b[0m\n\u001b[1;32m      7\u001b[0m \u001b[0;31m# Read the climatology data: climatology\u001b[0m\u001b[0;34m\u001b[0m\u001b[0;34m\u001b[0m\u001b[0;34m\u001b[0m\u001b[0m\n\u001b[1;32m      8\u001b[0m \u001b[0mdset\u001b[0m \u001b[0;34m=\u001b[0m \u001b[0mh5py\u001b[0m\u001b[0;34m.\u001b[0m\u001b[0mFile\u001b[0m\u001b[0;34m(\u001b[0m\u001b[0;34m'tmax.climate.hdf5'\u001b[0m\u001b[0;34m)\u001b[0m\u001b[0;34m\u001b[0m\u001b[0;34m\u001b[0m\u001b[0m\n\u001b[0;32m----> 9\u001b[0;31m \u001b[0mclimatology\u001b[0m \u001b[0;34m=\u001b[0m \u001b[0mda\u001b[0m\u001b[0;34m.\u001b[0m\u001b[0mfrom_array\u001b[0m\u001b[0;34m(\u001b[0m\u001b[0mdset\u001b[0m\u001b[0;34m[\u001b[0m\u001b[0;34m'/tmax'\u001b[0m\u001b[0;34m]\u001b[0m\u001b[0;34m,\u001b[0m \u001b[0mchunks\u001b[0m\u001b[0;34m=\u001b[0m\u001b[0;34m(\u001b[0m\u001b[0;36m1\u001b[0m\u001b[0;34m,\u001b[0m\u001b[0;36m444\u001b[0m\u001b[0;34m,\u001b[0m\u001b[0;36m922\u001b[0m\u001b[0;34m)\u001b[0m\u001b[0;34m)\u001b[0m\u001b[0;34m\u001b[0m\u001b[0;34m\u001b[0m\u001b[0m\n\u001b[0m\u001b[1;32m     10\u001b[0m \u001b[0;34m\u001b[0m\u001b[0m\n\u001b[1;32m     11\u001b[0m \u001b[0;31m# Reshape the climatology data to be compatible with months\u001b[0m\u001b[0;34m\u001b[0m\u001b[0;34m\u001b[0m\u001b[0;34m\u001b[0m\u001b[0m\n",
      "\u001b[0;32mh5py/_objects.pyx\u001b[0m in \u001b[0;36mh5py._objects.with_phil.wrapper\u001b[0;34m()\u001b[0m\n",
      "\u001b[0;32mh5py/_objects.pyx\u001b[0m in \u001b[0;36mh5py._objects.with_phil.wrapper\u001b[0;34m()\u001b[0m\n",
      "\u001b[0;32m~/anaconda3/envs/datacamp/lib/python3.6/site-packages/h5py/_hl/group.py\u001b[0m in \u001b[0;36m__getitem__\u001b[0;34m(self, name)\u001b[0m\n\u001b[1;32m    175\u001b[0m                 \u001b[0;32mraise\u001b[0m \u001b[0mValueError\u001b[0m\u001b[0;34m(\u001b[0m\u001b[0;34m\"Invalid HDF5 object reference\"\u001b[0m\u001b[0;34m)\u001b[0m\u001b[0;34m\u001b[0m\u001b[0;34m\u001b[0m\u001b[0m\n\u001b[1;32m    176\u001b[0m         \u001b[0;32melse\u001b[0m\u001b[0;34m:\u001b[0m\u001b[0;34m\u001b[0m\u001b[0;34m\u001b[0m\u001b[0m\n\u001b[0;32m--> 177\u001b[0;31m             \u001b[0moid\u001b[0m \u001b[0;34m=\u001b[0m \u001b[0mh5o\u001b[0m\u001b[0;34m.\u001b[0m\u001b[0mopen\u001b[0m\u001b[0;34m(\u001b[0m\u001b[0mself\u001b[0m\u001b[0;34m.\u001b[0m\u001b[0mid\u001b[0m\u001b[0;34m,\u001b[0m \u001b[0mself\u001b[0m\u001b[0;34m.\u001b[0m\u001b[0m_e\u001b[0m\u001b[0;34m(\u001b[0m\u001b[0mname\u001b[0m\u001b[0;34m)\u001b[0m\u001b[0;34m,\u001b[0m \u001b[0mlapl\u001b[0m\u001b[0;34m=\u001b[0m\u001b[0mself\u001b[0m\u001b[0;34m.\u001b[0m\u001b[0m_lapl\u001b[0m\u001b[0;34m)\u001b[0m\u001b[0;34m\u001b[0m\u001b[0;34m\u001b[0m\u001b[0m\n\u001b[0m\u001b[1;32m    178\u001b[0m \u001b[0;34m\u001b[0m\u001b[0m\n\u001b[1;32m    179\u001b[0m         \u001b[0motype\u001b[0m \u001b[0;34m=\u001b[0m \u001b[0mh5i\u001b[0m\u001b[0;34m.\u001b[0m\u001b[0mget_type\u001b[0m\u001b[0;34m(\u001b[0m\u001b[0moid\u001b[0m\u001b[0;34m)\u001b[0m\u001b[0;34m\u001b[0m\u001b[0;34m\u001b[0m\u001b[0m\n",
      "\u001b[0;32mh5py/_objects.pyx\u001b[0m in \u001b[0;36mh5py._objects.with_phil.wrapper\u001b[0;34m()\u001b[0m\n",
      "\u001b[0;32mh5py/_objects.pyx\u001b[0m in \u001b[0;36mh5py._objects.with_phil.wrapper\u001b[0;34m()\u001b[0m\n",
      "\u001b[0;32mh5py/h5o.pyx\u001b[0m in \u001b[0;36mh5py.h5o.open\u001b[0;34m()\u001b[0m\n",
      "\u001b[0;31mKeyError\u001b[0m: \"Unable to open object (object 'tmax' doesn't exist)\""
     ]
    }
   ],
   "source": [
    "# Stack with the list of dask arrays: by_year\n",
    "by_year = da.stack(monthly, axis=0)\n",
    "\n",
    "# Print the shape of the stacked arrays\n",
    "print(by_year.shape)\n",
    "\n",
    "# Read the climatology data: climatology\n",
    "dset = h5py.File('tmax.climate.hdf5')\n",
    "climatology = da.from_array(dset['/tmax'], chunks=(1,444,922))\n",
    "\n",
    "# Reshape the climatology data to be compatible with months\n",
    "climatology.reshape(1,12,444,922)"
   ]
  },
  {
   "cell_type": "code",
   "execution_count": 143,
   "metadata": {},
   "outputs": [
    {
     "ename": "NameError",
     "evalue": "name 'climatology' is not defined",
     "output_type": "error",
     "traceback": [
      "\u001b[0;31m---------------------------------------------------------------------------\u001b[0m",
      "\u001b[0;31mNameError\u001b[0m                                 Traceback (most recent call last)",
      "\u001b[0;32m<ipython-input-143-37fd57303011>\u001b[0m in \u001b[0;36m<module>\u001b[0;34m()\u001b[0m\n\u001b[1;32m      1\u001b[0m \u001b[0;31m# Compute the difference: diff\u001b[0m\u001b[0;34m\u001b[0m\u001b[0;34m\u001b[0m\u001b[0;34m\u001b[0m\u001b[0m\n\u001b[0;32m----> 2\u001b[0;31m \u001b[0mdiff\u001b[0m \u001b[0;34m=\u001b[0m \u001b[0;34m(\u001b[0m\u001b[0mby_year\u001b[0m \u001b[0;34m-\u001b[0m \u001b[0mclimatology\u001b[0m\u001b[0;34m)\u001b[0m \u001b[0;34m*\u001b[0m \u001b[0;36m9\u001b[0m\u001b[0;34m/\u001b[0m\u001b[0;36m5\u001b[0m\u001b[0;34m\u001b[0m\u001b[0;34m\u001b[0m\u001b[0m\n\u001b[0m\u001b[1;32m      3\u001b[0m \u001b[0;31m# Compute the average over last two axes: avg\u001b[0m\u001b[0;34m\u001b[0m\u001b[0;34m\u001b[0m\u001b[0;34m\u001b[0m\u001b[0m\n\u001b[1;32m      4\u001b[0m \u001b[0mavg\u001b[0m \u001b[0;34m=\u001b[0m \u001b[0mda\u001b[0m\u001b[0;34m.\u001b[0m\u001b[0mnanmean\u001b[0m\u001b[0;34m(\u001b[0m\u001b[0mdiff\u001b[0m\u001b[0;34m,\u001b[0m \u001b[0maxis\u001b[0m\u001b[0;34m=\u001b[0m\u001b[0;34m(\u001b[0m\u001b[0;34m-\u001b[0m\u001b[0;36m1\u001b[0m\u001b[0;34m,\u001b[0m\u001b[0;34m-\u001b[0m\u001b[0;36m2\u001b[0m\u001b[0;34m)\u001b[0m\u001b[0;34m)\u001b[0m\u001b[0;34m.\u001b[0m\u001b[0mcompute\u001b[0m\u001b[0;34m(\u001b[0m\u001b[0;34m)\u001b[0m\u001b[0;34m\u001b[0m\u001b[0;34m\u001b[0m\u001b[0m\n\u001b[1;32m      5\u001b[0m \u001b[0;31m# Plot the slices [:,0], [:,7], and [:11] against the x values\u001b[0m\u001b[0;34m\u001b[0m\u001b[0;34m\u001b[0m\u001b[0;34m\u001b[0m\u001b[0m\n",
      "\u001b[0;31mNameError\u001b[0m: name 'climatology' is not defined"
     ]
    }
   ],
   "source": [
    "# Compute the difference: diff\n",
    "diff = (by_year - climatology) * 9/5\n",
    "# Compute the average over last two axes: avg\n",
    "avg = da.nanmean(diff, axis=(-1,-2)).compute()\n",
    "# Plot the slices [:,0], [:,7], and [:11] against the x values\n",
    "x = range(2008,2012)\n",
    "f, ax = plt.subplots()\n",
    "ax.plot(x,avg[:,0], label='Jan')\n",
    "ax.plot(x,avg[:,7], label='Aug')\n",
    "ax.plot(x,avg[:,11], label='Dec')\n",
    "ax.axhline(0, color='red')\n",
    "ax.set_xlabel('Year')\n",
    "ax.set_ylabel('Difference (degrees Fahrenheit)')\n",
    "ax.legend(loc=0)\n",
    "plt.show()"
   ]
  },
  {
   "cell_type": "code",
   "execution_count": null,
   "metadata": {},
   "outputs": [],
   "source": []
  }
 ],
 "metadata": {
  "kernelspec": {
   "display_name": "Python 3",
   "language": "python",
   "name": "python3"
  },
  "language_info": {
   "codemirror_mode": {
    "name": "ipython",
    "version": 3
   },
   "file_extension": ".py",
   "mimetype": "text/x-python",
   "name": "python",
   "nbconvert_exporter": "python",
   "pygments_lexer": "ipython3",
   "version": "3.6.7"
  },
  "toc": {
   "base_numbering": 1,
   "nav_menu": {},
   "number_sections": true,
   "sideBar": true,
   "skip_h1_title": true,
   "title_cell": "Table of Contents",
   "title_sidebar": "Contents",
   "toc_cell": true,
   "toc_position": {},
   "toc_section_display": true,
   "toc_window_display": false
  },
  "varInspector": {
   "cols": {
    "lenName": 16,
    "lenType": 16,
    "lenVar": 40
   },
   "kernels_config": {
    "python": {
     "delete_cmd_postfix": "",
     "delete_cmd_prefix": "del ",
     "library": "var_list.py",
     "varRefreshCmd": "print(var_dic_list())"
    },
    "r": {
     "delete_cmd_postfix": ") ",
     "delete_cmd_prefix": "rm(",
     "library": "var_list.r",
     "varRefreshCmd": "cat(var_dic_list()) "
    }
   },
   "types_to_exclude": [
    "module",
    "function",
    "builtin_function_or_method",
    "instance",
    "_Feature"
   ],
   "window_display": false
  }
 },
 "nbformat": 4,
 "nbformat_minor": 2
}
