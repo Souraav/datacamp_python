{
 "cells": [
  {
   "cell_type": "markdown",
   "metadata": {
    "toc": true
   },
   "source": [
    "<h1>Table of Contents<span class=\"tocSkip\"></span></h1>\n",
    "<div class=\"toc\"><ul class=\"toc-item\"><li><span><a href=\"#Chapter-3\" data-toc-modified-id=\"Chapter-3-1\"><span class=\"toc-item-num\">1&nbsp;&nbsp;</span>Chapter 3</a></span></li></ul></div>"
   ]
  },
  {
   "cell_type": "markdown",
   "metadata": {},
   "source": [
    "## Chapter 3"
   ]
  },
  {
   "cell_type": "code",
   "execution_count": 1,
   "metadata": {},
   "outputs": [],
   "source": [
    "import pandas as pd\n",
    "import numpy as np\n",
    "import matplotlib.pyplot as plt\n",
    "import seaborn as sns\n",
    "sns.set_context('talk')"
   ]
  },
  {
   "cell_type": "code",
   "execution_count": 2,
   "metadata": {},
   "outputs": [],
   "source": [
    "import dask.dataframe as dd"
   ]
  },
  {
   "cell_type": "code",
   "execution_count": 10,
   "metadata": {},
   "outputs": [],
   "source": [
    "# Read from 'WDI.csv': df\n",
    "df = dd.read_csv('WDI.csv')\n",
    "\n",
    "# Boolean series where 'Indicator Code' is 'EN.ATM.PM25.MC.ZS': toxins\n",
    "toxins = df['Indicator Code'] == 'EN.ATM.PM25.MC.ZS'\n",
    "# Boolean series where 'Region' is 'East Asia & Pacific': region\n",
    "region = df['Region'] == 'East Asia & Pacific'\n",
    "\n",
    "# Filter the DataFrame using toxins & region: filtered\n",
    "filtered = df[region]"
   ]
  },
  {
   "cell_type": "code",
   "execution_count": 11,
   "metadata": {},
   "outputs": [
    {
     "data": {
      "image/png": "[encoded data removed]",
      "text/plain": [
       "<Figure size 432x288 with 1 Axes>"
      ]
     },
     "metadata": {
      "needs_background": "light"
     },
     "output_type": "display_data"
    }
   ],
   "source": [
    "# Grouby filtered by the 'Year' column: yearly\n",
    "yearly = filtered.groupby('Year')\n",
    "\n",
    "# Calculate the mean of yearly: yearly_mean\n",
    "yearly_mean = yearly.mean()\n",
    "\n",
    "# Call .compute() to perform the computation: result\n",
    "result = yearly_mean.compute()\n",
    "\n",
    "# Plot the 'value' column with .plot.line()\n",
    "result['value'].plot.line()\n",
    "plt.ylabel('% pop exposed')\n",
    "plt.show()"
   ]
  },
  {
   "cell_type": "code",
   "execution_count": 13,
   "metadata": {},
   "outputs": [],
   "source": [
    "# Define a function with df as input: by_region\n",
    "def by_region(df):\n",
    "\n",
    "    # Create the toxins array\n",
    "    toxins = df['Indicator Code'] == 'EN.ATM.PM25.MC.ZS'\n",
    "\n",
    "    # Create the y2015 array\n",
    "    y2015 = df['Year'] == 2015\n",
    "\n",
    "    # Filter the DataFrame and group by the 'Region' column\n",
    "    regions = df[toxins & y2015].groupby('Region')\n",
    "\n",
    "    # Return the mean of the 'value' column of regions\n",
    "    return regions['value'].mean()\n"
   ]
  },
  {
   "cell_type": "code",
   "execution_count": 18,
   "metadata": {},
   "outputs": [
    {
     "name": "stdout",
     "output_type": "stream",
     "text": [
      "251.7988681793213\n"
     ]
    }
   ],
   "source": [
    "import time\n",
    "\n",
    "# Call time.time()\n",
    "t0 = time.time()\n",
    "\n",
    "# Read 'WDI.csv' into df\n",
    "df = pd.read_csv('WDI.csv')\n",
    "\n",
    "# Group df by region: result\n",
    "result = by_region(df)\n",
    "\n",
    "# Call time.time()\n",
    "t1 = time.time()\n",
    "\n",
    "# Print the execution time\n",
    "print((t1-t0)*1000)"
   ]
  },
  {
   "cell_type": "code",
   "execution_count": 21,
   "metadata": {},
   "outputs": [
    {
     "name": "stdout",
     "output_type": "stream",
     "text": [
      "17.88806915283203\n"
     ]
    }
   ],
   "source": [
    "# Time the execution of just by_region with Pandas and print in milliseconds\n",
    "df = pd.read_csv('WDI.csv')\n",
    "t0 = time.time()\n",
    "result = by_region(df)\n",
    "t1 = time.time()\n",
    "print((t1-t0)*1000)"
   ]
  },
  {
   "cell_type": "code",
   "execution_count": 22,
   "metadata": {},
   "outputs": [
    {
     "name": "stdout",
     "output_type": "stream",
     "text": [
      "33.769845962524414\n"
     ]
    }
   ],
   "source": [
    "# Time the execution of dd.read_csv and by_region together with 'WDI.csv' and print in milliseconds\n",
    "df = dd.read_csv('WDI.csv')\n",
    "t0 = time.time()\n",
    "result = by_region(df)\n",
    "t1 = time.time()\n",
    "print((t1-t0)*1000)"
   ]
  },
  {
   "cell_type": "code",
   "execution_count": 29,
   "metadata": {},
   "outputs": [
    {
     "name": "stdout",
     "output_type": "stream",
     "text": [
      "<class 'dask.dataframe.core.DataFrame'>\n",
      "Columns: 19 entries, VendorID to total_amount\n",
      "dtypes: object(3), float64(16)"
     ]
    }
   ],
   "source": [
    "# Read all .csv files: df\n",
    "df = dd.read_csv('nyctaxi/*.csv', assume_missing=True)\n",
    "df.info()\n",
    "\n",
    "# Make column 'tip_fraction'\n",
    "df['tip_fraction'] = df['tip_amount'] / (df['total_amount'] - df['tip_amount'])\n",
    "\n",
    "# Convert 'tpep_dropoff_datetime' column to datetime objects\n",
    "df['tpep_dropoff_datetime'] = dd.to_datetime(df['tpep_dropoff_datetime'])\n",
    "\n",
    "# Construct column 'hour'\n",
    "df['hour'] = df['tpep_dropoff_datetime'].dt.hour"
   ]
  },
  {
   "cell_type": "code",
   "execution_count": 36,
   "metadata": {},
   "outputs": [
    {
     "name": "stdout",
     "output_type": "stream",
     "text": [
      "<class 'dask.dataframe.core.Series'>\n"
     ]
    }
   ],
   "source": [
    "# Filter rows where payment_type == 1: credit\n",
    "credit = df[df['payment_type'] == 1]\n",
    "\n",
    "# Group by 'hour' column: hourly\n",
    "hourly = credit.groupby('hour')\n",
    "\n",
    "# Aggregate mean 'tip_fraction' and print its data type\n",
    "result = hourly['tip_fraction'].mean()\n",
    "print(type(result))"
   ]
  },
  {
   "cell_type": "code",
   "execution_count": 38,
   "metadata": {},
   "outputs": [
    {
     "name": "stdout",
     "output_type": "stream",
     "text": [
      "<class 'pandas.core.series.Series'>\n"
     ]
    },
    {
     "data": {
      "image/png": "[encoded data removed]",
      "text/plain": [
       "<Figure size 432x288 with 1 Axes>"
      ]
     },
     "metadata": {
      "needs_background": "light"
     },
     "output_type": "display_data"
    }
   ],
   "source": [
    "# Perform the computation\n",
    "tip_frac = result.compute()\n",
    "\n",
    "# Print the type of tip_frac\n",
    "print(type(tip_frac))\n",
    "\n",
    "# Generate a line plot using .plot.line()\n",
    "tip_frac.plot.line()\n",
    "plt.ylabel('Tip fraction')\n",
    "plt.show()"
   ]
  },
  {
   "cell_type": "code",
   "execution_count": null,
   "metadata": {},
   "outputs": [],
   "source": []
  }
 ],
 "metadata": {
  "kernelspec": {
   "display_name": "Python 3",
   "language": "python",
   "name": "python3"
  },
  "language_info": {
   "codemirror_mode": {
    "name": "ipython",
    "version": 3
   },
   "file_extension": ".py",
   "mimetype": "text/x-python",
   "name": "python",
   "nbconvert_exporter": "python",
   "pygments_lexer": "ipython3",
   "version": "3.6.7"
  },
  "toc": {
   "base_numbering": 1,
   "nav_menu": {},
   "number_sections": true,
   "sideBar": true,
   "skip_h1_title": true,
   "title_cell": "Table of Contents",
   "title_sidebar": "Contents",
   "toc_cell": true,
   "toc_position": {},
   "toc_section_display": true,
   "toc_window_display": false
  },
  "varInspector": {
   "cols": {
    "lenName": 16,
    "lenType": 16,
    "lenVar": 40
   },
   "kernels_config": {
    "python": {
     "delete_cmd_postfix": "",
     "delete_cmd_prefix": "del ",
     "library": "var_list.py",
     "varRefreshCmd": "print(var_dic_list())"
    },
    "r": {
     "delete_cmd_postfix": ") ",
     "delete_cmd_prefix": "rm(",
     "library": "var_list.r",
     "varRefreshCmd": "cat(var_dic_list()) "
    }
   },
   "types_to_exclude": [
    "module",
    "function",
    "builtin_function_or_method",
    "instance",
    "_Feature"
   ],
   "window_display": false
  }
 },
 "nbformat": 4,
 "nbformat_minor": 2
}
