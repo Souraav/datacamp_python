{
 "cells": [
  {
   "cell_type": "markdown",
   "metadata": {},
   "source": [
    "# Chapter 3"
   ]
  },
  {
   "cell_type": "markdown",
   "metadata": {},
   "source": [
    "## Function Arguments"
   ]
  },
  {
   "cell_type": "code",
   "execution_count": 1,
   "metadata": {},
   "outputs": [
    {
     "name": "stdout",
     "output_type": "stream",
     "text": [
      "([1.57, 4, 5, 0.89], ['car', 'hat', 'tree'])\n"
     ]
    }
   ],
   "source": [
    "# Define the function with an arbitrary number of arguments\n",
    "def sort_types(*args):\n",
    "    nums, strings = [], []\n",
    "    for arg in args:\n",
    "        # Check if 'arg' is a number and add it to 'nums'\n",
    "        if isinstance(arg, (int, float)):\n",
    "            nums.append(arg)\n",
    "        # Check if 'arg' is a string and add it to 'strings'\n",
    "        elif isinstance(arg, str):\n",
    "            strings.append(arg)\n",
    "    \n",
    "    return (nums, strings)\n",
    "\n",
    "print(sort_types(1.57, 'car', 'hat', 4, 5, 'tree', 0.89))"
   ]
  },
  {
   "cell_type": "code",
   "execution_count": 2,
   "metadata": {},
   "outputs": [
    {
     "name": "stdout",
     "output_type": "stream",
     "text": [
      "{<class 'int'>: ['a', 'b'], <class 'tuple'>: ['c'], <class 'float'>: ['d', 'e']}\n"
     ]
    }
   ],
   "source": [
    "# Define the function with an arbitrary number of arguments\n",
    "def key_types(**kwargs):\n",
    "    dict_type = dict()\n",
    "    # Iterate over key value pairs\n",
    "    for key, value in kwargs.items():\n",
    "        # Update a list associated with a key\n",
    "        if type(value) in dict_type.keys():\n",
    "            dict_type[type(value)].append(key)\n",
    "        else:\n",
    "            dict_type[type(value)] = [key]\n",
    "            \n",
    "    return dict_type\n",
    "  \n",
    "res = key_types(a=1, b=2, c=(1, 2), d=3.1, e=4.2)\n",
    "print(res)"
   ]
  },
  {
   "cell_type": "code",
   "execution_count": 3,
   "metadata": {},
   "outputs": [
    {
     "name": "stdout",
     "output_type": "stream",
     "text": [
      "([1, 2.0, 5.1, 0.0, 5], ['dog', 'cat'])\n"
     ]
    }
   ],
   "source": [
    "# Define the arguments passed to the function\n",
    "def sort_all_types(*args, **kwargs):\n",
    "\n",
    "    # Find all the numbers and strings in the 1st argument\n",
    "    nums1, strings1 = sort_types(*args)\n",
    "    \n",
    "    # Find all the numbers and strings in the 2nd argument\n",
    "    nums2, strings2 = sort_types(*kwargs.values())\n",
    "    \n",
    "    return (nums1 + nums2, strings1 + strings2)\n",
    "  \n",
    "res = sort_all_types(\n",
    "\t1, 2.0, 'dog', 5.1, num1 = 0.0, num2 = 5, str1 = 'cat'\n",
    ")\n",
    "print(res)"
   ]
  },
  {
   "cell_type": "markdown",
   "metadata": {},
   "source": [
    "## Lambdas"
   ]
  },
  {
   "cell_type": "code",
   "execution_count": 4,
   "metadata": {},
   "outputs": [
    {
     "name": "stdout",
     "output_type": "stream",
     "text": [
      "4.0\n",
      "0\n"
     ]
    }
   ],
   "source": [
    "# Take x and return x squared if x > 0 and 0, otherwise\n",
    "squared_no_negatives = lambda x: x**2 if x > 0 else 0\n",
    "print(squared_no_negatives(2.0))\n",
    "print(squared_no_negatives(-1))"
   ]
  },
  {
   "cell_type": "code",
   "execution_count": 5,
   "metadata": {},
   "outputs": [
    {
     "name": "stdout",
     "output_type": "stream",
     "text": [
      "[2, 4, 6, 8, 10]\n"
     ]
    }
   ],
   "source": [
    "# Take a list of integers nums and leave only even numbers\n",
    "get_even = lambda nums: [x for x in nums if x % 2 == 0]\n",
    "print(get_even([1, 2, 3, 4, 5, 6, 7, 8, 9, 10]))"
   ]
  },
  {
   "cell_type": "code",
   "execution_count": 6,
   "metadata": {},
   "outputs": [
    {
     "name": "stdout",
     "output_type": "stream",
     "text": [
      "{'a', 'p'}\n"
     ]
    }
   ],
   "source": [
    "# Take strings s1, s2 and list their common characters\n",
    "common_chars = lambda s1, s2: set(s1).intersection(set(s2))\n",
    "print(common_chars('pasta', 'pizza'))"
   ]
  },
  {
   "cell_type": "code",
   "execution_count": 7,
   "metadata": {},
   "outputs": [
    {
     "name": "stdout",
     "output_type": "stream",
     "text": [
      "5, 5\n",
      "5, 5\n"
     ]
    }
   ],
   "source": [
    "# Returns a bigger of the two numbers\n",
    "def func1(x, y):\n",
    "    if x >= y:\n",
    "        return str(x)\n",
    "    return str(y)\n",
    "\n",
    "# Convert func1() to a lambda expression\n",
    "lambda1 = lambda i, j: i if i >= j else j\n",
    "print(str(func1(5, 4) + ', ' + str(lambda1(5, 4))))\n",
    "print(str(func1(4, 5) + ', ' + str(lambda1(4, 5))))"
   ]
  },
  {
   "cell_type": "code",
   "execution_count": 8,
   "metadata": {},
   "outputs": [
    {
     "name": "stdout",
     "output_type": "stream",
     "text": [
      "{'C': 1, 'a': 3, 'D': 1, 'p': 1, 't': 1, 'm': 1}\n",
      "{'C': 1, 'a': 3, 'D': 1, 'p': 1, 't': 1, 'm': 1}\n"
     ]
    }
   ],
   "source": [
    "def func2(s):\n",
    "    d = dict()\n",
    "    for c in set(s):\n",
    "        d[c] = s.count(c)\n",
    "    return d\n",
    "\n",
    "lambda2 = lambda s: dict((char, s.count(char)) for char in set(s))\n",
    "print(func2('DataCamp'))\n",
    "print(lambda2('DataCamp'))"
   ]
  },
  {
   "cell_type": "code",
   "execution_count": 9,
   "metadata": {},
   "outputs": [
    {
     "name": "stdout",
     "output_type": "stream",
     "text": [
      "5.0, 5.0\n",
      "7.0710678118654755, 7.0710678118654755\n"
     ]
    }
   ],
   "source": [
    "import math\n",
    "\n",
    "# Returns a squared root of a sum of squared numbers\n",
    "def func3(*nums):\n",
    "    squared_nums = [n**2 for n in nums]\n",
    "    sum_squared_nums = sum(squared_nums)\n",
    "    return math.sqrt(sum_squared_nums)\n",
    "\n",
    "# Convert func3() to lambda expression\n",
    "lambda3 = lambda *nums: math.sqrt(sum(x**2 for x in nums))\n",
    "print(str(func3(3, 4)) + ', ' + str(lambda3(3, 4)))\n",
    "print(str(func3(3, 4, 5)) + ', ' + str(lambda3(3, 4, 5)))"
   ]
  },
  {
   "cell_type": "code",
   "execution_count": 10,
   "metadata": {},
   "outputs": [
    {
     "name": "stdout",
     "output_type": "stream",
     "text": [
      "['car', 'bag', 'job', 'time', 'cell', 'call', 'area', 'item', 'unit', 'truck', 'phone', 'shape', 'plane', 'leader', 'height', 'tequila', 'chicken', 'country', 'service', 'creature', 'interview', 'advantage', 'government', 'atmosphere', 'transaction']\n"
     ]
    }
   ],
   "source": [
    "words = ['car',\n",
    "        'truck',\n",
    "        'interview',\n",
    "        'tequila',\n",
    "        'time',\n",
    "        'cell',\n",
    "        'chicken',\n",
    "        'leader',\n",
    "        'government',\n",
    "        'transaction',\n",
    "        'country',\n",
    "        'bag',\n",
    "        'call',\n",
    "        'area',\n",
    "        'service',\n",
    "        'phone',\n",
    "        'advantage',\n",
    "        'job',\n",
    "        'shape',\n",
    "        'item',\n",
    "        'atmosphere',\n",
    "        'height',\n",
    "        'creature',\n",
    "        'plane',\n",
    "        'unit']\n",
    "\n",
    "# Sort words by the string length\n",
    "words.sort(key=lambda s: len(s))\n",
    "print(words)"
   ]
  },
  {
   "cell_type": "code",
   "execution_count": 11,
   "metadata": {},
   "outputs": [
    {
     "name": "stdout",
     "output_type": "stream",
     "text": [
      "['area', 'tequila', 'job', 'time', 'phone', 'shape', 'plane', 'service', 'creature', 'advantage', 'atmosphere', 'bag', 'truck', 'cell', 'call', 'item', 'chicken', 'transaction', 'car', 'leader', 'unit', 'height', 'government', 'interview', 'country']\n"
     ]
    }
   ],
   "source": [
    "words.sort(key=lambda s: s[-1])\n",
    "print(words)"
   ]
  },
  {
   "cell_type": "code",
   "execution_count": 12,
   "metadata": {},
   "outputs": [
    {
     "name": "stdout",
     "output_type": "stream",
     "text": [
      "['time', 'phone', 'item', 'unit', 'height', 'government', 'interview', 'tequila', 'job', 'shape', 'plane', 'service', 'atmosphere', 'truck', 'cell', 'leader', 'country', 'area', 'creature', 'bag', 'call', 'chicken', 'car', 'advantage', 'transaction']\n"
     ]
    }
   ],
   "source": [
    "words.sort(key=lambda s: sum([s.count(c) for c in ['a', 'b', 'c']]))\n",
    "print(words)"
   ]
  },
  {
   "cell_type": "markdown",
   "metadata": {},
   "source": [
    "## map, filter, reduce\n",
    "Start by creating a zip function. This combines lists of equal length, and it picks the shortest when they aren't the same length.\n",
    "\n",
    "### Map"
   ]
  },
  {
   "cell_type": "code",
   "execution_count": 13,
   "metadata": {},
   "outputs": [
    {
     "data": {
      "text/plain": [
       "[(1, 2), (3, 4), (5, 6)]"
      ]
     },
     "execution_count": 13,
     "metadata": {},
     "output_type": "execute_result"
    }
   ],
   "source": [
    "def my_zip(*args):\n",
    "    # Retrieve Iterable lengths and find the minimal length\n",
    "    lengths = map(len, args)\n",
    "    min_length = min(lengths)\n",
    "\n",
    "    tuple_list = []\n",
    "    for i in range(0, min_length):\n",
    "        # Map the elements in args with the same index i\n",
    "        mapping = map(lambda x: x[i], args)\n",
    "        # Convert the mapping and append it to tuple_list\n",
    "        tuple_list.append(tuple(mapping))\n",
    "    return tuple_list\n",
    "\n",
    "l1 = [1,3,5]\n",
    "l2 = [2,4,6,8]\n",
    "\n",
    "list(my_zip(l1, l2))"
   ]
  },
  {
   "cell_type": "markdown",
   "metadata": {},
   "source": [
    "### Filter"
   ]
  },
  {
   "cell_type": "code",
   "execution_count": 14,
   "metadata": {},
   "outputs": [
    {
     "name": "stdout",
     "output_type": "stream",
     "text": [
      "[0, 1, 2, 3, 4, 5, 6, 7, 8, 9, 10, 11, 12, 13, 14, 15, 16, 17, 18, 19, 20, 21, 22, 23, 24, 25, 26, 27, 28, 29, 30, 31, 32, 33, 34, 35, 36, 37, 38, 39, 40, 41, 42, 43, 44, 45, 46, 47, 48, 49, 50, 51, 52, 53, 54, 55, 56, 57, 58, 59, 60, 61, 62, 63, 64, 65, 66, 67, 68, 69, 70, 71, 72, 73, 74, 75, 76, 77, 78, 79, 80, 81, 82, 83, 84, 85, 86, 87, 88, 89, 90, 91, 92, 93, 94, 95, 96, 97, 98, 99, 100]\n",
      "[1, 2, 4, 7, 8, 11, 13, 14, 16, 17, 19, 22, 23, 26, 28, 29, 31, 32, 34, 37, 38, 41, 43, 44, 46, 47, 49, 52, 53, 56, 58, 59, 61, 62, 64, 67, 68, 71, 73, 74, 76, 77, 79, 82, 83, 86, 88, 89, 91, 92, 94, 97, 98]\n"
     ]
    }
   ],
   "source": [
    "string = 'Ordinary Least Squares'\n",
    "spells = ['riddikulus',\n",
    "          'obliviate',\n",
    "          'sectumsempra',\n",
    "          'avada kedavra',\n",
    "          'alohomora',\n",
    "          'lumos',\n",
    "          'expelliarmus',\n",
    "          'expecto patronum']\n",
    "nums = list(range(101))\n",
    "\n",
    "# Exclude all the numbers from nums divisibleby 3 or 5\n",
    "print(nums)\n",
    "fnums = filter(lambda x: x % 3 != 0 and x % 5 != 0, nums)\n",
    "print(list(fnums))"
   ]
  },
  {
   "cell_type": "code",
   "execution_count": 15,
   "metadata": {},
   "outputs": [
    {
     "name": "stdout",
     "output_type": "stream",
     "text": [
      "Ordinary Least Squares\n",
      "rdnry Lst Sqrs\n"
     ]
    }
   ],
   "source": [
    "# Return the string without its vowels\n",
    "print(string)\n",
    "vowels = ['a','e','i','o','u']\n",
    "fstring = filter(lambda x: x.lower() not in vowels, string)\n",
    "print(''.join(fstring))"
   ]
  },
  {
   "cell_type": "code",
   "execution_count": 16,
   "metadata": {},
   "outputs": [
    {
     "name": "stdout",
     "output_type": "stream",
     "text": [
      "['riddikulus', 'obliviate', 'sectumsempra', 'avada kedavra', 'alohomora', 'lumos', 'expelliarmus', 'expecto patronum']\n",
      "['avada kedavra']\n"
     ]
    }
   ],
   "source": [
    "# Filter all the spells in spells with more than two 'a's\n",
    "print(spells)\n",
    "fspells = filter(lambda x: x.count('a') > 2, spells)\n",
    "print(list(fspells))"
   ]
  },
  {
   "cell_type": "markdown",
   "metadata": {},
   "source": [
    "### Reduce"
   ]
  },
  {
   "cell_type": "code",
   "execution_count": 17,
   "metadata": {},
   "outputs": [
    {
     "name": "stdout",
     "output_type": "stream",
     "text": [
      "Inverted string = pmaCataD\n"
     ]
    }
   ],
   "source": [
    "from functools import reduce\n",
    "\n",
    "# Reduce a string using reduce()\n",
    "string = 'DataCamp'\n",
    "inv_string = reduce(lambda x, y: y + x, string)\n",
    "print('Inverted string = ' + inv_string)"
   ]
  },
  {
   "cell_type": "code",
   "execution_count": 19,
   "metadata": {},
   "outputs": [
    {
     "name": "stdout",
     "output_type": "stream",
     "text": [
      "common items = {9, 4}\n"
     ]
    }
   ],
   "source": [
    "# Find common items shared among all the sets in sets\n",
    "sets = [{1,4,8,9}, {2,4,6,9,10,8}, {9,0,1,2,4}]\n",
    "common_items = reduce(lambda x, y: x.intersection(y), sets)\n",
    "print('common items = ' + str(common_items))"
   ]
  },
  {
   "cell_type": "code",
   "execution_count": 21,
   "metadata": {},
   "outputs": [
    {
     "name": "stdout",
     "output_type": "stream",
     "text": [
      "[5, 6, 0, 1] is converted to 5601\n"
     ]
    }
   ],
   "source": [
    "# Convert a number sequence into a single number\n",
    "nums = [5, 6, 0, 1]\n",
    "num = reduce(lambda x,y: str(x) + str(y), nums)\n",
    "print(str(nums) + ' is converted to ' + str(num))"
   ]
  },
  {
   "cell_type": "markdown",
   "metadata": {},
   "source": [
    "## Recursion"
   ]
  },
  {
   "cell_type": "code",
   "execution_count": 23,
   "metadata": {},
   "outputs": [
    {
     "name": "stdout",
     "output_type": "stream",
     "text": [
      "3.0\n"
     ]
    }
   ],
   "source": [
    "# Calculate an average value of the sequence of numbers\n",
    "def average(nums):\n",
    "  \n",
    "    # Base case\n",
    "    if len(nums) == 1:  \n",
    "        return nums[0]\n",
    "    \n",
    "    # Recursive call\n",
    "    n = len(nums)\n",
    "    return (nums[0] + (len(nums) - 1) * average(nums[1:])) / len(nums)\n",
    "\n",
    "# Testing the function\n",
    "print(average([1, 2, 3, 4, 5]))"
   ]
  },
  {
   "cell_type": "code",
   "execution_count": 50,
   "metadata": {},
   "outputs": [
    {
     "name": "stdout",
     "output_type": "stream",
     "text": [
      "approx = 3.143588659585789, theor = 3.141592653589793\n"
     ]
    }
   ],
   "source": [
    "import math\n",
    "\n",
    "# Write an expression to get the k-th element of the series \n",
    "get_elmnt = lambda k: ((-1)**k)/((2*k)+1)\n",
    "\n",
    "def calc_pi(n):\n",
    "    curr_elmnt = get_elmnt(n)\n",
    "    \n",
    "    # Define the base case\n",
    "    if n == 0:\n",
    "        return 4\n",
    "      \n",
    "    # Make the recursive call\n",
    "    return (4*curr_elmnt) + calc_pi(n-1)\n",
    "  \n",
    "# Compare the approximated Pi value to the theoretical one\n",
    "print(\"approx = {}, theor = {}\".format(calc_pi(500), math.pi))"
   ]
  },
  {
   "cell_type": "code",
   "execution_count": null,
   "metadata": {},
   "outputs": [],
   "source": []
  }
 ],
 "metadata": {
  "kernelspec": {
   "display_name": "Python 3",
   "language": "python",
   "name": "python3"
  },
  "language_info": {
   "codemirror_mode": {
    "name": "ipython",
    "version": 3
   },
   "file_extension": ".py",
   "mimetype": "text/x-python",
   "name": "python",
   "nbconvert_exporter": "python",
   "pygments_lexer": "ipython3",
   "version": "3.8.3"
  }
 },
 "nbformat": 4,
 "nbformat_minor": 4
}
