{
 "cells": [
  {
   "cell_type": "markdown",
   "metadata": {},
   "source": [
    "# Chapter 3"
   ]
  },
  {
   "cell_type": "markdown",
   "metadata": {},
   "source": [
    "## Function Arguments"
   ]
  },
  {
   "cell_type": "code",
   "execution_count": 4,
   "metadata": {},
   "outputs": [
    {
     "name": "stdout",
     "output_type": "stream",
     "text": [
      "([1.57, 4, 5, 0.89], ['car', 'hat', 'tree'])\n"
     ]
    }
   ],
   "source": [
    "# Define the function with an arbitrary number of arguments\n",
    "def sort_types(*args):\n",
    "    nums, strings = [], []    \n",
    "    for arg in args:\n",
    "        # Check if 'arg' is a number and add it to 'nums'\n",
    "        if isinstance(arg, (int, float)):\n",
    "            nums.append(arg)\n",
    "        # Check if 'arg' is a string and add it to 'strings'\n",
    "        elif isinstance(arg, str):\n",
    "            strings.append(arg)\n",
    "    \n",
    "    return (nums, strings)\n",
    "\n",
    "print(sort_types(1.57, 'car', 'hat', 4, 5, 'tree', 0.89))"
   ]
  },
  {
   "cell_type": "code",
   "execution_count": 6,
   "metadata": {},
   "outputs": [
    {
     "name": "stdout",
     "output_type": "stream",
     "text": [
      "{<class 'int'>: ['a', 'b'], <class 'tuple'>: ['c'], <class 'float'>: ['d', 'e']}\n"
     ]
    }
   ],
   "source": [
    "# Define the function with an arbitrary number of arguments\n",
    "def key_types(**kwargs):\n",
    "    dict_type = dict()\n",
    "    # Iterate over key value pairs\n",
    "    for key, value in kwargs.items():\n",
    "        # Update a list associated with a key\n",
    "        if type(value) in dict_type.keys():\n",
    "            dict_type[type(value)].append(key)\n",
    "        else:\n",
    "            dict_type[type(value)] = [key]\n",
    "            \n",
    "    return dict_type\n",
    "  \n",
    "res = key_types(a=1, b=2, c=(1, 2), d=3.1, e=4.2)\n",
    "print(res)"
   ]
  },
  {
   "cell_type": "code",
   "execution_count": 11,
   "metadata": {},
   "outputs": [
    {
     "name": "stdout",
     "output_type": "stream",
     "text": [
      "([1, 2.0, 5.1, 0.0, 5], ['dog', 'cat'])\n"
     ]
    }
   ],
   "source": [
    "# Define the arguments passed to the function\n",
    "def sort_all_types(*args, **kwargs):\n",
    "\n",
    "    # Find all the numbers and strings in the 1st argument\n",
    "    nums1, strings1 = sort_types(*args)\n",
    "    \n",
    "    # Find all the numbers and strings in the 2nd argument\n",
    "    nums2, strings2 = sort_types(*kwargs.values())\n",
    "    \n",
    "    return (nums1 + nums2, strings1 + strings2)\n",
    "  \n",
    "res = sort_all_types(\n",
    "\t1, 2.0, 'dog', 5.1, num1 = 0.0, num2 = 5, str1 = 'cat'\n",
    ")\n",
    "print(res)"
   ]
  },
  {
   "cell_type": "markdown",
   "metadata": {},
   "source": [
    "## Lambdas"
   ]
  },
  {
   "cell_type": "code",
   "execution_count": 12,
   "metadata": {},
   "outputs": [
    {
     "name": "stdout",
     "output_type": "stream",
     "text": [
      "4.0\n",
      "0\n"
     ]
    }
   ],
   "source": [
    "# Take x and return x squared if x > 0 and 0, otherwise\n",
    "squared_no_negatives = lambda x: x**2 if x > 0 else 0\n",
    "print(squared_no_negatives(2.0))\n",
    "print(squared_no_negatives(-1))"
   ]
  },
  {
   "cell_type": "code",
   "execution_count": null,
   "metadata": {},
   "outputs": [],
   "source": []
  }
 ],
 "metadata": {
  "kernelspec": {
   "display_name": "Python 3",
   "language": "python",
   "name": "python3"
  },
  "language_info": {
   "codemirror_mode": {
    "name": "ipython",
    "version": 3
   },
   "file_extension": ".py",
   "mimetype": "text/x-python",
   "name": "python",
   "nbconvert_exporter": "python",
   "pygments_lexer": "ipython3",
   "version": "3.8.3"
  }
 },
 "nbformat": 4,
 "nbformat_minor": 4
}
