{
 "cells": [
  {
   "cell_type": "markdown",
   "metadata": {},
   "source": [
    "# Chapter 4\n",
    "## Numpy Arrays"
   ]
  },
  {
   "cell_type": "code",
   "execution_count": 1,
   "metadata": {},
   "outputs": [],
   "source": [
    "import numpy as np\n",
    "\n",
    "square = np.array(\n",
    "    [[1,2,3,4,5],\n",
    "     [6,7,8,9,10],\n",
    "     [11,12,13,14,15],\n",
    "     [16,17,18,19,20],\n",
    "     [21,22,23,24,25]]\n",
    ")\n",
    "\n",
    "size=5"
   ]
  },
  {
   "cell_type": "code",
   "execution_count": 2,
   "metadata": {},
   "outputs": [
    {
     "name": "stdout",
     "output_type": "stream",
     "text": [
      "[1, 2, 3, 4, 5, 10, 15, 20, 25, 24, 23, 22, 21, 16, 11, 6, 7, 8, 9, 14, 19, 18, 17, 12, 13]\n"
     ]
    }
   ],
   "source": [
    "# This one is a bit hard to hold in the head - it's really easy to get the indexes wrong\n",
    "spiral = []\n",
    "\n",
    "for i in range(0, size):\n",
    "    # Convert each part marked by any red arrow to a list\n",
    "    spiral += list(square[i, i:size-i])\n",
    "    \n",
    "    # Convert each part marked by any green arrow to a list\n",
    "    spiral += list(square[i+1:size-i, size-i-1])\n",
    "    \n",
    "    # Convert each part marked by any blue arrow to a list\n",
    "    spiral += list(reversed(square[size-i-1, i:size-i-1]))\n",
    "    \n",
    "    # Convert each part marked by any magenta arrow to a list\n",
    "    spiral += list(reversed(square[i+1:size-i-1, i]))\n",
    "        \n",
    "print(spiral)"
   ]
  },
  {
   "cell_type": "code",
   "execution_count": 3,
   "metadata": {},
   "outputs": [
    {
     "name": "stdout",
     "output_type": "stream",
     "text": [
      "[[5, 10, 15], [20, 25, 30], [35, 40, 45]]\n",
      "[[ 5 10 15]\n",
      " [20 25 30]\n",
      " [35 40 45]]\n"
     ]
    }
   ],
   "source": [
    "input_list1 = [[1,2,3], [4,5,6], [7,8,9]]\n",
    "input_array1 = np.array(input_list1)\n",
    "\n",
    "# Substitute the code in the block 1 given the input_array1\n",
    "output_array1 = input_array1 * 5 \n",
    "print(list(map(lambda x: [5*i for i in x], input_list1)))\n",
    "print(output_array1)"
   ]
  },
  {
   "cell_type": "code",
   "execution_count": 4,
   "metadata": {},
   "outputs": [],
   "source": [
    "input_list2 = list(range(10))\n",
    "input_array2 = np.array(input_list2)"
   ]
  },
  {
   "cell_type": "code",
   "execution_count": 5,
   "metadata": {},
   "outputs": [
    {
     "name": "stdout",
     "output_type": "stream",
     "text": [
      "[0, 2, 4, 6, 8]\n",
      "[0 2 4 6 8]\n"
     ]
    }
   ],
   "source": [
    "# Substitute the code in the block 2 given the input_array2\n",
    "output_array2 = input_array2[input_array2 % 2 == 0]\n",
    "print(list(filter(lambda x: x % 2 == 0, input_list2)))\n",
    "print(output_array2)"
   ]
  },
  {
   "cell_type": "code",
   "execution_count": 6,
   "metadata": {},
   "outputs": [
    {
     "name": "stdout",
     "output_type": "stream",
     "text": [
      "[[1, 2], [3, 4], [5, 6]]\n"
     ]
    }
   ],
   "source": [
    "input_list3 = []\n",
    "row = []\n",
    "for i in range(1,7):\n",
    "    row.append(i)\n",
    "    if len(row) == 2:\n",
    "        input_list3.append(row)\n",
    "        row = []\n",
    "print(input_list3)\n",
    "\n",
    "input_array3 = np.array(input_list3)"
   ]
  },
  {
   "cell_type": "code",
   "execution_count": 7,
   "metadata": {},
   "outputs": [
    {
     "name": "stdout",
     "output_type": "stream",
     "text": [
      "[[1, 4], [9, 16], [25, 36]]\n",
      "[[ 1  4]\n",
      " [ 9 16]\n",
      " [25 36]]\n"
     ]
    }
   ],
   "source": [
    "# Substitute the code in the block 3 given the input_array3\n",
    "output_array3 = input_array3 ** 2\n",
    "print([[i*i for i in j] for j in input_list3])\n",
    "print(output_array3)"
   ]
  },
  {
   "cell_type": "markdown",
   "metadata": {},
   "source": [
    "## Dataframe"
   ]
  },
  {
   "cell_type": "code",
   "execution_count": 8,
   "metadata": {},
   "outputs": [],
   "source": [
    "from functools import reduce\n",
    "import pandas as pd\n",
    "\n",
    "from urllib.request import urlretrieve\n",
    "url = 'https://assets.datacamp.com/production/repositories/4298/datasets/d77902052165a763cc4bc84e2457e1f41e80d233/exams.csv'\n",
    "file = 'exams.csv'\n",
    "urlretrieve(url, file)\n",
    "\n",
    "scores = pd.read_csv(file)"
   ]
  },
  {
   "cell_type": "code",
   "execution_count": 9,
   "metadata": {},
   "outputs": [
    {
     "name": "stdout",
     "output_type": "stream",
     "text": [
      "<class 'pandas.core.frame.DataFrame'>\n",
      "RangeIndex: 100 entries, 0 to 99\n",
      "Data columns (total 8 columns):\n",
      " #   Column                       Non-Null Count  Dtype \n",
      "---  ------                       --------------  ----- \n",
      " 0   gender                       100 non-null    object\n",
      " 1   race/ethnicity               100 non-null    object\n",
      " 2   parental level of education  100 non-null    object\n",
      " 3   lunch                        100 non-null    object\n",
      " 4   test preparation course      100 non-null    object\n",
      " 5   math score                   100 non-null    int64 \n",
      " 6   reading score                100 non-null    int64 \n",
      " 7   writing score                100 non-null    int64 \n",
      "dtypes: int64(3), object(5)\n",
      "memory usage: 6.4+ KB\n"
     ]
    }
   ],
   "source": [
    "scores.info()"
   ]
  },
  {
   "cell_type": "code",
   "execution_count": 10,
   "metadata": {},
   "outputs": [],
   "source": [
    "groups_to_consider = ['gender',\n",
    "                      'race/ethnicity',\n",
    "                      'parental level of education',\n",
    "                      'lunch',\n",
    "                      'test preparation course']"
   ]
  },
  {
   "cell_type": "code",
   "execution_count": 11,
   "metadata": {},
   "outputs": [
    {
     "name": "stdout",
     "output_type": "stream",
     "text": [
      "gender                               female\n",
      "race/ethnicity                      group C\n",
      "parental level of education    some college\n",
      "lunch                              standard\n",
      "test preparation course                none\n",
      "dtype: object\n"
     ]
    }
   ],
   "source": [
    "def prevalence(series):\n",
    "    vals = list(series)\n",
    "    # Create a tuple list with unique items and their counts\n",
    "    itms = [(x, series.value_counts()[x]) for x in set(series)]\n",
    "    \n",
    "    # Extract a tuple with the highest counts using reduce()\n",
    "    res = reduce(lambda x, y: x if x[1] > y[1] else y, itms)\n",
    "    \n",
    "    # Return the item with the highest counts\n",
    "    return res[0]\n",
    "    \n",
    "result = scores[groups_to_consider].apply(prevalence)\n",
    "print(result)"
   ]
  },
  {
   "cell_type": "code",
   "execution_count": 12,
   "metadata": {},
   "outputs": [],
   "source": [
    "def rank(series):\n",
    "    # Calculate the mean of the input series\n",
    "    mean = series.mean()\n",
    "    # Return the mean and its rank as a list\n",
    "    if mean <= 60:\n",
    "        return [mean, 'low']\n",
    "    if mean > 90:\n",
    "        return [mean, 'high']\n",
    "    return [mean, 'medium']"
   ]
  },
  {
   "cell_type": "code",
   "execution_count": 13,
   "metadata": {},
   "outputs": [
    {
     "name": "stdout",
     "output_type": "stream",
     "text": [
      "        mean    rank\n",
      "0  80.666667  medium\n",
      "1  48.666667     low\n",
      "2  47.666667     low\n",
      "3  91.666667    high\n",
      "4  82.333333  medium\n"
     ]
    }
   ],
   "source": [
    "# Insert the output of rank() into new columns of scores\n",
    "cols = ['math score', 'reading score', 'writing score']\n",
    "scores[['mean', 'rank']] = scores[cols].apply(rank, axis=1, result_type='expand')\n",
    "print(scores[['mean', 'rank']].head())"
   ]
  },
  {
   "cell_type": "code",
   "execution_count": 14,
   "metadata": {},
   "outputs": [
    {
     "name": "stdout",
     "output_type": "stream",
     "text": [
      "   math score  reading score  writing score\n",
      "0        7.66           8.74           8.38\n",
      "1        4.96           5.41           5.77\n",
      "2        5.86           5.14           4.87\n",
      "3        8.92           9.55           9.28\n",
      "4        8.65           8.29           8.29\n"
     ]
    }
   ],
   "source": [
    "def rescale(series, low, high):\n",
    "    # Define the expression to rescale input series\n",
    "    return (series/100 * (high-low)) + low\n",
    "\n",
    "cols = ['math score', 'reading score', 'writing score']\n",
    "scores[cols] = scores[cols].apply(rescale, args=[1,10], axis=1, result_type='expand')\n",
    "print(scores[cols].head())"
   ]
  },
  {
   "cell_type": "code",
   "execution_count": 15,
   "metadata": {},
   "outputs": [
    {
     "name": "stdout",
     "output_type": "stream",
     "text": [
      "   math score  reading score  writing score\n",
      "0      1.6894         1.7866         1.7542\n",
      "1      1.4464         1.4869         1.5193\n",
      "2      1.5274         1.4626         1.4383\n",
      "3      1.8028         1.8595         1.8352\n",
      "4      1.7785         1.7461         1.7461\n"
     ]
    }
   ],
   "source": [
    "def rescale(series, low=0, high=100):\n",
    "    # Define the expression to rescale input series\n",
    "    return (series/100 * (high-low)) + low\n",
    "\n",
    "cols = ['math score', 'reading score', 'writing score']\n",
    "scores[cols] = scores[cols].apply(rescale, args=[1,10], axis=1, result_type='expand')\n",
    "print(scores[cols].head())"
   ]
  },
  {
   "cell_type": "markdown",
   "metadata": {},
   "source": [
    "### Groupby"
   ]
  },
  {
   "cell_type": "code",
   "execution_count": 16,
   "metadata": {
    "scrolled": false
   },
   "outputs": [
    {
     "data": {
      "text/plain": [
       "('diabetes.csv', <http.client.HTTPMessage at 0x7f7a4e1b9850>)"
      ]
     },
     "execution_count": 16,
     "metadata": {},
     "output_type": "execute_result"
    }
   ],
   "source": [
    "url = 'https://assets.datacamp.com/production/repositories/4298/datasets/203ff6d8dd61bede3cbac6fffdd77a222177f478/diabetes.csv'\n",
    "file = 'diabetes.csv'\n",
    "urlretrieve(url, file)"
   ]
  },
  {
   "cell_type": "code",
   "execution_count": 17,
   "metadata": {},
   "outputs": [
    {
     "name": "stdout",
     "output_type": "stream",
     "text": [
      "<class 'pandas.core.frame.DataFrame'>\n",
      "RangeIndex: 768 entries, 0 to 767\n",
      "Data columns (total 9 columns):\n",
      " #   Column             Non-Null Count  Dtype  \n",
      "---  ------             --------------  -----  \n",
      " 0   n pregnant         768 non-null    int64  \n",
      " 1   plasma glucose     763 non-null    float64\n",
      " 2   blood pressure     733 non-null    float64\n",
      " 3   skin thickness     541 non-null    float64\n",
      " 4   serum insulin      394 non-null    float64\n",
      " 5   bmi                757 non-null    float64\n",
      " 6   pedigree function  768 non-null    float64\n",
      " 7   age                768 non-null    int64  \n",
      " 8   test result        768 non-null    object \n",
      "dtypes: float64(6), int64(2), object(1)\n",
      "memory usage: 54.1+ KB\n",
      "None\n",
      "121.6867627785059\n",
      "test result\n",
      "negative    110.643863\n",
      "positive    142.319549\n",
      "Name: plasma glucose, dtype: float64\n"
     ]
    }
   ],
   "source": [
    "# Load the data from the diabetes.csv file\n",
    "diabetes = pd.read_csv(file)\n",
    "print(diabetes.info())\n",
    "\n",
    "# Calculate the mean glucose level in the entire dataset\n",
    "print(diabetes['plasma glucose'].mean())\n",
    "\n",
    "# Group the data according to the diabetes test results\n",
    "diabetes_grouped = diabetes.groupby('test result')\n",
    "\n",
    "# Calculate the mean glucose levels per group\n",
    "print(diabetes_grouped.agg('mean')['plasma glucose'])"
   ]
  },
  {
   "cell_type": "code",
   "execution_count": 25,
   "metadata": {},
   "outputs": [
    {
     "data": {
      "text/html": [
       "<div>\n",
       "<style scoped>\n",
       "    .dataframe tbody tr th:only-of-type {\n",
       "        vertical-align: middle;\n",
       "    }\n",
       "\n",
       "    .dataframe tbody tr th {\n",
       "        vertical-align: top;\n",
       "    }\n",
       "\n",
       "    .dataframe thead th {\n",
       "        text-align: right;\n",
       "    }\n",
       "</style>\n",
       "<table border=\"1\" class=\"dataframe\">\n",
       "  <thead>\n",
       "    <tr style=\"text-align: right;\">\n",
       "      <th></th>\n",
       "      <th>Height</th>\n",
       "      <th>Weight</th>\n",
       "    </tr>\n",
       "  </thead>\n",
       "  <tbody>\n",
       "    <tr>\n",
       "      <th>count</th>\n",
       "      <td>734.000000</td>\n",
       "      <td>732.000000</td>\n",
       "    </tr>\n",
       "    <tr>\n",
       "      <th>mean</th>\n",
       "      <td>102.254087</td>\n",
       "      <td>43.855191</td>\n",
       "    </tr>\n",
       "    <tr>\n",
       "      <th>std</th>\n",
       "      <td>139.624543</td>\n",
       "      <td>130.823733</td>\n",
       "    </tr>\n",
       "    <tr>\n",
       "      <th>min</th>\n",
       "      <td>-99.000000</td>\n",
       "      <td>-99.000000</td>\n",
       "    </tr>\n",
       "    <tr>\n",
       "      <th>25%</th>\n",
       "      <td>-99.000000</td>\n",
       "      <td>-99.000000</td>\n",
       "    </tr>\n",
       "    <tr>\n",
       "      <th>50%</th>\n",
       "      <td>175.000000</td>\n",
       "      <td>62.000000</td>\n",
       "    </tr>\n",
       "    <tr>\n",
       "      <th>75%</th>\n",
       "      <td>185.000000</td>\n",
       "      <td>90.000000</td>\n",
       "    </tr>\n",
       "    <tr>\n",
       "      <th>max</th>\n",
       "      <td>975.000000</td>\n",
       "      <td>900.000000</td>\n",
       "    </tr>\n",
       "  </tbody>\n",
       "</table>\n",
       "</div>"
      ],
      "text/plain": [
       "           Height      Weight\n",
       "count  734.000000  732.000000\n",
       "mean   102.254087   43.855191\n",
       "std    139.624543  130.823733\n",
       "min    -99.000000  -99.000000\n",
       "25%    -99.000000  -99.000000\n",
       "50%    175.000000   62.000000\n",
       "75%    185.000000   90.000000\n",
       "max    975.000000  900.000000"
      ]
     },
     "execution_count": 25,
     "metadata": {},
     "output_type": "execute_result"
    }
   ],
   "source": [
    "url = 'https://assets.datacamp.com/production/repositories/4298/datasets/58a461693fbca1f972a11024c3873004b102160c/heroes_information.csv'\n",
    "file = 'heroes.csv'\n",
    "urlretrieve(url, file)\n",
    "heroes = pd.read_csv(file, index_col=0)\n",
    "heroes.describe()"
   ]
  },
  {
   "cell_type": "code",
   "execution_count": 26,
   "metadata": {},
   "outputs": [
    {
     "data": {
      "text/html": [
       "<div>\n",
       "<style scoped>\n",
       "    .dataframe tbody tr th:only-of-type {\n",
       "        vertical-align: middle;\n",
       "    }\n",
       "\n",
       "    .dataframe tbody tr th {\n",
       "        vertical-align: top;\n",
       "    }\n",
       "\n",
       "    .dataframe thead th {\n",
       "        text-align: right;\n",
       "    }\n",
       "</style>\n",
       "<table border=\"1\" class=\"dataframe\">\n",
       "  <thead>\n",
       "    <tr style=\"text-align: right;\">\n",
       "      <th></th>\n",
       "      <th>Height</th>\n",
       "      <th>Weight</th>\n",
       "      <th>bmi</th>\n",
       "    </tr>\n",
       "  </thead>\n",
       "  <tbody>\n",
       "    <tr>\n",
       "      <th>count</th>\n",
       "      <td>517.000000</td>\n",
       "      <td>495.000000</td>\n",
       "      <td>490.000000</td>\n",
       "    </tr>\n",
       "    <tr>\n",
       "      <th>mean</th>\n",
       "      <td>186.726306</td>\n",
       "      <td>112.252525</td>\n",
       "      <td>38.549328</td>\n",
       "    </tr>\n",
       "    <tr>\n",
       "      <th>std</th>\n",
       "      <td>59.251895</td>\n",
       "      <td>104.151142</td>\n",
       "      <td>133.972903</td>\n",
       "    </tr>\n",
       "    <tr>\n",
       "      <th>min</th>\n",
       "      <td>15.200000</td>\n",
       "      <td>2.000000</td>\n",
       "      <td>0.081400</td>\n",
       "    </tr>\n",
       "    <tr>\n",
       "      <th>25%</th>\n",
       "      <td>173.000000</td>\n",
       "      <td>61.000000</td>\n",
       "      <td>20.571429</td>\n",
       "    </tr>\n",
       "    <tr>\n",
       "      <th>50%</th>\n",
       "      <td>183.000000</td>\n",
       "      <td>81.000000</td>\n",
       "      <td>24.933720</td>\n",
       "    </tr>\n",
       "    <tr>\n",
       "      <th>75%</th>\n",
       "      <td>191.000000</td>\n",
       "      <td>108.000000</td>\n",
       "      <td>30.292078</td>\n",
       "    </tr>\n",
       "    <tr>\n",
       "      <th>max</th>\n",
       "      <td>975.000000</td>\n",
       "      <td>900.000000</td>\n",
       "      <td>2510.387812</td>\n",
       "    </tr>\n",
       "  </tbody>\n",
       "</table>\n",
       "</div>"
      ],
      "text/plain": [
       "           Height      Weight          bmi\n",
       "count  517.000000  495.000000   490.000000\n",
       "mean   186.726306  112.252525    38.549328\n",
       "std     59.251895  104.151142   133.972903\n",
       "min     15.200000    2.000000     0.081400\n",
       "25%    173.000000   61.000000    20.571429\n",
       "50%    183.000000   81.000000    24.933720\n",
       "75%    191.000000  108.000000    30.292078\n",
       "max    975.000000  900.000000  2510.387812"
      ]
     },
     "execution_count": 26,
     "metadata": {},
     "output_type": "execute_result"
    }
   ],
   "source": [
    "for col in ['Weight', 'Height']:\n",
    "    idx = heroes[col] < 0\n",
    "    heroes.loc[idx, col] = np.nan\n",
    "\n",
    "heroes['bmi'] = heroes['Weight'] / (heroes['Height']/100)**2\n",
    "\n",
    "heroes.describe()"
   ]
  },
  {
   "cell_type": "code",
   "execution_count": 54,
   "metadata": {},
   "outputs": [
    {
     "name": "stdout",
     "output_type": "stream",
     "text": [
      "                              mean         std\n",
      "Alignment Publisher                           \n",
      "bad       DC Comics      71.460251  250.642060\n",
      "          Marvel Comics  62.512261  258.935100\n",
      "good      DC Comics      25.028215    6.879312\n",
      "          Marvel Comics  28.968076   16.550686\n"
     ]
    }
   ],
   "source": [
    "import numpy as np\n",
    "\n",
    "# Group the data by two factors specified in the context\n",
    "groups = heroes.groupby(['Alignment', 'Publisher'])\n",
    "\n",
    "# Filter groups having more than 10 valid bmi observations\n",
    "fheroes = groups.filter(lambda df: df['bmi'].count() > 10)\n",
    "\n",
    "# Group the filtered data again by the same factors\n",
    "fgroups = fheroes.groupby(['Alignment', 'Publisher'])\n",
    "\n",
    "# Calculate the mean and standard deviation of the BMI index\n",
    "result = fgroups['bmi'].agg(['mean', 'std'])\n",
    "print(result)"
   ]
  },
  {
   "cell_type": "code",
   "execution_count": 72,
   "metadata": {},
   "outputs": [],
   "source": [
    "imp_globmean = fheroes.copy()\n",
    "imp_grpmean = fheroes.copy()"
   ]
  },
  {
   "cell_type": "code",
   "execution_count": 73,
   "metadata": {},
   "outputs": [
    {
     "name": "stdout",
     "output_type": "stream",
     "text": [
      "Global mean = 38.98033229674414\n",
      "\n",
      "Publisher      Alignment\n",
      "DC Comics      bad          71.460251\n",
      "               good         25.028215\n",
      "Marvel Comics  bad          62.512261\n",
      "               good         28.968076\n",
      "Name: bmi, dtype: float64\n"
     ]
    }
   ],
   "source": [
    "# Define a lambda function that imputes NaN values in series\n",
    "impute = lambda series: series.fillna(series.mean())\n",
    "\n",
    "# Impute NaNs in the bmi column of imp_globmean\n",
    "imp_globmean['bmi'] = imp_globmean['bmi'].transform(impute)\n",
    "print(\"Global mean = \" + str(fheroes['bmi'].mean()) + \"\\n\")\n",
    "\n",
    "groups = imp_grpmean.groupby(['Publisher', 'Alignment'])\n",
    "\n",
    "# Impute NaNs in the bmi column of imp_grpmean\n",
    "imp_grpmean['bmi'] = groups['bmi'].transform(impute)\n",
    "print(groups['bmi'].mean())"
   ]
  },
  {
   "cell_type": "markdown",
   "metadata": {},
   "source": [
    "## Visualise Data"
   ]
  },
  {
   "cell_type": "code",
   "execution_count": 75,
   "metadata": {},
   "outputs": [],
   "source": [
    "import matplotlib.pyplot as plt\n",
    "import seaborn as sns"
   ]
  },
  {
   "cell_type": "code",
   "execution_count": 84,
   "metadata": {},
   "outputs": [
    {
     "name": "stdout",
     "output_type": "stream",
     "text": [
      "<class 'pandas.core.frame.DataFrame'>\n",
      "RangeIndex: 315 entries, 0 to 314\n",
      "Data columns (total 14 columns):\n",
      " #   Column             Non-Null Count  Dtype  \n",
      "---  ------             --------------  -----  \n",
      " 0   age                315 non-null    int64  \n",
      " 1   gender             315 non-null    object \n",
      " 2   smoking            315 non-null    object \n",
      " 3   bmi                315 non-null    float64\n",
      " 4   vitamin use        315 non-null    object \n",
      " 5   calories           315 non-null    float64\n",
      " 6   fat                315 non-null    float64\n",
      " 7   fiber              315 non-null    float64\n",
      " 8   alcohol            315 non-null    float64\n",
      " 9   cholesterol        315 non-null    float64\n",
      " 10  diet B-carotene    315 non-null    int64  \n",
      " 11  diet retinol       315 non-null    int64  \n",
      " 12  plasma B-carotene  315 non-null    int64  \n",
      " 13  plasma retinol     315 non-null    int64  \n",
      "dtypes: float64(6), int64(5), object(3)\n",
      "memory usage: 34.6+ KB\n"
     ]
    }
   ],
   "source": [
    "url = 'https://assets.datacamp.com/production/repositories/4298/datasets/d5ac8c46a84933e937927fba352f27d0b6b6291a/retinol.csv'\n",
    "file = 'retinol.csv'\n",
    "urlretrieve(url, file)\n",
    "retinol = pd.read_csv(file)\n",
    "retinol.info()"
   ]
  },
  {
   "cell_type": "code",
   "execution_count": 85,
   "metadata": {},
   "outputs": [
    {
     "data": {
      "text/plain": [
       "age                  0.211672\n",
       "bmi                  0.013139\n",
       "calories            -0.073329\n",
       "fat                 -0.090938\n",
       "fiber               -0.044431\n",
       "alcohol              0.017136\n",
       "cholesterol         -0.070201\n",
       "diet B-carotene     -0.013539\n",
       "diet retinol        -0.062802\n",
       "plasma B-carotene    0.071577\n",
       "plasma retinol       1.000000\n",
       "Name: plasma retinol, dtype: float64"
      ]
     },
     "execution_count": 85,
     "metadata": {},
     "output_type": "execute_result"
    }
   ],
   "source": [
    "retinol.corr()['plasma retinol']"
   ]
  },
  {
   "cell_type": "code",
   "execution_count": 86,
   "metadata": {},
   "outputs": [
    {
     "data": {
      "image/png": "[encoded data removed]",
      "text/plain": [
       "<Figure size 432x288 with 1 Axes>"
      ]
     },
     "metadata": {
      "needs_background": "light"
     },
     "output_type": "display_data"
    }
   ],
   "source": [
    "plt.hist(retinol['plasma retinol'])\n",
    "plt.show()"
   ]
  },
  {
   "cell_type": "code",
   "execution_count": 87,
   "metadata": {},
   "outputs": [
    {
     "data": {
      "image/png": "[encoded data removed]",
      "text/plain": [
       "<Figure size 432x288 with 1 Axes>"
      ]
     },
     "metadata": {
      "needs_background": "light"
     },
     "output_type": "display_data"
    }
   ],
   "source": [
    "plt.hist(retinol['plasma retinol'], bins=20)\n",
    "plt.show()"
   ]
  },
  {
   "cell_type": "code",
   "execution_count": 88,
   "metadata": {},
   "outputs": [
    {
     "data": {
      "image/png": "[encoded data removed]",
      "text/plain": [
       "<Figure size 432x288 with 1 Axes>"
      ]
     },
     "metadata": {
      "needs_background": "light"
     },
     "output_type": "display_data"
    }
   ],
   "source": [
    "plt.hist(retinol['plasma retinol'], bins=20)\n",
    "\n",
    "# Add a title to the plot\n",
    "plt.title('Plasma')\n",
    "plt.show()"
   ]
  },
  {
   "cell_type": "code",
   "execution_count": 90,
   "metadata": {},
   "outputs": [
    {
     "data": {
      "image/png": "[encoded data removed]",
      "text/plain": [
       "<Figure size 432x288 with 1 Axes>"
      ]
     },
     "metadata": {
      "needs_background": "light"
     },
     "output_type": "display_data"
    }
   ],
   "source": [
    "plt.hist(retinol['plasma retinol'], bins=20)\n",
    "plt.title('Histogram of Plasma Retinol')\n",
    "\n",
    "# Add other missing parts to the plot\n",
    "plt.ylabel('Frequency')\n",
    "plt.xlabel('Plasma retinol')\n",
    "plt.show()"
   ]
  },
  {
   "cell_type": "code",
   "execution_count": 91,
   "metadata": {},
   "outputs": [
    {
     "data": {
      "image/png": "[encoded data removed]",
      "text/plain": [
       "<Figure size 432x288 with 1 Axes>"
      ]
     },
     "metadata": {
      "needs_background": "light"
     },
     "output_type": "display_data"
    }
   ],
   "source": [
    "import seaborn as sns\n",
    "\n",
    "sns.boxplot(data=heroes, x='Alignment', y='bmi')\n",
    "plt.show()"
   ]
  },
  {
   "cell_type": "code",
   "execution_count": 92,
   "metadata": {},
   "outputs": [
    {
     "data": {
      "image/png": "[encoded data removed]",
      "text/plain": [
       "<Figure size 432x288 with 1 Axes>"
      ]
     },
     "metadata": {
      "needs_background": "light"
     },
     "output_type": "display_data"
    }
   ],
   "source": [
    "import seaborn as sns\n",
    "\n",
    "# Select rows from heroes for which the BMI index < 1000\n",
    "heroes_filtered = heroes['bmi'] < 1000\n",
    "\n",
    "# Create a new boxplot of BMI indices\n",
    "sns.boxplot(data=heroes[heroes_filtered], x='Alignment', y='bmi')\n",
    "plt.show()"
   ]
  },
  {
   "cell_type": "code",
   "execution_count": null,
   "metadata": {},
   "outputs": [],
   "source": []
  }
 ],
 "metadata": {
  "kernelspec": {
   "display_name": "Python 3",
   "language": "python",
   "name": "python3"
  },
  "language_info": {
   "codemirror_mode": {
    "name": "ipython",
    "version": 3
   },
   "file_extension": ".py",
   "mimetype": "text/x-python",
   "name": "python",
   "nbconvert_exporter": "python",
   "pygments_lexer": "ipython3",
   "version": "3.8.3"
  }
 },
 "nbformat": 4,
 "nbformat_minor": 4
}
