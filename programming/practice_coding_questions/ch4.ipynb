{
 "cells": [
  {
   "cell_type": "markdown",
   "metadata": {},
   "source": [
    "# Chapter 4\n",
    "## Numpy Arrays"
   ]
  },
  {
   "cell_type": "code",
   "execution_count": 1,
   "metadata": {},
   "outputs": [],
   "source": [
    "import numpy as np\n",
    "\n",
    "square = np.array(\n",
    "    [[1,2,3,4,5],\n",
    "     [6,7,8,9,10],\n",
    "     [11,12,13,14,15],\n",
    "     [16,17,18,19,20],\n",
    "     [21,22,23,24,25]]\n",
    ")\n",
    "\n",
    "size=5"
   ]
  },
  {
   "cell_type": "code",
   "execution_count": 2,
   "metadata": {},
   "outputs": [
    {
     "name": "stdout",
     "output_type": "stream",
     "text": [
      "[1, 2, 3, 4, 5, 10, 15, 20, 25, 24, 23, 22, 21, 16, 11, 6, 7, 8, 9, 14, 19, 18, 17, 12, 13]\n"
     ]
    }
   ],
   "source": [
    "# This one is a bit hard to hold in the head - it's really easy to get the indexes wrong\n",
    "spiral = []\n",
    "\n",
    "for i in range(0, size):\n",
    "    # Convert each part marked by any red arrow to a list\n",
    "    spiral += list(square[i, i:size-i])\n",
    "    \n",
    "    # Convert each part marked by any green arrow to a list\n",
    "    spiral += list(square[i+1:size-i, size-i-1])\n",
    "    \n",
    "    # Convert each part marked by any blue arrow to a list\n",
    "    spiral += list(reversed(square[size-i-1, i:size-i-1]))\n",
    "    \n",
    "    # Convert each part marked by any magenta arrow to a list\n",
    "    spiral += list(reversed(square[i+1:size-i-1, i]))\n",
    "        \n",
    "print(spiral)"
   ]
  },
  {
   "cell_type": "code",
   "execution_count": 3,
   "metadata": {},
   "outputs": [
    {
     "name": "stdout",
     "output_type": "stream",
     "text": [
      "[[5, 10, 15], [20, 25, 30], [35, 40, 45]]\n",
      "[[ 5 10 15]\n",
      " [20 25 30]\n",
      " [35 40 45]]\n"
     ]
    }
   ],
   "source": [
    "input_list1 = [[1,2,3], [4,5,6], [7,8,9]]\n",
    "input_array1 = np.array(input_list1)\n",
    "\n",
    "# Substitute the code in the block 1 given the input_array1\n",
    "output_array1 = input_array1 * 5 \n",
    "print(list(map(lambda x: [5*i for i in x], input_list1)))\n",
    "print(output_array1)"
   ]
  },
  {
   "cell_type": "code",
   "execution_count": 4,
   "metadata": {},
   "outputs": [],
   "source": [
    "input_list2 = list(range(10))\n",
    "input_array2 = np.array(input_list2)"
   ]
  },
  {
   "cell_type": "code",
   "execution_count": 5,
   "metadata": {},
   "outputs": [
    {
     "name": "stdout",
     "output_type": "stream",
     "text": [
      "[0, 2, 4, 6, 8]\n",
      "[0 2 4 6 8]\n"
     ]
    }
   ],
   "source": [
    "# Substitute the code in the block 2 given the input_array2\n",
    "output_array2 = input_array2[input_array2 % 2 == 0]\n",
    "print(list(filter(lambda x: x % 2 == 0, input_list2)))\n",
    "print(output_array2)"
   ]
  },
  {
   "cell_type": "code",
   "execution_count": 6,
   "metadata": {},
   "outputs": [
    {
     "name": "stdout",
     "output_type": "stream",
     "text": [
      "[[1, 2], [3, 4], [5, 6]]\n"
     ]
    }
   ],
   "source": [
    "input_list3 = []\n",
    "row = []\n",
    "for i in range(1,7):\n",
    "    row.append(i)\n",
    "    if len(row) == 2:\n",
    "        input_list3.append(row)\n",
    "        row = []\n",
    "print(input_list3)\n",
    "\n",
    "input_array3 = np.array(input_list3)"
   ]
  },
  {
   "cell_type": "code",
   "execution_count": 7,
   "metadata": {},
   "outputs": [
    {
     "name": "stdout",
     "output_type": "stream",
     "text": [
      "[[1, 4], [9, 16], [25, 36]]\n",
      "[[ 1  4]\n",
      " [ 9 16]\n",
      " [25 36]]\n"
     ]
    }
   ],
   "source": [
    "# Substitute the code in the block 3 given the input_array3\n",
    "output_array3 = input_array3 ** 2\n",
    "print([[i*i for i in j] for j in input_list3])\n",
    "print(output_array3)"
   ]
  },
  {
   "cell_type": "markdown",
   "metadata": {},
   "source": [
    "## Dataframe"
   ]
  },
  {
   "cell_type": "code",
   "execution_count": 8,
   "metadata": {},
   "outputs": [],
   "source": [
    "from functools import reduce\n",
    "import pandas as pd\n",
    "\n",
    "from urllib.request import urlretrieve\n",
    "url = 'https://assets.datacamp.com/production/repositories/4298/datasets/d77902052165a763cc4bc84e2457e1f41e80d233/exams.csv'\n",
    "file = 'exams.csv'\n",
    "urlretrieve(url, file)\n",
    "\n",
    "scores = pd.read_csv(file)"
   ]
  },
  {
   "cell_type": "code",
   "execution_count": 14,
   "metadata": {},
   "outputs": [
    {
     "name": "stdout",
     "output_type": "stream",
     "text": [
      "<class 'pandas.core.frame.DataFrame'>\n",
      "RangeIndex: 100 entries, 0 to 99\n",
      "Data columns (total 8 columns):\n",
      "gender                         100 non-null object\n",
      "race/ethnicity                 100 non-null object\n",
      "parental level of education    100 non-null object\n",
      "lunch                          100 non-null object\n",
      "test preparation course        100 non-null object\n",
      "math score                     100 non-null int64\n",
      "reading score                  100 non-null int64\n",
      "writing score                  100 non-null int64\n",
      "dtypes: int64(3), object(5)\n",
      "memory usage: 6.3+ KB\n"
     ]
    }
   ],
   "source": [
    "scores.info()"
   ]
  },
  {
   "cell_type": "code",
   "execution_count": 15,
   "metadata": {},
   "outputs": [],
   "source": [
    "groups_to_consider = ['gender',\n",
    "                      'race/ethnicity',\n",
    "                      'parental level of education',\n",
    "                      'lunch',\n",
    "                      'test preparation course']"
   ]
  },
  {
   "cell_type": "code",
   "execution_count": 28,
   "metadata": {},
   "outputs": [
    {
     "name": "stdout",
     "output_type": "stream",
     "text": [
      "gender                               female\n",
      "race/ethnicity                      group C\n",
      "parental level of education    some college\n",
      "lunch                              standard\n",
      "test preparation course                none\n",
      "dtype: object\n"
     ]
    }
   ],
   "source": [
    "def prevalence(series):\n",
    "    vals = list(series)\n",
    "    # Create a tuple list with unique items and their counts\n",
    "    itms = [(x, series.value_counts()[x]) for x in set(series)]\n",
    "    \n",
    "    # Extract a tuple with the highest counts using reduce()\n",
    "    res = reduce(lambda x, y: x if x[1] > y[1] else y, itms)\n",
    "    \n",
    "    # Return the item with the highest counts\n",
    "    return res[0]\n",
    "    \n",
    "result = scores[groups_to_consider].apply(prevalence)\n",
    "print(result)"
   ]
  },
  {
   "cell_type": "code",
   "execution_count": 29,
   "metadata": {},
   "outputs": [],
   "source": [
    "def rank(series):\n",
    "    # Calculate the mean of the input series\n",
    "    mean = series.mean()\n",
    "    # Return the mean and its rank as a list\n",
    "    if mean <= 60:\n",
    "        return [mean, 'low']\n",
    "    if mean > 90:\n",
    "        return [mean, 'high']\n",
    "    return [mean, 'medium']"
   ]
  },
  {
   "cell_type": "code",
   "execution_count": 38,
   "metadata": {},
   "outputs": [
    {
     "name": "stdout",
     "output_type": "stream",
     "text": [
      "        mean    rank\n",
      "0  80.666667  medium\n",
      "1  48.666667     low\n",
      "2  47.666667     low\n",
      "3  91.666667    high\n",
      "4  82.333333  medium\n"
     ]
    }
   ],
   "source": [
    "# Insert the output of rank() into new columns of scores\n",
    "cols = ['math score', 'reading score', 'writing score']\n",
    "scores[['mean', 'rank']] = scores[cols].apply(rank, axis=1, result_type='expand')\n",
    "print(scores[['mean', 'rank']].head())"
   ]
  },
  {
   "cell_type": "code",
   "execution_count": 40,
   "metadata": {},
   "outputs": [
    {
     "name": "stdout",
     "output_type": "stream",
     "text": [
      "   math score  reading score  writing score\n",
      "0        7.66           8.74           8.38\n",
      "1        4.96           5.41           5.77\n",
      "2        5.86           5.14           4.87\n",
      "3        8.92           9.55           9.28\n",
      "4        8.65           8.29           8.29\n"
     ]
    }
   ],
   "source": [
    "def rescale(series, low, high):\n",
    "    # Define the expression to rescale input series\n",
    "    return (series/100 * (high-low)) + low\n",
    "\n",
    "cols = ['math score', 'reading score', 'writing score']\n",
    "scores[cols] = scores[cols].apply(rescale, args=[1,10], axis=1, result_type='expand')\n",
    "print(scores[cols].head())"
   ]
  },
  {
   "cell_type": "code",
   "execution_count": 41,
   "metadata": {},
   "outputs": [
    {
     "name": "stdout",
     "output_type": "stream",
     "text": [
      "   math score  reading score  writing score\n",
      "0      1.6894         1.7866         1.7542\n",
      "1      1.4464         1.4869         1.5193\n",
      "2      1.5274         1.4626         1.4383\n",
      "3      1.8028         1.8595         1.8352\n",
      "4      1.7785         1.7461         1.7461\n"
     ]
    }
   ],
   "source": [
    "def rescale(series, low=0, high=100):\n",
    "    # Define the expression to rescale input series\n",
    "    return (series/100 * (high-low)) + low\n",
    "\n",
    "cols = ['math score', 'reading score', 'writing score']\n",
    "scores[cols] = scores[cols].apply(rescale, args=[1,10], axis=1, result_type='expand')\n",
    "print(scores[cols].head())"
   ]
  },
  {
   "cell_type": "markdown",
   "metadata": {},
   "source": [
    "### Groupby"
   ]
  },
  {
   "cell_type": "code",
   "execution_count": 44,
   "metadata": {
    "scrolled": false
   },
   "outputs": [],
   "source": [
    "url = 'https://assets.datacamp.com/production/repositories/4298/datasets/203ff6d8dd61bede3cbac6fffdd77a222177f478/diabetes.csv'\n",
    "file = 'diabetes.csv'\n",
    "urlretrieve(url, file)"
   ]
  },
  {
   "cell_type": "code",
   "execution_count": 48,
   "metadata": {},
   "outputs": [
    {
     "name": "stdout",
     "output_type": "stream",
     "text": [
      "<class 'pandas.core.frame.DataFrame'>\n",
      "RangeIndex: 768 entries, 0 to 767\n",
      "Data columns (total 9 columns):\n",
      "n pregnant           768 non-null int64\n",
      "plasma glucose       763 non-null float64\n",
      "blood pressure       733 non-null float64\n",
      "skin thickness       541 non-null float64\n",
      "serum insulin        394 non-null float64\n",
      "bmi                  757 non-null float64\n",
      "pedigree function    768 non-null float64\n",
      "age                  768 non-null int64\n",
      "test result          768 non-null object\n",
      "dtypes: float64(6), int64(2), object(1)\n",
      "memory usage: 54.1+ KB\n",
      "None\n",
      "121.6867627785059\n",
      "test result\n",
      "negative    110.643863\n",
      "positive    142.319549\n",
      "Name: plasma glucose, dtype: float64\n"
     ]
    }
   ],
   "source": [
    "# Load the data from the diabetes.csv file\n",
    "diabetes = pd.read_csv(file)\n",
    "print(diabetes.info())\n",
    "\n",
    "# Calculate the mean glucose level in the entire dataset\n",
    "print(diabetes['plasma glucose'].mean())\n",
    "\n",
    "# Group the data according to the diabetes test results\n",
    "diabetes_grouped = diabetes.groupby('test result')\n",
    "\n",
    "# Calculate the mean glucose levels per group\n",
    "print(diabetes_grouped.agg('mean')['plasma glucose'])"
   ]
  },
  {
   "cell_type": "code",
   "execution_count": 50,
   "metadata": {},
   "outputs": [
    {
     "name": "stdout",
     "output_type": "stream",
     "text": [
      "<class 'pandas.core.frame.DataFrame'>\n",
      "RangeIndex: 734 entries, 0 to 733\n",
      "Data columns (total 11 columns):\n",
      "Unnamed: 0    734 non-null int64\n",
      "name          734 non-null object\n",
      "Gender        734 non-null object\n",
      "Eye color     734 non-null object\n",
      "Race          734 non-null object\n",
      "Hair color    734 non-null object\n",
      "Height        734 non-null float64\n",
      "Publisher     719 non-null object\n",
      "Skin color    734 non-null object\n",
      "Alignment     734 non-null object\n",
      "Weight        732 non-null float64\n",
      "dtypes: float64(2), int64(1), object(8)\n",
      "memory usage: 63.2+ KB\n"
     ]
    }
   ],
   "source": [
    "url = 'https://assets.datacamp.com/production/repositories/4298/datasets/58a461693fbca1f972a11024c3873004b102160c/heroes_information.csv'\n",
    "file = 'heroes.csv'\n",
    "urlretrieve(url, file)\n",
    "heroes = pd.read_csv(file)\n",
    "heroes.info()\n",
    "\n",
    "heroes['bmi'] = heroes['Weight'] / (heroes['Height']/100)**2"
   ]
  },
  {
   "cell_type": "code",
   "execution_count": 52,
   "metadata": {},
   "outputs": [
    {
     "data": {
      "text/plain": [
       "0      203.0\n",
       "1      191.0\n",
       "2      185.0\n",
       "3      203.0\n",
       "4      -99.0\n",
       "5      193.0\n",
       "6      -99.0\n",
       "7      185.0\n",
       "8      173.0\n",
       "9      178.0\n",
       "10     191.0\n",
       "11     188.0\n",
       "12     193.0\n",
       "13     180.0\n",
       "14     -99.0\n",
       "15     -99.0\n",
       "16     178.0\n",
       "17     244.0\n",
       "18     -99.0\n",
       "19     257.0\n",
       "20     188.0\n",
       "21     -99.0\n",
       "22     183.0\n",
       "23     -99.0\n",
       "24     165.0\n",
       "25     163.0\n",
       "26     -99.0\n",
       "27     183.0\n",
       "28     180.0\n",
       "29     211.0\n",
       "       ...  \n",
       "704    183.0\n",
       "705    185.0\n",
       "706    180.0\n",
       "707    188.0\n",
       "708    173.0\n",
       "709    218.0\n",
       "710    163.0\n",
       "711    -99.0\n",
       "712    -99.0\n",
       "713    -99.0\n",
       "714    178.0\n",
       "715    -99.0\n",
       "716    175.0\n",
       "717    140.0\n",
       "718    366.0\n",
       "719    160.0\n",
       "720    165.0\n",
       "721    188.0\n",
       "722    183.0\n",
       "723    -99.0\n",
       "724    196.0\n",
       "725    155.0\n",
       "726    175.0\n",
       "727    188.0\n",
       "728    183.0\n",
       "729    165.0\n",
       "730    304.8\n",
       "731     66.0\n",
       "732    170.0\n",
       "733    185.0\n",
       "Name: Height, Length: 734, dtype: float64"
      ]
     },
     "execution_count": 52,
     "metadata": {},
     "output_type": "execute_result"
    }
   ],
   "source": [
    "heroes['Height']"
   ]
  },
  {
   "cell_type": "code",
   "execution_count": null,
   "metadata": {},
   "outputs": [],
   "source": [
    "import numpy as np\n",
    "\n",
    "# Group the data by two factors specified in the context\n",
    "groups = \n",
    "\n",
    "# Filter groups having more than 10 valid bmi observations\n",
    "fheroes = "
   ]
  }
 ],
 "metadata": {
  "kernelspec": {
   "display_name": "Python 3",
   "language": "python",
   "name": "python3"
  },
  "language_info": {
   "codemirror_mode": {
    "name": "ipython",
    "version": 3
   },
   "file_extension": ".py",
   "mimetype": "text/x-python",
   "name": "python",
   "nbconvert_exporter": "python",
   "pygments_lexer": "ipython3",
   "version": "3.6.9"
  }
 },
 "nbformat": 4,
 "nbformat_minor": 4
}
