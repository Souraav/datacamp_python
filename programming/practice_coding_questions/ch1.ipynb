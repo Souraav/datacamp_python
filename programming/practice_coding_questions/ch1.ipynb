{
 "cells": [
  {
   "cell_type": "markdown",
   "metadata": {},
   "source": [
    "# Chapter 1\n",
    "What are the main data structures in python:\n",
    "* List\n",
    "* Tuple\n",
    "* Set\n",
    "* Dictionary"
   ]
  },
  {
   "cell_type": "code",
   "execution_count": 1,
   "metadata": {},
   "outputs": [],
   "source": [
    "basket1 = ['banana',\n",
    " 'kiwifruits',\n",
    " 'grapefruits',\n",
    " 'apples',\n",
    " 'apricots',\n",
    " 'nectarines',\n",
    " 'oranges',\n",
    " 'peaches',\n",
    " 'pears',\n",
    " 'lemons']\n",
    "\n",
    "basket2 = ['apples',\n",
    " 'grapes',\n",
    " 'apricots',\n",
    " 'dragonfruits',\n",
    " 'peaches',\n",
    " 'pears',\n",
    " 'limes',\n",
    " 'papaya']"
   ]
  },
  {
   "cell_type": "markdown",
   "metadata": {},
   "source": [
    "Interview clarification question:\n",
    "* Do the baskets contain only unique entries?\n",
    "* If not, should I remove all matching items from basket2 if there is 1 or more of the same in basket1?"
   ]
  },
  {
   "cell_type": "code",
   "execution_count": 2,
   "metadata": {},
   "outputs": [
    {
     "name": "stdout",
     "output_type": "stream",
     "text": [
      "Basket 1: ['banana', 'kiwifruits', 'grapefruits', 'apples', 'apricots', 'nectarines', 'oranges', 'peaches', 'pears', 'lemons']\n",
      "Basket 2: ['grapes', 'dragonfruits', 'limes', 'papaya']\n"
     ]
    }
   ],
   "source": [
    "# Remove fruits from basket2 that are present in basket1\n",
    "for item in basket1:\n",
    "    if item in basket2:\n",
    "        basket2.remove(item)\n",
    "\n",
    "print('Basket 1: ' + str(basket1))\n",
    "print('Basket 2: ' + str(basket2))"
   ]
  },
  {
   "cell_type": "code",
   "execution_count": 3,
   "metadata": {},
   "outputs": [
    {
     "name": "stdout",
     "output_type": "stream",
     "text": [
      "Basket 1: ['banana', 'kiwifruits', 'grapefruits', 'apples', 'apricots', 'nectarines', 'oranges']\n",
      "Basket 2: ['grapes', 'dragonfruits', 'limes', 'papaya', 'lemons', 'pears', 'peaches']\n"
     ]
    }
   ],
   "source": [
    "# Transfer fruits from basket1 to basket2\n",
    "while len(basket1) > len(basket2):\n",
    "    item_to_transfer = basket1.pop()\n",
    "    basket2.append(item_to_transfer)\n",
    "\n",
    "print('Basket 1: ' + str(basket1))\n",
    "print('Basket 2: ' + str(basket2))"
   ]
  },
  {
   "cell_type": "code",
   "execution_count": 4,
   "metadata": {},
   "outputs": [],
   "source": [
    "A = {1, 2, 3, 4, 5, 6, 7}\n",
    "B = {5, 7, 9, 11, 13, 15}\n",
    "C = {1, 2, 8, 10, 11, 12, 13, 14, 15, 16, 17}\n",
    "D = {1, 3, 5, 7, 9, 11, 12, 13, 14, 15, 16, 17, 18, 19, 20}\n",
    "E = {9, 10, 11, 12, 13, 14, 15}"
   ]
  },
  {
   "cell_type": "code",
   "execution_count": 5,
   "metadata": {},
   "outputs": [
    {
     "data": {
      "text/plain": [
       "{1, 2, 3, 4, 5, 6, 7}"
      ]
     },
     "execution_count": 5,
     "metadata": {},
     "output_type": "execute_result"
    }
   ],
   "source": [
    "A.union(B.intersection(C)) - D.intersection(E)"
   ]
  },
  {
   "cell_type": "code",
   "execution_count": 6,
   "metadata": {},
   "outputs": [],
   "source": [
    "range_x = [0.0, 0.2, 0.4, 0.6, 0.8, 1.0, 1.2, 1.4, 1.6, 1.8, 2.0]\n",
    "range_y = [0.0, 0.2, 0.4, 0.6, 0.8, 1.0, 1.2, 1.4, 1.6, 1.8, 2.0]"
   ]
  },
  {
   "cell_type": "code",
   "execution_count": 7,
   "metadata": {},
   "outputs": [],
   "source": [
    "circ_parab = dict()\n",
    "\n",
    "for x in range_x:\n",
    "    for y in range_y:        \n",
    "        # Calculate the value for z\n",
    "        z = x**2 + y**2\n",
    "        # Create a new key for the dictionary\n",
    "        key = (x, y)\n",
    "        # Create a new key-value pair      \n",
    "        circ_parab[key] = z"
   ]
  },
  {
   "cell_type": "code",
   "execution_count": 9,
   "metadata": {},
   "outputs": [
    {
     "data": {
      "text/plain": [
       "5.2"
      ]
     },
     "execution_count": 9,
     "metadata": {},
     "output_type": "execute_result"
    }
   ],
   "source": [
    "circ_parab[(1.8, 1.4)]"
   ]
  },
  {
   "cell_type": "markdown",
   "metadata": {},
   "source": [
    "Dictionary keys have to be immutable types - so we can't use a list, but we can use a tuple."
   ]
  },
  {
   "cell_type": "code",
   "execution_count": 10,
   "metadata": {},
   "outputs": [],
   "source": [
    "alphabet = 'abcdefghijklmnopqrstuvwxyz'"
   ]
  },
  {
   "cell_type": "code",
   "execution_count": 11,
   "metadata": {},
   "outputs": [
    {
     "name": "stdout",
     "output_type": "stream",
     "text": [
      "nkdkmkwz\n"
     ]
    }
   ],
   "source": [
    "def encrypt(text, key):\n",
    "  \n",
    "    encrypted_text = ''\n",
    "\n",
    "    # Fill in the blanks to create an encrypted text\n",
    "    for char in text.lower():\n",
    "        idx = (alphabet.index(char) + key) % len(alphabet)\n",
    "        encrypted_text = encrypted_text + alphabet[idx]\n",
    "\n",
    "    return encrypted_text\n",
    "\n",
    "# Check the encryption function with the shift equals to 10\n",
    "print(encrypt(\"datacamp\", 10))"
   ]
  },
  {
   "cell_type": "code",
   "execution_count": 17,
   "metadata": {},
   "outputs": [
    {
     "name": "stdout",
     "output_type": "stream",
     "text": [
      "datacamp\n"
     ]
    }
   ],
   "source": [
    "def decrypt(cicpher, key):\n",
    "  \n",
    "    decrypted_text = ''\n",
    "\n",
    "    # Fill in the blanks to create an encrypted text\n",
    "    for char in cicpher.lower():\n",
    "        idx = (alphabet.index(char) - key)\n",
    "        decrypted_text += alphabet[idx]\n",
    "\n",
    "    return decrypted_text\n",
    "\n",
    "# Check the encryption function with the shift equals to 10\n",
    "print(decrypt(\"nkdkmkwz\", 10))"
   ]
  },
  {
   "cell_type": "code",
   "execution_count": 18,
   "metadata": {},
   "outputs": [],
   "source": [
    "text = 'StRing ObJeCts haVe mANy inTEResting pROPerTies'"
   ]
  },
  {
   "cell_type": "code",
   "execution_count": 20,
   "metadata": {},
   "outputs": [
    {
     "name": "stdout",
     "output_type": "stream",
     "text": [
      "string OBJECTS have MANY interesting PROPERTIES\n"
     ]
    }
   ],
   "source": [
    "# Create a word list from the string stored in 'text'\n",
    "word_list = text.split()\n",
    "\n",
    "# Make every other word uppercased; otherwise - lowercased\n",
    "for i in range(len(word_list)):\n",
    "    if (i + 1) % 2 == 0:\n",
    "        word_list[i] = word_list[i].upper()\n",
    "    else:\n",
    "        word_list[i] = word_list[i].lower()\n",
    "        \n",
    "# Join the words back and form a new string\n",
    "new_text = ' '.join(word_list)\n",
    "print(new_text)"
   ]
  },
  {
   "cell_type": "code",
   "execution_count": 26,
   "metadata": {},
   "outputs": [],
   "source": [
    "heroes_str = \",name,Gender,Eye color,Race,Hair color,Height,Publisher,Skin color,Alignment,Weight\\n0,A-Bomb,Male,yellow,Human,No Hair,203.0,Marvel Comics,,good,441.0\\n1,Abe Sapien,Male,blue,Icthyo Sapien,No Hair,191.0,Dark Horse Comics,blue,good,65.0\\n2,Abin Sur,Male,blue,Ungaran,No Hair,185.0,DC Comics,red,good,90.0\\n3,Abomination,Male,green,Human / Radiation,No Hair,203.0,Marvel Comics,,bad,441.0\\n4,Abraxas,Male,blue,Cosmic Entity,Black,,Marvel Comics,,bad,\\n5,Absorbing Man,Male,blue,Human,No Hair,193.0,Marvel Comics,,bad,122.0\\n6,Adam Monroe,Male,blue,,Blond,,NBC - Heroes,,good,\\n7,Adam Strange,Male,blue,Human,Blond,185.0,DC Comics,,good,88.0\\n8,Agent 13,Fmale,blue,,Blond,173.0,Marvel Comics,,good,61.0\\n9,Agent Bob,Male,brown,Human,Brown,178.0,Marvel Comics,,good,81.0\\n10,Agent Zero,Male,,,,191.0,Marvel Comics,,good,104.0\\n11,Air-Walker,Male,blue,,White,188.0,Marvel Comics,,bad,108.0\\n12,Ajax,Male,brown,Cyborg,Black,193.0,Marvel Comics,,bad,90.0\\n13,Alan Scott,Male,blue,,Blond,180.0,DC Comics,,good,90.0\\n14,Alex Mercer,Male,,Human,,,Wildstorm,,bad,\\n15,Alex Woolsly,Male,,,,,NBC - Heroes,,good,\\n16,Alfred Pennyworth,Male,blue,Human,Black,178.0,DC Comics,,good,72.0\\n17,Alien,Male,,Xenomorph XX121,No Hair,244.0,Dark Horse Comics,black,bad,169.0\\n18,Allan Quatermain,Male,,,,,Wildstorm,,good,\\n19,Amazo,Male,red,Android,,257.0,DC Comics,,bad,173.0\\n20,Ammo,Male,brown,Human,Black,188.0,Marvel Comics,,bad,101.0\\n21,Ando Masahashi,Male,,,,,NBC - Heroes,,good,\\n22,Angel,Male,blue,,Blond,183.0,Marvel Comics,,good,68.0\\n23,Angel,Male,,Vampire,,,Dark Horse Comics,,good,\\n24,Angel Dust,Fmale,yellow,Mutant,Black,165.0,Marvel Comics,,good,57.0\\n25,Angel Salvadore,Female,brown,,Black,163.0,Marvel Comics,,good,54.0\\n26,Angela,Female,,,,,Image Comics,,bad,\\n27,Animal Man,Male,blue,Human,Blond,183.0,DC Comics,,good,83.0\\n28,Annihilus,Male,green,,No Hair,180.0,Marvel Comics,,bad,90.0\\n29,Ant-Man,Male,blue,Human,Blond,211.0,Marvel Comics,,good,122.0\\n30,Ant-Man II,Male,blue,Human,Blond,183.0,Marvel Comics,,good,86.0\\n31,Anti-Monitor,Male,yellow,God / Eternal,No Hair,61.0,DC Comics,,bad,\\n32,Anti-Spawn,Male,,,,,Image Comics,,bad,\\n33,Anti-Venom,Male,blue,Symbiote,Blond,229.0,Marvel Comics,,,358.0\\n34,Apocalypse,Male,red,Mutant,Black,213.0,Marvel Comics,grey,bad,135.0\\n35,Aquababy,Male,blue,,Blond,,DC Comics,,good,\\n36,Aqualad,Male,blue,Atlantean,Black,178.0,DC Comics,,good,106.0\\n37,Aquaman,Male,blue,Atlantean,Blond,185.0,DC Comics,,good,146.0\\n38,Arachne,Female,blue,Human,Blond,175.0,Marvel Comics,,good,63.0\\n39,Archangel,Male,blue,Mutant,Blond,183.0,Marvel Comics,blue,good,68.0\\n40,Arclight,Fmale,violet,,Purple,173.0,Marvel Comics,,bad,57.0\\n41,Ardina,Female,white,Alien,Orange,193.0,Marvel Comics,gold,good,98.0\\n42,Ares,Male,brown,,Brown,185.0,Marvel Comics,,good,270.0\\n43,Ariel,Female,purple,,Pink,165.0,Marvel Comics,,good,59.0\\n44,Armor,Fmale,black,,Black,163.0,Marvel Comics,,good,50.0\\n45,Arsenal,Male,,Human,,,DC Comics,,good,\\n46,Astro Boy,Male,brown,,Black,,,,good,\\n47,Atlas,Male,brown,Mutant,Red,183.0,Marvel Comics,,good,101.0\\n48,Atlas,Male,blue,God / Eternal,Brown,198.0,DC Comics,,bad,126.0\\n49,Atom,Male,blue,,Red,178.0,DC Comics,,good,68.0\\n50,Atom,Male,,,,,DC Comics,,good,\\n51,Atom Girl,Female,black,,Black,168.0,DC Comics,,good,54.0\\n52,Atom II,Male,brown,Human,Auburn,183.0,DC Comics,,good,81.0\\n53,Atom III,Male,,,Red,,DC Comics,,good,\\n54,Atom IV,Male,brown,,Black,,DC Comics,,good,72.0\\n55,Aurora,Female,blue,Mutant,Black,180.0,Marvel Comics,,good,63.0\\n56,Azazel,Male,yellow,Neyaphem,Black,183.0,Marvel Comics,red,bad,67.0\\n57,Azrael,Male,brown,Human,Black,,DC Comics,,good,\\n58,Aztar,Male,,,,,DC Comics,,good,\\n59,Bane,Male,,Human,,203.0,DC Comics,,bad,180.0\\n60,Banshee,Male,green,Human,Strawberry Blond,183.0,Marvel Comics,,good,77.0\\n61,Bantam,Male,brown,,Black,165.0,Marvel Comics,,good,54.0\\n62,Batgirl,Female,,,,,DC Comics,,good,\\n63,Batgirl,Female,green,Human,Red,170.0,DC Comics,,good,57.0\\n64,Batgirl III,Fmale,,,,,DC Comics,,good,\\n65,Batgirl IV,Female,green,Human,Black,165.0,DC Comics,,good,52.0\\n66,Batgirl V,Female,,,,,DC Comics,,good,\\n67,Batgirl VI,Female,blue,,Blond,168.0,DC Comics,,good,61.0\\n68,Batman,Male,blue,Human,black,188.0,DC Comics,,good,95.0\\n69,Batman,Male,blue,Human,Black,178.0,DC Comics,,good,77.0\\n70,Batman II,Male,blue,Human,Black,178.0,DC Comics,,good,79.0\\n71,Battlestar,Male,brown,,Black,198.0,Marvel Comics,,good,133.0\\n72,Batwoman V,Fmale,green,Human,Red,178.0,DC Comics,,good,\\n73,Beak,Male,black,,White,175.0,Marvel Comics,,good,63.0\\n74,Beast,Male,blue,Mutant,Blue,180.0,Marvel Comics,blue,good,181.0\\n75,Beast Boy,Male,green,Human,Green,173.0,DC Comics,green,good,68.0\\n76,Beetle,Male,,,,,Marvel Comics,,bad,\\n77,Ben 10,Male,,,,,DC Comics,,good,\\n78,Beta Ray Bill,Male,,,No Hair,201.0,Marvel Comics,,good,216.0\\n79,Beyonder,Male,,God / Eternal,,,Marvel Comics,,good,\\n80,Big Barda,Fmale,blue,New God,Black,188.0,DC Comics,,bad,135.0\\n81,Big Daddy,Male,,,,,Icon Comics,,good,\\n82,Big Man,Male,blue,,Brown,165.0,Marvel Comics,,bad,71.0\\n83,Bill Harken,Male,,Alpha,,,SyFy,,good,\\n84,Billy Kincaid,Male,,,,,Image Comics,,bad,\\n85,Binary,Female,blue,,Blond,180.0,Marvel Comics,,good,54.0\\n86,Bionic Woman,Female,blue,Cyborg,Black,,,,good,\\n87,Bird-Brain,,,,,,Marvel Comics,,good,\\n88,Bird-Man,Male,,Human,,,Marvel Comics,,bad,\\n89,Bird-Man II,Male,,Human,,,Marvel Comics,,bad,\\n90,Birdman,Male,,God / Eternal,,,Hanna-Barbera,,good,\\n91,Bishop,Male,brown,Mutant,No Hair,198.0,Marvel Comics,,good,124.0\\n92,Bizarro,Male,black,Bizarro,Black,191.0,DC Comics,white,neutral,155.0\\n93,Black Abbott,Male,red,,Black,,Marvel Comics,,bad,\\n94,Black Adam,Male,brown,,Black,191.0,DC Comics,,bad,113.0\\n95,Black Bolt,Male,blue,Inhuman,Black,188.0,Marvel Comics,,good,95.0\\n96,Black Canary,Fmale,blue,Human,Blond,165.0,DC Comics,,good,58.0\\n97,Black Canary,Female,blue,Metahuman,Blond,170.0,DC Comics,,good,59.0\\n98,Black Cat,Female,green,Human,Blond,178.0,Marvel Comics,,good,54.0\\n99,Black Flash,Male,,God / Eternal,,,DC Comics,,neutral,\\n100,Black Goliath,Male,,,,,Marvel Comics,,good,\\n101,Black Knight III,Male,brown,Human,Brown,183.0,Marvel Comics,,good,86.0\\n102,Black Lightning,Male,brown,,No Hair,185.0,DC Comics,,good,90.0\\n103,Black Mamba,Female,green,,Black,170.0,Marvel Comics,,bad,52.0\\n104,Black Manta,Male,black,Human,No Hair,188.0,DC Comics,,bad,92.0\\n105,Black Panther,Male,brown,Human,Black,183.0,Marvel Comics,,good,90.0\\n106,Black Widow,Female,green,Human,Auburn,170.0,Marvel Comics,,good,59.0\\n107,Black Widow II,Female,blue,,Blond,170.0,Marvel Comics,,good,61.0\\n108,Blackout,Male,red,Demon,White,191.0,Marvel Comics,white,bad,104.0\\n109,Blackwing,Male,blue,,Black,185.0,Marvel Comics,,bad,86.0\\n110,Blackwulf,Male,red,Alien,White,188.0,Marvel Comics,,,88.0\\n111,Blade,Male,brown,Vampire,Black,188.0,Marvel Comics,,good,97.0\\n112,Blaquesmith,,black,,No Hair,,Marvel Comics,,good,\\n113,Bling!,Female,,,,168.0,Marvel Comics,,good,68.0\\n114,Blink,Female,green,Mutant,Magenta,165.0,Marvel Comics,pink,good,56.0\\n115,Blizzard,Male,,,,,Marvel Comics,,bad,\\n116,Blizzard,Male,,,Brown,,Marvel Comics,,bad,\\n117,Blizzard II,Male,brown,,Brown,175.0,Marvel Comics,,bad,77.0\\n118,Blob,Male,brown,,Brown,178.0,Marvel Comics,,bad,230.0\\n119,Bloodaxe,Female,blue,Human,Brown,218.0,Marvel Comics,,bad,495.0\\n120,Bloodhawk,Male,black,Mutant,No Hair,,Marvel Comics,,good,\\n121,Bloodwraith,Male,white,,No Hair,30.5,Marvel Comics,,bad,\\n122,Blue Beetle,Male,blue,,Brown,,DC Comics,,good,\\n123,Blue Beetle,Male,,,,,DC Comics,,good,\\n124,Blue Beetle II,Male,blue,,Brown,183.0,DC Comics,,good,86.0\\n125,Blue Beetle III,Male,brown,Human,Black,,DC Comics,,good,\\n126,Boba Fett,Male,brown,Human / Clone,Black,183.0,George Lucas,,bad,\\n127,Bolt,Male,,,,,Marvel Comics,,good,\\n128,Bomb Queen,Fmale,,,,,Image Comics,,bad,\\n129,Boom-Boom,Female,blue,Mutant,Blond,165.0,Marvel Comics,,good,55.0\\n130,Boomer,Female,,,,,Marvel Comics,,good,\\n131,Booster Gold,Male,blue,Human,Blond,196.0,DC Comics,,good,97.0\\n132,Box,Male,,,,,Marvel Comics,,good,\\n133,Box III,,blue,,Blond,193.0,Marvel Comics,,good,110.0\\n134,Box IV,,brown,,Brown / Black,,Marvel Comics,,good,\\n135,Brainiac,Male,green,Android,No Hair,198.0,DC Comics,green,bad,135.0\\n136,Brainiac 5,Male,green,,Blond,170.0,DC Comics,,good,61.0\\n137,Brother Voodoo,Male,brown,Human,Brown / White,183.0,Marvel Comics,,good,99.0\\n138,Brundlefly,Male,,Mutant,,193.0,,,,\\n139,Buffy,Female,green,Human,Blond,157.0,Dark Horse Comics,,good,52.0\\n140,Bullseye,Male,blue,Human,blond,183.0,Marvel Comics,,bad,90.0\\n141,Bumblebee,Female,brown,Human,Black,170.0,DC Comics,,good,59.0\\n142,Bumbleboy,Male,,,,,Marvel Comics,,good,\\n143,Bushido,Male,,Human,,,DC Comics,,good,\\n144,Cable,Male,blue,Mutant,White,203.0,Marvel Comics,,good,158.0\\n145,Callisto,Female,blue,,Black,175.0,Marvel Comics,,bad,74.0\\n146,Cameron Hicks,Male,,Alpha,,,SyFy,,good,\\n147,Cannonball,Male,blue,,Blond,183.0,Marvel Comics,,good,81.0\\n148,Captain America,Male,blue,Human,blond,188.0,Marvel Comics,,good,108.0\\n149,Captain Atom,Male,blue,Human / Radiation,Silver,193.0,DC Comics,silver,good,90.0\\n150,Captain Britain,Male,blue,Human,Blond,198.0,Marvel Comics,,good,116.0\\n151,Captain Cold,Male,brown,Human,Brown,,DC Comics,,neutral,\\n152,Captain Epic,Male,blue,,Brown,188.0,Team Epic TV,,good,\\n153,Captain Hindsight,Male,,Human,Black,,South Park,,good,\\n154,Captain Mar-vell,Male,blue,,Blond,188.0,Marvel Comics,,good,108.0\\n155,Captain Marvel,Female,blue,Human-Kree,Blond,180.0,Marvel Comics,,good,74.0\\n156,Captain Marvel,Male,blue,Human,Black,193.0,DC Comics,,good,101.0\\n157,Captain Marvel II,Male,blue,Human,Black,175.0,DC Comics,,good,74.0\\n158,Captain Midnight,Male,,Human,,,Dark Horse Comics,,good,\\n159,Captain Planet,Male,red,God / Eternal,Green,,Marvel Comics,,good,\\n160,Captain Universe,,,God / Eternal,,,Marvel Comics,,good,\\n161,Carnage,Male,green,Symbiote,Red,185.0,Marvel Comics,,bad,86.0\\n162,Cat,Female,blue,,Blond,173.0,Marvel Comics,,good,61.0\\n163,Cat II,Female,,,,,Marvel Comics,,good,\\n164,Catwoman,Fmale,green,Human,Black,175.0,DC Comics,,good,61.0\\n165,Cecilia Reyes,,brown,,Brown,170.0,Marvel Comics,,good,62.0\\n166,Century,Male,white,Alien,White,201.0,Marvel Comics,grey,good,97.0\\n167,Cerebra,Female,,Mutant,,,Marvel Comics,,good,\\n168,Chamber,Male,brown,Mutant,Brown,175.0,Marvel Comics,,good,63.0\\n169,Chameleon,Male,,,,,DC Comics,,bad,\\n170,Changeling,Male,brown,,Black,180.0,Marvel Comics,,bad,81.0\\n171,Cheetah,Female,green,Human,Blond,163.0,DC Comics,,bad,50.0\\n172,Cheetah II,Fmale,green,Human,Brown,170.0,DC Comics,,bad,55.0\\n173,Cheetah III,Female,brown,Human,Brown,175.0,DC Comics,,bad,54.0\\n174,Chromos,Male,brown,,Red / Grey,185.0,Team Epic TV,,bad,86.0\\n175,Chuck Norris,Male,,,,178.0,,,good,\\n176,Citizen Steel,Male,green,Human,Red,183.0,DC Comics,,good,170.0\\n177,Claire Bennet,Female,blue,,Blond,,NBC - Heroes,,good,\\n178,Clea,,,,White,,Marvel Comics,,good,\\n179,Cloak,Male,brown,,black,226.0,Marvel Comics,,good,70.0\\n180,Clock King,Male,blue,Human,Black,178.0,DC Comics,,bad,78.0\\n181,Cogliostro,Male,,,,,Image Comics,,bad,\\n182,Colin Wagner,Male,grey,,Brown,,HarperCollins,,good,\\n183,Colossal Boy,Male,,,,,DC Comics,,good,\\n184,Colossus,Male,silver,Mutant,Black,226.0,Marvel Comics,,good,225.0\\n185,Copycat,Female,red,Mutant,White,183.0,Marvel Comics,blue,neutral,67.0\\n186,Corsair,Male,brown,,Brown,191.0,Marvel Comics,,good,79.0\\n187,Cottonmouth,Male,brown,Human,Black,183.0,Marvel Comics,,bad,99.0\\n188,Crimson Crusader,Male,blue,,Strawberry Blond,,Marvel Comics,,good,\\n189,Crimson Dynamo,Male,brown,,No Hair,180.0,Marvel Comics,,good,104.0\\n190,Crystal,Female,green,Inhuman,Red,168.0,Marvel Comics,,good,50.0\\n191,Curse,Male,,,,,Image Comics,,bad,\\n192,Cy-Gor,Male,,,,,Image Comics,,bad,\\n193,Cyborg,Male,brown,Cyborg,Black,198.0,DC Comics,,good,173.0\\n194,Cyborg Superman,Male,blue,Cyborg,Black,,DC Comics,,bad,\\n195,Cyclops,Male,brown,Mutant,Brown,191.0,Marvel Comics,,good,88.0\\n196,Cypher,,blue,,Blond,175.0,Marvel Comics,,good,68.0\\n197,Dagger,Female,blue,,Blond,165.0,Marvel Comics,,good,52.0\\n198,Danny Cooper,Male,brown,,Blond,,HarperCollins,,good,\\n199,Daphne Powell,Female,,,,,ABC Studios,,good,\\n200,Daredevil,Male,blue,Human,Red,183.0,Marvel Comics,,good,90.0\\n201,Darkhawk,Male,brown,Human,Brown,185.0,Marvel Comics,,good,81.0\\n202,Darkman,Male,,,,,Universal Studios,,good,\\n203,Darkseid,Male,red,New God,No Hair,267.0,DC Comics,grey,bad,817.0\\n204,Darkside,,,,,,,,bad,\\n205,Darkstar,Female,brown,Mutant,Blond,168.0,Marvel Comics,,good,56.0\\n206,Darth Maul,Male,yellow / red,Dathomirian Zabrak,,170.0,George Lucas,red / black,bad,\\n207,Darth Vader,Male,yellow,Cyborg,No Hair,198.0,George Lucas,,bad,135.0\\n208,Dash,Male,blue,Human,Blond,122.0,Dark Horse Comics,,good,27.0\\n209,Data,Male,yellow,Android,Brown,,Star Trek,,good,\\n210,Dazzler,Female,blue,Mutant,Blond,173.0,Marvel Comics,,good,52.0\\n211,Deadman,Male,blue,Human,Black,183.0,DC Comics,,good,90.0\\n212,Deadpool,Male,brown,Mutant,No Hair,188.0,Marvel Comics,,neutral,95.0\\n213,Deadshot,Male,brown,Human,Brown,185.0,DC Comics,,bad,91.0\\n214,Deathlok,Male,brown,Cyborg,Grey,193.0,Marvel Comics,,good,178.0\\n215,Deathstroke,Male,blue,Human,White,193.0,DC Comics,,neutral,101.0\\n216,Demogoblin,Male,red,Demon,No Hair,185.0,Marvel Comics,,bad,95.0\\n217,Destroyer,Male,,,,188.0,Marvel Comics,,bad,383.0\\n218,Diamondback,Male,brown,Human,Black,193.0,Marvel Comics,,bad,90.0\\n219,DL Hawkins,Male,,,,,NBC - Heroes,,good,\\n220,Doc Samson,Male,blue,Human / Radiation,Green,198.0,Marvel Comics,,good,171.0\\n221,Doctor Doom,Male,brown,Human,Brown,201.0,Marvel Comics,,bad,187.0\\n222,Doctor Doom II,Male,brown,,Brown,201.0,Marvel Comics,,bad,132.0\\n223,Doctor Fate,Male,blue,Human,Blond,188.0,DC Comics,,good,89.0\\n224,Doctor Octopus,Male,brown,Human,Brown,175.0,Marvel Comics,,bad,110.0\\n225,Doctor Strange,Male,grey,Human,Black,188.0,Marvel Comics,,good,81.0\\n226,Domino,Female,blue,Human,Black,173.0,Marvel Comics,white,good,54.0\\n227,Donatello,Male,green,Mutant,No Hair,,IDW Publishing,green,good,\\n228,Donna Troy,Fmale,blue,Amazon,Black,175.0,DC Comics,,good,63.0\\n229,Doomsday,Male,red,Alien,White,244.0,DC Comics,,bad,412.0\\n230,Doppelganger,Male,white,,No Hair,196.0,Marvel Comics,,bad,104.0\\n231,Dormammu,Male,yellow,,No Hair,185.0,Marvel Comics,,bad,\\n232,Dr Manhattan,Male,white,Human / Cosmic,No Hair,,DC Comics,blue,good,\\n233,Drax the Destroyer,Male,red,Human / Altered,No Hair,193.0,Marvel Comics,green,good,306.0\\n234,Ego,,,,,,Marvel Comics,,bad,\\n235,Elastigirl,Female,brown,Human,Brown,168.0,Dark Horse Comics,,good,56.0\\n236,Electro,Male,blue,Human,Auburn,180.0,Marvel Comics,,bad,74.0\\n237,Elektra,Female,blue,Human,Black,175.0,Marvel Comics,,good,59.0\\n238,Elle Bishop,Female,blue,,Blond,,NBC - Heroes,,bad,\\n239,Elongated Man,Male,blue,,Red,185.0,DC Comics,,good,80.0\\n240,Emma Frost,Fmale,blue,,Blond,178.0,Marvel Comics,,good,65.0\\n241,Enchantress,Female,blue,Human,Blond,168.0,DC Comics,,good,57.0\\n242,Energy,Female,,,,,HarperCollins,,good,\\n243,ERG-1,Male,,,,,DC Comics,,good,\\n244,Ethan Hunt,Male,brown,Human,Brown,168.0,,,good,\\n245,Etrigan,Male,red,Demon,No Hair,193.0,DC Comics,yellow,neutral,203.0\\n246,Evil Deadpool,Male,white,Mutant,Red,188.0,Marvel Comics,,bad,95.0\\n247,Evilhawk,Male,red,Alien,Black,191.0,Marvel Comics,green,bad,106.0\\n248,Exodus,Male,blue,Mutant,Black,183.0,Marvel Comics,red,bad,88.0\\n249,Fabian Cortez,,blue,,Brown,196.0,Marvel Comics,,bad,96.0\\n250,Falcon,Male,brown,Human,Black,188.0,Marvel Comics,,good,108.0\\n251,Fallen One II,Male,black,,Blue,,Marvel Comics,,bad,\\n252,Faora,Fmale,,Kryptonian,,,DC Comics,,bad,\\n253,Feral,,yellow (without irises),,Orange / White,175.0,Marvel Comics,,good,50.0\\n254,Fighting Spirit,Female,,,Red,,DC Comics,,good,\\n255,Fin Fang Foom,Male,red,Kakarantharaian,No Hair,975.0,Marvel Comics,green,good,18.0\\n256,Firebird,Fmale,brown,,Black,165.0,Marvel Comics,,good,56.0\\n257,Firelord,,white,,Yellow,193.0,Marvel Comics,,good,99.0\\n258,Firestar,Female,green,Mutant,Red,173.0,Marvel Comics,,good,56.0\\n259,Firestorm,Male,brown,,Black,,DC Comics,,good,\\n260,Firestorm,Male,blue,Human,Auburn,188.0,DC Comics,,good,91.0\\n261,Fixer,,red,,No Hair,,Marvel Comics,,bad,\\n262,Flash,Male,blue,Human,Brown / White,180.0,DC Comics,,good,81.0\\n263,Flash Gordon,Male,,,,,,,good,\\n264,Flash II,Male,blue,Human,Blond,183.0,DC Comics,,good,88.0\\n265,Flash III,Male,,Human,,183.0,DC Comics,,good,86.0\\n266,Flash IV,Male,yellow,Human,Auburn,157.0,DC Comics,,good,52.0\\n267,Forge,,brown,,Black,183.0,Marvel Comics,,good,81.0\\n268,Franklin Richards,Male,blue,Mutant,Blond,142.0,Marvel Comics,,good,45.0\\n269,Franklin Storm,,blue,,Grey,188.0,Marvel Comics,,good,92.0\\n270,Frenzy,Female,brown,,Black,211.0,Marvel Comics,,bad,104.0\\n271,Frigga,Female,blue,,White,180.0,Marvel Comics,,good,167.0\\n272,Galactus,Male,black,Cosmic Entity,Black,876.0,Marvel Comics,,neutral,16.0\\n273,Gambit,Male,red,Mutant,Brown,185.0,Marvel Comics,,good,81.0\\n274,Gamora,Female,yellow,Zen-Whoberian,Black,183.0,Marvel Comics,green,good,77.0\\n275,Garbage Man,Male,,Mutant,,,DC Comics,,good,\\n276,Gary Bell,Male,,Alpha,,,SyFy,,good,\\n277,General Zod,Male,black,Kryptonian,Black,,DC Comics,,bad,\\n278,Genesis,Male,blue,,Blond,185.0,Marvel Comics,,good,86.0\\n279,Ghost Rider,Male,red,Demon,No Hair,188.0,Marvel Comics,,good,99.0\\n280,Ghost Rider II,,,,,,Marvel Comics,,good,\\n281,Giant-Man,Male,,Human,,,Marvel Comics,,good,\\n282,Giant-Man II,Male,,,,,Marvel Comics,,good,\\n283,Giganta,Female,green,,Red,62.5,DC Comics,,bad,630.0\\n284,Gladiator,Male,blue,Strontian,Blue,198.0,Marvel Comics,purple,neutral,268.0\\n285,Goblin Queen,Female,green,,Red,168.0,Marvel Comics,,bad,50.0\\n286,Godzilla,,,Kaiju,,108.0,,grey,bad,\\n287,Gog,Male,,,,,DC Comics,,bad,\\n288,Goku,Male,,Saiyan,,175.0,Shueisha,,good,62.0\\n289,Goliath,Male,,,,,Marvel Comics,,good,\\n290,Goliath,Male,,Human,,,Marvel Comics,,good,\\n291,Goliath,Male,,Human,,,Marvel Comics,,good,\\n292,Goliath IV,Male,brown,,Black,183.0,Marvel Comics,,good,90.0\\n293,Gorilla Grodd,Male,yellow,Gorilla,Black,198.0,DC Comics,,bad,270.0\\n294,Granny Goodness,Female,blue,,White,178.0,DC Comics,,bad,115.0\\n295,Gravity,Male,blue,Human,Brown,178.0,Marvel Comics,,good,79.0\\n296,Greedo,Male,purple,Rodian,,170.0,George Lucas,green,bad,\\n297,Green Arrow,Male,green,Human,Blond,188.0,DC Comics,,good,88.0\\n298,Green Goblin,Male,blue,Human,Auburn,180.0,Marvel Comics,,bad,83.0\\n299,Green Goblin II,Male,blue,,Auburn,178.0,Marvel Comics,,bad,77.0\\n300,Green Goblin III,Male,,,,183.0,Marvel Comics,,good,88.0\\n301,Green Goblin IV,Male,green,,Brown,178.0,Marvel Comics,,good,79.0\\n302,Groot,Male,yellow,Flora Colossus,,701.0,Marvel Comics,,good,4.0\\n303,Guardian,Male,brown,Human,Black,,Marvel Comics,,good,\\n304,Guy Gardner,Male,blue,Human-Vuldarian,Red,188.0,DC Comics,,good,95.0\\n305,Hal Jordan,Male,brown,Human,Brown,188.0,DC Comics,,good,90.0\\n306,Han Solo,Male,brown,Human,Brown,183.0,George Lucas,,good,79.0\\n307,Hancock,Male,brown,Human,Black,188.0,Sony Pictures,,good,\\n308,Harley Quinn,Fmale,blue,Human,Blond,170.0,DC Comics,,bad,63.0\\n309,Harry Potter,Male,green,Human,Black,,J. K. Rowling,,good,\\n310,Havok,Male,blue,Mutant,Blond,183.0,Marvel Comics,,good,79.0\\n311,Hawk,Male,red,,Brown,185.0,DC Comics,,good,89.0\\n312,Hawkeye,Male,blue,Human,Blond,191.0,Marvel Comics,,good,104.0\\n313,Hawkeye II,Female,blue,Human,Black,165.0,Marvel Comics,,good,57.0\\n314,Hawkgirl,Female,green,,Red,175.0,DC Comics,,good,61.0\\n315,Hawkman,Male,blue,,Brown,185.0,DC Comics,,good,88.0\\n316,Hawkwoman,Fmale,green,,Red,175.0,DC Comics,,good,54.0\\n317,Hawkwoman II,Female,,,,,DC Comics,,good,\\n318,Hawkwoman III,Female,blue,,Red,170.0,DC Comics,,good,65.0\\n319,Heat Wave,Male,blue,Human,No Hair,180.0,DC Comics,,bad,81.0\\n320,Hela,Fmale,green,Asgardian,Black,213.0,Marvel Comics,,bad,225.0\\n321,Hellboy,Male,gold,Demon,Black,259.0,Dark Horse Comics,,good,158.0\\n322,Hellcat,Female,blue,Human,Red,173.0,Marvel Comics,,good,61.0\\n323,Hellstorm,Male,red,,Red,185.0,Marvel Comics,,good,81.0\\n324,Hercules,Male,blue,Demi-God,Brown,196.0,Marvel Comics,,good,146.0\\n325,Hiro Nakamura,Male,,,,,NBC - Heroes,,good,\\n326,Hit-Girl,Female,,Human,,,Icon Comics,,good,\\n327,Hobgoblin,Male,blue,,Grey,180.0,Marvel Comics,,bad,83.0\\n328,Hollow,Fmale,blue,,Red,170.0,Marvel Comics,,good,\\n329,Hope Summers,Female,green,,Red,168.0,Marvel Comics,,good,48.0\\n330,Howard the Duck,Male,brown,,Yellow,79.0,Marvel Comics,,good,18.0\\n331,Hulk,Male,green,Human / Radiation,Green,244.0,Marvel Comics,green,good,630.0\\n332,Human Torch,Male,blue,Human / Radiation,Blond,178.0,Marvel Comics,,good,77.0\\n333,Huntress,Female,blue,,Black,180.0,DC Comics,,good,59.0\\n334,Husk,Female,blue,Mutant,Blond,170.0,Marvel Comics,,good,58.0\\n335,Hybrid,Male,brown,Symbiote,Black,175.0,Marvel Comics,,good,77.0\\n336,Hydro-Man,Male,brown,,Brown,188.0,Marvel Comics,,bad,119.0\\n337,Hyperion,Male,blue,Eternal,Red,183.0,Marvel Comics,,good,207.0\\n338,Iceman,Male,brown,Mutant,Brown,173.0,Marvel Comics,,good,65.0\\n339,Impulse,Male,yellow,Human,Auburn,170.0,DC Comics,,good,65.0\\n340,Indiana Jones,Male,,Human,,183.0,George Lucas,,good,79.0\\n341,Indigo,Female,,Alien,Purple,,DC Comics,,neutral,\\n342,Ink,Male,blue,Mutant,No Hair,180.0,Marvel Comics,,good,81.0\\n343,Invisible Woman,Female,blue,Human / Radiation,Blond,168.0,Marvel Comics,,good,54.0\\n344,Iron Fist,Male,blue,Human,Blond,180.0,Marvel Comics,,good,79.0\\n345,Iron Man,Male,blue,Human,Black,198.0,Marvel Comics,,good,191.0\\n346,Iron Monger,Male,blue,,No Hair,,Marvel Comics,,bad,2.0\\n347,Isis,Female,,,,,DC Comics,,good,\\n348,Jack Bauer,Male,,,,,,,good,\\n349,Jack of Hearts,Male,blue / white,Human,Brown,155.0,Marvel Comics,,good,79.0\\n350,Jack-Jack,Male,blue,Human,Brown,71.0,Dark Horse Comics,,good,14.0\\n351,James Bond,Male,blue,Human,Blond,183.0,Titan Books,,good,\\n352,James T. Kirk,Male,hazel,Human,Brown,178.0,Star Trek,,good,77.0\\n353,Jar Jar Binks,Male,yellow,Gungan,,193.0,George Lucas,orange / white,good,\\n354,Jason Bourne,Male,,Human,,,,,good,\\n355,Jean Grey,Female,green,Mutant,Red,168.0,Marvel Comics,,good,52.0\\n356,Jean-Luc Picard,Male,,Human,,,Star Trek,,good,\\n357,Jennifer Kale,Female,blue,,Blond,168.0,Marvel Comics,,good,55.0\\n358,Jesse Quick,Female,,Human,,,DC Comics,,good,\\n359,Jessica Cruz,Female,green,Human,Brown,,DC Comics,,good,\\n360,Jessica Jones,Fmale,brown,Human,Brown,170.0,Marvel Comics,,good,56.0\\n361,Jessica Sanders,Female,,,,,NBC - Heroes,,good,\\n362,Jigsaw,Male,blue,,Black,188.0,Marvel Comics,,bad,113.0\\n363,Jim Powell,Male,,,,,ABC Studios,,good,\\n364,JJ Powell,Male,,,,,ABC Studios,,good,\\n365,Johann Krauss,Male,,,,,Dark Horse Comics,,good,\\n366,John Constantine,Male,blue,Human,Blond,183.0,DC Comics,,good,\\n367,John Stewart,Male,green,Human,Black,185.0,DC Comics,,good,90.0\\n368,John Wraith,Male,brown,,Black,183.0,Marvel Comics,,good,88.0\\n369,Joker,Male,green,Human,Green,196.0,DC Comics,white,bad,86.0\\n370,Jolt,Female,blue,,Black,165.0,Marvel Comics,,good,49.0\\n371,Jubilee,Female,red,Mutant,Black,165.0,Marvel Comics,,good,52.0\\n372,Judge Dredd,Male,,Human,,188.0,Rebellion,,good,\\n373,Juggernaut,Male,blue,Human,Red,287.0,Marvel Comics,,neutral,855.0\\n374,Junkpile,Male,,Mutant,,,Marvel Comics,,bad,\\n375,Justice,Male,hazel,Human,Brown,178.0,Marvel Comics,,good,81.0\\n376,Jyn Erso,Fmale,green,Human,Brown,,George Lucas,,good,\\n377,K-2SO,Male,white,Android,No Hair,213.0,George Lucas,gray,good,\\n378,Kang,Male,brown,,Brown,191.0,Marvel Comics,,bad,104.0\\n379,Karate Kid,Male,brown,Human,Brown,173.0,DC Comics,,good,72.0\\n380,Kathryn Janeway,Fmale,,Human,,,Star Trek,,good,\\n381,Katniss Everdeen,Female,,Human,,,,,good,\\n382,Kevin 11,Male,,Human,Black,,DC Comics,,good,\\n383,Kick-Ass,Male,blue,Human,Blond,,Icon Comics,,good,\\n384,Kid Flash,Male,green,Human,Red,,DC Comics,,good,\\n385,Kid Flash II,Male,,,,,DC Comics,,good,\\n386,Killer Croc,Male,red,Metahuman,No Hair,244.0,DC Comics,green,bad,356.0\\n387,Killer Frost,Female,blue,Human,Blond,,DC Comics,blue,bad,\\n388,Kilowog,Male,red,Bolovaxian,No Hair,234.0,DC Comics,pink,good,324.0\\n389,King Kong,Male,yellow,Animal,Black,30.5,,,good,\\n390,King Shark,Male,black,Animal,No Hair,,DC Comics,,bad,\\n391,Kingpin,Male,blue,Human,No Hair,201.0,Marvel Comics,,bad,203.0\\n392,Klaw,Male,red,Human,No Hair,188.0,Marvel Comics,red,bad,97.0\\n393,Kool-Aid Man,Male,black,,No Hair,,,red,good,\\n394,Kraven II,Male,brown,Human,Black,191.0,Marvel Comics,,bad,99.0\\n395,Kraven the Hunter,Male,brown,Human,Black,183.0,Marvel Comics,,bad,106.0\\n396,Krypto,Male,blue,Kryptonian,White,64.0,DC Comics,,good,18.0\\n397,Kyle Rayner,Male,green,Human,Black,180.0,DC Comics,,good,79.0\\n398,Kylo Ren,Male,,Human,,,George Lucas,,bad,\\n399,Lady Bullseye,Female,,,Black,,Marvel Comics,,bad,\\n400,Lady Deathstrike,Fmale,brown,Cyborg,Black,175.0,Marvel Comics,,bad,58.0\\n401,Leader,Male,green,,No Hair,178.0,Marvel Comics,,bad,63.0\\n402,Leech,Male,,,,,Marvel Comics,,good,\\n403,Legion,Male,green / blue,Mutant,Black,175.0,Marvel Comics,,good,59.0\\n404,Leonardo,Male,blue,Mutant,No Hair,,IDW Publishing,green,good,\\n405,Lex Luthor,Male,green,Human,No Hair,188.0,DC Comics,,bad,95.0\\n406,Light Lass,Female,blue,,Red,165.0,DC Comics,,good,54.0\\n407,Lightning Lad,Male,blue,,Red,155.0,DC Comics,,good,65.0\\n408,Lightning Lord,Male,blue,,Red,191.0,DC Comics,,bad,95.0\\n409,Living Brain,,yellow,,,198.0,Marvel Comics,,bad,360.0\\n410,Living Tribunal,,blue,Cosmic Entity,No Hair,,Marvel Comics,gold,neutral,\\n411,Liz Sherman,Female,,,,,Dark Horse Comics,,good,\\n412,Lizard,Male,red,Human,No Hair,203.0,Marvel Comics,,bad,230.0\\n413,Lobo,Male,red,Czarnian,Black,229.0,DC Comics,blue-white,neutral,288.0\\n414,Loki,Male,green,Asgardian,Black,193.0,Marvel Comics,,bad,236.0\\n415,Longshot,Male,blue,Human,Blond,188.0,Marvel Comics,,good,36.0\\n416,Luke Cage,Male,brown,Human,Black,198.0,Marvel Comics,,good,191.0\\n417,Luke Campbell,Male,,,,,NBC - Heroes,,bad,\\n418,Luke Skywalker,Male,blue,Human,Blond,168.0,George Lucas,,good,77.0\\n419,Luna,Female,,Human,,,Marvel Comics,,good,\\n420,Lyja,Fmale,green,,Green,,Marvel Comics,,good,\\n421,Mach-IV,Male,brown,,Brown,180.0,Marvel Comics,,bad,79.0\\n422,Machine Man,,red,,Black,183.0,Marvel Comics,,good,383.0\\n423,Magneto,Male,grey,Mutant,White,188.0,Marvel Comics,,bad,86.0\\n424,Magog,Male,blue,,Blond,,DC Comics,,good,\\n425,Magus,Male,black,,,183.0,Marvel Comics,,bad,\\n426,Man of Miracles,,blue,God / Eternal,Silver,,Image Comics,,,\\n427,Man-Bat,Male,brown,Human,Brown,,DC Comics,,neutral,\\n428,Man-Thing,Male,red,,No Hair,213.0,Marvel Comics,green,good,225.0\\n429,Man-Wolf,Male,brown,,Auburn,188.0,Marvel Comics,,good,90.0\\n430,Mandarin,Male,blue,Human,White,188.0,Marvel Comics,,bad,97.0\\n431,Mantis,Female,green,Human-Kree,Black,168.0,Marvel Comics,green,good,52.0\\n432,Martian Manhunter,Male,red,Martian,No Hair,201.0,DC Comics,green,good,135.0\\n433,Marvel Girl,Female,green,,Red,170.0,Marvel Comics,,good,56.0\\n434,Master Brood,Male,blue,,Black,183.0,Team Epic TV,,good,81.0\\n435,Master Chief,Male,brown,Human / Altered,Brown,213.0,Microsoft,,good,\\n436,Match,Male,black,,Black,,DC Comics,,bad,\\n437,Matt Parkman,Male,,,,,NBC - Heroes,,good,\\n438,Maverick,Male,blue,,Black,193.0,Marvel Comics,,good,110.0\\n439,Maxima,Female,brown,,Red,180.0,DC Comics,,bad,72.0\\n440,Maya Herrera,Fmale,,,,,NBC - Heroes,,good,\\n441,Medusa,Female,green,Inhuman,Red,180.0,Marvel Comics,,good,59.0\\n442,Meltdown,Female,blue,,Blond,165.0,Marvel Comics,,good,54.0\\n443,Mephisto,Male,white,,Black,198.0,Marvel Comics,,bad,140.0\\n444,Mera,Fmale,blue,Atlantean,Red,175.0,DC Comics,,good,72.0\\n445,Metallo,Male,green,Android,Brown,196.0,DC Comics,,bad,90.0\\n446,Metamorpho,Male,black,,No Hair,185.0,DC Comics,,good,90.0\\n447,Meteorite,Female,,,,,Marvel Comics,,good,\\n448,Metron,Male,blue,,Black,185.0,DC Comics,,good,86.0\\n449,Micah Sanders,Male,brown,,Black,,NBC - Heroes,,good,\\n450,Michelangelo,Male,blue,Mutant,,,IDW Publishing,green,good,\\n451,Micro Lad,Male,grey,,Brown,183.0,DC Comics,,good,77.0\\n452,Mimic,Male,brown,,Brown,188.0,Marvel Comics,,good,101.0\\n453,Minna Murray,Female,,,,,Wildstorm,,good,\\n454,Misfit,Female,blue,,Red,,DC Comics,,good,\\n455,Miss Martian,Female,red,,Red,178.0,DC Comics,,good,61.0\\n456,Mister Fantastic,Male,brown,Human / Radiation,Brown,185.0,Marvel Comics,,good,81.0\\n457,Mister Freeze,Male,,Human,,183.0,DC Comics,,bad,86.0\\n458,Mister Knife,Male,blue,Spartoi,Brown,,Marvel Comics,,bad,\\n459,Mister Mxyzptlk,Male,,God / Eternal,,,DC Comics,,bad,\\n460,Mister Sinister,Male,red,Human / Altered,Black,196.0,Marvel Comics,,bad,128.0\\n461,Mister Zsasz,Male,blue,Human,Blond,,DC Comics,,bad,\\n462,Mockingbird,Female,blue,Human,Blond,175.0,Marvel Comics,,good,61.0\\n463,MODOK,Male,white,Cyborg,Brown,366.0,Marvel Comics,,bad,338.0\\n464,Mogo,Male,,Planet,,,DC Comics,,good,\\n465,Mohinder Suresh,Male,,,,,NBC - Heroes,,good,\\n466,Moloch,Male,,,,,DC Comics,,bad,\\n467,Molten Man,Male,gold,,Gold,196.0,Marvel Comics,,bad,248.0\\n468,Monarch,Male,blue,,White,193.0,DC Comics,,good,90.0\\n469,Monica Dawson,Female,,,,,NBC - Heroes,,good,\\n470,Moon Knight,Male,brown,Human,Brown,188.0,Marvel Comics,,good,101.0\\n471,Moonstone,Female,blue,,Blond,180.0,Marvel Comics,,bad,59.0\\n472,Morlun,Male,white / red,,Black,188.0,Marvel Comics,,bad,79.0\\n473,Morph,Male,white,,No Hair,178.0,Marvel Comics,,good,79.0\\n474,Moses Magnum,Male,brown,,Black,175.0,Marvel Comics,,bad,72.0\\n475,Mr Immortal,Male,blue,Mutant,Blond,188.0,Marvel Comics,,good,70.0\\n476,Mr Incredible,Male,blue,Human,Blond,201.0,Dark Horse Comics,,good,158.0\\n477,Ms Marvel II,Female,blue,,Red,173.0,Marvel Comics,,good,61.0\\n478,Multiple Man,Male,blue,,Brown,180.0,Marvel Comics,,good,70.0\\n479,Mysterio,Male,brown,Human,No Hair,180.0,Marvel Comics,,bad,79.0\\n480,Mystique,Fmale,yellow (without irises),Mutant,Red / Orange,178.0,Marvel Comics,blue,bad,54.0\\n481,Namor,Male,,,,,Marvel Comics,,good,\\n482,Namor,Male,grey,Atlantean,Black,188.0,Marvel Comics,,good,125.0\\n483,Namora,Female,blue,,Blond,180.0,Marvel Comics,,good,85.0\\n484,Namorita,Fmale,blue,,Blond,168.0,Marvel Comics,,good,101.0\\n485,Naruto Uzumaki,Male,,Human,,168.0,Shueisha,,good,54.0\\n486,Nathan Petrelli,Male,brown,,,,NBC - Heroes,,good,\\n487,Nebula,Female,blue,Luphomoid,No Hair,185.0,Marvel Comics,blue,bad,83.0\\n488,Negasonic Teenage Warhead,Fmale,black,Mutant,Black,,Marvel Comics,,good,\\n489,Nick Fury,Male,brown,Human,Brown / White,185.0,Marvel Comics,,good,99.0\\n490,Nightcrawler,Male,yellow,,Indigo,175.0,Marvel Comics,,good,88.0\\n491,Nightwing,Male,blue,Human,Black,178.0,DC Comics,,good,79.0\\n492,Niki Sanders,Fmale,blue,,Blond,,NBC - Heroes,,good,\\n493,Nina Theroux,Female,,Alpha,,,SyFy,,good,\\n494,Nite Owl II,Male,,,,,DC Comics,,good,\\n495,Northstar,Male,blue,,Black,180.0,Marvel Comics,,good,83.0\\n496,Nova,Male,brown,Human,Brown,185.0,Marvel Comics,,good,86.0\\n497,Nova,Female,white,Human / Cosmic,Red,163.0,Marvel Comics,gold,good,59.0\\n498,Odin,Male,blue,God / Eternal,White,206.0,Marvel Comics,,good,293.0\\n499,Offspring,Male,,,,,DC Comics,,good,\\n500,Omega Red,Male,red,,Blond,211.0,Marvel Comics,,bad,191.0\\n501,Omniscient,Male,brown,,Black,180.0,Team Epic TV,,good,65.0\\n502,One Punch Man,Male,,Human,No Hair,175.0,Shueisha,,good,69.0\\n503,One-Above-All,,,Cosmic Entity,,,Marvel Comics,,neutral,\\n504,Onslaught,Male,red,Mutant,No Hair,305.0,Marvel Comics,,bad,405.0\\n505,Oracle,Female,blue,Human,Red,178.0,DC Comics,,good,59.0\\n506,Osiris,Male,brown,,Brown,,DC Comics,,good,\\n507,Overtkill,Male,,,,,Image Comics,,bad,\\n508,Ozymandias,Male,blue,Human,Blond,,DC Comics,,bad,\\n509,Parademon,,,Parademon,,,DC Comics,,bad,\\n510,Paul Blart,Male,,Human,,170.0,Sony Pictures,,good,117.0\\n511,Penance,,,,,,Marvel Comics,,good,\\n512,Penance I,Fmale,,,,,Marvel Comics,,good,\\n513,Penance II,Male,blue,,Blond,183.0,Marvel Comics,,good,89.0\\n514,Penguin,Male,blue,Human,Black,157.0,DC Comics,,bad,79.0\\n515,Peter Petrelli,Male,,,,,NBC - Heroes,,good,\\n516,Phantom,Male,,,,,DC Comics,,good,\\n517,Phantom Girl,Female,blue,,Black,168.0,DC Comics,,good,54.0\\n518,Phoenix,Female,green,Mutant,Red,168.0,Marvel Comics,,good,52.0\\n519,Plantman,Male,green,Mutant,Grey,183.0,Marvel Comics,,bad,87.0\\n520,Plastic Lad,Male,,,,,DC Comics,,good,\\n521,Plastic Man,Male,blue,Human,Black,185.0,DC Comics,,good,80.0\\n522,Plastique,Female,blue,,Red,168.0,DC Comics,,bad,55.0\\n523,Poison Ivy,Female,green,Human,Red,168.0,DC Comics,green,bad,50.0\\n524,Polaris,Fmale,green,Mutant,Green,170.0,Marvel Comics,,good,52.0\\n525,Power Girl,Female,blue,Kryptonian,blond,180.0,DC Comics,,good,81.0\\n526,Power Man,Male,,Mutant,,,Marvel Comics,,good,\\n527,Predator,Male,,Yautja,,213.0,Dark Horse Comics,,bad,234.0\\n528,Professor X,Male,blue,Mutant,No Hair,183.0,Marvel Comics,,good,86.0\\n529,Professor Zoom,Male,blue,Human,Strawberry Blond,180.0,DC Comics,,bad,81.0\\n530,Proto-Goblin,Male,green,,Blond,,Marvel Comics,,bad,\\n531,Psylocke,Female,blue,Mutant,Purple,180.0,Marvel Comics,,good,70.0\\n532,Punisher,Male,blue,Human,Black,183.0,Marvel Comics,,good,90.0\\n533,Purple Man,Male,purple,Human,Purple,180.0,Marvel Comics,purple,bad,74.0\\n534,Pyro,Male,blue,,Blond,178.0,Marvel Comics,,bad,68.0\\n535,Q,Male,,God / Eternal,,,Star Trek,,,\\n536,Quantum,Male,,,,,HarperCollins,,good,\\n537,Question,Male,blue,Human,Blond,188.0,DC Comics,,good,83.0\\n538,Quicksilver,Male,blue,Mutant,Silver,183.0,Marvel Comics,,good,79.0\\n539,Quill,Male,brown,,Brown,163.0,Marvel Comics,,good,56.0\\n540,Ra's Al Ghul,Male,green,Human,Grey,193.0,DC Comics,,bad,97.0\\n541,Rachel Pirzad,Female,,Alpha,,,SyFy,,good,\\n542,Rambo,Male,brown,Human,Black,178.0,,,good,83.0\\n543,Raphael,Male,,Mutant,No Hair,,IDW Publishing,green,good,\\n544,Raven,Fmale,indigo,Human,Black,165.0,DC Comics,,neutral,50.0\\n545,Ray,Male,green,Human,Red,178.0,DC Comics,,good,70.0\\n546,Razor-Fist II,Male,blue,,No Hair,191.0,Marvel Comics,,bad,117.0\\n547,Red Arrow,Male,green,Human,Red,180.0,DC Comics,,good,83.0\\n548,Red Hood,Male,blue,Human,Black,183.0,DC Comics,,neutral,81.0\\n549,Red Hulk,Male,yellow,Human / Radiation,Black,213.0,Marvel Comics,red,neutral,630.0\\n550,Red Mist,Male,,,,,Icon Comics,,bad,\\n551,Red Robin,Male,blue,Human,Black,165.0,DC Comics,,good,56.0\\n552,Red Skull,Male,blue,,No Hair,188.0,Marvel Comics,,bad,108.0\\n553,Red Tornado,Male,green,Android,No Hair,185.0,DC Comics,,good,146.0\\n554,Redeemer II,Male,,,,,Image Comics,,bad,\\n555,Redeemer III,Male,,,,,Image Comics,,bad,\\n556,Renata Soliz,Fmale,,,,,HarperCollins,,good,\\n557,Rey,Female,hazel,Human,Brown,297.0,George Lucas,,good,\\n558,Rhino,Male,brown,Human / Radiation,Brown,196.0,Marvel Comics,,bad,320.0\\n559,Rick Flag,Male,blue,,Brown,185.0,DC Comics,,bad,85.0\\n560,Riddler,Male,,,,,DC Comics,,bad,\\n561,Rip Hunter,Male,blue,Human,Blond,,DC Comics,,good,\\n562,Ripcord,Female,green,,Black,180.0,Marvel Comics,,good,72.0\\n563,Robin,Male,blue,Human,Black,178.0,DC Comics,,good,79.0\\n564,Robin II,Male,blue,Human,Red,183.0,DC Comics,,good,101.0\\n565,Robin III,Male,blue,Human,Black,165.0,DC Comics,,good,56.0\\n566,Robin V,Male,blue,Human,Black,137.0,DC Comics,,good,38.0\\n567,Robin VI,Female,green,Human,Red,,DC Comics,,neutral,\\n568,Rocket Raccoon,Male,brown,Animal,Brown,122.0,Marvel Comics,,good,25.0\\n569,Rogue,Female,green,,Brown / White,173.0,Marvel Comics,,good,54.0\\n570,Ronin,Male,blue,Human,Blond,191.0,Marvel Comics,,good,104.0\\n571,Rorschach,Male,blue,Human,Red,168.0,DC Comics,,good,63.0\\n572,Sabretooth,Male,amber,Mutant,Blond,198.0,Marvel Comics,,bad,171.0\\n573,Sage,Female,blue,,Black,170.0,Marvel Comics,,good,61.0\\n574,Sandman,Male,brown,Human,Brown,185.0,Marvel Comics,,neutral,203.0\\n575,Sasquatch,Male,red,,Orange,305.0,Marvel Comics,,good,900.0\\n576,Sauron,Male,,Maiar,,279.0,J. R. R. Tolkien,,bad,\\n577,Savage Dragon,Male,,,,,Image Comics,,good,\\n578,Scarecrow,Male,blue,Human,Brown,183.0,DC Comics,,bad,63.0\\n579,Scarlet Spider,Male,blue,Human,Blond,178.0,Marvel Comics,,good,74.0\\n580,Scarlet Spider II,Male,brown,Clone,Brown,193.0,Marvel Comics,,good,113.0\\n581,Scarlet Witch,Female,blue,Mutant,Brown,170.0,Marvel Comics,,bad,59.0\\n582,Scorpia,Female,green,,Red,,Marvel Comics,,bad,\\n583,Scorpion,Male,brown,Human,Brown,211.0,Marvel Comics,,bad,310.0\\n584,Sebastian Shaw,Male,,Mutant,,,Marvel Comics,,bad,\\n585,Sentry,Male,blue,Mutant,Blond,188.0,Marvel Comics,,neutral,87.0\\n586,Shadow King,,red,,,185.0,Marvel Comics,,good,149.0\\n587,Shadow Lass,Female,black,Talokite,Black,173.0,DC Comics,blue,good,54.0\\n588,Shadowcat,Fmale,hazel,Mutant,Brown,168.0,Marvel Comics,,good,50.0\\n589,Shang-Chi,Male,brown,Human,Black,178.0,Marvel Comics,,good,79.0\\n590,Shatterstar,Male,brown,,Red,191.0,Marvel Comics,,good,88.0\\n591,She-Hulk,Female,green,Human,Green,201.0,Marvel Comics,,good,315.0\\n592,She-Thing,Fmale,blue,Human / Radiation,No Hair,183.0,Marvel Comics,,good,153.0\\n593,Shocker,Male,brown,Human,Brown,175.0,Marvel Comics,,bad,79.0\\n594,Shriek,Female,yellow / blue,,Black,173.0,Marvel Comics,,good,52.0\\n595,Shrinking Violet,Female,,,,,DC Comics,,good,\\n596,Sif,Fmale,blue,Asgardian,Black,188.0,Marvel Comics,,good,191.0\\n597,Silk,Female,brown,Human,Black,,Marvel Comics,,good,\\n598,Silk Spectre,Female,,,,,DC Comics,,good,\\n599,Silk Spectre II,Female,,,,,DC Comics,,good,\\n600,Silver Surfer,Male,white,Alien,No Hair,193.0,Marvel Comics,silver,good,101.0\\n601,Silverclaw,Female,brown,,Black,157.0,Marvel Comics,,good,50.0\\n602,Simon Baz,Male,brown,Human,Black,,DC Comics,,good,\\n603,Sinestro,Male,black,Korugaran,Black,201.0,DC Comics,red,neutral,92.0\\n604,Siren,Fmale,blue,Atlantean,Purple,175.0,DC Comics,,bad,72.0\\n605,Siren II,Female,black,,,,DC Comics,,bad,\\n606,Siryn,Female,blue,,Strawberry Blond,168.0,Marvel Comics,,bad,52.0\\n607,Skaar,Male,green,,Black,198.0,Marvel Comics,,good,180.0\\n608,Snake-Eyes,Male,,Animal,,,Marvel Comics,,bad,\\n609,Snowbird,Female,white,,Blond,178.0,Marvel Comics,,good,49.0\\n610,Sobek,Male,white,,No Hair,,DC Comics,,good,\\n611,Solomon Grundy,Male,black,Zombie,White,279.0,DC Comics,,bad,437.0\\n612,Songbird,Fmale,green,,Red / White,165.0,Marvel Comics,,good,65.0\\n613,Space Ghost,Male,,Human,,188.0,DC Comics,,good,113.0\\n614,Spawn,Male,brown,Demon,Black,211.0,Image Comics,,good,405.0\\n615,Spectre,Male,white,God / Eternal,No Hair,,DC Comics,white,good,\\n616,Speedball,Male,,,,,Marvel Comics,,good,\\n617,Speedy,Male,,Human,,,DC Comics,,good,\\n618,Speedy,Female,green,Human,Brown,,DC Comics,,good,\\n619,Spider-Carnage,Male,,Symbiote,,,Marvel Comics,,bad,\\n620,Spider-Girl,Fmale,blue,Human,Brown,170.0,Marvel Comics,,good,54.0\\n621,Spider-Gwen,Female,blue,Human,Blond,165.0,Marvel Comics,,good,56.0\\n622,Spider-Man,Male,hazel,Human,Brown,178.0,Marvel Comics,,good,74.0\\n623,Spider-Man,,red,Human,Brown,178.0,Marvel Comics,,good,77.0\\n624,Spider-Man,Male,brown,Human,Black,157.0,Marvel Comics,,good,56.0\\n625,Spider-Woman,Female,green,Human,Black,178.0,Marvel Comics,,good,59.0\\n626,Spider-Woman II,Female,,,,,Marvel Comics,,good,\\n627,Spider-Woman III,Female,brown,,Brown,173.0,Marvel Comics,,good,55.0\\n628,Spider-Woman IV,Fmale,red,,White,178.0,Marvel Comics,,bad,58.0\\n629,Spock,Male,brown,Human-Vulcan,Black,185.0,Star Trek,,good,81.0\\n630,Spyke,Male,brown,Mutant,Blond,183.0,Marvel Comics,,good,83.0\\n631,Stacy X,Female,,,,,Marvel Comics,,good,\\n632,Star-Lord,Male,blue,Human-Spartoi,Blond,188.0,Marvel Comics,,good,79.0\\n633,Stardust,Male,,,,,Marvel Comics,,good,\\n634,Starfire,Female,green,Tamaranean,Auburn,193.0,DC Comics,orange,good,71.0\\n635,Stargirl,Female,blue,Human,Blond,165.0,DC Comics,,good,62.0\\n636,Static,Male,brown,Mutant,Black,170.0,DC Comics,,good,63.0\\n637,Steel,Male,brown,,No Hair,201.0,DC Comics,,good,131.0\\n638,Stephanie Powell,Female,,,Blond,,ABC Studios,,good,\\n639,Steppenwolf,Male,red,New God,Black,183.0,DC Comics,white,bad,91.0\\n640,Storm,Fmale,blue,Mutant,White,180.0,Marvel Comics,,good,57.0\\n641,Stormtrooper,Male,,Human,,183.0,George Lucas,,bad,\\n642,Sunspot,Male,brown,Mutant,black,173.0,Marvel Comics,,good,77.0\\n643,Superboy,Male,blue,,Black,170.0,DC Comics,,good,68.0\\n644,Superboy-Prime,Male,blue,Kryptonian,Black / Blue,180.0,DC Comics,,bad,77.0\\n645,Supergirl,Female,blue,Kryptonian,Blond,165.0,DC Comics,,good,54.0\\n646,Superman,Male,blue,Kryptonian,Black,191.0,DC Comics,,good,101.0\\n647,Swamp Thing,Male,red,God / Eternal,No Hair,,DC Comics,green,bad,\\n648,Swarm,Male,yellow,Mutant,No Hair,196.0,Marvel Comics,yellow,bad,47.0\\n649,Sylar,Male,,,,,NBC - Heroes,,bad,\\n650,Synch,Male,brown,,Black,180.0,Marvel Comics,,good,74.0\\n651,T-1000,Male,,Android,,183.0,Dark Horse Comics,silver,bad,146.0\\n652,T-800,Male,red,Cyborg,,,Dark Horse Comics,,bad,176.0\\n653,T-850,Male,red,Cyborg,,,Dark Horse Comics,,bad,198.0\\n654,T-X,Female,,Cyborg,,,Dark Horse Comics,silver,bad,149.0\\n655,Taskmaster,Male,brown,Human,Brown,188.0,Marvel Comics,,bad,99.0\\n656,Tempest,Fmale,brown,,Black,163.0,Marvel Comics,,good,54.0\\n657,Thanos,Male,red,Eternal,No Hair,201.0,Marvel Comics,purple,bad,443.0\\n658,The Cape,Male,,,,,,,good,\\n659,The Comedian,Male,brown,Human,Black,188.0,DC Comics,,neutral,101.0\\n660,Thing,Male,blue,Human / Radiation,No Hair,183.0,Marvel Comics,,good,225.0\\n661,Thor,Male,blue,Asgardian,Blond,198.0,Marvel Comics,,good,288.0\\n662,Thor Girl,Female,blue,Asgardian,Blond,175.0,Marvel Comics,,good,143.0\\n663,Thunderbird,Male,brown,,Black,185.0,Marvel Comics,,good,101.0\\n664,Thunderbird II,Male,,,,,Marvel Comics,,good,\\n665,Thunderbird III,Male,brown,,Black,175.0,Marvel Comics,,good,74.0\\n666,Thunderstrike,Male,blue,,Blond,198.0,Marvel Comics,,good,288.0\\n667,Thundra,Female,green,,Red,218.0,Marvel Comics,,good,158.0\\n668,Tiger Shark,Male,grey,Human,No Hair,185.0,Marvel Comics,grey,bad,203.0\\n669,Tigra,Female,green,,Auburn,178.0,Marvel Comics,,good,81.0\\n670,Tinkerer,Male,brown,,White,163.0,Marvel Comics,,bad,54.0\\n671,Titan,Male,,,,,HarperCollins,,good,\\n672,Toad,Male,black,Mutant,Brown,175.0,Marvel Comics,green,neutral,76.0\\n673,Toxin,Male,blue,Symbiote,Brown,188.0,Marvel Comics,,good,97.0\\n674,Toxin,Male,black,Symbiote,Blond,191.0,Marvel Comics,,good,117.0\\n675,Tracy Strauss,Female,,,,,NBC - Heroes,,good,\\n676,Trickster,Male,blue,Human,Blond,183.0,DC Comics,,,81.0\\n677,Trigon,Male,yellow,God / Eternal,Black,,DC Comics,red,bad,\\n678,Triplicate Girl,Female,purple,,Brown,168.0,DC Comics,,good,59.0\\n679,Triton,Male,green,Inhuman,No Hair,188.0,Marvel Comics,green,good,86.0\\n680,Two-Face,Male,,,,183.0,DC Comics,,bad,82.0\\n681,Ultragirl,Female,blue,,Blond,168.0,Marvel Comics,,good,105.0\\n682,Ultron,Male,red,Android,,206.0,Marvel Comics,silver,bad,331.0\\n683,Utgard-Loki,Male,blue,Frost Giant,White,15.2,Marvel Comics,,bad,58.0\\n684,Vagabond,Fmale,blue,,Strawberry Blond,168.0,Marvel Comics,,good,54.0\\n685,Valerie Hart,Female,hazel,,Black,175.0,Team Epic TV,,good,56.0\\n686,Valkyrie,Female,blue,,Blond,191.0,Marvel Comics,,good,214.0\\n687,Vanisher,Male,green,,No Hair,165.0,Marvel Comics,,bad,79.0\\n688,Vegeta,Male,,Saiyan,Black,168.0,Shueisha,,bad,73.0\\n689,Venom,Male,blue,Symbiote,Strawberry Blond,191.0,Marvel Comics,,bad,117.0\\n690,Venom II,Male,brown,,Black,175.0,Marvel Comics,,bad,50.0\\n691,Venom III,Male,brown,Symbiote,Brown,229.0,Marvel Comics,,bad,334.0\\n692,Venompool,Male,,Symbiote,,226.0,Marvel Comics,,,\\n693,Vertigo II,Female,blue,,Silver,168.0,Marvel Comics,,good,52.0\\n694,Vibe,Male,brown,Human,Black,178.0,DC Comics,,good,71.0\\n695,Vindicator,Female,green,Human,Red,165.0,Marvel Comics,,good,54.0\\n696,Vindicator,Male,,,,,Marvel Comics,,good,\\n697,Violator,Male,,,,,Image Comics,,bad,\\n698,Violet Parr,Female,violet,Human,Black,137.0,Dark Horse Comics,,good,41.0\\n699,Vision,Male,gold,Android,No Hair,191.0,Marvel Comics,red,good,135.0\\n700,Vision II,,red,,No Hair,191.0,Marvel Comics,,good,135.0\\n701,Vixen,Female,amber,Human,Black,175.0,DC Comics,,good,63.0\\n702,Vulcan,Male,black,,Black,,Marvel Comics,,good,\\n703,Vulture,Male,brown,Human,No Hair,180.0,Marvel Comics,,bad,79.0\\n704,Walrus,Male,blue,Human,Black,183.0,Marvel Comics,,bad,162.0\\n705,War Machine,Male,brown,Human,Brown,185.0,Marvel Comics,,good,95.0\\n706,Warbird,Female,blue,,Blond,180.0,Marvel Comics,,good,54.0\\n707,Warlock,Male,red,,Blond,188.0,Marvel Comics,,good,108.0\\n708,Warp,Male,brown,,Black,173.0,DC Comics,,bad,67.0\\n709,Warpath,Male,brown,Mutant,Black,218.0,Marvel Comics,,good,158.0\\n710,Wasp,Female,blue,Human,Auburn,163.0,Marvel Comics,,good,50.0\\n711,Watcher,Male,,,,,Marvel Comics,,good,\\n712,Weapon XI,Male,,,,,Marvel Comics,,bad,\\n713,White Canary,Female,brown,Human,Black,,DC Comics,,bad,\\n714,White Queen,Female,blue,,Blond,178.0,Marvel Comics,,good,65.0\\n715,Wildfire,Male,,,,,DC Comics,,good,\\n716,Winter Soldier,Male,brown,Human,Brown,175.0,Marvel Comics,,good,117.0\\n717,Wiz Kid,,brown,,Black,140.0,Marvel Comics,,good,39.0\\n718,Wolfsbane,Female,green,,Auburn,366.0,Marvel Comics,,good,473.0\\n719,Wolverine,Male,blue,Mutant,Black,160.0,Marvel Comics,,good,135.0\\n720,Wonder Girl,Fmale,blue,Demi-God,Blond,165.0,DC Comics,,good,51.0\\n721,Wonder Man,Male,red,,Black,188.0,Marvel Comics,,good,171.0\\n722,Wonder Woman,Female,blue,Amazon,Black,183.0,DC Comics,,good,74.0\\n723,Wondra,Female,,,,,Marvel Comics,,good,\\n724,Wyatt Wingfoot,Male,brown,,Black,196.0,Marvel Comics,,good,117.0\\n725,X-23,Female,green,Mutant / Clone,Black,155.0,Marvel Comics,,good,50.0\\n726,X-Man,Male,blue,,Brown,175.0,Marvel Comics,,good,61.0\\n727,Yellow Claw,Male,blue,,No Hair,188.0,Marvel Comics,,bad,95.0\\n728,Yellowjacket,Male,blue,Human,Blond,183.0,Marvel Comics,,good,83.0\\n729,Yellowjacket II,Female,blue,Human,Strawberry Blond,165.0,Marvel Comics,,good,52.0\\n730,Ymir,Male,white,Frost Giant,No Hair,304.8,Marvel Comics,white,good,\\n731,Yoda,Male,brown,Yoda's species,White,66.0,George Lucas,green,good,17.0\\n732,Zatanna,Fmale,blue,Human,Black,170.0,DC Comics,,good,57.0\\n733,Zoom,Male,red,,Brown,185.0,DC Comics,,bad,81.0\\n\""
   ]
  },
  {
   "cell_type": "code",
   "execution_count": 27,
   "metadata": {},
   "outputs": [
    {
     "data": {
      "text/html": [
       "<div>\n",
       "<style scoped>\n",
       "    .dataframe tbody tr th:only-of-type {\n",
       "        vertical-align: middle;\n",
       "    }\n",
       "\n",
       "    .dataframe tbody tr th {\n",
       "        vertical-align: top;\n",
       "    }\n",
       "\n",
       "    .dataframe thead th {\n",
       "        text-align: right;\n",
       "    }\n",
       "</style>\n",
       "<table border=\"1\" class=\"dataframe\">\n",
       "  <thead>\n",
       "    <tr style=\"text-align: right;\">\n",
       "      <th></th>\n",
       "      <th>name</th>\n",
       "      <th>Gender</th>\n",
       "      <th>Eye color</th>\n",
       "      <th>Race</th>\n",
       "      <th>Hair color</th>\n",
       "      <th>Height</th>\n",
       "      <th>Publisher</th>\n",
       "      <th>Skin color</th>\n",
       "      <th>Alignment</th>\n",
       "      <th>Weight</th>\n",
       "    </tr>\n",
       "  </thead>\n",
       "  <tbody>\n",
       "    <tr>\n",
       "      <th>0</th>\n",
       "      <td>A-Bomb</td>\n",
       "      <td>Male</td>\n",
       "      <td>yellow</td>\n",
       "      <td>Human</td>\n",
       "      <td>No Hair</td>\n",
       "      <td>203.0</td>\n",
       "      <td>Marvel Comics</td>\n",
       "      <td>NaN</td>\n",
       "      <td>good</td>\n",
       "      <td>441.0</td>\n",
       "    </tr>\n",
       "    <tr>\n",
       "      <th>1</th>\n",
       "      <td>Abe Sapien</td>\n",
       "      <td>Male</td>\n",
       "      <td>blue</td>\n",
       "      <td>Icthyo Sapien</td>\n",
       "      <td>No Hair</td>\n",
       "      <td>191.0</td>\n",
       "      <td>Dark Horse Comics</td>\n",
       "      <td>blue</td>\n",
       "      <td>good</td>\n",
       "      <td>65.0</td>\n",
       "    </tr>\n",
       "    <tr>\n",
       "      <th>2</th>\n",
       "      <td>Abin Sur</td>\n",
       "      <td>Male</td>\n",
       "      <td>blue</td>\n",
       "      <td>Ungaran</td>\n",
       "      <td>No Hair</td>\n",
       "      <td>185.0</td>\n",
       "      <td>DC Comics</td>\n",
       "      <td>red</td>\n",
       "      <td>good</td>\n",
       "      <td>90.0</td>\n",
       "    </tr>\n",
       "    <tr>\n",
       "      <th>3</th>\n",
       "      <td>Abomination</td>\n",
       "      <td>Male</td>\n",
       "      <td>green</td>\n",
       "      <td>Human / Radiation</td>\n",
       "      <td>No Hair</td>\n",
       "      <td>203.0</td>\n",
       "      <td>Marvel Comics</td>\n",
       "      <td>NaN</td>\n",
       "      <td>bad</td>\n",
       "      <td>441.0</td>\n",
       "    </tr>\n",
       "    <tr>\n",
       "      <th>4</th>\n",
       "      <td>Abraxas</td>\n",
       "      <td>Male</td>\n",
       "      <td>blue</td>\n",
       "      <td>Cosmic Entity</td>\n",
       "      <td>Black</td>\n",
       "      <td>NaN</td>\n",
       "      <td>Marvel Comics</td>\n",
       "      <td>NaN</td>\n",
       "      <td>bad</td>\n",
       "      <td>NaN</td>\n",
       "    </tr>\n",
       "  </tbody>\n",
       "</table>\n",
       "</div>"
      ],
      "text/plain": [
       "          name Gender Eye color               Race Hair color  Height  \\\n",
       "0       A-Bomb   Male    yellow              Human    No Hair   203.0   \n",
       "1   Abe Sapien   Male      blue      Icthyo Sapien    No Hair   191.0   \n",
       "2     Abin Sur   Male      blue            Ungaran    No Hair   185.0   \n",
       "3  Abomination   Male     green  Human / Radiation    No Hair   203.0   \n",
       "4      Abraxas   Male      blue      Cosmic Entity      Black     NaN   \n",
       "\n",
       "           Publisher Skin color Alignment  Weight  \n",
       "0      Marvel Comics        NaN      good   441.0  \n",
       "1  Dark Horse Comics       blue      good    65.0  \n",
       "2          DC Comics        red      good    90.0  \n",
       "3      Marvel Comics        NaN       bad   441.0  \n",
       "4      Marvel Comics        NaN       bad     NaN  "
      ]
     },
     "execution_count": 27,
     "metadata": {},
     "output_type": "execute_result"
    }
   ],
   "source": [
    "import pandas as pd\n",
    "from io import StringIO\n",
    "\n",
    "heroes = pd.read_csv(StringIO(heroes_str), index_col=0)\n",
    "heroes.head()"
   ]
  },
  {
   "cell_type": "code",
   "execution_count": 29,
   "metadata": {},
   "outputs": [
    {
     "name": "stdout",
     "output_type": "stream",
     "text": [
      "black               161\n",
      "blond               102\n",
      "brown                87\n",
      "no hair              75\n",
      "red                  51\n",
      "white                23\n",
      "auburn               13\n",
      "green                 8\n",
      "strawberry blond      7\n",
      "purple                5\n",
      "grey                  5\n",
      "silver                4\n",
      "brown / white         4\n",
      "blue                  3\n",
      "yellow                2\n",
      "orange                2\n",
      "red / orange          1\n",
      "gold                  1\n",
      "black / blue          1\n",
      "red / white           1\n",
      "indigo                1\n",
      "brown / black         1\n",
      "orange / white        1\n",
      "magenta               1\n",
      "pink                  1\n",
      "red / grey            1\n",
      "Name: Hair color, dtype: int64\n",
      "Male      505\n",
      "Female    200\n",
      "Name: Gender, dtype: int64\n"
     ]
    }
   ],
   "source": [
    "# Make all the values in the 'Hair color' column lowercased\n",
    "heroes['Hair color'] = heroes['Hair color'].str.lower()\n",
    "  \n",
    "# Check the values in the 'Hair color' column\n",
    "print(heroes['Hair color'].value_counts())\n",
    "\n",
    "# Substitute 'Fmale' with 'Female' in the 'Gender' column\n",
    "heroes['Gender'] = heroes['Gender'].str.replace('Fmale', 'Female')\n",
    "\n",
    "# Check if there is no occurences of 'Fmale'\n",
    "print(heroes['Gender'].value_counts())"
   ]
  },
  {
   "cell_type": "code",
   "execution_count": 31,
   "metadata": {},
   "outputs": [],
   "source": [
    "import re\n",
    "\n",
    "text =  \"Let's consider the following temperatures using the Celsius scale: +23 C, 0 C, -20.0 C, -2.2 C, -5.65 C, 0.0001 C. To convert them to the Fahrenheit scale you have to multiply the number by 9/5 and add 32 to the result. Therefore, the corresponding temperatures in the Fahrenheit scale will be: +73.4 F, 32 F, -4.0 F, +28.04 F, 21.83 F, +32.00018 F.\""
   ]
  },
  {
   "cell_type": "code",
   "execution_count": 33,
   "metadata": {},
   "outputs": [
    {
     "name": "stdout",
     "output_type": "stream",
     "text": [
      "['+23 C', '0 C', '-20.0 C', '-2.2 C', '-5.65 C', '0.0001 C', '+73.4 F', '32 F', '-4.0 F', '+28.04 F', '21.83 F', '+32.00018 F']\n"
     ]
    }
   ],
   "source": [
    "# Define a pattern to search for valid temperatures in text\n",
    "pattern = re.compile('[+-]?[0-9.]+ [CF]')\n",
    "\n",
    "# Print the temperatures out\n",
    "print(re.findall(pattern, text))"
   ]
  },
  {
   "cell_type": "code",
   "execution_count": 36,
   "metadata": {},
   "outputs": [
    {
     "name": "stdout",
     "output_type": "stream",
     "text": [
      "['+23 C', '0 C', '-20.0 C', '-2.2 C', '-5.65 C', '0.0001 C', '+73.4 F', '32 F', '-4.0 F', '+28.04 F', '21.83 F', '+32.00018 F']\n",
      "matching sequence = +23 C\n",
      "start index = 67\n",
      "end index = 72\n",
      "matching sequence = 0 C\n",
      "start index = 74\n",
      "end index = 77\n",
      "matching sequence = -20.0 C\n",
      "start index = 79\n",
      "end index = 86\n",
      "matching sequence = -2.2 C\n",
      "start index = 88\n",
      "end index = 94\n",
      "matching sequence = -5.65 C\n",
      "start index = 96\n",
      "end index = 103\n",
      "matching sequence = 0.0001 C\n",
      "start index = 105\n",
      "end index = 113\n",
      "matching sequence = +73.4 F\n",
      "start index = 295\n",
      "end index = 302\n",
      "matching sequence = 32 F\n",
      "start index = 304\n",
      "end index = 308\n",
      "matching sequence = -4.0 F\n",
      "start index = 310\n",
      "end index = 316\n",
      "matching sequence = +28.04 F\n",
      "start index = 318\n",
      "end index = 326\n",
      "matching sequence = 21.83 F\n",
      "start index = 328\n",
      "end index = 335\n",
      "matching sequence = +32.00018 F\n",
      "start index = 337\n",
      "end index = 348\n"
     ]
    }
   ],
   "source": [
    "# Define the pattern to search for valid temperatures\n",
    "pattern = re.compile(r'[+-]?\\d+\\.?\\d* [CF]')\n",
    "\n",
    "# Print the temperatures out\n",
    "print(re.findall(pattern, text))\n",
    "\n",
    "# Create an object storing the matches using 'finditer()'\n",
    "matches_storage = re.finditer(pattern, text)\n",
    " \n",
    "# Loop over matches_storage and print out item properties\n",
    "for match in matches_storage:\n",
    "    print('matching sequence = ' + match.group())\n",
    "    print('start index = ' + str(match.start()))\n",
    "    print('end index = ' + str(match.end()))"
   ]
  },
  {
   "cell_type": "code",
   "execution_count": 37,
   "metadata": {},
   "outputs": [],
   "source": [
    "movies = ['1984, 1984, Michael Radford',\n",
    " 'The Good, the Bad and the Ugly, 1966, Sergio Leone',\n",
    " 'Terminator 2: Judgment Day, 1991, James Cameron',\n",
    " \"Harry Potter and the Philosopher's Stone, 2001, Chris Columbus\",\n",
    " 'Back to the Future, 1985, Robert Zemeckis',\n",
    " 'No Country for Old Men, 2007, Joel Coen, Ethan Coen']"
   ]
  },
  {
   "cell_type": "code",
   "execution_count": null,
   "metadata": {},
   "outputs": [],
   "source": [
    "# Compile a regular expression\n",
    "pattern = re.compile(', [0-9]+, ')\n",
    "\n",
    "movies_without_year = []\n",
    "for movie in movies:\n",
    "    # Retrieve a movie name and its director\n",
    "    split_result = re.split(pattern, movie)\n",
    "    # Create a new string with a movie name and its director\n",
    "    movie_and_director = ', '.split_result\n",
    "    # Append the resulting string to movies_without_year\n",
    "    movies_without_year.append()\n",
    "    \n",
    "for movie in movies_without_year:\n",
    "    print(movie)"
   ]
  }
 ],
 "metadata": {
  "kernelspec": {
   "display_name": "Python 3",
   "language": "python",
   "name": "python3"
  },
  "language_info": {
   "codemirror_mode": {
    "name": "ipython",
    "version": 3
   },
   "file_extension": ".py",
   "mimetype": "text/x-python",
   "name": "python",
   "nbconvert_exporter": "python",
   "pygments_lexer": "ipython3",
   "version": "3.6.9"
  }
 },
 "nbformat": 4,
 "nbformat_minor": 2
}
