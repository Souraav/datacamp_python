{
 "cells": [
  {
   "cell_type": "markdown",
   "metadata": {
    "toc": true
   },
   "source": [
    "<h1>Table of Contents<span class=\"tocSkip\"></span></h1>\n",
    "<div class=\"toc\"><ul class=\"toc-item\"></ul></div>"
   ]
  },
  {
   "cell_type": "markdown",
   "metadata": {},
   "source": [
    "# Chapter 1"
   ]
  },
  {
   "cell_type": "code",
   "execution_count": 12,
   "metadata": {
    "ExecuteTime": {
     "end_time": "2020-01-02T16:40:16.908373Z",
     "start_time": "2020-01-02T16:40:13.216523Z"
    }
   },
   "outputs": [],
   "source": [
    "import numpy as np\n",
    "import matplotlib.pyplot as plt\n",
    "import pandas as pd\n",
    "from urllib.request import urlretrieve\n",
    "from io import StringIO"
   ]
  },
  {
   "cell_type": "code",
   "execution_count": 1,
   "metadata": {
    "ExecuteTime": {
     "end_time": "2020-01-02T16:26:16.205950Z",
     "start_time": "2020-01-02T16:26:16.198731Z"
    }
   },
   "outputs": [],
   "source": [
    "# Add a docstring to count_letter()\n",
    "def count_letter(content, letter):\n",
    "  \"\"\"\n",
    "  Count the number of times `letter` appears in `content`.\n",
    "  \"\"\"\n",
    "  if (not isinstance(letter, str)) or len(letter) != 1:\n",
    "    raise ValueError('`letter` must be a single character string.')\n",
    "  return len([char for char in content if char == letter])"
   ]
  },
  {
   "cell_type": "code",
   "execution_count": 2,
   "metadata": {
    "ExecuteTime": {
     "end_time": "2020-01-02T16:28:39.261657Z",
     "start_time": "2020-01-02T16:28:39.247611Z"
    }
   },
   "outputs": [],
   "source": [
    "def count_letter(content, letter):\n",
    "  \"\"\"Count the number of times `letter` appears in `content`.\n",
    "\n",
    "  # Add a Google style arguments section\n",
    "  Args:\n",
    "    content (str): The string to search.\n",
    "    letter (char): The letter to search for.\n",
    "  \"\"\"\n",
    "  if (not isinstance(letter, str)) or len(letter) != 1:\n",
    "    raise ValueError('`letter` must be a single character string.')\n",
    "  return len([char for char in content if char == letter])"
   ]
  },
  {
   "cell_type": "code",
   "execution_count": 5,
   "metadata": {
    "ExecuteTime": {
     "end_time": "2020-01-02T16:30:07.804234Z",
     "start_time": "2020-01-02T16:30:07.796741Z"
    }
   },
   "outputs": [],
   "source": [
    "def count_letter(content, letter):\n",
    "  \"\"\"Count the number of times `letter` appears in `content`.\n",
    "\n",
    "  Args:\n",
    "    content (str): The string to search.\n",
    "    letter (str): The letter to search for.\n",
    "\n",
    "  # Add a returns section\n",
    "  Returns:\n",
    "    int\n",
    "  \"\"\"\n",
    "  if (not isinstance(letter, str)) or len(letter) != 1:\n",
    "    raise ValueError('\"letter\" must be a single character string.')\n",
    "  return len([char for char in content if char == letter])"
   ]
  },
  {
   "cell_type": "code",
   "execution_count": 6,
   "metadata": {
    "ExecuteTime": {
     "end_time": "2020-01-02T16:30:08.284338Z",
     "start_time": "2020-01-02T16:30:08.275201Z"
    }
   },
   "outputs": [],
   "source": [
    "def count_letter(content, letter):\n",
    "  \"\"\"Count the number of times `letter` appears in `content`.\n",
    "\n",
    "  Args:\n",
    "    content (str): The string to search.\n",
    "    letter (str): The letter to search for.\n",
    "\n",
    "  Returns:\n",
    "    int\n",
    "\n",
    "  # Add a section detailing what errors might be raised\n",
    "  Raises:\n",
    "    ValueError: If `letter` is not a one-character string.\n",
    "  \"\"\"\n",
    "  if (not isinstance(letter, str)) or len(letter) != 1:\n",
    "    raise ValueError('`letter` must be a single character string.')\n",
    "  return len([char for char in content if char == letter])"
   ]
  },
  {
   "cell_type": "code",
   "execution_count": 7,
   "metadata": {
    "ExecuteTime": {
     "end_time": "2020-01-02T16:30:50.364213Z",
     "start_time": "2020-01-02T16:30:50.355554Z"
    }
   },
   "outputs": [
    {
     "name": "stdout",
     "output_type": "stream",
     "text": [
      "############################\n",
      "Count the number of times `letter` appears in `content`.\n",
      "\n",
      "  Args:\n",
      "    content (str): The string to search.\n",
      "    letter (str): The letter to search for.\n",
      "\n",
      "  Returns:\n",
      "    int\n",
      "\n",
      "  # Add a section detailing what errors might be raised\n",
      "  Raises:\n",
      "    ValueError: If `letter` is not a one-character string.\n",
      "  \n",
      "############################\n"
     ]
    }
   ],
   "source": [
    "# Get the docstring with an attribute of count_letter()\n",
    "docstring = count_letter.__doc__\n",
    "\n",
    "border = '#' * 28\n",
    "print('{}\\n{}\\n{}'.format(border, docstring, border))"
   ]
  },
  {
   "cell_type": "code",
   "execution_count": 9,
   "metadata": {
    "ExecuteTime": {
     "end_time": "2020-01-02T16:31:36.098974Z",
     "start_time": "2020-01-02T16:31:36.085716Z"
    }
   },
   "outputs": [
    {
     "name": "stdout",
     "output_type": "stream",
     "text": [
      "############################\n",
      "Count the number of times `letter` appears in `content`.\n",
      "\n",
      "Args:\n",
      "  content (str): The string to search.\n",
      "  letter (str): The letter to search for.\n",
      "\n",
      "Returns:\n",
      "  int\n",
      "\n",
      "# Add a section detailing what errors might be raised\n",
      "Raises:\n",
      "  ValueError: If `letter` is not a one-character string.\n",
      "############################\n"
     ]
    }
   ],
   "source": [
    "import inspect\n",
    "\n",
    "# Get the docstring with a function from the inspect module\n",
    "docstring = inspect.getdoc(count_letter)\n",
    "\n",
    "border = '#' * 28\n",
    "print('{}\\n{}\\n{}'.format(border, docstring, border))"
   ]
  },
  {
   "cell_type": "code",
   "execution_count": 10,
   "metadata": {
    "ExecuteTime": {
     "end_time": "2020-01-02T16:32:03.465748Z",
     "start_time": "2020-01-02T16:32:03.451369Z"
    }
   },
   "outputs": [
    {
     "name": "stdout",
     "output_type": "stream",
     "text": [
      "############################\n",
      "Count the number of times `letter` appears in `content`.\n",
      "\n",
      "Args:\n",
      "  content (str): The string to search.\n",
      "  letter (str): The letter to search for.\n",
      "\n",
      "Returns:\n",
      "  int\n",
      "\n",
      "# Add a section detailing what errors might be raised\n",
      "Raises:\n",
      "  ValueError: If `letter` is not a one-character string.\n",
      "############################\n",
      "############################\n",
      "range(stop) -> range object\n",
      "range(start, stop[, step]) -> range object\n",
      "\n",
      "Return an object that produces a sequence of integers from start (inclusive)\n",
      "to stop (exclusive) by step.  range(i, j) produces i, i+1, i+2, ..., j-1.\n",
      "start defaults to 0, and stop is omitted!  range(4) produces 0, 1, 2, 3.\n",
      "These are exactly the valid indices for a list of 4 elements.\n",
      "When step is given, it specifies the increment (or decrement).\n",
      "############################\n",
      "############################\n",
      "print(value, ..., sep=' ', end='\\n', file=sys.stdout, flush=False)\n",
      "\n",
      "Prints the values to a stream, or to sys.stdout by default.\n",
      "Optional keyword arguments:\n",
      "file:  a file-like object (stream); defaults to the current sys.stdout.\n",
      "sep:   string inserted between values, default a space.\n",
      "end:   string appended after the last value, default a newline.\n",
      "flush: whether to forcibly flush the stream.\n",
      "############################\n"
     ]
    }
   ],
   "source": [
    "def build_tooltip(function):\n",
    "  \"\"\"Create a tooltip for any function that shows the \n",
    "  function's docstring.\n",
    "  \n",
    "  Args:\n",
    "    function (callable): The function we want a tooltip for.\n",
    "    \n",
    "  Returns:\n",
    "    str\n",
    "  \"\"\"\n",
    "  # Use 'inspect' to get the docstring\n",
    "  docstring = inspect.getdoc(function)\n",
    "  border = '#' * 28\n",
    "  return '{}\\n{}\\n{}'.format(border, docstring, border)\n",
    "\n",
    "print(build_tooltip(count_letter))\n",
    "print(build_tooltip(range))\n",
    "print(build_tooltip(print))"
   ]
  },
  {
   "cell_type": "code",
   "execution_count": 14,
   "metadata": {
    "ExecuteTime": {
     "end_time": "2020-01-02T16:40:47.041553Z",
     "start_time": "2020-01-02T16:40:47.011513Z"
    },
    "scrolled": true
   },
   "outputs": [
    {
     "name": "stdout",
     "output_type": "stream",
     "text": [
      "<class 'pandas.core.frame.DataFrame'>\n",
      "Int64Index: 100 entries, 0 to 99\n",
      "Data columns (total 4 columns):\n",
      "y1_gpa    100 non-null float64\n",
      "y2_gpa    100 non-null float64\n",
      "y3_gpa    100 non-null float64\n",
      "y4_gpa    100 non-null float64\n",
      "dtypes: float64(4)\n",
      "memory usage: 3.9 KB\n"
     ]
    }
   ],
   "source": [
    "df_str = ',y1_gpa,y2_gpa,y3_gpa,y4_gpa\\n0,2.7858767423914466,2.0525126167960086,2.170543703154024,0.06556992350372548\\n1,1.1445573398015179,2.6664982006562865,0.2670977729000188,2.884737464202427\\n2,0.9074058142568124,0.4236339402272553,2.6134594854121627,0.03095005650361582\\n3,2.205259076331565,0.523579802656323,3.9843453094713017,0.3392891097809345\\n4,2.8778758791422523,1.2879224258732322,3.077589348295849,0.9019936418000944\\n5,1.6924258404978438,2.646257346664975,2.295096454635298,3.5004981354928986\\n6,3.923056793538462,3.3860249010828882,0.41054103684318344,1.4543052719504534\\n7,2.739318954339453,2.2130293791868536,2.799336299091659,2.159839740850234\\n8,1.9237276059374437,3.417809950098019,2.6446714693117244,2.2724128552759137\\n9,1.568470072776602,1.5393512451030444,0.19638852249110528,0.9018534412238397\\n10,1.3727120646034776,1.267151588473519,3.1691972073783625,2.2885870719378447\\n11,2.9161988295361665,1.417058702366714,2.0748663635620206,2.643807180118413\\n12,1.7542889787184976,0.6843273168203963,1.7034707767996764,1.1929815732693179\\n13,0.2387115864382734,3.3164505380075617,3.152748694405862,1.6745074359201038\\n14,1.5921770213217257,1.3546833836573065,1.6462768928353486,1.8123556981845201\\n15,2.951981622928143,2.2094803011762925,1.9241051020206141,3.7294026461683263\\n16,0.7299669218139999,2.314205872435332,0.7265153706952985,2.34997498991801\\n17,0.7018070245899701,2.086132237589329,1.2852755980257147,3.793009486472565\\n18,2.1262054953673535,0.010752258297282768,3.382131986250275,2.2241390150605875\\n19,2.1273103483874642,3.95338167713128,0.7476149957068614,2.0022456833964046\\n20,2.5376038342052842,3.6213663026464396,1.6691642436133765,0.014128843864993357\\n21,3.3977271763111583,0.830543444785298,3.9561380295811976,1.9235561754998485\\n22,2.897821299442541,1.1699576511696992,0.9463992468220774,3.709819994250607\\n23,2.4440940427103315,2.0800406122899338,3.6673293317553157,0.7934627561068766\\n24,2.8897735302808862,3.6076454906426823,3.673589871222532,0.20836453755799544\\n25,1.2918356554127128,3.934523539646893,0.3651853688128073,1.6271155738954741\\n26,1.4471546224892564,1.0301682566163324,1.854610899542064,1.489585922376448\\n27,0.9130529235158225,2.2574361716991267,2.0088653412911484,3.4286122314849745\\n28,1.1748561855553175,3.2278747365487166,1.2546758002085099,0.10644446223983817\\n29,2.523904495417951,1.5774802158110992,0.18935814895094794,3.6805969190360197\\n30,0.3684197597803007,2.9242921433782283,0.9667425489815913,2.7236119959798257\\n31,1.734804690718113,0.6442760577168594,0.3821185662214437,3.6169039762568707\\n32,1.7234510533185752,2.4027942713343595,0.9529996228496471,2.430116283282555\\n33,1.9747403906012249,3.4634578332130586,3.2311643451606242,3.2478132497444974\\n34,1.703321161183312,3.9340864368142223,3.5799131515440465,1.3421754941571447\\n35,1.2490448918898611,0.3174631615120629,0.1728915683185872,1.398264912110239\\n36,1.7054052278512328,1.713389098803797,1.207787345050876,1.5594969213131695\\n37,3.573556652468539,0.8181714381857108,3.9223287943771505,3.019188326291133\\n38,3.7766400728155185,1.8025459620749391,2.1580192902149413,1.4771646977145911\\n39,2.0073467035373462,2.191054290515416,2.505237446839425,0.9688792259690691\\n40,2.4958118071684448,0.37330684147928306,0.022181633627618158,3.750673427162383\\n41,0.4624735803171829,1.1874431019227178,1.939637773770237,3.6320443346521603\\n42,1.2691419272812836,3.71033696060859,3.95331413848955,1.3951892643479642\\n43,1.6593048478145271,2.2760149257207813,1.5007421099311924,2.538552281032189\\n44,3.4652366315334637,1.8296479900944478,0.3881526345554449,1.095368846612303\\n45,1.0018214615860268,3.014103963192458,1.8476350462737936,0.8244605148542763\\n46,1.9321370570508174,2.967448607368149,3.852017863969033,1.3453581159871777\\n47,3.94223914244282,0.19431613137707515,1.3673224542600657,1.3083995704620048\\n48,2.0779404770392373,2.834789581770984,3.1956909328600527,3.529104404786465\\n49,2.4515781030518706,3.3569733912203343,3.1953853248522477,3.2892152588949015\\n50,0.48251466396129494,0.6637515368278155,0.8329931869557465,2.8384929142363915\\n51,3.305363202027333,3.1239917519998293,1.773470807204847,3.8373809010355875\\n52,2.4122405136437095,1.1461464669164076,2.8624051006172193,1.6901734124322325\\n53,2.1802720258658597,1.2258790133182291,1.6420791416557114,0.980132154222705\\n54,1.3710553350972337,2.661045861398732,0.7640278214816845,0.46959374876595694\\n55,1.2164831561087364,0.445568686430863,3.869977227225674,1.2042134328047993\\n56,1.6680888440988064,2.6594897952131773,2.6030014659051735,0.5810549358818151\\n57,2.7252030631711865,3.5514271707048906,3.4618394060915976,0.3687443894734801\\n58,3.5018273671806996,2.7852450729416254,0.10096943119857471,2.411728786827693\\n59,2.0416893499120445,1.7613115066616363,1.067623259164539,1.4567497990257876\\n60,2.677255131849089,1.7528575375088988,2.0082844013069714,2.2582813703845743\\n61,2.3437462102488515,3.060384380957226,0.2697945405202069,0.7653428828822264\\n62,2.4996140083823994,2.2625680049035313,3.972133044379167,2.7076234386110425\\n63,2.6987562039512993,0.3396166527672704,0.9458495847921156,0.8620217891026392\\n64,3.369369750481029,2.3306843514456186,1.4971687293817921,1.1120943749761443\\n65,0.3327799533297551,3.2593748115736387,0.856047659633385,2.9670416885795072\\n66,3.054731365773353,1.34826553379044,0.42178346442180326,2.2389515825788475\\n67,0.974665498147496,3.710306318301558,0.9299191424169431,1.339345651468077\\n68,0.7768918423150835,3.0028680013726716,1.2024405420128188,2.1719551301807742\\n69,2.2898278299658923,2.296255300599858,2.5377690715977566,2.77593881143297\\n70,0.38285006644954844,3.0065759551716735,1.124939125811634,3.648528485910516\\n71,3.5413073051005584,0.31659584295282084,1.449107043906305,2.3228528535778157\\n72,2.508995888205075,3.4375563027224456,0.02377137489411929,0.9307455155715236\\n73,2.893665432759819,3.2860164528022318,1.4628765037094582,2.986790523105986\\n74,0.06451682678006732,3.6394866384408355,2.1355439267931784,3.11107607021883\\n75,2.37772751778017,0.51452479003752,0.6480633482021236,0.801605259850616\\n76,2.227140769577155,0.32712034837594084,2.3897324334415,3.282296878711544\\n77,0.635838576578891,0.5536622911263591,1.1726098745087175,1.859739418891306\\n78,0.6122820604990924,1.5975148404112005,2.5282019792069117,3.1190666483557807\\n79,2.7821181150836436,1.6972274443239677,0.1047864210033751,0.9499128799530636\\n80,1.2750657055275054,2.2488735149236225,3.5503738418710995,1.3303210788707056\\n81,2.7678811821272786,0.4889741985300202,0.06447452169349566,3.814788477166611\\n82,2.2175329988710883,0.8055980055254834,0.5078321241438455,2.63126029259922\\n83,1.5558022964925784,3.246577393136086,3.108649846282409,3.091511322006167\\n84,3.7005299584559443,1.8719502962269976,0.1835809288086825,2.7534973728825163\\n85,3.366679987650865,3.2317528379344407,2.84399477438204,0.8172164713937309\\n86,1.429590266732705,0.02970551417845213,3.8841845620405158,1.8827549937861705\\n87,0.1743658551961622,2.206370903929622,3.486731732569229,3.23585549084714\\n88,1.2190722936443898,3.7277285923067125,2.840646605282794,2.7001405076374874\\n89,1.592742727671924,2.3287018365834804,3.834038972086667,0.024111542613191705\\n90,2.819835321805449,0.8243829097810966,1.7192533515463277,0.3496309706112912\\n91,3.9814339281360698,2.8710302491182302,3.4915156572872292,1.3871788808542376\\n92,1.4236594628698382,1.5159433987956707,1.4238306718944584,3.7774621584743606\\n93,3.050191255141735,2.6735357890378393,3.719054611615387,1.964761923898334\\n94,2.3727076662488846,0.11727889157508509,0.5951106249684144,1.080705069721335\\n95,2.7668071948007085,2.5436014374054245,3.760116059713094,1.4416948778148395\\n96,0.6045098093923209,0.128791739751696,3.3308647891328507,0.8426105102162529\\n97,1.5955051709046262,2.979122620567064,3.3842193527858564,1.6848002286800505\\n98,0.9634235908944979,1.8916520089538205,0.49569203969577735,0.8721417581978983\\n99,1.3738240561932997,0.48701742189221475,2.385947593366948,3.383010029211711\\n'\n",
    "df = pd.read_csv(StringIO(df_str), index_col=0)\n",
    "df.info()"
   ]
  },
  {
   "cell_type": "code",
   "execution_count": 16,
   "metadata": {
    "ExecuteTime": {
     "end_time": "2020-01-02T16:42:06.237677Z",
     "start_time": "2020-01-02T16:42:06.144294Z"
    }
   },
   "outputs": [],
   "source": [
    "def standardize(column):\n",
    "  \"\"\"Standardize the values in a column.\n",
    "\n",
    "  Args:\n",
    "    column (pandas Series): The data to standardize.\n",
    "\n",
    "  Returns:\n",
    "    pandas Series: the values as z-scores\n",
    "  \"\"\"\n",
    "  # Finish the function so that it returns the z-scores\n",
    "  z_score = (column - column.mean()) / column.std()\n",
    "  return z_score\n",
    "\n",
    "# Use the standardize() function to calculate the z-scores\n",
    "df['y1_z'] = standardize(df['y1_gpa'])\n",
    "df['y2_z'] = standardize(df['y2_gpa'])\n",
    "df['y3_z'] = standardize(df['y3_gpa'])\n",
    "df['y4_z'] = standardize(df['y4_gpa'])"
   ]
  },
  {
   "cell_type": "code",
   "execution_count": 17,
   "metadata": {
    "ExecuteTime": {
     "end_time": "2020-01-02T16:42:52.653779Z",
     "start_time": "2020-01-02T16:42:52.648598Z"
    }
   },
   "outputs": [],
   "source": [
    "def mean(values):\n",
    "  \"\"\"Get the mean of a list of values\n",
    "\n",
    "  Args:\n",
    "    values (iterable of float): A list of numbers\n",
    "\n",
    "  Returns:\n",
    "    float\n",
    "  \"\"\"\n",
    "  # Write the mean() function\n",
    "  mean = sum(values) / len(values)\n",
    "  return mean"
   ]
  },
  {
   "cell_type": "code",
   "execution_count": 18,
   "metadata": {
    "ExecuteTime": {
     "end_time": "2020-01-02T16:44:04.080112Z",
     "start_time": "2020-01-02T16:44:04.070776Z"
    }
   },
   "outputs": [],
   "source": [
    "def median(values):\n",
    "  \"\"\"Get the median of a list of values\n",
    "\n",
    "  Args:\n",
    "    values (iterable of float): A list of numbers\n",
    "\n",
    "  Returns:\n",
    "    float\n",
    "  \"\"\"\n",
    "  # Write the median() function\n",
    "  midpoint = int(len(values) / 2)\n",
    "  if len(values) % 2 == 0:\n",
    "    median = (values[midpoint - 1] + values[midpoint]) / 2\n",
    "  else:\n",
    "    median = values[midpoint]\n",
    "  return median"
   ]
  },
  {
   "cell_type": "code",
   "execution_count": null,
   "metadata": {},
   "outputs": [],
   "source": [
    "# Use an immutable variable for the default argument \n",
    "def better_add_column(values, df=None):\n",
    "  \"\"\"Add a column of `values` to a DataFrame `df`.\n",
    "  The column will be named \"col_<n>\" where \"n\" is\n",
    "  the numerical index of the column.\n",
    "\n",
    "  Args:\n",
    "    values (iterable): The values of the new column\n",
    "    df (DataFrame, optional): The DataFrame to update.\n",
    "      If no DataFrame is passed, one is created by default.\n",
    "\n",
    "  Returns:\n",
    "    DataFrame\n",
    "  \"\"\"\n",
    "  # Update the function to create a default DataFrame\n",
    "  if df is None:\n",
    "    df = pandas.DataFrame()\n",
    "  df['col_{}'.format(len(df.columns))] = values\n",
    "  return df"
   ]
  }
 ],
 "metadata": {
  "kernelspec": {
   "display_name": "Python 3",
   "language": "python",
   "name": "python3"
  },
  "language_info": {
   "codemirror_mode": {
    "name": "ipython",
    "version": 3
   },
   "file_extension": ".py",
   "mimetype": "text/x-python",
   "name": "python",
   "nbconvert_exporter": "python",
   "pygments_lexer": "ipython3",
   "version": "3.6.9"
  },
  "toc": {
   "base_numbering": 1,
   "nav_menu": {},
   "number_sections": true,
   "sideBar": true,
   "skip_h1_title": true,
   "title_cell": "Table of Contents",
   "title_sidebar": "Contents",
   "toc_cell": true,
   "toc_position": {},
   "toc_section_display": true,
   "toc_window_display": false
  },
  "varInspector": {
   "cols": {
    "lenName": 16,
    "lenType": 16,
    "lenVar": 40
   },
   "kernels_config": {
    "python": {
     "delete_cmd_postfix": "",
     "delete_cmd_prefix": "del ",
     "library": "var_list.py",
     "varRefreshCmd": "print(var_dic_list())"
    },
    "r": {
     "delete_cmd_postfix": ") ",
     "delete_cmd_prefix": "rm(",
     "library": "var_list.r",
     "varRefreshCmd": "cat(var_dic_list()) "
    }
   },
   "types_to_exclude": [
    "module",
    "function",
    "builtin_function_or_method",
    "instance",
    "_Feature"
   ],
   "window_display": false
  }
 },
 "nbformat": 4,
 "nbformat_minor": 2
}
