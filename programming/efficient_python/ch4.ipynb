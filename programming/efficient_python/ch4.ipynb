{
 "cells": [
  {
   "cell_type": "markdown",
   "metadata": {
    "toc": true
   },
   "source": [
    "<h1>Table of Contents<span class=\"tocSkip\"></span></h1>\n",
    "<div class=\"toc\"><ul class=\"toc-item\"></ul></div>"
   ]
  },
  {
   "cell_type": "markdown",
   "metadata": {},
   "source": [
    "# Chapter 4"
   ]
  },
  {
   "cell_type": "code",
   "execution_count": 5,
   "metadata": {
    "ExecuteTime": {
     "end_time": "2020-04-23T20:17:47.246978Z",
     "start_time": "2020-04-23T20:17:47.025622Z"
    }
   },
   "outputs": [
    {
     "name": "stdout",
     "output_type": "stream",
     "text": [
      "<class 'pandas.core.frame.DataFrame'>\n",
      "RangeIndex: 1232 entries, 0 to 1231\n",
      "Data columns (total 15 columns):\n",
      "Team            1232 non-null object\n",
      "League          1232 non-null object\n",
      "Year            1232 non-null int64\n",
      "RS              1232 non-null int64\n",
      "RA              1232 non-null int64\n",
      "W               1232 non-null int64\n",
      "OBP             1232 non-null float64\n",
      "SLG             1232 non-null float64\n",
      "BA              1232 non-null float64\n",
      "Playoffs        1232 non-null int64\n",
      "RankSeason      244 non-null float64\n",
      "RankPlayoffs    244 non-null float64\n",
      "G               1232 non-null int64\n",
      "OOBP            420 non-null float64\n",
      "OSLG            420 non-null float64\n",
      "dtypes: float64(7), int64(6), object(2)\n",
      "memory usage: 144.5+ KB\n"
     ]
    }
   ],
   "source": [
    "import numpy as np\n",
    "import pandas as pd\n",
    "from urllib.request import urlretrieve\n",
    "\n",
    "url = 'https://assets.datacamp.com/production/repositories/3581/datasets/779033fb8fb5021aee9ff46253980abcbc5851f3/'\n",
    "file = 'baseball_stats.csv'\n",
    "urlretrieve(url+file, file)\n",
    "baseball_df = pd.read_csv(file)\n",
    "baseball_df.info()"
   ]
  },
  {
   "cell_type": "code",
   "execution_count": 9,
   "metadata": {
    "ExecuteTime": {
     "end_time": "2020-04-23T20:21:14.011196Z",
     "start_time": "2020-04-23T20:21:13.994057Z"
    }
   },
   "outputs": [],
   "source": [
    "pit_df = baseball_df.query('Team == \"PIT\" & Year >= 2008')"
   ]
  },
  {
   "cell_type": "code",
   "execution_count": 10,
   "metadata": {
    "ExecuteTime": {
     "end_time": "2020-04-23T20:21:46.154454Z",
     "start_time": "2020-04-23T20:21:46.129458Z"
    }
   },
   "outputs": [
    {
     "name": "stdout",
     "output_type": "stream",
     "text": [
      "Team              PIT\n",
      "League             NL\n",
      "Year             2012\n",
      "RS                651\n",
      "RA                674\n",
      "W                  79\n",
      "OBP             0.304\n",
      "SLG             0.395\n",
      "BA              0.243\n",
      "Playoffs            0\n",
      "RankSeason        NaN\n",
      "RankPlayoffs      NaN\n",
      "G                 162\n",
      "OOBP            0.314\n",
      "OSLG             0.39\n",
      "Name: 21, dtype: object\n",
      "Team              PIT\n",
      "League             NL\n",
      "Year             2011\n",
      "RS                610\n",
      "RA                712\n",
      "W                  72\n",
      "OBP             0.309\n",
      "SLG             0.368\n",
      "BA              0.244\n",
      "Playoffs            0\n",
      "RankSeason        NaN\n",
      "RankPlayoffs      NaN\n",
      "G                 162\n",
      "OOBP            0.338\n",
      "OSLG            0.409\n",
      "Name: 51, dtype: object\n",
      "Team              PIT\n",
      "League             NL\n",
      "Year             2010\n",
      "RS                587\n",
      "RA                866\n",
      "W                  57\n",
      "OBP             0.304\n",
      "SLG             0.373\n",
      "BA              0.242\n",
      "Playoffs            0\n",
      "RankSeason        NaN\n",
      "RankPlayoffs      NaN\n",
      "G                 162\n",
      "OOBP            0.348\n",
      "OSLG            0.449\n",
      "Name: 81, dtype: object\n",
      "Team              PIT\n",
      "League             NL\n",
      "Year             2009\n",
      "RS                636\n",
      "RA                768\n",
      "W                  62\n",
      "OBP             0.318\n",
      "SLG             0.387\n",
      "BA              0.252\n",
      "Playoffs            0\n",
      "RankSeason        NaN\n",
      "RankPlayoffs      NaN\n",
      "G                 161\n",
      "OOBP            0.346\n",
      "OSLG            0.442\n",
      "Name: 111, dtype: object\n",
      "Team              PIT\n",
      "League             NL\n",
      "Year             2008\n",
      "RS                735\n",
      "RA                884\n",
      "W                  67\n",
      "OBP              0.32\n",
      "SLG             0.403\n",
      "BA              0.258\n",
      "Playoffs            0\n",
      "RankSeason        NaN\n",
      "RankPlayoffs      NaN\n",
      "G                 162\n",
      "OOBP            0.362\n",
      "OSLG            0.454\n",
      "Name: 141, dtype: object\n"
     ]
    }
   ],
   "source": [
    "# Iterate over pit_df and print each row\n",
    "for i,row in pit_df.iterrows():\n",
    "    print(row)"
   ]
  },
  {
   "cell_type": "code",
   "execution_count": 11,
   "metadata": {
    "ExecuteTime": {
     "end_time": "2020-04-23T20:22:23.621763Z",
     "start_time": "2020-04-23T20:22:23.599956Z"
    }
   },
   "outputs": [
    {
     "name": "stdout",
     "output_type": "stream",
     "text": [
      "21\n",
      "Team              PIT\n",
      "League             NL\n",
      "Year             2012\n",
      "RS                651\n",
      "RA                674\n",
      "W                  79\n",
      "OBP             0.304\n",
      "SLG             0.395\n",
      "BA              0.243\n",
      "Playoffs            0\n",
      "RankSeason        NaN\n",
      "RankPlayoffs      NaN\n",
      "G                 162\n",
      "OOBP            0.314\n",
      "OSLG             0.39\n",
      "Name: 21, dtype: object\n",
      "<class 'pandas.core.series.Series'>\n",
      "51\n",
      "Team              PIT\n",
      "League             NL\n",
      "Year             2011\n",
      "RS                610\n",
      "RA                712\n",
      "W                  72\n",
      "OBP             0.309\n",
      "SLG             0.368\n",
      "BA              0.244\n",
      "Playoffs            0\n",
      "RankSeason        NaN\n",
      "RankPlayoffs      NaN\n",
      "G                 162\n",
      "OOBP            0.338\n",
      "OSLG            0.409\n",
      "Name: 51, dtype: object\n",
      "<class 'pandas.core.series.Series'>\n",
      "81\n",
      "Team              PIT\n",
      "League             NL\n",
      "Year             2010\n",
      "RS                587\n",
      "RA                866\n",
      "W                  57\n",
      "OBP             0.304\n",
      "SLG             0.373\n",
      "BA              0.242\n",
      "Playoffs            0\n",
      "RankSeason        NaN\n",
      "RankPlayoffs      NaN\n",
      "G                 162\n",
      "OOBP            0.348\n",
      "OSLG            0.449\n",
      "Name: 81, dtype: object\n",
      "<class 'pandas.core.series.Series'>\n",
      "111\n",
      "Team              PIT\n",
      "League             NL\n",
      "Year             2009\n",
      "RS                636\n",
      "RA                768\n",
      "W                  62\n",
      "OBP             0.318\n",
      "SLG             0.387\n",
      "BA              0.252\n",
      "Playoffs            0\n",
      "RankSeason        NaN\n",
      "RankPlayoffs      NaN\n",
      "G                 161\n",
      "OOBP            0.346\n",
      "OSLG            0.442\n",
      "Name: 111, dtype: object\n",
      "<class 'pandas.core.series.Series'>\n",
      "141\n",
      "Team              PIT\n",
      "League             NL\n",
      "Year             2008\n",
      "RS                735\n",
      "RA                884\n",
      "W                  67\n",
      "OBP              0.32\n",
      "SLG             0.403\n",
      "BA              0.258\n",
      "Playoffs            0\n",
      "RankSeason        NaN\n",
      "RankPlayoffs      NaN\n",
      "G                 162\n",
      "OOBP            0.362\n",
      "OSLG            0.454\n",
      "Name: 141, dtype: object\n",
      "<class 'pandas.core.series.Series'>\n"
     ]
    }
   ],
   "source": [
    "# Iterate over pit_df and print each index variable and then each row\n",
    "for i,row in pit_df.iterrows():\n",
    "    print(i)\n",
    "    print(row)\n",
    "    print(type(row))"
   ]
  },
  {
   "cell_type": "code",
   "execution_count": 13,
   "metadata": {
    "ExecuteTime": {
     "end_time": "2020-04-23T20:23:34.262411Z",
     "start_time": "2020-04-23T20:23:34.238177Z"
    }
   },
   "outputs": [
    {
     "name": "stdout",
     "output_type": "stream",
     "text": [
      "(21, Team              PIT\n",
      "League             NL\n",
      "Year             2012\n",
      "RS                651\n",
      "RA                674\n",
      "W                  79\n",
      "OBP             0.304\n",
      "SLG             0.395\n",
      "BA              0.243\n",
      "Playoffs            0\n",
      "RankSeason        NaN\n",
      "RankPlayoffs      NaN\n",
      "G                 162\n",
      "OOBP            0.314\n",
      "OSLG             0.39\n",
      "Name: 21, dtype: object)\n",
      "<class 'tuple'>\n",
      "(51, Team              PIT\n",
      "League             NL\n",
      "Year             2011\n",
      "RS                610\n",
      "RA                712\n",
      "W                  72\n",
      "OBP             0.309\n",
      "SLG             0.368\n",
      "BA              0.244\n",
      "Playoffs            0\n",
      "RankSeason        NaN\n",
      "RankPlayoffs      NaN\n",
      "G                 162\n",
      "OOBP            0.338\n",
      "OSLG            0.409\n",
      "Name: 51, dtype: object)\n",
      "<class 'tuple'>\n",
      "(81, Team              PIT\n",
      "League             NL\n",
      "Year             2010\n",
      "RS                587\n",
      "RA                866\n",
      "W                  57\n",
      "OBP             0.304\n",
      "SLG             0.373\n",
      "BA              0.242\n",
      "Playoffs            0\n",
      "RankSeason        NaN\n",
      "RankPlayoffs      NaN\n",
      "G                 162\n",
      "OOBP            0.348\n",
      "OSLG            0.449\n",
      "Name: 81, dtype: object)\n",
      "<class 'tuple'>\n",
      "(111, Team              PIT\n",
      "League             NL\n",
      "Year             2009\n",
      "RS                636\n",
      "RA                768\n",
      "W                  62\n",
      "OBP             0.318\n",
      "SLG             0.387\n",
      "BA              0.252\n",
      "Playoffs            0\n",
      "RankSeason        NaN\n",
      "RankPlayoffs      NaN\n",
      "G                 161\n",
      "OOBP            0.346\n",
      "OSLG            0.442\n",
      "Name: 111, dtype: object)\n",
      "<class 'tuple'>\n",
      "(141, Team              PIT\n",
      "League             NL\n",
      "Year             2008\n",
      "RS                735\n",
      "RA                884\n",
      "W                  67\n",
      "OBP              0.32\n",
      "SLG             0.403\n",
      "BA              0.258\n",
      "Playoffs            0\n",
      "RankSeason        NaN\n",
      "RankPlayoffs      NaN\n",
      "G                 162\n",
      "OOBP            0.362\n",
      "OSLG            0.454\n",
      "Name: 141, dtype: object)\n",
      "<class 'tuple'>\n"
     ]
    }
   ],
   "source": [
    "# Use one variable instead of two to store the result of .iterrows()\n",
    "for row_tuple in pit_df.iterrows():\n",
    "    print(row_tuple)\n",
    "    print(type(row_tuple))"
   ]
  },
  {
   "cell_type": "code",
   "execution_count": 19,
   "metadata": {
    "ExecuteTime": {
     "end_time": "2020-04-24T06:43:01.690389Z",
     "start_time": "2020-04-24T06:43:01.673017Z"
    }
   },
   "outputs": [],
   "source": [
    "giants_df = baseball_df.query('Team == \"SFG\" and Year >= 2008')\n",
    "\n",
    "def calc_run_diff(runs_scored, runs_allowed):\n",
    "    run_diff = runs_scored - runs_allowed\n",
    "    return run_diff"
   ]
  },
  {
   "cell_type": "code",
   "execution_count": 21,
   "metadata": {
    "ExecuteTime": {
     "end_time": "2020-04-24T06:43:39.883772Z",
     "start_time": "2020-04-24T06:43:39.264392Z"
    }
   },
   "outputs": [
    {
     "name": "stdout",
     "output_type": "stream",
     "text": [
      "    Team League  Year   RS   RA   W    OBP    SLG     BA  Playoffs  \\\n",
      "24   SFG     NL  2012  718  649  94  0.327  0.397  0.269         1   \n",
      "54   SFG     NL  2011  570  578  86  0.303  0.368  0.242         0   \n",
      "84   SFG     NL  2010  697  583  92  0.321  0.408  0.257         1   \n",
      "114  SFG     NL  2009  657  611  88  0.309  0.389  0.257         0   \n",
      "144  SFG     NL  2008  640  759  72  0.321  0.382  0.262         0   \n",
      "\n",
      "     RankSeason  RankPlayoffs    G   OOBP   OSLG   RD  \n",
      "24          4.0           1.0  162  0.313  0.393   69  \n",
      "54          NaN           NaN  162  0.309  0.346   -8  \n",
      "84          5.0           1.0  162  0.313  0.370  114  \n",
      "114         NaN           NaN  162  0.314  0.372   46  \n",
      "144         NaN           NaN  162  0.341  0.404 -119  \n"
     ]
    },
    {
     "name": "stderr",
     "output_type": "stream",
     "text": [
      "/Users/Brian/anaconda3/envs/datacamp/lib/python3.6/site-packages/ipykernel_launcher.py:15: SettingWithCopyWarning: \n",
      "A value is trying to be set on a copy of a slice from a DataFrame.\n",
      "Try using .loc[row_indexer,col_indexer] = value instead\n",
      "\n",
      "See the caveats in the documentation: http://pandas.pydata.org/pandas-docs/stable/indexing.html#indexing-view-versus-copy\n",
      "  from ipykernel import kernelapp as app\n"
     ]
    }
   ],
   "source": [
    "# Create an empty list to store run differentials\n",
    "run_diffs = []\n",
    "\n",
    "# Write a for loop and collect runs allowed and runs scored for each row\n",
    "for i,row in giants_df.iterrows():\n",
    "    runs_scored = row['RS']\n",
    "    runs_allowed = row['RA']\n",
    "    \n",
    "    # Use the provided function to calculate run_diff for each row\n",
    "    run_diff = calc_run_diff(runs_scored, runs_allowed)\n",
    "    \n",
    "    # Append each run differential to the output list\n",
    "    run_diffs.append(run_diff)\n",
    "\n",
    "giants_df['RD'] = run_diffs\n",
    "print(giants_df)"
   ]
  },
  {
   "cell_type": "code",
   "execution_count": 22,
   "metadata": {
    "ExecuteTime": {
     "end_time": "2020-04-24T06:50:06.837830Z",
     "start_time": "2020-04-24T06:50:06.828711Z"
    }
   },
   "outputs": [],
   "source": [
    "rangers_df = baseball_df.query('Team == \"TEX\"')"
   ]
  },
  {
   "cell_type": "code",
   "execution_count": 23,
   "metadata": {
    "ExecuteTime": {
     "end_time": "2020-04-24T06:50:29.767348Z",
     "start_time": "2020-04-24T06:50:29.744357Z"
    },
    "scrolled": true
   },
   "outputs": [
    {
     "name": "stdout",
     "output_type": "stream",
     "text": [
      "Pandas(Index=27, Team='TEX', League='AL', Year=2012, RS=808, RA=707, W=93, OBP=0.33399999999999996, SLG=0.446, BA=0.273, Playoffs=1, RankSeason=5.0, RankPlayoffs=5.0, G=162, OOBP=0.309, OSLG=0.408)\n",
      "Pandas(Index=57, Team='TEX', League='AL', Year=2011, RS=855, RA=677, W=96, OBP=0.34, SLG=0.46, BA=0.28300000000000003, Playoffs=1, RankSeason=3.0, RankPlayoffs=2.0, G=162, OOBP=0.307, OSLG=0.392)\n",
      "Pandas(Index=87, Team='TEX', League='AL', Year=2010, RS=787, RA=687, W=90, OBP=0.33799999999999997, SLG=0.419, BA=0.276, Playoffs=1, RankSeason=7.0, RankPlayoffs=2.0, G=162, OOBP=0.319, OSLG=0.39)\n",
      "Pandas(Index=117, Team='TEX', League='AL', Year=2009, RS=784, RA=740, W=87, OBP=0.32, SLG=0.445, BA=0.26, Playoffs=0, RankSeason=nan, RankPlayoffs=nan, G=162, OOBP=0.331, OSLG=0.41600000000000004)\n",
      "Pandas(Index=147, Team='TEX', League='AL', Year=2008, RS=901, RA=967, W=79, OBP=0.354, SLG=0.462, BA=0.28300000000000003, Playoffs=0, RankSeason=nan, RankPlayoffs=nan, G=162, OOBP=0.36200000000000004, OSLG=0.455)\n",
      "Pandas(Index=177, Team='TEX', League='AL', Year=2007, RS=816, RA=844, W=75, OBP=0.32799999999999996, SLG=0.426, BA=0.263, Playoffs=0, RankSeason=nan, RankPlayoffs=nan, G=162, OOBP=0.35600000000000004, OSLG=0.423)\n",
      "Pandas(Index=207, Team='TEX', League='AL', Year=2006, RS=835, RA=784, W=80, OBP=0.33799999999999997, SLG=0.446, BA=0.278, Playoffs=0, RankSeason=nan, RankPlayoffs=nan, G=162, OOBP=0.341, OSLG=0.424)\n",
      "Pandas(Index=237, Team='TEX', League='AL', Year=2005, RS=865, RA=858, W=79, OBP=0.32899999999999996, SLG=0.46799999999999997, BA=0.267, Playoffs=0, RankSeason=nan, RankPlayoffs=nan, G=162, OOBP=0.34299999999999997, OSLG=0.428)\n",
      "Pandas(Index=268, Team='TEX', League='AL', Year=2004, RS=860, RA=794, W=89, OBP=0.32899999999999996, SLG=0.457, BA=0.266, Playoffs=0, RankSeason=nan, RankPlayoffs=nan, G=162, OOBP=0.344, OSLG=0.43200000000000005)\n",
      "Pandas(Index=298, Team='TEX', League='AL', Year=2003, RS=826, RA=969, W=71, OBP=0.33, SLG=0.45399999999999996, BA=0.266, Playoffs=0, RankSeason=nan, RankPlayoffs=nan, G=162, OOBP=0.36, OSLG=0.473)\n",
      "Pandas(Index=328, Team='TEX', League='AL', Year=2002, RS=843, RA=882, W=72, OBP=0.33799999999999997, SLG=0.455, BA=0.26899999999999996, Playoffs=0, RankSeason=nan, RankPlayoffs=nan, G=162, OOBP=0.355, OSLG=0.451)\n",
      "Pandas(Index=358, Team='TEX', League='AL', Year=2001, RS=890, RA=968, W=73, OBP=0.344, SLG=0.47100000000000003, BA=0.275, Playoffs=0, RankSeason=nan, RankPlayoffs=nan, G=162, OOBP=0.36200000000000004, OSLG=0.494)\n",
      "Pandas(Index=388, Team='TEX', League='AL', Year=2000, RS=848, RA=974, W=71, OBP=0.35200000000000004, SLG=0.446, BA=0.28300000000000003, Playoffs=0, RankSeason=nan, RankPlayoffs=nan, G=162, OOBP=0.369, OSLG=0.475)\n",
      "Pandas(Index=418, Team='TEX', League='AL', Year=1999, RS=945, RA=859, W=95, OBP=0.361, SLG=0.479, BA=0.293, Playoffs=1, RankSeason=5.0, RankPlayoffs=4.0, G=162, OOBP=0.34600000000000003, OSLG=0.45899999999999996)\n",
      "Pandas(Index=448, Team='TEX', League='AL', Year=1998, RS=940, RA=871, W=88, OBP=0.35700000000000004, SLG=0.462, BA=0.289, Playoffs=1, RankSeason=8.0, RankPlayoffs=4.0, G=162, OOBP=nan, OSLG=nan)\n",
      "Pandas(Index=476, Team='TEX', League='AL', Year=1997, RS=807, RA=823, W=77, OBP=0.33399999999999996, SLG=0.43799999999999994, BA=0.27399999999999997, Playoffs=0, RankSeason=nan, RankPlayoffs=nan, G=162, OOBP=nan, OSLG=nan)\n",
      "Pandas(Index=504, Team='TEX', League='AL', Year=1996, RS=928, RA=799, W=90, OBP=0.358, SLG=0.469, BA=0.284, Playoffs=1, RankSeason=5.0, RankPlayoffs=4.0, G=163, OOBP=nan, OSLG=nan)\n",
      "Pandas(Index=532, Team='TEX', League='AL', Year=1993, RS=835, RA=751, W=86, OBP=0.32899999999999996, SLG=0.431, BA=0.267, Playoffs=0, RankSeason=nan, RankPlayoffs=nan, G=162, OOBP=nan, OSLG=nan)\n",
      "Pandas(Index=558, Team='TEX', League='AL', Year=1992, RS=682, RA=753, W=77, OBP=0.321, SLG=0.39299999999999996, BA=0.25, Playoffs=0, RankSeason=nan, RankPlayoffs=nan, G=162, OOBP=nan, OSLG=nan)\n",
      "Pandas(Index=584, Team='TEX', League='AL', Year=1991, RS=829, RA=814, W=85, OBP=0.341, SLG=0.424, BA=0.27, Playoffs=0, RankSeason=nan, RankPlayoffs=nan, G=162, OOBP=nan, OSLG=nan)\n",
      "Pandas(Index=610, Team='TEX', League='AL', Year=1990, RS=676, RA=696, W=83, OBP=0.331, SLG=0.376, BA=0.259, Playoffs=0, RankSeason=nan, RankPlayoffs=nan, G=162, OOBP=nan, OSLG=nan)\n",
      "Pandas(Index=636, Team='TEX', League='AL', Year=1989, RS=695, RA=714, W=83, OBP=0.326, SLG=0.39399999999999996, BA=0.263, Playoffs=0, RankSeason=nan, RankPlayoffs=nan, G=162, OOBP=nan, OSLG=nan)\n",
      "Pandas(Index=662, Team='TEX', League='AL', Year=1988, RS=637, RA=735, W=70, OBP=0.32, SLG=0.368, BA=0.252, Playoffs=0, RankSeason=nan, RankPlayoffs=nan, G=161, OOBP=nan, OSLG=nan)\n",
      "Pandas(Index=688, Team='TEX', League='AL', Year=1987, RS=823, RA=849, W=75, OBP=0.33299999999999996, SLG=0.43, BA=0.266, Playoffs=0, RankSeason=nan, RankPlayoffs=nan, G=162, OOBP=nan, OSLG=nan)\n",
      "Pandas(Index=714, Team='TEX', League='AL', Year=1986, RS=771, RA=743, W=87, OBP=0.331, SLG=0.428, BA=0.267, Playoffs=0, RankSeason=nan, RankPlayoffs=nan, G=162, OOBP=nan, OSLG=nan)\n",
      "Pandas(Index=740, Team='TEX', League='AL', Year=1985, RS=617, RA=785, W=62, OBP=0.322, SLG=0.381, BA=0.253, Playoffs=0, RankSeason=nan, RankPlayoffs=nan, G=161, OOBP=nan, OSLG=nan)\n",
      "Pandas(Index=766, Team='TEX', League='AL', Year=1984, RS=656, RA=714, W=69, OBP=0.313, SLG=0.377, BA=0.261, Playoffs=0, RankSeason=nan, RankPlayoffs=nan, G=161, OOBP=nan, OSLG=nan)\n",
      "Pandas(Index=792, Team='TEX', League='AL', Year=1983, RS=639, RA=609, W=77, OBP=0.31, SLG=0.366, BA=0.255, Playoffs=0, RankSeason=nan, RankPlayoffs=nan, G=163, OOBP=nan, OSLG=nan)\n",
      "Pandas(Index=818, Team='TEX', League='AL', Year=1982, RS=590, RA=749, W=64, OBP=0.308, SLG=0.359, BA=0.249, Playoffs=0, RankSeason=nan, RankPlayoffs=nan, G=162, OOBP=nan, OSLG=nan)\n",
      "Pandas(Index=844, Team='TEX', League='AL', Year=1980, RS=756, RA=752, W=76, OBP=0.33899999999999997, SLG=0.405, BA=0.284, Playoffs=0, RankSeason=nan, RankPlayoffs=nan, G=163, OOBP=nan, OSLG=nan)\n",
      "Pandas(Index=870, Team='TEX', League='AL', Year=1979, RS=750, RA=698, W=83, OBP=0.33399999999999996, SLG=0.409, BA=0.278, Playoffs=0, RankSeason=nan, RankPlayoffs=nan, G=162, OOBP=nan, OSLG=nan)\n",
      "Pandas(Index=896, Team='TEX', League='AL', Year=1978, RS=692, RA=632, W=87, OBP=0.332, SLG=0.381, BA=0.253, Playoffs=0, RankSeason=nan, RankPlayoffs=nan, G=162, OOBP=nan, OSLG=nan)\n",
      "Pandas(Index=922, Team='TEX', League='AL', Year=1977, RS=767, RA=657, W=94, OBP=0.342, SLG=0.405, BA=0.27, Playoffs=0, RankSeason=nan, RankPlayoffs=nan, G=162, OOBP=nan, OSLG=nan)\n",
      "Pandas(Index=947, Team='TEX', League='AL', Year=1976, RS=616, RA=652, W=76, OBP=0.321, SLG=0.341, BA=0.25, Playoffs=0, RankSeason=nan, RankPlayoffs=nan, G=162, OOBP=nan, OSLG=nan)\n",
      "Pandas(Index=971, Team='TEX', League='AL', Year=1975, RS=714, RA=733, W=79, OBP=0.33, SLG=0.371, BA=0.256, Playoffs=0, RankSeason=nan, RankPlayoffs=nan, G=162, OOBP=nan, OSLG=nan)\n",
      "Pandas(Index=995, Team='TEX', League='AL', Year=1974, RS=690, RA=698, W=83, OBP=0.336, SLG=0.377, BA=0.272, Playoffs=0, RankSeason=nan, RankPlayoffs=nan, G=161, OOBP=nan, OSLG=nan)\n",
      "Pandas(Index=1019, Team='TEX', League='AL', Year=1973, RS=619, RA=844, W=57, OBP=0.318, SLG=0.361, BA=0.255, Playoffs=0, RankSeason=nan, RankPlayoffs=nan, G=162, OOBP=nan, OSLG=nan)\n"
     ]
    }
   ],
   "source": [
    "# Loop over the DataFrame and print each row\n",
    "for row in rangers_df.itertuples():\n",
    "  print(row)"
   ]
  },
  {
   "cell_type": "code",
   "execution_count": 24,
   "metadata": {
    "ExecuteTime": {
     "end_time": "2020-04-24T06:51:21.693010Z",
     "start_time": "2020-04-24T06:51:21.672242Z"
    },
    "scrolled": true
   },
   "outputs": [
    {
     "name": "stdout",
     "output_type": "stream",
     "text": [
      "27 2012 93\n",
      "57 2011 96\n",
      "87 2010 90\n",
      "117 2009 87\n",
      "147 2008 79\n",
      "177 2007 75\n",
      "207 2006 80\n",
      "237 2005 79\n",
      "268 2004 89\n",
      "298 2003 71\n",
      "328 2002 72\n",
      "358 2001 73\n",
      "388 2000 71\n",
      "418 1999 95\n",
      "448 1998 88\n",
      "476 1997 77\n",
      "504 1996 90\n",
      "532 1993 86\n",
      "558 1992 77\n",
      "584 1991 85\n",
      "610 1990 83\n",
      "636 1989 83\n",
      "662 1988 70\n",
      "688 1987 75\n",
      "714 1986 87\n",
      "740 1985 62\n",
      "766 1984 69\n",
      "792 1983 77\n",
      "818 1982 64\n",
      "844 1980 76\n",
      "870 1979 83\n",
      "896 1978 87\n",
      "922 1977 94\n",
      "947 1976 76\n",
      "971 1975 79\n",
      "995 1974 83\n",
      "1019 1973 57\n"
     ]
    }
   ],
   "source": [
    "# Loop over the DataFrame and print each row's Index, Year and Wins (W)\n",
    "for row in rangers_df.itertuples():\n",
    "    i = row.Index\n",
    "    year = row.Year\n",
    "    wins = row.W\n",
    "    print(i, year, wins)"
   ]
  },
  {
   "cell_type": "code",
   "execution_count": 25,
   "metadata": {
    "ExecuteTime": {
     "end_time": "2020-04-24T06:52:28.000146Z",
     "start_time": "2020-04-24T06:52:27.982707Z"
    }
   },
   "outputs": [
    {
     "name": "stdout",
     "output_type": "stream",
     "text": [
      "27 2012 93\n",
      "57 2011 96\n",
      "87 2010 90\n",
      "418 1999 95\n",
      "448 1998 88\n",
      "504 1996 90\n"
     ]
    }
   ],
   "source": [
    "# Loop over the DataFrame and print each row's Index, Year and Wins (W)\n",
    "for row in rangers_df.itertuples():\n",
    "    i = row.Index\n",
    "    year = row.Year\n",
    "    wins = row.W\n",
    "  \n",
    "    # Check if rangers made Playoffs (1 means yes; 0 means no)\n",
    "    if row.Playoffs == 1:\n",
    "        print(i, year, wins)"
   ]
  },
  {
   "cell_type": "code",
   "execution_count": 28,
   "metadata": {
    "ExecuteTime": {
     "end_time": "2020-04-24T06:53:50.624219Z",
     "start_time": "2020-04-24T06:53:50.615778Z"
    }
   },
   "outputs": [],
   "source": [
    "yankees_df = baseball_df.query('Team == \"NYY\"')"
   ]
  },
  {
   "cell_type": "code",
   "execution_count": 33,
   "metadata": {
    "ExecuteTime": {
     "end_time": "2020-04-24T06:55:09.681418Z",
     "start_time": "2020-04-24T06:55:09.445669Z"
    },
    "scrolled": true
   },
   "outputs": [
    {
     "name": "stdout",
     "output_type": "stream",
     "text": [
      "     Team League  Year   RS   RA    W    OBP    SLG     BA  Playoffs  \\\n",
      "18    NYY     AL  2012  804  668   95  0.337  0.453  0.265         1   \n",
      "48    NYY     AL  2011  867  657   97  0.343  0.444  0.263         1   \n",
      "78    NYY     AL  2010  859  693   95  0.350  0.436  0.267         1   \n",
      "108   NYY     AL  2009  915  753  103  0.362  0.478  0.283         1   \n",
      "138   NYY     AL  2008  789  727   89  0.342  0.427  0.271         0   \n",
      "168   NYY     AL  2007  968  777   94  0.366  0.463  0.290         1   \n",
      "198   NYY     AL  2006  930  767   97  0.363  0.461  0.285         1   \n",
      "228   NYY     AL  2005  886  789   95  0.355  0.450  0.276         1   \n",
      "259   NYY     AL  2004  897  808  101  0.353  0.458  0.268         1   \n",
      "289   NYY     AL  2003  877  716  101  0.356  0.453  0.271         1   \n",
      "319   NYY     AL  2002  897  697  103  0.354  0.455  0.275         1   \n",
      "349   NYY     AL  2001  804  713   95  0.334  0.435  0.267         1   \n",
      "379   NYY     AL  2000  871  814   87  0.354  0.450  0.277         1   \n",
      "409   NYY     AL  1999  900  731   98  0.366  0.453  0.282         1   \n",
      "439   NYY     AL  1998  965  656  114  0.364  0.460  0.288         1   \n",
      "468   NYY     AL  1997  891  688   96  0.362  0.436  0.287         1   \n",
      "496   NYY     AL  1996  871  787   92  0.360  0.436  0.288         1   \n",
      "524   NYY     AL  1993  821  761   88  0.353  0.435  0.279         0   \n",
      "550   NYY     AL  1992  733  746   76  0.328  0.406  0.261         0   \n",
      "576   NYY     AL  1991  674  777   71  0.316  0.387  0.256         0   \n",
      "602   NYY     AL  1990  603  749   67  0.300  0.366  0.241         0   \n",
      "628   NYY     AL  1989  698  792   74  0.331  0.391  0.269         0   \n",
      "654   NYY     AL  1988  772  748   85  0.333  0.395  0.263         0   \n",
      "680   NYY     AL  1987  788  758   89  0.336  0.418  0.262         0   \n",
      "706   NYY     AL  1986  797  738   90  0.347  0.430  0.271         0   \n",
      "732   NYY     AL  1985  839  660   97  0.344  0.425  0.267         0   \n",
      "758   NYY     AL  1984  758  679   87  0.339  0.404  0.276         0   \n",
      "784   NYY     AL  1983  770  703   91  0.337  0.416  0.273         0   \n",
      "810   NYY     AL  1982  709  716   79  0.328  0.398  0.256         0   \n",
      "836   NYY     AL  1980  820  662  103  0.343  0.425  0.267         1   \n",
      "862   NYY     AL  1979  734  672   89  0.328  0.406  0.266         0   \n",
      "888   NYY     AL  1978  735  582  100  0.329  0.388  0.267         1   \n",
      "914   NYY     AL  1977  831  651  100  0.344  0.444  0.281         1   \n",
      "940   NYY     AL  1976  730  575   97  0.328  0.389  0.269         1   \n",
      "964   NYY     AL  1975  681  588   83  0.325  0.382  0.264         0   \n",
      "988   NYY     AL  1974  671  623   89  0.324  0.368  0.263         0   \n",
      "1012  NYY     AL  1973  641  610   80  0.322  0.378  0.261         0   \n",
      "1036  NYY     AL  1971  648  641   81  0.328  0.360  0.254         0   \n",
      "1060  NYY     AL  1970  680  612   93  0.324  0.365  0.251         0   \n",
      "1083  NYY     AL  1969  562  587   80  0.308  0.344  0.235         0   \n",
      "1105  NYY     AL  1968  536  531   83  0.292  0.318  0.214         0   \n",
      "1126  NYY     AL  1967  522  621   72  0.296  0.317  0.225         0   \n",
      "1146  NYY     AL  1966  611  612   70  0.299  0.374  0.235         0   \n",
      "1166  NYY     AL  1965  611  604   77  0.299  0.364  0.235         0   \n",
      "1186  NYY     AL  1964  730  577   99  0.317  0.387  0.253         1   \n",
      "1206  NYY     AL  1963  714  547  104  0.309  0.403  0.252         1   \n",
      "1226  NYY     AL  1962  817  680   96  0.337  0.426  0.267         1   \n",
      "\n",
      "      RankSeason  RankPlayoffs    G   OOBP   OSLG   RD  \n",
      "18           3.0           3.0  162  0.311  0.419  136  \n",
      "48           2.0           4.0  162  0.322  0.399  210  \n",
      "78           3.0           3.0  162  0.322  0.399  166  \n",
      "108          1.0           1.0  162  0.327  0.408  162  \n",
      "138          NaN           NaN  162  0.329  0.405   62  \n",
      "168          2.0           4.0  162  0.340  0.417  191  \n",
      "198          1.0           4.0  162  0.326  0.413  163  \n",
      "228          3.0           4.0  162  0.332  0.422   97  \n",
      "259          2.0           3.0  162  0.328  0.432   89  \n",
      "289          1.0           2.0  163  0.314  0.407  161  \n",
      "319          1.0           4.0  161  0.309  0.395  200  \n",
      "349          3.0           2.0  161  0.318  0.398   91  \n",
      "379          5.0           1.0  161  0.336  0.422   57  \n",
      "409          3.0           1.0  162  0.329  0.400  169  \n",
      "439          1.0           1.0  162    NaN    NaN  309  \n",
      "468          3.0           4.0  162    NaN    NaN  203  \n",
      "496          3.0           1.0  162    NaN    NaN   84  \n",
      "524          NaN           NaN  162    NaN    NaN   60  \n",
      "550          NaN           NaN  162    NaN    NaN  -13  \n",
      "576          NaN           NaN  162    NaN    NaN -103  \n",
      "602          NaN           NaN  162    NaN    NaN -146  \n",
      "628          NaN           NaN  161    NaN    NaN  -94  \n",
      "654          NaN           NaN  161    NaN    NaN   24  \n",
      "680          NaN           NaN  162    NaN    NaN   30  \n",
      "706          NaN           NaN  162    NaN    NaN   59  \n",
      "732          NaN           NaN  161    NaN    NaN  179  \n",
      "758          NaN           NaN  162    NaN    NaN   79  \n",
      "784          NaN           NaN  162    NaN    NaN   67  \n",
      "810          NaN           NaN  162    NaN    NaN   -7  \n",
      "836          1.0           3.0  162    NaN    NaN  158  \n",
      "862          NaN           NaN  160    NaN    NaN   62  \n",
      "888          1.0           1.0  163    NaN    NaN  153  \n",
      "914          3.0           1.0  162    NaN    NaN  180  \n",
      "940          3.0           2.0  159    NaN    NaN  155  \n",
      "964          NaN           NaN  160    NaN    NaN   93  \n",
      "988          NaN           NaN  162    NaN    NaN   48  \n",
      "1012         NaN           NaN  162    NaN    NaN   31  \n",
      "1036         NaN           NaN  162    NaN    NaN    7  \n",
      "1060         NaN           NaN  163    NaN    NaN   68  \n",
      "1083         NaN           NaN  162    NaN    NaN  -25  \n",
      "1105         NaN           NaN  164    NaN    NaN    5  \n",
      "1126         NaN           NaN  163    NaN    NaN  -99  \n",
      "1146         NaN           NaN  160    NaN    NaN   -1  \n",
      "1166         NaN           NaN  162    NaN    NaN    7  \n",
      "1186         1.0           2.0  164    NaN    NaN  153  \n",
      "1206         1.0           2.0  161    NaN    NaN  167  \n",
      "1226         2.0           1.0  162    NaN    NaN  137  \n"
     ]
    },
    {
     "name": "stderr",
     "output_type": "stream",
     "text": [
      "/Users/Brian/anaconda3/envs/datacamp/lib/python3.6/site-packages/ipykernel_launcher.py:14: SettingWithCopyWarning: \n",
      "A value is trying to be set on a copy of a slice from a DataFrame.\n",
      "Try using .loc[row_indexer,col_indexer] = value instead\n",
      "\n",
      "See the caveats in the documentation: http://pandas.pydata.org/pandas-docs/stable/indexing.html#indexing-view-versus-copy\n",
      "  \n"
     ]
    }
   ],
   "source": [
    "run_diffs = []\n",
    "\n",
    "# Loop over the DataFrame and calculate each row's run differential\n",
    "for row in yankees_df.itertuples():\n",
    "    \n",
    "    runs_scored = row.RS\n",
    "    runs_allowed = row.RA\n",
    "\n",
    "    run_diff = calc_run_diff(runs_scored, runs_allowed)\n",
    "    \n",
    "    run_diffs.append(run_diff)\n",
    "\n",
    "# Append new column\n",
    "yankees_df['RD'] = run_diffs\n",
    "print(yankees_df)"
   ]
  },
  {
   "cell_type": "code",
   "execution_count": 48,
   "metadata": {
    "ExecuteTime": {
     "end_time": "2020-04-25T07:22:39.193533Z",
     "start_time": "2020-04-25T07:22:39.160277Z"
    }
   },
   "outputs": [],
   "source": [
    "cols= ['Team', 'Year', 'RS', 'RA', 'W', 'Playoffs']\n",
    "rays_df = baseball_df[cols].query(\"Team == 'TBR' & Year >= 2008\").set_index('Year').drop(['Team'], axis=1)"
   ]
  },
  {
   "cell_type": "code",
   "execution_count": 51,
   "metadata": {
    "ExecuteTime": {
     "end_time": "2020-04-25T07:23:45.839976Z",
     "start_time": "2020-04-25T07:23:45.781453Z"
    }
   },
   "outputs": [
    {
     "name": "stdout",
     "output_type": "stream",
     "text": [
      "RS          3783\n",
      "RA          3265\n",
      "W            458\n",
      "Playoffs       3\n",
      "dtype: int64\n"
     ]
    }
   ],
   "source": [
    "# Gather sum of all columns\n",
    "stat_totals = rays_df.apply(sum, axis=0)\n",
    "print(stat_totals)"
   ]
  },
  {
   "cell_type": "code",
   "execution_count": 52,
   "metadata": {
    "ExecuteTime": {
     "end_time": "2020-04-25T07:24:07.132300Z",
     "start_time": "2020-04-25T07:24:07.122650Z"
    }
   },
   "outputs": [
    {
     "name": "stdout",
     "output_type": "stream",
     "text": [
      "Year\n",
      "2012    1274\n",
      "2011    1321\n",
      "2010    1451\n",
      "2009    1557\n",
      "2008    1445\n",
      "dtype: int64\n"
     ]
    }
   ],
   "source": [
    "# Gather total runs scored in all games per year\n",
    "total_runs_scored = rays_df[['RS', 'RA']].apply(sum, axis=1)\n",
    "print(total_runs_scored)"
   ]
  },
  {
   "cell_type": "code",
   "execution_count": 53,
   "metadata": {
    "ExecuteTime": {
     "end_time": "2020-04-25T07:24:40.885376Z",
     "start_time": "2020-04-25T07:24:40.878448Z"
    }
   },
   "outputs": [],
   "source": [
    "def text_playoffs(num_playoffs): \n",
    "    if num_playoffs == 1:\n",
    "        return 'Yes'\n",
    "    else:\n",
    "        return 'No' "
   ]
  },
  {
   "cell_type": "code",
   "execution_count": 54,
   "metadata": {
    "ExecuteTime": {
     "end_time": "2020-04-25T07:25:09.935571Z",
     "start_time": "2020-04-25T07:25:09.923121Z"
    }
   },
   "outputs": [
    {
     "name": "stdout",
     "output_type": "stream",
     "text": [
      "Year\n",
      "2012     No\n",
      "2011    Yes\n",
      "2010    Yes\n",
      "2009     No\n",
      "2008    Yes\n",
      "dtype: object\n"
     ]
    }
   ],
   "source": [
    "# Convert numeric playoffs to text\n",
    "textual_playoffs = rays_df.apply(lambda row: text_playoffs(row['Playoffs']), axis=1)\n",
    "print(textual_playoffs)"
   ]
  },
  {
   "cell_type": "code",
   "execution_count": 57,
   "metadata": {
    "ExecuteTime": {
     "end_time": "2020-04-25T07:27:15.923136Z",
     "start_time": "2020-04-25T07:27:15.897434Z"
    }
   },
   "outputs": [],
   "source": [
    "cols = ['Team', 'League', 'Year', 'RS', 'RA', 'W', 'G', 'Playoffs']\n",
    "dbacks_df = baseball_df[cols].query(\"Team == 'ARI' &  Year >= 1998\")"
   ]
  },
  {
   "cell_type": "code",
   "execution_count": 58,
   "metadata": {
    "ExecuteTime": {
     "end_time": "2020-04-25T07:27:16.506935Z",
     "start_time": "2020-04-25T07:27:16.491451Z"
    }
   },
   "outputs": [
    {
     "name": "stdout",
     "output_type": "stream",
     "text": [
      "    Team League  Year   RS   RA   W    G  Playoffs\n",
      "0    ARI     NL  2012  734  688  81  162         0\n",
      "30   ARI     NL  2011  731  662  94  162         1\n",
      "60   ARI     NL  2010  713  836  65  162         0\n",
      "90   ARI     NL  2009  720  782  70  162         0\n",
      "120  ARI     NL  2008  720  706  82  162         0\n"
     ]
    }
   ],
   "source": [
    "# Display the first five rows of the DataFrame\n",
    "print(dbacks_df.head())"
   ]
  },
  {
   "cell_type": "code",
   "execution_count": 59,
   "metadata": {
    "ExecuteTime": {
     "end_time": "2020-04-25T07:27:55.741415Z",
     "start_time": "2020-04-25T07:27:55.731287Z"
    }
   },
   "outputs": [],
   "source": [
    "def calc_win_perc(wins, games_played):\n",
    "    win_perc = wins / games_played\n",
    "    return np.round(win_perc,2)"
   ]
  },
  {
   "cell_type": "code",
   "execution_count": 60,
   "metadata": {
    "ExecuteTime": {
     "end_time": "2020-04-25T07:28:23.583503Z",
     "start_time": "2020-04-25T07:28:23.562484Z"
    }
   },
   "outputs": [
    {
     "name": "stdout",
     "output_type": "stream",
     "text": [
      "    Team League  Year   RS   RA   W    G  Playoffs\n",
      "0    ARI     NL  2012  734  688  81  162         0\n",
      "30   ARI     NL  2011  731  662  94  162         1\n",
      "60   ARI     NL  2010  713  836  65  162         0\n",
      "90   ARI     NL  2009  720  782  70  162         0\n",
      "120  ARI     NL  2008  720  706  82  162         0\n",
      "0      0.50\n",
      "30     0.58\n",
      "60     0.40\n",
      "90     0.43\n",
      "120    0.51\n",
      "150    0.56\n",
      "180    0.47\n",
      "210    0.48\n",
      "241    0.31\n",
      "271    0.52\n",
      "301    0.60\n",
      "331    0.57\n",
      "361    0.52\n",
      "391    0.62\n",
      "421    0.40\n",
      "dtype: float64 \n",
      "\n"
     ]
    }
   ],
   "source": [
    "# Display the first five rows of the DataFrame\n",
    "print(dbacks_df.head())\n",
    "\n",
    "# Create a win percentage Series \n",
    "win_percs = dbacks_df.apply(lambda row: calc_win_perc(row['W'], row['G']), axis=1)\n",
    "print(win_percs, '\\n')"
   ]
  },
  {
   "cell_type": "code",
   "execution_count": 61,
   "metadata": {
    "ExecuteTime": {
     "end_time": "2020-04-25T07:28:59.937821Z",
     "start_time": "2020-04-25T07:28:59.414610Z"
    },
    "scrolled": true
   },
   "outputs": [
    {
     "name": "stdout",
     "output_type": "stream",
     "text": [
      "    Team League  Year   RS   RA   W    G  Playoffs\n",
      "0    ARI     NL  2012  734  688  81  162         0\n",
      "30   ARI     NL  2011  731  662  94  162         1\n",
      "60   ARI     NL  2010  713  836  65  162         0\n",
      "90   ARI     NL  2009  720  782  70  162         0\n",
      "120  ARI     NL  2008  720  706  82  162         0\n",
      "0      0.50\n",
      "30     0.58\n",
      "60     0.40\n",
      "90     0.43\n",
      "120    0.51\n",
      "150    0.56\n",
      "180    0.47\n",
      "210    0.48\n",
      "241    0.31\n",
      "271    0.52\n",
      "301    0.60\n",
      "331    0.57\n",
      "361    0.52\n",
      "391    0.62\n",
      "421    0.40\n",
      "dtype: float64 \n",
      "\n",
      "    Team League  Year   RS   RA    W    G  Playoffs    WP\n",
      "0    ARI     NL  2012  734  688   81  162         0  0.50\n",
      "30   ARI     NL  2011  731  662   94  162         1  0.58\n",
      "60   ARI     NL  2010  713  836   65  162         0  0.40\n",
      "90   ARI     NL  2009  720  782   70  162         0  0.43\n",
      "120  ARI     NL  2008  720  706   82  162         0  0.51\n",
      "150  ARI     NL  2007  712  732   90  162         1  0.56\n",
      "180  ARI     NL  2006  773  788   76  162         0  0.47\n",
      "210  ARI     NL  2005  696  856   77  162         0  0.48\n",
      "241  ARI     NL  2004  615  899   51  162         0  0.31\n",
      "271  ARI     NL  2003  717  685   84  162         0  0.52\n",
      "301  ARI     NL  2002  819  674   98  162         1  0.60\n",
      "331  ARI     NL  2001  818  677   92  162         1  0.57\n",
      "361  ARI     NL  2000  792  754   85  162         0  0.52\n",
      "391  ARI     NL  1999  908  676  100  162         1  0.62\n",
      "421  ARI     NL  1998  665  812   65  162         0  0.40 \n",
      "\n",
      "    Team League  Year   RS   RA    W    G  Playoffs    WP\n",
      "0    ARI     NL  2012  734  688   81  162         0  0.50\n",
      "30   ARI     NL  2011  731  662   94  162         1  0.58\n",
      "120  ARI     NL  2008  720  706   82  162         0  0.51\n",
      "150  ARI     NL  2007  712  732   90  162         1  0.56\n",
      "271  ARI     NL  2003  717  685   84  162         0  0.52\n",
      "301  ARI     NL  2002  819  674   98  162         1  0.60\n",
      "331  ARI     NL  2001  818  677   92  162         1  0.57\n",
      "361  ARI     NL  2000  792  754   85  162         0  0.52\n",
      "391  ARI     NL  1999  908  676  100  162         1  0.62\n"
     ]
    }
   ],
   "source": [
    "# Display the first five rows of the DataFrame\n",
    "print(dbacks_df.head())\n",
    "\n",
    "# Create a win percentage Series \n",
    "win_percs = dbacks_df.apply(lambda row: calc_win_perc(row['W'], row['G']), axis=1)\n",
    "print(win_percs, '\\n')\n",
    "\n",
    "# Append a new column to dbacks_df\n",
    "dbacks_df['WP'] = win_percs\n",
    "print(dbacks_df, '\\n')\n",
    "\n",
    "# Display dbacks_df where WP is greater than 0.50\n",
    "print(dbacks_df[dbacks_df['WP'] >= 0.50])"
   ]
  },
  {
   "cell_type": "code",
   "execution_count": 63,
   "metadata": {
    "ExecuteTime": {
     "end_time": "2020-04-25T07:39:23.034499Z",
     "start_time": "2020-04-25T07:39:23.010679Z"
    }
   },
   "outputs": [
    {
     "name": "stdout",
     "output_type": "stream",
     "text": [
      "  Team League  Year   RS   RA   W    OBP    SLG     BA  Playoffs  RankSeason  \\\n",
      "0  ARI     NL  2012  734  688  81  0.328  0.418  0.259         0         NaN   \n",
      "1  ATL     NL  2012  700  600  94  0.320  0.389  0.247         1         4.0   \n",
      "2  BAL     AL  2012  712  705  93  0.311  0.417  0.247         1         5.0   \n",
      "3  BOS     AL  2012  734  806  69  0.315  0.415  0.260         0         NaN   \n",
      "4  CHC     NL  2012  613  759  61  0.302  0.378  0.240         0         NaN   \n",
      "\n",
      "   RankPlayoffs    G   OOBP   OSLG    WP  \n",
      "0           NaN  162  0.317  0.415  0.50  \n",
      "1           5.0  162  0.306  0.378  0.58  \n",
      "2           4.0  162  0.315  0.403  0.57  \n",
      "3           NaN  162  0.331  0.428  0.43  \n",
      "4           NaN  162  0.335  0.424  0.38  \n"
     ]
    }
   ],
   "source": [
    "# Use the W array and G array to calculate win percentages\n",
    "win_percs_np = calc_win_perc(baseball_df['W'].values, baseball_df['G'].values)\n",
    "\n",
    "# Append a new column to baseball_df that stores all win percentages\n",
    "baseball_df['WP'] = win_percs_np\n",
    "\n",
    "print(baseball_df.head())"
   ]
  },
  {
   "cell_type": "code",
   "execution_count": 65,
   "metadata": {
    "ExecuteTime": {
     "end_time": "2020-04-25T07:41:15.965522Z",
     "start_time": "2020-04-25T07:41:15.952778Z"
    }
   },
   "outputs": [
    {
     "data": {
      "text/plain": [
       "OrderedDict([('Team', 'Abbreviated team name'),\n",
       "             ('League', 'Specifies National League or American League'),\n",
       "             ('Year', \"Each season's year\"),\n",
       "             ('RS', 'Runs scored in a season'),\n",
       "             ('RA', 'Runs allowed in a season'),\n",
       "             ('W', 'Wins in a season'),\n",
       "             ('G', 'Games played in a season'),\n",
       "             ('Playoffs',\n",
       "              '`1` if a team made the playoffs; `0` if they did not'),\n",
       "             ('WP', 'True win percentage for a season')])"
      ]
     },
     "execution_count": 65,
     "metadata": {},
     "output_type": "execute_result"
    }
   ],
   "source": [
    "from collections import OrderedDict\n",
    "\n",
    "col_dict = OrderedDict([('Team', 'Abbreviated team name'),\n",
    "             ('League', 'Specifies National League or American League'),\n",
    "             ('Year', \"Each season's year\"),\n",
    "             ('RS', 'Runs scored in a season'),\n",
    "             ('RA', 'Runs allowed in a season'),\n",
    "             ('W', 'Wins in a season'),\n",
    "             ('G', 'Games played in a season'),\n",
    "             ('Playoffs', '`1` if a team made the playoffs; `0` if they did not'),\n",
    "             ('WP', 'True win percentage for a season')])\n",
    "col_dict"
   ]
  },
  {
   "cell_type": "code",
   "execution_count": 67,
   "metadata": {
    "ExecuteTime": {
     "end_time": "2020-04-25T07:42:46.591286Z",
     "start_time": "2020-04-25T07:42:46.585667Z"
    }
   },
   "outputs": [],
   "source": [
    "def predict_win_perc(RS, RA):\n",
    "    prediction = RS ** 2 / (RS ** 2 + RA ** 2)\n",
    "    return np.round(prediction, 2)"
   ]
  },
  {
   "cell_type": "code",
   "execution_count": 68,
   "metadata": {
    "ExecuteTime": {
     "end_time": "2020-04-25T07:42:47.196847Z",
     "start_time": "2020-04-25T07:42:47.154770Z"
    }
   },
   "outputs": [],
   "source": [
    "win_perc_preds_loop = []\n",
    "\n",
    "# Use a loop and .itertuples() to collect each row's predicted win percentage\n",
    "for row in baseball_df.itertuples():\n",
    "    runs_scored = row.RS\n",
    "    runs_allowed = row.RA\n",
    "    win_perc_pred = predict_win_perc(runs_scored, runs_allowed)\n",
    "    win_perc_preds_loop.append(win_perc_pred)"
   ]
  },
  {
   "cell_type": "code",
   "execution_count": 69,
   "metadata": {
    "ExecuteTime": {
     "end_time": "2020-04-25T07:43:29.860832Z",
     "start_time": "2020-04-25T07:43:29.737513Z"
    }
   },
   "outputs": [],
   "source": [
    "win_perc_preds_loop = []\n",
    "\n",
    "# Use a loop and .itertuples() to collect each row's predicted win percentage\n",
    "for row in baseball_df.itertuples():\n",
    "    runs_scored = row.RS\n",
    "    runs_allowed = row.RA\n",
    "    win_perc_pred = predict_win_perc(runs_scored, runs_allowed)\n",
    "    win_perc_preds_loop.append(win_perc_pred)\n",
    "\n",
    "# Apply predict_win_perc to each row of the DataFrame\n",
    "win_perc_preds_apply = baseball_df.apply(lambda row: predict_win_perc(row['RS'], row['RA']), axis=1)"
   ]
  },
  {
   "cell_type": "code",
   "execution_count": 70,
   "metadata": {
    "ExecuteTime": {
     "end_time": "2020-04-25T07:44:01.469937Z",
     "start_time": "2020-04-25T07:44:01.301934Z"
    }
   },
   "outputs": [
    {
     "name": "stdout",
     "output_type": "stream",
     "text": [
      "  Team League  Year   RS   RA   W    OBP    SLG     BA  Playoffs  RankSeason  \\\n",
      "0  ARI     NL  2012  734  688  81  0.328  0.418  0.259         0         NaN   \n",
      "1  ATL     NL  2012  700  600  94  0.320  0.389  0.247         1         4.0   \n",
      "2  BAL     AL  2012  712  705  93  0.311  0.417  0.247         1         5.0   \n",
      "3  BOS     AL  2012  734  806  69  0.315  0.415  0.260         0         NaN   \n",
      "4  CHC     NL  2012  613  759  61  0.302  0.378  0.240         0         NaN   \n",
      "\n",
      "   RankPlayoffs    G   OOBP   OSLG    WP  WP_preds  \n",
      "0           NaN  162  0.317  0.415  0.50      0.53  \n",
      "1           5.0  162  0.306  0.378  0.58      0.58  \n",
      "2           4.0  162  0.315  0.403  0.57      0.50  \n",
      "3           NaN  162  0.331  0.428  0.43      0.45  \n",
      "4           NaN  162  0.335  0.424  0.38      0.39  \n"
     ]
    }
   ],
   "source": [
    "win_perc_preds_loop = []\n",
    "\n",
    "# Use a loop and .itertuples() to collect each row's predicted win percentage\n",
    "for row in baseball_df.itertuples():\n",
    "    runs_scored = row.RS\n",
    "    runs_allowed = row.RA\n",
    "    win_perc_pred = predict_win_perc(runs_scored, runs_allowed)\n",
    "    win_perc_preds_loop.append(win_perc_pred)\n",
    "\n",
    "# Apply predict_win_perc to each row of the DataFrame\n",
    "win_perc_preds_apply = baseball_df.apply(lambda row: predict_win_perc(row['RS'], row['RA']), axis=1)\n",
    "\n",
    "# Calculate the win percentage predictions using NumPy arrays\n",
    "win_perc_preds_np = predict_win_perc(baseball_df['RS'].values, baseball_df['RA'].values)\n",
    "baseball_df['WP_preds'] = win_perc_preds_np\n",
    "print(baseball_df.head())"
   ]
  },
  {
   "cell_type": "code",
   "execution_count": 71,
   "metadata": {
    "ExecuteTime": {
     "end_time": "2020-04-25T07:44:36.367685Z",
     "start_time": "2020-04-25T07:44:33.921689Z"
    }
   },
   "outputs": [
    {
     "name": "stdout",
     "output_type": "stream",
     "text": [
      "30.1 ms ± 7.84 ms per loop (mean ± std. dev. of 7 runs, 10 loops each)\n"
     ]
    }
   ],
   "source": [
    "%%timeit\n",
    "win_perc_preds_loop = []\n",
    "\n",
    "# Use a loop and .itertuples() to collect each row's predicted win percentage\n",
    "for row in baseball_df.itertuples():\n",
    "    runs_scored = row.RS\n",
    "    runs_allowed = row.RA\n",
    "    win_perc_pred = predict_win_perc(runs_scored, runs_allowed)\n",
    "    win_perc_preds_loop.append(win_perc_pred)"
   ]
  },
  {
   "cell_type": "code",
   "execution_count": 73,
   "metadata": {
    "ExecuteTime": {
     "end_time": "2020-04-25T07:45:52.493394Z",
     "start_time": "2020-04-25T07:45:48.147383Z"
    }
   },
   "outputs": [
    {
     "name": "stdout",
     "output_type": "stream",
     "text": [
      "54.2 µs ± 10.1 µs per loop (mean ± std. dev. of 7 runs, 10000 loops each)\n"
     ]
    }
   ],
   "source": [
    "%%timeit\n",
    "# Calculate the win percentage predictions using NumPy arrays\n",
    "win_perc_preds_np = predict_win_perc(baseball_df['RS'].values, baseball_df['RA'].values)"
   ]
  },
  {
   "cell_type": "code",
   "execution_count": 74,
   "metadata": {
    "ExecuteTime": {
     "end_time": "2020-04-25T07:46:01.807233Z",
     "start_time": "2020-04-25T07:45:55.291626Z"
    }
   },
   "outputs": [
    {
     "name": "stdout",
     "output_type": "stream",
     "text": [
      "82.2 ms ± 17.6 ms per loop (mean ± std. dev. of 7 runs, 10 loops each)\n"
     ]
    }
   ],
   "source": [
    "%%timeit\n",
    "# Apply predict_win_perc to each row of the DataFrame\n",
    "win_perc_preds_apply = baseball_df.apply(lambda row: predict_win_perc(row['RS'], row['RA']), axis=1)"
   ]
  },
  {
   "cell_type": "code",
   "execution_count": null,
   "metadata": {},
   "outputs": [],
   "source": []
  }
 ],
 "metadata": {
  "kernelspec": {
   "display_name": "Python 3",
   "language": "python",
   "name": "python3"
  },
  "language_info": {
   "codemirror_mode": {
    "name": "ipython",
    "version": 3
   },
   "file_extension": ".py",
   "mimetype": "text/x-python",
   "name": "python",
   "nbconvert_exporter": "python",
   "pygments_lexer": "ipython3",
   "version": "3.6.9"
  },
  "toc": {
   "base_numbering": 1,
   "nav_menu": {},
   "number_sections": true,
   "sideBar": true,
   "skip_h1_title": true,
   "title_cell": "Table of Contents",
   "title_sidebar": "Contents",
   "toc_cell": true,
   "toc_position": {},
   "toc_section_display": true,
   "toc_window_display": false
  },
  "varInspector": {
   "cols": {
    "lenName": 16,
    "lenType": 16,
    "lenVar": 40
   },
   "kernels_config": {
    "python": {
     "delete_cmd_postfix": "",
     "delete_cmd_prefix": "del ",
     "library": "var_list.py",
     "varRefreshCmd": "print(var_dic_list())"
    },
    "r": {
     "delete_cmd_postfix": ") ",
     "delete_cmd_prefix": "rm(",
     "library": "var_list.r",
     "varRefreshCmd": "cat(var_dic_list()) "
    }
   },
   "types_to_exclude": [
    "module",
    "function",
    "builtin_function_or_method",
    "instance",
    "_Feature"
   ],
   "window_display": false
  }
 },
 "nbformat": 4,
 "nbformat_minor": 2
}
