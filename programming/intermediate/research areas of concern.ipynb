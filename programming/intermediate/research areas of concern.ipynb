{
 "cells": [
  {
   "cell_type": "markdown",
   "metadata": {},
   "source": [
    "# Research - Not Sure...\n",
    "I need to practice the data frame indexing, a lot!\n",
    "\n",
    "Is the following true?\n",
    "\n",
    "Single brackets:\n",
    "\n",
    "* Single brackets with name = column name - this returns a series, not a data frame\n",
    "* Single brackets with value = row index - this returns a series, not a data frame\n",
    "\n",
    "Double brackets:\n",
    "\n",
    "* Double brackets - always produces a data frame.\n",
    "* The same rules apply as with a single bracket - a name assumes column, an integers assume row index\n",
    "\n",
    "Loc and iloc:\n",
    "\n",
    "* loc - refers to locations by name\n",
    "* iloc - refers to indexs by integer (hence **i**loc)\n"
   ]
  },
  {
   "cell_type": "code",
   "execution_count": null,
   "metadata": {
    "collapsed": true
   },
   "outputs": [],
   "source": []
  }
 ],
 "metadata": {
  "kernelspec": {
   "display_name": "Python 3",
   "language": "python",
   "name": "python3"
  },
  "language_info": {
   "codemirror_mode": {
    "name": "ipython",
    "version": 3
   },
   "file_extension": ".py",
   "mimetype": "text/x-python",
   "name": "python",
   "nbconvert_exporter": "python",
   "pygments_lexer": "ipython3",
   "version": "3.6.3"
  }
 },
 "nbformat": 4,
 "nbformat_minor": 2
}
