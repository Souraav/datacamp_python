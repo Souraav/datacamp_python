{
 "cells": [
  {
   "cell_type": "markdown",
   "metadata": {},
   "source": [
    "# Chapter 4"
   ]
  },
  {
   "cell_type": "code",
   "execution_count": 48,
   "metadata": {},
   "outputs": [],
   "source": [
    "import pandas as pd\n",
    "import numpy as np\n",
    "from io import StringIO"
   ]
  },
  {
   "cell_type": "code",
   "execution_count": 7,
   "metadata": {},
   "outputs": [
    {
     "name": "stdout",
     "output_type": "stream",
     "text": [
      "<class 'pandas.core.frame.DataFrame'>\n",
      "RangeIndex: 244 entries, 0 to 243\n",
      "Data columns (total 7 columns):\n",
      " #   Column      Non-Null Count  Dtype  \n",
      "---  ------      --------------  -----  \n",
      " 0   total_bill  244 non-null    float64\n",
      " 1   tip         244 non-null    float64\n",
      " 2   sex         244 non-null    object \n",
      " 3   smoker      244 non-null    object \n",
      " 4   day         244 non-null    object \n",
      " 5   time        244 non-null    object \n",
      " 6   size        244 non-null    int64  \n",
      "dtypes: float64(2), int64(1), object(4)\n",
      "memory usage: 13.5+ KB\n"
     ]
    }
   ],
   "source": [
    "data_url = 'https://assets.datacamp.com/production/repositories/3832/datasets/5496a658cc7ea792ee295d61937f8b12659884ff/restaurant_data.csv'\n",
    "restaurant_data = pd.read_csv(data_url)\n",
    "restaurant_data.info()"
   ]
  },
  {
   "cell_type": "code",
   "execution_count": 27,
   "metadata": {},
   "outputs": [
    {
     "name": "stdout",
     "output_type": "stream",
     "text": [
      "   total_bill       tip  size\n",
      "0    0.291579  0.001111   0.2\n",
      "1    0.152283  0.073333   0.4\n",
      "2    0.375786  0.277778   0.4\n",
      "3    0.431713  0.256667   0.2\n",
      "4    0.450775  0.290000   0.6\n"
     ]
    }
   ],
   "source": [
    "# Define the min-max transformation\n",
    "min_max_tr = lambda x: (x - x.min()) / (x.max() - x.min())\n",
    "\n",
    "# Group the data according to the time\n",
    "restaurant_grouped = restaurant_data.groupby('time')\n",
    "\n",
    "# Apply the transformation\n",
    "restaurant_min_max_group = restaurant_grouped.transform(min_max_tr)\n",
    "print(restaurant_min_max_group.head())"
   ]
  },
  {
   "cell_type": "code",
   "execution_count": 29,
   "metadata": {},
   "outputs": [
    {
     "name": "stdout",
     "output_type": "stream",
     "text": [
      "0    0.135141\n",
      "1    0.017986\n",
      "2    0.000060\n",
      "3    0.000108\n",
      "4    0.000042\n",
      "Name: tip, dtype: float64\n"
     ]
    }
   ],
   "source": [
    "# Define the exponential transformation\n",
    "exp_tr = lambda x: np.exp(-1*x.mean()*x) * x.mean()\n",
    "\n",
    "# Group the data according to the time\n",
    "restaurant_grouped = restaurant_data.groupby('time')\n",
    "\n",
    "# Apply the transformation\n",
    "restaurant_exp_group = restaurant_grouped['tip'].transform(exp_tr)\n",
    "print(restaurant_exp_group.head())"
   ]
  },
  {
   "cell_type": "code",
   "execution_count": 35,
   "metadata": {},
   "outputs": [
    {
     "name": "stdout",
     "output_type": "stream",
     "text": [
      "<class 'pandas.core.frame.DataFrame'>\n",
      "RangeIndex: 25010 entries, 0 to 25009\n",
      "Data columns (total 11 columns):\n",
      " #   Column  Non-Null Count  Dtype\n",
      "---  ------  --------------  -----\n",
      " 0   S1      25010 non-null  int64\n",
      " 1   R1      25010 non-null  int64\n",
      " 2   S2      25010 non-null  int64\n",
      " 3   R2      25010 non-null  int64\n",
      " 4   S3      25010 non-null  int64\n",
      " 5   R3      25010 non-null  int64\n",
      " 6   S4      25010 non-null  int64\n",
      " 7   R4      25010 non-null  int64\n",
      " 8   S5      25010 non-null  int64\n",
      " 9   R5      25010 non-null  int64\n",
      " 10  Class   25010 non-null  int64\n",
      "dtypes: int64(11)\n",
      "memory usage: 2.1 MB\n"
     ]
    }
   ],
   "source": [
    "data_url = 'https://assets.datacamp.com/production/repositories/3832/datasets/c715cfae17d00d26693da8e612cb5fbd64e69589/poker_hand.csv'\n",
    "poker_hands = pd.read_csv(data_url)\n",
    "poker_hands.info()\n",
    "\n",
    "poker_grouped = poker_hands.groupby('Class')"
   ]
  },
  {
   "cell_type": "code",
   "execution_count": 38,
   "metadata": {},
   "outputs": [
    {
     "name": "stdout",
     "output_type": "stream",
     "text": [
      "         S1        R1        S2        R2        S3        R3        S4  \\\n",
      "0 -1.380537  0.270364 -1.380537 -0.730297 -1.380537  0.631224 -1.380537   \n",
      "1 -0.613572  0.495666 -0.613572  1.095445 -0.613572  0.039451 -0.613572   \n",
      "2  0.153393  0.720969  0.153393 -0.730297  0.153393  0.631224  0.153393   \n",
      "3  0.920358  0.270364  0.920358 -0.730297  0.920358 -1.735866  0.920358   \n",
      "4  0.920358 -1.757363  0.920358  1.095445  0.920358  0.433966  0.920358   \n",
      "\n",
      "         R4        S5        R5  \n",
      "0  0.350823 -1.380537 -0.724286  \n",
      "1  0.350823 -0.613572 -0.724286  \n",
      "2 -1.403293  0.153393 -0.724286  \n",
      "3  1.227881  0.920358  1.267500  \n",
      "4 -0.526235  0.920358  0.905357  \n"
     ]
    }
   ],
   "source": [
    "zscore = lambda x: (x - x.mean()) / x.std()\n",
    "\n",
    "# Apply the transformation\n",
    "poker_trans = poker_grouped.transform(zscore)\n",
    "print(poker_trans.head())"
   ]
  },
  {
   "cell_type": "code",
   "execution_count": 46,
   "metadata": {},
   "outputs": [
    {
     "name": "stdout",
     "output_type": "stream",
     "text": [
      "        S1   R1   S2   R2   S3   R3   S4   R4   S5   R5\n",
      "Class                                                  \n",
      "0     -0.0 -0.0  0.0 -0.0  0.0  0.0  0.0  0.0 -0.0  0.0\n",
      "1      0.0  0.0 -0.0  0.0 -0.0  0.0  0.0  0.0 -0.0  0.0\n",
      "2     -0.0 -0.0  0.0 -0.0 -0.0  0.0  0.0 -0.0 -0.0  0.0\n",
      "3      0.0  0.0  0.0 -0.0 -0.0 -0.0 -0.0 -0.0  0.0 -0.0\n",
      "4     -0.0 -0.0 -0.0 -0.0  0.0 -0.0 -0.0  0.0  0.0  0.0\n",
      "5     -0.0 -0.0 -0.0  0.0 -0.0  0.0 -0.0 -0.0 -0.0  0.0\n",
      "6     -0.0 -0.0 -0.0  0.0  0.0 -0.0  0.0  0.0 -0.0  0.0\n",
      "7      0.0 -0.0 -0.0  0.0 -0.0  0.0  0.0 -0.0 -0.0 -0.0\n",
      "8     -0.0  0.0 -0.0  0.0 -0.0  0.0 -0.0  0.0 -0.0 -0.0\n",
      "9      0.0 -0.0  0.0 -0.0  0.0 -0.0  0.0  0.0  0.0 -0.0\n",
      "        S1   R1   S2   R2   S3   R3   S4   R4   S5   R5\n",
      "Class                                                  \n",
      "0      1.0  1.0  1.0  1.0  1.0  1.0  1.0  1.0  1.0  1.0\n",
      "1      1.0  1.0  1.0  1.0  1.0  1.0  1.0  1.0  1.0  1.0\n",
      "2      1.0  1.0  1.0  1.0  1.0  1.0  1.0  1.0  1.0  1.0\n",
      "3      1.0  1.0  1.0  1.0  1.0  1.0  1.0  1.0  1.0  1.0\n",
      "4      1.0  1.0  1.0  1.0  1.0  1.0  1.0  1.0  1.0  1.0\n",
      "5      1.0  1.0  1.0  1.0  1.0  1.0  1.0  1.0  1.0  1.0\n",
      "6      1.0  1.0  1.0  1.0  1.0  1.0  1.0  1.0  1.0  1.0\n",
      "7      1.0  1.0  1.0  1.0  1.0  1.0  1.0  1.0  1.0  1.0\n",
      "8      1.0  1.0  1.0  1.0  1.0  1.0  1.0  1.0  1.0  1.0\n",
      "9      1.0  1.0  1.0  1.0  1.0  1.0  1.0  1.0  1.0  1.0\n"
     ]
    }
   ],
   "source": [
    "zscore = lambda x: (x - x.mean()) / x.std()\n",
    "\n",
    "# Apply the transformation\n",
    "poker_trans = poker_grouped.transform(zscore)\n",
    "\n",
    "# Re-group the grouped object and print each group's means and standard deviation\n",
    "poker_regrouped = poker_trans.groupby(poker_hands['Class'])\n",
    "\n",
    "print(np.round(poker_regrouped.mean(), 3))\n",
    "print(poker_regrouped.std())"
   ]
  },
  {
   "cell_type": "code",
   "execution_count": 52,
   "metadata": {},
   "outputs": [
    {
     "name": "stdout",
     "output_type": "stream",
     "text": [
      "<class 'pandas.core.frame.DataFrame'>\n",
      "RangeIndex: 244 entries, 0 to 243\n",
      "Data columns (total 8 columns):\n",
      " #   Column      Non-Null Count  Dtype  \n",
      "---  ------      --------------  -----  \n",
      " 0   Unnamed: 0  244 non-null    int64  \n",
      " 1   total_bill  244 non-null    float64\n",
      " 2   tip         179 non-null    float64\n",
      " 3   sex         244 non-null    object \n",
      " 4   smoker      244 non-null    object \n",
      " 5   day         244 non-null    object \n",
      " 6   time        244 non-null    object \n",
      " 7   size        244 non-null    int64  \n",
      "dtypes: float64(2), int64(2), object(4)\n",
      "memory usage: 15.4+ KB\n"
     ]
    }
   ],
   "source": [
    "data_nan_str = ',total_bill,tip,sex,smoker,day,time,size\\n0,16.99,1.01,Female,No,Sun,Dinner,2\\n1,10.34,1.66,Male,No,Sun,Dinner,3\\n2,21.01,3.5,Male,No,Sun,Dinner,3\\n3,23.68,3.31,Male,No,Sun,Dinner,2\\n4,24.59,,Female,No,Sun,Dinner,4\\n5,25.29,,Male,No,Sun,Dinner,4\\n6,8.77,2.0,Male,No,Sun,Dinner,2\\n7,26.88,3.12,Male,No,Sun,Dinner,4\\n8,15.04,1.96,Male,No,Sun,Dinner,2\\n9,14.78,3.23,Male,No,Sun,Dinner,2\\n10,10.27,,Male,No,Sun,Dinner,2\\n11,35.26,,Female,No,Sun,Dinner,4\\n12,15.42,1.57,Male,No,Sun,Dinner,2\\n13,18.43,3.0,Male,No,Sun,Dinner,4\\n14,14.83,3.02,Female,No,Sun,Dinner,2\\n15,21.58,3.92,Male,No,Sun,Dinner,2\\n16,10.33,1.67,Female,No,Sun,Dinner,3\\n17,16.29,3.71,Male,No,Sun,Dinner,3\\n18,16.97,3.5,Female,No,Sun,Dinner,3\\n19,20.65,,Male,No,Sat,Dinner,3\\n20,17.92,,Male,No,Sat,Dinner,2\\n21,20.29,,Female,No,Sat,Dinner,2\\n22,15.77,2.23,Female,No,Sat,Dinner,2\\n23,39.42,,Male,No,Sat,Dinner,4\\n24,19.82,,Male,No,Sat,Dinner,2\\n25,17.81,2.34,Male,No,Sat,Dinner,4\\n26,13.37,,Male,No,Sat,Dinner,2\\n27,12.69,2.0,Male,No,Sat,Dinner,2\\n28,21.7,4.3,Male,No,Sat,Dinner,2\\n29,19.65,3.0,Female,No,Sat,Dinner,2\\n30,9.55,1.45,Male,No,Sat,Dinner,2\\n31,18.35,,Male,No,Sat,Dinner,4\\n32,15.06,3.0,Female,No,Sat,Dinner,2\\n33,20.69,,Female,No,Sat,Dinner,4\\n34,17.78,3.27,Male,No,Sat,Dinner,2\\n35,24.06,3.6,Male,No,Sat,Dinner,3\\n36,16.31,2.0,Male,No,Sat,Dinner,3\\n37,16.93,,Female,No,Sat,Dinner,3\\n38,18.69,2.31,Male,No,Sat,Dinner,3\\n39,31.27,5.0,Male,No,Sat,Dinner,3\\n40,16.04,2.24,Male,No,Sat,Dinner,3\\n41,17.46,2.54,Male,No,Sun,Dinner,2\\n42,13.94,,Male,No,Sun,Dinner,2\\n43,9.68,1.32,Male,No,Sun,Dinner,2\\n44,30.4,5.6,Male,No,Sun,Dinner,4\\n45,18.29,3.0,Male,No,Sun,Dinner,2\\n46,22.23,5.0,Male,No,Sun,Dinner,2\\n47,32.4,6.0,Male,No,Sun,Dinner,4\\n48,28.55,2.05,Male,No,Sun,Dinner,3\\n49,18.04,3.0,Male,No,Sun,Dinner,2\\n50,12.54,2.5,Male,No,Sun,Dinner,2\\n51,10.29,2.6,Female,No,Sun,Dinner,2\\n52,34.81,,Female,No,Sun,Dinner,4\\n53,9.94,,Male,No,Sun,Dinner,2\\n54,25.56,,Male,No,Sun,Dinner,4\\n55,19.49,3.51,Male,No,Sun,Dinner,2\\n56,38.01,3.0,Male,Yes,Sat,Dinner,4\\n57,26.41,1.5,Female,No,Sat,Dinner,2\\n58,11.24,1.76,Male,Yes,Sat,Dinner,2\\n59,48.27,6.73,Male,No,Sat,Dinner,4\\n60,20.29,3.21,Male,Yes,Sat,Dinner,2\\n61,13.81,,Male,Yes,Sat,Dinner,2\\n62,11.02,,Male,Yes,Sat,Dinner,2\\n63,18.29,3.76,Male,Yes,Sat,Dinner,4\\n64,17.59,2.64,Male,No,Sat,Dinner,3\\n65,20.08,3.15,Male,No,Sat,Dinner,3\\n66,16.45,2.47,Female,No,Sat,Dinner,2\\n67,3.07,1.0,Female,Yes,Sat,Dinner,1\\n68,20.23,2.01,Male,No,Sat,Dinner,2\\n69,15.01,2.09,Male,Yes,Sat,Dinner,2\\n70,12.02,1.97,Male,No,Sat,Dinner,2\\n71,17.07,,Female,No,Sat,Dinner,3\\n72,26.86,,Female,Yes,Sat,Dinner,2\\n73,25.28,5.0,Female,Yes,Sat,Dinner,2\\n74,14.73,2.2,Female,No,Sat,Dinner,2\\n75,10.51,1.25,Male,No,Sat,Dinner,2\\n76,17.92,3.08,Male,Yes,Sat,Dinner,2\\n77,27.2,4.0,Male,No,Thur,Lunch,4\\n78,22.76,3.0,Male,No,Thur,Lunch,2\\n79,17.29,,Male,No,Thur,Lunch,2\\n80,19.44,,Male,Yes,Thur,Lunch,2\\n81,16.66,,Male,No,Thur,Lunch,2\\n82,10.07,,Female,No,Thur,Lunch,1\\n83,32.68,5.0,Male,Yes,Thur,Lunch,2\\n84,15.98,2.03,Male,No,Thur,Lunch,2\\n85,34.83,,Female,No,Thur,Lunch,4\\n86,13.03,2.0,Male,No,Thur,Lunch,2\\n87,18.28,4.0,Male,No,Thur,Lunch,2\\n88,24.71,5.85,Male,No,Thur,Lunch,2\\n89,21.16,,Male,No,Thur,Lunch,2\\n90,28.97,,Male,Yes,Fri,Dinner,2\\n91,22.49,,Male,No,Fri,Dinner,2\\n92,5.75,1.0,Female,Yes,Fri,Dinner,2\\n93,16.32,4.3,Female,Yes,Fri,Dinner,2\\n94,22.75,3.25,Female,No,Fri,Dinner,2\\n95,40.17,,Male,Yes,Fri,Dinner,4\\n96,27.28,4.0,Male,Yes,Fri,Dinner,2\\n97,12.03,1.5,Male,Yes,Fri,Dinner,2\\n98,21.01,3.0,Male,Yes,Fri,Dinner,2\\n99,12.46,1.5,Male,No,Fri,Dinner,2\\n100,11.35,2.5,Female,Yes,Fri,Dinner,2\\n101,15.38,3.0,Female,Yes,Fri,Dinner,2\\n102,44.3,2.5,Female,Yes,Sat,Dinner,3\\n103,22.42,3.48,Female,Yes,Sat,Dinner,2\\n104,20.92,4.08,Female,No,Sat,Dinner,2\\n105,15.36,1.64,Male,Yes,Sat,Dinner,2\\n106,20.49,4.06,Male,Yes,Sat,Dinner,2\\n107,25.21,,Male,Yes,Sat,Dinner,2\\n108,18.24,3.76,Male,No,Sat,Dinner,2\\n109,14.31,4.0,Female,Yes,Sat,Dinner,2\\n110,14.0,3.0,Male,No,Sat,Dinner,2\\n111,7.25,1.0,Female,No,Sat,Dinner,1\\n112,38.07,,Male,No,Sun,Dinner,3\\n113,23.95,2.55,Male,No,Sun,Dinner,2\\n114,25.71,,Female,No,Sun,Dinner,3\\n115,17.31,3.5,Female,No,Sun,Dinner,2\\n116,29.93,5.07,Male,No,Sun,Dinner,4\\n117,10.65,1.5,Female,No,Thur,Lunch,2\\n118,12.43,1.8,Female,No,Thur,Lunch,2\\n119,24.08,2.92,Female,No,Thur,Lunch,4\\n120,11.69,,Male,No,Thur,Lunch,2\\n121,13.42,1.68,Female,No,Thur,Lunch,2\\n122,14.26,,Male,No,Thur,Lunch,2\\n123,15.95,2.0,Male,No,Thur,Lunch,2\\n124,12.48,2.52,Female,No,Thur,Lunch,2\\n125,29.8,4.2,Female,No,Thur,Lunch,6\\n126,8.52,1.48,Male,No,Thur,Lunch,2\\n127,14.52,,Female,No,Thur,Lunch,2\\n128,11.38,,Female,No,Thur,Lunch,2\\n129,22.82,2.18,Male,No,Thur,Lunch,3\\n130,19.08,,Male,No,Thur,Lunch,2\\n131,20.27,2.83,Female,No,Thur,Lunch,2\\n132,11.17,1.5,Female,No,Thur,Lunch,2\\n133,12.26,,Female,No,Thur,Lunch,2\\n134,18.26,3.25,Female,No,Thur,Lunch,2\\n135,8.51,1.25,Female,No,Thur,Lunch,2\\n136,10.33,,Female,No,Thur,Lunch,2\\n137,14.15,2.0,Female,No,Thur,Lunch,2\\n138,16.0,2.0,Male,Yes,Thur,Lunch,2\\n139,13.16,2.75,Female,No,Thur,Lunch,2\\n140,17.47,3.5,Female,No,Thur,Lunch,2\\n141,34.3,,Male,No,Thur,Lunch,6\\n142,41.19,,Male,No,Thur,Lunch,5\\n143,27.05,5.0,Female,No,Thur,Lunch,6\\n144,16.43,,Female,No,Thur,Lunch,2\\n145,8.35,,Female,No,Thur,Lunch,2\\n146,18.64,1.36,Female,No,Thur,Lunch,3\\n147,11.87,1.63,Female,No,Thur,Lunch,2\\n148,9.78,1.73,Male,No,Thur,Lunch,2\\n149,7.51,2.0,Male,No,Thur,Lunch,2\\n150,14.07,2.5,Male,No,Sun,Dinner,2\\n151,13.13,,Male,No,Sun,Dinner,2\\n152,17.26,2.74,Male,No,Sun,Dinner,3\\n153,24.55,2.0,Male,No,Sun,Dinner,4\\n154,19.77,2.0,Male,No,Sun,Dinner,4\\n155,29.85,5.14,Female,No,Sun,Dinner,5\\n156,48.17,5.0,Male,No,Sun,Dinner,6\\n157,25.0,3.75,Female,No,Sun,Dinner,4\\n158,13.39,2.61,Female,No,Sun,Dinner,2\\n159,16.49,,Male,No,Sun,Dinner,4\\n160,21.5,,Male,No,Sun,Dinner,4\\n161,12.66,2.5,Male,No,Sun,Dinner,2\\n162,16.21,2.0,Female,No,Sun,Dinner,3\\n163,13.81,2.0,Male,No,Sun,Dinner,2\\n164,17.51,3.0,Female,Yes,Sun,Dinner,2\\n165,24.52,3.48,Male,No,Sun,Dinner,3\\n166,20.76,2.24,Male,No,Sun,Dinner,2\\n167,31.71,4.5,Male,No,Sun,Dinner,4\\n168,10.59,1.61,Female,Yes,Sat,Dinner,2\\n169,10.63,,Female,Yes,Sat,Dinner,2\\n170,50.81,10.0,Male,Yes,Sat,Dinner,3\\n171,15.81,3.16,Male,Yes,Sat,Dinner,2\\n172,7.25,5.15,Male,Yes,Sun,Dinner,2\\n173,31.85,,Male,Yes,Sun,Dinner,2\\n174,16.82,4.0,Male,Yes,Sun,Dinner,2\\n175,32.9,3.11,Male,Yes,Sun,Dinner,2\\n176,17.89,2.0,Male,Yes,Sun,Dinner,2\\n177,14.48,2.0,Male,Yes,Sun,Dinner,2\\n178,9.6,4.0,Female,Yes,Sun,Dinner,2\\n179,34.63,3.55,Male,Yes,Sun,Dinner,2\\n180,34.65,3.68,Male,Yes,Sun,Dinner,4\\n181,23.33,,Male,Yes,Sun,Dinner,2\\n182,45.35,,Male,Yes,Sun,Dinner,3\\n183,23.17,6.5,Male,Yes,Sun,Dinner,4\\n184,40.55,3.0,Male,Yes,Sun,Dinner,2\\n185,20.69,5.0,Male,No,Sun,Dinner,5\\n186,20.9,,Female,Yes,Sun,Dinner,3\\n187,30.46,,Male,Yes,Sun,Dinner,5\\n188,18.15,3.5,Female,Yes,Sun,Dinner,3\\n189,23.1,4.0,Male,Yes,Sun,Dinner,3\\n190,15.69,,Male,Yes,Sun,Dinner,2\\n191,19.81,,Female,Yes,Thur,Lunch,2\\n192,28.44,2.56,Male,Yes,Thur,Lunch,2\\n193,15.48,,Male,Yes,Thur,Lunch,2\\n194,16.58,4.0,Male,Yes,Thur,Lunch,2\\n195,7.56,1.44,Male,No,Thur,Lunch,2\\n196,10.34,,Male,Yes,Thur,Lunch,2\\n197,43.11,5.0,Female,Yes,Thur,Lunch,4\\n198,13.0,2.0,Female,Yes,Thur,Lunch,2\\n199,13.51,2.0,Male,Yes,Thur,Lunch,2\\n200,18.71,,Male,Yes,Thur,Lunch,3\\n201,12.74,2.01,Female,Yes,Thur,Lunch,2\\n202,13.0,2.0,Female,Yes,Thur,Lunch,2\\n203,16.4,2.5,Female,Yes,Thur,Lunch,2\\n204,20.53,4.0,Male,Yes,Thur,Lunch,4\\n205,16.47,3.23,Female,Yes,Thur,Lunch,3\\n206,26.59,3.41,Male,Yes,Sat,Dinner,3\\n207,38.73,3.0,Male,Yes,Sat,Dinner,4\\n208,24.27,2.03,Male,Yes,Sat,Dinner,2\\n209,12.76,,Female,Yes,Sat,Dinner,2\\n210,30.06,,Male,Yes,Sat,Dinner,3\\n211,25.89,5.16,Male,Yes,Sat,Dinner,4\\n212,48.33,9.0,Male,No,Sat,Dinner,4\\n213,13.27,2.5,Female,Yes,Sat,Dinner,2\\n214,28.17,6.5,Female,Yes,Sat,Dinner,3\\n215,12.9,1.1,Female,Yes,Sat,Dinner,2\\n216,28.15,3.0,Male,Yes,Sat,Dinner,5\\n217,11.59,1.5,Male,Yes,Sat,Dinner,2\\n218,7.74,1.44,Male,Yes,Sat,Dinner,2\\n219,30.14,,Female,Yes,Sat,Dinner,4\\n220,12.16,2.2,Male,Yes,Fri,Lunch,2\\n221,13.42,3.48,Female,Yes,Fri,Lunch,2\\n222,8.58,1.92,Male,Yes,Fri,Lunch,1\\n223,15.98,3.0,Female,No,Fri,Lunch,3\\n224,13.42,1.58,Male,Yes,Fri,Lunch,2\\n225,16.27,2.5,Female,Yes,Fri,Lunch,2\\n226,10.09,,Female,Yes,Fri,Lunch,2\\n227,20.45,3.0,Male,No,Sat,Dinner,4\\n228,13.28,2.72,Male,No,Sat,Dinner,2\\n229,22.12,2.88,Female,Yes,Sat,Dinner,2\\n230,24.01,2.0,Male,Yes,Sat,Dinner,4\\n231,15.69,,Male,Yes,Sat,Dinner,3\\n232,11.61,,Male,No,Sat,Dinner,2\\n233,10.77,1.47,Male,No,Sat,Dinner,2\\n234,15.53,,Male,Yes,Sat,Dinner,2\\n235,10.07,1.25,Male,No,Sat,Dinner,2\\n236,12.6,1.0,Male,Yes,Sat,Dinner,2\\n237,32.83,1.17,Male,Yes,Sat,Dinner,2\\n238,35.83,4.67,Female,No,Sat,Dinner,3\\n239,29.03,5.92,Male,No,Sat,Dinner,3\\n240,27.18,2.0,Female,Yes,Sat,Dinner,2\\n241,22.67,2.0,Male,Yes,Sat,Dinner,2\\n242,17.82,1.75,Male,No,Sat,Dinner,2\\n243,18.78,3.0,Female,No,Thur,Dinner,2\\n'\n",
    "restaurant_nan = pd.read_csv(StringIO(data_nan_str))\n",
    "restaurant_nan.info()"
   ]
  },
  {
   "cell_type": "code",
   "execution_count": 53,
   "metadata": {},
   "outputs": [
    {
     "name": "stdout",
     "output_type": "stream",
     "text": [
      "smoker\n",
      "No     41\n",
      "Yes    24\n",
      "dtype: int64\n"
     ]
    }
   ],
   "source": [
    "# Group both objects according to smoke condition\n",
    "restaurant_nan_grouped = restaurant_nan.groupby('smoker')\n",
    "\n",
    "# Store the number of present values\n",
    "restaurant_nan_nval = restaurant_nan_grouped['tip'].count()\n",
    "\n",
    "# Print the group-wise missing entries\n",
    "print(restaurant_nan_grouped['total_bill'].count() - restaurant_nan_nval)"
   ]
  },
  {
   "cell_type": "code",
   "execution_count": 56,
   "metadata": {},
   "outputs": [
    {
     "name": "stdout",
     "output_type": "stream",
     "text": [
      "   total_bill   tip  size\n",
      "0       16.99  1.01     2\n",
      "1       10.34  1.66     3\n",
      "2       21.01  3.50     3\n",
      "3       23.68  3.31     2\n",
      "4       24.59  3.61     4\n"
     ]
    }
   ],
   "source": [
    "# Define the lambda function\n",
    "missing_trans = lambda x: x.fillna(x.median())\n",
    "\n",
    "# Group the data according to time\n",
    "restaurant_grouped = restaurant_data.groupby('time')\n",
    "\n",
    "# Apply the transformation\n",
    "restaurant_impute = restaurant_grouped.transform(missing_trans)\n",
    "print(restaurant_impute.head())"
   ]
  },
  {
   "cell_type": "markdown",
   "metadata": {},
   "source": [
    "## Filter"
   ]
  },
  {
   "cell_type": "code",
   "execution_count": 58,
   "metadata": {},
   "outputs": [
    {
     "name": "stdout",
     "output_type": "stream",
     "text": [
      "Number of tables where total_bill is greater than $40: 225\n"
     ]
    }
   ],
   "source": [
    "# Filter the days where the count of total_bill is greater than $40\n",
    "total_bill_40 = restaurant_data.groupby('day').filter(lambda x: x['total_bill'].count() > 40)\n",
    "\n",
    "# Print the number of tables where total_bill is greater than $40\n",
    "print('Number of tables where total_bill is greater than $40:', total_bill_40.shape[0])"
   ]
  },
  {
   "cell_type": "code",
   "execution_count": 60,
   "metadata": {},
   "outputs": [
    {
     "name": "stdout",
     "output_type": "stream",
     "text": [
      "Days of the week that have a mean total_bill greater than $20: ['Sun' 'Sat']\n"
     ]
    }
   ],
   "source": [
    "# Filter the days where the count of total_bill is greater than $40\n",
    "total_bill_40 = restaurant_data.groupby('day').filter(lambda x: x['total_bill'].count() > 40)\n",
    "\n",
    "# Select only the entries that have a mean total_bill greater than $20\n",
    "total_bill_20 = total_bill_40.groupby('day').filter(lambda x : x['total_bill'].mean() > 20)\n",
    "\n",
    "# Print days of the week that have a mean total_bill greater than $20\n",
    "print('Days of the week that have a mean total_bill greater than $20:', total_bill_20.day.unique())"
   ]
  },
  {
   "cell_type": "code",
   "execution_count": 61,
   "metadata": {},
   "outputs": [
    {
     "data": {
      "text/plain": [
       "(163, 7)"
      ]
     },
     "execution_count": 61,
     "metadata": {},
     "output_type": "execute_result"
    }
   ],
   "source": [
    "total_bill_20.shape"
   ]
  }
 ],
 "metadata": {
  "kernelspec": {
   "display_name": "Python 3",
   "language": "python",
   "name": "python3"
  },
  "language_info": {
   "codemirror_mode": {
    "name": "ipython",
    "version": 3
   },
   "file_extension": ".py",
   "mimetype": "text/x-python",
   "name": "python",
   "nbconvert_exporter": "python",
   "pygments_lexer": "ipython3",
   "version": "3.8.3"
  }
 },
 "nbformat": 4,
 "nbformat_minor": 4
}
