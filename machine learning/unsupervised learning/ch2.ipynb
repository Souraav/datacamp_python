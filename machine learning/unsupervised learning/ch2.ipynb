{
 "cells": [
  {
   "cell_type": "markdown",
   "metadata": {},
   "source": [
    "# Chapter 2"
   ]
  },
  {
   "cell_type": "code",
   "execution_count": 22,
   "metadata": {},
   "outputs": [],
   "source": [
    "# data prep\n",
    "import numpy as np\n",
    "grain = np.asarray([[ 14.88  ,  14.57  ,   0.8811,   5.554 ,   3.333 ,   1.018 ,   4.956 ],\n",
    "       [ 14.69  ,  14.49  ,   0.8799,   5.563 ,   3.259 ,   3.586 ,   5.219 ],\n",
    "       [ 14.03  ,  14.16  ,   0.8796,   5.438 ,   3.201 ,   1.717 ,   5.001 ],\n",
    "       [ 13.99  ,  13.83  ,   0.9183,   5.119 ,   3.383 ,   5.234 ,   4.781 ],\n",
    "       [ 14.11  ,  14.26  ,   0.8722,   5.52  ,   3.168 ,   2.688 ,   5.219 ],\n",
    "       [ 13.02  ,  13.76  ,   0.8641,   5.395 ,   3.026 ,   3.373 ,   4.825 ],\n",
    "       [ 15.49  ,  14.94  ,   0.8724,   5.757 ,   3.371 ,   3.412 ,   5.228 ],\n",
    "       [ 16.2   ,  15.27  ,   0.8734,   5.826 ,   3.464 ,   2.823 ,   5.527 ],\n",
    "       [ 13.5   ,  13.85  ,   0.8852,   5.351 ,   3.158 ,   2.249 ,   5.176 ],\n",
    "       [ 15.36  ,  14.76  ,   0.8861,   5.701 ,   3.393 ,   1.367 ,   5.132 ],\n",
    "       [ 15.78  ,  14.91  ,   0.8923,   5.674 ,   3.434 ,   5.593 ,   5.136 ],\n",
    "       [ 14.46  ,  14.35  ,   0.8818,   5.388 ,   3.377 ,   2.802 ,   5.044 ],\n",
    "       [ 11.23  ,  12.63  ,   0.884 ,   4.902 ,   2.879 ,   2.269 ,   4.703 ],\n",
    "       [ 14.34  ,  14.37  ,   0.8726,   5.63  ,   3.19  ,   1.313 ,   5.15  ],\n",
    "       [ 16.84  ,  15.67  ,   0.8623,   5.998 ,   3.484 ,   4.675 ,   5.877 ],\n",
    "       [ 17.32  ,  15.91  ,   0.8599,   6.064 ,   3.403 ,   3.824 ,   5.922 ],\n",
    "       [ 18.72  ,  16.19  ,   0.8977,   6.006 ,   3.857 ,   5.324 ,   5.879 ],\n",
    "       [ 18.88  ,  16.26  ,   0.8969,   6.084 ,   3.764 ,   1.649 ,   6.109 ],\n",
    "       [ 18.76  ,  16.2   ,   0.8984,   6.172 ,   3.796 ,   3.12  ,   6.053 ],\n",
    "       [ 19.31  ,  16.59  ,   0.8815,   6.341 ,   3.81  ,   3.477 ,   6.238 ],\n",
    "       [ 17.99  ,  15.86  ,   0.8992,   5.89  ,   3.694 ,   2.068 ,   5.837 ],\n",
    "       [ 18.85  ,  16.17  ,   0.9056,   6.152 ,   3.806 ,   2.843 ,   6.2   ],\n",
    "       [ 19.38  ,  16.72  ,   0.8716,   6.303 ,   3.791 ,   3.678 ,   5.965 ],\n",
    "       [ 18.96  ,  16.2   ,   0.9077,   6.051 ,   3.897 ,   4.334 ,   5.75  ],\n",
    "       [ 18.14  ,  16.12  ,   0.8772,   6.059 ,   3.563 ,   3.619 ,   6.011 ],\n",
    "       [ 18.65  ,  16.41  ,   0.8698,   6.285 ,   3.594 ,   4.391 ,   6.102 ],\n",
    "       [ 18.94  ,  16.32  ,   0.8942,   6.144 ,   3.825 ,   2.908 ,   5.949 ],\n",
    "       [ 17.36  ,  15.76  ,   0.8785,   6.145 ,   3.574 ,   3.526 ,   5.971 ],\n",
    "       [ 13.32  ,  13.94  ,   0.8613,   5.541 ,   3.073 ,   7.035 ,   5.44  ],\n",
    "       [ 11.43  ,  13.13  ,   0.8335,   5.176 ,   2.719 ,   2.221 ,   5.132 ],\n",
    "       [ 12.01  ,  13.52  ,   0.8249,   5.405 ,   2.776 ,   6.992 ,   5.27  ],\n",
    "       [ 11.34  ,  12.87  ,   0.8596,   5.053 ,   2.849 ,   3.347 ,   5.003 ],\n",
    "       [ 12.02  ,  13.33  ,   0.8503,   5.35  ,   2.81  ,   4.271 ,   5.308 ],\n",
    "       [ 12.44  ,  13.59  ,   0.8462,   5.319 ,   2.897 ,   4.924 ,   5.27  ],\n",
    "       [ 11.55  ,  13.1   ,   0.8455,   5.167 ,   2.845 ,   6.715 ,   4.956 ],\n",
    "       [ 11.26  ,  13.01  ,   0.8355,   5.186 ,   2.71  ,   5.335 ,   5.092 ],\n",
    "       [ 12.46  ,  13.41  ,   0.8706,   5.236 ,   3.017 ,   4.987 ,   5.147 ],\n",
    "       [ 11.81  ,  13.45  ,   0.8198,   5.413 ,   2.716 ,   4.898 ,   5.352 ],\n",
    "       [ 11.27  ,  12.86  ,   0.8563,   5.091 ,   2.804 ,   3.985 ,   5.001 ],\n",
    "       [ 12.79  ,  13.53  ,   0.8786,   5.224 ,   3.054 ,   5.483 ,   4.958 ],\n",
    "       [ 12.67  ,  13.32  ,   0.8977,   4.984 ,   3.135 ,   2.3   ,   4.745 ],\n",
    "       [ 11.23  ,  12.88  ,   0.8511,   5.14  ,   2.795 ,   4.325 ,   5.003 ]])\n",
    "samples=grain\n",
    "\n",
    "varieties = ['Kama wheat',\n",
    " 'Kama wheat',\n",
    " 'Kama wheat',\n",
    " 'Kama wheat',\n",
    " 'Kama wheat',\n",
    " 'Kama wheat',\n",
    " 'Kama wheat',\n",
    " 'Kama wheat',\n",
    " 'Kama wheat',\n",
    " 'Kama wheat',\n",
    " 'Kama wheat',\n",
    " 'Kama wheat',\n",
    " 'Kama wheat',\n",
    " 'Kama wheat',\n",
    " 'Rosa wheat',\n",
    " 'Rosa wheat',\n",
    " 'Rosa wheat',\n",
    " 'Rosa wheat',\n",
    " 'Rosa wheat',\n",
    " 'Rosa wheat',\n",
    " 'Rosa wheat',\n",
    " 'Rosa wheat',\n",
    " 'Rosa wheat',\n",
    " 'Rosa wheat',\n",
    " 'Rosa wheat',\n",
    " 'Rosa wheat',\n",
    " 'Rosa wheat',\n",
    " 'Rosa wheat',\n",
    " 'Canadian wheat',\n",
    " 'Canadian wheat',\n",
    " 'Canadian wheat',\n",
    " 'Canadian wheat',\n",
    " 'Canadian wheat',\n",
    " 'Canadian wheat',\n",
    " 'Canadian wheat',\n",
    " 'Canadian wheat',\n",
    " 'Canadian wheat',\n",
    " 'Canadian wheat',\n",
    " 'Canadian wheat',\n",
    " 'Canadian wheat',\n",
    " 'Canadian wheat',\n",
    " 'Canadian wheat']"
   ]
  },
  {
   "cell_type": "code",
   "execution_count": 5,
   "metadata": {},
   "outputs": [
    {
     "data": {
      "image/png": "[encoded data removed]",
      "text/plain": [
       "<matplotlib.figure.Figure at 0x6088a52b0>"
      ]
     },
     "metadata": {},
     "output_type": "display_data"
    }
   ],
   "source": [
    "# Perform the necessary imports\n",
    "from scipy.cluster.hierarchy import linkage, dendrogram\n",
    "import matplotlib.pyplot as plt\n",
    "\n",
    "# Calculate the linkage: mergings\n",
    "mergings = linkage(samples, method='complete')\n",
    "\n",
    "# Plot the dendrogram, using varieties as labels\n",
    "dendrogram(mergings,\n",
    "           labels=varieties,\n",
    "           leaf_rotation=90,\n",
    "           leaf_font_size=6,\n",
    ")\n",
    "plt.show()"
   ]
  },
  {
   "cell_type": "code",
   "execution_count": 14,
   "metadata": {},
   "outputs": [
    {
     "name": "stdout",
     "output_type": "stream",
     "text": [
      "(60, 964)\n",
      "(60, 963)\n",
      "['Apple', 'AIG', 'Amazon', 'American express', 'Boeing', 'Bank of America', 'British American Tobacco', 'Canon', 'Caterpillar', 'Colgate-Palmolive', 'ConocoPhillips', 'Cisco', 'Chevron', 'DuPont de Nemours', 'Dell', 'Ford', 'General Electrics', 'Google/Alphabet', 'Goldman Sachs', 'GlaxoSmithKline', 'Home Depot', 'Honda', 'HP', 'IBM', 'Intel', 'Johnson & Johnson', 'JPMorgan Chase', 'Kimberly-Clark', 'Coca Cola', 'Lookheed Martin', 'MasterCard', 'McDonalds', '3M', 'Microsoft', 'Mitsubishi', 'Navistar', 'Northrop Grumman', 'Novartis', 'Pepsi', 'Pfizer', 'Procter Gamble', 'Philip Morris', 'Royal Dutch Shell', 'SAP', 'Schlumberger', 'Sony', 'Sanofi-Aventis', 'Symantec', 'Toyota', 'Total', 'Taiwan Semiconductor Manufacturing', 'Texas instruments', 'Unilever', 'Valero Energy', 'Walgreen', 'Wells Fargo', 'Wal-Mart', 'Exxon', 'Xerox', 'Yahoo']\n"
     ]
    }
   ],
   "source": [
    "# data prep\n",
    "import pandas as pd\n",
    "from urllib.request import urlretrieve\n",
    "url = 'https://assets.datacamp.com/production/course_2072/datasets/'\n",
    "file = 'company-stock-movements-2010-2015-incl.csv'\n",
    "urlretrieve(url+file, file)\n",
    "\n",
    "movements_raw = pd.read_csv(file)\n",
    "print(movements_raw.shape)\n",
    "movements_raw.iloc[0,:]\n",
    "movements = movements_raw.iloc[:,1:]\n",
    "print(movements.shape)\n",
    "\n",
    "companies = movements_raw.iloc[:,0].tolist()\n",
    "print(companies)"
   ]
  },
  {
   "cell_type": "code",
   "execution_count": 15,
   "metadata": {},
   "outputs": [
    {
     "data": {
      "image/png": "[encoded data removed]",
      "text/plain": [
       "<matplotlib.figure.Figure at 0x1a1578e978>"
      ]
     },
     "metadata": {},
     "output_type": "display_data"
    }
   ],
   "source": [
    "# Import normalize\n",
    "from sklearn.preprocessing import normalize\n",
    "\n",
    "# Normalize the movements: normalized_movements\n",
    "normalized_movements = normalize(movements)\n",
    "\n",
    "# Calculate the linkage: mergings\n",
    "mergings = linkage(normalized_movements, method='complete')\n",
    "\n",
    "# Plot the dendrogram\n",
    "dendrogram(mergings,\n",
    "          labels=companies,\n",
    "          leaf_rotation=90,\n",
    "          leaf_font_size=6)\n",
    "plt.show()\n"
   ]
  },
  {
   "cell_type": "code",
   "execution_count": 18,
   "metadata": {},
   "outputs": [
    {
     "name": "stdout",
     "output_type": "stream",
     "text": [
      "From country,To country,Jury A,Jury B,Jury C,Jury D,Jury E,Jury Rank,Televote Rank,Jury Points,Televote Points\n",
      "Albania,Belgium,20,16,24,22,24,25,14,,\n",
      "Albania,Czech Republic,21,15,25,23,16,22,22,,\n",
      "Albania,The Netherlands,22,14,23,24,21,24,24,,\n",
      "Albania,Azerbaijan,19,12,11,21,11,13,19,,\n",
      "Albania,Hungary,8,13,9,14,9,10,10,1,1\n",
      "Albania,Italy,4,10,3,7,2,3,2,8,10\n",
      "Albania,Israel,10,2,18,4,12,8,17,3,\n",
      "Albania,Bulgaria,11,3,6,13,6,7,3,4,8\n",
      "Albania,Sweden,16,8,15,6,15,11,8,,3\n",
      "(1066, 11)\n"
     ]
    }
   ],
   "source": [
    "# data prep\n",
    "from urllib.request import urlretrieve\n",
    "url = 'https://assets.datacamp.com/production/course_2072/datasets/'\n",
    "file = 'eurovision-2016.csv'\n",
    "urlretrieve(url+file, file)\n",
    "!head eurovision-2016.csv\n",
    "\n",
    "euro = pd.read_csv(file)\n",
    "print(euro.shape)\n",
    "\n",
    "samples = []\n",
    "country_names = []"
   ]
  },
  {
   "cell_type": "code",
   "execution_count": 19,
   "metadata": {},
   "outputs": [],
   "source": [
    "import numpy as np\n",
    "samples = np.asarray(\n",
    "[[  2.,  12.,   0.,   0.,   0.,   8.,   0.,   0.,   0.,   0.,   0.,\n",
    "          0.,   1.,   0.,  10.,   0.,   4.,   0.,   5.,   7.,   0.,   0.,\n",
    "          3.,   0.,   6.,   0.],\n",
    "       [ 12.,   0.,   4.,   0.,   0.,   0.,   0.,   6.,   0.,   7.,   8.,\n",
    "          0.,   3.,   0.,   0.,   0.,   0.,   5.,   1.,  12.,   0.,   0.,\n",
    "          2.,   0.,  10.,   0.],\n",
    "       [  0.,  12.,   3.,   0.,  12.,  10.,   0.,   0.,   0.,   7.,   0.,\n",
    "          0.,   0.,   0.,   0.,   0.,   1.,   6.,   0.,   5.,   0.,   2.,\n",
    "          0.,   0.,   8.,   4.],\n",
    "       [  0.,   3.,  12.,   0.,   0.,   5.,   0.,   0.,   0.,   1.,   0.,\n",
    "          2.,   0.,   0.,   0.,   0.,   0.,   0.,  12.,   8.,   4.,   0.,\n",
    "          7.,   6.,  10.,   0.],\n",
    "       [  0.,   2.,   0.,  12.,   0.,   8.,   0.,   0.,   0.,   4.,   1.,\n",
    "          0.,   7.,   6.,   0.,   0.,   0.,   5.,   3.,  12.,   0.,   0.,\n",
    "          0.,   0.,  10.,   0.],\n",
    "       [  7.,   1.,   0.,   8.,   0.,   4.,   0.,   0.,   0.,   0.,   0.,\n",
    "          0.,   3.,   0.,   0.,   5.,   0.,   0.,   6.,  12.,   0.,   0.,\n",
    "          2.,   0.,  10.,   0.],\n",
    "       [  7.,   4.,   3.,   0.,  12.,   5.,   0.,   0.,   0.,   8.,   0.,\n",
    "          0.,   0.,   0.,   0.,   0.,   0.,   0.,  12.,   6.,   0.,   0.,\n",
    "          1.,  10.,   2.,   0.],\n",
    "       [  0.,   3.,   5.,   8.,   0.,   2.,  10.,   0.,   0.,   4.,   0.,\n",
    "          0.,   1.,   0.,   0.,   0.,   0.,   0.,   0.,   6.,  12.,   0.,\n",
    "          0.,   0.,   7.,   0.],\n",
    "       [  8.,   5.,   4.,   1.,   0.,  12.,   0.,   7.,   0.,   0.,   0.,\n",
    "          0.,   0.,   2.,   0.,   0.,   0.,   0.,   6.,  12.,   0.,   0.,\n",
    "          3.,   0.,  10.,   0.],\n",
    "       [  0.,   5.,   6.,   0.,   0.,   1.,  12.,   0.,   0.,   2.,   0.,\n",
    "          0.,   3.,   0.,   0.,   0.,   0.,   0.,   4.,   8.,  12.,   0.,\n",
    "          7.,   0.,  10.,   0.],\n",
    "       [  8.,   5.,   0.,   0.,   0.,  12.,   0.,  12.,   0.,   6.,   0.,\n",
    "          0.,   4.,   0.,   0.,   0.,   3.,   0.,   2.,  10.,   0.,   0.,\n",
    "          1.,   0.,   7.,   0.],\n",
    "       [  8.,   1.,   4.,   6.,   0.,   5.,   0.,   0.,  12.,   0.,   0.,\n",
    "          0.,   3.,   0.,   0.,   0.,   0.,   0.,   7.,  10.,   0.,   0.,\n",
    "          2.,   0.,  12.,   0.],\n",
    "       [  0.,  10.,   1.,   0.,   8.,   0.,   0.,   0.,   0.,   2.,   0.,\n",
    "          0.,   0.,   0.,   0.,   0.,   6.,   0.,   5.,   4.,   0.,   0.,\n",
    "         12.,   7.,   3.,   0.],\n",
    "       [  0.,   4.,   6.,   0.,   0.,   0.,   0.,   3.,   0.,   2.,   0.,\n",
    "          0.,   0.,   0.,   0.,   7.,   5.,   0.,   1.,  12.,   0.,   0.,\n",
    "         10.,   0.,   8.,   0.],\n",
    "       [  7.,   3.,   0.,   0.,   4.,  10.,   5.,   0.,   0.,   0.,   0.,\n",
    "          0.,   0.,   0.,   1.,   0.,   0.,   0.,   2.,   8.,  12.,   0.,\n",
    "          0.,   0.,   6.,   0.],\n",
    "       [  0.,   7.,   6.,   0.,   0.,   4.,   0.,   1.,   0.,   3.,   0.,\n",
    "          0.,   0.,   0.,   0.,   2.,   0.,   0.,   5.,   8.,   0.,   0.,\n",
    "         10.,   0.,  12.,   0.],\n",
    "       [ 12.,   0.,   8.,   0.,   4.,   5.,   0.,   0.,   0.,  12.,   0.,\n",
    "          0.,   0.,   3.,   0.,   0.,   0.,   0.,   7.,   6.,   0.,   1.,\n",
    "          2.,   0.,  10.,   0.],\n",
    "       [ 12.,   1.,   0.,   7.,   0.,   3.,   0.,   0.,   0.,   0.,  12.,\n",
    "          0.,   2.,   0.,   0.,   6.,   5.,   0.,   4.,   8.,   0.,   0.,\n",
    "          0.,   0.,  10.,   0.],\n",
    "       [  2.,   5.,   7.,   0.,   0.,   4.,   0.,   0.,   0.,   0.,   0.,\n",
    "         12.,   0.,   0.,   1.,   0.,   0.,   0.,  10.,  12.,   0.,   0.,\n",
    "          8.,   3.,   6.,   0.],\n",
    "       [  8.,   5.,   1.,   0.,   0.,   7.,   0.,  12.,   0.,   4.,   0.,\n",
    "          0.,   2.,   0.,   0.,   0.,   0.,   0.,   3.,  10.,   0.,   0.,\n",
    "          0.,   0.,   6.,   0.],\n",
    "       [  0.,   3.,   6.,   0.,   0.,   4.,   0.,   5.,   0.,   1.,   0.,\n",
    "          0.,  12.,   0.,   0.,   0.,   0.,   0.,   8.,  10.,   0.,   0.,\n",
    "          7.,   2.,  12.,   0.],\n",
    "       [  0.,   8.,   2.,   1.,   3.,   0.,   0.,   0.,   0.,   5.,   0.,\n",
    "          0.,   0.,   0.,   0.,   0.,   4.,   0.,  10.,   7.,   0.,   0.,\n",
    "         12.,   6.,   0.,   0.],\n",
    "       [  0.,   6.,   1.,   0.,   0.,   5.,   0.,   0.,   0.,   0.,   0.,\n",
    "          0.,   0.,   0.,   0.,   7.,  12.,   0.,  10.,   8.,   0.,   0.,\n",
    "          2.,   0.,   4.,   3.],\n",
    "       [  6.,   5.,   3.,   2.,   1.,   7.,   0.,   0.,   0.,  12.,   0.,\n",
    "          0.,   0.,  12.,   0.,   0.,   0.,   0.,   4.,  10.,   0.,   0.,\n",
    "          0.,   0.,   8.,   0.],\n",
    "       [  1.,   0.,   0.,   0.,   0.,   7.,   0.,   6.,   0.,   5.,   3.,\n",
    "          0.,   0.,   0.,  12.,   0.,   2.,   0.,  10.,   8.,   4.,   0.,\n",
    "          0.,   0.,  12.,   0.],\n",
    "       [  0.,   6.,   4.,   3.,   0.,   1.,   0.,   0.,   0.,   0.,   2.,\n",
    "          0.,   0.,   0.,   0.,  12.,   8.,   0.,   5.,  12.,   0.,   0.,\n",
    "          7.,   0.,  10.,   0.],\n",
    "       [  0.,   5.,   1.,   0.,   0.,   0.,   0.,   0.,   0.,   3.,   4.,\n",
    "          0.,   2.,   0.,   0.,  12.,  12.,   0.,   6.,   8.,   0.,   0.,\n",
    "          7.,   0.,  10.,   0.],\n",
    "       [  0.,  12.,   0.,   6.,   0.,   8.,   0.,   0.,   0.,   2.,   0.,\n",
    "          0.,   5.,   0.,   7.,   0.,   0.,  12.,   0.,  10.,   0.,   0.,\n",
    "          0.,   3.,   4.,   1.],\n",
    "       [  7.,   5.,   4.,   8.,   0.,   2.,   0.,   0.,   0.,   6.,   0.,\n",
    "          0.,   0.,   0.,   0.,   1.,   3.,   0.,   0.,  12.,   0.,   0.,\n",
    "          0.,   0.,  10.,   0.],\n",
    "       [  0.,   0.,   0.,   7.,   0.,   5.,   6.,   0.,   0.,   1.,   0.,\n",
    "          0.,   3.,   0.,   4.,   0.,   2.,   0.,   0.,  10.,  12.,   0.,\n",
    "          0.,   0.,   8.,   0.],\n",
    "       [  0.,   8.,   0.,   0.,   2.,   5.,   0.,   0.,   0.,   1.,   0.,\n",
    "          0.,   0.,   0.,   0.,   3.,  12.,   0.,  10.,   6.,   0.,   0.,\n",
    "          7.,   0.,   4.,   0.],\n",
    "       [  2.,   7.,   4.,   0.,   0.,   3.,   0.,   1.,   0.,   0.,   0.,\n",
    "          0.,   6.,   0.,   0.,   5.,   0.,   0.,  12.,   8.,   0.,   0.,\n",
    "         10.,   0.,  12.,   0.],\n",
    "       [ 12.,   4.,   8.,   6.,   0.,   0.,   0.,   7.,   0.,   3.,   0.,\n",
    "          0.,   0.,   0.,   0.,   1.,   0.,   0.,   5.,  12.,   0.,   0.,\n",
    "          2.,   0.,  10.,   0.],\n",
    "       [  2.,   5.,   0.,   0.,   0.,   3.,   0.,   0.,   0.,   0.,   0.,\n",
    "          0.,   1.,   0.,   0.,   6.,   8.,   0.,   7.,  10.,   0.,   0.,\n",
    "          4.,   0.,  12.,   0.],\n",
    "       [  2.,   6.,   0.,   0.,   5.,   8.,   4.,   3.,   0.,   0.,   0.,\n",
    "          0.,  10.,   0.,   0.,   0.,   0.,   0.,   0.,  12.,  12.,   0.,\n",
    "          1.,   0.,   7.,   0.],\n",
    "       [  0.,   3.,   6.,   0.,   0.,   2.,   8.,   0.,   0.,   0.,   0.,\n",
    "          0.,   0.,   0.,   1.,   0.,   0.,   0.,   4.,  10.,  12.,   0.,\n",
    "          5.,   0.,   7.,   0.],\n",
    "       [  6.,   4.,   2.,   0.,   0.,  12.,   0.,   0.,   0.,  10.,   0.,\n",
    "          0.,   0.,   0.,   3.,   0.,   0.,   0.,   5.,   8.,   0.,  12.,\n",
    "          1.,   0.,   7.,   0.],\n",
    "       [  0.,  12.,   5.,   0.,   0.,   4.,   0.,   0.,   0.,   3.,   0.,\n",
    "          0.,   0.,   0.,   0.,   0.,   6.,   0.,  10.,   8.,   0.,   1.,\n",
    "         12.,   2.,   7.,   0.],\n",
    "       [  0.,   1.,  10.,   0.,   0.,   0.,   0.,   0.,   0.,   3.,   0.,\n",
    "          8.,   0.,   0.,   7.,   0.,   0.,   0.,   5.,   6.,  12.,   2.,\n",
    "          0.,   0.,   4.,   0.],\n",
    "       [  8.,   5.,   6.,   0.,  12.,   1.,   0.,   0.,   0.,   4.,   0.,\n",
    "          0.,   0.,   0.,   0.,   0.,   0.,   0.,  10.,   3.,   0.,   0.,\n",
    "          2.,  12.,   7.,   0.],\n",
    "       [  7.,   4.,   0.,  10.,   0.,   2.,   0.,   0.,   0.,   0.,   6.,\n",
    "          0.,   0.,   0.,   0.,   5.,   3.,   0.,   8.,  12.,   0.,   0.,\n",
    "          1.,   0.,  12.,   0.],\n",
    "       [  0.,   6.,   0.,   0.,   0.,   8.,   0.,   2.,   0.,   0.,   0.,\n",
    "          0.,   0.,   0.,   0.,   3.,  12.,   0.,  10.,   7.,   0.,   4.,\n",
    "          1.,   0.,   5.,  12.]])"
   ]
  },
  {
   "cell_type": "code",
   "execution_count": 20,
   "metadata": {},
   "outputs": [],
   "source": [
    "country_names = ['Albania',\n",
    " 'Armenia',\n",
    " 'Australia',\n",
    " 'Austria',\n",
    " 'Azerbaijan',\n",
    " 'Belarus',\n",
    " 'Belgium',\n",
    " 'Bosnia & Herzegovina',\n",
    " 'Bulgaria',\n",
    " 'Croatia',\n",
    " 'Cyprus',\n",
    " 'Czech Republic',\n",
    " 'Denmark',\n",
    " 'Estonia',\n",
    " 'F.Y.R. Macedonia',\n",
    " 'Finland',\n",
    " 'France',\n",
    " 'Georgia',\n",
    " 'Germany',\n",
    " 'Greece',\n",
    " 'Hungary',\n",
    " 'Iceland',\n",
    " 'Ireland',\n",
    " 'Israel',\n",
    " 'Italy',\n",
    " 'Latvia',\n",
    " 'Lithuania',\n",
    " 'Malta',\n",
    " 'Moldova',\n",
    " 'Montenegro',\n",
    " 'Norway',\n",
    " 'Poland',\n",
    " 'Russia',\n",
    " 'San Marino',\n",
    " 'Serbia',\n",
    " 'Slovenia',\n",
    " 'Spain',\n",
    " 'Sweden',\n",
    " 'Switzerland',\n",
    " 'The Netherlands',\n",
    " 'Ukraine',\n",
    " 'United Kingdom']"
   ]
  },
  {
   "cell_type": "code",
   "execution_count": 21,
   "metadata": {},
   "outputs": [
    {
     "data": {
      "image/png": "[encoded data removed]",
      "text/plain": [
       "<matplotlib.figure.Figure at 0x1a14f692e8>"
      ]
     },
     "metadata": {},
     "output_type": "display_data"
    }
   ],
   "source": [
    "# Perform the necessary imports\n",
    "import matplotlib.pyplot as plt\n",
    "from scipy.cluster.hierarchy import linkage, dendrogram\n",
    "\n",
    "# Calculate the linkage: mergings\n",
    "mergings = linkage(samples, method='single')\n",
    "\n",
    "# Plot the dendrogram\n",
    "dendrogram(mergings,\n",
    "           labels=country_names,\n",
    "           leaf_rotation=90,\n",
    "           leaf_font_size=6)\n",
    "plt.show()\n"
   ]
  },
  {
   "cell_type": "code",
   "execution_count": 24,
   "metadata": {},
   "outputs": [],
   "source": [
    "# data prep\n",
    "samples = grain\n",
    "\n",
    "# Calculate the linkage: mergings\n",
    "mergings = linkage(samples, method='complete')"
   ]
  },
  {
   "cell_type": "code",
   "execution_count": 25,
   "metadata": {},
   "outputs": [
    {
     "name": "stdout",
     "output_type": "stream",
     "text": [
      "varieties  Canadian wheat  Kama wheat  Rosa wheat\n",
      "labels                                           \n",
      "1                      14           3           0\n",
      "2                       0           0          14\n",
      "3                       0          11           0\n"
     ]
    }
   ],
   "source": [
    "# Perform the necessary imports\n",
    "import pandas as pd\n",
    "from scipy.cluster.hierarchy import fcluster\n",
    "\n",
    "# Use fcluster to extract labels: labels\n",
    "labels = fcluster(mergings, 6, criterion='distance')\n",
    "\n",
    "# Create a DataFrame with labels and varieties as columns: df\n",
    "df = pd.DataFrame({'labels': labels, 'varieties': varieties})\n",
    "\n",
    "# Create crosstab: ct\n",
    "ct = pd.crosstab(df['labels'], df['varieties'])\n",
    "\n",
    "# Display ct\n",
    "print(ct)\n"
   ]
  },
  {
   "cell_type": "markdown",
   "metadata": {},
   "source": [
    "## t-SNE"
   ]
  },
  {
   "cell_type": "code",
   "execution_count": 33,
   "metadata": {},
   "outputs": [
    {
     "name": "stdout",
     "output_type": "stream",
     "text": [
      "15.26,14.84,0.871,5.763,3.312,2.221,5.22,1\n",
      "14.88,14.57,0.8811,5.554,3.333,1.018,4.956,1\n",
      "14.29,14.09,0.905,5.291,3.337,2.699,4.825,1\n",
      "13.84,13.94,0.8955,5.324,3.379,2.259,4.805,1\n",
      "16.14,14.99,0.9034,5.658,3.562,1.355,5.175,1\n",
      "14.38,14.21,0.8951,5.386,3.312,2.462,4.956,1\n",
      "14.69,14.49,0.8799,5.563,3.259,3.586,5.219,1\n",
      "14.11,14.1,0.8911,5.42,3.302,2.7,5,1\n",
      "16.63,15.46,0.8747,6.053,3.465,2.04,5.877,1\n",
      "16.44,15.25,0.888,5.884,3.505,1.969,5.533,1\n",
      "(210, 8)\n"
     ]
    },
    {
     "data": {
      "text/html": [
       "<div>\n",
       "<style scoped>\n",
       "    .dataframe tbody tr th:only-of-type {\n",
       "        vertical-align: middle;\n",
       "    }\n",
       "\n",
       "    .dataframe tbody tr th {\n",
       "        vertical-align: top;\n",
       "    }\n",
       "\n",
       "    .dataframe thead th {\n",
       "        text-align: right;\n",
       "    }\n",
       "</style>\n",
       "<table border=\"1\" class=\"dataframe\">\n",
       "  <thead>\n",
       "    <tr style=\"text-align: right;\">\n",
       "      <th></th>\n",
       "      <th>0</th>\n",
       "      <th>1</th>\n",
       "      <th>2</th>\n",
       "      <th>3</th>\n",
       "      <th>4</th>\n",
       "      <th>5</th>\n",
       "      <th>6</th>\n",
       "    </tr>\n",
       "  </thead>\n",
       "  <tbody>\n",
       "    <tr>\n",
       "      <th>0</th>\n",
       "      <td>15.26</td>\n",
       "      <td>14.84</td>\n",
       "      <td>0.8710</td>\n",
       "      <td>5.763</td>\n",
       "      <td>3.312</td>\n",
       "      <td>2.221</td>\n",
       "      <td>5.220</td>\n",
       "    </tr>\n",
       "    <tr>\n",
       "      <th>1</th>\n",
       "      <td>14.88</td>\n",
       "      <td>14.57</td>\n",
       "      <td>0.8811</td>\n",
       "      <td>5.554</td>\n",
       "      <td>3.333</td>\n",
       "      <td>1.018</td>\n",
       "      <td>4.956</td>\n",
       "    </tr>\n",
       "    <tr>\n",
       "      <th>2</th>\n",
       "      <td>14.29</td>\n",
       "      <td>14.09</td>\n",
       "      <td>0.9050</td>\n",
       "      <td>5.291</td>\n",
       "      <td>3.337</td>\n",
       "      <td>2.699</td>\n",
       "      <td>4.825</td>\n",
       "    </tr>\n",
       "    <tr>\n",
       "      <th>3</th>\n",
       "      <td>13.84</td>\n",
       "      <td>13.94</td>\n",
       "      <td>0.8955</td>\n",
       "      <td>5.324</td>\n",
       "      <td>3.379</td>\n",
       "      <td>2.259</td>\n",
       "      <td>4.805</td>\n",
       "    </tr>\n",
       "    <tr>\n",
       "      <th>4</th>\n",
       "      <td>16.14</td>\n",
       "      <td>14.99</td>\n",
       "      <td>0.9034</td>\n",
       "      <td>5.658</td>\n",
       "      <td>3.562</td>\n",
       "      <td>1.355</td>\n",
       "      <td>5.175</td>\n",
       "    </tr>\n",
       "  </tbody>\n",
       "</table>\n",
       "</div>"
      ],
      "text/plain": [
       "       0      1       2      3      4      5      6\n",
       "0  15.26  14.84  0.8710  5.763  3.312  2.221  5.220\n",
       "1  14.88  14.57  0.8811  5.554  3.333  1.018  4.956\n",
       "2  14.29  14.09  0.9050  5.291  3.337  2.699  4.825\n",
       "3  13.84  13.94  0.8955  5.324  3.379  2.259  4.805\n",
       "4  16.14  14.99  0.9034  5.658  3.562  1.355  5.175"
      ]
     },
     "execution_count": 33,
     "metadata": {},
     "output_type": "execute_result"
    }
   ],
   "source": [
    "# data prep\n",
    "import pandas as pd\n",
    "seeds = pd.read_csv('seeds.csv', header=None)\n",
    "!head seeds.csv\n",
    "\n",
    "print(seeds.shape)\n",
    "samples = seeds.iloc[:,0:7]\n",
    "variety_numbers = seeds.iloc[:,7]\n",
    "samples.head()"
   ]
  },
  {
   "cell_type": "code",
   "execution_count": 38,
   "metadata": {},
   "outputs": [
    {
     "data": {
      "image/png": "[encoded data removed]",
      "text/plain": [
       "<matplotlib.figure.Figure at 0x1a15d2da90>"
      ]
     },
     "metadata": {},
     "output_type": "display_data"
    }
   ],
   "source": [
    "# Import TSNE\n",
    "from sklearn.manifold import TSNE\n",
    "\n",
    "# Create a TSNE instance: model\n",
    "model = TSNE(learning_rate=200)\n",
    "\n",
    "# Apply fit_transform to samples: tsne_features\n",
    "tsne_features = model.fit_transform(samples)\n",
    "\n",
    "# Select the 0th feature: xs\n",
    "xs = tsne_features[:,0]\n",
    "\n",
    "# Select the 1st feature: ys\n",
    "ys = tsne_features[:,1]\n",
    "\n",
    "# Scatter plot, coloring by variety_numbers\n",
    "plt.scatter(xs, ys, c=variety_numbers)\n",
    "plt.show()\n"
   ]
  },
  {
   "cell_type": "code",
   "execution_count": 39,
   "metadata": {},
   "outputs": [
    {
     "name": "stdout",
     "output_type": "stream",
     "text": [
      "(60, 964)\n",
      "(60, 963)\n"
     ]
    }
   ],
   "source": [
    "# data prep\n",
    "from urllib.request import urlretrieve\n",
    "url = 'https://assets.datacamp.com/production/course_2072/datasets/'\n",
    "file = 'company-stock-movements-2010-2015-incl.csv'\n",
    "urlretrieve(url+file, file)\n",
    "\n",
    "movements_raw = pd.read_csv(file)\n",
    "print(movements_raw.shape)\n",
    "movements_raw.iloc[0,:]\n",
    "movements = movements_raw.iloc[:,1:]\n",
    "print(movements.shape)\n",
    "\n",
    "companies = movements_raw.iloc[:,0]"
   ]
  },
  {
   "cell_type": "code",
   "execution_count": 44,
   "metadata": {},
   "outputs": [],
   "source": [
    "from sklearn.preprocessing import Normalizer\n",
    "normalizer = Normalizer()\n",
    "normalized_movements = normalizer.transform(samples)"
   ]
  },
  {
   "cell_type": "code",
   "execution_count": 45,
   "metadata": {},
   "outputs": [
    {
     "data": {
      "image/png": "[encoded data removed]",
      "text/plain": [
       "<matplotlib.figure.Figure at 0x613e54208>"
      ]
     },
     "metadata": {},
     "output_type": "display_data"
    }
   ],
   "source": [
    "# Import TSNE\n",
    "from sklearn.manifold import TSNE\n",
    "\n",
    "# Create a TSNE instance: model\n",
    "model = TSNE(learning_rate=50)\n",
    "\n",
    "# Apply fit_transform to normalized_movements: tsne_features\n",
    "tsne_features = model.fit_transform(normalized_movements)\n",
    "\n",
    "# Select the 0th feature: xs\n",
    "xs = tsne_features[:,0]\n",
    "\n",
    "# Select the 1th feature: ys\n",
    "ys = tsne_features[:,1]\n",
    "\n",
    "# Scatter plot\n",
    "plt.scatter(xs, ys, alpha=0.5)\n",
    "\n",
    "# Annotate the points\n",
    "for x, y, company in zip(xs, ys, companies):\n",
    "    plt.annotate(company, (x, y), fontsize=5, alpha=0.75)\n",
    "plt.show()\n"
   ]
  },
  {
   "cell_type": "code",
   "execution_count": null,
   "metadata": {},
   "outputs": [],
   "source": []
  }
 ],
 "metadata": {
  "kernelspec": {
   "display_name": "Python 3",
   "language": "python",
   "name": "python3"
  },
  "language_info": {
   "codemirror_mode": {
    "name": "ipython",
    "version": 3
   },
   "file_extension": ".py",
   "mimetype": "text/x-python",
   "name": "python",
   "nbconvert_exporter": "python",
   "pygments_lexer": "ipython3",
   "version": "3.6.4"
  }
 },
 "nbformat": 4,
 "nbformat_minor": 2
}
