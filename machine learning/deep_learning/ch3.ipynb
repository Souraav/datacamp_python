{
 "cells": [
  {
   "cell_type": "markdown",
   "metadata": {},
   "source": [
    "# Chapter 3"
   ]
  },
  {
   "cell_type": "code",
   "execution_count": 1,
   "metadata": {},
   "outputs": [
    {
     "name": "stderr",
     "output_type": "stream",
     "text": [
      "Using TensorFlow backend.\n"
     ]
    }
   ],
   "source": [
    "import keras\n",
    "import pandas as pd\n",
    "import numpy as np"
   ]
  },
  {
   "cell_type": "code",
   "execution_count": 4,
   "metadata": {},
   "outputs": [],
   "source": [
    "# data prep\n",
    "from urllib.request import urlretrieve\n",
    "file = 'hourly_wages.csv'\n",
    "url = 'https://assets.datacamp.com/production/course_1975/datasets/' + file\n",
    "urlretrieve(url, file)\n",
    "df = pd.read_csv(file)\n",
    "\n",
    "predictors = df.drop('wage_per_hour', axis='columns').as_matrix()\n",
    "target = df.wage_per_hour.as_matrix()"
   ]
  },
  {
   "cell_type": "code",
   "execution_count": 5,
   "metadata": {},
   "outputs": [],
   "source": [
    "# Import necessary modules\n",
    "import keras\n",
    "from keras.layers import Dense\n",
    "from keras.models import Sequential\n",
    "\n",
    "# Save the number of columns in predictors: n_cols\n",
    "n_cols = predictors.shape[1]\n",
    "\n",
    "# Set up the model: model\n",
    "model = Sequential()\n",
    "\n",
    "# Add the first layer\n",
    "model.add(Dense(50, activation='relu', input_shape=(n_cols,)))\n",
    "\n",
    "# Add the second layer\n",
    "model.add(Dense(32, activation='relu'))\n",
    "\n",
    "# Add the output layer\n",
    "model.add(Dense(1))"
   ]
  },
  {
   "cell_type": "code",
   "execution_count": 8,
   "metadata": {},
   "outputs": [
    {
     "name": "stdout",
     "output_type": "stream",
     "text": [
      "Epoch 1/1\n",
      "534/534 [==============================] - 0s 361us/step - loss: 24.0403\n"
     ]
    },
    {
     "data": {
      "text/plain": [
       "<keras.callbacks.History at 0x1193c6be0>"
      ]
     },
     "execution_count": 8,
     "metadata": {},
     "output_type": "execute_result"
    }
   ],
   "source": [
    "model.compile(optimizer='adam', loss='mean_squared_error')\n",
    "model.fit(predictors, target)"
   ]
  },
  {
   "cell_type": "code",
   "execution_count": 10,
   "metadata": {},
   "outputs": [
    {
     "name": "stdout",
     "output_type": "stream",
     "text": [
      "Loss function: mean_squared_error\n"
     ]
    }
   ],
   "source": [
    "# Import necessary modules\n",
    "import keras\n",
    "from keras.layers import Dense\n",
    "from keras.models import Sequential\n",
    "\n",
    "# Specify the model\n",
    "n_cols = predictors.shape[1]\n",
    "model = Sequential()\n",
    "model.add(Dense(50, activation='relu', input_shape = (n_cols,)))\n",
    "model.add(Dense(32, activation='relu'))\n",
    "model.add(Dense(1))\n",
    "\n",
    "# Compile the model\n",
    "model.compile(optimizer='adam', loss='mean_squared_error')\n",
    "\n",
    "# Verify that model contains information from compiling\n",
    "print(\"Loss function: \" + model.loss)"
   ]
  },
  {
   "cell_type": "code",
   "execution_count": 14,
   "metadata": {},
   "outputs": [
    {
     "name": "stdout",
     "output_type": "stream",
     "text": [
      "Epoch 1/10\n",
      "534/534 [==============================] - 0s 667us/step - loss: 51.1110\n",
      "Epoch 2/10\n",
      "534/534 [==============================] - 0s 151us/step - loss: 26.8202\n",
      "Epoch 3/10\n",
      "534/534 [==============================] - 0s 193us/step - loss: 22.4404\n",
      "Epoch 4/10\n",
      "534/534 [==============================] - 0s 254us/step - loss: 22.2850\n",
      "Epoch 5/10\n",
      "534/534 [==============================] - 0s 161us/step - loss: 21.6138\n",
      "Epoch 6/10\n",
      "534/534 [==============================] - 0s 135us/step - loss: 21.5561\n",
      "Epoch 7/10\n",
      "534/534 [==============================] - 0s 156us/step - loss: 21.0625\n",
      "Epoch 8/10\n",
      "534/534 [==============================] - 0s 126us/step - loss: 21.1469\n",
      "Epoch 9/10\n",
      "534/534 [==============================] - 0s 140us/step - loss: 20.8720\n",
      "Epoch 10/10\n",
      "534/534 [==============================] - 0s 147us/step - loss: 20.6546\n"
     ]
    },
    {
     "data": {
      "text/plain": [
       "<keras.callbacks.History at 0x11afdc668>"
      ]
     },
     "execution_count": 14,
     "metadata": {},
     "output_type": "execute_result"
    }
   ],
   "source": [
    "# Import necessary modules\n",
    "import keras\n",
    "from keras.layers import Dense\n",
    "from keras.models import Sequential\n",
    "\n",
    "# Specify the model\n",
    "n_cols = predictors.shape[1]\n",
    "model = Sequential()\n",
    "model.add(Dense(50, activation='relu', input_shape = (n_cols,)))\n",
    "model.add(Dense(32, activation='relu'))\n",
    "model.add(Dense(1))\n",
    "\n",
    "# Compile the model\n",
    "model.compile(optimizer='adam', loss='mean_squared_error')\n",
    "\n",
    "# Fit the model\n",
    "model.fit(predictors, target, epochs=10)"
   ]
  },
  {
   "cell_type": "markdown",
   "metadata": {},
   "source": [
    "## Classification models"
   ]
  },
  {
   "cell_type": "code",
   "execution_count": 20,
   "metadata": {},
   "outputs": [
    {
     "name": "stdout",
     "output_type": "stream",
     "text": [
      "<class 'pandas.core.frame.DataFrame'>\n",
      "RangeIndex: 891 entries, 0 to 890\n",
      "Data columns (total 11 columns):\n",
      "survived                     891 non-null int64\n",
      "pclass                       891 non-null int64\n",
      "age                          891 non-null float64\n",
      "sibsp                        891 non-null int64\n",
      "parch                        891 non-null int64\n",
      "fare                         891 non-null float64\n",
      "male                         891 non-null int64\n",
      "age_was_missing              891 non-null bool\n",
      "embarked_from_cherbourg      891 non-null int64\n",
      "embarked_from_queenstown     891 non-null int64\n",
      "embarked_from_southampton    891 non-null int64\n",
      "dtypes: bool(1), float64(2), int64(8)\n",
      "memory usage: 70.6 KB\n"
     ]
    },
    {
     "data": {
      "text/plain": [
       "10"
      ]
     },
     "execution_count": 20,
     "metadata": {},
     "output_type": "execute_result"
    }
   ],
   "source": [
    "# data prep\n",
    "file = 'titanic_all_numeric.csv'\n",
    "url = 'https://assets.datacamp.com/production/course_1975/datasets/' + file\n",
    "urlretrieve(url, file)\n",
    "df = pd.read_csv(file)\n",
    "df.info()\n",
    "predictors = df.drop('survived', axis='columns').as_matrix()\n",
    "\n",
    "n_cols = df.shape[1]-1\n",
    "n_cols"
   ]
  },
  {
   "cell_type": "code",
   "execution_count": 24,
   "metadata": {},
   "outputs": [
    {
     "name": "stdout",
     "output_type": "stream",
     "text": [
      "Epoch 1/10\n",
      "891/891 [==============================] - 0s 420us/step - loss: 2.4981 - acc: 0.6061\n",
      "Epoch 2/10\n",
      "891/891 [==============================] - 0s 131us/step - loss: 1.5848 - acc: 0.6016\n",
      "Epoch 3/10\n",
      "891/891 [==============================] - 0s 108us/step - loss: 1.1958 - acc: 0.5982\n",
      "Epoch 4/10\n",
      "891/891 [==============================] - 0s 96us/step - loss: 0.8704 - acc: 0.6016\n",
      "Epoch 5/10\n",
      "891/891 [==============================] - 0s 102us/step - loss: 0.6647 - acc: 0.6599\n",
      "Epoch 6/10\n",
      "891/891 [==============================] - 0s 86us/step - loss: 0.6147 - acc: 0.6869\n",
      "Epoch 7/10\n",
      "891/891 [==============================] - 0s 95us/step - loss: 0.6243 - acc: 0.6891\n",
      "Epoch 8/10\n",
      "891/891 [==============================] - 0s 99us/step - loss: 0.6236 - acc: 0.6801\n",
      "Epoch 9/10\n",
      "891/891 [==============================] - 0s 107us/step - loss: 0.5875 - acc: 0.6857\n",
      "Epoch 10/10\n",
      "891/891 [==============================] - 0s 95us/step - loss: 0.5837 - acc: 0.6981\n"
     ]
    },
    {
     "data": {
      "text/plain": [
       "<keras.callbacks.History at 0x11d30eda0>"
      ]
     },
     "execution_count": 24,
     "metadata": {},
     "output_type": "execute_result"
    }
   ],
   "source": [
    "# Import necessary modules\n",
    "import keras\n",
    "from keras.layers import Dense\n",
    "from keras.models import Sequential\n",
    "from keras.utils import to_categorical\n",
    "\n",
    "# Convert the target to categorical: target\n",
    "target = to_categorical(df.survived)\n",
    "\n",
    "# Set up the model\n",
    "model = Sequential()\n",
    "\n",
    "# Add the first layer\n",
    "model.add(Dense(32, activation='relu', input_shape=(n_cols, )))\n",
    "\n",
    "# Add the output layer\n",
    "model.add(Dense(2, activation='softmax'))\n",
    "\n",
    "# Compile the model\n",
    "model.compile(optimizer='sgd', loss='categorical_crossentropy', metrics=['accuracy'])\n",
    "\n",
    "# Fit the model\n",
    "model.fit(predictors, target, epochs=10)\n"
   ]
  },
  {
   "cell_type": "code",
   "execution_count": 25,
   "metadata": {},
   "outputs": [],
   "source": [
    "from keras.models import load_model\n",
    "model.save('model_file.h5')\n",
    "my_model = load_model('model_file.h5')\n",
    "\n",
    "#predictions = my_model.predict(X_test)\n",
    "#probability_true = predictions[:,1]"
   ]
  },
  {
   "cell_type": "code",
   "execution_count": 26,
   "metadata": {},
   "outputs": [
    {
     "name": "stdout",
     "output_type": "stream",
     "text": [
      "_________________________________________________________________\n",
      "Layer (type)                 Output Shape              Param #   \n",
      "=================================================================\n",
      "dense_28 (Dense)             (None, 32)                352       \n",
      "_________________________________________________________________\n",
      "dense_29 (Dense)             (None, 2)                 66        \n",
      "=================================================================\n",
      "Total params: 418\n",
      "Trainable params: 418\n",
      "Non-trainable params: 0\n",
      "_________________________________________________________________\n"
     ]
    }
   ],
   "source": [
    "my_model.summary()"
   ]
  },
  {
   "cell_type": "code",
   "execution_count": 30,
   "metadata": {},
   "outputs": [],
   "source": [
    "from sklearn.model_selection import train_test_split\n",
    "X_train, X_test, y_train, y_test = train_test_split(predictors,\n",
    "                                                    target,\n",
    "                                                    stratify=target,\n",
    "                                                    test_size=0.2)\n",
    "predictors = X_train\n",
    "target = y_train\n",
    "pred_data = X_test\n",
    "pred_target = y_test"
   ]
  },
  {
   "cell_type": "code",
   "execution_count": 56,
   "metadata": {},
   "outputs": [
    {
     "name": "stdout",
     "output_type": "stream",
     "text": [
      "Epoch 1/10\n",
      "427/427 [==============================] - 0s 1ms/step - loss: 7.1481 - acc: 0.4848\n",
      "Epoch 2/10\n",
      "427/427 [==============================] - 0s 107us/step - loss: 2.7387 - acc: 0.5574\n",
      "Epoch 3/10\n",
      "427/427 [==============================] - 0s 118us/step - loss: 1.9919 - acc: 0.6393\n",
      "Epoch 4/10\n",
      "427/427 [==============================] - 0s 119us/step - loss: 1.8531 - acc: 0.6487\n",
      "Epoch 5/10\n",
      "427/427 [==============================] - 0s 107us/step - loss: 1.1578 - acc: 0.6628\n",
      "Epoch 6/10\n",
      "427/427 [==============================] - 0s 118us/step - loss: 0.9295 - acc: 0.6347\n",
      "Epoch 7/10\n",
      "427/427 [==============================] - 0s 115us/step - loss: 0.7807 - acc: 0.6487\n",
      "Epoch 8/10\n",
      "427/427 [==============================] - 0s 121us/step - loss: 0.7756 - acc: 0.6370\n",
      "Epoch 9/10\n",
      "427/427 [==============================] - 0s 111us/step - loss: 0.6920 - acc: 0.6628\n",
      "Epoch 10/10\n",
      "427/427 [==============================] - 0s 113us/step - loss: 0.6828 - acc: 0.7002\n",
      "[ 0.60006034  0.99905473  0.29719371  0.63187873  0.99999261  0.37216145\n",
      "  0.34741464  0.71141827  0.72954607  0.99934608  0.99999988  0.3607572\n",
      "  0.99654961  0.42446664  0.29277891  0.30209661  0.20036662  0.30202147\n",
      "  0.37458006  0.94520473  0.29575911  0.62370104  0.85699999  0.8790679\n",
      "  0.40411076  0.80761719  0.20691493  0.30280411  0.19108854  0.48186463\n",
      "  0.31021932  0.82686597  0.24393259  0.34550822  0.61443275  0.28510889\n",
      "  0.99995804  0.98692942  0.29446861  0.83815324  0.28283978  0.25003302\n",
      "  0.33327672  0.95431119  0.84038818  0.45872808  0.99915707  1.\n",
      "  0.61516058  0.29446861  0.77238601  0.25345835  0.48186463  0.99998868\n",
      "  0.9253096   1.          0.29446861  0.86514449  0.97714382  0.30280411\n",
      "  0.55241346  0.9707225   0.97873002  0.99702913  0.99991262  0.34125915\n",
      "  0.35248405  0.32081309  0.94466436  0.57914132  0.28439382  0.99062085\n",
      "  0.48504454  0.39785281  0.30209661  0.99044293  0.94914347  0.78088647\n",
      "  0.44934833  0.98692942  0.45195875  0.70975089  0.83815324  0.53929943\n",
      "  0.690826    0.99999928  0.4470329   0.52161241  0.72954607  0.28283978\n",
      "  0.78677088  0.3258799   0.98045063  0.27613571  0.96430892  0.3530542\n",
      "  0.8051827   0.99999952  0.39074048  0.99994779  0.98736084  0.73348707\n",
      "  0.32872683  0.46090478  0.97369087  0.9795633   0.71728462]\n"
     ]
    }
   ],
   "source": [
    "# Specify, compile, and fit the model\n",
    "model = Sequential()\n",
    "model.add(Dense(32, activation='relu', input_shape = (n_cols,)))\n",
    "model.add(Dense(2, activation='softmax'))\n",
    "model.compile(optimizer='sgd', \n",
    "              loss='categorical_crossentropy', \n",
    "              metrics=['accuracy'])\n",
    "model.fit(predictors, target, epochs=10)\n",
    "\n",
    "# Calculate predictions: predictions\n",
    "predictions = model.predict(pred_data)\n",
    "\n",
    "# Calculate predicted probability of survival: predicted_prob_true\n",
    "predicted_prob_true = predictions[:,1]\n",
    "\n",
    "# print predicted_prob_true\n",
    "print(predicted_prob_true)"
   ]
  },
  {
   "cell_type": "code",
   "execution_count": 59,
   "metadata": {},
   "outputs": [
    {
     "name": "stdout",
     "output_type": "stream",
     "text": [
      "0.613861386139\n",
      "0.635514018692\n",
      "[[37 29]\n",
      " [10 31]]\n"
     ]
    }
   ],
   "source": [
    "from sklearn.metrics import f1_score, accuracy_score, confusion_matrix\n",
    "predicted_prob_true_bin = predicted_prob_true > 0.5\n",
    "pred_target_bin = pred_target[:,1].astype('bool')\n",
    "print(f1_score(pred_target_bin, predicted_prob_true_bin))\n",
    "print(accuracy_score(pred_target_bin, predicted_prob_true_bin))\n",
    "print(confusion_matrix(pred_target_bin, predicted_prob_true_bin))"
   ]
  },
  {
   "cell_type": "code",
   "execution_count": null,
   "metadata": {},
   "outputs": [],
   "source": []
  }
 ],
 "metadata": {
  "kernelspec": {
   "display_name": "Python 3",
   "language": "python",
   "name": "python3"
  },
  "language_info": {
   "codemirror_mode": {
    "name": "ipython",
    "version": 3
   },
   "file_extension": ".py",
   "mimetype": "text/x-python",
   "name": "python",
   "nbconvert_exporter": "python",
   "pygments_lexer": "ipython3",
   "version": "3.5.4"
  }
 },
 "nbformat": 4,
 "nbformat_minor": 2
}
