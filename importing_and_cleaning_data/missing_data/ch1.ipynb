{
 "cells": [
  {
   "cell_type": "markdown",
   "metadata": {
    "toc": true
   },
   "source": [
    "<h1>Table of Contents<span class=\"tocSkip\"></span></h1>\n",
    "<div class=\"toc\"><ul class=\"toc-item\"></ul></div>"
   ]
  },
  {
   "cell_type": "markdown",
   "metadata": {},
   "source": [
    "# Chapter 1"
   ]
  },
  {
   "cell_type": "code",
   "execution_count": 4,
   "metadata": {
    "ExecuteTime": {
     "end_time": "2020-02-29T09:22:02.543970Z",
     "start_time": "2020-02-29T09:22:02.529733Z"
    }
   },
   "outputs": [
    {
     "data": {
      "text/plain": [
       "True"
      ]
     },
     "execution_count": 4,
     "metadata": {},
     "output_type": "execute_result"
    }
   ],
   "source": [
    "import pandas as pd\n",
    "import numpy as np\n",
    "import matplotlib.pyplot as plt\n",
    "from urllib.request import urlretrieve\n",
    "\n",
    "# Correct way to check for nan true/false\n",
    "np.isnan(np.nan)"
   ]
  },
  {
   "cell_type": "code",
   "execution_count": null,
   "metadata": {},
   "outputs": [],
   "source": [
    "\"\"\"Correct order: b,d,c,a:\n",
    "\n",
    "    1) Replace missing values with None/np.nan\n",
    "    2) Measure missingness\n",
    "    3) Delete or impute as appropriate\n",
    "    4) Measure performance of imputation\n",
    "\n",
    "\"\"\""
   ]
  },
  {
   "cell_type": "code",
   "execution_count": 5,
   "metadata": {
    "ExecuteTime": {
     "end_time": "2020-02-29T09:25:24.198972Z",
     "start_time": "2020-02-29T09:25:24.191483Z"
    }
   },
   "outputs": [
    {
     "name": "stdout",
     "output_type": "stream",
     "text": [
      "'None' does not support Arithmetic Operations!!\n"
     ]
    }
   ],
   "source": [
    "try:\n",
    "  # Print the sum of two None's\n",
    "  print(\"Add operation output of 'None': \", None + None)\n",
    "\n",
    "except TypeError:\n",
    "  # Print if error\n",
    "  print(\"'None' does not support Arithmetic Operations!!\")"
   ]
  },
  {
   "cell_type": "code",
   "execution_count": 6,
   "metadata": {
    "ExecuteTime": {
     "end_time": "2020-02-29T09:25:40.648560Z",
     "start_time": "2020-02-29T09:25:40.639269Z"
    }
   },
   "outputs": [
    {
     "name": "stdout",
     "output_type": "stream",
     "text": [
      "Add operation output of 'np.nan':  nan\n"
     ]
    }
   ],
   "source": [
    "try:\n",
    "  # Print the sum of two np.nan's\n",
    "  print(\"Add operation output of 'np.nan': \", np.nan+np.nan)\n",
    "\n",
    "except TypeError:\n",
    "  # Print if error\n",
    "  print(\"'np.nan' does not support Arithmetic Operations!!\")"
   ]
  },
  {
   "cell_type": "code",
   "execution_count": 7,
   "metadata": {
    "ExecuteTime": {
     "end_time": "2020-02-29T09:25:59.023321Z",
     "start_time": "2020-02-29T09:25:59.016582Z"
    }
   },
   "outputs": [
    {
     "name": "stdout",
     "output_type": "stream",
     "text": [
      "OR operation output of 'None':  None\n"
     ]
    }
   ],
   "source": [
    "try:\n",
    "  # Print the output of logical OR of two None's\n",
    "  print(\"OR operation output of 'None': \", None or None)\n",
    "\n",
    "except TypeError:\n",
    "  # Print if error\n",
    "  print(\"'None' does not support Logical Operations!!\")"
   ]
  },
  {
   "cell_type": "code",
   "execution_count": 8,
   "metadata": {
    "ExecuteTime": {
     "end_time": "2020-02-29T09:26:14.240472Z",
     "start_time": "2020-02-29T09:26:14.232310Z"
    }
   },
   "outputs": [
    {
     "name": "stdout",
     "output_type": "stream",
     "text": [
      "OR operation output of 'np.nan':  nan\n"
     ]
    }
   ],
   "source": [
    "try:\n",
    "  # Print the output of logical OR of two np.nan's\n",
    "  print(\"OR operation output of 'np.nan': \", np.nan or np.nan)\n",
    "\n",
    "except TypeError:\n",
    "  # Print if error\n",
    "  print(\"'np.nan' does not support Logical Operations!!\")"
   ]
  },
  {
   "cell_type": "code",
   "execution_count": 9,
   "metadata": {
    "ExecuteTime": {
     "end_time": "2020-02-29T09:26:42.242662Z",
     "start_time": "2020-02-29T09:26:42.233726Z"
    }
   },
   "outputs": [
    {
     "name": "stdout",
     "output_type": "stream",
     "text": [
      "'None' comparison output:  True\n"
     ]
    }
   ],
   "source": [
    "try:\n",
    "  # Print the comparison of two 'None's\n",
    "  print(\"'None' comparison output: \", None == None)\n",
    "\n",
    "except TypeError:\n",
    "  # Print if error\n",
    "  print(\"'None' does not support this operation!!\")"
   ]
  },
  {
   "cell_type": "code",
   "execution_count": 10,
   "metadata": {
    "ExecuteTime": {
     "end_time": "2020-02-29T09:26:56.021390Z",
     "start_time": "2020-02-29T09:26:55.993768Z"
    }
   },
   "outputs": [
    {
     "name": "stdout",
     "output_type": "stream",
     "text": [
      "'np.nan' comparison output:  False\n"
     ]
    }
   ],
   "source": [
    "try:\n",
    "  # Print the comparison of two 'np.nan's\n",
    "  print(\"'np.nan' comparison output: \", np.nan == np.nan)\n",
    "\n",
    "except TypeError:\n",
    "  # Print if error  \n",
    "  print(\"'np.nan' does not support this operation!!\")"
   ]
  },
  {
   "cell_type": "code",
   "execution_count": 13,
   "metadata": {
    "ExecuteTime": {
     "end_time": "2020-02-29T09:28:06.570259Z",
     "start_time": "2020-02-29T09:28:06.562665Z"
    }
   },
   "outputs": [
    {
     "name": "stdout",
     "output_type": "stream",
     "text": [
      "Function 'np.isnan()' does not support this Type!!\n"
     ]
    }
   ],
   "source": [
    "try:\n",
    "  # Check if 'None' is 'NaN'\n",
    "  print(\"Is 'None' same as nan? \", np.isnan(None))\n",
    "\n",
    "except TypeError:\n",
    "  # Print if error\n",
    "  print(\"Function 'np.isnan()' does not support this Type!!\")"
   ]
  },
  {
   "cell_type": "code",
   "execution_count": 14,
   "metadata": {
    "ExecuteTime": {
     "end_time": "2020-02-29T09:28:28.257395Z",
     "start_time": "2020-02-29T09:28:28.247928Z"
    }
   },
   "outputs": [
    {
     "name": "stdout",
     "output_type": "stream",
     "text": [
      "Is 'np.nan' same as nan?  True\n"
     ]
    }
   ],
   "source": [
    "try:\n",
    "  # Check if 'np.nan' is 'NaN'\n",
    "  print(\"Is 'np.nan' same as nan? \", np.isnan(np.nan))\n",
    "\n",
    "except TypeError:\n",
    "  # Print if error\n",
    "  print(\"Function 'np.isnan()' does not support this Type!!\")"
   ]
  },
  {
   "cell_type": "code",
   "execution_count": 17,
   "metadata": {
    "ExecuteTime": {
     "end_time": "2020-02-29T09:34:59.916886Z",
     "start_time": "2020-02-29T09:34:59.554306Z"
    }
   },
   "outputs": [
    {
     "name": "stdout",
     "output_type": "stream",
     "text": [
      "  gradrat            lenroll rmbrd  private stufac    csat   act\n",
      "0    59.0       5.1761497326  3.75      1.0   10.8       .  21.0\n",
      "1    52.0       4.7791234931  3.74      1.0   17.7       .  21.0\n",
      "2    75.0  6.122492809500001     .      1.0   11.4  1052.0  24.0\n",
      "3    56.0       5.3181199938   4.1      1.0   11.6   940.0  23.0\n",
      "4    71.0  5.631211781799999     .      1.0   18.3       .  17.0\n"
     ]
    }
   ],
   "source": [
    "# Read the dataset 'college.csv'\n",
    "college = pd.read_csv('college.csv')\n",
    "print(college.head())"
   ]
  },
  {
   "cell_type": "code",
   "execution_count": 18,
   "metadata": {
    "ExecuteTime": {
     "end_time": "2020-02-29T09:35:18.153058Z",
     "start_time": "2020-02-29T09:35:18.114500Z"
    }
   },
   "outputs": [
    {
     "name": "stdout",
     "output_type": "stream",
     "text": [
      "  gradrat            lenroll rmbrd  private stufac    csat   act\n",
      "0    59.0       5.1761497326  3.75      1.0   10.8       .  21.0\n",
      "1    52.0       4.7791234931  3.74      1.0   17.7       .  21.0\n",
      "2    75.0  6.122492809500001     .      1.0   11.4  1052.0  24.0\n",
      "3    56.0       5.3181199938   4.1      1.0   11.6   940.0  23.0\n",
      "4    71.0  5.631211781799999     .      1.0   18.3       .  17.0\n",
      "<class 'pandas.core.frame.DataFrame'>\n",
      "RangeIndex: 200 entries, 0 to 199\n",
      "Data columns (total 7 columns):\n",
      "gradrat    200 non-null object\n",
      "lenroll    200 non-null object\n",
      "rmbrd      200 non-null object\n",
      "private    200 non-null float64\n",
      "stufac     200 non-null object\n",
      "csat       200 non-null object\n",
      "act        200 non-null object\n",
      "dtypes: float64(1), object(6)\n",
      "memory usage: 11.0+ KB\n",
      "None\n"
     ]
    }
   ],
   "source": [
    "# Read the dataset 'college.csv'\n",
    "college = pd.read_csv('college.csv')\n",
    "print(college.head())\n",
    "\n",
    "# Print the info of college\n",
    "print(college.info())"
   ]
  },
  {
   "cell_type": "code",
   "execution_count": 19,
   "metadata": {
    "ExecuteTime": {
     "end_time": "2020-02-29T09:35:42.178504Z",
     "start_time": "2020-02-29T09:35:42.149742Z"
    }
   },
   "outputs": [
    {
     "name": "stdout",
     "output_type": "stream",
     "text": [
      "  gradrat            lenroll rmbrd  private stufac    csat   act\n",
      "0    59.0       5.1761497326  3.75      1.0   10.8       .  21.0\n",
      "1    52.0       4.7791234931  3.74      1.0   17.7       .  21.0\n",
      "2    75.0  6.122492809500001     .      1.0   11.4  1052.0  24.0\n",
      "3    56.0       5.3181199938   4.1      1.0   11.6   940.0  23.0\n",
      "4    71.0  5.631211781799999     .      1.0   18.3       .  17.0\n",
      "<class 'pandas.core.frame.DataFrame'>\n",
      "RangeIndex: 200 entries, 0 to 199\n",
      "Data columns (total 7 columns):\n",
      "gradrat    200 non-null object\n",
      "lenroll    200 non-null object\n",
      "rmbrd      200 non-null object\n",
      "private    200 non-null float64\n",
      "stufac     200 non-null object\n",
      "csat       200 non-null object\n",
      "act        200 non-null object\n",
      "dtypes: float64(1), object(6)\n",
      "memory usage: 11.0+ KB\n",
      "None\n"
     ]
    }
   ],
   "source": [
    "# Read the dataset 'college.csv'\n",
    "college = pd.read_csv('college.csv')\n",
    "print(college.head())\n",
    "\n",
    "# Print the 'info' of 'college'\n",
    "print(college.info())\n",
    "\n",
    "# Store unique values of 'csat' column to 'csat_unique'\n",
    "csat_unique = college.csat.unique()"
   ]
  },
  {
   "cell_type": "code",
   "execution_count": 21,
   "metadata": {
    "ExecuteTime": {
     "end_time": "2020-02-29T09:36:11.958226Z",
     "start_time": "2020-02-29T09:36:11.931737Z"
    }
   },
   "outputs": [
    {
     "name": "stdout",
     "output_type": "stream",
     "text": [
      "  gradrat            lenroll rmbrd  private stufac    csat   act\n",
      "0    59.0       5.1761497326  3.75      1.0   10.8       .  21.0\n",
      "1    52.0       4.7791234931  3.74      1.0   17.7       .  21.0\n",
      "2    75.0  6.122492809500001     .      1.0   11.4  1052.0  24.0\n",
      "3    56.0       5.3181199938   4.1      1.0   11.6   940.0  23.0\n",
      "4    71.0  5.631211781799999     .      1.0   18.3       .  17.0\n",
      "<class 'pandas.core.frame.DataFrame'>\n",
      "RangeIndex: 200 entries, 0 to 199\n",
      "Data columns (total 7 columns):\n",
      "gradrat    200 non-null object\n",
      "lenroll    200 non-null object\n",
      "rmbrd      200 non-null object\n",
      "private    200 non-null float64\n",
      "stufac     200 non-null object\n",
      "csat       200 non-null object\n",
      "act        200 non-null object\n",
      "dtypes: float64(1), object(6)\n",
      "memory usage: 11.0+ KB\n",
      "None\n",
      "['.' '1000.0' '1006.0' '1010.0' '1013.0' '1020.0' '1024.0' '1026.0'\n",
      " '1028.0' '1036.0' '1039.0' '1040.0' '1044.0' '1045.0' '1050.0' '1052.0'\n",
      " '1060.0' '1070.0' '1080.0' '1092.0' '1096.0' '1109.0' '1111.0' '1120.0'\n",
      " '1139.0' '1150.0' '1171.0' '1200.0' '1210.0' '1220.0' '1230.0' '1270.0'\n",
      " '1292.0' '1324.0' '1381.0' '741.0' '763.0' '764.0' '782.0' '800.0'\n",
      " '802.0' '810.0' '813.0' '814.0' '816.0' '825.0' '830.0' '832.0' '837.0'\n",
      " '843.0' '846.0' '850.0' '853.0' '854.0' '860.0' '863.0' '867.0' '871.0'\n",
      " '880.0' '881.0' '885.0' '890.0' '891.0' '895.0' '897.0' '900.0' '902.0'\n",
      " '905.0' '911.0' '917.0' '919.0' '923.0' '937.0' '940.0' '943.0' '947.0'\n",
      " '950.0' '951.0' '964.0' '970.0' '979.0' '980.0' '989.0' '992.0' '994.0'\n",
      " '996.0' '997.0' '998.0']\n"
     ]
    }
   ],
   "source": [
    "# Read the dataset 'college.csv'\n",
    "college = pd.read_csv('college.csv')\n",
    "print(college.head())\n",
    "\n",
    "# Print the info of college\n",
    "print(college.info())\n",
    "\n",
    "# Store unique values of 'csat' column to 'csat_unique'\n",
    "csat_unique = college.csat.unique()\n",
    "\n",
    "# Print the sorted values of csat_unique\n",
    "print(np.sort(csat_unique))"
   ]
  },
  {
   "cell_type": "code",
   "execution_count": 22,
   "metadata": {
    "ExecuteTime": {
     "end_time": "2020-02-29T09:36:50.632103Z",
     "start_time": "2020-02-29T09:36:50.613588Z"
    }
   },
   "outputs": [
    {
     "name": "stdout",
     "output_type": "stream",
     "text": [
      "   gradrat   lenroll  rmbrd  private  stufac    csat   act\n",
      "0     59.0  5.176150   3.75      1.0    10.8     NaN  21.0\n",
      "1     52.0  4.779123   3.74      1.0    17.7     NaN  21.0\n",
      "2     75.0  6.122493    NaN      1.0    11.4  1052.0  24.0\n",
      "3     56.0  5.318120   4.10      1.0    11.6   940.0  23.0\n",
      "4     71.0  5.631212    NaN      1.0    18.3     NaN  17.0\n"
     ]
    }
   ],
   "source": [
    "# Read the dataset 'college.csv' with na_values set to '.'\n",
    "college = pd.read_csv('college.csv', na_values='.')\n",
    "print(college.head())"
   ]
  },
  {
   "cell_type": "code",
   "execution_count": 23,
   "metadata": {
    "ExecuteTime": {
     "end_time": "2020-02-29T09:37:15.261920Z",
     "start_time": "2020-02-29T09:37:15.232368Z"
    }
   },
   "outputs": [
    {
     "name": "stdout",
     "output_type": "stream",
     "text": [
      "   gradrat   lenroll  rmbrd  private  stufac    csat   act\n",
      "0     59.0  5.176150   3.75      1.0    10.8     NaN  21.0\n",
      "1     52.0  4.779123   3.74      1.0    17.7     NaN  21.0\n",
      "2     75.0  6.122493    NaN      1.0    11.4  1052.0  24.0\n",
      "3     56.0  5.318120   4.10      1.0    11.6   940.0  23.0\n",
      "4     71.0  5.631212    NaN      1.0    18.3     NaN  17.0\n",
      "<class 'pandas.core.frame.DataFrame'>\n",
      "RangeIndex: 200 entries, 0 to 199\n",
      "Data columns (total 7 columns):\n",
      "gradrat    187 non-null float64\n",
      "lenroll    199 non-null float64\n",
      "rmbrd      114 non-null float64\n",
      "private    200 non-null float64\n",
      "stufac     199 non-null float64\n",
      "csat       105 non-null float64\n",
      "act        104 non-null float64\n",
      "dtypes: float64(7)\n",
      "memory usage: 11.0 KB\n",
      "None\n"
     ]
    }
   ],
   "source": [
    "# Read the dataset 'college.csv' with na_values set to '.'\n",
    "college = pd.read_csv('college.csv', na_values='.')\n",
    "print(college.head())\n",
    "\n",
    "# Print the info of college\n",
    "print(college.info())"
   ]
  },
  {
   "cell_type": "code",
   "execution_count": 26,
   "metadata": {
    "ExecuteTime": {
     "end_time": "2020-02-29T09:39:09.291804Z",
     "start_time": "2020-02-29T09:39:09.169810Z"
    }
   },
   "outputs": [],
   "source": [
    "file = 'diabetes.csv'\n",
    "url = 'https://assets.datacamp.com/production/repositories/4584/datasets/459359643874ba6411189d4a5251204b6142dd7d/pima-indians-diabetes%20data.csv'\n",
    "\n",
    "urlretrieve(url, file)\n",
    "diabetes = pd.read_csv(file)"
   ]
  },
  {
   "cell_type": "code",
   "execution_count": 27,
   "metadata": {
    "ExecuteTime": {
     "end_time": "2020-02-29T09:39:22.030805Z",
     "start_time": "2020-02-29T09:39:21.969969Z"
    }
   },
   "outputs": [
    {
     "name": "stdout",
     "output_type": "stream",
     "text": [
      "         Pregnant     Glucose  Diastolic_BP   Skin_Fold  Serum_Insulin  \\\n",
      "count  768.000000  763.000000    733.000000  541.000000     394.000000   \n",
      "mean     3.845052  121.686763     72.405184   29.153420     155.548223   \n",
      "std      3.369578   30.535641     12.382158   10.476982     118.775855   \n",
      "min      0.000000   44.000000     24.000000    7.000000      14.000000   \n",
      "25%      1.000000   99.000000     64.000000   22.000000      76.250000   \n",
      "50%      3.000000  117.000000     72.000000   29.000000     125.000000   \n",
      "75%      6.000000  141.000000     80.000000   36.000000     190.000000   \n",
      "max     17.000000  199.000000    122.000000   99.000000     846.000000   \n",
      "\n",
      "              BMI  Diabetes_Pedigree         Age       Class  \n",
      "count  757.000000         768.000000  768.000000  768.000000  \n",
      "mean    32.457464           0.471876   33.240885    0.348958  \n",
      "std      6.924988           0.331329   11.760232    0.476951  \n",
      "min     18.200000           0.078000   21.000000    0.000000  \n",
      "25%     27.500000           0.243750   24.000000    0.000000  \n",
      "50%     32.300000           0.372500   29.000000    0.000000  \n",
      "75%     36.600000           0.626250   41.000000    1.000000  \n",
      "max     67.100000           2.420000   81.000000    1.000000  \n"
     ]
    }
   ],
   "source": [
    "# Print the description of the data\n",
    "print(diabetes.describe())"
   ]
  },
  {
   "cell_type": "code",
   "execution_count": 28,
   "metadata": {
    "ExecuteTime": {
     "end_time": "2020-02-29T09:40:01.422567Z",
     "start_time": "2020-02-29T09:40:01.368256Z"
    }
   },
   "outputs": [
    {
     "name": "stdout",
     "output_type": "stream",
     "text": [
      "         Pregnant     Glucose  Diastolic_BP   Skin_Fold  Serum_Insulin  \\\n",
      "count  768.000000  763.000000    733.000000  541.000000     394.000000   \n",
      "mean     3.845052  121.686763     72.405184   29.153420     155.548223   \n",
      "std      3.369578   30.535641     12.382158   10.476982     118.775855   \n",
      "min      0.000000   44.000000     24.000000    7.000000      14.000000   \n",
      "25%      1.000000   99.000000     64.000000   22.000000      76.250000   \n",
      "50%      3.000000  117.000000     72.000000   29.000000     125.000000   \n",
      "75%      6.000000  141.000000     80.000000   36.000000     190.000000   \n",
      "max     17.000000  199.000000    122.000000   99.000000     846.000000   \n",
      "\n",
      "              BMI  Diabetes_Pedigree         Age       Class  \n",
      "count  757.000000         768.000000  768.000000  768.000000  \n",
      "mean    32.457464           0.471876   33.240885    0.348958  \n",
      "std      6.924988           0.331329   11.760232    0.476951  \n",
      "min     18.200000           0.078000   21.000000    0.000000  \n",
      "25%     27.500000           0.243750   24.000000    0.000000  \n",
      "50%     32.300000           0.372500   29.000000    0.000000  \n",
      "75%     36.600000           0.626250   41.000000    1.000000  \n",
      "max     67.100000           2.420000   81.000000    1.000000  \n",
      "Series([], Name: BMI, dtype: float64)\n"
     ]
    }
   ],
   "source": [
    "# Print the description of the data\n",
    "print(diabetes.describe())\n",
    "\n",
    "# Store all rows of column 'BMI' which are equal to 0 \n",
    "zero_bmi = diabetes.BMI[diabetes.BMI == 0]\n",
    "print(zero_bmi)"
   ]
  },
  {
   "cell_type": "code",
   "execution_count": 29,
   "metadata": {
    "ExecuteTime": {
     "end_time": "2020-02-29T09:41:13.779358Z",
     "start_time": "2020-02-29T09:41:13.561521Z"
    }
   },
   "outputs": [
    {
     "name": "stdout",
     "output_type": "stream",
     "text": [
      "         Pregnant     Glucose  Diastolic_BP   Skin_Fold  Serum_Insulin  \\\n",
      "count  768.000000  763.000000    733.000000  541.000000     394.000000   \n",
      "mean     3.845052  121.686763     72.405184   29.153420     155.548223   \n",
      "std      3.369578   30.535641     12.382158   10.476982     118.775855   \n",
      "min      0.000000   44.000000     24.000000    7.000000      14.000000   \n",
      "25%      1.000000   99.000000     64.000000   22.000000      76.250000   \n",
      "50%      3.000000  117.000000     72.000000   29.000000     125.000000   \n",
      "75%      6.000000  141.000000     80.000000   36.000000     190.000000   \n",
      "max     17.000000  199.000000    122.000000   99.000000     846.000000   \n",
      "\n",
      "              BMI  Diabetes_Pedigree         Age       Class  \n",
      "count  757.000000         768.000000  768.000000  768.000000  \n",
      "mean    32.457464           0.471876   33.240885    0.348958  \n",
      "std      6.924988           0.331329   11.760232    0.476951  \n",
      "min     18.200000           0.078000   21.000000    0.000000  \n",
      "25%     27.500000           0.243750   24.000000    0.000000  \n",
      "50%     32.300000           0.372500   29.000000    0.000000  \n",
      "75%     36.600000           0.626250   41.000000    1.000000  \n",
      "max     67.100000           2.420000   81.000000    1.000000  \n",
      "Series([], Name: BMI, dtype: float64)\n"
     ]
    },
    {
     "name": "stderr",
     "output_type": "stream",
     "text": [
      "/Users/Brian/anaconda3/envs/datacamp/lib/python3.6/site-packages/ipykernel_launcher.py:9: SettingWithCopyWarning: \n",
      "A value is trying to be set on a copy of a slice from a DataFrame\n",
      "\n",
      "See the caveats in the documentation: http://pandas.pydata.org/pandas-docs/stable/indexing.html#indexing-view-versus-copy\n",
      "  if __name__ == '__main__':\n"
     ]
    }
   ],
   "source": [
    "# Print the description of the data\n",
    "print(diabetes.describe())\n",
    "\n",
    "# Store all rows of column 'BMI' which are equal to 0 \n",
    "zero_bmi = diabetes.BMI[diabetes.BMI == 0]\n",
    "print(zero_bmi)\n",
    "\n",
    "# Set the 0 values of column 'BMI' to np.nan\n",
    "diabetes.BMI[diabetes.BMI == 0] = np.nan"
   ]
  },
  {
   "cell_type": "code",
   "execution_count": 30,
   "metadata": {
    "ExecuteTime": {
     "end_time": "2020-02-29T09:41:43.886716Z",
     "start_time": "2020-02-29T09:41:43.722996Z"
    }
   },
   "outputs": [
    {
     "name": "stdout",
     "output_type": "stream",
     "text": [
      "         Pregnant     Glucose  Diastolic_BP   Skin_Fold  Serum_Insulin  \\\n",
      "count  768.000000  763.000000    733.000000  541.000000     394.000000   \n",
      "mean     3.845052  121.686763     72.405184   29.153420     155.548223   \n",
      "std      3.369578   30.535641     12.382158   10.476982     118.775855   \n",
      "min      0.000000   44.000000     24.000000    7.000000      14.000000   \n",
      "25%      1.000000   99.000000     64.000000   22.000000      76.250000   \n",
      "50%      3.000000  117.000000     72.000000   29.000000     125.000000   \n",
      "75%      6.000000  141.000000     80.000000   36.000000     190.000000   \n",
      "max     17.000000  199.000000    122.000000   99.000000     846.000000   \n",
      "\n",
      "              BMI  Diabetes_Pedigree         Age       Class  \n",
      "count  757.000000         768.000000  768.000000  768.000000  \n",
      "mean    32.457464           0.471876   33.240885    0.348958  \n",
      "std      6.924988           0.331329   11.760232    0.476951  \n",
      "min     18.200000           0.078000   21.000000    0.000000  \n",
      "25%     27.500000           0.243750   24.000000    0.000000  \n",
      "50%     32.300000           0.372500   29.000000    0.000000  \n",
      "75%     36.600000           0.626250   41.000000    1.000000  \n",
      "max     67.100000           2.420000   81.000000    1.000000  \n",
      "Series([], Name: BMI, dtype: float64)\n",
      "9     NaN\n",
      "49    NaN\n",
      "60    NaN\n",
      "81    NaN\n",
      "145   NaN\n",
      "371   NaN\n",
      "426   NaN\n",
      "494   NaN\n",
      "522   NaN\n",
      "684   NaN\n",
      "706   NaN\n",
      "Name: BMI, dtype: float64\n"
     ]
    },
    {
     "name": "stderr",
     "output_type": "stream",
     "text": [
      "/Users/Brian/anaconda3/envs/datacamp/lib/python3.6/site-packages/ipykernel_launcher.py:9: SettingWithCopyWarning: \n",
      "A value is trying to be set on a copy of a slice from a DataFrame\n",
      "\n",
      "See the caveats in the documentation: http://pandas.pydata.org/pandas-docs/stable/indexing.html#indexing-view-versus-copy\n",
      "  if __name__ == '__main__':\n"
     ]
    }
   ],
   "source": [
    "# Print the description of the data\n",
    "print(diabetes.describe())\n",
    "\n",
    "# Store all rows of column 'BMI' which are equal to 0 \n",
    "zero_bmi = diabetes.BMI[diabetes.BMI == 0]\n",
    "print(zero_bmi)\n",
    "\n",
    "# Set the 0 values of column 'BMI' to np.nan\n",
    "diabetes.BMI[diabetes.BMI == 0] = np.nan\n",
    "\n",
    "# Print the 'NaN' values in the column BMI\n",
    "print(diabetes.BMI[np.isnan(diabetes.BMI)])"
   ]
  },
  {
   "cell_type": "code",
   "execution_count": 31,
   "metadata": {
    "ExecuteTime": {
     "end_time": "2020-02-29T09:58:34.514813Z",
     "start_time": "2020-02-29T09:58:33.822872Z"
    }
   },
   "outputs": [
    {
     "data": {
      "text/plain": [
       "('air-quality.csv', <http.client.HTTPMessage at 0x120ee5eb8>)"
      ]
     },
     "execution_count": 31,
     "metadata": {},
     "output_type": "execute_result"
    }
   ],
   "source": [
    "file = 'air-quality.csv'\n",
    "url = 'https://assets.datacamp.com/production/repositories/4584/datasets/2f7155541f430d0e0e94d30a0becabcdc7dabded/'\n",
    "urlretrieve(url+file, file)"
   ]
  },
  {
   "cell_type": "code",
   "execution_count": 33,
   "metadata": {
    "ExecuteTime": {
     "end_time": "2020-02-29T09:59:03.885352Z",
     "start_time": "2020-02-29T09:59:03.870946Z"
    }
   },
   "outputs": [],
   "source": [
    "# Load the airquality dataset\n",
    "airquality = pd.read_csv('air-quality.csv', parse_dates=['Date'], index_col='Date')"
   ]
  },
  {
   "cell_type": "code",
   "execution_count": 34,
   "metadata": {
    "ExecuteTime": {
     "end_time": "2020-02-29T09:59:50.629652Z",
     "start_time": "2020-02-29T09:59:50.600900Z"
    }
   },
   "outputs": [
    {
     "name": "stdout",
     "output_type": "stream",
     "text": [
      "            Ozone  Solar   Wind   Temp\n",
      "Date                                  \n",
      "1976-05-01  False  False  False  False\n",
      "1976-05-02  False  False  False  False\n",
      "1976-05-03  False  False  False  False\n",
      "1976-05-04  False  False  False  False\n",
      "1976-05-05   True   True  False  False\n"
     ]
    }
   ],
   "source": [
    "# Load the airquality dataset\n",
    "airquality = pd.read_csv('air-quality.csv', parse_dates=['Date'], index_col='Date')\n",
    "\n",
    "# Create a nullity DataFrame airquality_nullity\n",
    "airquality_nullity = airquality.isnull()\n",
    "print(airquality_nullity.head())"
   ]
  },
  {
   "cell_type": "code",
   "execution_count": 36,
   "metadata": {
    "ExecuteTime": {
     "end_time": "2020-02-29T10:00:48.047632Z",
     "start_time": "2020-02-29T10:00:48.016732Z"
    }
   },
   "outputs": [
    {
     "name": "stdout",
     "output_type": "stream",
     "text": [
      "            Ozone  Solar   Wind   Temp\n",
      "Date                                  \n",
      "1976-05-01  False  False  False  False\n",
      "1976-05-02  False  False  False  False\n",
      "1976-05-03  False  False  False  False\n",
      "1976-05-04  False  False  False  False\n",
      "1976-05-05   True   True  False  False\n",
      "Total Missing Values:\n",
      " Ozone    37\n",
      "Solar     7\n",
      "Wind      0\n",
      "Temp      0\n",
      "dtype: int64\n"
     ]
    }
   ],
   "source": [
    "# Load the airquality dataset\n",
    "airquality = pd.read_csv('air-quality.csv', parse_dates=['Date'], index_col='Date')\n",
    "\n",
    "# Create a nullity DataFrame airquality_nullity\n",
    "airquality_nullity = airquality.isnull()\n",
    "print(airquality_nullity.head())\n",
    "\n",
    "# Calculate total of missing values\n",
    "missing_values_sum = airquality_nullity.sum()\n",
    "print('Total Missing Values:\\n', missing_values_sum)"
   ]
  },
  {
   "cell_type": "code",
   "execution_count": 37,
   "metadata": {
    "ExecuteTime": {
     "end_time": "2020-02-29T10:01:16.303316Z",
     "start_time": "2020-02-29T10:01:15.980006Z"
    }
   },
   "outputs": [
    {
     "name": "stdout",
     "output_type": "stream",
     "text": [
      "            Ozone  Solar   Wind   Temp\n",
      "Date                                  \n",
      "1976-05-01  False  False  False  False\n",
      "1976-05-02  False  False  False  False\n",
      "1976-05-03  False  False  False  False\n",
      "1976-05-04  False  False  False  False\n",
      "1976-05-05   True   True  False  False\n",
      "Total Missing Values:\n",
      " Ozone    37\n",
      "Solar     7\n",
      "Wind      0\n",
      "Temp      0\n",
      "dtype: int64\n",
      "Percentage of Missing Values:\n",
      " Ozone    24.183007\n",
      "Solar     4.575163\n",
      "Wind      0.000000\n",
      "Temp      0.000000\n",
      "dtype: float64\n"
     ]
    }
   ],
   "source": [
    "# Load the airquality dataset\n",
    "airquality = pd.read_csv('air-quality.csv', parse_dates=['Date'], index_col='Date')\n",
    "\n",
    "# Create a nullity DataFrame airquality_nullity\n",
    "airquality_nullity = airquality.isnull()\n",
    "print(airquality_nullity.head())\n",
    "\n",
    "# Calculate total of missing values\n",
    "missing_values_sum = airquality_nullity.sum()\n",
    "print('Total Missing Values:\\n', missing_values_sum)\n",
    "\n",
    "# Calculate percentage of missing values\n",
    "missing_values_percent = airquality_nullity.mean() * 100\n",
    "print('Percentage of Missing Values:\\n', missing_values_percent)"
   ]
  },
  {
   "cell_type": "code",
   "execution_count": 38,
   "metadata": {
    "ExecuteTime": {
     "end_time": "2020-02-29T13:16:02.326733Z",
     "start_time": "2020-02-29T13:16:02.310365Z"
    }
   },
   "outputs": [],
   "source": [
    "def display(p):\n",
    "  HtmlManager.getPlots().append(FigHtml([p]))"
   ]
  },
  {
   "cell_type": "code",
   "execution_count": 40,
   "metadata": {
    "ExecuteTime": {
     "end_time": "2020-02-29T13:17:58.077973Z",
     "start_time": "2020-02-29T13:17:57.170955Z"
    }
   },
   "outputs": [
    {
     "ename": "NameError",
     "evalue": "name 'HtmlManager' is not defined",
     "output_type": "error",
     "traceback": [
      "\u001b[0;31m---------------------------------------------------------------------------\u001b[0m",
      "\u001b[0;31mNameError\u001b[0m                                 Traceback (most recent call last)",
      "\u001b[0;32m<ipython-input-40-f7e62a891c43>\u001b[0m in \u001b[0;36m<module>\u001b[0;34m\u001b[0m\n\u001b[1;32m      6\u001b[0m \u001b[0;34m\u001b[0m\u001b[0m\n\u001b[1;32m      7\u001b[0m \u001b[0;31m# Display bar chart of missing values\u001b[0m\u001b[0;34m\u001b[0m\u001b[0;34m\u001b[0m\u001b[0;34m\u001b[0m\u001b[0m\n\u001b[0;32m----> 8\u001b[0;31m \u001b[0mdisplay\u001b[0m\u001b[0;34m(\u001b[0m\u001b[0;34m\"/usr/local/share/datasets/bar_chart.png\"\u001b[0m\u001b[0;34m)\u001b[0m\u001b[0;34m\u001b[0m\u001b[0;34m\u001b[0m\u001b[0m\n\u001b[0m",
      "\u001b[0;32m<ipython-input-38-30d91c731c00>\u001b[0m in \u001b[0;36mdisplay\u001b[0;34m(p)\u001b[0m\n\u001b[1;32m      1\u001b[0m \u001b[0;32mdef\u001b[0m \u001b[0mdisplay\u001b[0m\u001b[0;34m(\u001b[0m\u001b[0mp\u001b[0m\u001b[0;34m)\u001b[0m\u001b[0;34m:\u001b[0m\u001b[0;34m\u001b[0m\u001b[0;34m\u001b[0m\u001b[0m\n\u001b[0;32m----> 2\u001b[0;31m   \u001b[0mHtmlManager\u001b[0m\u001b[0;34m.\u001b[0m\u001b[0mgetPlots\u001b[0m\u001b[0;34m(\u001b[0m\u001b[0;34m)\u001b[0m\u001b[0;34m.\u001b[0m\u001b[0mappend\u001b[0m\u001b[0;34m(\u001b[0m\u001b[0mFigHtml\u001b[0m\u001b[0;34m(\u001b[0m\u001b[0;34m[\u001b[0m\u001b[0mp\u001b[0m\u001b[0;34m]\u001b[0m\u001b[0;34m)\u001b[0m\u001b[0;34m)\u001b[0m\u001b[0;34m\u001b[0m\u001b[0;34m\u001b[0m\u001b[0m\n\u001b[0m",
      "\u001b[0;31mNameError\u001b[0m: name 'HtmlManager' is not defined"
     ]
    },
    {
     "data": {
      "image/png": "[encoded data removed]",
      "text/plain": [
       "<Figure size 1728x720 with 3 Axes>"
      ]
     },
     "metadata": {
      "needs_background": "light"
     },
     "output_type": "display_data"
    }
   ],
   "source": [
    "# Import missingno as msno\n",
    "import missingno as msno\n",
    "\n",
    "# Plot amount of missingness\n",
    "msno.bar(airquality)\n",
    "\n",
    "# Display bar chart of missing values\n",
    "display(\"/usr/local/share/datasets/bar_chart.png\")"
   ]
  },
  {
   "cell_type": "code",
   "execution_count": 41,
   "metadata": {
    "ExecuteTime": {
     "end_time": "2020-02-29T13:18:27.965128Z",
     "start_time": "2020-02-29T13:18:27.460408Z"
    }
   },
   "outputs": [
    {
     "ename": "NameError",
     "evalue": "name 'HtmlManager' is not defined",
     "output_type": "error",
     "traceback": [
      "\u001b[0;31m---------------------------------------------------------------------------\u001b[0m",
      "\u001b[0;31mNameError\u001b[0m                                 Traceback (most recent call last)",
      "\u001b[0;32m<ipython-input-41-281429780a33>\u001b[0m in \u001b[0;36m<module>\u001b[0;34m\u001b[0m\n\u001b[1;32m      6\u001b[0m \u001b[0;34m\u001b[0m\u001b[0m\n\u001b[1;32m      7\u001b[0m \u001b[0;31m# Display nullity matrix\u001b[0m\u001b[0;34m\u001b[0m\u001b[0;34m\u001b[0m\u001b[0;34m\u001b[0m\u001b[0m\n\u001b[0;32m----> 8\u001b[0;31m \u001b[0mdisplay\u001b[0m\u001b[0;34m(\u001b[0m\u001b[0;34m\"/usr/local/share/datasets/matrix.png\"\u001b[0m\u001b[0;34m)\u001b[0m\u001b[0;34m\u001b[0m\u001b[0;34m\u001b[0m\u001b[0m\n\u001b[0m",
      "\u001b[0;32m<ipython-input-38-30d91c731c00>\u001b[0m in \u001b[0;36mdisplay\u001b[0;34m(p)\u001b[0m\n\u001b[1;32m      1\u001b[0m \u001b[0;32mdef\u001b[0m \u001b[0mdisplay\u001b[0m\u001b[0;34m(\u001b[0m\u001b[0mp\u001b[0m\u001b[0;34m)\u001b[0m\u001b[0;34m:\u001b[0m\u001b[0;34m\u001b[0m\u001b[0;34m\u001b[0m\u001b[0m\n\u001b[0;32m----> 2\u001b[0;31m   \u001b[0mHtmlManager\u001b[0m\u001b[0;34m.\u001b[0m\u001b[0mgetPlots\u001b[0m\u001b[0;34m(\u001b[0m\u001b[0;34m)\u001b[0m\u001b[0;34m.\u001b[0m\u001b[0mappend\u001b[0m\u001b[0;34m(\u001b[0m\u001b[0mFigHtml\u001b[0m\u001b[0;34m(\u001b[0m\u001b[0;34m[\u001b[0m\u001b[0mp\u001b[0m\u001b[0;34m]\u001b[0m\u001b[0;34m)\u001b[0m\u001b[0;34m)\u001b[0m\u001b[0;34m\u001b[0m\u001b[0;34m\u001b[0m\u001b[0m\n\u001b[0m",
      "\u001b[0;31mNameError\u001b[0m: name 'HtmlManager' is not defined"
     ]
    },
    {
     "data": {
      "image/png": "[encoded data removed]",
      "text/plain": [
       "<Figure size 1800x720 with 2 Axes>"
      ]
     },
     "metadata": {
      "needs_background": "light"
     },
     "output_type": "display_data"
    }
   ],
   "source": [
    "# Import missingno as msno\n",
    "import missingno as msno\n",
    "\n",
    "# Plot nullity matrix of airquality\n",
    "msno.matrix(airquality)\n",
    "\n",
    "# Display nullity matrix\n",
    "display(\"/usr/local/share/datasets/matrix.png\")"
   ]
  },
  {
   "cell_type": "code",
   "execution_count": 42,
   "metadata": {
    "ExecuteTime": {
     "end_time": "2020-02-29T13:19:13.332707Z",
     "start_time": "2020-02-29T13:19:12.871291Z"
    }
   },
   "outputs": [
    {
     "ename": "NameError",
     "evalue": "name 'HtmlManager' is not defined",
     "output_type": "error",
     "traceback": [
      "\u001b[0;31m---------------------------------------------------------------------------\u001b[0m",
      "\u001b[0;31mNameError\u001b[0m                                 Traceback (most recent call last)",
      "\u001b[0;32m<ipython-input-42-eb191885a6af>\u001b[0m in \u001b[0;36m<module>\u001b[0;34m\u001b[0m\n\u001b[1;32m      6\u001b[0m \u001b[0;34m\u001b[0m\u001b[0m\n\u001b[1;32m      7\u001b[0m \u001b[0;31m# Display nullity matrix\u001b[0m\u001b[0;34m\u001b[0m\u001b[0;34m\u001b[0m\u001b[0;34m\u001b[0m\u001b[0m\n\u001b[0;32m----> 8\u001b[0;31m \u001b[0mdisplay\u001b[0m\u001b[0;34m(\u001b[0m\u001b[0;34m\"/usr/local/share/datasets/matrix_frequency.png\"\u001b[0m\u001b[0;34m)\u001b[0m\u001b[0;34m\u001b[0m\u001b[0;34m\u001b[0m\u001b[0m\n\u001b[0m",
      "\u001b[0;32m<ipython-input-38-30d91c731c00>\u001b[0m in \u001b[0;36mdisplay\u001b[0;34m(p)\u001b[0m\n\u001b[1;32m      1\u001b[0m \u001b[0;32mdef\u001b[0m \u001b[0mdisplay\u001b[0m\u001b[0;34m(\u001b[0m\u001b[0mp\u001b[0m\u001b[0;34m)\u001b[0m\u001b[0;34m:\u001b[0m\u001b[0;34m\u001b[0m\u001b[0;34m\u001b[0m\u001b[0m\n\u001b[0;32m----> 2\u001b[0;31m   \u001b[0mHtmlManager\u001b[0m\u001b[0;34m.\u001b[0m\u001b[0mgetPlots\u001b[0m\u001b[0;34m(\u001b[0m\u001b[0;34m)\u001b[0m\u001b[0;34m.\u001b[0m\u001b[0mappend\u001b[0m\u001b[0;34m(\u001b[0m\u001b[0mFigHtml\u001b[0m\u001b[0;34m(\u001b[0m\u001b[0;34m[\u001b[0m\u001b[0mp\u001b[0m\u001b[0;34m]\u001b[0m\u001b[0;34m)\u001b[0m\u001b[0;34m)\u001b[0m\u001b[0;34m\u001b[0m\u001b[0;34m\u001b[0m\u001b[0m\n\u001b[0m",
      "\u001b[0;31mNameError\u001b[0m: name 'HtmlManager' is not defined"
     ]
    },
    {
     "data": {
      "image/png": "[encoded data removed]",
      "text/plain": [
       "<Figure size 1800x720 with 2 Axes>"
      ]
     },
     "metadata": {
      "needs_background": "light"
     },
     "output_type": "display_data"
    }
   ],
   "source": [
    "# Import missingno as msno\n",
    "import missingno as msno\n",
    "\n",
    "# Plot nullity matrix of airquality with frequency 'M'\n",
    "msno.matrix(airquality, freq='M')\n",
    "\n",
    "# Display nullity matrix\n",
    "display(\"/usr/local/share/datasets/matrix_frequency.png\")"
   ]
  },
  {
   "cell_type": "code",
   "execution_count": 44,
   "metadata": {
    "ExecuteTime": {
     "end_time": "2020-02-29T13:19:54.005204Z",
     "start_time": "2020-02-29T13:19:53.587276Z"
    }
   },
   "outputs": [
    {
     "ename": "NameError",
     "evalue": "name 'HtmlManager' is not defined",
     "output_type": "error",
     "traceback": [
      "\u001b[0;31m---------------------------------------------------------------------------\u001b[0m",
      "\u001b[0;31mNameError\u001b[0m                                 Traceback (most recent call last)",
      "\u001b[0;32m<ipython-input-44-5706b588c715>\u001b[0m in \u001b[0;36m<module>\u001b[0;34m\u001b[0m\n\u001b[1;32m      6\u001b[0m \u001b[0;34m\u001b[0m\u001b[0m\n\u001b[1;32m      7\u001b[0m \u001b[0;31m# Display nullity matrix\u001b[0m\u001b[0;34m\u001b[0m\u001b[0;34m\u001b[0m\u001b[0;34m\u001b[0m\u001b[0m\n\u001b[0;32m----> 8\u001b[0;31m \u001b[0mdisplay\u001b[0m\u001b[0;34m(\u001b[0m\u001b[0;34m\"/usr/local/share/datasets/matrix_sliced.png\"\u001b[0m\u001b[0;34m)\u001b[0m\u001b[0;34m\u001b[0m\u001b[0;34m\u001b[0m\u001b[0m\n\u001b[0m",
      "\u001b[0;32m<ipython-input-38-30d91c731c00>\u001b[0m in \u001b[0;36mdisplay\u001b[0;34m(p)\u001b[0m\n\u001b[1;32m      1\u001b[0m \u001b[0;32mdef\u001b[0m \u001b[0mdisplay\u001b[0m\u001b[0;34m(\u001b[0m\u001b[0mp\u001b[0m\u001b[0;34m)\u001b[0m\u001b[0;34m:\u001b[0m\u001b[0;34m\u001b[0m\u001b[0;34m\u001b[0m\u001b[0m\n\u001b[0;32m----> 2\u001b[0;31m   \u001b[0mHtmlManager\u001b[0m\u001b[0;34m.\u001b[0m\u001b[0mgetPlots\u001b[0m\u001b[0;34m(\u001b[0m\u001b[0;34m)\u001b[0m\u001b[0;34m.\u001b[0m\u001b[0mappend\u001b[0m\u001b[0;34m(\u001b[0m\u001b[0mFigHtml\u001b[0m\u001b[0;34m(\u001b[0m\u001b[0;34m[\u001b[0m\u001b[0mp\u001b[0m\u001b[0;34m]\u001b[0m\u001b[0;34m)\u001b[0m\u001b[0;34m)\u001b[0m\u001b[0;34m\u001b[0m\u001b[0;34m\u001b[0m\u001b[0m\n\u001b[0m",
      "\u001b[0;31mNameError\u001b[0m: name 'HtmlManager' is not defined"
     ]
    },
    {
     "data": {
      "image/png": "[encoded data removed]",
      "text/plain": [
       "<Figure size 1800x720 with 2 Axes>"
      ]
     },
     "metadata": {
      "needs_background": "light"
     },
     "output_type": "display_data"
    }
   ],
   "source": [
    "# Import missingno as msno\n",
    "import missingno as msno\n",
    "\n",
    "# Plot the sliced nullity matrix of airquality with frequency 'M'\n",
    "msno.matrix(airquality.loc['May-1976':'Jul-1976'], freq='M')\n",
    "\n",
    "# Display nullity matrix\n",
    "display(\"/usr/local/share/datasets/matrix_sliced.png\")"
   ]
  },
  {
   "cell_type": "code",
   "execution_count": null,
   "metadata": {},
   "outputs": [],
   "source": []
  }
 ],
 "metadata": {
  "kernelspec": {
   "display_name": "Python 3",
   "language": "python",
   "name": "python3"
  },
  "language_info": {
   "codemirror_mode": {
    "name": "ipython",
    "version": 3
   },
   "file_extension": ".py",
   "mimetype": "text/x-python",
   "name": "python",
   "nbconvert_exporter": "python",
   "pygments_lexer": "ipython3",
   "version": "3.6.9"
  },
  "toc": {
   "base_numbering": 1,
   "nav_menu": {},
   "number_sections": true,
   "sideBar": true,
   "skip_h1_title": true,
   "title_cell": "Table of Contents",
   "title_sidebar": "Contents",
   "toc_cell": true,
   "toc_position": {},
   "toc_section_display": true,
   "toc_window_display": false
  },
  "varInspector": {
   "cols": {
    "lenName": 16,
    "lenType": 16,
    "lenVar": 40
   },
   "kernels_config": {
    "python": {
     "delete_cmd_postfix": "",
     "delete_cmd_prefix": "del ",
     "library": "var_list.py",
     "varRefreshCmd": "print(var_dic_list())"
    },
    "r": {
     "delete_cmd_postfix": ") ",
     "delete_cmd_prefix": "rm(",
     "library": "var_list.r",
     "varRefreshCmd": "cat(var_dic_list()) "
    }
   },
   "types_to_exclude": [
    "module",
    "function",
    "builtin_function_or_method",
    "instance",
    "_Feature"
   ],
   "window_display": false
  }
 },
 "nbformat": 4,
 "nbformat_minor": 2
}
