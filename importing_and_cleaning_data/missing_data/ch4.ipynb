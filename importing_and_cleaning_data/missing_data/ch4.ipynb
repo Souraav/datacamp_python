{
 "cells": [
  {
   "cell_type": "markdown",
   "metadata": {
    "toc": true
   },
   "source": [
    "<h1>Table of Contents<span class=\"tocSkip\"></span></h1>\n",
    "<div class=\"toc\"><ul class=\"toc-item\"></ul></div>"
   ]
  },
  {
   "cell_type": "markdown",
   "metadata": {
    "ExecuteTime": {
     "end_time": "2020-03-02T21:44:23.755841Z",
     "start_time": "2020-03-02T21:44:23.739556Z"
    }
   },
   "source": [
    "# Chapter 4"
   ]
  },
  {
   "cell_type": "code",
   "execution_count": 4,
   "metadata": {
    "ExecuteTime": {
     "end_time": "2020-03-07T07:20:16.965271Z",
     "start_time": "2020-03-07T07:20:16.937154Z"
    }
   },
   "outputs": [
    {
     "name": "stdout",
     "output_type": "stream",
     "text": [
      "<class 'pandas.core.frame.DataFrame'>\n",
      "RangeIndex: 768 entries, 0 to 767\n",
      "Data columns (total 9 columns):\n",
      "Pregnant             768 non-null float64\n",
      "Glucose              763 non-null float64\n",
      "Diastolic_BP         733 non-null float64\n",
      "Skin_Fold            541 non-null float64\n",
      "Serum_Insulin        394 non-null float64\n",
      "BMI                  757 non-null float64\n",
      "Diabetes_Pedigree    768 non-null float64\n",
      "Age                  768 non-null int64\n",
      "Class                768 non-null float64\n",
      "dtypes: float64(8), int64(1)\n",
      "memory usage: 54.1 KB\n"
     ]
    }
   ],
   "source": [
    "import pandas as pd\n",
    "import numpy as np\n",
    "import matplotlib.pyplot as plt\n",
    "\n",
    "diabetes = pd.read_csv('diabetes.csv')\n",
    "diabetes.info()"
   ]
  },
  {
   "cell_type": "code",
   "execution_count": 5,
   "metadata": {
    "ExecuteTime": {
     "end_time": "2020-03-07T07:20:17.931233Z",
     "start_time": "2020-03-07T07:20:17.748753Z"
    }
   },
   "outputs": [
    {
     "name": "stdout",
     "output_type": "stream",
     "text": [
      "Imputing row 1/768 with 1 missing, elapsed time: 0.142\n",
      "Imputing row 101/768 with 2 missing, elapsed time: 0.146\n",
      "Imputing row 201/768 with 1 missing, elapsed time: 0.149\n",
      "Imputing row 301/768 with 3 missing, elapsed time: 0.152\n",
      "Imputing row 401/768 with 2 missing, elapsed time: 0.155\n",
      "Imputing row 501/768 with 0 missing, elapsed time: 0.157\n",
      "Imputing row 601/768 with 1 missing, elapsed time: 0.160\n",
      "Imputing row 701/768 with 0 missing, elapsed time: 0.164\n"
     ]
    }
   ],
   "source": [
    "# Import KNN from fancyimpute\n",
    "from fancyimpute import KNN\n",
    "\n",
    "# Copy diabetes to diabetes_knn_imputed\n",
    "diabetes_knn_imputed = diabetes.copy(deep=True)\n",
    "\n",
    "# Initialize KNN\n",
    "knn_imputer = KNN()\n",
    "\n",
    "# Impute using fit_tranform on diabetes_knn_imputed\n",
    "diabetes_knn_imputed.iloc[:, :] = knn_imputer.fit_transform(diabetes_knn_imputed)"
   ]
  },
  {
   "cell_type": "code",
   "execution_count": 8,
   "metadata": {
    "ExecuteTime": {
     "end_time": "2020-03-07T07:22:05.852271Z",
     "start_time": "2020-03-07T07:22:05.751730Z"
    }
   },
   "outputs": [],
   "source": [
    "# Import IterativeImputer from fancyimpute\n",
    "from fancyimpute import IterativeImputer\n",
    "\n",
    "# Copy diabetes to diabetes_mice_imputed\n",
    "diabetes_mice_imputed = diabetes.copy(deep=True)\n",
    "\n",
    "# Initialize IterativeImputer\n",
    "mice_imputer = IterativeImputer()\n",
    "\n",
    "# Impute using fit_tranform on diabetes\n",
    "diabetes_mice_imputed.iloc[:, :] = mice_imputer.fit_transform(diabetes)"
   ]
  },
  {
   "cell_type": "code",
   "execution_count": 21,
   "metadata": {
    "ExecuteTime": {
     "end_time": "2020-03-07T08:04:08.013387Z",
     "start_time": "2020-03-07T08:04:07.984668Z"
    }
   },
   "outputs": [
    {
     "name": "stdout",
     "output_type": "stream",
     "text": [
      "<class 'pandas.core.frame.DataFrame'>\n",
      "RangeIndex: 138 entries, 0 to 137\n",
      "Data columns (total 7 columns):\n",
      "smoker              135 non-null object\n",
      "drink_level         138 non-null object\n",
      "dress_preference    133 non-null object\n",
      "ambience            132 non-null object\n",
      "hijos               127 non-null object\n",
      "activity            131 non-null object\n",
      "budget              131 non-null object\n",
      "dtypes: object(7)\n",
      "memory usage: 7.6+ KB\n"
     ]
    }
   ],
   "source": [
    "from sklearn.preprocessing import OrdinalEncoder\n",
    "\n",
    "users = pd.read_csv('userprofile.csv')\n",
    "users.info()"
   ]
  },
  {
   "cell_type": "code",
   "execution_count": 12,
   "metadata": {
    "ExecuteTime": {
     "end_time": "2020-03-07T07:37:22.412317Z",
     "start_time": "2020-03-07T07:37:22.391989Z"
    }
   },
   "outputs": [],
   "source": [
    "# Create Ordinal encoder\n",
    "ambience_ord_enc = OrdinalEncoder()\n",
    "\n",
    "# Select non-null values of ambience column in users\n",
    "ambience = users['ambience']\n",
    "ambience_not_null = ambience[ambience.notnull()]\n",
    "\n",
    "# Reshape ambience_not_null to shape (-1, 1)\n",
    "reshaped_vals = ambience_not_null.values.reshape(-1, 1)\n",
    "\n",
    "# Ordinally encode reshaped_vals\n",
    "encoded_vals = ambience_ord_enc.fit_transform(reshaped_vals)\n",
    "\n",
    "# Assign back encoded values to non-null values of ambience in users\n",
    "users.loc[ambience.notnull(), 'ambience'] = np.squeeze(encoded_vals)"
   ]
  },
  {
   "cell_type": "code",
   "execution_count": 22,
   "metadata": {
    "ExecuteTime": {
     "end_time": "2020-03-07T08:04:16.400855Z",
     "start_time": "2020-03-07T08:04:16.319211Z"
    }
   },
   "outputs": [],
   "source": [
    "# Create an empty dictionary ordinal_enc_dict\n",
    "ordinal_enc_dict = {}\n",
    "\n",
    "for col_name in users:\n",
    "    # Create Ordinal encoder for col\n",
    "    ordinal_enc_dict[col_name] = OrdinalEncoder()\n",
    "    col = users[col_name]\n",
    "    \n",
    "    # Select non-null values of col\n",
    "    col_not_null = col[col.notnull()]\n",
    "    reshaped_vals = col_not_null.values.reshape(-1, 1)\n",
    "    encoded_vals = ordinal_enc_dict[col_name].fit_transform(reshaped_vals)\n",
    "    \n",
    "    # Store the values to non-null values of the column in users\n",
    "    users.loc[col.notnull(), col_name] = np.squeeze(encoded_vals)"
   ]
  },
  {
   "cell_type": "code",
   "execution_count": 24,
   "metadata": {
    "ExecuteTime": {
     "end_time": "2020-03-07T08:04:34.602246Z",
     "start_time": "2020-03-07T08:04:34.553014Z"
    }
   },
   "outputs": [
    {
     "name": "stdout",
     "output_type": "stream",
     "text": [
      "Imputing row 1/138 with 0 missing, elapsed time: 0.009\n",
      "Imputing row 101/138 with 0 missing, elapsed time: 0.010\n"
     ]
    },
    {
     "name": "stderr",
     "output_type": "stream",
     "text": [
      "/Users/Brian/anaconda3/envs/datacamp/lib/python3.6/site-packages/fancyimpute/solver.py:55: UserWarning: Input matrix is not missing any values\n",
      "  warnings.warn(\"Input matrix is not missing any values\")\n"
     ]
    }
   ],
   "source": [
    "# Create KNN imputer\n",
    "KNN_imputer = KNN()\n",
    "\n",
    "# Impute and round the users DataFrame\n",
    "users.iloc[:, :] = np.round(KNN_imputer.fit_transform(users))\n",
    "\n",
    "# Loop over the column names in users\n",
    "for col_name in users:\n",
    "    \n",
    "    # Reshape the data\n",
    "    reshaped = users[col_name].values.reshape(-1, 1)\n",
    "    \n",
    "    # Perform inverse transform of the ordinally encoded columns\n",
    "    users[col_name] = ordinal_enc_dict[col_name].inverse_transform(reshaped)"
   ]
  },
  {
   "cell_type": "code",
   "execution_count": 26,
   "metadata": {
    "ExecuteTime": {
     "end_time": "2020-03-07T10:14:44.749471Z",
     "start_time": "2020-03-07T10:14:35.035824Z"
    }
   },
   "outputs": [
    {
     "name": "stderr",
     "output_type": "stream",
     "text": [
      "/Users/Brian/anaconda3/envs/datacamp/lib/python3.6/importlib/_bootstrap.py:219: RuntimeWarning: numpy.ufunc size changed, may indicate binary incompatibility. Expected 192 from C header, got 216 from PyObject\n",
      "  return f(*args, **kwds)\n",
      "/Users/Brian/anaconda3/envs/datacamp/lib/python3.6/importlib/_bootstrap.py:219: RuntimeWarning: numpy.ufunc size changed, may indicate binary incompatibility. Expected 192 from C header, got 216 from PyObject\n",
      "  return f(*args, **kwds)\n",
      "/Users/Brian/anaconda3/envs/datacamp/lib/python3.6/importlib/_bootstrap.py:219: RuntimeWarning: numpy.ufunc size changed, may indicate binary incompatibility. Expected 192 from C header, got 216 from PyObject\n",
      "  return f(*args, **kwds)\n",
      "/Users/Brian/anaconda3/envs/datacamp/lib/python3.6/importlib/_bootstrap.py:219: RuntimeWarning: numpy.ufunc size changed, may indicate binary incompatibility. Expected 192 from C header, got 216 from PyObject\n",
      "  return f(*args, **kwds)\n",
      "/Users/Brian/anaconda3/envs/datacamp/lib/python3.6/importlib/_bootstrap.py:219: RuntimeWarning: numpy.ufunc size changed, may indicate binary incompatibility. Expected 192 from C header, got 216 from PyObject\n",
      "  return f(*args, **kwds)\n",
      "/Users/Brian/anaconda3/envs/datacamp/lib/python3.6/importlib/_bootstrap.py:219: RuntimeWarning: numpy.ufunc size changed, may indicate binary incompatibility. Expected 192 from C header, got 216 from PyObject\n",
      "  return f(*args, **kwds)\n",
      "/Users/Brian/anaconda3/envs/datacamp/lib/python3.6/importlib/_bootstrap.py:219: RuntimeWarning: numpy.ufunc size changed, may indicate binary incompatibility. Expected 192 from C header, got 216 from PyObject\n",
      "  return f(*args, **kwds)\n",
      "/Users/Brian/anaconda3/envs/datacamp/lib/python3.6/importlib/_bootstrap.py:219: RuntimeWarning: numpy.ufunc size changed, may indicate binary incompatibility. Expected 192 from C header, got 216 from PyObject\n",
      "  return f(*args, **kwds)\n",
      "/Users/Brian/anaconda3/envs/datacamp/lib/python3.6/importlib/_bootstrap.py:219: RuntimeWarning: numpy.ufunc size changed, may indicate binary incompatibility. Expected 192 from C header, got 216 from PyObject\n",
      "  return f(*args, **kwds)\n",
      "/Users/Brian/anaconda3/envs/datacamp/lib/python3.6/importlib/_bootstrap.py:219: RuntimeWarning: numpy.ufunc size changed, may indicate binary incompatibility. Expected 192 from C header, got 216 from PyObject\n",
      "  return f(*args, **kwds)\n",
      "/Users/Brian/anaconda3/envs/datacamp/lib/python3.6/importlib/_bootstrap.py:219: RuntimeWarning: numpy.ufunc size changed, may indicate binary incompatibility. Expected 192 from C header, got 216 from PyObject\n",
      "  return f(*args, **kwds)\n",
      "/Users/Brian/anaconda3/envs/datacamp/lib/python3.6/importlib/_bootstrap.py:219: RuntimeWarning: numpy.ufunc size changed, may indicate binary incompatibility. Expected 192 from C header, got 216 from PyObject\n",
      "  return f(*args, **kwds)\n",
      "/Users/Brian/anaconda3/envs/datacamp/lib/python3.6/importlib/_bootstrap.py:219: RuntimeWarning: numpy.ufunc size changed, may indicate binary incompatibility. Expected 192 from C header, got 216 from PyObject\n",
      "  return f(*args, **kwds)\n",
      "/Users/Brian/anaconda3/envs/datacamp/lib/python3.6/importlib/_bootstrap.py:219: RuntimeWarning: numpy.ufunc size changed, may indicate binary incompatibility. Expected 192 from C header, got 216 from PyObject\n",
      "  return f(*args, **kwds)\n",
      "/Users/Brian/anaconda3/envs/datacamp/lib/python3.6/importlib/_bootstrap.py:219: RuntimeWarning: numpy.ufunc size changed, may indicate binary incompatibility. Expected 192 from C header, got 216 from PyObject\n",
      "  return f(*args, **kwds)\n",
      "/Users/Brian/anaconda3/envs/datacamp/lib/python3.6/importlib/_bootstrap.py:219: RuntimeWarning: numpy.ufunc size changed, may indicate binary incompatibility. Expected 192 from C header, got 216 from PyObject\n",
      "  return f(*args, **kwds)\n",
      "/Users/Brian/anaconda3/envs/datacamp/lib/python3.6/importlib/_bootstrap.py:219: RuntimeWarning: numpy.ufunc size changed, may indicate binary incompatibility. Expected 192 from C header, got 216 from PyObject\n",
      "  return f(*args, **kwds)\n",
      "/Users/Brian/anaconda3/envs/datacamp/lib/python3.6/importlib/_bootstrap.py:219: RuntimeWarning: numpy.ufunc size changed, may indicate binary incompatibility. Expected 192 from C header, got 216 from PyObject\n",
      "  return f(*args, **kwds)\n",
      "/Users/Brian/anaconda3/envs/datacamp/lib/python3.6/importlib/_bootstrap.py:219: RuntimeWarning: numpy.ufunc size changed, may indicate binary incompatibility. Expected 192 from C header, got 216 from PyObject\n",
      "  return f(*args, **kwds)\n",
      "/Users/Brian/anaconda3/envs/datacamp/lib/python3.6/importlib/_bootstrap.py:219: RuntimeWarning: numpy.ufunc size changed, may indicate binary incompatibility. Expected 192 from C header, got 216 from PyObject\n",
      "  return f(*args, **kwds)\n",
      "/Users/Brian/anaconda3/envs/datacamp/lib/python3.6/importlib/_bootstrap.py:219: RuntimeWarning: numpy.ufunc size changed, may indicate binary incompatibility. Expected 192 from C header, got 216 from PyObject\n",
      "  return f(*args, **kwds)\n",
      "/Users/Brian/anaconda3/envs/datacamp/lib/python3.6/importlib/_bootstrap.py:219: RuntimeWarning: numpy.ufunc size changed, may indicate binary incompatibility. Expected 192 from C header, got 216 from PyObject\n",
      "  return f(*args, **kwds)\n",
      "/Users/Brian/anaconda3/envs/datacamp/lib/python3.6/importlib/_bootstrap.py:219: RuntimeWarning: numpy.ufunc size changed, may indicate binary incompatibility. Expected 192 from C header, got 216 from PyObject\n",
      "  return f(*args, **kwds)\n",
      "/Users/Brian/anaconda3/envs/datacamp/lib/python3.6/importlib/_bootstrap.py:219: RuntimeWarning: numpy.ufunc size changed, may indicate binary incompatibility. Expected 192 from C header, got 216 from PyObject\n",
      "  return f(*args, **kwds)\n",
      "/Users/Brian/anaconda3/envs/datacamp/lib/python3.6/importlib/_bootstrap.py:219: RuntimeWarning: numpy.ufunc size changed, may indicate binary incompatibility. Expected 192 from C header, got 216 from PyObject\n",
      "  return f(*args, **kwds)\n",
      "/Users/Brian/anaconda3/envs/datacamp/lib/python3.6/importlib/_bootstrap.py:219: RuntimeWarning: numpy.ufunc size changed, may indicate binary incompatibility. Expected 192 from C header, got 216 from PyObject\n",
      "  return f(*args, **kwds)\n"
     ]
    }
   ],
   "source": [
    "import statsmodels.api as sm"
   ]
  },
  {
   "cell_type": "code",
   "execution_count": 31,
   "metadata": {
    "ExecuteTime": {
     "end_time": "2020-03-07T10:16:57.718679Z",
     "start_time": "2020-03-07T10:16:57.707478Z"
    }
   },
   "outputs": [],
   "source": [
    "diabetes_cc = diabetes.copy(deep=True).dropna()"
   ]
  },
  {
   "cell_type": "code",
   "execution_count": 33,
   "metadata": {
    "ExecuteTime": {
     "end_time": "2020-03-07T10:19:19.985244Z",
     "start_time": "2020-03-07T10:19:19.957150Z"
    }
   },
   "outputs": [],
   "source": [
    "# Add constant to X and set X & y values to fit linear model\n",
    "X = sm.add_constant(diabetes_cc.drop('Class', axis=1))\n",
    "y = diabetes_cc['Class']\n",
    "lm = sm.OLS(y, X).fit()"
   ]
  },
  {
   "cell_type": "code",
   "execution_count": 30,
   "metadata": {
    "ExecuteTime": {
     "end_time": "2020-03-07T10:16:48.492840Z",
     "start_time": "2020-03-07T10:16:48.468469Z"
    }
   },
   "outputs": [
    {
     "name": "stdout",
     "output_type": "stream",
     "text": [
      "<class 'pandas.core.frame.DataFrame'>\n",
      "Int64Index: 392 entries, 3 to 765\n",
      "Data columns (total 9 columns):\n",
      "Pregnant             392 non-null float64\n",
      "Glucose              392 non-null float64\n",
      "Diastolic_BP         392 non-null float64\n",
      "Skin_Fold            392 non-null float64\n",
      "Serum_Insulin        392 non-null float64\n",
      "BMI                  392 non-null float64\n",
      "Diabetes_Pedigree    392 non-null float64\n",
      "Age                  392 non-null int64\n",
      "Class                392 non-null float64\n",
      "dtypes: float64(8), int64(1)\n",
      "memory usage: 30.6 KB\n"
     ]
    }
   ],
   "source": [
    "diabetes.dropna().info()"
   ]
  },
  {
   "cell_type": "code",
   "execution_count": 34,
   "metadata": {
    "ExecuteTime": {
     "end_time": "2020-03-07T10:19:50.318947Z",
     "start_time": "2020-03-07T10:19:50.261989Z"
    }
   },
   "outputs": [
    {
     "name": "stdout",
     "output_type": "stream",
     "text": [
      "\n",
      "Summary:                              OLS Regression Results                            \n",
      "==============================================================================\n",
      "Dep. Variable:                  Class   R-squared:                       0.346\n",
      "Model:                            OLS   Adj. R-squared:                  0.332\n",
      "Method:                 Least Squares   F-statistic:                     25.30\n",
      "Date:                Sat, 07 Mar 2020   Prob (F-statistic):           2.65e-31\n",
      "Time:                        10:19:50   Log-Likelihood:                -177.76\n",
      "No. Observations:                 392   AIC:                             373.5\n",
      "Df Residuals:                     383   BIC:                             409.3\n",
      "Df Model:                           8                                         \n",
      "Covariance Type:            nonrobust                                         \n",
      "=====================================================================================\n",
      "                        coef    std err          t      P>|t|      [0.025      0.975]\n",
      "-------------------------------------------------------------------------------------\n",
      "const                -1.1027      0.144     -7.681      0.000      -1.385      -0.820\n",
      "Pregnant              0.0130      0.008      1.549      0.122      -0.003       0.029\n",
      "Glucose               0.0064      0.001      7.855      0.000       0.005       0.008\n",
      "Diastolic_BP       5.465e-05      0.002      0.032      0.975      -0.003       0.003\n",
      "Skin_Fold             0.0017      0.003      0.665      0.506      -0.003       0.007\n",
      "Serum_Insulin        -0.0001      0.000     -0.603      0.547      -0.001       0.000\n",
      "BMI                   0.0093      0.004      2.391      0.017       0.002       0.017\n",
      "Diabetes_Pedigree     0.1572      0.058      2.708      0.007       0.043       0.271\n",
      "Age                   0.0059      0.003      2.109      0.036       0.000       0.011\n",
      "==============================================================================\n",
      "Omnibus:                        9.511   Durbin-Watson:                   1.920\n",
      "Prob(Omnibus):                  0.009   Jarque-Bera (JB):                9.387\n",
      "Skew:                           0.344   Prob(JB):                      0.00916\n",
      "Kurtosis:                       2.682   Cond. No.                     1.77e+03\n",
      "==============================================================================\n",
      "\n",
      "Warnings:\n",
      "[1] Standard Errors assume that the covariance matrix of the errors is correctly specified.\n",
      "[2] The condition number is large, 1.77e+03. This might indicate that there are\n",
      "strong multicollinearity or other numerical problems.\n"
     ]
    }
   ],
   "source": [
    "# Add constant to X and set X & y values to fit linear model\n",
    "X = sm.add_constant(diabetes_cc.iloc[:, :-1])\n",
    "y = diabetes_cc['Class']\n",
    "lm = sm.OLS(y, X).fit()\n",
    "\n",
    "# Print summary of lm\n",
    "print('\\nSummary: ', lm.summary())"
   ]
  },
  {
   "cell_type": "code",
   "execution_count": 36,
   "metadata": {
    "ExecuteTime": {
     "end_time": "2020-03-07T10:25:18.139278Z",
     "start_time": "2020-03-07T10:25:18.081308Z"
    }
   },
   "outputs": [
    {
     "name": "stdout",
     "output_type": "stream",
     "text": [
      "\n",
      "Summary:                              OLS Regression Results                            \n",
      "==============================================================================\n",
      "Dep. Variable:                  Class   R-squared:                       0.346\n",
      "Model:                            OLS   Adj. R-squared:                  0.332\n",
      "Method:                 Least Squares   F-statistic:                     25.30\n",
      "Date:                Sat, 07 Mar 2020   Prob (F-statistic):           2.65e-31\n",
      "Time:                        10:25:18   Log-Likelihood:                -177.76\n",
      "No. Observations:                 392   AIC:                             373.5\n",
      "Df Residuals:                     383   BIC:                             409.3\n",
      "Df Model:                           8                                         \n",
      "Covariance Type:            nonrobust                                         \n",
      "=====================================================================================\n",
      "                        coef    std err          t      P>|t|      [0.025      0.975]\n",
      "-------------------------------------------------------------------------------------\n",
      "const                -1.1027      0.144     -7.681      0.000      -1.385      -0.820\n",
      "Pregnant              0.0130      0.008      1.549      0.122      -0.003       0.029\n",
      "Glucose               0.0064      0.001      7.855      0.000       0.005       0.008\n",
      "Diastolic_BP       5.465e-05      0.002      0.032      0.975      -0.003       0.003\n",
      "Skin_Fold             0.0017      0.003      0.665      0.506      -0.003       0.007\n",
      "Serum_Insulin        -0.0001      0.000     -0.603      0.547      -0.001       0.000\n",
      "BMI                   0.0093      0.004      2.391      0.017       0.002       0.017\n",
      "Diabetes_Pedigree     0.1572      0.058      2.708      0.007       0.043       0.271\n",
      "Age                   0.0059      0.003      2.109      0.036       0.000       0.011\n",
      "==============================================================================\n",
      "Omnibus:                        9.511   Durbin-Watson:                   1.920\n",
      "Prob(Omnibus):                  0.009   Jarque-Bera (JB):                9.387\n",
      "Skew:                           0.344   Prob(JB):                      0.00916\n",
      "Kurtosis:                       2.682   Cond. No.                     1.77e+03\n",
      "==============================================================================\n",
      "\n",
      "Warnings:\n",
      "[1] Standard Errors assume that the covariance matrix of the errors is correctly specified.\n",
      "[2] The condition number is large, 1.77e+03. This might indicate that there are\n",
      "strong multicollinearity or other numerical problems.\n",
      "\n",
      "Adjusted R-squared score:  0.33210805003287613\n"
     ]
    }
   ],
   "source": [
    "# Add constant to X and set X & y values to fit linear model\n",
    "X = sm.add_constant(diabetes_cc.iloc[:, :-1])\n",
    "y = diabetes_cc['Class']\n",
    "lm = sm.OLS(y, X).fit()\n",
    "\n",
    "# Print summary of lm\n",
    "print('\\nSummary: ', lm.summary())\n",
    "\n",
    "# Print R squared score of lm\n",
    "print('\\nAdjusted R-squared score: ', lm.rsquared_adj)"
   ]
  },
  {
   "cell_type": "code",
   "execution_count": 37,
   "metadata": {
    "ExecuteTime": {
     "end_time": "2020-03-07T10:25:46.987331Z",
     "start_time": "2020-03-07T10:25:46.944384Z"
    }
   },
   "outputs": [
    {
     "name": "stdout",
     "output_type": "stream",
     "text": [
      "\n",
      "Summary:                              OLS Regression Results                            \n",
      "==============================================================================\n",
      "Dep. Variable:                  Class   R-squared:                       0.346\n",
      "Model:                            OLS   Adj. R-squared:                  0.332\n",
      "Method:                 Least Squares   F-statistic:                     25.30\n",
      "Date:                Sat, 07 Mar 2020   Prob (F-statistic):           2.65e-31\n",
      "Time:                        10:25:46   Log-Likelihood:                -177.76\n",
      "No. Observations:                 392   AIC:                             373.5\n",
      "Df Residuals:                     383   BIC:                             409.3\n",
      "Df Model:                           8                                         \n",
      "Covariance Type:            nonrobust                                         \n",
      "=====================================================================================\n",
      "                        coef    std err          t      P>|t|      [0.025      0.975]\n",
      "-------------------------------------------------------------------------------------\n",
      "const                -1.1027      0.144     -7.681      0.000      -1.385      -0.820\n",
      "Pregnant              0.0130      0.008      1.549      0.122      -0.003       0.029\n",
      "Glucose               0.0064      0.001      7.855      0.000       0.005       0.008\n",
      "Diastolic_BP       5.465e-05      0.002      0.032      0.975      -0.003       0.003\n",
      "Skin_Fold             0.0017      0.003      0.665      0.506      -0.003       0.007\n",
      "Serum_Insulin        -0.0001      0.000     -0.603      0.547      -0.001       0.000\n",
      "BMI                   0.0093      0.004      2.391      0.017       0.002       0.017\n",
      "Diabetes_Pedigree     0.1572      0.058      2.708      0.007       0.043       0.271\n",
      "Age                   0.0059      0.003      2.109      0.036       0.000       0.011\n",
      "==============================================================================\n",
      "Omnibus:                        9.511   Durbin-Watson:                   1.920\n",
      "Prob(Omnibus):                  0.009   Jarque-Bera (JB):                9.387\n",
      "Skew:                           0.344   Prob(JB):                      0.00916\n",
      "Kurtosis:                       2.682   Cond. No.                     1.77e+03\n",
      "==============================================================================\n",
      "\n",
      "Warnings:\n",
      "[1] Standard Errors assume that the covariance matrix of the errors is correctly specified.\n",
      "[2] The condition number is large, 1.77e+03. This might indicate that there are\n",
      "strong multicollinearity or other numerical problems.\n",
      "\n",
      "Adjusted R-squared score:  0.33210805003287613\n",
      "\n",
      "Coefficcients:\n",
      " const               -1.102677\n",
      "Pregnant             0.012953\n",
      "Glucose              0.006409\n",
      "Diastolic_BP         0.000055\n",
      "Skin_Fold            0.001678\n",
      "Serum_Insulin       -0.000123\n",
      "BMI                  0.009325\n",
      "Diabetes_Pedigree    0.157192\n",
      "Age                  0.005878\n",
      "dtype: float64\n"
     ]
    }
   ],
   "source": [
    "# Add constant to X and set X & y values to fit linear model\n",
    "X = sm.add_constant(diabetes_cc.iloc[:, :-1])\n",
    "y = diabetes_cc['Class']\n",
    "lm = sm.OLS(y, X).fit()\n",
    "\n",
    "# Print summary of lm\n",
    "print('\\nSummary: ', lm.summary())\n",
    "\n",
    "# Print R squared score of lm\n",
    "print('\\nAdjusted R-squared score: ', lm.rsquared_adj)\n",
    "\n",
    "# Print the params of lm\n",
    "print('\\nCoefficcients:\\n', lm.params)"
   ]
  },
  {
   "cell_type": "code",
   "execution_count": 125,
   "metadata": {
    "ExecuteTime": {
     "end_time": "2020-03-07T16:43:48.350182Z",
     "start_time": "2020-03-07T16:43:48.287147Z"
    }
   },
   "outputs": [],
   "source": [
    "import statsmodels.api as sm\n",
    "\n",
    "diabetes_cc = diabetes.copy(deep=True).dropna()\n",
    "\n",
    "# Add constant to X and set X & y values to fit linear model\n",
    "target = 'Class'\n",
    "X = sm.add_constant(diabetes_cc.drop(target, axis=1))\n",
    "y = diabetes_cc[target]\n",
    "\n",
    "#imp = SimpleImputer(strategy='mean')\n",
    "#X_imp = imp.fit_transform(X)\n",
    "\n",
    "lm = sm.OLS(y, X).fit()"
   ]
  },
  {
   "cell_type": "code",
   "execution_count": 135,
   "metadata": {
    "ExecuteTime": {
     "end_time": "2020-03-07T16:50:32.209479Z",
     "start_time": "2020-03-07T16:50:32.171109Z"
    }
   },
   "outputs": [],
   "source": [
    "from sklearn.impute import SimpleImputer\n",
    "import statsmodels.api as sm\n",
    "\n",
    "diabetes_cc = diabetes.copy(deep=True)\n",
    "\n",
    "# Add constant to X and set X & y values to fit linear model\n",
    "target = 'Class'\n",
    "X = sm.add_constant(diabetes_cc.drop(target, axis=1))\n",
    "y = diabetes_cc[target]\n",
    "\n",
    "imp = SimpleImputer(strategy='mean')\n",
    "X_imp = imp.fit_transform(X)\n",
    "colnames = ['Constant']\n",
    "colnames.extend(diabetes_cc.drop(target, axis=1).columns.values.tolist())\n",
    "X_imp = pd.DataFrame(X_imp, columns=colnames)\n",
    "diabetes_mean_imputed = pd.concat([X_imp, y], axis=1)\n",
    "\n",
    "lm_mean = sm.OLS(y, X_imp).fit()"
   ]
  },
  {
   "cell_type": "code",
   "execution_count": 136,
   "metadata": {
    "ExecuteTime": {
     "end_time": "2020-03-07T16:51:00.429355Z",
     "start_time": "2020-03-07T16:51:00.147036Z"
    }
   },
   "outputs": [
    {
     "name": "stdout",
     "output_type": "stream",
     "text": [
      "Imputing row 1/768 with 1 missing, elapsed time: 0.194\n",
      "Imputing row 101/768 with 2 missing, elapsed time: 0.201\n",
      "Imputing row 201/768 with 1 missing, elapsed time: 0.206\n",
      "Imputing row 301/768 with 3 missing, elapsed time: 0.212\n",
      "Imputing row 401/768 with 2 missing, elapsed time: 0.217\n",
      "Imputing row 501/768 with 0 missing, elapsed time: 0.223\n",
      "Imputing row 601/768 with 1 missing, elapsed time: 0.228\n",
      "Imputing row 701/768 with 0 missing, elapsed time: 0.235\n"
     ]
    }
   ],
   "source": [
    "from fancyimpute import KNN\n",
    "import statsmodels.api as sm\n",
    "\n",
    "diabetes_cc = diabetes.copy(deep=True)\n",
    "\n",
    "# Add constant to X and set X & y values to fit linear model\n",
    "target = 'Class'\n",
    "X = sm.add_constant(diabetes_cc.drop(target, axis=1))\n",
    "y = diabetes_cc[target]\n",
    "\n",
    "imp = KNN()\n",
    "X_imp = imp.fit_transform(X)\n",
    "colnames = ['Constant']\n",
    "colnames.extend(diabetes_cc.drop(target, axis=1).columns.values.tolist())\n",
    "X_imp = pd.DataFrame(X_imp, columns=colnames)\n",
    "diabetes_knn_imputed = pd.concat([X_imp, y], axis=1)\n",
    "\n",
    "lm_KNN = sm.OLS(y, X_imp).fit()"
   ]
  },
  {
   "cell_type": "code",
   "execution_count": 137,
   "metadata": {
    "ExecuteTime": {
     "end_time": "2020-03-07T16:51:01.288482Z",
     "start_time": "2020-03-07T16:51:01.126288Z"
    }
   },
   "outputs": [],
   "source": [
    "from fancyimpute import IterativeImputer\n",
    "import statsmodels.api as sm\n",
    "\n",
    "diabetes_cc = diabetes.copy(deep=True)\n",
    "\n",
    "# Add constant to X and set X & y values to fit linear model\n",
    "target = 'Class'\n",
    "X = sm.add_constant(diabetes_cc.drop(target, axis=1))\n",
    "y = diabetes_cc[target]\n",
    "\n",
    "imp = IterativeImputer()\n",
    "X_imp = imp.fit_transform(X)\n",
    "colnames = ['Constant']\n",
    "colnames.extend(diabetes_cc.drop(target, axis=1).columns.values.tolist())\n",
    "X_imp = pd.DataFrame(X_imp, columns=colnames)\n",
    "diabetes_mice_imputed = pd.concat([X_imp, y], axis=1)\n",
    "\n",
    "lm_MICE = sm.OLS(y, X_imp).fit()"
   ]
  },
  {
   "cell_type": "code",
   "execution_count": 138,
   "metadata": {
    "ExecuteTime": {
     "end_time": "2020-03-07T16:51:02.215701Z",
     "start_time": "2020-03-07T16:51:02.169522Z"
    }
   },
   "outputs": [
    {
     "name": "stdout",
     "output_type": "stream",
     "text": [
      "                   Complete Case  Mean Imputation  KNN Imputation  MICE Imputation\n",
      "Age                     0.005878         0.002092        0.002051         0.002066\n",
      "BMI                     0.009325         0.014376        0.013158         0.014190\n",
      "Constant                     NaN        -1.024005       -1.029243        -1.034711\n",
      "Diabetes_Pedigree       0.157192         0.129282        0.127876         0.128459\n",
      "Diastolic_BP            0.000055        -0.001137       -0.001191        -0.001208\n",
      "Glucose                 0.006409         0.006467        0.006607         0.006626\n",
      "Pregnant                0.012953         0.020693        0.020039         0.020435\n",
      "Serum_Insulin          -0.000123        -0.000090       -0.000136        -0.000115\n",
      "Skin_Fold               0.001678         0.000193        0.001706         0.000499\n",
      "const                  -1.102677              NaN             NaN              NaN\n"
     ]
    }
   ],
   "source": [
    "# Store the coefficients of the linear models\n",
    "coeff = pd.DataFrame({'Complete Case': lm.params, \n",
    "                      'Mean Imputation': lm_mean.params, \n",
    "                      'KNN Imputation': lm_KNN.params, \n",
    "                      'MICE Imputation': lm_MICE.params})\n",
    "\n",
    "print(coeff)"
   ]
  },
  {
   "cell_type": "code",
   "execution_count": 139,
   "metadata": {
    "ExecuteTime": {
     "end_time": "2020-03-07T16:51:02.985229Z",
     "start_time": "2020-03-07T16:51:02.967792Z"
    }
   },
   "outputs": [
    {
     "name": "stdout",
     "output_type": "stream",
     "text": [
      "The best imputation technique is:  KNN Imputation\n"
     ]
    }
   ],
   "source": [
    "r_squares = {'Mean Imputation': lm_mean.rsquared_adj, \n",
    "             'KNN Imputation': lm_KNN.rsquared_adj, \n",
    "             'MICE Imputation': lm_MICE.rsquared_adj}\n",
    "\n",
    "# Select best R-squared\n",
    "best_imputation = max(r_squares, key=r_squares.get)\n",
    "\n",
    "print(\"The best imputation technique is: \", best_imputation)"
   ]
  },
  {
   "cell_type": "code",
   "execution_count": 143,
   "metadata": {
    "ExecuteTime": {
     "end_time": "2020-03-07T16:52:18.768173Z",
     "start_time": "2020-03-07T16:52:18.293972Z"
    }
   },
   "outputs": [
    {
     "data": {
      "image/png": "[encoded data removed]",
      "text/plain": [
       "<Figure size 432x288 with 1 Axes>"
      ]
     },
     "metadata": {
      "needs_background": "light"
     },
     "output_type": "display_data"
    }
   ],
   "source": [
    "# Plot graphs of imputed DataFrames and the complete case\n",
    "diabetes_cc['Skin_Fold'].plot(kind='kde', c='red', linewidth=3)\n",
    "diabetes_mean_imputed['Skin_Fold'].plot(kind='kde')\n",
    "diabetes_knn_imputed['Skin_Fold'].plot(kind='kde')\n",
    "diabetes_mice_imputed['Skin_Fold'].plot(kind='kde')\n",
    "\n",
    "# Create labels for the four DataFrames\n",
    "labels = ['Baseline (Complete Case)', 'Mean Imputation', 'KNN Imputation', 'MICE Imputation']\n",
    "plt.legend(labels)\n",
    "\n",
    "# Set the x-label as Skin Fold\n",
    "plt.xlabel('Skin Fold')\n",
    "\n",
    "plt.show()"
   ]
  },
  {
   "cell_type": "code",
   "execution_count": null,
   "metadata": {},
   "outputs": [],
   "source": []
  }
 ],
 "metadata": {
  "kernelspec": {
   "display_name": "Python 3",
   "language": "python",
   "name": "python3"
  },
  "language_info": {
   "codemirror_mode": {
    "name": "ipython",
    "version": 3
   },
   "file_extension": ".py",
   "mimetype": "text/x-python",
   "name": "python",
   "nbconvert_exporter": "python",
   "pygments_lexer": "ipython3",
   "version": "3.6.9"
  },
  "toc": {
   "base_numbering": 1,
   "nav_menu": {},
   "number_sections": true,
   "sideBar": true,
   "skip_h1_title": true,
   "title_cell": "Table of Contents",
   "title_sidebar": "Contents",
   "toc_cell": true,
   "toc_position": {},
   "toc_section_display": true,
   "toc_window_display": false
  },
  "varInspector": {
   "cols": {
    "lenName": 16,
    "lenType": 16,
    "lenVar": 40
   },
   "kernels_config": {
    "python": {
     "delete_cmd_postfix": "",
     "delete_cmd_prefix": "del ",
     "library": "var_list.py",
     "varRefreshCmd": "print(var_dic_list())"
    },
    "r": {
     "delete_cmd_postfix": ") ",
     "delete_cmd_prefix": "rm(",
     "library": "var_list.r",
     "varRefreshCmd": "cat(var_dic_list()) "
    }
   },
   "types_to_exclude": [
    "module",
    "function",
    "builtin_function_or_method",
    "instance",
    "_Feature"
   ],
   "window_display": false
  }
 },
 "nbformat": 4,
 "nbformat_minor": 2
}
